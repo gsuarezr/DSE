{
 "cells": [
  {
   "cell_type": "code",
   "execution_count": 1,
   "metadata": {},
   "outputs": [],
   "source": [
    "from qutip import tensor,qeye,destroy,sigmaz,sigmax,sigmay,mesolve,basis,heom\n",
    "import numpy as np\n",
    "import matplotlib.pyplot as plt\n",
    "from qutip.solver.heom import BathExponent\n",
    "\n",
    "class pseudomode:\n",
    "    def __init__(self,Hsys,Q,bath):\n",
    "        self.Hsys=Hsys\n",
    "        self.Q=Q\n",
    "        self.bath=bath\n",
    "        self.coefficients()\n",
    "    def coefficients(self):\n",
    "        cks=np.zeros(len(self.bath.exponents)//2,dtype=np.complex128)\n",
    "        vks=np.zeros(len(self.bath.exponents)//2,dtype=np.complex128)\n",
    "        seen=set()\n",
    "        i=0\n",
    "        for exp in self.bath.exponents:\n",
    "            if exp.vk not in seen:\n",
    "                if exp.type ==BathExponent.types[\"R\"]:\n",
    "                    cks[i]=2*exp.ck \n",
    "                else:\n",
    "                    cks[i]=2j*exp.ck\n",
    "                vks[i]=-exp.vk\n",
    "                seen.add(exp.vk.conjugate())\n",
    "                i=i+1\n",
    "        self.cks=cks\n",
    "        self.vks=vks\n",
    "    def tensor_id(self,pos,cutoff=2,op=None):\n",
    "        temp=[qeye(cutoff)]*(len(self.cks)+1)\n",
    "        if pos!=0:\n",
    "            temp[0]=qeye(self.Hsys.shape[0])\n",
    "            temp[pos]=destroy(cutoff)\n",
    "        else:\n",
    "            temp[0]=op\n",
    "        return tensor(temp)\n",
    "    def hamiltonian(self,cutoff=2):\n",
    "        Hsys=self.tensor_id(0,cutoff,self.Hsys)\n",
    "        Q=self.tensor_id(0,cutoff,self.Q)\n",
    "        destroys=[self.tensor_id(i+1,cutoff) for i in range(len(self.cks))]\n",
    "        for i in destroys:\n",
    "            i.dims=Hsys.dims\n",
    "        Hpm=sum([np.sqrt(-np.imag(i))*destroys[k].dag()*destroys[k] for k,i in enumerate(self.vks) ])\n",
    "        Hsys_pm=sum([i*(destroys[k].dag()+destroys[k])*Q for k,i in enumerate(self.cks) ])\n",
    "        Heff=Hsys+Hsys_pm+Hpm\n",
    "        return Heff,destroys\n",
    "    def power_spectrum(self,w):\n",
    "        S=0\n",
    "        for i in range(len(self.cks)):\n",
    "            S += 2 * np.real(self.cks[i] / (self.vks[i] - 1j*w))\n",
    "        return S\n",
    "    def prepare(self,cutoff,initial):\n",
    "        init=[initial]+[basis(cutoff,0)]*(len(self.cks))\n",
    "        psi02 = tensor(init)\n",
    "        psi02=psi02*psi02.dag()\n",
    "        return psi02.to(\"CSR\")\n",
    "    \n",
    "    def evolution(self,initial,cutoff,t,e_ops=[]):\n",
    "        Heff,d=self.hamiltonian(cutoff)\n",
    "        initial=self.prepare(cutoff,initial)\n",
    "        e_ops=[self.tensor_id(0,cutoff,i) for i in e_ops]\n",
    "        c_ops =sum([np.sqrt(-2*np.real(i)+0j)*d[k] for k,i in enumerate(self.vks) ])\n",
    "        print(initial.dims)\n",
    "        print(Heff.dims)\n",
    "        print(c_ops.dims)\n",
    "        return mesolve(Heff, initial, t, c_ops, e_ops)\n"
   ]
  },
  {
   "cell_type": "code",
   "execution_count": 2,
   "metadata": {},
   "outputs": [],
   "source": [
    "N = 3\n",
    "g=1\n",
    "J=5*g\n",
    "# initial state\n",
    "state_list = [basis(2, 1)] + [basis(2, 0)] * (N - 1)\n",
    "psi0 = tensor(state_list)\n",
    "\n",
    "sx_list, sy_list, sz_list = [], [], []\n",
    "for i in range(N):\n",
    "    op_list = [qeye(2)] * N\n",
    "    op_list[i] = sigmax()\n",
    "    sx_list.append(tensor(op_list))\n",
    "    op_list[i] = sigmay()\n",
    "    sy_list.append(tensor(op_list))\n",
    "    op_list[i] = sigmaz()\n",
    "    sz_list.append(tensor(op_list))\n",
    "\n",
    "# Hamiltonian - Energy splitting terms\n",
    "H = 0\n",
    "for i in range(N):\n",
    "    H += g* sz_list[i]\n",
    "\n",
    "for n in range(N - 1):\n",
    "    H += -J* sx_list[n] * sx_list[n + 1]\n"
   ]
  },
  {
   "cell_type": "code",
   "execution_count": 3,
   "metadata": {},
   "outputs": [],
   "source": [
    "\n",
    "E01=H.eigenenergies()[2]-H.eigenenergies()[0]# Raise this question about the paper \n",
    "gamma=3.8*g\n",
    "w0=1.2*E01\n",
    "Gamma=gamma/2\n",
    "Omega=np.sqrt(w0**2 -Gamma**2 +0j)\n",
    "lam=1.15*g*np.sqrt(Omega)"
   ]
  },
  {
   "cell_type": "code",
   "execution_count": 4,
   "metadata": {},
   "outputs": [
    {
     "name": "stderr",
     "output_type": "stream",
     "text": [
      "/home/mcditoos/qutip_gsoc_app/qutip/solver/heom/bofin_baths.py:425: RuntimeWarning: overflow encountered in exp\n",
      "  return (1 / (np.exp(w / self.T) - 1))\n"
     ]
    }
   ],
   "source": [
    "times = np.linspace(0, 10, 500)\n",
    "bath=heom.UnderDampedBath(sz_list[-1],lam+0j,gamma+0j,w0,1e-18,5) # functions don't take zero because 1/T should be fixed\n",
    "C=bath.correlation_function(times)"
   ]
  },
  {
   "cell_type": "code",
   "execution_count": 5,
   "metadata": {},
   "outputs": [
    {
     "name": "stdout",
     "output_type": "stream",
     "text": [
      "Fit correlation class instance: \n",
      " \n",
      "Result of fitting The Real Part Of                                      |Result of fitting The Imaginary Part                                    \n",
      " the Correlation Function with 2 terms:                                 | Of the Correlation Function with 1 terms:                              \n",
      "                                                                        |                                                                        \n",
      " Parameters|    a     |    b     |    c                                 | Parameters|    a     |    b     |    c                                 \n",
      " 1         | 6.69e-01 |-1.92e+00 |1.10e+01                              | 1         |-6.61e-01 |-1.90e+00 |1.10e+01                              \n",
      " 2         |-7.61e-02 |-9.66e+00 |7.18e-09                              |                                                                        \n",
      "                                                                        |A  normalized RMSE of  1.33e-11 was obtained for the The Imaginary Part \n",
      "A  normalized RMSE of  3.14e-05 was obtained for the The Real Part Of   | Of the Correlation Function                                            \n",
      " the Correlation Function                                               |                                                                        \n",
      " The current fit took  0.106994 seconds                                 | The current fit took  0.015995 seconds                                 \n",
      "\n"
     ]
    }
   ],
   "source": [
    "cfiitter=heom.CorrelationFitter(sx_list[-1],0,times,C)\n",
    "fbath,finfo=cfiitter.get_fit(Ni=1,Nr=2)\n",
    "print(finfo['summary']) #notice one mode is also a pretty good approximation, maybe for this tiny examples r^{2}, might be better than RMSE"
   ]
  },
  {
   "cell_type": "code",
   "execution_count": 6,
   "metadata": {},
   "outputs": [
    {
     "data": {
      "text/plain": [
       "((0.6612499999999999+0j), (10.983541778938223+0j), 1.9)"
      ]
     },
     "execution_count": 6,
     "metadata": {},
     "output_type": "execute_result"
    }
   ],
   "source": [
    "lam**2/(2*Omega), Omega, Gamma, # Imaginary part is just the C0th component"
   ]
  },
  {
   "cell_type": "code",
   "execution_count": 7,
   "metadata": {},
   "outputs": [
    {
     "data": {
      "text/plain": [
       "[<matplotlib.lines.Line2D at 0x7fb5e85efb90>]"
      ]
     },
     "execution_count": 7,
     "metadata": {},
     "output_type": "execute_result"
    },
    {
     "data": {
      "image/png": "[encoded data removed]",
      "text/plain": [
       "<Figure size 640x480 with 1 Axes>"
      ]
     },
     "metadata": {},
     "output_type": "display_data"
    }
   ],
   "source": [
    "plt.plot(times,np.real(fbath.correlation_function_approx(times)))\n",
    "plt.plot(times,np.real(C),'-.')"
   ]
  },
  {
   "cell_type": "code",
   "execution_count": 8,
   "metadata": {},
   "outputs": [
    {
     "data": {
      "text/plain": [
       "[<matplotlib.lines.Line2D at 0x7fb5e888b0d0>]"
      ]
     },
     "execution_count": 8,
     "metadata": {},
     "output_type": "execute_result"
    },
    {
     "data": {
      "image/png": "[encoded data removed]",
      "text/plain": [
       "<Figure size 640x480 with 1 Axes>"
      ]
     },
     "metadata": {},
     "output_type": "display_data"
    }
   ],
   "source": [
    "plt.plot(times,np.imag(fbath.correlation_function_approx(times)))\n",
    "plt.plot(times,np.imag(C),'-.')"
   ]
  },
  {
   "cell_type": "code",
   "execution_count": 9,
   "metadata": {},
   "outputs": [],
   "source": [
    "example=pseudomode(H,Q=sx_list[-1],bath=fbath)"
   ]
  },
  {
   "cell_type": "code",
   "execution_count": 10,
   "metadata": {},
   "outputs": [
    {
     "name": "stderr",
     "output_type": "stream",
     "text": [
      "/tmp/ipykernel_568970/444035680.py:42: RuntimeWarning: invalid value encountered in sqrt\n",
      "  Hpm=sum([np.sqrt(-np.imag(i))*destroys[k].dag()*destroys[k] for k,i in enumerate(self.vks) ])\n",
      "/home/mcditoos/anaconda3/envs/qutip-jax/lib/python3.11/site-packages/scipy/integrate/_ode.py:1011: UserWarning: _zvode: Repeated convergence failures. (Perhaps bad Jacobian supplied or wrong choice of MF or tolerances.)\n",
      "  warnings.warn('{:s}: {:s}'.format(self.__class__.__name__,\n"
     ]
    },
    {
     "name": "stdout",
     "output_type": "stream",
     "text": [
      "[[2, 2, 2, 2, 2, 2], [2, 2, 2, 2, 2, 2]]\n",
      "[[2, 2, 2, 2, 2, 2], [2, 2, 2, 2, 2, 2]]\n",
      "[[2, 2, 2, 2, 2, 2], [2, 2, 2, 2, 2, 2]]\n",
      " ZVODE--  At T (=R1) and step size H (=R2), the    \n",
      "       corrector convergence failed repeatedly     \n",
      "       or with abs(H) = HMIN   \n",
      "      In above,  R1 =  0.0000000000000D+00   R2 =  0.2623853561067D-10\n"
     ]
    },
    {
     "ename": "IntegratorException",
     "evalue": "Repeated convergence failures. (Perhaps bad Jacobian supplied or wrong choice of MF or tolerances.)",
     "output_type": "error",
     "traceback": [
      "\u001b[0;31m---------------------------------------------------------------------------\u001b[0m",
      "\u001b[0;31mIntegratorException\u001b[0m                       Traceback (most recent call last)",
      "Cell \u001b[0;32mIn[10], line 4\u001b[0m\n\u001b[1;32m      2\u001b[0m psi0 \u001b[38;5;241m=\u001b[39m tensor(state_list)\n\u001b[1;32m      3\u001b[0m times\u001b[38;5;241m=\u001b[39mnp\u001b[38;5;241m.\u001b[39mlinspace(\u001b[38;5;241m0\u001b[39m,\u001b[38;5;241m100\u001b[39m,\u001b[38;5;241m500\u001b[39m)\n\u001b[0;32m----> 4\u001b[0m evo\u001b[38;5;241m=\u001b[39m\u001b[43mexample\u001b[49m\u001b[38;5;241;43m.\u001b[39;49m\u001b[43mevolution\u001b[49m\u001b[43m(\u001b[49m\u001b[43mpsi0\u001b[49m\u001b[43m,\u001b[49m\u001b[43mcutoff\u001b[49m\u001b[38;5;241;43m=\u001b[39;49m\u001b[38;5;241;43m2\u001b[39;49m\u001b[43m,\u001b[49m\u001b[43mt\u001b[49m\u001b[38;5;241;43m=\u001b[39;49m\u001b[43mtimes\u001b[49m\u001b[43m,\u001b[49m\u001b[43me_ops\u001b[49m\u001b[38;5;241;43m=\u001b[39;49m\u001b[43m[\u001b[49m\u001b[43mH\u001b[49m\u001b[43m]\u001b[49m\u001b[43m)\u001b[49m\n",
      "Cell \u001b[0;32mIn[1], line 65\u001b[0m, in \u001b[0;36mpseudomode.evolution\u001b[0;34m(self, initial, cutoff, t, e_ops)\u001b[0m\n\u001b[1;32m     63\u001b[0m \u001b[38;5;28mprint\u001b[39m(Heff\u001b[38;5;241m.\u001b[39mdims)\n\u001b[1;32m     64\u001b[0m \u001b[38;5;28mprint\u001b[39m(c_ops\u001b[38;5;241m.\u001b[39mdims)\n\u001b[0;32m---> 65\u001b[0m \u001b[38;5;28;01mreturn\u001b[39;00m \u001b[43mmesolve\u001b[49m\u001b[43m(\u001b[49m\u001b[43mHeff\u001b[49m\u001b[43m,\u001b[49m\u001b[43m \u001b[49m\u001b[43minitial\u001b[49m\u001b[43m,\u001b[49m\u001b[43m \u001b[49m\u001b[43mt\u001b[49m\u001b[43m,\u001b[49m\u001b[43m \u001b[49m\u001b[43mc_ops\u001b[49m\u001b[43m,\u001b[49m\u001b[43m \u001b[49m\u001b[43me_ops\u001b[49m\u001b[43m)\u001b[49m\n",
      "File \u001b[0;32m~/qutip_gsoc_app/qutip/solver/mesolve.py:146\u001b[0m, in \u001b[0;36mmesolve\u001b[0;34m(H, rho0, tlist, c_ops, e_ops, args, options, **kwargs)\u001b[0m\n\u001b[1;32m    141\u001b[0m     \u001b[38;5;28;01mreturn\u001b[39;00m sesolve(H, rho0, tlist, e_ops\u001b[38;5;241m=\u001b[39me_ops, args\u001b[38;5;241m=\u001b[39margs,\n\u001b[1;32m    142\u001b[0m                    options\u001b[38;5;241m=\u001b[39moptions)\n\u001b[1;32m    144\u001b[0m solver \u001b[38;5;241m=\u001b[39m MESolver(H, c_ops, options\u001b[38;5;241m=\u001b[39moptions)\n\u001b[0;32m--> 146\u001b[0m \u001b[38;5;28;01mreturn\u001b[39;00m \u001b[43msolver\u001b[49m\u001b[38;5;241;43m.\u001b[39;49m\u001b[43mrun\u001b[49m\u001b[43m(\u001b[49m\u001b[43mrho0\u001b[49m\u001b[43m,\u001b[49m\u001b[43m \u001b[49m\u001b[43mtlist\u001b[49m\u001b[43m,\u001b[49m\u001b[43m \u001b[49m\u001b[43me_ops\u001b[49m\u001b[38;5;241;43m=\u001b[39;49m\u001b[43me_ops\u001b[49m\u001b[43m)\u001b[49m\n",
      "File \u001b[0;32m~/qutip_gsoc_app/qutip/solver/solver_base.py:158\u001b[0m, in \u001b[0;36mSolver.run\u001b[0;34m(self, state0, tlist, args, e_ops)\u001b[0m\n\u001b[1;32m    153\u001b[0m stats[\u001b[38;5;124m'\u001b[39m\u001b[38;5;124mpreparation time\u001b[39m\u001b[38;5;124m'\u001b[39m] \u001b[38;5;241m+\u001b[39m\u001b[38;5;241m=\u001b[39m time() \u001b[38;5;241m-\u001b[39m _time_start\n\u001b[1;32m    155\u001b[0m progress_bar \u001b[38;5;241m=\u001b[39m progress_bars[\u001b[38;5;28mself\u001b[39m\u001b[38;5;241m.\u001b[39moptions[\u001b[38;5;124m'\u001b[39m\u001b[38;5;124mprogress_bar\u001b[39m\u001b[38;5;124m'\u001b[39m]](\n\u001b[1;32m    156\u001b[0m     \u001b[38;5;28mlen\u001b[39m(tlist)\u001b[38;5;241m-\u001b[39m\u001b[38;5;241m1\u001b[39m, \u001b[38;5;241m*\u001b[39m\u001b[38;5;241m*\u001b[39m\u001b[38;5;28mself\u001b[39m\u001b[38;5;241m.\u001b[39moptions[\u001b[38;5;124m'\u001b[39m\u001b[38;5;124mprogress_kwargs\u001b[39m\u001b[38;5;124m'\u001b[39m]\n\u001b[1;32m    157\u001b[0m )\n\u001b[0;32m--> 158\u001b[0m \u001b[43m\u001b[49m\u001b[38;5;28;43;01mfor\u001b[39;49;00m\u001b[43m \u001b[49m\u001b[43mt\u001b[49m\u001b[43m,\u001b[49m\u001b[43m \u001b[49m\u001b[43mstate\u001b[49m\u001b[43m \u001b[49m\u001b[38;5;129;43;01min\u001b[39;49;00m\u001b[43m \u001b[49m\u001b[38;5;28;43mself\u001b[39;49m\u001b[38;5;241;43m.\u001b[39;49m\u001b[43m_integrator\u001b[49m\u001b[38;5;241;43m.\u001b[39;49m\u001b[43mrun\u001b[49m\u001b[43m(\u001b[49m\u001b[43mtlist\u001b[49m\u001b[43m)\u001b[49m\u001b[43m:\u001b[49m\n\u001b[1;32m    159\u001b[0m \u001b[43m    \u001b[49m\u001b[43mprogress_bar\u001b[49m\u001b[38;5;241;43m.\u001b[39;49m\u001b[43mupdate\u001b[49m\u001b[43m(\u001b[49m\u001b[43m)\u001b[49m\n\u001b[1;32m    160\u001b[0m \u001b[43m    \u001b[49m\u001b[43mresults\u001b[49m\u001b[38;5;241;43m.\u001b[39;49m\u001b[43madd\u001b[49m\u001b[43m(\u001b[49m\u001b[43mt\u001b[49m\u001b[43m,\u001b[49m\u001b[43m \u001b[49m\u001b[38;5;28;43mself\u001b[39;49m\u001b[38;5;241;43m.\u001b[39;49m\u001b[43m_restore_state\u001b[49m\u001b[43m(\u001b[49m\u001b[43mstate\u001b[49m\u001b[43m,\u001b[49m\u001b[43m \u001b[49m\u001b[43mcopy\u001b[49m\u001b[38;5;241;43m=\u001b[39;49m\u001b[38;5;28;43;01mFalse\u001b[39;49;00m\u001b[43m)\u001b[49m\u001b[43m)\u001b[49m\n",
      "File \u001b[0;32m~/qutip_gsoc_app/qutip/solver/integrator/integrator.py:201\u001b[0m, in \u001b[0;36mIntegrator.run\u001b[0;34m(self, tlist)\u001b[0m\n\u001b[1;32m    187\u001b[0m \u001b[38;5;250m\u001b[39m\u001b[38;5;124;03m\"\"\"\u001b[39;00m\n\u001b[1;32m    188\u001b[0m \u001b[38;5;124;03mIntegrate the system yielding the state for each times in tlist.\u001b[39;00m\n\u001b[1;32m    189\u001b[0m \n\u001b[0;32m   (...)\u001b[0m\n\u001b[1;32m    198\u001b[0m \u001b[38;5;124;03m    The state of the solver at each ``t`` of tlist.\u001b[39;00m\n\u001b[1;32m    199\u001b[0m \u001b[38;5;124;03m\"\"\"\u001b[39;00m\n\u001b[1;32m    200\u001b[0m \u001b[38;5;28;01mfor\u001b[39;00m t \u001b[38;5;129;01min\u001b[39;00m tlist[\u001b[38;5;241m1\u001b[39m:]:\n\u001b[0;32m--> 201\u001b[0m     \u001b[38;5;28;01myield\u001b[39;00m \u001b[38;5;28;43mself\u001b[39;49m\u001b[38;5;241;43m.\u001b[39;49m\u001b[43mintegrate\u001b[49m\u001b[43m(\u001b[49m\u001b[43mt\u001b[49m\u001b[43m,\u001b[49m\u001b[43m \u001b[49m\u001b[38;5;28;43;01mFalse\u001b[39;49;00m\u001b[43m)\u001b[49m\n",
      "File \u001b[0;32m~/qutip_gsoc_app/qutip/solver/integrator/scipy_integrator.py:111\u001b[0m, in \u001b[0;36mIntegratorScipyAdams.integrate\u001b[0;34m(self, t, copy)\u001b[0m\n\u001b[1;32m    109\u001b[0m \u001b[38;5;28;01mif\u001b[39;00m t \u001b[38;5;241m!=\u001b[39m \u001b[38;5;28mself\u001b[39m\u001b[38;5;241m.\u001b[39m_ode_solver\u001b[38;5;241m.\u001b[39mt:\n\u001b[1;32m    110\u001b[0m     \u001b[38;5;28mself\u001b[39m\u001b[38;5;241m.\u001b[39m_ode_solver\u001b[38;5;241m.\u001b[39mintegrate(t)\n\u001b[0;32m--> 111\u001b[0m \u001b[38;5;28;01mreturn\u001b[39;00m \u001b[38;5;28;43mself\u001b[39;49m\u001b[38;5;241;43m.\u001b[39;49m\u001b[43mget_state\u001b[49m\u001b[43m(\u001b[49m\u001b[43mcopy\u001b[49m\u001b[43m)\u001b[49m\n",
      "File \u001b[0;32m~/qutip_gsoc_app/qutip/solver/integrator/scipy_integrator.py:86\u001b[0m, in \u001b[0;36mIntegratorScipyAdams.get_state\u001b[0;34m(self, copy)\u001b[0m\n\u001b[1;32m     84\u001b[0m \u001b[38;5;28;01mif\u001b[39;00m \u001b[38;5;129;01mnot\u001b[39;00m \u001b[38;5;28mself\u001b[39m\u001b[38;5;241m.\u001b[39m_is_set:\n\u001b[1;32m     85\u001b[0m     \u001b[38;5;28;01mraise\u001b[39;00m IntegratorException(\u001b[38;5;124m\"\u001b[39m\u001b[38;5;124mThe state is not initialted\u001b[39m\u001b[38;5;124m\"\u001b[39m)\n\u001b[0;32m---> 86\u001b[0m \u001b[38;5;28;43mself\u001b[39;49m\u001b[38;5;241;43m.\u001b[39;49m\u001b[43m_check_failed_integration\u001b[49m\u001b[43m(\u001b[49m\u001b[43m)\u001b[49m\n\u001b[1;32m     87\u001b[0m t \u001b[38;5;241m=\u001b[39m \u001b[38;5;28mself\u001b[39m\u001b[38;5;241m.\u001b[39m_ode_solver\u001b[38;5;241m.\u001b[39mt\n\u001b[1;32m     88\u001b[0m \u001b[38;5;28;01mif\u001b[39;00m \u001b[38;5;28mself\u001b[39m\u001b[38;5;241m.\u001b[39m_mat_state:\n",
      "File \u001b[0;32m~/qutip_gsoc_app/qutip/solver/integrator/scipy_integrator.py:157\u001b[0m, in \u001b[0;36mIntegratorScipyAdams._check_failed_integration\u001b[0;34m(self)\u001b[0m\n\u001b[1;32m    145\u001b[0m     \u001b[38;5;28;01mreturn\u001b[39;00m\n\u001b[1;32m    146\u001b[0m messages \u001b[38;5;241m=\u001b[39m {\n\u001b[1;32m    147\u001b[0m     \u001b[38;5;241m-\u001b[39m\u001b[38;5;241m1\u001b[39m: \u001b[38;5;124m'\u001b[39m\u001b[38;5;124mExcess work done on this call. Try to increasing \u001b[39m\u001b[38;5;124m'\u001b[39m\n\u001b[1;32m    148\u001b[0m         \u001b[38;5;124m'\u001b[39m\u001b[38;5;124mthe nsteps parameter in the Options class\u001b[39m\u001b[38;5;124m'\u001b[39m,\n\u001b[0;32m   (...)\u001b[0m\n\u001b[1;32m    155\u001b[0m         \u001b[38;5;124m'\u001b[39m\u001b[38;5;124m component i vanished, and ATOL or ATOL(i) = 0.)\u001b[39m\u001b[38;5;124m'\u001b[39m\n\u001b[1;32m    156\u001b[0m }\n\u001b[0;32m--> 157\u001b[0m \u001b[38;5;28;01mraise\u001b[39;00m IntegratorException(\n\u001b[1;32m    158\u001b[0m     messages[\u001b[38;5;28mself\u001b[39m\u001b[38;5;241m.\u001b[39m_ode_solver\u001b[38;5;241m.\u001b[39m_integrator\u001b[38;5;241m.\u001b[39mistate]\n\u001b[1;32m    159\u001b[0m )\n",
      "\u001b[0;31mIntegratorException\u001b[0m: Repeated convergence failures. (Perhaps bad Jacobian supplied or wrong choice of MF or tolerances.)"
     ]
    }
   ],
   "source": [
    "state_list = [basis(2, 1)] + [basis(2, 0)] * (N - 1)\n",
    "psi0 = tensor(state_list)\n",
    "times=np.linspace(0,100,500)\n",
    "evo=example.evolution(psi0,cutoff=2,t=times,e_ops=[H])"
   ]
  },
  {
   "cell_type": "code",
   "execution_count": null,
   "metadata": {},
   "outputs": [
    {
     "data": {
      "text/plain": [
       "-0.5354857859967562"
      ]
     },
     "execution_count": 180,
     "metadata": {},
     "output_type": "execute_result"
    }
   ],
   "source": [
    "evo.expect[0][-1]"
   ]
  },
  {
   "cell_type": "code",
   "execution_count": null,
   "metadata": {},
   "outputs": [
    {
     "data": {
      "text/plain": [
       "array([-10.28888935, -10.21207538,  -1.        ,  -0.92318603,\n",
       "         0.92318603,   1.        ,  10.21207538,  10.28888935])"
      ]
     },
     "execution_count": 181,
     "metadata": {},
     "output_type": "execute_result"
    }
   ],
   "source": [
    "H.eigenenergies()"
   ]
  },
  {
   "cell_type": "code",
   "execution_count": null,
   "metadata": {},
   "outputs": [],
   "source": []
  },
  {
   "cell_type": "code",
   "execution_count": null,
   "metadata": {},
   "outputs": [],
   "source": []
  },
  {
   "cell_type": "code",
   "execution_count": null,
   "metadata": {},
   "outputs": [],
   "source": []
  },
  {
   "cell_type": "code",
   "execution_count": null,
   "metadata": {},
   "outputs": [],
   "source": []
  },
  {
   "cell_type": "code",
   "execution_count": null,
   "metadata": {},
   "outputs": [],
   "source": []
  },
  {
   "cell_type": "code",
   "execution_count": null,
   "metadata": {},
   "outputs": [],
   "source": []
  },
  {
   "cell_type": "code",
   "execution_count": null,
   "metadata": {},
   "outputs": [],
   "source": []
  },
  {
   "cell_type": "code",
   "execution_count": null,
   "metadata": {},
   "outputs": [],
   "source": []
  }
 ],
 "metadata": {
  "kernelspec": {
   "display_name": "qutip-jax",
   "language": "python",
   "name": "python3"
  },
  "language_info": {
   "codemirror_mode": {
    "name": "ipython",
    "version": 3
   },
   "file_extension": ".py",
   "mimetype": "text/x-python",
   "name": "python",
   "nbconvert_exporter": "python",
   "pygments_lexer": "ipython3",
   "version": "3.1.undefined"
  }
 },
 "nbformat": 4,
 "nbformat_minor": 2
}
