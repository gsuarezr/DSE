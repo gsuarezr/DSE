{
 "cells": [
  {
   "cell_type": "code",
   "execution_count": 1,
   "metadata": {},
   "outputs": [],
   "source": [
    "import matplotlib.pyplot as plt\n",
    "import numpy as np\n",
    "from qutip import ( basis, expect, mesolve, qeye, sigmax, sigmay, sigmaz,destroy,\n",
    "                   tensor,settings)\n",
    "from qutip.solver import heom\n",
    "from scipy.integrate import quad\n",
    "from pseudomode import pseudomode,zero_temp_bath\n",
    "import qutip_jax\n",
    "settings.core[\"default_dtype\"] = \"jax\""
   ]
  },
  {
   "cell_type": "code",
   "execution_count": 2,
   "metadata": {},
   "outputs": [
    {
     "name": "stderr",
     "output_type": "stream",
     "text": [
      "2024-07-09 04:22:58.037506: W external/xla/xla/service/gpu/nvptx_compiler.cc:765] The NVIDIA driver's CUDA version is 12.4 which is older than the ptxas CUDA version (12.5.82). Because the driver is older than the ptxas version, XLA is disabling parallel compilation, which may slow down compilation. You should update your NVIDIA driver or use the NVIDIA-provided CUDA forward compatibility packages.\n"
     ]
    }
   ],
   "source": [
    "# Set the system parameters\n",
    "N = 2\n",
    "g=1\n",
    "J=5*g\n",
    "# initial state\n",
    "state_list = [basis(2, 1)] + [basis(2, 0)] * (N - 1)\n",
    "psi0 = tensor(state_list)\n",
    "\n",
    "\n",
    "sx_list, sy_list, sz_list = [], [], []\n",
    "for i in range(N):\n",
    "    op_list = [qeye(2)] * N\n",
    "    op_list[i] = sigmax()\n",
    "    sx_list.append(tensor(op_list))\n",
    "    op_list[i] = sigmay()\n",
    "    sy_list.append(tensor(op_list))\n",
    "    op_list[i] = sigmaz()\n",
    "    sz_list.append(tensor(op_list))\n",
    "\n",
    "# Hamiltonian - Energy splitting terms\n",
    "H = 0\n",
    "for i in range(N):\n",
    "    H += g* sz_list[i]\n",
    "\n",
    "for n in range(N - 1):\n",
    "    H += -J* sx_list[n] * sx_list[n + 1]"
   ]
  },
  {
   "cell_type": "code",
   "execution_count": 3,
   "metadata": {},
   "outputs": [],
   "source": [
    "import jax.numpy as jnp"
   ]
  },
  {
   "cell_type": "code",
   "execution_count": 4,
   "metadata": {},
   "outputs": [],
   "source": [
    "eig=jnp.linalg.eigh(H.full())[0]"
   ]
  },
  {
   "cell_type": "code",
   "execution_count": 5,
   "metadata": {},
   "outputs": [
    {
     "data": {
      "text/plain": [
       "Array([-5.38516481, -5.        ,  5.        ,  5.38516481], dtype=float64)"
      ]
     },
     "execution_count": 5,
     "metadata": {},
     "output_type": "execute_result"
    }
   ],
   "source": [
    "eig"
   ]
  },
  {
   "cell_type": "code",
   "execution_count": 6,
   "metadata": {},
   "outputs": [],
   "source": [
    "E01=eig[2]-eig[0]# Raise this question about the paper \n",
    "gamma=3.8*g\n",
    "w0=1.2*E01\n",
    "Gamma=gamma/2\n",
    "Omega=np.sqrt(w0**2 -Gamma**2)\n",
    "lam=1.15*g*np.sqrt(Omega)"
   ]
  },
  {
   "cell_type": "code",
   "execution_count": 7,
   "metadata": {},
   "outputs": [
    {
     "data": {
      "text/plain": [
       "Array(True, dtype=bool)"
      ]
     },
     "execution_count": 7,
     "metadata": {},
     "output_type": "execute_result"
    }
   ],
   "source": [
    "2*w0>gamma"
   ]
  },
  {
   "cell_type": "code",
   "execution_count": 8,
   "metadata": {},
   "outputs": [],
   "source": [
    "Q=sz_list[-1]+ 1.1*sy_list[-1]+0.9*sz_list[-1]"
   ]
  },
  {
   "cell_type": "code",
   "execution_count": 9,
   "metadata": {},
   "outputs": [
    {
     "ename": "KeyboardInterrupt",
     "evalue": "",
     "output_type": "error",
     "traceback": [
      "\u001b[0;31m---------------------------------------------------------------------------\u001b[0m",
      "\u001b[0;31mKeyboardInterrupt\u001b[0m                         Traceback (most recent call last)",
      "Cell \u001b[0;32mIn[9], line 2\u001b[0m\n\u001b[1;32m      1\u001b[0m time\u001b[38;5;241m=\u001b[39mnp\u001b[38;5;241m.\u001b[39mlinspace(\u001b[38;5;241m0\u001b[39m,\u001b[38;5;241m10\u001b[39m,\u001b[38;5;241m5000\u001b[39m)\n\u001b[0;32m----> 2\u001b[0m bathu\u001b[38;5;241m=\u001b[39m\u001b[43mzero_temp_bath\u001b[49m\u001b[43m(\u001b[49m\u001b[43mQ\u001b[49m\u001b[43m,\u001b[49m\u001b[43mtime\u001b[49m\u001b[43m,\u001b[49m\u001b[43mlam\u001b[49m\u001b[43m,\u001b[49m\u001b[43mgamma\u001b[49m\u001b[43m,\u001b[49m\u001b[43mw0\u001b[49m\u001b[43m)\u001b[49m\n",
      "File \u001b[0;32m~/github/DSE/pseudomode.py:78\u001b[0m, in \u001b[0;36mzero_temp_bath.__init__\u001b[0;34m(self, Q, time, lam, gamma, w0, N, lower, upper, sigma, guesses)\u001b[0m\n\u001b[1;32m     76\u001b[0m Gamma\u001b[38;5;241m=\u001b[39mgamma\u001b[38;5;241m/\u001b[39m\u001b[38;5;241m2\u001b[39m\n\u001b[1;32m     77\u001b[0m Omega\u001b[38;5;241m=\u001b[39mnp\u001b[38;5;241m.\u001b[39msqrt(w0\u001b[38;5;241m*\u001b[39m\u001b[38;5;241m*\u001b[39m\u001b[38;5;241m2\u001b[39m \u001b[38;5;241m-\u001b[39mGamma\u001b[38;5;241m*\u001b[39m\u001b[38;5;241m*\u001b[39m\u001b[38;5;241m2\u001b[39m)\n\u001b[0;32m---> 78\u001b[0m C\u001b[38;5;241m=\u001b[39mnp\u001b[38;5;241m.\u001b[39marray([\u001b[38;5;28;43mself\u001b[39;49m\u001b[38;5;241;43m.\u001b[39;49m\u001b[43m_matsubara_zero_integrand\u001b[49m\u001b[43m(\u001b[49m\u001b[43mi\u001b[49m\u001b[43m,\u001b[49m\u001b[43mlam\u001b[49m\u001b[43m,\u001b[49m\u001b[43mgamma\u001b[49m\u001b[43m,\u001b[49m\u001b[43mw0\u001b[49m\u001b[43m)\u001b[49m \u001b[38;5;28;01mfor\u001b[39;00m i \u001b[38;5;129;01min\u001b[39;00m time])\n\u001b[1;32m     79\u001b[0m \u001b[38;5;28mself\u001b[39m\u001b[38;5;241m.\u001b[39mcorrelation_function\u001b[38;5;241m=\u001b[39mC\u001b[38;5;241m+\u001b[39m\u001b[38;5;28mself\u001b[39m\u001b[38;5;241m.\u001b[39mC0(time,lam,gamma,w0)\n\u001b[1;32m     80\u001b[0m \u001b[38;5;28msuper\u001b[39m()\u001b[38;5;241m.\u001b[39m\u001b[38;5;21m__init__\u001b[39m(Q,\u001b[38;5;241m0\u001b[39m,time,C)\n",
      "File \u001b[0;32m~/github/DSE/pseudomode.py:101\u001b[0m, in \u001b[0;36mzero_temp_bath._matsubara_zero_integrand\u001b[0;34m(self, t, coup_strength, bath_broad, bath_freq)\u001b[0m\n\u001b[1;32m     99\u001b[0m prefactor \u001b[38;5;241m=\u001b[39m \u001b[38;5;241m-\u001b[39m(lam \u001b[38;5;241m*\u001b[39m\u001b[38;5;241m*\u001b[39m \u001b[38;5;241m2\u001b[39m \u001b[38;5;241m*\u001b[39m gamma) \u001b[38;5;241m/\u001b[39m np\u001b[38;5;241m.\u001b[39mpi\n\u001b[1;32m    100\u001b[0m integrand \u001b[38;5;241m=\u001b[39m \u001b[38;5;28;01mlambda\u001b[39;00m x: prefactor \u001b[38;5;241m*\u001b[39m ((x \u001b[38;5;241m*\u001b[39m np\u001b[38;5;241m.\u001b[39mexp(\u001b[38;5;241m-\u001b[39mx \u001b[38;5;241m*\u001b[39m t)) \u001b[38;5;241m/\u001b[39m ((a \u001b[38;5;241m*\u001b[39m\u001b[38;5;241m*\u001b[39m \u001b[38;5;241m2\u001b[39m \u001b[38;5;241m+\u001b[39m x \u001b[38;5;241m*\u001b[39m\u001b[38;5;241m*\u001b[39m \u001b[38;5;241m2\u001b[39m) \u001b[38;5;241m*\u001b[39m (aa \u001b[38;5;241m*\u001b[39m\u001b[38;5;241m*\u001b[39m \u001b[38;5;241m2\u001b[39m \u001b[38;5;241m+\u001b[39m x \u001b[38;5;241m*\u001b[39m\u001b[38;5;241m*\u001b[39m \u001b[38;5;241m2\u001b[39m)))\n\u001b[0;32m--> 101\u001b[0m \u001b[38;5;28;01mreturn\u001b[39;00m \u001b[43mquad\u001b[49m\u001b[43m(\u001b[49m\u001b[43mintegrand\u001b[49m\u001b[43m,\u001b[49m\u001b[43m \u001b[49m\u001b[38;5;241;43m0\u001b[39;49m\u001b[43m,\u001b[49m\u001b[43m \u001b[49m\u001b[43mnp\u001b[49m\u001b[38;5;241;43m.\u001b[39;49m\u001b[43minf\u001b[49m\u001b[43m,\u001b[49m\u001b[43mlimit\u001b[49m\u001b[38;5;241;43m=\u001b[39;49m\u001b[38;5;241;43m5000\u001b[39;49m\u001b[43m,\u001b[49m\u001b[43mcomplex_func\u001b[49m\u001b[38;5;241;43m=\u001b[39;49m\u001b[38;5;28;43;01mTrue\u001b[39;49;00m\u001b[43m)\u001b[49m[\u001b[38;5;241m0\u001b[39m]\n",
      "File \u001b[0;32m~/miniconda3/envs/qutip-dev/lib/python3.12/site-packages/scipy/integrate/_quadpack_py.py:446\u001b[0m, in \u001b[0;36mquad\u001b[0;34m(func, a, b, args, full_output, epsabs, epsrel, limit, points, weight, wvar, wopts, maxp1, limlst, complex_func)\u001b[0m\n\u001b[1;32m    443\u001b[0m \u001b[38;5;28;01mdef\u001b[39;00m \u001b[38;5;21mrefunc\u001b[39m(x, \u001b[38;5;241m*\u001b[39margs):\n\u001b[1;32m    444\u001b[0m     \u001b[38;5;28;01mreturn\u001b[39;00m func(x, \u001b[38;5;241m*\u001b[39margs)\u001b[38;5;241m.\u001b[39mreal\n\u001b[0;32m--> 446\u001b[0m re_retval \u001b[38;5;241m=\u001b[39m \u001b[43mquad\u001b[49m\u001b[43m(\u001b[49m\u001b[43mrefunc\u001b[49m\u001b[43m,\u001b[49m\u001b[43m \u001b[49m\u001b[43ma\u001b[49m\u001b[43m,\u001b[49m\u001b[43m \u001b[49m\u001b[43mb\u001b[49m\u001b[43m,\u001b[49m\u001b[43m \u001b[49m\u001b[43margs\u001b[49m\u001b[43m,\u001b[49m\u001b[43m \u001b[49m\u001b[43mfull_output\u001b[49m\u001b[43m,\u001b[49m\u001b[43m \u001b[49m\u001b[43mepsabs\u001b[49m\u001b[43m,\u001b[49m\n\u001b[1;32m    447\u001b[0m \u001b[43m                 \u001b[49m\u001b[43mepsrel\u001b[49m\u001b[43m,\u001b[49m\u001b[43m \u001b[49m\u001b[43mlimit\u001b[49m\u001b[43m,\u001b[49m\u001b[43m \u001b[49m\u001b[43mpoints\u001b[49m\u001b[43m,\u001b[49m\u001b[43m \u001b[49m\u001b[43mweight\u001b[49m\u001b[43m,\u001b[49m\u001b[43m \u001b[49m\u001b[43mwvar\u001b[49m\u001b[43m,\u001b[49m\u001b[43m \u001b[49m\u001b[43mwopts\u001b[49m\u001b[43m,\u001b[49m\n\u001b[1;32m    448\u001b[0m \u001b[43m                 \u001b[49m\u001b[43mmaxp1\u001b[49m\u001b[43m,\u001b[49m\u001b[43m \u001b[49m\u001b[43mlimlst\u001b[49m\u001b[43m,\u001b[49m\u001b[43m \u001b[49m\u001b[43mcomplex_func\u001b[49m\u001b[38;5;241;43m=\u001b[39;49m\u001b[38;5;28;43;01mFalse\u001b[39;49;00m\u001b[43m)\u001b[49m\n\u001b[1;32m    449\u001b[0m im_retval \u001b[38;5;241m=\u001b[39m quad(imfunc, a, b, args, full_output, epsabs,\n\u001b[1;32m    450\u001b[0m                  epsrel, limit, points, weight, wvar, wopts,\n\u001b[1;32m    451\u001b[0m                  maxp1, limlst, complex_func\u001b[38;5;241m=\u001b[39m\u001b[38;5;28;01mFalse\u001b[39;00m)\n\u001b[1;32m    452\u001b[0m integral \u001b[38;5;241m=\u001b[39m re_retval[\u001b[38;5;241m0\u001b[39m] \u001b[38;5;241m+\u001b[39m \u001b[38;5;241m1\u001b[39mj\u001b[38;5;241m*\u001b[39mim_retval[\u001b[38;5;241m0\u001b[39m]\n",
      "File \u001b[0;32m~/miniconda3/envs/qutip-dev/lib/python3.12/site-packages/scipy/integrate/_quadpack_py.py:464\u001b[0m, in \u001b[0;36mquad\u001b[0;34m(func, a, b, args, full_output, epsabs, epsrel, limit, points, weight, wvar, wopts, maxp1, limlst, complex_func)\u001b[0m\n\u001b[1;32m    461\u001b[0m     \u001b[38;5;28;01mreturn\u001b[39;00m retval\n\u001b[1;32m    463\u001b[0m \u001b[38;5;28;01mif\u001b[39;00m weight \u001b[38;5;129;01mis\u001b[39;00m \u001b[38;5;28;01mNone\u001b[39;00m:\n\u001b[0;32m--> 464\u001b[0m     retval \u001b[38;5;241m=\u001b[39m \u001b[43m_quad\u001b[49m\u001b[43m(\u001b[49m\u001b[43mfunc\u001b[49m\u001b[43m,\u001b[49m\u001b[43m \u001b[49m\u001b[43ma\u001b[49m\u001b[43m,\u001b[49m\u001b[43m \u001b[49m\u001b[43mb\u001b[49m\u001b[43m,\u001b[49m\u001b[43m \u001b[49m\u001b[43margs\u001b[49m\u001b[43m,\u001b[49m\u001b[43m \u001b[49m\u001b[43mfull_output\u001b[49m\u001b[43m,\u001b[49m\u001b[43m \u001b[49m\u001b[43mepsabs\u001b[49m\u001b[43m,\u001b[49m\u001b[43m \u001b[49m\u001b[43mepsrel\u001b[49m\u001b[43m,\u001b[49m\u001b[43m \u001b[49m\u001b[43mlimit\u001b[49m\u001b[43m,\u001b[49m\n\u001b[1;32m    465\u001b[0m \u001b[43m                   \u001b[49m\u001b[43mpoints\u001b[49m\u001b[43m)\u001b[49m\n\u001b[1;32m    466\u001b[0m \u001b[38;5;28;01melse\u001b[39;00m:\n\u001b[1;32m    467\u001b[0m     \u001b[38;5;28;01mif\u001b[39;00m points \u001b[38;5;129;01mis\u001b[39;00m \u001b[38;5;129;01mnot\u001b[39;00m \u001b[38;5;28;01mNone\u001b[39;00m:\n",
      "File \u001b[0;32m~/miniconda3/envs/qutip-dev/lib/python3.12/site-packages/scipy/integrate/_quadpack_py.py:613\u001b[0m, in \u001b[0;36m_quad\u001b[0;34m(func, a, b, args, full_output, epsabs, epsrel, limit, points)\u001b[0m\n\u001b[1;32m    611\u001b[0m         \u001b[38;5;28;01mreturn\u001b[39;00m _quadpack\u001b[38;5;241m.\u001b[39m_qagse(func,a,b,args,full_output,epsabs,epsrel,limit)\n\u001b[1;32m    612\u001b[0m     \u001b[38;5;28;01melse\u001b[39;00m:\n\u001b[0;32m--> 613\u001b[0m         \u001b[38;5;28;01mreturn\u001b[39;00m \u001b[43m_quadpack\u001b[49m\u001b[38;5;241;43m.\u001b[39;49m\u001b[43m_qagie\u001b[49m\u001b[43m(\u001b[49m\u001b[43mfunc\u001b[49m\u001b[43m,\u001b[49m\u001b[43m \u001b[49m\u001b[43mbound\u001b[49m\u001b[43m,\u001b[49m\u001b[43m \u001b[49m\u001b[43minfbounds\u001b[49m\u001b[43m,\u001b[49m\u001b[43m \u001b[49m\u001b[43margs\u001b[49m\u001b[43m,\u001b[49m\u001b[43m \u001b[49m\u001b[43mfull_output\u001b[49m\u001b[43m,\u001b[49m\u001b[43m \u001b[49m\n\u001b[1;32m    614\u001b[0m \u001b[43m                                \u001b[49m\u001b[43mepsabs\u001b[49m\u001b[43m,\u001b[49m\u001b[43m \u001b[49m\u001b[43mepsrel\u001b[49m\u001b[43m,\u001b[49m\u001b[43m \u001b[49m\u001b[43mlimit\u001b[49m\u001b[43m)\u001b[49m\n\u001b[1;32m    615\u001b[0m \u001b[38;5;28;01melse\u001b[39;00m:\n\u001b[1;32m    616\u001b[0m     \u001b[38;5;28;01mif\u001b[39;00m infbounds \u001b[38;5;241m!=\u001b[39m \u001b[38;5;241m0\u001b[39m:\n",
      "File \u001b[0;32m~/miniconda3/envs/qutip-dev/lib/python3.12/site-packages/scipy/integrate/_quadpack_py.py:443\u001b[0m, in \u001b[0;36mquad.<locals>.refunc\u001b[0;34m(x, *args)\u001b[0m\n\u001b[1;32m    440\u001b[0m \u001b[38;5;28;01mdef\u001b[39;00m \u001b[38;5;21mimfunc\u001b[39m(x, \u001b[38;5;241m*\u001b[39margs):\n\u001b[1;32m    441\u001b[0m     \u001b[38;5;28;01mreturn\u001b[39;00m func(x, \u001b[38;5;241m*\u001b[39margs)\u001b[38;5;241m.\u001b[39mimag\n\u001b[0;32m--> 443\u001b[0m \u001b[38;5;28;01mdef\u001b[39;00m \u001b[38;5;21mrefunc\u001b[39m(x, \u001b[38;5;241m*\u001b[39margs):\n\u001b[1;32m    444\u001b[0m     \u001b[38;5;28;01mreturn\u001b[39;00m func(x, \u001b[38;5;241m*\u001b[39margs)\u001b[38;5;241m.\u001b[39mreal\n\u001b[1;32m    446\u001b[0m re_retval \u001b[38;5;241m=\u001b[39m quad(refunc, a, b, args, full_output, epsabs,\n\u001b[1;32m    447\u001b[0m                  epsrel, limit, points, weight, wvar, wopts,\n\u001b[1;32m    448\u001b[0m                  maxp1, limlst, complex_func\u001b[38;5;241m=\u001b[39m\u001b[38;5;28;01mFalse\u001b[39;00m)\n",
      "\u001b[0;31mKeyboardInterrupt\u001b[0m: "
     ]
    }
   ],
   "source": [
    "time=np.linspace(0,10,5000)\n",
    "bathu=zero_temp_bath(Q,time,lam,gamma,w0)"
   ]
  },
  {
   "cell_type": "code",
   "execution_count": null,
   "metadata": {},
   "outputs": [
    {
     "data": {
      "image/png": "[encoded data removed]",
      "text/plain": [
       "<Figure size 640x480 with 1 Axes>"
      ]
     },
     "metadata": {},
     "output_type": "display_data"
    }
   ],
   "source": [
    "plt.plot(time,np.real(bathu.correlation_function))\n",
    "plt.plot(time,np.real(bathu.fbath.correlation_function_approx(time)),\"-.\")\n",
    "plt.show()"
   ]
  },
  {
   "cell_type": "code",
   "execution_count": null,
   "metadata": {},
   "outputs": [
    {
     "name": "stderr",
     "output_type": "stream",
     "text": [
      "/home/mcditoos/github/qutip_gsoc_app/qutip/solver/heom/bofin_baths.py:425: RuntimeWarning: overflow encountered in exp\n",
      "  return (1 / (np.exp(w / self.T) - 1))\n"
     ]
    }
   ],
   "source": [
    "bath=heom.UnderDampedBath(Q,lam,gamma,w0,1e-30,5) # functions don't take zero because 1/T should be fixed\n",
    "times2=np.linspace(0,10,1000)\n",
    "cfiitter2=heom.CorrelationFitter(Q,0,times2,bath.correlation_function)\n",
    "fit2=cfiitter2.get_fit(Ni=1,Nr=2)\n",
    "print(fit2[1]['summary']) #notice one mode is also a pretty good approximation"
   ]
  },
  {
   "cell_type": "code",
   "execution_count": null,
   "metadata": {},
   "outputs": [
    {
     "name": "stdout",
     "output_type": "stream",
     "text": [
      "10.0%. Run time:   2.41s. Est. time left: 00:00:00:21\n",
      "20.0%. Run time:   4.89s. Est. time left: 00:00:00:19\n",
      "30.1%. Run time:   7.27s. Est. time left: 00:00:00:16\n",
      "40.1%. Run time:   9.58s. Est. time left: 00:00:00:14\n",
      "50.1%. Run time:  11.89s. Est. time left: 00:00:00:11\n",
      "60.1%. Run time:  14.19s. Est. time left: 00:00:00:09\n",
      "70.1%. Run time:  16.50s. Est. time left: 00:00:00:07\n",
      "80.2%. Run time:  18.76s. Est. time left: 00:00:00:04\n",
      "90.2%. Run time:  21.17s. Est. time left: 00:00:00:02\n",
      "100.0%. Run time:  23.45s. Est. time left: 00:00:00:00\n",
      "Total run time:  23.45s\n"
     ]
    }
   ],
   "source": [
    "times=np.linspace(0,50,500)\n",
    "solver = heom.HEOMSolver(H,\n",
    "                    [fit2[0]], max_depth=5,options={\"atol\":1e-14})\n",
    "result = solver.run(psi0*psi0.dag(), times)"
   ]
  },
  {
   "cell_type": "code",
   "execution_count": null,
   "metadata": {},
   "outputs": [],
   "source": [
    "sdd=[(i*H).tr() for i in result.states]"
   ]
  },
  {
   "cell_type": "code",
   "execution_count": null,
   "metadata": {},
   "outputs": [
    {
     "data": {
      "text/plain": [
       "Array(10.38516481, dtype=float64)"
      ]
     },
     "execution_count": 27,
     "metadata": {},
     "output_type": "execute_result"
    }
   ],
   "source": [
    "E01"
   ]
  },
  {
   "cell_type": "code",
   "execution_count": null,
   "metadata": {},
   "outputs": [
    {
     "data": {
      "text/plain": [
       "Array(10.38516481, dtype=float64)"
      ]
     },
     "execution_count": 30,
     "metadata": {},
     "output_type": "execute_result"
    }
   ],
   "source": [
    "E01"
   ]
  },
  {
   "cell_type": "code",
   "execution_count": null,
   "metadata": {},
   "outputs": [
    {
     "data": {
      "image/png": "[encoded data removed]",
      "text/plain": [
       "<Figure size 640x480 with 1 Axes>"
      ]
     },
     "metadata": {},
     "output_type": "display_data"
    }
   ],
   "source": [
    "plt.plot(times,jnp.array(sdd)-eig[0])\n",
    "plt.yscale(\"log\")"
   ]
  },
  {
   "cell_type": "code",
   "execution_count": null,
   "metadata": {},
   "outputs": [
    {
     "name": "stderr",
     "output_type": "stream",
     "text": [
      "/home/mcditoos/github/qutip_gsoc_app/qutip/solver/heom/bofin_fit.py:863: RuntimeWarning: invalid value encountered in scalar divide\n",
      "  rmse = np.sqrt(np.mean((yhat - y) ** 2) / len(y)) / \\\n"
     ]
    }
   ],
   "source": [
    "time=np.linspace(0,50,2000)\n",
    "bathu=zero_temp_bath(Q,time,lam,gamma,w0,N=2)"
   ]
  },
  {
   "cell_type": "code",
   "execution_count": null,
   "metadata": {},
   "outputs": [
    {
     "name": "stdout",
     "output_type": "stream",
     "text": [
      "Fit correlation class instance: \n",
      " \n",
      "Result of fitting The Real Part Of                                      |Result of fitting The Imaginary Part                               \n",
      " the Correlation Function with 2 terms:                                 | Of the Correlation Function with 1 terms:                         \n",
      "                                                                        |                                                                   \n",
      " Parameters|    a     |    b     |    c                                 | Parameters|    a     |    b     |    c                            \n",
      " 1         |-4.53e-02 |-1.84e+01 |0.00e+00                              | 1         | 6.44e-02 |-3.80e+00 |0.00e+00                         \n",
      " 2         |-1.85e-02 |-3.72e+00 |0.00e+00                              |                                                                   \n",
      "                                                                        |A  normalized RMSE of  nan was obtained for the The Imaginary Part \n",
      "A  normalized RMSE of  2.42e-05 was obtained for the The Real Part Of   | Of the Correlation Function                                       \n",
      " the Correlation Function                                               |                                                                   \n",
      " The current fit took  0.080854 seconds                                 | The current fit took  0.002699 seconds                            \n",
      "\n"
     ]
    }
   ],
   "source": [
    "print(bathu.finfo[\"summary\"])"
   ]
  },
  {
   "cell_type": "markdown",
   "metadata": {},
   "source": [
    "better check power spectrums"
   ]
  },
  {
   "cell_type": "code",
   "execution_count": null,
   "metadata": {},
   "outputs": [
    {
     "ename": "NameError",
     "evalue": "name 'pseudomode' is not defined",
     "output_type": "error",
     "traceback": [
      "\u001b[0;31m---------------------------------------------------------------------------\u001b[0m",
      "\u001b[0;31mNameError\u001b[0m                                 Traceback (most recent call last)",
      "Cell \u001b[0;32mIn[1], line 1\u001b[0m\n\u001b[0;32m----> 1\u001b[0m example\u001b[38;5;241m=\u001b[39m\u001b[43mpseudomode\u001b[49m(Hsys\u001b[38;5;241m=\u001b[39mH, Q\u001b[38;5;241m=\u001b[39mQ,bath\u001b[38;5;241m=\u001b[39mbathu)\n",
      "\u001b[0;31mNameError\u001b[0m: name 'pseudomode' is not defined"
     ]
    }
   ],
   "source": [
    "example=pseudomode(Hsys=H, Q=Q,bath=bathu)"
   ]
  },
  {
   "cell_type": "code",
   "execution_count": null,
   "metadata": {},
   "outputs": [
    {
     "name": "stderr",
     "output_type": "stream",
     "text": [
      "2024-07-09 04:17:16.690471: W external/xla/xla/tsl/framework/bfc_allocator.cc:482] Allocator (GPU_0_bfc) ran out of memory trying to allocate 256.00MiB (rounded to 268435456)requested by op \n",
      "2024-07-09 04:17:16.693089: W external/xla/xla/tsl/framework/bfc_allocator.cc:494] ************************___________*********************************************************________\n",
      "E0709 04:17:16.693179   10653 pjrt_stream_executor_client.cc:2985] Execution of replica 0 failed: RESOURCE_EXHAUSTED: Out of memory while trying to allocate 268435456 bytes.\n"
     ]
    },
    {
     "ename": "ValueError",
     "evalue": "RESOURCE_EXHAUSTED: Out of memory while trying to allocate 268435456 bytes.",
     "output_type": "error",
     "traceback": [
      "\u001b[0;31m---------------------------------------------------------------------------\u001b[0m",
      "\u001b[0;31mValueError\u001b[0m                                Traceback (most recent call last)",
      "Cell \u001b[0;32mIn[45], line 1\u001b[0m\n\u001b[0;32m----> 1\u001b[0m ans\u001b[38;5;241m=\u001b[39m\u001b[43mexample\u001b[49m\u001b[38;5;241;43m.\u001b[39;49m\u001b[43mevolution\u001b[49m\u001b[43m(\u001b[49m\u001b[43mpsi0\u001b[49m\u001b[43m,\u001b[49m\u001b[38;5;241;43m2\u001b[39;49m\u001b[43m,\u001b[49m\u001b[43mtimes\u001b[49m\u001b[43m,\u001b[49m\u001b[43me_ops\u001b[49m\u001b[38;5;241;43m=\u001b[39;49m\u001b[43m[\u001b[49m\u001b[43mH\u001b[49m\u001b[43m]\u001b[49m\u001b[43m,\u001b[49m\u001b[43moptions\u001b[49m\u001b[38;5;241;43m=\u001b[39;49m\u001b[43m{\u001b[49m\u001b[38;5;124;43m\"\u001b[39;49m\u001b[38;5;124;43matol\u001b[39;49m\u001b[38;5;124;43m\"\u001b[39;49m\u001b[43m:\u001b[49m\u001b[38;5;241;43m1e-14\u001b[39;49m\u001b[43m,\u001b[49m\u001b[38;5;124;43m\"\u001b[39;49m\u001b[38;5;124;43mmethod\u001b[39;49m\u001b[38;5;124;43m\"\u001b[39;49m\u001b[43m:\u001b[49m\u001b[43m \u001b[49m\u001b[38;5;124;43m\"\u001b[39;49m\u001b[38;5;124;43mdiffrax\u001b[39;49m\u001b[38;5;124;43m\"\u001b[39;49m\u001b[43m}\u001b[49m\u001b[43m)\u001b[49m\n",
      "File \u001b[0;32m~/github/DSE/pseudomode.py:72\u001b[0m, in \u001b[0;36mpseudomode.evolution\u001b[0;34m(self, initial, cutoff, t, e_ops, options)\u001b[0m\n\u001b[1;32m     70\u001b[0m e_ops\u001b[38;5;241m=\u001b[39m[\u001b[38;5;28mself\u001b[39m\u001b[38;5;241m.\u001b[39mtensor_id(\u001b[38;5;241m0\u001b[39m,cutoff,i) \u001b[38;5;28;01mfor\u001b[39;00m i \u001b[38;5;129;01min\u001b[39;00m e_ops]\n\u001b[1;32m     71\u001b[0m c_ops \u001b[38;5;241m=\u001b[39m[np\u001b[38;5;241m.\u001b[39msqrt(\u001b[38;5;241m-\u001b[39m\u001b[38;5;241m2\u001b[39m\u001b[38;5;241m*\u001b[39mnp\u001b[38;5;241m.\u001b[39mreal(i) \u001b[38;5;241m+\u001b[39m\u001b[38;5;241m0\u001b[39mj)\u001b[38;5;241m*\u001b[39md[k] \u001b[38;5;28;01mfor\u001b[39;00m k,i \u001b[38;5;129;01min\u001b[39;00m \u001b[38;5;28menumerate\u001b[39m(\u001b[38;5;28mself\u001b[39m\u001b[38;5;241m.\u001b[39mvks) ]\n\u001b[0;32m---> 72\u001b[0m \u001b[38;5;28;01mreturn\u001b[39;00m \u001b[43mmesolve\u001b[49m\u001b[43m(\u001b[49m\u001b[43mHeff\u001b[49m\u001b[43m,\u001b[49m\u001b[43m \u001b[49m\u001b[43minitial\u001b[49m\u001b[43m,\u001b[49m\u001b[43m \u001b[49m\u001b[43mt\u001b[49m\u001b[43m,\u001b[49m\u001b[43m \u001b[49m\u001b[43mc_ops\u001b[49m\u001b[38;5;241;43m=\u001b[39;49m\u001b[43mc_ops\u001b[49m\u001b[43m,\u001b[49m\u001b[43m \u001b[49m\u001b[43me_ops\u001b[49m\u001b[38;5;241;43m=\u001b[39;49m\u001b[43me_ops\u001b[49m\u001b[43m,\u001b[49m\u001b[43moptions\u001b[49m\u001b[38;5;241;43m=\u001b[39;49m\u001b[43moptions\u001b[49m\u001b[43m)\u001b[49m\n",
      "File \u001b[0;32m~/github/qutip_gsoc_app/qutip/solver/mesolve.py:144\u001b[0m, in \u001b[0;36mmesolve\u001b[0;34m(H, rho0, tlist, c_ops, e_ops, args, options, **kwargs)\u001b[0m\n\u001b[1;32m    140\u001b[0m \u001b[38;5;28;01mif\u001b[39;00m \u001b[38;5;129;01mnot\u001b[39;00m use_mesolve:\n\u001b[1;32m    141\u001b[0m     \u001b[38;5;28;01mreturn\u001b[39;00m sesolve(H, rho0, tlist, e_ops\u001b[38;5;241m=\u001b[39me_ops, args\u001b[38;5;241m=\u001b[39margs,\n\u001b[1;32m    142\u001b[0m                    options\u001b[38;5;241m=\u001b[39moptions)\n\u001b[0;32m--> 144\u001b[0m solver \u001b[38;5;241m=\u001b[39m \u001b[43mMESolver\u001b[49m\u001b[43m(\u001b[49m\u001b[43mH\u001b[49m\u001b[43m,\u001b[49m\u001b[43m \u001b[49m\u001b[43mc_ops\u001b[49m\u001b[43m,\u001b[49m\u001b[43m \u001b[49m\u001b[43moptions\u001b[49m\u001b[38;5;241;43m=\u001b[39;49m\u001b[43moptions\u001b[49m\u001b[43m)\u001b[49m\n\u001b[1;32m    146\u001b[0m \u001b[38;5;28;01mreturn\u001b[39;00m solver\u001b[38;5;241m.\u001b[39mrun(rho0, tlist, e_ops\u001b[38;5;241m=\u001b[39me_ops)\n",
      "File \u001b[0;32m~/github/qutip_gsoc_app/qutip/solver/mesolve.py:208\u001b[0m, in \u001b[0;36mMESolver.__init__\u001b[0;34m(self, H, c_ops, options)\u001b[0m\n\u001b[1;32m    204\u001b[0m         \u001b[38;5;28;01mraise\u001b[39;00m \u001b[38;5;167;01mTypeError\u001b[39;00m(\u001b[38;5;124m\"\u001b[39m\u001b[38;5;124mAll `c_ops` must be a Qobj or QobjEvo\u001b[39m\u001b[38;5;124m\"\u001b[39m)\n\u001b[1;32m    206\u001b[0m \u001b[38;5;28mself\u001b[39m\u001b[38;5;241m.\u001b[39m_num_collapse \u001b[38;5;241m=\u001b[39m \u001b[38;5;28mlen\u001b[39m(c_ops)\n\u001b[0;32m--> 208\u001b[0m rhs \u001b[38;5;241m=\u001b[39m H \u001b[38;5;28;01mif\u001b[39;00m H\u001b[38;5;241m.\u001b[39missuper \u001b[38;5;28;01melse\u001b[39;00m \u001b[43mliouvillian\u001b[49m\u001b[43m(\u001b[49m\u001b[43mH\u001b[49m\u001b[43m)\u001b[49m\n\u001b[1;32m    209\u001b[0m rhs \u001b[38;5;241m+\u001b[39m\u001b[38;5;241m=\u001b[39m \u001b[38;5;28msum\u001b[39m(c_op \u001b[38;5;28;01mif\u001b[39;00m c_op\u001b[38;5;241m.\u001b[39missuper \u001b[38;5;28;01melse\u001b[39;00m lindblad_dissipator(c_op)\n\u001b[1;32m    210\u001b[0m            \u001b[38;5;28;01mfor\u001b[39;00m c_op \u001b[38;5;129;01min\u001b[39;00m c_ops)\n\u001b[1;32m    212\u001b[0m Solver\u001b[38;5;241m.\u001b[39m\u001b[38;5;21m__init__\u001b[39m(\u001b[38;5;28mself\u001b[39m, rhs, options\u001b[38;5;241m=\u001b[39moptions)\n",
      "File \u001b[0;32m~/github/qutip_gsoc_app/qutip/core/superoperator.py:95\u001b[0m, in \u001b[0;36mliouvillian\u001b[0;34m(H, c_ops, data_only, chi)\u001b[0m\n\u001b[1;32m     91\u001b[0m     \u001b[38;5;28;01mraise\u001b[39;00m \u001b[38;5;167;01mTypeError\u001b[39;00m(\u001b[38;5;124m\"\u001b[39m\u001b[38;5;124mInvalid type for Hamiltonian.\u001b[39m\u001b[38;5;124m\"\u001b[39m)\n\u001b[1;32m     93\u001b[0m \u001b[38;5;28;01mif\u001b[39;00m \u001b[38;5;28misinstance\u001b[39m(H, QobjEvo) \u001b[38;5;129;01mor\u001b[39;00m \u001b[38;5;28many\u001b[39m(\u001b[38;5;28misinstance\u001b[39m(op, QobjEvo) \u001b[38;5;28;01mfor\u001b[39;00m op \u001b[38;5;129;01min\u001b[39;00m c_ops):\n\u001b[1;32m     94\u001b[0m     \u001b[38;5;66;03m# With QobjEvo, faster computation using Data is not used\u001b[39;00m\n\u001b[0;32m---> 95\u001b[0m     L \u001b[38;5;241m=\u001b[39m \u001b[38;5;241m-\u001b[39m\u001b[38;5;241m1.0\u001b[39mj \u001b[38;5;241m*\u001b[39m (\u001b[43mspre\u001b[49m\u001b[43m(\u001b[49m\u001b[43mH\u001b[49m\u001b[43m)\u001b[49m\u001b[43m \u001b[49m\u001b[38;5;241;43m-\u001b[39;49m\u001b[43m \u001b[49m\u001b[43mspost\u001b[49m\u001b[43m(\u001b[49m\u001b[43mH\u001b[49m\u001b[43m)\u001b[49m)\n\u001b[1;32m     96\u001b[0m     L \u001b[38;5;241m+\u001b[39m\u001b[38;5;241m=\u001b[39m \u001b[38;5;28msum\u001b[39m(lindblad_dissipator(c_op, chi\u001b[38;5;241m=\u001b[39mchi_)\n\u001b[1;32m     97\u001b[0m              \u001b[38;5;28;01mfor\u001b[39;00m c_op, chi_ \u001b[38;5;129;01min\u001b[39;00m \u001b[38;5;28mzip\u001b[39m(c_ops, chi))\n\u001b[1;32m     98\u001b[0m     \u001b[38;5;28;01mreturn\u001b[39;00m L\n",
      "File \u001b[0;32mqutip/core/cy/qobjevo.pyx:556\u001b[0m, in \u001b[0;36mqutip.core.cy.qobjevo.QobjEvo.__sub__\u001b[0;34m()\u001b[0m\n",
      "File \u001b[0;32mqutip/core/cy/qobjevo.pyx:683\u001b[0m, in \u001b[0;36mqutip.core.cy.qobjevo.QobjEvo.__neg__\u001b[0;34m()\u001b[0m\n",
      "File \u001b[0;32mqutip/core/cy/qobjevo.pyx:660\u001b[0m, in \u001b[0;36mqutip.core.cy.qobjevo.QobjEvo.__imul__\u001b[0;34m()\u001b[0m\n",
      "File \u001b[0;32mqutip/core/cy/_element.pyx:289\u001b[0m, in \u001b[0;36mqutip.core.cy._element._ConstantElement.__mul__\u001b[0;34m()\u001b[0m\n",
      "File \u001b[0;32m~/github/qutip_gsoc_app/qutip/core/qobj.py:440\u001b[0m, in \u001b[0;36mQobj.__mul__\u001b[0;34m(self, other)\u001b[0m\n\u001b[1;32m    436\u001b[0m \u001b[38;5;66;03m# We send other to mul instead of complex(other) to be more flexible.\u001b[39;00m\n\u001b[1;32m    437\u001b[0m \u001b[38;5;66;03m# The dispatcher can then decide how to handle other and return\u001b[39;00m\n\u001b[1;32m    438\u001b[0m \u001b[38;5;66;03m# TypeError if it does not know what to do with the type of other.\u001b[39;00m\n\u001b[1;32m    439\u001b[0m \u001b[38;5;28;01mtry\u001b[39;00m:\n\u001b[0;32m--> 440\u001b[0m     out \u001b[38;5;241m=\u001b[39m \u001b[43m_data\u001b[49m\u001b[38;5;241;43m.\u001b[39;49m\u001b[43mmul\u001b[49m\u001b[43m(\u001b[49m\u001b[38;5;28;43mself\u001b[39;49m\u001b[38;5;241;43m.\u001b[39;49m\u001b[43m_data\u001b[49m\u001b[43m,\u001b[49m\u001b[43m \u001b[49m\u001b[43mother\u001b[49m\u001b[43m)\u001b[49m\n\u001b[1;32m    441\u001b[0m \u001b[38;5;28;01mexcept\u001b[39;00m \u001b[38;5;167;01mTypeError\u001b[39;00m:\n\u001b[1;32m    442\u001b[0m     \u001b[38;5;28;01mreturn\u001b[39;00m \u001b[38;5;28mNotImplemented\u001b[39m\n",
      "File \u001b[0;32mqutip/core/data/dispatch.pyx:392\u001b[0m, in \u001b[0;36mqutip.core.data.dispatch.Dispatcher.__call__\u001b[0;34m()\u001b[0m\n",
      "\u001b[0;31mValueError\u001b[0m: RESOURCE_EXHAUSTED: Out of memory while trying to allocate 268435456 bytes."
     ]
    }
   ],
   "source": [
    "ans=example.evolution(psi0,2,times,e_ops=[H],options={\"atol\":1e-14,\"method\": \"diffrax\"})"
   ]
  },
  {
   "cell_type": "code",
   "execution_count": null,
   "metadata": {},
   "outputs": [
    {
     "ename": "UndefVarError",
     "evalue": "UndefVarError: `plt` not defined",
     "output_type": "error",
     "traceback": [
      "UndefVarError: `plt` not defined\n",
      "\n",
      "Stacktrace:\n",
      " [1] top-level scope\n",
      "   @ ~/github/DSE/heischain_clean.ipynb:1"
     ]
    }
   ],
   "source": [
    "plt.plot(times,ans.expect[0]-np.min(H.eigenenergies()))\n",
    "plt.plot(times,sdd-np.min(H.eigenenergies()))\n",
    "plt.yscale(\"log\")"
   ]
  },
  {
   "cell_type": "code",
   "execution_count": null,
   "metadata": {},
   "outputs": [
    {
     "ename": "UndefVarError",
     "evalue": "UndefVarError: `plt` not defined",
     "output_type": "error",
     "traceback": [
      "UndefVarError: `plt` not defined\n",
      "\n",
      "Stacktrace:\n",
      " [1] top-level scope\n",
      "   @ ~/github/DSE/heischain_clean.ipynb:1"
     ]
    }
   ],
   "source": [
    "plt.plot(times,ans.expect[0]-sdd)\n",
    "plt.yscale(\"log\")"
   ]
  },
  {
   "cell_type": "code",
   "execution_count": null,
   "metadata": {},
   "outputs": [],
   "source": []
  },
  {
   "cell_type": "code",
   "execution_count": null,
   "metadata": {},
   "outputs": [],
   "source": []
  },
  {
   "cell_type": "code",
   "execution_count": null,
   "metadata": {},
   "outputs": [],
   "source": []
  },
  {
   "cell_type": "code",
   "execution_count": null,
   "metadata": {},
   "outputs": [],
   "source": []
  },
  {
   "cell_type": "code",
   "execution_count": null,
   "metadata": {},
   "outputs": [],
   "source": []
  },
  {
   "cell_type": "code",
   "execution_count": null,
   "metadata": {},
   "outputs": [],
   "source": []
  },
  {
   "cell_type": "code",
   "execution_count": null,
   "metadata": {},
   "outputs": [],
   "source": []
  },
  {
   "cell_type": "code",
   "execution_count": null,
   "metadata": {},
   "outputs": [],
   "source": []
  },
  {
   "cell_type": "code",
   "execution_count": null,
   "metadata": {},
   "outputs": [],
   "source": []
  },
  {
   "cell_type": "code",
   "execution_count": null,
   "metadata": {},
   "outputs": [],
   "source": []
  },
  {
   "cell_type": "code",
   "execution_count": null,
   "metadata": {},
   "outputs": [],
   "source": []
  },
  {
   "cell_type": "code",
   "execution_count": null,
   "metadata": {},
   "outputs": [],
   "source": []
  },
  {
   "cell_type": "code",
   "execution_count": null,
   "metadata": {},
   "outputs": [],
   "source": []
  },
  {
   "cell_type": "code",
   "execution_count": null,
   "metadata": {},
   "outputs": [],
   "source": []
  },
  {
   "cell_type": "code",
   "execution_count": null,
   "metadata": {},
   "outputs": [],
   "source": []
  }
 ],
 "metadata": {
  "kernelspec": {
   "display_name": "qutip-dev",
   "language": "python",
   "name": "python3"
  },
  "language_info": {
   "codemirror_mode": {
    "name": "ipython",
    "version": 3
   },
   "file_extension": ".py",
   "mimetype": "text/x-python",
   "name": "python",
   "nbconvert_exporter": "python",
   "pygments_lexer": "ipython3",
   "version": "3.1.-1"
  }
 },
 "nbformat": 4,
 "nbformat_minor": 2
}
