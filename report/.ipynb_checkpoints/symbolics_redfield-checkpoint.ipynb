{
 "cells": [
  {
   "cell_type": "markdown",
   "id": "ebedc4f3-cb58-4f65-bf85-01b8f4ee6472",
   "metadata": {},
   "source": [
    "---\n",
    "title: Redfield Issue check \"Analytically\"\n",
    "date: 2024-08-08\n",
    "authors:\n",
    "  - name: Gerardo Suarez\n",
    "---"
   ]
  },
  {
   "cell_type": "markdown",
   "id": "5bfa3334-aef2-4166-b7be-7a75dcb777f4",
   "metadata": {},
   "source": [
    "Since there seems to be an issue with the Bloch-Redfield Solver in qutip and my not so good implementation \n",
    "of the time dependent redfield, here's a quick sympy check to make sure it's not the solvers"
   ]
  },
  {
   "cell_type": "code",
   "execution_count": 1,
   "id": "1fdad32f-dbc2-4415-9ce5-eae29880219e",
   "metadata": {},
   "outputs": [],
   "source": [
    "from sympy import *\n",
    "from sympy.physics.quantum import Dagger\n",
    "from sympy import I\n",
    "from collections import defaultdict\n",
    "import numpy as np\n",
    "import itertools\n",
    "from sympy.solvers.ode.systems import dsolve_system"
   ]
  },
  {
   "cell_type": "code",
   "execution_count": 2,
   "id": "2549d5d6",
   "metadata": {},
   "outputs": [],
   "source": [
    "a = symbols('a',real=True,positive=True)"
   ]
  },
  {
   "cell_type": "code",
   "execution_count": 3,
   "id": "d3b3c382",
   "metadata": {},
   "outputs": [
    {
     "data": {
      "text/latex": [
       "$\\displaystyle \\left[\\begin{matrix}- a & 0 & 0 & 0\\\\0 & a & 0 & 0\\\\0 & 0 & a & 0\\\\0 & 0 & 0 & - a\\end{matrix}\\right]$"
      ],
      "text/plain": [
       "Matrix([\n",
       "[-a, 0, 0,  0],\n",
       "[ 0, a, 0,  0],\n",
       "[ 0, 0, a,  0],\n",
       "[ 0, 0, 0, -a]])"
      ]
     },
     "execution_count": 3,
     "metadata": {},
     "output_type": "execute_result"
    }
   ],
   "source": [
    "H = diag(-a,a,a,-a)#the times 20 is to rescale time\n",
    "H"
   ]
  },
  {
   "cell_type": "code",
   "execution_count": 4,
   "id": "75dafc4a",
   "metadata": {},
   "outputs": [],
   "source": [
    "b= symbols('b0:8', real=True)"
   ]
  },
  {
   "cell_type": "markdown",
   "id": "1423a214-512e-4fcd-8f82-7dc28668d027",
   "metadata": {},
   "source": [
    "Here I define the coupling operator that make things break for Bloch-Redfield on the SYK model"
   ]
  },
  {
   "cell_type": "code",
   "execution_count": 5,
   "id": "c71646f1",
   "metadata": {},
   "outputs": [
    {
     "data": {
      "text/latex": [
       "$\\displaystyle \\left[\\begin{matrix}0 & b_{0} - i b_{1} & b_{2} - i b_{3} & 0\\\\b_{0} + i b_{1} & 0 & 0 & - b_{2} + i b_{3}\\\\b_{2} + i b_{3} & 0 & 0 & b_{0} - i b_{1}\\\\0 & - b_{2} - i b_{3} & b_{0} + i b_{1} & 0\\end{matrix}\\right]$"
      ],
      "text/plain": [
       "Matrix([\n",
       "[        0,  b0 - I*b1, b2 - I*b3,          0],\n",
       "[b0 + I*b1,          0,         0, -b2 + I*b3],\n",
       "[b2 + I*b3,          0,         0,  b0 - I*b1],\n",
       "[        0, -b2 - I*b3, b0 + I*b1,          0]])"
      ]
     },
     "execution_count": 5,
     "metadata": {},
     "output_type": "execute_result"
    }
   ],
   "source": [
    "# coupling operator non trivial like in the shinsey ryu paper. This difference is not dramatic for simpler couplings\n",
    "Q = Matrix([[0, b[0] - I*b[1], b[2] - I*b[3], 0],\n",
    "              [b[0] + I*b[1], 0, 0, -b[2] + I*b[3]],\n",
    "              [b[2] + I*b[3], 0, 0, b[0] - I*b[1]],\n",
    "              [0, -b[2] - I*b[3], b[0] + I*b[1], 0]])\n",
    "Q"
   ]
  },
  {
   "cell_type": "code",
   "execution_count": 6,
   "id": "b02f8e56",
   "metadata": {},
   "outputs": [
    {
     "data": {
      "text/plain": [
       "True"
      ]
     },
     "execution_count": 6,
     "metadata": {},
     "output_type": "execute_result"
    }
   ],
   "source": [
    "Dagger(Q) == Q #checking I didn't mess up "
   ]
  },
  {
   "cell_type": "code",
   "execution_count": 7,
   "id": "8403f1b4",
   "metadata": {},
   "outputs": [],
   "source": [
    "def comm(a,b):\n",
    "    return (a*b-b*a)"
   ]
  },
  {
   "cell_type": "markdown",
   "id": "7cb0eec4-bb92-4326-bd69-e0bbd235b196",
   "metadata": {},
   "source": [
    "I then get the eigenvalues and eigenvectors"
   ]
  },
  {
   "cell_type": "code",
   "execution_count": 8,
   "id": "88bd8f6b",
   "metadata": {},
   "outputs": [],
   "source": [
    "basis=H.eigenvects() # I probably don't need this step since the Hamiltonian is\n",
    "# Diagonal\n",
    "energies=[[i[0]]*i[1] for i in basis]\n",
    "energies = [x for xs in energies for x in xs]\n",
    "states = [i[2] for i in basis]\n",
    "states = [x for xs in states for x in xs ]"
   ]
  },
  {
   "cell_type": "code",
   "execution_count": 9,
   "id": "50389ccf",
   "metadata": {},
   "outputs": [],
   "source": [
    "def jump_operators(H,evals,all_state, Q):\n",
    "    \"\"\"\n",
    "    A function to obtain the jump operators\n",
    "    \"\"\"\n",
    "    collapse_list = []\n",
    "    ws = []\n",
    "    N=len(energies)\n",
    "    for j in range(N):\n",
    "        for k in range(j + 1, N):\n",
    "            Deltajk = evals[k] - evals[j]\n",
    "            ws.append(Deltajk)\n",
    "            collapse_list.append(\n",
    "                (\n",
    "                    all_state[j]\n",
    "                    * Dagger(all_state[j])\n",
    "                    * Q\n",
    "                    * all_state[k]\n",
    "                    * Dagger(all_state[k])\n",
    "                )\n",
    "            )  # emission\n",
    "            ws.append(-Deltajk)\n",
    "            collapse_list.append(\n",
    "                (\n",
    "                    all_state[k]\n",
    "                    * Dagger(all_state[k])\n",
    "                    * Q\n",
    "                    * all_state[j]\n",
    "                    * Dagger(all_state[j])\n",
    "                )\n",
    "            )  # absorption\n",
    "    collapse_list.append(Q - sum(collapse_list,zeros(N)))  # Dephasing\n",
    "    ws.append(0)\n",
    "    output = defaultdict(list)\n",
    "    for k, key in enumerate(ws):\n",
    "        output[key].append(collapse_list[k])\n",
    "    eldict = {x: sum(y, zeros(N)) for x, y in output.items()}\n",
    "    dictrem = {}\n",
    "    empty = 0*H\n",
    "    for keys, values in eldict.items():\n",
    "        if not (values == empty):\n",
    "            dictrem[keys] = values\n",
    "    return dictrem"
   ]
  },
  {
   "cell_type": "code",
   "execution_count": 10,
   "id": "6460d318",
   "metadata": {},
   "outputs": [],
   "source": [
    "jumps=jump_operators(H,energies,states,Q)"
   ]
  },
  {
   "cell_type": "markdown",
   "id": "dfcac538-9434-4da6-8160-554e9aa00b12",
   "metadata": {},
   "source": [
    "### Jump operator checks\n",
    "\n",
    "The jump operators must satisfy\n",
    "\n",
    "$$[H,A(\\omega)]=-\\omega A(\\omega)$$\n",
    "$$[H,A^{\\dagger}(\\omega) A(\\omega)]=0$$\n",
    "$$\\sum_{w} A(\\omega)= A$$"
   ]
  },
  {
   "cell_type": "code",
   "execution_count": 11,
   "id": "8dfbad5b",
   "metadata": {},
   "outputs": [
    {
     "data": {
      "text/plain": [
       "True"
      ]
     },
     "execution_count": 11,
     "metadata": {},
     "output_type": "execute_result"
    }
   ],
   "source": [
    "comm(H,jumps[2*a])/(-2*a) == jumps[2*a] #checking jump decomposition is fine"
   ]
  },
  {
   "cell_type": "code",
   "execution_count": 12,
   "id": "46bf0622",
   "metadata": {},
   "outputs": [
    {
     "data": {
      "text/plain": [
       "True"
      ]
     },
     "execution_count": 12,
     "metadata": {},
     "output_type": "execute_result"
    }
   ],
   "source": [
    "comm(H,Dagger(jumps[2*a])*jumps[2*a]) == zeros(4)"
   ]
  },
  {
   "cell_type": "code",
   "execution_count": 13,
   "id": "6ce5fc0c",
   "metadata": {},
   "outputs": [
    {
     "data": {
      "text/plain": [
       "True"
      ]
     },
     "execution_count": 13,
     "metadata": {},
     "output_type": "execute_result"
    }
   ],
   "source": [
    "jumps[2*a]+jumps[-2*a] ==Q"
   ]
  },
  {
   "cell_type": "markdown",
   "id": "20c97cc3",
   "metadata": {},
   "source": [
    "### Constucting the Differential equations\n",
    "We now construct the differential equations from the GKLS form of the bloch \n",
    "Redfield generator\n",
    "\n",
    "$$\\begin{aligned}\n",
    "     \\dot{\\rho_{S}^{I}(t)}{t} &=\n",
    "    \\sum_{\\omega,\\omega',\\alpha,\\beta} \\gamma_{\\beta,\\alpha}(\\omega,\\omega')  \\left( S_{\\alpha}(\\omega')  \\rho^{I}_{S}(t) S^{\\dagger}_{\\beta}(\\omega)- \\frac{ \\{S^{\\dagger}_{\\beta}(\\omega) S_{\\alpha}(\\omega'),\\rho^{I}_{S}(t)\\}}{2} \\right) \\nonumber \\\\\n",
    "    &+i \\sum_{\\omega,\\omega',\\alpha,\\beta} S_{\\beta,\\alpha}(\\omega,\\omega') \\Big[ \\rho^{I}_{S}(t), S^{\\dagger}_{\\beta}(\\omega) S_{\\alpha}(\\omega')\\Big]\\end{aligned}$$\n",
    "\n",
    "I solve in the interaction picture generally, I did the same in my numerics so it should not be an issue (I rotate in the end).\n",
    "By neglecting Lambshift as in the numerics\n",
    "\n",
    "$$\n",
    "     \\dot{\\rho_{S}^{I}(t)}{t} =\n",
    "    \\sum_{\\omega,\\omega',\\alpha,\\beta} \\gamma_{\\beta,\\alpha}(\\omega,\\omega')  \\left( S_{\\alpha}(\\omega')  \\rho^{I}_{S}(t) S^{\\dagger}_{\\beta}(\\omega)- \\frac{ \\{S^{\\dagger}_{\\beta}(\\omega) S_{\\alpha}(\\omega'),\\rho^{I}_{S}(t)\\}}{2} \\right)$$\n"
   ]
  },
  {
   "cell_type": "code",
   "execution_count": 14,
   "id": "a7b082cd",
   "metadata": {},
   "outputs": [
    {
     "data": {
      "text/latex": [
       "$\\displaystyle \\left[\\begin{matrix}\\rho_{1} & \\rho_{2} & \\rho_{3} & \\rho_{4}\\\\\\overline{\\rho_{2}} & \\rho_{6} & \\overline{\\rho_{10}} & \\rho_{8}\\\\\\overline{\\rho_{3}} & \\rho_{10} & \\rho_{11} & \\rho_{12}\\\\\\overline{\\rho_{4}} & \\overline{\\rho_{8}} & \\overline{\\rho_{12}} & - \\rho_{1} - \\rho_{11} - \\rho_{6} + 1\\end{matrix}\\right]$"
      ],
      "text/plain": [
       "Matrix([\n",
       "[           rho_1,            rho_2,             rho_3,                       rho_4],\n",
       "[conjugate(rho_2),            rho_6, conjugate(rho_10),                       rho_8],\n",
       "[conjugate(rho_3),           rho_10,            rho_11,                      rho_12],\n",
       "[conjugate(rho_4), conjugate(rho_8), conjugate(rho_12), -rho_1 - rho_11 - rho_6 + 1]])"
      ]
     },
     "execution_count": 14,
     "metadata": {},
     "output_type": "execute_result"
    }
   ],
   "source": [
    "# Simply define the symbolic density operator\n",
    "rho = symbols('rho_1:17')\n",
    "rho = Matrix(\n",
    "    [rho[0: 4],\n",
    "     rho[4: 8],\n",
    "     rho[8: 12],\n",
    "     rho[12:]]).subs(\n",
    "    rho[-1],\n",
    "    1 - rho[0] - rho[5] - rho[10])\n",
    "rho=rho.subs({rho[4]: conjugate(rho[1]), rho[8]: conjugate(rho[2]),\n",
    "          rho[12]:conjugate(rho[3]),rho[6]:conjugate(rho[9]),\n",
    "          rho[13]: conjugate(rho[7]), rho[14]:conjugate(rho[11])})\n",
    "rho\n"
   ]
  },
  {
   "cell_type": "code",
   "execution_count": 15,
   "id": "f9fc89cd",
   "metadata": {},
   "outputs": [],
   "source": [
    "# This bit is simply the GKLS form without the appropiate coefficients\n",
    "def matrix_form(jumps, combinations,rho):\n",
    "    matrixform = {}\n",
    "    for i in combinations:\n",
    "        matrixform[i] = (\n",
    "            jumps[i[1]]*rho *Dagger(jumps[i[0]]) -\n",
    "            (0.5 *\n",
    "                (Dagger(jumps[i[0]]) * jumps[i[1]]*rho +\n",
    "                rho*Dagger(jumps[i[0]])* jumps[i[1]])))\n",
    "    return matrixform"
   ]
  },
  {
   "cell_type": "markdown",
   "id": "4eef16cd-27d9-4e19-bfb9-843133dec8f0",
   "metadata": {},
   "source": [
    "As the sum goes on $(\\omega,\\omega')$ pairs I construct all combinations"
   ]
  },
  {
   "cell_type": "code",
   "execution_count": 16,
   "id": "08677830",
   "metadata": {},
   "outputs": [],
   "source": [
    "ws = list(jumps.keys())\n",
    "combinations = list(itertools.product(ws, ws))"
   ]
  },
  {
   "cell_type": "markdown",
   "id": "3e141f79-89f0-4ebf-95d3-e6e40fdcd553",
   "metadata": {},
   "source": [
    "I get the GKLS form of each of those combinations, as a dictionary"
   ]
  },
  {
   "cell_type": "code",
   "execution_count": 17,
   "id": "863a1625",
   "metadata": {},
   "outputs": [],
   "source": [
    "matrices=matrix_form(jumps,combinations,rho)"
   ]
  },
  {
   "cell_type": "markdown",
   "id": "e68353c8",
   "metadata": {},
   "source": [
    "Then I construct the generator by multiplying the appropiate coefficient to each of the GKLS from matrices. Now for the coefficients we have\n",
    "\n",
    "$$\\begin{aligned}\n",
    "    \\Gamma_{\\alpha,\\beta}(\\omega,t) = \\int_{0}^{t} ds e^{i \\omega s}  \\langle B^{\\dagger}_{\\alpha}(t) B_{\\beta}^{\\dagger}(t-s) \\rangle_{B} \\end{aligned}$$\n",
    "\n",
    "For convenience we also define\n",
    "\n",
    "$$\\begin{aligned}\n",
    "    \\Gamma_{\\alpha,\\beta}(\\omega,\\omega',t) = e^{i (\\omega'-\\omega) t} \\int_{0}^{t} ds e^{i \\omega s}  \\langle B_{\\alpha}^{\\dagger}(t) B_{\\beta}(t-s) \\rangle_{B} =e^{i (\\omega'-\\omega) t} \\Gamma_{\\alpha,\\beta}(\\omega,t) \\end{aligned}$$\n",
    "\n",
    "Since I mainly care about bloch-redfield I make $t \\xrightarrow{} \\infty$ (in the integral) so\n",
    "\n",
    "$$\\begin{aligned}\n",
    "    \\Gamma_{\\alpha,\\beta}(\\omega,\\omega',t) = e^{i (\\omega'-\\omega) t} \\int_{0}^{\\infty} ds e^{i \\omega s}  \\langle B(s) B(0) \\rangle_{B} =e^{i (\\omega'-\\omega) t} \\Gamma_{\\alpha,\\beta}(\\omega) \\end{aligned}$$\n",
    "\n",
    "Where $\\Gamma_{\\alpha,\\beta}(\\omega)$  is the power spectrum"
   ]
  },
  {
   "cell_type": "code",
   "execution_count": 18,
   "id": "6ac9ce63",
   "metadata": {},
   "outputs": [],
   "source": [
    "lam,T,w0,t,gam=symbols(\"lambda T w0 t gamma\",real=True)"
   ]
  },
  {
   "cell_type": "code",
   "execution_count": 19,
   "id": "b8baf7d0",
   "metadata": {},
   "outputs": [],
   "source": [
    "def power_spectrum(w):\n",
    "    if w==0:\n",
    "        return 2 * lam**2 * gam / ( w0**4 * 1/T)\n",
    "    else:\n",
    "        return 2 * lam**2 * gam * w / ((w0**2 - w**2)**2 + gam**2 * w**2) * ((1 / (exp(w /T) - 1)) + 1)"
   ]
  },
  {
   "cell_type": "code",
   "execution_count": 20,
   "id": "b1272dc3",
   "metadata": {},
   "outputs": [],
   "source": [
    "def generator(combinations, matrices):\n",
    "    gen = [\n",
    "        limit(exp(I*(s[1]-s[0])* t)*power_spectrum(s[0]),T,0) * matrices[s]\n",
    "        for s in combinations]\n",
    "    return sum(gen, zeros(4))      "
   ]
  },
  {
   "cell_type": "code",
   "execution_count": 21,
   "id": "a0de0736",
   "metadata": {},
   "outputs": [],
   "source": [
    "gene = generator(combinations,matrices)"
   ]
  },
  {
   "cell_type": "code",
   "execution_count": 22,
   "id": "bcdd6c8d-c207-45b9-b878-7789f3e2b4c3",
   "metadata": {},
   "outputs": [
    {
     "data": {
      "text/latex": [
       "$\\displaystyle \\left[\\begin{matrix}\\frac{4 a \\gamma \\lambda^{2} \\left(\\left(b_{0} + i b_{1}\\right) \\left(\\rho_{10} \\left(b_{2} - i b_{3}\\right) + \\rho_{6} \\left(b_{0} - i b_{1}\\right)\\right) + \\left(b_{2} + i b_{3}\\right) \\left(\\rho_{11} \\left(b_{2} - i b_{3}\\right) + \\left(b_{0} - i b_{1}\\right) \\overline{\\rho_{10}}\\right)\\right)}{4 a^{2} \\gamma^{2} + \\left(- 4 a^{2} + w_{0}^{2}\\right)^{2}} & \\frac{4 a \\gamma \\lambda^{2} \\left(- 0.5 \\left(b_{0} - i b_{1}\\right) \\left(\\rho_{2} \\left(b_{0} + i b_{1}\\right) + \\rho_{3} \\left(b_{2} + i b_{3}\\right)\\right) - 0.5 \\left(- b_{2} - i b_{3}\\right) \\left(\\rho_{2} \\left(- b_{2} + i b_{3}\\right) + \\rho_{3} \\left(b_{0} - i b_{1}\\right)\\right)\\right)}{4 a^{2} \\gamma^{2} + \\left(- 4 a^{2} + w_{0}^{2}\\right)^{2}} & \\frac{4 a \\gamma \\lambda^{2} \\left(- 0.5 \\left(b_{0} + i b_{1}\\right) \\left(\\rho_{2} \\left(- b_{2} + i b_{3}\\right) + \\rho_{3} \\left(b_{0} - i b_{1}\\right)\\right) - 0.5 \\left(b_{2} - i b_{3}\\right) \\left(\\rho_{2} \\left(b_{0} + i b_{1}\\right) + \\rho_{3} \\left(b_{2} + i b_{3}\\right)\\right)\\right)}{4 a^{2} \\gamma^{2} + \\left(- 4 a^{2} + w_{0}^{2}\\right)^{2}} & \\frac{4 a \\gamma \\lambda^{2} \\left(\\left(b_{0} - i b_{1}\\right) \\left(\\rho_{11} \\left(b_{2} - i b_{3}\\right) + \\left(b_{0} - i b_{1}\\right) \\overline{\\rho_{10}}\\right) + \\left(- b_{2} + i b_{3}\\right) \\left(\\rho_{10} \\left(b_{2} - i b_{3}\\right) + \\rho_{6} \\left(b_{0} - i b_{1}\\right)\\right)\\right)}{4 a^{2} \\gamma^{2} + \\left(- 4 a^{2} + w_{0}^{2}\\right)^{2}}\\\\\\frac{4 a \\gamma \\lambda^{2} \\left(\\left(b_{0} + i b_{1}\\right) \\left(\\rho_{2} \\left(b_{0} + i b_{1}\\right) + \\left(- b_{2} + i b_{3}\\right) \\overline{\\rho_{8}}\\right) + \\left(b_{2} + i b_{3}\\right) \\left(\\rho_{3} \\left(b_{0} + i b_{1}\\right) + \\left(- b_{2} + i b_{3}\\right) \\overline{\\rho_{12}}\\right)\\right) e^{- 4 i a t}}{4 a^{2} \\gamma^{2} + \\left(- 4 a^{2} + w_{0}^{2}\\right)^{2}} + \\frac{4 a \\gamma \\lambda^{2} \\left(- 0.5 \\left(\\left(b_{0} - i b_{1}\\right) \\left(b_{0} + i b_{1}\\right) + \\left(- b_{2} - i b_{3}\\right) \\left(- b_{2} + i b_{3}\\right)\\right) \\overline{\\rho_{2}} - 0.5 \\left(\\left(b_{0} + i b_{1}\\right) \\left(- b_{2} + i b_{3}\\right) + \\left(b_{0} + i b_{1}\\right) \\left(b_{2} - i b_{3}\\right)\\right) \\overline{\\rho_{3}}\\right)}{4 a^{2} \\gamma^{2} + \\left(- 4 a^{2} + w_{0}^{2}\\right)^{2}} & \\frac{4 a \\gamma \\lambda^{2} \\left(- 0.5 \\rho_{10} \\left(\\left(b_{0} + i b_{1}\\right) \\left(- b_{2} + i b_{3}\\right) + \\left(b_{0} + i b_{1}\\right) \\left(b_{2} - i b_{3}\\right)\\right) - 0.5 \\rho_{6} \\left(\\left(b_{0} - i b_{1}\\right) \\left(b_{0} + i b_{1}\\right) + \\left(- b_{2} - i b_{3}\\right) \\left(- b_{2} + i b_{3}\\right)\\right) - 0.5 \\left(b_{0} - i b_{1}\\right) \\left(\\rho_{6} \\left(b_{0} + i b_{1}\\right) + \\left(b_{2} + i b_{3}\\right) \\overline{\\rho_{10}}\\right) - 0.5 \\left(- b_{2} - i b_{3}\\right) \\left(\\rho_{6} \\left(- b_{2} + i b_{3}\\right) + \\left(b_{0} - i b_{1}\\right) \\overline{\\rho_{10}}\\right)\\right)}{4 a^{2} \\gamma^{2} + \\left(- 4 a^{2} + w_{0}^{2}\\right)^{2}} & \\frac{4 a \\gamma \\lambda^{2} \\left(- 0.5 \\rho_{11} \\left(\\left(b_{0} + i b_{1}\\right) \\left(- b_{2} + i b_{3}\\right) + \\left(b_{0} + i b_{1}\\right) \\left(b_{2} - i b_{3}\\right)\\right) - 0.5 \\left(b_{0} + i b_{1}\\right) \\left(\\rho_{6} \\left(- b_{2} + i b_{3}\\right) + \\left(b_{0} - i b_{1}\\right) \\overline{\\rho_{10}}\\right) - 0.5 \\left(b_{2} - i b_{3}\\right) \\left(\\rho_{6} \\left(b_{0} + i b_{1}\\right) + \\left(b_{2} + i b_{3}\\right) \\overline{\\rho_{10}}\\right) - 0.5 \\left(\\left(b_{0} - i b_{1}\\right) \\left(b_{0} + i b_{1}\\right) + \\left(- b_{2} - i b_{3}\\right) \\left(- b_{2} + i b_{3}\\right)\\right) \\overline{\\rho_{10}}\\right)}{4 a^{2} \\gamma^{2} + \\left(- 4 a^{2} + w_{0}^{2}\\right)^{2}} & \\frac{4 a \\gamma \\lambda^{2} \\left(- 0.5 \\rho_{12} \\left(\\left(b_{0} + i b_{1}\\right) \\left(- b_{2} + i b_{3}\\right) + \\left(b_{0} + i b_{1}\\right) \\left(b_{2} - i b_{3}\\right)\\right) - 0.5 \\rho_{8} \\left(\\left(b_{0} - i b_{1}\\right) \\left(b_{0} + i b_{1}\\right) + \\left(- b_{2} - i b_{3}\\right) \\left(- b_{2} + i b_{3}\\right)\\right)\\right)}{4 a^{2} \\gamma^{2} + \\left(- 4 a^{2} + w_{0}^{2}\\right)^{2}} + \\frac{4 a \\gamma \\lambda^{2} \\left(\\left(b_{0} - i b_{1}\\right) \\left(\\rho_{3} \\left(b_{0} + i b_{1}\\right) + \\left(- b_{2} + i b_{3}\\right) \\overline{\\rho_{12}}\\right) + \\left(- b_{2} + i b_{3}\\right) \\left(\\rho_{2} \\left(b_{0} + i b_{1}\\right) + \\left(- b_{2} + i b_{3}\\right) \\overline{\\rho_{8}}\\right)\\right) e^{- 4 i a t}}{4 a^{2} \\gamma^{2} + \\left(- 4 a^{2} + w_{0}^{2}\\right)^{2}}\\\\\\frac{4 a \\gamma \\lambda^{2} \\left(\\left(b_{0} + i b_{1}\\right) \\left(\\rho_{2} \\left(b_{2} + i b_{3}\\right) + \\left(b_{0} - i b_{1}\\right) \\overline{\\rho_{8}}\\right) + \\left(b_{2} + i b_{3}\\right) \\left(\\rho_{3} \\left(b_{2} + i b_{3}\\right) + \\left(b_{0} - i b_{1}\\right) \\overline{\\rho_{12}}\\right)\\right) e^{- 4 i a t}}{4 a^{2} \\gamma^{2} + \\left(- 4 a^{2} + w_{0}^{2}\\right)^{2}} + \\frac{4 a \\gamma \\lambda^{2} \\left(- 0.5 \\left(\\left(b_{0} - i b_{1}\\right) \\left(b_{0} + i b_{1}\\right) + \\left(b_{2} - i b_{3}\\right) \\left(b_{2} + i b_{3}\\right)\\right) \\overline{\\rho_{3}} - 0.5 \\left(\\left(b_{0} - i b_{1}\\right) \\left(- b_{2} - i b_{3}\\right) + \\left(b_{0} - i b_{1}\\right) \\left(b_{2} + i b_{3}\\right)\\right) \\overline{\\rho_{2}}\\right)}{4 a^{2} \\gamma^{2} + \\left(- 4 a^{2} + w_{0}^{2}\\right)^{2}} & \\frac{4 a \\gamma \\lambda^{2} \\left(- 0.5 \\rho_{10} \\left(\\left(b_{0} - i b_{1}\\right) \\left(b_{0} + i b_{1}\\right) + \\left(b_{2} - i b_{3}\\right) \\left(b_{2} + i b_{3}\\right)\\right) - 0.5 \\rho_{6} \\left(\\left(b_{0} - i b_{1}\\right) \\left(- b_{2} - i b_{3}\\right) + \\left(b_{0} - i b_{1}\\right) \\left(b_{2} + i b_{3}\\right)\\right) - 0.5 \\left(b_{0} - i b_{1}\\right) \\left(\\rho_{10} \\left(b_{0} + i b_{1}\\right) + \\rho_{11} \\left(b_{2} + i b_{3}\\right)\\right) - 0.5 \\left(- b_{2} - i b_{3}\\right) \\left(\\rho_{10} \\left(- b_{2} + i b_{3}\\right) + \\rho_{11} \\left(b_{0} - i b_{1}\\right)\\right)\\right)}{4 a^{2} \\gamma^{2} + \\left(- 4 a^{2} + w_{0}^{2}\\right)^{2}} & \\frac{4 a \\gamma \\lambda^{2} \\left(- 0.5 \\rho_{11} \\left(\\left(b_{0} - i b_{1}\\right) \\left(b_{0} + i b_{1}\\right) + \\left(b_{2} - i b_{3}\\right) \\left(b_{2} + i b_{3}\\right)\\right) - 0.5 \\left(b_{0} + i b_{1}\\right) \\left(\\rho_{10} \\left(- b_{2} + i b_{3}\\right) + \\rho_{11} \\left(b_{0} - i b_{1}\\right)\\right) - 0.5 \\left(b_{2} - i b_{3}\\right) \\left(\\rho_{10} \\left(b_{0} + i b_{1}\\right) + \\rho_{11} \\left(b_{2} + i b_{3}\\right)\\right) - 0.5 \\left(\\left(b_{0} - i b_{1}\\right) \\left(- b_{2} - i b_{3}\\right) + \\left(b_{0} - i b_{1}\\right) \\left(b_{2} + i b_{3}\\right)\\right) \\overline{\\rho_{10}}\\right)}{4 a^{2} \\gamma^{2} + \\left(- 4 a^{2} + w_{0}^{2}\\right)^{2}} & \\frac{4 a \\gamma \\lambda^{2} \\left(- 0.5 \\rho_{12} \\left(\\left(b_{0} - i b_{1}\\right) \\left(b_{0} + i b_{1}\\right) + \\left(b_{2} - i b_{3}\\right) \\left(b_{2} + i b_{3}\\right)\\right) - 0.5 \\rho_{8} \\left(\\left(b_{0} - i b_{1}\\right) \\left(- b_{2} - i b_{3}\\right) + \\left(b_{0} - i b_{1}\\right) \\left(b_{2} + i b_{3}\\right)\\right)\\right)}{4 a^{2} \\gamma^{2} + \\left(- 4 a^{2} + w_{0}^{2}\\right)^{2}} + \\frac{4 a \\gamma \\lambda^{2} \\left(\\left(b_{0} - i b_{1}\\right) \\left(\\rho_{3} \\left(b_{2} + i b_{3}\\right) + \\left(b_{0} - i b_{1}\\right) \\overline{\\rho_{12}}\\right) + \\left(- b_{2} + i b_{3}\\right) \\left(\\rho_{2} \\left(b_{2} + i b_{3}\\right) + \\left(b_{0} - i b_{1}\\right) \\overline{\\rho_{8}}\\right)\\right) e^{- 4 i a t}}{4 a^{2} \\gamma^{2} + \\left(- 4 a^{2} + w_{0}^{2}\\right)^{2}}\\\\\\frac{4 a \\gamma \\lambda^{2} \\left(\\left(b_{0} + i b_{1}\\right) \\left(\\rho_{10} \\left(b_{0} + i b_{1}\\right) + \\rho_{6} \\left(- b_{2} - i b_{3}\\right)\\right) + \\left(b_{2} + i b_{3}\\right) \\left(\\rho_{11} \\left(b_{0} + i b_{1}\\right) + \\left(- b_{2} - i b_{3}\\right) \\overline{\\rho_{10}}\\right)\\right)}{4 a^{2} \\gamma^{2} + \\left(- 4 a^{2} + w_{0}^{2}\\right)^{2}} & \\frac{4 a \\gamma \\lambda^{2} \\left(- 0.5 \\left(b_{0} - i b_{1}\\right) \\left(\\left(b_{0} + i b_{1}\\right) \\overline{\\rho_{8}} + \\left(b_{2} + i b_{3}\\right) \\overline{\\rho_{12}}\\right) - 0.5 \\left(- b_{2} - i b_{3}\\right) \\left(\\left(b_{0} - i b_{1}\\right) \\overline{\\rho_{12}} + \\left(- b_{2} + i b_{3}\\right) \\overline{\\rho_{8}}\\right)\\right)}{4 a^{2} \\gamma^{2} + \\left(- 4 a^{2} + w_{0}^{2}\\right)^{2}} & \\frac{4 a \\gamma \\lambda^{2} \\left(- 0.5 \\left(b_{0} + i b_{1}\\right) \\left(\\left(b_{0} - i b_{1}\\right) \\overline{\\rho_{12}} + \\left(- b_{2} + i b_{3}\\right) \\overline{\\rho_{8}}\\right) - 0.5 \\left(b_{2} - i b_{3}\\right) \\left(\\left(b_{0} + i b_{1}\\right) \\overline{\\rho_{8}} + \\left(b_{2} + i b_{3}\\right) \\overline{\\rho_{12}}\\right)\\right)}{4 a^{2} \\gamma^{2} + \\left(- 4 a^{2} + w_{0}^{2}\\right)^{2}} & \\frac{4 a \\gamma \\lambda^{2} \\left(\\left(b_{0} - i b_{1}\\right) \\left(\\rho_{11} \\left(b_{0} + i b_{1}\\right) + \\left(- b_{2} - i b_{3}\\right) \\overline{\\rho_{10}}\\right) + \\left(- b_{2} + i b_{3}\\right) \\left(\\rho_{10} \\left(b_{0} + i b_{1}\\right) + \\rho_{6} \\left(- b_{2} - i b_{3}\\right)\\right)\\right)}{4 a^{2} \\gamma^{2} + \\left(- 4 a^{2} + w_{0}^{2}\\right)^{2}}\\end{matrix}\\right]$"
      ],
      "text/plain": [
       "Matrix([\n",
       "[                                                                                                                                                                                                                                                  4*a*gamma*lambda**2*((b0 + I*b1)*(rho_10*(b2 - I*b3) + rho_6*(b0 - I*b1)) + (b2 + I*b3)*(rho_11*(b2 - I*b3) + (b0 - I*b1)*conjugate(rho_10)))/(4*a**2*gamma**2 + (-4*a**2 + w0**2)**2),                                                                                                                                                             4*a*gamma*lambda**2*(-0.5*(b0 - I*b1)*(rho_2*(b0 + I*b1) + rho_3*(b2 + I*b3)) - 0.5*(-b2 - I*b3)*(rho_2*(-b2 + I*b3) + rho_3*(b0 - I*b1)))/(4*a**2*gamma**2 + (-4*a**2 + w0**2)**2),                                                                                                                                                                         4*a*gamma*lambda**2*(-0.5*(b0 + I*b1)*(rho_2*(-b2 + I*b3) + rho_3*(b0 - I*b1)) - 0.5*(b2 - I*b3)*(rho_2*(b0 + I*b1) + rho_3*(b2 + I*b3)))/(4*a**2*gamma**2 + (-4*a**2 + w0**2)**2),                                                                                                                                                                                                                              4*a*gamma*lambda**2*((b0 - I*b1)*(rho_11*(b2 - I*b3) + (b0 - I*b1)*conjugate(rho_10)) + (-b2 + I*b3)*(rho_10*(b2 - I*b3) + rho_6*(b0 - I*b1)))/(4*a**2*gamma**2 + (-4*a**2 + w0**2)**2)],\n",
       "[4*a*gamma*lambda**2*((b0 + I*b1)*(rho_2*(b0 + I*b1) + (-b2 + I*b3)*conjugate(rho_8)) + (b2 + I*b3)*(rho_3*(b0 + I*b1) + (-b2 + I*b3)*conjugate(rho_12)))*exp(-4*I*a*t)/(4*a**2*gamma**2 + (-4*a**2 + w0**2)**2) + 4*a*gamma*lambda**2*(-0.5*((b0 - I*b1)*(b0 + I*b1) + (-b2 - I*b3)*(-b2 + I*b3))*conjugate(rho_2) - 0.5*((b0 + I*b1)*(-b2 + I*b3) + (b0 + I*b1)*(b2 - I*b3))*conjugate(rho_3))/(4*a**2*gamma**2 + (-4*a**2 + w0**2)**2), 4*a*gamma*lambda**2*(-0.5*rho_10*((b0 + I*b1)*(-b2 + I*b3) + (b0 + I*b1)*(b2 - I*b3)) - 0.5*rho_6*((b0 - I*b1)*(b0 + I*b1) + (-b2 - I*b3)*(-b2 + I*b3)) - 0.5*(b0 - I*b1)*(rho_6*(b0 + I*b1) + (b2 + I*b3)*conjugate(rho_10)) - 0.5*(-b2 - I*b3)*(rho_6*(-b2 + I*b3) + (b0 - I*b1)*conjugate(rho_10)))/(4*a**2*gamma**2 + (-4*a**2 + w0**2)**2), 4*a*gamma*lambda**2*(-0.5*rho_11*((b0 + I*b1)*(-b2 + I*b3) + (b0 + I*b1)*(b2 - I*b3)) - 0.5*(b0 + I*b1)*(rho_6*(-b2 + I*b3) + (b0 - I*b1)*conjugate(rho_10)) - 0.5*(b2 - I*b3)*(rho_6*(b0 + I*b1) + (b2 + I*b3)*conjugate(rho_10)) - 0.5*((b0 - I*b1)*(b0 + I*b1) + (-b2 - I*b3)*(-b2 + I*b3))*conjugate(rho_10))/(4*a**2*gamma**2 + (-4*a**2 + w0**2)**2), 4*a*gamma*lambda**2*(-0.5*rho_12*((b0 + I*b1)*(-b2 + I*b3) + (b0 + I*b1)*(b2 - I*b3)) - 0.5*rho_8*((b0 - I*b1)*(b0 + I*b1) + (-b2 - I*b3)*(-b2 + I*b3)))/(4*a**2*gamma**2 + (-4*a**2 + w0**2)**2) + 4*a*gamma*lambda**2*((b0 - I*b1)*(rho_3*(b0 + I*b1) + (-b2 + I*b3)*conjugate(rho_12)) + (-b2 + I*b3)*(rho_2*(b0 + I*b1) + (-b2 + I*b3)*conjugate(rho_8)))*exp(-4*I*a*t)/(4*a**2*gamma**2 + (-4*a**2 + w0**2)**2)],\n",
       "[    4*a*gamma*lambda**2*((b0 + I*b1)*(rho_2*(b2 + I*b3) + (b0 - I*b1)*conjugate(rho_8)) + (b2 + I*b3)*(rho_3*(b2 + I*b3) + (b0 - I*b1)*conjugate(rho_12)))*exp(-4*I*a*t)/(4*a**2*gamma**2 + (-4*a**2 + w0**2)**2) + 4*a*gamma*lambda**2*(-0.5*((b0 - I*b1)*(b0 + I*b1) + (b2 - I*b3)*(b2 + I*b3))*conjugate(rho_3) - 0.5*((b0 - I*b1)*(-b2 - I*b3) + (b0 - I*b1)*(b2 + I*b3))*conjugate(rho_2))/(4*a**2*gamma**2 + (-4*a**2 + w0**2)**2),                       4*a*gamma*lambda**2*(-0.5*rho_10*((b0 - I*b1)*(b0 + I*b1) + (b2 - I*b3)*(b2 + I*b3)) - 0.5*rho_6*((b0 - I*b1)*(-b2 - I*b3) + (b0 - I*b1)*(b2 + I*b3)) - 0.5*(b0 - I*b1)*(rho_10*(b0 + I*b1) + rho_11*(b2 + I*b3)) - 0.5*(-b2 - I*b3)*(rho_10*(-b2 + I*b3) + rho_11*(b0 - I*b1)))/(4*a**2*gamma**2 + (-4*a**2 + w0**2)**2),                       4*a*gamma*lambda**2*(-0.5*rho_11*((b0 - I*b1)*(b0 + I*b1) + (b2 - I*b3)*(b2 + I*b3)) - 0.5*(b0 + I*b1)*(rho_10*(-b2 + I*b3) + rho_11*(b0 - I*b1)) - 0.5*(b2 - I*b3)*(rho_10*(b0 + I*b1) + rho_11*(b2 + I*b3)) - 0.5*((b0 - I*b1)*(-b2 - I*b3) + (b0 - I*b1)*(b2 + I*b3))*conjugate(rho_10))/(4*a**2*gamma**2 + (-4*a**2 + w0**2)**2),     4*a*gamma*lambda**2*(-0.5*rho_12*((b0 - I*b1)*(b0 + I*b1) + (b2 - I*b3)*(b2 + I*b3)) - 0.5*rho_8*((b0 - I*b1)*(-b2 - I*b3) + (b0 - I*b1)*(b2 + I*b3)))/(4*a**2*gamma**2 + (-4*a**2 + w0**2)**2) + 4*a*gamma*lambda**2*((b0 - I*b1)*(rho_3*(b2 + I*b3) + (b0 - I*b1)*conjugate(rho_12)) + (-b2 + I*b3)*(rho_2*(b2 + I*b3) + (b0 - I*b1)*conjugate(rho_8)))*exp(-4*I*a*t)/(4*a**2*gamma**2 + (-4*a**2 + w0**2)**2)],\n",
       "[                                                                                                                                                                                                                                                4*a*gamma*lambda**2*((b0 + I*b1)*(rho_10*(b0 + I*b1) + rho_6*(-b2 - I*b3)) + (b2 + I*b3)*(rho_11*(b0 + I*b1) + (-b2 - I*b3)*conjugate(rho_10)))/(4*a**2*gamma**2 + (-4*a**2 + w0**2)**2),                                                                                                               4*a*gamma*lambda**2*(-0.5*(b0 - I*b1)*((b0 + I*b1)*conjugate(rho_8) + (b2 + I*b3)*conjugate(rho_12)) - 0.5*(-b2 - I*b3)*((b0 - I*b1)*conjugate(rho_12) + (-b2 + I*b3)*conjugate(rho_8)))/(4*a**2*gamma**2 + (-4*a**2 + w0**2)**2),                                                                                                                           4*a*gamma*lambda**2*(-0.5*(b0 + I*b1)*((b0 - I*b1)*conjugate(rho_12) + (-b2 + I*b3)*conjugate(rho_8)) - 0.5*(b2 - I*b3)*((b0 + I*b1)*conjugate(rho_8) + (b2 + I*b3)*conjugate(rho_12)))/(4*a**2*gamma**2 + (-4*a**2 + w0**2)**2),                                                                                                                                                                                                                            4*a*gamma*lambda**2*((b0 - I*b1)*(rho_11*(b0 + I*b1) + (-b2 - I*b3)*conjugate(rho_10)) + (-b2 + I*b3)*(rho_10*(b0 + I*b1) + rho_6*(-b2 - I*b3)))/(4*a**2*gamma**2 + (-4*a**2 + w0**2)**2)]])"
      ]
     },
     "execution_count": 22,
     "metadata": {},
     "output_type": "execute_result"
    }
   ],
   "source": [
    "gene"
   ]
  },
  {
   "cell_type": "markdown",
   "id": "ac5e32b7-5ef2-436f-92a1-0266f0919115",
   "metadata": {},
   "source": [
    "Next we simply vectorize the density matrix"
   ]
  },
  {
   "cell_type": "code",
   "execution_count": 23,
   "id": "66bfddf6-9000-4cb3-8c0c-8b5cb0264ca2",
   "metadata": {},
   "outputs": [],
   "source": [
    "mgene = Matrix(list(gene))\n",
    "rhom=Matrix(list(rho))"
   ]
  },
  {
   "cell_type": "code",
   "execution_count": 24,
   "id": "ccf41e97-d165-4f1a-8105-816312a19b0a",
   "metadata": {},
   "outputs": [],
   "source": [
    "rhof = symbols('rho_1:17',cls=Function) # This is necessary to solve the differential equation\n",
    "to_funcs={i:rhof[k](t) for k,i in enumerate(rhom)} #could have done so from the beginning though"
   ]
  },
  {
   "cell_type": "code",
   "execution_count": 25,
   "id": "e114146a-6bfa-458a-9dd1-59f6105ff12b",
   "metadata": {},
   "outputs": [],
   "source": [
    "mgene=mgene.subs(to_funcs) #substitute symbols for a function\n",
    "mrhof=rhom.subs(to_funcs)"
   ]
  },
  {
   "cell_type": "markdown",
   "id": "fb56461f-26a1-484b-92df-0cd71340830a",
   "metadata": {},
   "source": [
    "At this stage we have the system of differential equations. We need to solve it"
   ]
  },
  {
   "cell_type": "code",
   "execution_count": 42,
   "id": "e5bb70a6-3dd2-4c57-affd-dd0be429a09a",
   "metadata": {},
   "outputs": [],
   "source": [
    "eqs = [Eq(mrhof[k].diff(t), mgene[k].simplify()) for k in range(16)]"
   ]
  },
  {
   "cell_type": "code",
   "execution_count": 27,
   "id": "09f1e3d8-5d9e-4977-8d3b-bd79741e156c",
   "metadata": {},
   "outputs": [
    {
     "data": {
      "text/latex": [
       "$\\displaystyle \\frac{d}{d t} \\rho_{1}{\\left(t \\right)} = \\frac{4 a \\gamma \\lambda^{2} \\left(\\left(b_{0} + i b_{1}\\right) \\left(\\left(b_{0} - i b_{1}\\right) \\rho_{6}{\\left(t \\right)} + \\left(b_{2} - i b_{3}\\right) \\rho_{10}{\\left(t \\right)}\\right) + \\left(b_{2} + i b_{3}\\right) \\left(\\left(b_{0} - i b_{1}\\right) \\rho_{7}{\\left(t \\right)} + \\left(b_{2} - i b_{3}\\right) \\rho_{11}{\\left(t \\right)}\\right)\\right)}{4 a^{2} \\gamma^{2} + \\left(4 a^{2} - w_{0}^{2}\\right)^{2}}$"
      ],
      "text/plain": [
       "Eq(Derivative(rho_1(t), t), 4*a*gamma*lambda**2*((b0 + I*b1)*((b0 - I*b1)*rho_6(t) + (b2 - I*b3)*rho_10(t)) + (b2 + I*b3)*((b0 - I*b1)*rho_7(t) + (b2 - I*b3)*rho_11(t)))/(4*a**2*gamma**2 + (4*a**2 - w0**2)**2))"
      ]
     },
     "metadata": {},
     "output_type": "display_data"
    },
    {
     "data": {
      "text/latex": [
       "$\\displaystyle \\frac{d}{d t} \\rho_{2}{\\left(t \\right)} = \\frac{2.0 a \\gamma \\lambda^{2} \\left(- b_{0}^{2} - b_{1}^{2} - b_{2}^{2} - b_{3}^{2}\\right) \\rho_{2}{\\left(t \\right)}}{16.0 a^{4} + 4.0 a^{2} \\gamma^{2} - 8.0 a^{2} w_{0}^{2} + 1.0 w_{0}^{4}}$"
      ],
      "text/plain": [
       "Eq(Derivative(rho_2(t), t), 2.0*a*gamma*lambda**2*(-b0**2 - b1**2 - b2**2 - b3**2)*rho_2(t)/(16.0*a**4 + 4.0*a**2*gamma**2 - 8.0*a**2*w0**2 + 1.0*w0**4))"
      ]
     },
     "metadata": {},
     "output_type": "display_data"
    },
    {
     "data": {
      "text/latex": [
       "$\\displaystyle \\frac{d}{d t} \\rho_{3}{\\left(t \\right)} = \\frac{2.0 a \\gamma \\lambda^{2} \\left(- b_{0}^{2} - b_{1}^{2} - b_{2}^{2} - b_{3}^{2}\\right) \\rho_{3}{\\left(t \\right)}}{16.0 a^{4} + 4.0 a^{2} \\gamma^{2} - 8.0 a^{2} w_{0}^{2} + 1.0 w_{0}^{4}}$"
      ],
      "text/plain": [
       "Eq(Derivative(rho_3(t), t), 2.0*a*gamma*lambda**2*(-b0**2 - b1**2 - b2**2 - b3**2)*rho_3(t)/(16.0*a**4 + 4.0*a**2*gamma**2 - 8.0*a**2*w0**2 + 1.0*w0**4))"
      ]
     },
     "metadata": {},
     "output_type": "display_data"
    },
    {
     "data": {
      "text/latex": [
       "$\\displaystyle \\frac{d}{d t} \\rho_{4}{\\left(t \\right)} = \\frac{4 a \\gamma \\lambda^{2} \\left(\\left(b_{0} - i b_{1}\\right) \\left(\\left(b_{0} - i b_{1}\\right) \\rho_{7}{\\left(t \\right)} + \\left(b_{2} - i b_{3}\\right) \\rho_{11}{\\left(t \\right)}\\right) - \\left(b_{2} - i b_{3}\\right) \\left(\\left(b_{0} - i b_{1}\\right) \\rho_{6}{\\left(t \\right)} + \\left(b_{2} - i b_{3}\\right) \\rho_{10}{\\left(t \\right)}\\right)\\right)}{4 a^{2} \\gamma^{2} + \\left(4 a^{2} - w_{0}^{2}\\right)^{2}}$"
      ],
      "text/plain": [
       "Eq(Derivative(rho_4(t), t), 4*a*gamma*lambda**2*((b0 - I*b1)*((b0 - I*b1)*rho_7(t) + (b2 - I*b3)*rho_11(t)) - (b2 - I*b3)*((b0 - I*b1)*rho_6(t) + (b2 - I*b3)*rho_10(t)))/(4*a**2*gamma**2 + (4*a**2 - w0**2)**2))"
      ]
     },
     "metadata": {},
     "output_type": "display_data"
    },
    {
     "data": {
      "text/latex": [
       "$\\displaystyle \\frac{d}{d t} \\rho_{5}{\\left(t \\right)} = \\frac{a \\gamma \\lambda^{2} \\left(4 \\left(b_{0} + i b_{1}\\right) \\left(\\left(b_{0} + i b_{1}\\right) \\rho_{2}{\\left(t \\right)} - \\left(b_{2} - i b_{3}\\right) \\rho_{14}{\\left(t \\right)}\\right) + 4 \\left(b_{2} + i b_{3}\\right) \\left(\\left(b_{0} + i b_{1}\\right) \\rho_{3}{\\left(t \\right)} - \\left(b_{2} - i b_{3}\\right) \\rho_{15}{\\left(t \\right)}\\right) - 2.0 \\left(\\left(b_{0} - i b_{1}\\right) \\left(b_{0} + i b_{1}\\right) + \\left(b_{2} - i b_{3}\\right) \\left(b_{2} + i b_{3}\\right)\\right) \\rho_{5}{\\left(t \\right)} e^{4 i a t}\\right) e^{- 4 i a t}}{4 a^{2} \\gamma^{2} + \\left(4 a^{2} - w_{0}^{2}\\right)^{2}}$"
      ],
      "text/plain": [
       "Eq(Derivative(rho_5(t), t), a*gamma*lambda**2*(4*(b0 + I*b1)*((b0 + I*b1)*rho_2(t) - (b2 - I*b3)*rho_14(t)) + 4*(b2 + I*b3)*((b0 + I*b1)*rho_3(t) - (b2 - I*b3)*rho_15(t)) - 2.0*((b0 - I*b1)*(b0 + I*b1) + (b2 - I*b3)*(b2 + I*b3))*rho_5(t)*exp(4*I*a*t))*exp(-4*I*a*t)/(4*a**2*gamma**2 + (4*a**2 - w0**2)**2))"
      ]
     },
     "metadata": {},
     "output_type": "display_data"
    },
    {
     "data": {
      "text/latex": [
       "$\\displaystyle \\frac{d}{d t} \\rho_{6}{\\left(t \\right)} = \\frac{4.0 a \\gamma \\lambda^{2} \\left(- b_{0}^{2} - b_{1}^{2} - b_{2}^{2} - b_{3}^{2}\\right) \\rho_{6}{\\left(t \\right)}}{16.0 a^{4} + 4.0 a^{2} \\gamma^{2} - 8.0 a^{2} w_{0}^{2} + 1.0 w_{0}^{4}}$"
      ],
      "text/plain": [
       "Eq(Derivative(rho_6(t), t), 4.0*a*gamma*lambda**2*(-b0**2 - b1**2 - b2**2 - b3**2)*rho_6(t)/(16.0*a**4 + 4.0*a**2*gamma**2 - 8.0*a**2*w0**2 + 1.0*w0**4))"
      ]
     },
     "metadata": {},
     "output_type": "display_data"
    },
    {
     "data": {
      "text/latex": [
       "$\\displaystyle \\frac{d}{d t} \\rho_{7}{\\left(t \\right)} = \\frac{4.0 a \\gamma \\lambda^{2} \\left(- b_{0}^{2} - b_{1}^{2} - b_{2}^{2} - b_{3}^{2}\\right) \\rho_{7}{\\left(t \\right)}}{16.0 a^{4} + 4.0 a^{2} \\gamma^{2} - 8.0 a^{2} w_{0}^{2} + 1.0 w_{0}^{4}}$"
      ],
      "text/plain": [
       "Eq(Derivative(rho_7(t), t), 4.0*a*gamma*lambda**2*(-b0**2 - b1**2 - b2**2 - b3**2)*rho_7(t)/(16.0*a**4 + 4.0*a**2*gamma**2 - 8.0*a**2*w0**2 + 1.0*w0**4))"
      ]
     },
     "metadata": {},
     "output_type": "display_data"
    },
    {
     "data": {
      "text/latex": [
       "$\\displaystyle \\frac{d}{d t} \\rho_{8}{\\left(t \\right)} = \\frac{a \\gamma \\lambda^{2} \\left(4 \\left(b_{0} - i b_{1}\\right) \\left(\\left(b_{0} + i b_{1}\\right) \\rho_{3}{\\left(t \\right)} - \\left(b_{2} - i b_{3}\\right) \\rho_{15}{\\left(t \\right)}\\right) - 4 \\left(b_{2} - i b_{3}\\right) \\left(\\left(b_{0} + i b_{1}\\right) \\rho_{2}{\\left(t \\right)} - \\left(b_{2} - i b_{3}\\right) \\rho_{14}{\\left(t \\right)}\\right) - 2.0 \\left(\\left(b_{0} - i b_{1}\\right) \\left(b_{0} + i b_{1}\\right) + \\left(b_{2} - i b_{3}\\right) \\left(b_{2} + i b_{3}\\right)\\right) \\rho_{8}{\\left(t \\right)} e^{4 i a t}\\right) e^{- 4 i a t}}{4 a^{2} \\gamma^{2} + \\left(4 a^{2} - w_{0}^{2}\\right)^{2}}$"
      ],
      "text/plain": [
       "Eq(Derivative(rho_8(t), t), a*gamma*lambda**2*(4*(b0 - I*b1)*((b0 + I*b1)*rho_3(t) - (b2 - I*b3)*rho_15(t)) - 4*(b2 - I*b3)*((b0 + I*b1)*rho_2(t) - (b2 - I*b3)*rho_14(t)) - 2.0*((b0 - I*b1)*(b0 + I*b1) + (b2 - I*b3)*(b2 + I*b3))*rho_8(t)*exp(4*I*a*t))*exp(-4*I*a*t)/(4*a**2*gamma**2 + (4*a**2 - w0**2)**2))"
      ]
     },
     "metadata": {},
     "output_type": "display_data"
    },
    {
     "data": {
      "text/latex": [
       "$\\displaystyle \\frac{d}{d t} \\rho_{9}{\\left(t \\right)} = \\frac{a \\gamma \\lambda^{2} \\left(4 \\left(b_{0} + i b_{1}\\right) \\left(\\left(b_{0} - i b_{1}\\right) \\rho_{14}{\\left(t \\right)} + \\left(b_{2} + i b_{3}\\right) \\rho_{2}{\\left(t \\right)}\\right) + 4 \\left(b_{2} + i b_{3}\\right) \\left(\\left(b_{0} - i b_{1}\\right) \\rho_{15}{\\left(t \\right)} + \\left(b_{2} + i b_{3}\\right) \\rho_{3}{\\left(t \\right)}\\right) - 2.0 \\left(\\left(b_{0} - i b_{1}\\right) \\left(b_{0} + i b_{1}\\right) + \\left(b_{2} - i b_{3}\\right) \\left(b_{2} + i b_{3}\\right)\\right) \\rho_{9}{\\left(t \\right)} e^{4 i a t}\\right) e^{- 4 i a t}}{4 a^{2} \\gamma^{2} + \\left(4 a^{2} - w_{0}^{2}\\right)^{2}}$"
      ],
      "text/plain": [
       "Eq(Derivative(rho_9(t), t), a*gamma*lambda**2*(4*(b0 + I*b1)*((b0 - I*b1)*rho_14(t) + (b2 + I*b3)*rho_2(t)) + 4*(b2 + I*b3)*((b0 - I*b1)*rho_15(t) + (b2 + I*b3)*rho_3(t)) - 2.0*((b0 - I*b1)*(b0 + I*b1) + (b2 - I*b3)*(b2 + I*b3))*rho_9(t)*exp(4*I*a*t))*exp(-4*I*a*t)/(4*a**2*gamma**2 + (4*a**2 - w0**2)**2))"
      ]
     },
     "metadata": {},
     "output_type": "display_data"
    },
    {
     "data": {
      "text/latex": [
       "$\\displaystyle \\frac{d}{d t} \\rho_{10}{\\left(t \\right)} = \\frac{4.0 a \\gamma \\lambda^{2} \\left(- b_{0}^{2} - b_{1}^{2} - b_{2}^{2} - b_{3}^{2}\\right) \\rho_{10}{\\left(t \\right)}}{16.0 a^{4} + 4.0 a^{2} \\gamma^{2} - 8.0 a^{2} w_{0}^{2} + 1.0 w_{0}^{4}}$"
      ],
      "text/plain": [
       "Eq(Derivative(rho_10(t), t), 4.0*a*gamma*lambda**2*(-b0**2 - b1**2 - b2**2 - b3**2)*rho_10(t)/(16.0*a**4 + 4.0*a**2*gamma**2 - 8.0*a**2*w0**2 + 1.0*w0**4))"
      ]
     },
     "metadata": {},
     "output_type": "display_data"
    },
    {
     "data": {
      "text/latex": [
       "$\\displaystyle \\frac{d}{d t} \\rho_{11}{\\left(t \\right)} = \\frac{4.0 a \\gamma \\lambda^{2} \\left(- b_{0}^{2} - b_{1}^{2} - b_{2}^{2} - b_{3}^{2}\\right) \\rho_{11}{\\left(t \\right)}}{16.0 a^{4} + 4.0 a^{2} \\gamma^{2} - 8.0 a^{2} w_{0}^{2} + 1.0 w_{0}^{4}}$"
      ],
      "text/plain": [
       "Eq(Derivative(rho_11(t), t), 4.0*a*gamma*lambda**2*(-b0**2 - b1**2 - b2**2 - b3**2)*rho_11(t)/(16.0*a**4 + 4.0*a**2*gamma**2 - 8.0*a**2*w0**2 + 1.0*w0**4))"
      ]
     },
     "metadata": {},
     "output_type": "display_data"
    },
    {
     "data": {
      "text/latex": [
       "$\\displaystyle \\frac{d}{d t} \\rho_{12}{\\left(t \\right)} = \\frac{a \\gamma \\lambda^{2} \\left(4 \\left(b_{0} - i b_{1}\\right) \\left(\\left(b_{0} - i b_{1}\\right) \\rho_{15}{\\left(t \\right)} + \\left(b_{2} + i b_{3}\\right) \\rho_{3}{\\left(t \\right)}\\right) - 4 \\left(b_{2} - i b_{3}\\right) \\left(\\left(b_{0} - i b_{1}\\right) \\rho_{14}{\\left(t \\right)} + \\left(b_{2} + i b_{3}\\right) \\rho_{2}{\\left(t \\right)}\\right) - 2.0 \\left(\\left(b_{0} - i b_{1}\\right) \\left(b_{0} + i b_{1}\\right) + \\left(b_{2} - i b_{3}\\right) \\left(b_{2} + i b_{3}\\right)\\right) \\rho_{12}{\\left(t \\right)} e^{4 i a t}\\right) e^{- 4 i a t}}{4 a^{2} \\gamma^{2} + \\left(4 a^{2} - w_{0}^{2}\\right)^{2}}$"
      ],
      "text/plain": [
       "Eq(Derivative(rho_12(t), t), a*gamma*lambda**2*(4*(b0 - I*b1)*((b0 - I*b1)*rho_15(t) + (b2 + I*b3)*rho_3(t)) - 4*(b2 - I*b3)*((b0 - I*b1)*rho_14(t) + (b2 + I*b3)*rho_2(t)) - 2.0*((b0 - I*b1)*(b0 + I*b1) + (b2 - I*b3)*(b2 + I*b3))*rho_12(t)*exp(4*I*a*t))*exp(-4*I*a*t)/(4*a**2*gamma**2 + (4*a**2 - w0**2)**2))"
      ]
     },
     "metadata": {},
     "output_type": "display_data"
    },
    {
     "data": {
      "text/latex": [
       "$\\displaystyle \\frac{d}{d t} \\rho_{13}{\\left(t \\right)} = \\frac{4 a \\gamma \\lambda^{2} \\left(\\left(b_{0} + i b_{1}\\right) \\left(\\left(b_{0} + i b_{1}\\right) \\rho_{10}{\\left(t \\right)} - \\left(b_{2} + i b_{3}\\right) \\rho_{6}{\\left(t \\right)}\\right) + \\left(b_{2} + i b_{3}\\right) \\left(\\left(b_{0} + i b_{1}\\right) \\rho_{11}{\\left(t \\right)} - \\left(b_{2} + i b_{3}\\right) \\rho_{7}{\\left(t \\right)}\\right)\\right)}{4 a^{2} \\gamma^{2} + \\left(4 a^{2} - w_{0}^{2}\\right)^{2}}$"
      ],
      "text/plain": [
       "Eq(Derivative(rho_13(t), t), 4*a*gamma*lambda**2*((b0 + I*b1)*((b0 + I*b1)*rho_10(t) - (b2 + I*b3)*rho_6(t)) + (b2 + I*b3)*((b0 + I*b1)*rho_11(t) - (b2 + I*b3)*rho_7(t)))/(4*a**2*gamma**2 + (4*a**2 - w0**2)**2))"
      ]
     },
     "metadata": {},
     "output_type": "display_data"
    },
    {
     "data": {
      "text/latex": [
       "$\\displaystyle \\frac{d}{d t} \\rho_{14}{\\left(t \\right)} = \\frac{2.0 a \\gamma \\lambda^{2} \\left(- b_{0}^{2} - b_{1}^{2} - b_{2}^{2} - b_{3}^{2}\\right) \\rho_{14}{\\left(t \\right)}}{16.0 a^{4} + 4.0 a^{2} \\gamma^{2} - 8.0 a^{2} w_{0}^{2} + 1.0 w_{0}^{4}}$"
      ],
      "text/plain": [
       "Eq(Derivative(rho_14(t), t), 2.0*a*gamma*lambda**2*(-b0**2 - b1**2 - b2**2 - b3**2)*rho_14(t)/(16.0*a**4 + 4.0*a**2*gamma**2 - 8.0*a**2*w0**2 + 1.0*w0**4))"
      ]
     },
     "metadata": {},
     "output_type": "display_data"
    },
    {
     "data": {
      "text/latex": [
       "$\\displaystyle \\frac{d}{d t} \\rho_{15}{\\left(t \\right)} = \\frac{2.0 a \\gamma \\lambda^{2} \\left(- b_{0}^{2} - b_{1}^{2} - b_{2}^{2} - b_{3}^{2}\\right) \\rho_{15}{\\left(t \\right)}}{16.0 a^{4} + 4.0 a^{2} \\gamma^{2} - 8.0 a^{2} w_{0}^{2} + 1.0 w_{0}^{4}}$"
      ],
      "text/plain": [
       "Eq(Derivative(rho_15(t), t), 2.0*a*gamma*lambda**2*(-b0**2 - b1**2 - b2**2 - b3**2)*rho_15(t)/(16.0*a**4 + 4.0*a**2*gamma**2 - 8.0*a**2*w0**2 + 1.0*w0**4))"
      ]
     },
     "metadata": {},
     "output_type": "display_data"
    },
    {
     "data": {
      "text/latex": [
       "$\\displaystyle \\frac{d}{d t} \\rho_{16}{\\left(t \\right)} = \\frac{4 a \\gamma \\lambda^{2} \\left(\\left(b_{0} - i b_{1}\\right) \\left(\\left(b_{0} + i b_{1}\\right) \\rho_{11}{\\left(t \\right)} - \\left(b_{2} + i b_{3}\\right) \\rho_{7}{\\left(t \\right)}\\right) - \\left(b_{2} - i b_{3}\\right) \\left(\\left(b_{0} + i b_{1}\\right) \\rho_{10}{\\left(t \\right)} - \\left(b_{2} + i b_{3}\\right) \\rho_{6}{\\left(t \\right)}\\right)\\right)}{4 a^{2} \\gamma^{2} + \\left(4 a^{2} - w_{0}^{2}\\right)^{2}}$"
      ],
      "text/plain": [
       "Eq(Derivative(rho_16(t), t), 4*a*gamma*lambda**2*((b0 - I*b1)*((b0 + I*b1)*rho_11(t) - (b2 + I*b3)*rho_7(t)) - (b2 - I*b3)*((b0 + I*b1)*rho_10(t) - (b2 + I*b3)*rho_6(t)))/(4*a**2*gamma**2 + (4*a**2 - w0**2)**2))"
      ]
     },
     "metadata": {},
     "output_type": "display_data"
    }
   ],
   "source": [
    "for i in eqs:\n",
    "    display(i)"
   ]
  },
  {
   "cell_type": "markdown",
   "id": "d5ed67e1-d85b-4225-8ad9-eda14eb77638",
   "metadata": {},
   "source": [
    "Let me make a few change of variables, anc call the new variables $c_{k}$"
   ]
  },
  {
   "cell_type": "code",
   "execution_count": 38,
   "id": "d9a13341-1225-4c13-ba27-2c342de95d6f",
   "metadata": {},
   "outputs": [],
   "source": [
    "c=symbols(\"c0:10\")"
   ]
  },
  {
   "cell_type": "code",
   "execution_count": 49,
   "id": "ca4f0e5b-02df-472c-bdd4-ceb74ad08a6d",
   "metadata": {},
   "outputs": [
    {
     "data": {
      "text/latex": [
       "$\\displaystyle \\frac{2.0 a \\gamma \\lambda^{2} \\left(- b_{0}^{2} - b_{1}^{2} - b_{2}^{2} - b_{3}^{2}\\right)}{16.0 a^{4} + 4.0 a^{2} \\gamma^{2} - 8.0 a^{2} w_{0}^{2} + 1.0 w_{0}^{4}}$"
      ],
      "text/plain": [
       "2.0*a*gamma*lambda**2*(-b0**2 - b1**2 - b2**2 - b3**2)/(16.0*a**4 + 4.0*a**2*gamma**2 - 8.0*a**2*w0**2 + 1.0*w0**4)"
      ]
     },
     "execution_count": 49,
     "metadata": {},
     "output_type": "execute_result"
    }
   ],
   "source": [
    "c0=mgene[14].simplify()/mrhof[14]\n",
    "c0"
   ]
  },
  {
   "cell_type": "code",
   "execution_count": 59,
   "id": "6d7200d2-d6c3-4d43-9da5-77481c13147b",
   "metadata": {},
   "outputs": [
    {
     "data": {
      "text/latex": [
       "$\\displaystyle \\frac{\\gamma \\lambda^{2}}{4 a^{2} \\gamma^{2} + \\left(4 a^{2} - w_{0}^{2}\\right)^{2}}$"
      ],
      "text/plain": [
       "gamma*lambda**2/(4*a**2*gamma**2 + (4*a**2 - w0**2)**2)"
      ]
     },
     "execution_count": 59,
     "metadata": {},
     "output_type": "execute_result"
    }
   ],
   "source": [
    "c1=(gam*lam**2)/fraction(mgene[0])[1].simplify()\n",
    "c1"
   ]
  },
  {
   "cell_type": "code",
   "execution_count": 60,
   "id": "ea27bf9b-4ba9-4590-8796-692bb74e180c",
   "metadata": {},
   "outputs": [
    {
     "data": {
      "text/latex": [
       "$\\displaystyle \\frac{d}{d t} \\rho_{1}{\\left(t \\right)} = 4 a c_{1} \\left(\\left(b_{0} + i b_{1}\\right) \\left(\\left(b_{0} - i b_{1}\\right) \\rho_{6}{\\left(t \\right)} + \\left(b_{2} - i b_{3}\\right) \\rho_{10}{\\left(t \\right)}\\right) + \\left(b_{2} + i b_{3}\\right) \\left(\\left(b_{0} - i b_{1}\\right) \\rho_{7}{\\left(t \\right)} + \\left(b_{2} - i b_{3}\\right) \\rho_{11}{\\left(t \\right)}\\right)\\right)$"
      ],
      "text/plain": [
       "Eq(Derivative(rho_1(t), t), 4*a*c1*((b0 + I*b1)*((b0 - I*b1)*rho_6(t) + (b2 - I*b3)*rho_10(t)) + (b2 + I*b3)*((b0 - I*b1)*rho_7(t) + (b2 - I*b3)*rho_11(t))))"
      ]
     },
     "metadata": {},
     "output_type": "display_data"
    },
    {
     "data": {
      "text/latex": [
       "$\\displaystyle \\frac{d}{d t} \\rho_{2}{\\left(t \\right)} = c_{0} \\rho_{2}{\\left(t \\right)}$"
      ],
      "text/plain": [
       "Eq(Derivative(rho_2(t), t), c0*rho_2(t))"
      ]
     },
     "metadata": {},
     "output_type": "display_data"
    },
    {
     "data": {
      "text/latex": [
       "$\\displaystyle \\frac{d}{d t} \\rho_{3}{\\left(t \\right)} = c_{0} \\rho_{3}{\\left(t \\right)}$"
      ],
      "text/plain": [
       "Eq(Derivative(rho_3(t), t), c0*rho_3(t))"
      ]
     },
     "metadata": {},
     "output_type": "display_data"
    },
    {
     "data": {
      "text/latex": [
       "$\\displaystyle \\frac{d}{d t} \\rho_{4}{\\left(t \\right)} = 4 a c_{1} \\left(\\left(b_{0} - i b_{1}\\right) \\left(\\left(b_{0} - i b_{1}\\right) \\rho_{7}{\\left(t \\right)} + \\left(b_{2} - i b_{3}\\right) \\rho_{11}{\\left(t \\right)}\\right) - \\left(b_{2} - i b_{3}\\right) \\left(\\left(b_{0} - i b_{1}\\right) \\rho_{6}{\\left(t \\right)} + \\left(b_{2} - i b_{3}\\right) \\rho_{10}{\\left(t \\right)}\\right)\\right)$"
      ],
      "text/plain": [
       "Eq(Derivative(rho_4(t), t), 4*a*c1*((b0 - I*b1)*((b0 - I*b1)*rho_7(t) + (b2 - I*b3)*rho_11(t)) - (b2 - I*b3)*((b0 - I*b1)*rho_6(t) + (b2 - I*b3)*rho_10(t))))"
      ]
     },
     "metadata": {},
     "output_type": "display_data"
    },
    {
     "data": {
      "text/latex": [
       "$\\displaystyle \\frac{d}{d t} \\rho_{5}{\\left(t \\right)} = a c_{1} \\left(4 \\left(b_{0} + i b_{1}\\right) \\left(\\left(b_{0} + i b_{1}\\right) \\rho_{2}{\\left(t \\right)} - \\left(b_{2} - i b_{3}\\right) \\rho_{14}{\\left(t \\right)}\\right) + 4 \\left(b_{2} + i b_{3}\\right) \\left(\\left(b_{0} + i b_{1}\\right) \\rho_{3}{\\left(t \\right)} - \\left(b_{2} - i b_{3}\\right) \\rho_{15}{\\left(t \\right)}\\right) - 2.0 \\left(\\left(b_{0} - i b_{1}\\right) \\left(b_{0} + i b_{1}\\right) + \\left(b_{2} - i b_{3}\\right) \\left(b_{2} + i b_{3}\\right)\\right) \\rho_{5}{\\left(t \\right)} e^{4 i a t}\\right) e^{- 4 i a t}$"
      ],
      "text/plain": [
       "Eq(Derivative(rho_5(t), t), a*c1*(4*(b0 + I*b1)*((b0 + I*b1)*rho_2(t) - (b2 - I*b3)*rho_14(t)) + 4*(b2 + I*b3)*((b0 + I*b1)*rho_3(t) - (b2 - I*b3)*rho_15(t)) - 2.0*((b0 - I*b1)*(b0 + I*b1) + (b2 - I*b3)*(b2 + I*b3))*rho_5(t)*exp(4*I*a*t))*exp(-4*I*a*t))"
      ]
     },
     "metadata": {},
     "output_type": "display_data"
    },
    {
     "data": {
      "text/latex": [
       "$\\displaystyle \\frac{d}{d t} \\rho_{6}{\\left(t \\right)} = 2 c_{0} \\rho_{6}{\\left(t \\right)}$"
      ],
      "text/plain": [
       "Eq(Derivative(rho_6(t), t), 2*c0*rho_6(t))"
      ]
     },
     "metadata": {},
     "output_type": "display_data"
    },
    {
     "data": {
      "text/latex": [
       "$\\displaystyle \\frac{d}{d t} \\rho_{7}{\\left(t \\right)} = 2 c_{0} \\rho_{7}{\\left(t \\right)}$"
      ],
      "text/plain": [
       "Eq(Derivative(rho_7(t), t), 2*c0*rho_7(t))"
      ]
     },
     "metadata": {},
     "output_type": "display_data"
    },
    {
     "data": {
      "text/latex": [
       "$\\displaystyle \\frac{d}{d t} \\rho_{8}{\\left(t \\right)} = a c_{1} \\left(4 \\left(b_{0} - i b_{1}\\right) \\left(\\left(b_{0} + i b_{1}\\right) \\rho_{3}{\\left(t \\right)} - \\left(b_{2} - i b_{3}\\right) \\rho_{15}{\\left(t \\right)}\\right) - 4 \\left(b_{2} - i b_{3}\\right) \\left(\\left(b_{0} + i b_{1}\\right) \\rho_{2}{\\left(t \\right)} - \\left(b_{2} - i b_{3}\\right) \\rho_{14}{\\left(t \\right)}\\right) - 2.0 \\left(\\left(b_{0} - i b_{1}\\right) \\left(b_{0} + i b_{1}\\right) + \\left(b_{2} - i b_{3}\\right) \\left(b_{2} + i b_{3}\\right)\\right) \\rho_{8}{\\left(t \\right)} e^{4 i a t}\\right) e^{- 4 i a t}$"
      ],
      "text/plain": [
       "Eq(Derivative(rho_8(t), t), a*c1*(4*(b0 - I*b1)*((b0 + I*b1)*rho_3(t) - (b2 - I*b3)*rho_15(t)) - 4*(b2 - I*b3)*((b0 + I*b1)*rho_2(t) - (b2 - I*b3)*rho_14(t)) - 2.0*((b0 - I*b1)*(b0 + I*b1) + (b2 - I*b3)*(b2 + I*b3))*rho_8(t)*exp(4*I*a*t))*exp(-4*I*a*t))"
      ]
     },
     "metadata": {},
     "output_type": "display_data"
    },
    {
     "data": {
      "text/latex": [
       "$\\displaystyle \\frac{d}{d t} \\rho_{9}{\\left(t \\right)} = a c_{1} \\left(4 \\left(b_{0} + i b_{1}\\right) \\left(\\left(b_{0} - i b_{1}\\right) \\rho_{14}{\\left(t \\right)} + \\left(b_{2} + i b_{3}\\right) \\rho_{2}{\\left(t \\right)}\\right) + 4 \\left(b_{2} + i b_{3}\\right) \\left(\\left(b_{0} - i b_{1}\\right) \\rho_{15}{\\left(t \\right)} + \\left(b_{2} + i b_{3}\\right) \\rho_{3}{\\left(t \\right)}\\right) - 2.0 \\left(\\left(b_{0} - i b_{1}\\right) \\left(b_{0} + i b_{1}\\right) + \\left(b_{2} - i b_{3}\\right) \\left(b_{2} + i b_{3}\\right)\\right) \\rho_{9}{\\left(t \\right)} e^{4 i a t}\\right) e^{- 4 i a t}$"
      ],
      "text/plain": [
       "Eq(Derivative(rho_9(t), t), a*c1*(4*(b0 + I*b1)*((b0 - I*b1)*rho_14(t) + (b2 + I*b3)*rho_2(t)) + 4*(b2 + I*b3)*((b0 - I*b1)*rho_15(t) + (b2 + I*b3)*rho_3(t)) - 2.0*((b0 - I*b1)*(b0 + I*b1) + (b2 - I*b3)*(b2 + I*b3))*rho_9(t)*exp(4*I*a*t))*exp(-4*I*a*t))"
      ]
     },
     "metadata": {},
     "output_type": "display_data"
    },
    {
     "data": {
      "text/latex": [
       "$\\displaystyle \\frac{d}{d t} \\rho_{10}{\\left(t \\right)} = 2 c_{0} \\rho_{10}{\\left(t \\right)}$"
      ],
      "text/plain": [
       "Eq(Derivative(rho_10(t), t), 2*c0*rho_10(t))"
      ]
     },
     "metadata": {},
     "output_type": "display_data"
    },
    {
     "data": {
      "text/latex": [
       "$\\displaystyle \\frac{d}{d t} \\rho_{11}{\\left(t \\right)} = 2 c_{0} \\rho_{11}{\\left(t \\right)}$"
      ],
      "text/plain": [
       "Eq(Derivative(rho_11(t), t), 2*c0*rho_11(t))"
      ]
     },
     "metadata": {},
     "output_type": "display_data"
    },
    {
     "data": {
      "text/latex": [
       "$\\displaystyle \\frac{d}{d t} \\rho_{12}{\\left(t \\right)} = a c_{1} \\left(4 \\left(b_{0} - i b_{1}\\right) \\left(\\left(b_{0} - i b_{1}\\right) \\rho_{15}{\\left(t \\right)} + \\left(b_{2} + i b_{3}\\right) \\rho_{3}{\\left(t \\right)}\\right) - 4 \\left(b_{2} - i b_{3}\\right) \\left(\\left(b_{0} - i b_{1}\\right) \\rho_{14}{\\left(t \\right)} + \\left(b_{2} + i b_{3}\\right) \\rho_{2}{\\left(t \\right)}\\right) - 2.0 \\left(\\left(b_{0} - i b_{1}\\right) \\left(b_{0} + i b_{1}\\right) + \\left(b_{2} - i b_{3}\\right) \\left(b_{2} + i b_{3}\\right)\\right) \\rho_{12}{\\left(t \\right)} e^{4 i a t}\\right) e^{- 4 i a t}$"
      ],
      "text/plain": [
       "Eq(Derivative(rho_12(t), t), a*c1*(4*(b0 - I*b1)*((b0 - I*b1)*rho_15(t) + (b2 + I*b3)*rho_3(t)) - 4*(b2 - I*b3)*((b0 - I*b1)*rho_14(t) + (b2 + I*b3)*rho_2(t)) - 2.0*((b0 - I*b1)*(b0 + I*b1) + (b2 - I*b3)*(b2 + I*b3))*rho_12(t)*exp(4*I*a*t))*exp(-4*I*a*t))"
      ]
     },
     "metadata": {},
     "output_type": "display_data"
    },
    {
     "data": {
      "text/latex": [
       "$\\displaystyle \\frac{d}{d t} \\rho_{13}{\\left(t \\right)} = 4 a c_{1} \\left(\\left(b_{0} + i b_{1}\\right) \\left(\\left(b_{0} + i b_{1}\\right) \\rho_{10}{\\left(t \\right)} - \\left(b_{2} + i b_{3}\\right) \\rho_{6}{\\left(t \\right)}\\right) + \\left(b_{2} + i b_{3}\\right) \\left(\\left(b_{0} + i b_{1}\\right) \\rho_{11}{\\left(t \\right)} - \\left(b_{2} + i b_{3}\\right) \\rho_{7}{\\left(t \\right)}\\right)\\right)$"
      ],
      "text/plain": [
       "Eq(Derivative(rho_13(t), t), 4*a*c1*((b0 + I*b1)*((b0 + I*b1)*rho_10(t) - (b2 + I*b3)*rho_6(t)) + (b2 + I*b3)*((b0 + I*b1)*rho_11(t) - (b2 + I*b3)*rho_7(t))))"
      ]
     },
     "metadata": {},
     "output_type": "display_data"
    },
    {
     "data": {
      "text/latex": [
       "$\\displaystyle \\frac{d}{d t} \\rho_{14}{\\left(t \\right)} = c_{0} \\rho_{14}{\\left(t \\right)}$"
      ],
      "text/plain": [
       "Eq(Derivative(rho_14(t), t), c0*rho_14(t))"
      ]
     },
     "metadata": {},
     "output_type": "display_data"
    },
    {
     "data": {
      "text/latex": [
       "$\\displaystyle \\frac{d}{d t} \\rho_{15}{\\left(t \\right)} = c_{0} \\rho_{15}{\\left(t \\right)}$"
      ],
      "text/plain": [
       "Eq(Derivative(rho_15(t), t), c0*rho_15(t))"
      ]
     },
     "metadata": {},
     "output_type": "display_data"
    },
    {
     "data": {
      "text/latex": [
       "$\\displaystyle \\frac{d}{d t} \\rho_{16}{\\left(t \\right)} = 4 a c_{1} \\left(\\left(b_{0} - i b_{1}\\right) \\left(\\left(b_{0} + i b_{1}\\right) \\rho_{11}{\\left(t \\right)} - \\left(b_{2} + i b_{3}\\right) \\rho_{7}{\\left(t \\right)}\\right) - \\left(b_{2} - i b_{3}\\right) \\left(\\left(b_{0} + i b_{1}\\right) \\rho_{10}{\\left(t \\right)} - \\left(b_{2} + i b_{3}\\right) \\rho_{6}{\\left(t \\right)}\\right)\\right)$"
      ],
      "text/plain": [
       "Eq(Derivative(rho_16(t), t), 4*a*c1*((b0 - I*b1)*((b0 + I*b1)*rho_11(t) - (b2 + I*b3)*rho_7(t)) - (b2 - I*b3)*((b0 + I*b1)*rho_10(t) - (b2 + I*b3)*rho_6(t))))"
      ]
     },
     "metadata": {},
     "output_type": "display_data"
    }
   ],
   "source": [
    "for i in eqs:\n",
    "    display(i.subs(c0,c[0]).subs(2*c0,2*c[0]).subs(c1,c[1]))"
   ]
  },
  {
   "cell_type": "code",
   "execution_count": 28,
   "id": "f83499ba-665e-4fd8-8f8a-225cf9676e59",
   "metadata": {},
   "outputs": [],
   "source": [
    "# sols = dsolve_system(\n",
    "#     eqs,\n",
    "#     ics={rhof[0] (0): 0, rhof[1] (0): 0, rhof[2] (0): 0, rhof[3] (0): 0,\n",
    "#          rhof[4] (0): 0, rhof[5] (0): 0.5, rhof[6] (0): 0.5 * I, rhof[7]\n",
    "#           (0): 0, rhof[8] (0): 0, rhof[9] (0): -0.5 * I, rhof[10] (0): 0.5,\n",
    "#          rhof[11](0): 0, rhof[12](0): 0, rhof[13](0): 0, rhof[14](0): 0,\n",
    "#          rhof[15](0): 0})"
   ]
  },
  {
   "cell_type": "markdown",
   "id": "e0213fcb-e7c6-4fab-b518-910c8dfa7417",
   "metadata": {},
   "source": [
    "Solving Fully symbolically is too slow. I need to try some ratios to have a simpler set of symbols so it does not run forever. One can set numerical values (In a sense this is not much different than the solvers,\n",
    "On the other hand the system of equations is till solved analytically, no quadratures are used)\n",
    "\n",
    ":::{warning} \n",
    "Some of the equations are actually pretty easy to solve symbolically for example\n",
    "$\\rho_{14},\\rho_{15},\\rho_{11},\\rho_{10},\\rho_{6},\\rho_{7},\\rho_{3},\\rho_{2}$ all have really simple solutions. Eventhough sympy is having a hard time. I think it might be worth reparametrizing and solving here or simply solving by hand. In the next few days\n",
    ":::\n"
   ]
  },
  {
   "cell_type": "code",
   "execution_count": 29,
   "id": "cfc8d5cf",
   "metadata": {},
   "outputs": [],
   "source": [
    "num_values = {w0: 4.799892154530513, lam: 2.157529680721121, gam: 2.3414108070880553, a: 2.182,b[0]:0.53,b[1]:0.707,b[2]:0.442,b[3]:0.471}"
   ]
  },
  {
   "cell_type": "code",
   "execution_count": 30,
   "id": "6c22ab01",
   "metadata": {},
   "outputs": [],
   "source": [
    "eqs = [Eq(mrhof[k].diff(t), mgene[k].subs(num_values).simplify()) for k in range(16)]"
   ]
  },
  {
   "cell_type": "code",
   "execution_count": 31,
   "id": "c41438ec-bc6a-4728-9d14-64dfc94e06e7",
   "metadata": {},
   "outputs": [
    {
     "data": {
      "text/latex": [
       "$\\displaystyle \\frac{d}{d t} \\rho_{1}{\\left(t \\right)} = 1.0 \\left(0.448330014085309 + 0.0496843899774862 i\\right) \\rho_{10}{\\left(t \\right)} + 0.329736827445869 \\rho_{11}{\\left(t \\right)} + 0.617062830722391 \\rho_{6}{\\left(t \\right)} + 1.0 \\left(0.448330014085309 - 0.0496843899774862 i\\right) \\rho_{7}{\\left(t \\right)}$"
      ],
      "text/plain": [
       "Eq(Derivative(rho_1(t), t), 1.0*(0.448330014085309 + 0.0496843899774862*I)*rho_10(t) + 0.329736827445869*rho_11(t) + 0.617062830722391*rho_6(t) + 1.0*(0.448330014085309 - 0.0496843899774862*I)*rho_7(t))"
      ]
     },
     "execution_count": 31,
     "metadata": {},
     "output_type": "execute_result"
    }
   ],
   "source": [
    "eqs[0]"
   ]
  },
  {
   "cell_type": "code",
   "execution_count": 32,
   "id": "d00d089d-a6bf-4c5e-ab14-52713f8fe412",
   "metadata": {},
   "outputs": [
    {
     "data": {
      "text/latex": [
       "$\\displaystyle \\frac{d}{d t} \\rho_{1}{\\left(t \\right)} = 1.0 \\left(0.448330014085309 + 0.0496843899774862 i\\right) \\rho_{10}{\\left(t \\right)} + 0.329736827445869 \\rho_{11}{\\left(t \\right)} + 0.617062830722391 \\rho_{6}{\\left(t \\right)} + 1.0 \\left(0.448330014085309 - 0.0496843899774862 i\\right) \\rho_{7}{\\left(t \\right)}$"
      ],
      "text/plain": [
       "Eq(Derivative(rho_1(t), t), 1.0*(0.448330014085309 + 0.0496843899774862*I)*rho_10(t) + 0.329736827445869*rho_11(t) + 0.617062830722391*rho_6(t) + 1.0*(0.448330014085309 - 0.0496843899774862*I)*rho_7(t))"
      ]
     },
     "metadata": {},
     "output_type": "display_data"
    },
    {
     "data": {
      "text/latex": [
       "$\\displaystyle \\frac{d}{d t} \\rho_{2}{\\left(t \\right)} = - 0.47339982908413 \\rho_{2}{\\left(t \\right)}$"
      ],
      "text/plain": [
       "Eq(Derivative(rho_2(t), t), -0.47339982908413*rho_2(t))"
      ]
     },
     "metadata": {},
     "output_type": "display_data"
    },
    {
     "data": {
      "text/latex": [
       "$\\displaystyle \\frac{d}{d t} \\rho_{3}{\\left(t \\right)} = - 0.47339982908413 \\rho_{3}{\\left(t \\right)}$"
      ],
      "text/plain": [
       "Eq(Derivative(rho_3(t), t), -0.47339982908413*rho_3(t))"
      ]
     },
     "metadata": {},
     "output_type": "display_data"
    },
    {
     "data": {
      "text/latex": [
       "$\\displaystyle \\frac{d}{d t} \\rho_{4}{\\left(t \\right)} = 1.0 \\left(0.0209260243292489 + 0.329072145402553 i\\right) \\rho_{10}{\\left(t \\right)} - 1.0 \\left(0.0780365171355156 + 0.444273161614031 i\\right) \\rho_{11}{\\left(t \\right)} + 1.0 \\left(0.0780365171355156 + 0.444273161614031 i\\right) \\rho_{6}{\\left(t \\right)} - 1.0 \\left(0.173045741619697 + 0.592302041501141 i\\right) \\rho_{7}{\\left(t \\right)}$"
      ],
      "text/plain": [
       "Eq(Derivative(rho_4(t), t), 1.0*(0.0209260243292489 + 0.329072145402553*I)*rho_10(t) - 1.0*(0.0780365171355156 + 0.444273161614031*I)*rho_11(t) + 1.0*(0.0780365171355156 + 0.444273161614031*I)*rho_6(t) - 1.0*(0.173045741619697 + 0.592302041501141*I)*rho_7(t))"
      ]
     },
     "metadata": {},
     "output_type": "display_data"
    },
    {
     "data": {
      "text/latex": [
       "$\\displaystyle \\frac{d}{d t} \\rho_{5}{\\left(t \\right)} = 1.0 \\left(- \\left(0.448330014085309 + 0.0496843899774862 i\\right) \\rho_{14}{\\left(t \\right)} - 0.329736827445869 \\rho_{15}{\\left(t \\right)} + \\left(-0.173045741619697 + 0.592302041501141 i\\right) \\rho_{2}{\\left(t \\right)} + \\left(-0.0780365171355156 + 0.444273161614031 i\\right) \\rho_{3}{\\left(t \\right)} - 0.47339982908413 \\rho_{5}{\\left(t \\right)} e^{8.728 i t}\\right) e^{- 8.728 i t}$"
      ],
      "text/plain": [
       "Eq(Derivative(rho_5(t), t), 1.0*(-(0.448330014085309 + 0.0496843899774862*I)*rho_14(t) - 0.329736827445869*rho_15(t) + (-0.173045741619697 + 0.592302041501141*I)*rho_2(t) + (-0.0780365171355156 + 0.444273161614031*I)*rho_3(t) - 0.47339982908413*rho_5(t)*exp(8.728*I*t))*exp(-8.728*I*t))"
      ]
     },
     "metadata": {},
     "output_type": "display_data"
    },
    {
     "data": {
      "text/latex": [
       "$\\displaystyle \\frac{d}{d t} \\rho_{6}{\\left(t \\right)} = - 0.94679965816826 \\rho_{6}{\\left(t \\right)}$"
      ],
      "text/plain": [
       "Eq(Derivative(rho_6(t), t), -0.94679965816826*rho_6(t))"
      ]
     },
     "metadata": {},
     "output_type": "display_data"
    },
    {
     "data": {
      "text/latex": [
       "$\\displaystyle \\frac{d}{d t} \\rho_{7}{\\left(t \\right)} = - 0.94679965816826 \\rho_{7}{\\left(t \\right)}$"
      ],
      "text/plain": [
       "Eq(Derivative(rho_7(t), t), -0.94679965816826*rho_7(t))"
      ]
     },
     "metadata": {},
     "output_type": "display_data"
    },
    {
     "data": {
      "text/latex": [
       "$\\displaystyle \\frac{d}{d t} \\rho_{8}{\\left(t \\right)} = 1.0 \\left(- \\left(0.0209260243292489 + 0.329072145402553 i\\right) \\rho_{14}{\\left(t \\right)} + \\left(0.0780365171355156 + 0.444273161614031 i\\right) \\rho_{15}{\\left(t \\right)} - \\left(0.448330014085309 + 0.0496843899774862 i\\right) \\rho_{2}{\\left(t \\right)} + 0.617062830722391 \\rho_{3}{\\left(t \\right)} - 0.47339982908413 \\rho_{8}{\\left(t \\right)} e^{8.728 i t}\\right) e^{- 8.728 i t}$"
      ],
      "text/plain": [
       "Eq(Derivative(rho_8(t), t), 1.0*(-(0.0209260243292489 + 0.329072145402553*I)*rho_14(t) + (0.0780365171355156 + 0.444273161614031*I)*rho_15(t) - (0.448330014085309 + 0.0496843899774862*I)*rho_2(t) + 0.617062830722391*rho_3(t) - 0.47339982908413*rho_8(t)*exp(8.728*I*t))*exp(-8.728*I*t))"
      ]
     },
     "metadata": {},
     "output_type": "display_data"
    },
    {
     "data": {
      "text/latex": [
       "$\\displaystyle \\frac{d}{d t} \\rho_{9}{\\left(t \\right)} = 1.0 \\left(0.617062830722391 \\rho_{14}{\\left(t \\right)} + \\left(0.448330014085309 - 0.0496843899774862 i\\right) \\rho_{15}{\\left(t \\right)} + \\left(-0.0780365171355156 + 0.444273161614031 i\\right) \\rho_{2}{\\left(t \\right)} + \\left(-0.0209260243292489 + 0.329072145402553 i\\right) \\rho_{3}{\\left(t \\right)} - 0.47339982908413 \\rho_{9}{\\left(t \\right)} e^{8.728 i t}\\right) e^{- 8.728 i t}$"
      ],
      "text/plain": [
       "Eq(Derivative(rho_9(t), t), 1.0*(0.617062830722391*rho_14(t) + (0.448330014085309 - 0.0496843899774862*I)*rho_15(t) + (-0.0780365171355156 + 0.444273161614031*I)*rho_2(t) + (-0.0209260243292489 + 0.329072145402553*I)*rho_3(t) - 0.47339982908413*rho_9(t)*exp(8.728*I*t))*exp(-8.728*I*t))"
      ]
     },
     "metadata": {},
     "output_type": "display_data"
    },
    {
     "data": {
      "text/latex": [
       "$\\displaystyle \\frac{d}{d t} \\rho_{10}{\\left(t \\right)} = - 0.94679965816826 \\rho_{10}{\\left(t \\right)}$"
      ],
      "text/plain": [
       "Eq(Derivative(rho_10(t), t), -0.94679965816826*rho_10(t))"
      ]
     },
     "metadata": {},
     "output_type": "display_data"
    },
    {
     "data": {
      "text/latex": [
       "$\\displaystyle \\frac{d}{d t} \\rho_{11}{\\left(t \\right)} = - 0.94679965816826 \\rho_{11}{\\left(t \\right)}$"
      ],
      "text/plain": [
       "Eq(Derivative(rho_11(t), t), -0.94679965816826*rho_11(t))"
      ]
     },
     "metadata": {},
     "output_type": "display_data"
    },
    {
     "data": {
      "text/latex": [
       "$\\displaystyle \\frac{d}{d t} \\rho_{12}{\\left(t \\right)} = 1.0 \\left(- 0.47339982908413 \\rho_{12}{\\left(t \\right)} e^{8.728 i t} + \\left(0.0780365171355156 + 0.444273161614031 i\\right) \\rho_{14}{\\left(t \\right)} - \\left(0.173045741619697 + 0.592302041501141 i\\right) \\rho_{15}{\\left(t \\right)} - 0.329736827445869 \\rho_{2}{\\left(t \\right)} + \\left(0.448330014085309 - 0.0496843899774862 i\\right) \\rho_{3}{\\left(t \\right)}\\right) e^{- 8.728 i t}$"
      ],
      "text/plain": [
       "Eq(Derivative(rho_12(t), t), 1.0*(-0.47339982908413*rho_12(t)*exp(8.728*I*t) + (0.0780365171355156 + 0.444273161614031*I)*rho_14(t) - (0.173045741619697 + 0.592302041501141*I)*rho_15(t) - 0.329736827445869*rho_2(t) + (0.448330014085309 - 0.0496843899774862*I)*rho_3(t))*exp(-8.728*I*t))"
      ]
     },
     "metadata": {},
     "output_type": "display_data"
    },
    {
     "data": {
      "text/latex": [
       "$\\displaystyle \\frac{d}{d t} \\rho_{13}{\\left(t \\right)} = 1.0 \\left(-0.173045741619697 + 0.592302041501141 i\\right) \\rho_{10}{\\left(t \\right)} + 1.0 \\left(-0.0780365171355156 + 0.444273161614031 i\\right) \\rho_{11}{\\left(t \\right)} + 1.0 \\left(0.0780365171355156 - 0.444273161614031 i\\right) \\rho_{6}{\\left(t \\right)} + 1.0 \\left(0.0209260243292489 - 0.329072145402553 i\\right) \\rho_{7}{\\left(t \\right)}$"
      ],
      "text/plain": [
       "Eq(Derivative(rho_13(t), t), 1.0*(-0.173045741619697 + 0.592302041501141*I)*rho_10(t) + 1.0*(-0.0780365171355156 + 0.444273161614031*I)*rho_11(t) + 1.0*(0.0780365171355156 - 0.444273161614031*I)*rho_6(t) + 1.0*(0.0209260243292489 - 0.329072145402553*I)*rho_7(t))"
      ]
     },
     "metadata": {},
     "output_type": "display_data"
    },
    {
     "data": {
      "text/latex": [
       "$\\displaystyle \\frac{d}{d t} \\rho_{14}{\\left(t \\right)} = - 0.47339982908413 \\rho_{14}{\\left(t \\right)}$"
      ],
      "text/plain": [
       "Eq(Derivative(rho_14(t), t), -0.47339982908413*rho_14(t))"
      ]
     },
     "metadata": {},
     "output_type": "display_data"
    },
    {
     "data": {
      "text/latex": [
       "$\\displaystyle \\frac{d}{d t} \\rho_{15}{\\left(t \\right)} = - 0.47339982908413 \\rho_{15}{\\left(t \\right)}$"
      ],
      "text/plain": [
       "Eq(Derivative(rho_15(t), t), -0.47339982908413*rho_15(t))"
      ]
     },
     "metadata": {},
     "output_type": "display_data"
    },
    {
     "data": {
      "text/latex": [
       "$\\displaystyle \\frac{d}{d t} \\rho_{16}{\\left(t \\right)} = - 1.0 \\left(0.448330014085309 + 0.0496843899774862 i\\right) \\rho_{10}{\\left(t \\right)} + 0.617062830722391 \\rho_{11}{\\left(t \\right)} + 0.329736827445869 \\rho_{6}{\\left(t \\right)} + 1.0 \\left(-0.448330014085309 + 0.0496843899774862 i\\right) \\rho_{7}{\\left(t \\right)}$"
      ],
      "text/plain": [
       "Eq(Derivative(rho_16(t), t), -1.0*(0.448330014085309 + 0.0496843899774862*I)*rho_10(t) + 0.617062830722391*rho_11(t) + 0.329736827445869*rho_6(t) + 1.0*(-0.448330014085309 + 0.0496843899774862*I)*rho_7(t))"
      ]
     },
     "metadata": {},
     "output_type": "display_data"
    }
   ],
   "source": [
    "for i in eqs:\n",
    "    display(i)"
   ]
  },
  {
   "cell_type": "code",
   "execution_count": 33,
   "id": "7606ab72",
   "metadata": {},
   "outputs": [
    {
     "ename": "KeyboardInterrupt",
     "evalue": "",
     "output_type": "error",
     "traceback": [
      "\u001b[0;31m---------------------------------------------------------------------------\u001b[0m",
      "\u001b[0;31mKeyboardInterrupt\u001b[0m                         Traceback (most recent call last)",
      "Cell \u001b[0;32mIn[33], line 1\u001b[0m\n\u001b[0;32m----> 1\u001b[0m sols \u001b[38;5;241m=\u001b[39m \u001b[43mdsolve_system\u001b[49m\u001b[43m(\u001b[49m\n\u001b[1;32m      2\u001b[0m \u001b[43m    \u001b[49m\u001b[43meqs\u001b[49m\u001b[43m,\u001b[49m\n\u001b[1;32m      3\u001b[0m \u001b[43m    \u001b[49m\u001b[43mics\u001b[49m\u001b[38;5;241;43m=\u001b[39;49m\u001b[43m{\u001b[49m\u001b[43mrhof\u001b[49m\u001b[43m[\u001b[49m\u001b[38;5;241;43m0\u001b[39;49m\u001b[43m]\u001b[49m\u001b[43m \u001b[49m\u001b[43m(\u001b[49m\u001b[38;5;241;43m0\u001b[39;49m\u001b[43m)\u001b[49m\u001b[43m:\u001b[49m\u001b[43m \u001b[49m\u001b[38;5;241;43m0\u001b[39;49m\u001b[43m,\u001b[49m\u001b[43m \u001b[49m\u001b[43mrhof\u001b[49m\u001b[43m[\u001b[49m\u001b[38;5;241;43m1\u001b[39;49m\u001b[43m]\u001b[49m\u001b[43m \u001b[49m\u001b[43m(\u001b[49m\u001b[38;5;241;43m0\u001b[39;49m\u001b[43m)\u001b[49m\u001b[43m:\u001b[49m\u001b[43m \u001b[49m\u001b[38;5;241;43m0\u001b[39;49m\u001b[43m,\u001b[49m\u001b[43m \u001b[49m\u001b[43mrhof\u001b[49m\u001b[43m[\u001b[49m\u001b[38;5;241;43m2\u001b[39;49m\u001b[43m]\u001b[49m\u001b[43m \u001b[49m\u001b[43m(\u001b[49m\u001b[38;5;241;43m0\u001b[39;49m\u001b[43m)\u001b[49m\u001b[43m:\u001b[49m\u001b[43m \u001b[49m\u001b[38;5;241;43m0\u001b[39;49m\u001b[43m,\u001b[49m\u001b[43m \u001b[49m\u001b[43mrhof\u001b[49m\u001b[43m[\u001b[49m\u001b[38;5;241;43m3\u001b[39;49m\u001b[43m]\u001b[49m\u001b[43m \u001b[49m\u001b[43m(\u001b[49m\u001b[38;5;241;43m0\u001b[39;49m\u001b[43m)\u001b[49m\u001b[43m:\u001b[49m\u001b[43m \u001b[49m\u001b[38;5;241;43m0\u001b[39;49m\u001b[43m,\u001b[49m\n\u001b[1;32m      4\u001b[0m \u001b[43m         \u001b[49m\u001b[43mrhof\u001b[49m\u001b[43m[\u001b[49m\u001b[38;5;241;43m4\u001b[39;49m\u001b[43m]\u001b[49m\u001b[43m \u001b[49m\u001b[43m(\u001b[49m\u001b[38;5;241;43m0\u001b[39;49m\u001b[43m)\u001b[49m\u001b[43m:\u001b[49m\u001b[43m \u001b[49m\u001b[38;5;241;43m0\u001b[39;49m\u001b[43m,\u001b[49m\u001b[43m \u001b[49m\u001b[43mrhof\u001b[49m\u001b[43m[\u001b[49m\u001b[38;5;241;43m5\u001b[39;49m\u001b[43m]\u001b[49m\u001b[43m \u001b[49m\u001b[43m(\u001b[49m\u001b[38;5;241;43m0\u001b[39;49m\u001b[43m)\u001b[49m\u001b[43m:\u001b[49m\u001b[43m \u001b[49m\u001b[38;5;241;43m0.5\u001b[39;49m\u001b[43m,\u001b[49m\u001b[43m \u001b[49m\u001b[43mrhof\u001b[49m\u001b[43m[\u001b[49m\u001b[38;5;241;43m6\u001b[39;49m\u001b[43m]\u001b[49m\u001b[43m \u001b[49m\u001b[43m(\u001b[49m\u001b[38;5;241;43m0\u001b[39;49m\u001b[43m)\u001b[49m\u001b[43m:\u001b[49m\u001b[43m \u001b[49m\u001b[38;5;241;43m0.5\u001b[39;49m\u001b[43m \u001b[49m\u001b[38;5;241;43m*\u001b[39;49m\u001b[43m \u001b[49m\u001b[43mI\u001b[49m\u001b[43m,\u001b[49m\u001b[43m \u001b[49m\u001b[43mrhof\u001b[49m\u001b[43m[\u001b[49m\u001b[38;5;241;43m7\u001b[39;49m\u001b[43m]\u001b[49m\n\u001b[1;32m      5\u001b[0m \u001b[43m          \u001b[49m\u001b[43m(\u001b[49m\u001b[38;5;241;43m0\u001b[39;49m\u001b[43m)\u001b[49m\u001b[43m:\u001b[49m\u001b[43m \u001b[49m\u001b[38;5;241;43m0\u001b[39;49m\u001b[43m,\u001b[49m\u001b[43m \u001b[49m\u001b[43mrhof\u001b[49m\u001b[43m[\u001b[49m\u001b[38;5;241;43m8\u001b[39;49m\u001b[43m]\u001b[49m\u001b[43m \u001b[49m\u001b[43m(\u001b[49m\u001b[38;5;241;43m0\u001b[39;49m\u001b[43m)\u001b[49m\u001b[43m:\u001b[49m\u001b[43m \u001b[49m\u001b[38;5;241;43m0\u001b[39;49m\u001b[43m,\u001b[49m\u001b[43m \u001b[49m\u001b[43mrhof\u001b[49m\u001b[43m[\u001b[49m\u001b[38;5;241;43m9\u001b[39;49m\u001b[43m]\u001b[49m\u001b[43m \u001b[49m\u001b[43m(\u001b[49m\u001b[38;5;241;43m0\u001b[39;49m\u001b[43m)\u001b[49m\u001b[43m:\u001b[49m\u001b[43m \u001b[49m\u001b[38;5;241;43m-\u001b[39;49m\u001b[38;5;241;43m0.5\u001b[39;49m\u001b[43m \u001b[49m\u001b[38;5;241;43m*\u001b[39;49m\u001b[43m \u001b[49m\u001b[43mI\u001b[49m\u001b[43m,\u001b[49m\u001b[43m \u001b[49m\u001b[43mrhof\u001b[49m\u001b[43m[\u001b[49m\u001b[38;5;241;43m10\u001b[39;49m\u001b[43m]\u001b[49m\u001b[43m \u001b[49m\u001b[43m(\u001b[49m\u001b[38;5;241;43m0\u001b[39;49m\u001b[43m)\u001b[49m\u001b[43m:\u001b[49m\u001b[43m \u001b[49m\u001b[38;5;241;43m0.5\u001b[39;49m\u001b[43m,\u001b[49m\n\u001b[1;32m      6\u001b[0m \u001b[43m         \u001b[49m\u001b[43mrhof\u001b[49m\u001b[43m[\u001b[49m\u001b[38;5;241;43m11\u001b[39;49m\u001b[43m]\u001b[49m\u001b[43m(\u001b[49m\u001b[38;5;241;43m0\u001b[39;49m\u001b[43m)\u001b[49m\u001b[43m:\u001b[49m\u001b[43m \u001b[49m\u001b[38;5;241;43m0\u001b[39;49m\u001b[43m,\u001b[49m\u001b[43m \u001b[49m\u001b[43mrhof\u001b[49m\u001b[43m[\u001b[49m\u001b[38;5;241;43m12\u001b[39;49m\u001b[43m]\u001b[49m\u001b[43m(\u001b[49m\u001b[38;5;241;43m0\u001b[39;49m\u001b[43m)\u001b[49m\u001b[43m:\u001b[49m\u001b[43m \u001b[49m\u001b[38;5;241;43m0\u001b[39;49m\u001b[43m,\u001b[49m\u001b[43m \u001b[49m\u001b[43mrhof\u001b[49m\u001b[43m[\u001b[49m\u001b[38;5;241;43m13\u001b[39;49m\u001b[43m]\u001b[49m\u001b[43m(\u001b[49m\u001b[38;5;241;43m0\u001b[39;49m\u001b[43m)\u001b[49m\u001b[43m:\u001b[49m\u001b[43m \u001b[49m\u001b[38;5;241;43m0\u001b[39;49m\u001b[43m,\u001b[49m\u001b[43m \u001b[49m\u001b[43mrhof\u001b[49m\u001b[43m[\u001b[49m\u001b[38;5;241;43m14\u001b[39;49m\u001b[43m]\u001b[49m\u001b[43m(\u001b[49m\u001b[38;5;241;43m0\u001b[39;49m\u001b[43m)\u001b[49m\u001b[43m:\u001b[49m\u001b[43m \u001b[49m\u001b[38;5;241;43m0\u001b[39;49m\u001b[43m,\u001b[49m\n\u001b[1;32m      7\u001b[0m \u001b[43m         \u001b[49m\u001b[43mrhof\u001b[49m\u001b[43m[\u001b[49m\u001b[38;5;241;43m15\u001b[39;49m\u001b[43m]\u001b[49m\u001b[43m(\u001b[49m\u001b[38;5;241;43m0\u001b[39;49m\u001b[43m)\u001b[49m\u001b[43m:\u001b[49m\u001b[43m \u001b[49m\u001b[38;5;241;43m0\u001b[39;49m\u001b[43m}\u001b[49m\u001b[43m)\u001b[49m\n",
      "File \u001b[0;32m~/miniconda3/envs/qutip-dev/lib/python3.12/site-packages/sympy/solvers/ode/systems.py:2100\u001b[0m, in \u001b[0;36mdsolve_system\u001b[0;34m(eqs, funcs, t, ics, doit, simplify)\u001b[0m\n\u001b[1;32m   2097\u001b[0m     t \u001b[38;5;241m=\u001b[39m \u001b[38;5;28mlist\u001b[39m(\u001b[38;5;28mlist\u001b[39m(eqs[\u001b[38;5;241m0\u001b[39m]\u001b[38;5;241m.\u001b[39matoms(Derivative))[\u001b[38;5;241m0\u001b[39m]\u001b[38;5;241m.\u001b[39matoms(Symbol))[\u001b[38;5;241m0\u001b[39m]\n\u001b[1;32m   2099\u001b[0m sols \u001b[38;5;241m=\u001b[39m []\n\u001b[0;32m-> 2100\u001b[0m canon_eqs \u001b[38;5;241m=\u001b[39m \u001b[43mcanonical_odes\u001b[49m\u001b[43m(\u001b[49m\u001b[43meqs\u001b[49m\u001b[43m,\u001b[49m\u001b[43m \u001b[49m\u001b[43mfuncs\u001b[49m\u001b[43m,\u001b[49m\u001b[43m \u001b[49m\u001b[43mt\u001b[49m\u001b[43m)\u001b[49m\n\u001b[1;32m   2102\u001b[0m \u001b[38;5;28;01mfor\u001b[39;00m canon_eq \u001b[38;5;129;01min\u001b[39;00m canon_eqs:\n\u001b[1;32m   2103\u001b[0m     \u001b[38;5;28;01mtry\u001b[39;00m:\n",
      "File \u001b[0;32m~/miniconda3/envs/qutip-dev/lib/python3.12/site-packages/sympy/solvers/ode/systems.py:1071\u001b[0m, in \u001b[0;36mcanonical_odes\u001b[0;34m(eqs, funcs, t)\u001b[0m\n\u001b[1;32m   1067\u001b[0m \u001b[38;5;28;01mfrom\u001b[39;00m \u001b[38;5;21;01msympy\u001b[39;00m\u001b[38;5;21;01m.\u001b[39;00m\u001b[38;5;21;01msolvers\u001b[39;00m\u001b[38;5;21;01m.\u001b[39;00m\u001b[38;5;21;01msolvers\u001b[39;00m \u001b[38;5;28;01mimport\u001b[39;00m solve\n\u001b[1;32m   1069\u001b[0m order \u001b[38;5;241m=\u001b[39m _get_func_order(eqs, funcs)\n\u001b[0;32m-> 1071\u001b[0m canon_eqs \u001b[38;5;241m=\u001b[39m \u001b[43msolve\u001b[49m\u001b[43m(\u001b[49m\u001b[43meqs\u001b[49m\u001b[43m,\u001b[49m\u001b[43m \u001b[49m\u001b[38;5;241;43m*\u001b[39;49m\u001b[43m[\u001b[49m\u001b[43mfunc\u001b[49m\u001b[38;5;241;43m.\u001b[39;49m\u001b[43mdiff\u001b[49m\u001b[43m(\u001b[49m\u001b[43mt\u001b[49m\u001b[43m,\u001b[49m\u001b[43m \u001b[49m\u001b[43morder\u001b[49m\u001b[43m[\u001b[49m\u001b[43mfunc\u001b[49m\u001b[43m]\u001b[49m\u001b[43m)\u001b[49m\u001b[43m \u001b[49m\u001b[38;5;28;43;01mfor\u001b[39;49;00m\u001b[43m \u001b[49m\u001b[43mfunc\u001b[49m\u001b[43m \u001b[49m\u001b[38;5;129;43;01min\u001b[39;49;00m\u001b[43m \u001b[49m\u001b[43mfuncs\u001b[49m\u001b[43m]\u001b[49m\u001b[43m,\u001b[49m\u001b[43m \u001b[49m\u001b[38;5;28;43mdict\u001b[39;49m\u001b[38;5;241;43m=\u001b[39;49m\u001b[38;5;28;43;01mTrue\u001b[39;49;00m\u001b[43m)\u001b[49m\n\u001b[1;32m   1073\u001b[0m systems \u001b[38;5;241m=\u001b[39m []\n\u001b[1;32m   1074\u001b[0m \u001b[38;5;28;01mfor\u001b[39;00m eq \u001b[38;5;129;01min\u001b[39;00m canon_eqs:\n",
      "File \u001b[0;32m~/miniconda3/envs/qutip-dev/lib/python3.12/site-packages/sympy/solvers/solvers.py:1121\u001b[0m, in \u001b[0;36msolve\u001b[0;34m(f, *symbols, **flags)\u001b[0m\n\u001b[1;32m   1119\u001b[0m         \u001b[38;5;28;01mif\u001b[39;00m fi\u001b[38;5;241m.\u001b[39mhas(Float):\n\u001b[1;32m   1120\u001b[0m             floats \u001b[38;5;241m=\u001b[39m \u001b[38;5;28;01mTrue\u001b[39;00m\n\u001b[0;32m-> 1121\u001b[0m             f[i] \u001b[38;5;241m=\u001b[39m \u001b[43mnsimplify\u001b[49m\u001b[43m(\u001b[49m\u001b[43mfi\u001b[49m\u001b[43m,\u001b[49m\u001b[43m \u001b[49m\u001b[43mrational\u001b[49m\u001b[38;5;241;43m=\u001b[39;49m\u001b[38;5;28;43;01mTrue\u001b[39;49;00m\u001b[43m)\u001b[49m\n\u001b[1;32m   1123\u001b[0m \u001b[38;5;66;03m# capture any denominators before rewriting since\u001b[39;00m\n\u001b[1;32m   1124\u001b[0m \u001b[38;5;66;03m# they may disappear after the rewrite, e.g. issue 14779\u001b[39;00m\n\u001b[1;32m   1125\u001b[0m flags[\u001b[38;5;124m'\u001b[39m\u001b[38;5;124m_denominators\u001b[39m\u001b[38;5;124m'\u001b[39m] \u001b[38;5;241m=\u001b[39m _simple_dens(f[\u001b[38;5;241m0\u001b[39m], symbols)\n",
      "File \u001b[0;32m~/miniconda3/envs/qutip-dev/lib/python3.12/site-packages/sympy/simplify/simplify.py:1446\u001b[0m, in \u001b[0;36mnsimplify\u001b[0;34m(expr, constants, tolerance, full, rational, rational_conversion)\u001b[0m\n\u001b[1;32m   1444\u001b[0m     \u001b[38;5;28;01mreturn\u001b[39;00m expr\n\u001b[1;32m   1445\u001b[0m \u001b[38;5;28;01mif\u001b[39;00m rational \u001b[38;5;129;01mor\u001b[39;00m expr\u001b[38;5;241m.\u001b[39mfree_symbols:\n\u001b[0;32m-> 1446\u001b[0m     \u001b[38;5;28;01mreturn\u001b[39;00m \u001b[43m_real_to_rational\u001b[49m\u001b[43m(\u001b[49m\u001b[43mexpr\u001b[49m\u001b[43m,\u001b[49m\u001b[43m \u001b[49m\u001b[43mtolerance\u001b[49m\u001b[43m,\u001b[49m\u001b[43m \u001b[49m\u001b[43mrational_conversion\u001b[49m\u001b[43m)\u001b[49m\n\u001b[1;32m   1448\u001b[0m \u001b[38;5;66;03m# SymPy's default tolerance for Rationals is 15; other numbers may have\u001b[39;00m\n\u001b[1;32m   1449\u001b[0m \u001b[38;5;66;03m# lower tolerances set, so use them to pick the largest tolerance if None\u001b[39;00m\n\u001b[1;32m   1450\u001b[0m \u001b[38;5;66;03m# was given\u001b[39;00m\n\u001b[1;32m   1451\u001b[0m \u001b[38;5;28;01mif\u001b[39;00m tolerance \u001b[38;5;129;01mis\u001b[39;00m \u001b[38;5;28;01mNone\u001b[39;00m:\n",
      "File \u001b[0;32m~/miniconda3/envs/qutip-dev/lib/python3.12/site-packages/sympy/simplify/simplify.py:1582\u001b[0m, in \u001b[0;36m_real_to_rational\u001b[0;34m(expr, tolerance, rational_conversion)\u001b[0m\n\u001b[1;32m   1580\u001b[0m                 r \u001b[38;5;241m=\u001b[39m S\u001b[38;5;241m.\u001b[39mZero\n\u001b[1;32m   1581\u001b[0m     reps[key] \u001b[38;5;241m=\u001b[39m r\n\u001b[0;32m-> 1582\u001b[0m \u001b[38;5;28;01mreturn\u001b[39;00m \u001b[43mp\u001b[49m\u001b[38;5;241;43m.\u001b[39;49m\u001b[43msubs\u001b[49m\u001b[43m(\u001b[49m\u001b[43mreps\u001b[49m\u001b[43m,\u001b[49m\u001b[43m \u001b[49m\u001b[43msimultaneous\u001b[49m\u001b[38;5;241;43m=\u001b[39;49m\u001b[38;5;28;43;01mTrue\u001b[39;49;00m\u001b[43m)\u001b[49m\n",
      "File \u001b[0;32m~/miniconda3/envs/qutip-dev/lib/python3.12/site-packages/sympy/core/basic.py:1114\u001b[0m, in \u001b[0;36mBasic.subs\u001b[0;34m(self, *args, **kwargs)\u001b[0m\n\u001b[1;32m   1110\u001b[0m d \u001b[38;5;241m=\u001b[39m Dummy(\u001b[38;5;124m'\u001b[39m\u001b[38;5;124msubs_d\u001b[39m\u001b[38;5;124m'\u001b[39m, commutative\u001b[38;5;241m=\u001b[39mcom)\n\u001b[1;32m   1111\u001b[0m \u001b[38;5;66;03m# using d*m so Subs will be used on dummy variables\u001b[39;00m\n\u001b[1;32m   1112\u001b[0m \u001b[38;5;66;03m# in things like Derivative(f(x, y), x) in which x\u001b[39;00m\n\u001b[1;32m   1113\u001b[0m \u001b[38;5;66;03m# is both free and bound\u001b[39;00m\n\u001b[0;32m-> 1114\u001b[0m rv \u001b[38;5;241m=\u001b[39m \u001b[43mrv\u001b[49m\u001b[38;5;241;43m.\u001b[39;49m\u001b[43m_subs\u001b[49m\u001b[43m(\u001b[49m\u001b[43mold\u001b[49m\u001b[43m,\u001b[49m\u001b[43m \u001b[49m\u001b[43md\u001b[49m\u001b[38;5;241;43m*\u001b[39;49m\u001b[43mm\u001b[49m\u001b[43m,\u001b[49m\u001b[43m \u001b[49m\u001b[38;5;241;43m*\u001b[39;49m\u001b[38;5;241;43m*\u001b[39;49m\u001b[43mkwargs\u001b[49m\u001b[43m)\u001b[49m\n\u001b[1;32m   1115\u001b[0m \u001b[38;5;28;01mif\u001b[39;00m \u001b[38;5;129;01mnot\u001b[39;00m \u001b[38;5;28misinstance\u001b[39m(rv, Basic):\n\u001b[1;32m   1116\u001b[0m     \u001b[38;5;28;01mbreak\u001b[39;00m\n",
      "File \u001b[0;32m~/miniconda3/envs/qutip-dev/lib/python3.12/site-packages/sympy/core/cache.py:72\u001b[0m, in \u001b[0;36m__cacheit.<locals>.func_wrapper.<locals>.wrapper\u001b[0;34m(*args, **kwargs)\u001b[0m\n\u001b[1;32m     69\u001b[0m \u001b[38;5;129m@wraps\u001b[39m(func)\n\u001b[1;32m     70\u001b[0m \u001b[38;5;28;01mdef\u001b[39;00m \u001b[38;5;21mwrapper\u001b[39m(\u001b[38;5;241m*\u001b[39margs, \u001b[38;5;241m*\u001b[39m\u001b[38;5;241m*\u001b[39mkwargs):\n\u001b[1;32m     71\u001b[0m     \u001b[38;5;28;01mtry\u001b[39;00m:\n\u001b[0;32m---> 72\u001b[0m         retval \u001b[38;5;241m=\u001b[39m \u001b[43mcfunc\u001b[49m\u001b[43m(\u001b[49m\u001b[38;5;241;43m*\u001b[39;49m\u001b[43margs\u001b[49m\u001b[43m,\u001b[49m\u001b[43m \u001b[49m\u001b[38;5;241;43m*\u001b[39;49m\u001b[38;5;241;43m*\u001b[39;49m\u001b[43mkwargs\u001b[49m\u001b[43m)\u001b[49m\n\u001b[1;32m     73\u001b[0m     \u001b[38;5;28;01mexcept\u001b[39;00m \u001b[38;5;167;01mTypeError\u001b[39;00m \u001b[38;5;28;01mas\u001b[39;00m e:\n\u001b[1;32m     74\u001b[0m         \u001b[38;5;28;01mif\u001b[39;00m \u001b[38;5;129;01mnot\u001b[39;00m e\u001b[38;5;241m.\u001b[39margs \u001b[38;5;129;01mor\u001b[39;00m \u001b[38;5;129;01mnot\u001b[39;00m e\u001b[38;5;241m.\u001b[39margs[\u001b[38;5;241m0\u001b[39m]\u001b[38;5;241m.\u001b[39mstartswith(\u001b[38;5;124m'\u001b[39m\u001b[38;5;124munhashable type:\u001b[39m\u001b[38;5;124m'\u001b[39m):\n",
      "File \u001b[0;32m~/miniconda3/envs/qutip-dev/lib/python3.12/site-packages/sympy/core/basic.py:1237\u001b[0m, in \u001b[0;36mBasic._subs\u001b[0;34m(self, old, new, **hints)\u001b[0m\n\u001b[1;32m   1235\u001b[0m rv \u001b[38;5;241m=\u001b[39m \u001b[38;5;28mself\u001b[39m\u001b[38;5;241m.\u001b[39m_eval_subs(old, new)\n\u001b[1;32m   1236\u001b[0m \u001b[38;5;28;01mif\u001b[39;00m rv \u001b[38;5;129;01mis\u001b[39;00m \u001b[38;5;28;01mNone\u001b[39;00m:\n\u001b[0;32m-> 1237\u001b[0m     rv \u001b[38;5;241m=\u001b[39m \u001b[43mfallback\u001b[49m\u001b[43m(\u001b[49m\u001b[38;5;28;43mself\u001b[39;49m\u001b[43m,\u001b[49m\u001b[43m \u001b[49m\u001b[43mold\u001b[49m\u001b[43m,\u001b[49m\u001b[43m \u001b[49m\u001b[43mnew\u001b[49m\u001b[43m)\u001b[49m\n\u001b[1;32m   1238\u001b[0m \u001b[38;5;28;01mreturn\u001b[39;00m rv\n",
      "File \u001b[0;32m~/miniconda3/envs/qutip-dev/lib/python3.12/site-packages/sympy/core/basic.py:1209\u001b[0m, in \u001b[0;36mBasic._subs.<locals>.fallback\u001b[0;34m(self, old, new)\u001b[0m\n\u001b[1;32m   1207\u001b[0m \u001b[38;5;28;01mif\u001b[39;00m \u001b[38;5;129;01mnot\u001b[39;00m \u001b[38;5;28mhasattr\u001b[39m(arg, \u001b[38;5;124m'\u001b[39m\u001b[38;5;124m_eval_subs\u001b[39m\u001b[38;5;124m'\u001b[39m):\n\u001b[1;32m   1208\u001b[0m     \u001b[38;5;28;01mcontinue\u001b[39;00m\n\u001b[0;32m-> 1209\u001b[0m arg \u001b[38;5;241m=\u001b[39m \u001b[43marg\u001b[49m\u001b[38;5;241;43m.\u001b[39;49m\u001b[43m_subs\u001b[49m\u001b[43m(\u001b[49m\u001b[43mold\u001b[49m\u001b[43m,\u001b[49m\u001b[43m \u001b[49m\u001b[43mnew\u001b[49m\u001b[43m,\u001b[49m\u001b[43m \u001b[49m\u001b[38;5;241;43m*\u001b[39;49m\u001b[38;5;241;43m*\u001b[39;49m\u001b[43mhints\u001b[49m\u001b[43m)\u001b[49m\n\u001b[1;32m   1210\u001b[0m \u001b[38;5;28;01mif\u001b[39;00m \u001b[38;5;129;01mnot\u001b[39;00m _aresame(arg, args[i]):\n\u001b[1;32m   1211\u001b[0m     hit \u001b[38;5;241m=\u001b[39m \u001b[38;5;28;01mTrue\u001b[39;00m\n",
      "File \u001b[0;32m~/miniconda3/envs/qutip-dev/lib/python3.12/site-packages/sympy/core/cache.py:72\u001b[0m, in \u001b[0;36m__cacheit.<locals>.func_wrapper.<locals>.wrapper\u001b[0;34m(*args, **kwargs)\u001b[0m\n\u001b[1;32m     69\u001b[0m \u001b[38;5;129m@wraps\u001b[39m(func)\n\u001b[1;32m     70\u001b[0m \u001b[38;5;28;01mdef\u001b[39;00m \u001b[38;5;21mwrapper\u001b[39m(\u001b[38;5;241m*\u001b[39margs, \u001b[38;5;241m*\u001b[39m\u001b[38;5;241m*\u001b[39mkwargs):\n\u001b[1;32m     71\u001b[0m     \u001b[38;5;28;01mtry\u001b[39;00m:\n\u001b[0;32m---> 72\u001b[0m         retval \u001b[38;5;241m=\u001b[39m \u001b[43mcfunc\u001b[49m\u001b[43m(\u001b[49m\u001b[38;5;241;43m*\u001b[39;49m\u001b[43margs\u001b[49m\u001b[43m,\u001b[49m\u001b[43m \u001b[49m\u001b[38;5;241;43m*\u001b[39;49m\u001b[38;5;241;43m*\u001b[39;49m\u001b[43mkwargs\u001b[49m\u001b[43m)\u001b[49m\n\u001b[1;32m     73\u001b[0m     \u001b[38;5;28;01mexcept\u001b[39;00m \u001b[38;5;167;01mTypeError\u001b[39;00m \u001b[38;5;28;01mas\u001b[39;00m e:\n\u001b[1;32m     74\u001b[0m         \u001b[38;5;28;01mif\u001b[39;00m \u001b[38;5;129;01mnot\u001b[39;00m e\u001b[38;5;241m.\u001b[39margs \u001b[38;5;129;01mor\u001b[39;00m \u001b[38;5;129;01mnot\u001b[39;00m e\u001b[38;5;241m.\u001b[39margs[\u001b[38;5;241m0\u001b[39m]\u001b[38;5;241m.\u001b[39mstartswith(\u001b[38;5;124m'\u001b[39m\u001b[38;5;124munhashable type:\u001b[39m\u001b[38;5;124m'\u001b[39m):\n",
      "File \u001b[0;32m~/miniconda3/envs/qutip-dev/lib/python3.12/site-packages/sympy/core/basic.py:1237\u001b[0m, in \u001b[0;36mBasic._subs\u001b[0;34m(self, old, new, **hints)\u001b[0m\n\u001b[1;32m   1235\u001b[0m rv \u001b[38;5;241m=\u001b[39m \u001b[38;5;28mself\u001b[39m\u001b[38;5;241m.\u001b[39m_eval_subs(old, new)\n\u001b[1;32m   1236\u001b[0m \u001b[38;5;28;01mif\u001b[39;00m rv \u001b[38;5;129;01mis\u001b[39;00m \u001b[38;5;28;01mNone\u001b[39;00m:\n\u001b[0;32m-> 1237\u001b[0m     rv \u001b[38;5;241m=\u001b[39m \u001b[43mfallback\u001b[49m\u001b[43m(\u001b[49m\u001b[38;5;28;43mself\u001b[39;49m\u001b[43m,\u001b[49m\u001b[43m \u001b[49m\u001b[43mold\u001b[49m\u001b[43m,\u001b[49m\u001b[43m \u001b[49m\u001b[43mnew\u001b[49m\u001b[43m)\u001b[49m\n\u001b[1;32m   1238\u001b[0m \u001b[38;5;28;01mreturn\u001b[39;00m rv\n",
      "File \u001b[0;32m~/miniconda3/envs/qutip-dev/lib/python3.12/site-packages/sympy/core/basic.py:1210\u001b[0m, in \u001b[0;36mBasic._subs.<locals>.fallback\u001b[0;34m(self, old, new)\u001b[0m\n\u001b[1;32m   1208\u001b[0m     \u001b[38;5;28;01mcontinue\u001b[39;00m\n\u001b[1;32m   1209\u001b[0m arg \u001b[38;5;241m=\u001b[39m arg\u001b[38;5;241m.\u001b[39m_subs(old, new, \u001b[38;5;241m*\u001b[39m\u001b[38;5;241m*\u001b[39mhints)\n\u001b[0;32m-> 1210\u001b[0m \u001b[38;5;28;01mif\u001b[39;00m \u001b[38;5;129;01mnot\u001b[39;00m \u001b[43m_aresame\u001b[49m\u001b[43m(\u001b[49m\u001b[43marg\u001b[49m\u001b[43m,\u001b[49m\u001b[43m \u001b[49m\u001b[43margs\u001b[49m\u001b[43m[\u001b[49m\u001b[43mi\u001b[49m\u001b[43m]\u001b[49m\u001b[43m)\u001b[49m:\n\u001b[1;32m   1211\u001b[0m     hit \u001b[38;5;241m=\u001b[39m \u001b[38;5;28;01mTrue\u001b[39;00m\n\u001b[1;32m   1212\u001b[0m     args[i] \u001b[38;5;241m=\u001b[39m arg\n",
      "File \u001b[0;32m~/miniconda3/envs/qutip-dev/lib/python3.12/site-packages/sympy/core/basic.py:2192\u001b[0m, in \u001b[0;36mBasic.is_same\u001b[0;34m(a, b, approx)\u001b[0m\n\u001b[1;32m   2138\u001b[0m \u001b[38;5;250m\u001b[39m\u001b[38;5;124;03m\"\"\"Return True if a and b are structurally the same, else False.\u001b[39;00m\n\u001b[1;32m   2139\u001b[0m \u001b[38;5;124;03mIf `approx` is supplied, it will be used to test whether two\u001b[39;00m\n\u001b[1;32m   2140\u001b[0m \u001b[38;5;124;03mnumbers are the same or not. By default, only numbers of the\u001b[39;00m\n\u001b[0;32m   (...)\u001b[0m\n\u001b[1;32m   2189\u001b[0m \n\u001b[1;32m   2190\u001b[0m \u001b[38;5;124;03m\"\"\"\u001b[39;00m\n\u001b[1;32m   2191\u001b[0m \u001b[38;5;28;01mfrom\u001b[39;00m \u001b[38;5;21;01m.\u001b[39;00m\u001b[38;5;21;01mnumbers\u001b[39;00m \u001b[38;5;28;01mimport\u001b[39;00m Number\n\u001b[0;32m-> 2192\u001b[0m \u001b[38;5;28;01mfrom\u001b[39;00m \u001b[38;5;21;01m.\u001b[39;00m\u001b[38;5;21;01mtraversal\u001b[39;00m \u001b[38;5;28;01mimport\u001b[39;00m postorder_traversal \u001b[38;5;28;01mas\u001b[39;00m pot\n\u001b[1;32m   2193\u001b[0m \u001b[38;5;28;01mfor\u001b[39;00m t \u001b[38;5;129;01min\u001b[39;00m zip_longest(pot(a), pot(b)):\n\u001b[1;32m   2194\u001b[0m     \u001b[38;5;28;01mif\u001b[39;00m \u001b[38;5;28;01mNone\u001b[39;00m \u001b[38;5;129;01min\u001b[39;00m t:\n",
      "File \u001b[0;32m<frozen importlib._bootstrap>:645\u001b[0m, in \u001b[0;36mparent\u001b[0;34m(self)\u001b[0m\n",
      "\u001b[0;31mKeyboardInterrupt\u001b[0m: "
     ]
    }
   ],
   "source": [
    "sols = dsolve_system(\n",
    "    eqs,\n",
    "    ics={rhof[0] (0): 0, rhof[1] (0): 0, rhof[2] (0): 0, rhof[3] (0): 0,\n",
    "         rhof[4] (0): 0, rhof[5] (0): 0.5, rhof[6] (0): 0.5 * I, rhof[7]\n",
    "          (0): 0, rhof[8] (0): 0, rhof[9] (0): -0.5 * I, rhof[10] (0): 0.5,\n",
    "         rhof[11](0): 0, rhof[12](0): 0, rhof[13](0): 0, rhof[14](0): 0,\n",
    "         rhof[15](0): 0})"
   ]
  },
  {
   "cell_type": "code",
   "execution_count": null,
   "id": "3bdd7022",
   "metadata": {},
   "outputs": [],
   "source": [
    "ans=Matrix(np.array([i.rhs for i in sols[0]]).reshape(4,4))"
   ]
  },
  {
   "cell_type": "code",
   "execution_count": null,
   "id": "bf4208f3",
   "metadata": {},
   "outputs": [],
   "source": [
    "def roundMatrix(m, n): \n",
    "    return Matrix(\n",
    "    [[round(m[x, y], n) for y in range(m.shape[1])] for x in range(m.shape[0])])"
   ]
  },
  {
   "cell_type": "code",
   "execution_count": null,
   "id": "982f73be",
   "metadata": {},
   "outputs": [],
   "source": [
    "roundMatrix(ans.subs(t,50),10)"
   ]
  },
  {
   "cell_type": "markdown",
   "id": "5c5d55df",
   "metadata": {},
   "source": [
    "I believe I was careful enough to use the same convention used in the other equations (Pseudomodes, Cumulant and redfield ) but currently reviewing the derivations to make sure there's no inconsistencies. The derivations in question are in https://master--gsuarezthesis.netlify.app/redfield . I do think it is now safe to assume that BR/Redfield breaksdown and that it is not a bug in code (Unless the three different implementations have the same bug xd), so maybe we can write a paper on redfield breaking down, cumulant/global being good once we figure out why it happens🤓"
   ]
  },
  {
   "cell_type": "markdown",
   "id": "57861bc1-3ef0-4a6f-ab80-b54dfc8a7797",
   "metadata": {},
   "source": [
    ":::{tip} About Pictures\n",
    "Technically the above matrix is not correct as it is in the interaction picture and not the Schrodinger picture. In this case it does not make a difference, however, let us do the rotation \n",
    ":::"
   ]
  },
  {
   "cell_type": "code",
   "execution_count": null,
   "id": "0ebc6e75-cc9f-422d-b9a1-9b3fe279e548",
   "metadata": {},
   "outputs": [],
   "source": [
    "U=exp(I*H*t)\n",
    "U"
   ]
  },
  {
   "cell_type": "code",
   "execution_count": null,
   "id": "dd533a25-542a-4fef-8476-4254a6d21204",
   "metadata": {},
   "outputs": [],
   "source": [
    "U*rho*Dagger(U) ## To confirm there are no differences in the steady state see that the observables\n",
    "## that remain in the steady state are the same in both pictures"
   ]
  },
  {
   "cell_type": "code",
   "execution_count": null,
   "id": "cfdf7648-db4a-456c-8940-0b8545cd18da",
   "metadata": {},
   "outputs": [],
   "source": [
    "U*roundMatrix(ans.subs(t,50),10)*Dagger(U)"
   ]
  },
  {
   "cell_type": "markdown",
   "id": "44c1f87b",
   "metadata": {},
   "source": [
    "## RC picture of the Hamiltonian\n",
    "\n",
    "For the RC I simply follow one of your papers https://arxiv.org/pdf/1511.05181\n",
    "\n",
    "So If I didn't misunderstand it then\n",
    "\n",
    "$$\\Omega=w_{0}$$\n",
    "$$\\lambda_{rc}=\\sqrt{\\frac{\\pi}{2 w_{0}}}\\lambda$$\n",
    "\n",
    "\n",
    "Not actually sure if $\\pi$ should be there, but does not seem to be relevant for the question we are asking"
   ]
  },
  {
   "cell_type": "code",
   "execution_count": null,
   "id": "c936c849",
   "metadata": {},
   "outputs": [],
   "source": [
    "H"
   ]
  },
  {
   "cell_type": "code",
   "execution_count": null,
   "id": "1287bd8f",
   "metadata": {},
   "outputs": [],
   "source": [
    "def ladder(i,j):\n",
    "    if i - j == 1:\n",
    "        return sqrt(i)\n",
    "    else:\n",
    "        return 0\n",
    "def destroy(n):\n",
    "    return Dagger(Matrix(n,n,ladder))\n"
   ]
  },
  {
   "cell_type": "markdown",
   "id": "5d169565",
   "metadata": {},
   "source": [
    "Not sure how many levels to take here, but let us guess 15 is enough"
   ]
  },
  {
   "cell_type": "code",
   "execution_count": null,
   "id": "bd873a69",
   "metadata": {},
   "outputs": [],
   "source": [
    "levels=15\n",
    "arc=destroy(levels)\n",
    "arcd=Dagger(arc)"
   ]
  },
  {
   "cell_type": "markdown",
   "id": "790ce6f4",
   "metadata": {},
   "source": [
    "Then I construct the RC Hamiltonian"
   ]
  },
  {
   "cell_type": "code",
   "execution_count": null,
   "id": "c288e2a0",
   "metadata": {},
   "outputs": [],
   "source": [
    "from sympy.physics.quantum import TensorProduct"
   ]
  },
  {
   "cell_type": "code",
   "execution_count": null,
   "id": "889757c0",
   "metadata": {},
   "outputs": [],
   "source": [
    "HRC = TensorProduct(H, eye(levels))+sqrt(pi/(2*w0))*lam*TensorProduct(Q,eye(levels))*(TensorProduct(eye(4),arc)+TensorProduct(eye(4),arcd))+w0*TensorProduct(eye(4),arcd)*TensorProduct(eye(4),arc)"
   ]
  },
  {
   "cell_type": "code",
   "execution_count": null,
   "id": "deece222",
   "metadata": {},
   "outputs": [],
   "source": [
    "NHRC=HRC.subs(num_values).evalf()"
   ]
  },
  {
   "cell_type": "code",
   "execution_count": null,
   "id": "e9f87921",
   "metadata": {},
   "outputs": [],
   "source": [
    "ans=np.array(NHRC.tolist()).astype(np.complex128)"
   ]
  },
  {
   "cell_type": "code",
   "execution_count": null,
   "id": "b42cf667",
   "metadata": {},
   "outputs": [],
   "source": [
    "eigenvalues, eigenvectors = np.linalg.eig(ans)"
   ]
  },
  {
   "cell_type": "code",
   "execution_count": null,
   "id": "1645e8f9",
   "metadata": {},
   "outputs": [],
   "source": [
    "import matplotlib.pyplot as plt"
   ]
  },
  {
   "cell_type": "code",
   "execution_count": null,
   "id": "2e2acf7e",
   "metadata": {},
   "outputs": [],
   "source": [
    "plt.scatter(np.real(eigenvalues),np.round(np.imag(eigenvalues),10),s=5)\n",
    "plt.title(\"Eigenvalues on the real line\")\n",
    "plt.show()"
   ]
  },
  {
   "cell_type": "markdown",
   "id": "fee96a08",
   "metadata": {},
   "source": [
    "Propably I shopuld have done the partial trace so"
   ]
  },
  {
   "cell_type": "code",
   "execution_count": null,
   "id": "d12a8717",
   "metadata": {},
   "outputs": [],
   "source": [
    "import qutip as qt"
   ]
  },
  {
   "cell_type": "code",
   "execution_count": null,
   "id": "720cbb97",
   "metadata": {},
   "outputs": [],
   "source": [
    "Hq=qt.Qobj(H.subs(num_values).tolist())\n",
    "aq=qt.destroy(levels)\n",
    "aqd=qt.create(levels)\n",
    "qHRC = qt.tensor(Hq, qt.qeye(levels))+np.sqrt(np.pi/(2*num_values[w0]))*num_values[lam]*qt.tensor(qt.Qobj(Q.subs(num_values)), qt.qeye(levels))*(qt.tensor(qt.qeye(4),aq)+qt.tensor(qt.qeye(4),aqd))+num_values[w0]*qt.tensor(qt.qeye(4),aqd)*qt.tensor(qt.qeye(4),aq)"
   ]
  },
  {
   "cell_type": "code",
   "execution_count": null,
   "id": "a63f3bb5",
   "metadata": {},
   "outputs": [],
   "source": [
    "Hq"
   ]
  },
  {
   "cell_type": "code",
   "execution_count": null,
   "id": "5d10376a",
   "metadata": {},
   "outputs": [],
   "source": [
    "qHRC.ptrace(0)"
   ]
  },
  {
   "cell_type": "markdown",
   "id": "4e8709dc",
   "metadata": {},
   "source": [
    "Still degenerate"
   ]
  },
  {
   "cell_type": "markdown",
   "id": "947f9ca7",
   "metadata": {},
   "source": [
    "Let us try the other coupling which does not break bloch redfield"
   ]
  },
  {
   "cell_type": "code",
   "execution_count": null,
   "id": "c78169d2",
   "metadata": {},
   "outputs": [],
   "source": [
    "Hq=qt.Qobj(H.subs(num_values).tolist())\n",
    "aq=qt.destroy(levels)\n",
    "aqd=qt.create(levels)\n",
    "qHRC = qt.tensor(Hq, qt.qeye(levels))+np.sqrt(np.pi/(2*num_values[w0]))*num_values[lam]*qt.tensor(qt.Qobj(re(Q).subs(num_values)), qt.qeye(levels))*(qt.tensor(qt.qeye(4),aq)+qt.tensor(qt.qeye(4),aqd))+num_values[w0]*qt.tensor(qt.qeye(4),aqd)*qt.tensor(qt.qeye(4),aq)"
   ]
  },
  {
   "cell_type": "code",
   "execution_count": null,
   "id": "f66208aa",
   "metadata": {},
   "outputs": [],
   "source": [
    "qHRC.ptrace(0)"
   ]
  },
  {
   "cell_type": "code",
   "execution_count": null,
   "id": "c94e2b58",
   "metadata": {},
   "outputs": [],
   "source": [
    "ans = qHRC.full().astype(np.complex128)"
   ]
  },
  {
   "cell_type": "code",
   "execution_count": null,
   "id": "078c1ccc",
   "metadata": {},
   "outputs": [],
   "source": [
    "eigenvalues, eigenvectors = np.linalg.eig(ans)"
   ]
  },
  {
   "cell_type": "code",
   "execution_count": null,
   "id": "31f7a9a2",
   "metadata": {},
   "outputs": [],
   "source": [
    "plt.scatter(np.real(eigenvalues), np.round(np.imag(eigenvalues), 10), s=5)\n",
    "plt.title(\"Eigenvalues on the real line\")\n",
    "plt.show()"
   ]
  },
  {
   "cell_type": "markdown",
   "id": "f3f2c640",
   "metadata": {},
   "source": [
    "There doesn't seem to be much change in the Hamiltonian if any"
   ]
  }
 ],
 "metadata": {
  "kernelspec": {
   "display_name": "Python 3 (ipykernel)",
   "language": "python",
   "name": "python3"
  },
  "language_info": {
   "codemirror_mode": {
    "name": "ipython",
    "version": 3
   },
   "file_extension": ".py",
   "mimetype": "text/x-python",
   "name": "python",
   "nbconvert_exporter": "python",
   "pygments_lexer": "ipython3",
   "version": "3.12.2"
  }
 },
 "nbformat": 4,
 "nbformat_minor": 5
}
