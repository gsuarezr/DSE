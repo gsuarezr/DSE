{
 "cells": [
  {
   "cell_type": "markdown",
   "id": "ebedc4f3-cb58-4f65-bf85-01b8f4ee6472",
   "metadata": {
    "editable": true,
    "slideshow": {
     "slide_type": ""
    },
    "tags": []
   },
   "source": [
    "---\n",
    "title: Redfield Issue check \"Analytically\"\n",
    "date: 2024-08-08\n",
    "authors:\n",
    "  - name: Gerardo Suarez\n",
    "---"
   ]
  },
  {
   "cell_type": "markdown",
   "id": "5bfa3334-aef2-4166-b7be-7a75dcb777f4",
   "metadata": {
    "editable": true,
    "slideshow": {
     "slide_type": ""
    },
    "tags": []
   },
   "source": [
    "Since there seems to be an issue with the Bloch-Redfield Solver in qutip and my not so good implementation \n",
    "of the time dependent redfield, here's a quick sympy check to make sure it's not the solvers. By solving the\n",
    "equation for the SYK(2) model symbolically. The Hamiltonian is given by"
   ]
  },
  {
   "cell_type": "code",
   "execution_count": 1,
   "id": "1fdad32f-dbc2-4415-9ce5-eae29880219e",
   "metadata": {
    "editable": true,
    "slideshow": {
     "slide_type": "skip"
    },
    "tags": [
     "no-pdf"
    ]
   },
   "outputs": [],
   "source": [
    "from sympy import *\n",
    "from sympy.physics.quantum import Dagger\n",
    "from sympy import I\n",
    "from collections import defaultdict\n",
    "import numpy as np\n",
    "import itertools\n",
    "from sympy.solvers.ode.systems import dsolve_system"
   ]
  },
  {
   "cell_type": "code",
   "execution_count": 2,
   "id": "2549d5d6",
   "metadata": {
    "editable": true,
    "slideshow": {
     "slide_type": ""
    },
    "tags": [
     "no-pdf"
    ]
   },
   "outputs": [],
   "source": [
    "a = symbols('a',real=True,positive=True)"
   ]
  },
  {
   "cell_type": "code",
   "execution_count": 3,
   "id": "d3b3c382",
   "metadata": {
    "editable": true,
    "slideshow": {
     "slide_type": ""
    },
    "tags": [
     "no-pdf"
    ]
   },
   "outputs": [],
   "source": [
    "H = diag(-a,a,a,-a)#the times 20 is to rescale time"
   ]
  },
  {
   "cell_type": "code",
   "execution_count": 4,
   "id": "75dafc4a",
   "metadata": {
    "editable": true,
    "slideshow": {
     "slide_type": ""
    },
    "tags": [
     "no-pdf"
    ]
   },
   "outputs": [],
   "source": [
    "b= symbols('b0:8', real=True)"
   ]
  },
  {
   "cell_type": "markdown",
   "id": "1423a214-512e-4fcd-8f82-7dc28668d027",
   "metadata": {
    "editable": true,
    "slideshow": {
     "slide_type": ""
    },
    "tags": []
   },
   "source": [
    "Here I define the coupling operator $q$ that make things break for Bloch-Redfield on the SYK model"
   ]
  },
  {
   "cell_type": "code",
   "execution_count": 5,
   "id": "c71646f1",
   "metadata": {
    "editable": true,
    "slideshow": {
     "slide_type": ""
    },
    "tags": [
     "no-pdf"
    ]
   },
   "outputs": [],
   "source": [
    "# coupling operator non trivial like in the shinsey ryu paper. This difference is not dramatic for simpler couplings\n",
    "Q = Matrix([[0, b[0] - I*b[1], b[2] - I*b[3], 0],\n",
    "              [b[0] + I*b[1], 0, 0, -b[2] + I*b[3]],\n",
    "              [b[2] + I*b[3], 0, 0, b[0] - I*b[1]],\n",
    "              [0, -b[2] - I*b[3], b[0] + I*b[1], 0]])"
   ]
  },
  {
   "cell_type": "code",
   "execution_count": 6,
   "id": "b02f8e56",
   "metadata": {
    "editable": true,
    "slideshow": {
     "slide_type": ""
    },
    "tags": [
     "no-pdf"
    ]
   },
   "outputs": [
    {
     "data": {
      "text/plain": [
       "True"
      ]
     },
     "execution_count": 6,
     "metadata": {},
     "output_type": "execute_result"
    }
   ],
   "source": [
    "Dagger(Q) == Q #checking I didn't mess up "
   ]
  },
  {
   "cell_type": "code",
   "execution_count": 7,
   "id": "8403f1b4",
   "metadata": {
    "editable": true,
    "slideshow": {
     "slide_type": ""
    },
    "tags": [
     "no-pdf"
    ]
   },
   "outputs": [],
   "source": [
    "def comm(a,b):\n",
    "    return (a*b-b*a)"
   ]
  },
  {
   "cell_type": "markdown",
   "id": "7cb0eec4-bb92-4326-bd69-e0bbd235b196",
   "metadata": {
    "editable": true,
    "slideshow": {
     "slide_type": ""
    },
    "tags": []
   },
   "source": [
    "I then get the eigenvalues and eigenvectors to obtain the jump operators (this steps are hidden in the pdf)"
   ]
  },
  {
   "cell_type": "code",
   "execution_count": 8,
   "id": "88bd8f6b",
   "metadata": {
    "editable": true,
    "slideshow": {
     "slide_type": ""
    },
    "tags": [
     "no-pdf"
    ]
   },
   "outputs": [],
   "source": [
    "basis=H.eigenvects() # I probably don't need this step since the Hamiltonian is\n",
    "# Diagonal\n",
    "energies=[[i[0]]*i[1] for i in basis]\n",
    "energies = [x for xs in energies for x in xs]\n",
    "states = [i[2] for i in basis]\n",
    "states = [x for xs in states for x in xs ]"
   ]
  },
  {
   "cell_type": "code",
   "execution_count": 9,
   "id": "50389ccf",
   "metadata": {
    "editable": true,
    "slideshow": {
     "slide_type": ""
    },
    "tags": [
     "no-pdf"
    ]
   },
   "outputs": [],
   "source": [
    "def jump_operators(H,evals,all_state, Q):\n",
    "    \"\"\"\n",
    "    A function to obtain the jump operators\n",
    "    \"\"\"\n",
    "    collapse_list = []\n",
    "    ws = []\n",
    "    N=len(energies)\n",
    "    for j in range(N):\n",
    "        for k in range(j + 1, N):\n",
    "            Deltajk = evals[k] - evals[j]\n",
    "            ws.append(Deltajk)\n",
    "            collapse_list.append(\n",
    "                (\n",
    "                    all_state[j]\n",
    "                    * Dagger(all_state[j])\n",
    "                    * Q\n",
    "                    * all_state[k]\n",
    "                    * Dagger(all_state[k])\n",
    "                )\n",
    "            )  # emission\n",
    "            ws.append(-Deltajk)\n",
    "            collapse_list.append(\n",
    "                (\n",
    "                    all_state[k]\n",
    "                    * Dagger(all_state[k])\n",
    "                    * Q\n",
    "                    * all_state[j]\n",
    "                    * Dagger(all_state[j])\n",
    "                )\n",
    "            )  # absorption\n",
    "    collapse_list.append(Q - sum(collapse_list,zeros(N)))  # Dephasing\n",
    "    ws.append(0)\n",
    "    output = defaultdict(list)\n",
    "    for k, key in enumerate(ws):\n",
    "        output[key].append(collapse_list[k])\n",
    "    eldict = {x: sum(y, zeros(N)) for x, y in output.items()}\n",
    "    dictrem = {}\n",
    "    empty = 0*H\n",
    "    for keys, values in eldict.items():\n",
    "        if not (values == empty):\n",
    "            dictrem[keys] = values\n",
    "    return dictrem"
   ]
  },
  {
   "cell_type": "code",
   "execution_count": 10,
   "id": "6460d318",
   "metadata": {
    "editable": true,
    "slideshow": {
     "slide_type": ""
    },
    "tags": [
     "no-pdf"
    ]
   },
   "outputs": [],
   "source": [
    "jumps=jump_operators(H,energies,states,Q)"
   ]
  },
  {
   "cell_type": "markdown",
   "id": "dfcac538-9434-4da6-8160-554e9aa00b12",
   "metadata": {
    "editable": true,
    "slideshow": {
     "slide_type": ""
    },
    "tags": []
   },
   "source": [
    "### Jump operator checks\n",
    "\n",
    "The jump operators must satisfy\n",
    "\n",
    "$$[H,A(\\omega)]=-\\omega A(\\omega)$$\n",
    "$$[H,A^{\\dagger}(\\omega) A(\\omega)]=0$$\n",
    "$$\\sum_{w} A(\\omega)= A$$\n",
    "\n",
    "There's a check below hidden in the pdf"
   ]
  },
  {
   "cell_type": "code",
   "execution_count": 11,
   "id": "8dfbad5b",
   "metadata": {
    "editable": true,
    "slideshow": {
     "slide_type": ""
    },
    "tags": [
     "no-pdf"
    ]
   },
   "outputs": [
    {
     "data": {
      "text/plain": [
       "True"
      ]
     },
     "execution_count": 11,
     "metadata": {},
     "output_type": "execute_result"
    }
   ],
   "source": [
    "comm(H,jumps[2*a])/(-2*a) == jumps[2*a] #checking jump decomposition is fine"
   ]
  },
  {
   "cell_type": "code",
   "execution_count": 12,
   "id": "46bf0622",
   "metadata": {
    "editable": true,
    "slideshow": {
     "slide_type": ""
    },
    "tags": [
     "no-pdf"
    ]
   },
   "outputs": [
    {
     "data": {
      "text/plain": [
       "True"
      ]
     },
     "execution_count": 12,
     "metadata": {},
     "output_type": "execute_result"
    }
   ],
   "source": [
    "comm(H,Dagger(jumps[2*a])*jumps[2*a]) == zeros(4)"
   ]
  },
  {
   "cell_type": "code",
   "execution_count": 13,
   "id": "6ce5fc0c",
   "metadata": {
    "editable": true,
    "slideshow": {
     "slide_type": ""
    },
    "tags": [
     "no-pdf"
    ]
   },
   "outputs": [
    {
     "data": {
      "text/plain": [
       "True"
      ]
     },
     "execution_count": 13,
     "metadata": {},
     "output_type": "execute_result"
    }
   ],
   "source": [
    "jumps[2*a]+jumps[-2*a] ==Q"
   ]
  },
  {
   "cell_type": "markdown",
   "id": "20c97cc3",
   "metadata": {
    "editable": true,
    "slideshow": {
     "slide_type": ""
    },
    "tags": []
   },
   "source": [
    "### Constucting the Differential equations\n",
    "We now construct the differential equations from the GKLS form of the bloch \n",
    "Redfield generator\n",
    "\n",
    "$$\\begin{aligned}\n",
    "     \\dot{\\rho_{S}^{I}(t)}{t} &=\n",
    "    \\sum_{\\omega,\\omega',\\alpha,\\beta} \\gamma_{\\beta,\\alpha}(\\omega,\\omega')  \\left( S_{\\alpha}(\\omega')  \\rho^{I}_{S}(t) S^{\\dagger}_{\\beta}(\\omega)- \\frac{ \\{S^{\\dagger}_{\\beta}(\\omega) S_{\\alpha}(\\omega'),\\rho^{I}_{S}(t)\\}}{2} \\right) \\nonumber \\\\\n",
    "    &+i \\sum_{\\omega,\\omega',\\alpha,\\beta} S_{\\beta,\\alpha}(\\omega,\\omega') \\Big[ \\rho^{I}_{S}(t), S^{\\dagger}_{\\beta}(\\omega) S_{\\alpha}(\\omega')\\Big]\\end{aligned}$$\n",
    "\n",
    "I solve in the interaction picture generally, I did the same in my numerics so it should not be an issue (I rotate in the end).\n",
    "By neglecting Lambshift as in the numerics\n",
    "\n",
    "$$\n",
    "     \\dot{\\rho_{S}^{I}(t)}{t} =\n",
    "    \\sum_{\\omega,\\omega',\\alpha,\\beta} \\gamma_{\\beta,\\alpha}(\\omega,\\omega')  \\left( S_{\\alpha}(\\omega')  \\rho^{I}_{S}(t) S^{\\dagger}_{\\beta}(\\omega)- \\frac{ \\{S^{\\dagger}_{\\beta}(\\omega) S_{\\alpha}(\\omega'),\\rho^{I}_{S}(t)\\}}{2} \\right)$$\n"
   ]
  },
  {
   "cell_type": "code",
   "execution_count": 14,
   "id": "a7b082cd",
   "metadata": {
    "editable": true,
    "slideshow": {
     "slide_type": ""
    },
    "tags": [
     "no-pdf"
    ]
   },
   "outputs": [
    {
     "data": {
      "text/latex": [
       "$\\displaystyle \\rho = \\left[\\begin{matrix}\\rho_{1} & \\rho_{2} & \\rho_{3} & \\rho_{4}\\\\\\overline{\\rho_{2}} & \\rho_{6} & \\overline{\\rho_{10}} & \\rho_{8}\\\\\\overline{\\rho_{3}} & \\rho_{10} & \\rho_{11} & \\rho_{12}\\\\\\overline{\\rho_{4}} & \\overline{\\rho_{8}} & \\overline{\\rho_{12}} & - \\rho_{1} - \\rho_{11} - \\rho_{6} + 1\\end{matrix}\\right]$"
      ],
      "text/plain": [
       "Eq(rho, Matrix([\n",
       "[           rho_1,            rho_2,             rho_3,                       rho_4],\n",
       "[conjugate(rho_2),            rho_6, conjugate(rho_10),                       rho_8],\n",
       "[conjugate(rho_3),           rho_10,            rho_11,                      rho_12],\n",
       "[conjugate(rho_4), conjugate(rho_8), conjugate(rho_12), -rho_1 - rho_11 - rho_6 + 1]]))"
      ]
     },
     "execution_count": 14,
     "metadata": {},
     "output_type": "execute_result"
    }
   ],
   "source": [
    "# Simply define the symbolic density operator\n",
    "rho = symbols('rho_1:17')\n",
    "rho = Matrix(\n",
    "    [rho[0: 4],\n",
    "     rho[4: 8],\n",
    "     rho[8: 12],\n",
    "     rho[12:]]).subs(\n",
    "    rho[-1],\n",
    "    1 - rho[0] - rho[5] - rho[10])\n",
    "rho=rho.subs({rho[4]: conjugate(rho[1]), rho[8]: conjugate(rho[2]),\n",
    "          rho[12]:conjugate(rho[3]),rho[6]:conjugate(rho[9]),\n",
    "          rho[13]: conjugate(rho[7]), rho[14]:conjugate(rho[11])})\n",
    "Eq(S('rho'), rho, evaluate=False)\n"
   ]
  },
  {
   "cell_type": "code",
   "execution_count": 15,
   "id": "f9fc89cd",
   "metadata": {
    "editable": true,
    "slideshow": {
     "slide_type": ""
    },
    "tags": [
     "no-pdf"
    ]
   },
   "outputs": [],
   "source": [
    "# This bit is simply the GKLS form without the appropiate coefficients\n",
    "def matrix_form(jumps, combinations,rho):\n",
    "    matrixform = {}\n",
    "    for i in combinations:\n",
    "        matrixform[i] = (\n",
    "            jumps[i[1]]*rho *Dagger(jumps[i[0]]) -\n",
    "            (0.5 *\n",
    "                (Dagger(jumps[i[0]]) * jumps[i[1]]*rho +\n",
    "                rho*Dagger(jumps[i[0]])* jumps[i[1]])))\n",
    "    return matrixform"
   ]
  },
  {
   "cell_type": "markdown",
   "id": "4eef16cd-27d9-4e19-bfb9-843133dec8f0",
   "metadata": {
    "editable": true,
    "slideshow": {
     "slide_type": ""
    },
    "tags": []
   },
   "source": [
    "As the sum goes on $(\\omega,\\omega')$ pairs I construct all combinations"
   ]
  },
  {
   "cell_type": "code",
   "execution_count": 16,
   "id": "08677830",
   "metadata": {
    "editable": true,
    "slideshow": {
     "slide_type": ""
    },
    "tags": []
   },
   "outputs": [
    {
     "data": {
      "text/plain": [
       "[(2*a, 2*a), (2*a, -2*a), (-2*a, 2*a), (-2*a, -2*a)]"
      ]
     },
     "execution_count": 16,
     "metadata": {},
     "output_type": "execute_result"
    }
   ],
   "source": [
    "ws = list(jumps.keys())\n",
    "combinations = list(itertools.product(ws, ws))\n",
    "combinations"
   ]
  },
  {
   "cell_type": "markdown",
   "id": "3e141f79-89f0-4ebf-95d3-e6e40fdcd553",
   "metadata": {
    "editable": true,
    "slideshow": {
     "slide_type": ""
    },
    "tags": []
   },
   "source": [
    "I get the GKLS form of each of those combinations, as a dictionary"
   ]
  },
  {
   "cell_type": "code",
   "execution_count": 17,
   "id": "863a1625",
   "metadata": {
    "editable": true,
    "slideshow": {
     "slide_type": ""
    },
    "tags": [
     "no-pdf"
    ]
   },
   "outputs": [],
   "source": [
    "matrices=matrix_form(jumps,combinations,rho)"
   ]
  },
  {
   "cell_type": "markdown",
   "id": "e68353c8",
   "metadata": {
    "editable": true,
    "slideshow": {
     "slide_type": ""
    },
    "tags": []
   },
   "source": [
    "Then I construct the generator by multiplying the appropiate coefficient to each of the GKLS from matrices. Now for the coefficients we have\n",
    "\n",
    "$$\\begin{aligned}\n",
    "    \\Gamma_{\\alpha,\\beta}(\\omega,t) = \\int_{0}^{t} ds e^{i \\omega s}  \\langle B^{\\dagger}_{\\alpha}(t) B_{\\beta}^{\\dagger}(t-s) \\rangle_{B} \\end{aligned}$$\n",
    "\n",
    "For convenience we also define\n",
    "\n",
    "$$\\begin{aligned}\n",
    "    \\Gamma_{\\alpha,\\beta}(\\omega,\\omega',t) = e^{i (\\omega'-\\omega) t} \\int_{0}^{t} ds e^{i \\omega s}  \\langle B_{\\alpha}^{\\dagger}(t) B_{\\beta}(t-s) \\rangle_{B} =e^{i (\\omega'-\\omega) t} \\Gamma_{\\alpha,\\beta}(\\omega,t) \\end{aligned}$$\n",
    "\n",
    "Since I mainly care about bloch-redfield I make $t \\xrightarrow{} \\infty$ (in the integral) so\n",
    "\n",
    "$$\\begin{aligned}\n",
    "    \\Gamma_{\\alpha,\\beta}(\\omega,\\omega',t) = e^{i (\\omega'-\\omega) t} \\int_{0}^{\\infty} ds e^{i \\omega s}  \\langle B(s) B(0) \\rangle_{B} =e^{i (\\omega'-\\omega) t} \\Gamma_{\\alpha,\\beta}(\\omega) \\end{aligned}$$\n",
    "\n",
    "Where $\\Gamma_{\\alpha,\\beta}(\\omega)$  is the power spectrum"
   ]
  },
  {
   "cell_type": "code",
   "execution_count": 18,
   "id": "6ac9ce63",
   "metadata": {
    "editable": true,
    "slideshow": {
     "slide_type": ""
    },
    "tags": [
     "no-pdf"
    ]
   },
   "outputs": [],
   "source": [
    "lam,T,w0,t,gam=symbols(\"lambda T w0 t gamma\",real=True)"
   ]
  },
  {
   "cell_type": "code",
   "execution_count": 19,
   "id": "b8baf7d0",
   "metadata": {
    "editable": true,
    "slideshow": {
     "slide_type": ""
    },
    "tags": [
     "no-pdf"
    ]
   },
   "outputs": [],
   "source": [
    "def power_spectrum(w):\n",
    "    if w==0:\n",
    "        return 2 * lam**2 * gam / ( w0**4 * 1/T)\n",
    "    else:\n",
    "        return 2 * lam**2 * gam * w / ((w0**2 - w**2)**2 + gam**2 * w**2) * ((1 / (exp(w /T) - 1)) + 1)"
   ]
  },
  {
   "cell_type": "code",
   "execution_count": 20,
   "id": "b1272dc3",
   "metadata": {
    "editable": true,
    "slideshow": {
     "slide_type": ""
    },
    "tags": [
     "no-pdf"
    ]
   },
   "outputs": [],
   "source": [
    "def generator(combinations, matrices):\n",
    "    gen = [\n",
    "        limit(power_spectrum(s[1])+power_spectrum(s[0]),T,0) * matrices[s]\n",
    "        for s in combinations]\n",
    "    return sum(gen, zeros(4))      "
   ]
  },
  {
   "cell_type": "code",
   "execution_count": 21,
   "id": "a0de0736",
   "metadata": {
    "editable": true,
    "slideshow": {
     "slide_type": ""
    },
    "tags": [
     "no-pdf"
    ]
   },
   "outputs": [],
   "source": [
    "gene = generator(combinations,matrices)"
   ]
  },
  {
   "cell_type": "markdown",
   "id": "7aeddf40-9fc1-4ea0-aa86-2efd09af26da",
   "metadata": {
    "editable": true,
    "slideshow": {
     "slide_type": ""
    },
    "tags": [
     "no-pdf"
    ]
   },
   "source": [
    "Then the generator of the dynamics is given by"
   ]
  },
  {
   "cell_type": "code",
   "execution_count": 22,
   "id": "1c706b96-e8f7-40a0-9130-109cb6522742",
   "metadata": {
    "editable": true,
    "slideshow": {
     "slide_type": ""
    },
    "tags": [
     "no-pdf"
    ]
   },
   "outputs": [
    {
     "data": {
      "text/latex": [
       "$\\displaystyle G = \\left[\\begin{matrix}\\frac{4 a \\gamma \\lambda^{2} \\left(\\left(b_{0} + i b_{1}\\right) \\left(\\rho_{10} \\left(b_{2} - i b_{3}\\right) + \\rho_{6} \\left(b_{0} - i b_{1}\\right)\\right) + \\left(b_{2} + i b_{3}\\right) \\left(\\rho_{11} \\left(b_{2} - i b_{3}\\right) + \\left(b_{0} - i b_{1}\\right) \\overline{\\rho_{10}}\\right)\\right)}{4 a^{2} \\gamma^{2} + \\left(- 4 a^{2} + w_{0}^{2}\\right)^{2}} & \\frac{4 a \\gamma \\lambda^{2} \\left(- 0.5 \\left(b_{0} - i b_{1}\\right) \\left(\\rho_{2} \\left(b_{0} + i b_{1}\\right) + \\rho_{3} \\left(b_{2} + i b_{3}\\right)\\right) - 0.5 \\left(- b_{2} - i b_{3}\\right) \\left(\\rho_{2} \\left(- b_{2} + i b_{3}\\right) + \\rho_{3} \\left(b_{0} - i b_{1}\\right)\\right)\\right)}{4 a^{2} \\gamma^{2} + \\left(- 4 a^{2} + w_{0}^{2}\\right)^{2}} & \\frac{4 a \\gamma \\lambda^{2} \\left(- 0.5 \\left(b_{0} + i b_{1}\\right) \\left(\\rho_{2} \\left(- b_{2} + i b_{3}\\right) + \\rho_{3} \\left(b_{0} - i b_{1}\\right)\\right) - 0.5 \\left(b_{2} - i b_{3}\\right) \\left(\\rho_{2} \\left(b_{0} + i b_{1}\\right) + \\rho_{3} \\left(b_{2} + i b_{3}\\right)\\right)\\right)}{4 a^{2} \\gamma^{2} + \\left(- 4 a^{2} + w_{0}^{2}\\right)^{2}} & \\frac{4 a \\gamma \\lambda^{2} \\left(\\left(b_{0} - i b_{1}\\right) \\left(\\rho_{11} \\left(b_{2} - i b_{3}\\right) + \\left(b_{0} - i b_{1}\\right) \\overline{\\rho_{10}}\\right) + \\left(- b_{2} + i b_{3}\\right) \\left(\\rho_{10} \\left(b_{2} - i b_{3}\\right) + \\rho_{6} \\left(b_{0} - i b_{1}\\right)\\right)\\right)}{4 a^{2} \\gamma^{2} + \\left(- 4 a^{2} + w_{0}^{2}\\right)^{2}}\\\\\\frac{4 a \\gamma \\lambda^{2} \\left(\\left(b_{0} + i b_{1}\\right) \\left(\\rho_{2} \\left(b_{0} + i b_{1}\\right) + \\left(- b_{2} + i b_{3}\\right) \\overline{\\rho_{8}}\\right) + \\left(b_{2} + i b_{3}\\right) \\left(\\rho_{3} \\left(b_{0} + i b_{1}\\right) + \\left(- b_{2} + i b_{3}\\right) \\overline{\\rho_{12}}\\right)\\right) e^{- 4 i a t}}{4 a^{2} \\gamma^{2} + \\left(- 4 a^{2} + w_{0}^{2}\\right)^{2}} + \\frac{4 a \\gamma \\lambda^{2} \\left(- 0.5 \\left(\\left(b_{0} - i b_{1}\\right) \\left(b_{0} + i b_{1}\\right) + \\left(- b_{2} - i b_{3}\\right) \\left(- b_{2} + i b_{3}\\right)\\right) \\overline{\\rho_{2}} - 0.5 \\left(\\left(b_{0} + i b_{1}\\right) \\left(- b_{2} + i b_{3}\\right) + \\left(b_{0} + i b_{1}\\right) \\left(b_{2} - i b_{3}\\right)\\right) \\overline{\\rho_{3}}\\right)}{4 a^{2} \\gamma^{2} + \\left(- 4 a^{2} + w_{0}^{2}\\right)^{2}} & \\frac{4 a \\gamma \\lambda^{2} \\left(- 0.5 \\rho_{10} \\left(\\left(b_{0} + i b_{1}\\right) \\left(- b_{2} + i b_{3}\\right) + \\left(b_{0} + i b_{1}\\right) \\left(b_{2} - i b_{3}\\right)\\right) - 0.5 \\rho_{6} \\left(\\left(b_{0} - i b_{1}\\right) \\left(b_{0} + i b_{1}\\right) + \\left(- b_{2} - i b_{3}\\right) \\left(- b_{2} + i b_{3}\\right)\\right) - 0.5 \\left(b_{0} - i b_{1}\\right) \\left(\\rho_{6} \\left(b_{0} + i b_{1}\\right) + \\left(b_{2} + i b_{3}\\right) \\overline{\\rho_{10}}\\right) - 0.5 \\left(- b_{2} - i b_{3}\\right) \\left(\\rho_{6} \\left(- b_{2} + i b_{3}\\right) + \\left(b_{0} - i b_{1}\\right) \\overline{\\rho_{10}}\\right)\\right)}{4 a^{2} \\gamma^{2} + \\left(- 4 a^{2} + w_{0}^{2}\\right)^{2}} & \\frac{4 a \\gamma \\lambda^{2} \\left(- 0.5 \\rho_{11} \\left(\\left(b_{0} + i b_{1}\\right) \\left(- b_{2} + i b_{3}\\right) + \\left(b_{0} + i b_{1}\\right) \\left(b_{2} - i b_{3}\\right)\\right) - 0.5 \\left(b_{0} + i b_{1}\\right) \\left(\\rho_{6} \\left(- b_{2} + i b_{3}\\right) + \\left(b_{0} - i b_{1}\\right) \\overline{\\rho_{10}}\\right) - 0.5 \\left(b_{2} - i b_{3}\\right) \\left(\\rho_{6} \\left(b_{0} + i b_{1}\\right) + \\left(b_{2} + i b_{3}\\right) \\overline{\\rho_{10}}\\right) - 0.5 \\left(\\left(b_{0} - i b_{1}\\right) \\left(b_{0} + i b_{1}\\right) + \\left(- b_{2} - i b_{3}\\right) \\left(- b_{2} + i b_{3}\\right)\\right) \\overline{\\rho_{10}}\\right)}{4 a^{2} \\gamma^{2} + \\left(- 4 a^{2} + w_{0}^{2}\\right)^{2}} & \\frac{4 a \\gamma \\lambda^{2} \\left(- 0.5 \\rho_{12} \\left(\\left(b_{0} + i b_{1}\\right) \\left(- b_{2} + i b_{3}\\right) + \\left(b_{0} + i b_{1}\\right) \\left(b_{2} - i b_{3}\\right)\\right) - 0.5 \\rho_{8} \\left(\\left(b_{0} - i b_{1}\\right) \\left(b_{0} + i b_{1}\\right) + \\left(- b_{2} - i b_{3}\\right) \\left(- b_{2} + i b_{3}\\right)\\right)\\right)}{4 a^{2} \\gamma^{2} + \\left(- 4 a^{2} + w_{0}^{2}\\right)^{2}} + \\frac{4 a \\gamma \\lambda^{2} \\left(\\left(b_{0} - i b_{1}\\right) \\left(\\rho_{3} \\left(b_{0} + i b_{1}\\right) + \\left(- b_{2} + i b_{3}\\right) \\overline{\\rho_{12}}\\right) + \\left(- b_{2} + i b_{3}\\right) \\left(\\rho_{2} \\left(b_{0} + i b_{1}\\right) + \\left(- b_{2} + i b_{3}\\right) \\overline{\\rho_{8}}\\right)\\right) e^{- 4 i a t}}{4 a^{2} \\gamma^{2} + \\left(- 4 a^{2} + w_{0}^{2}\\right)^{2}}\\\\\\frac{4 a \\gamma \\lambda^{2} \\left(\\left(b_{0} + i b_{1}\\right) \\left(\\rho_{2} \\left(b_{2} + i b_{3}\\right) + \\left(b_{0} - i b_{1}\\right) \\overline{\\rho_{8}}\\right) + \\left(b_{2} + i b_{3}\\right) \\left(\\rho_{3} \\left(b_{2} + i b_{3}\\right) + \\left(b_{0} - i b_{1}\\right) \\overline{\\rho_{12}}\\right)\\right) e^{- 4 i a t}}{4 a^{2} \\gamma^{2} + \\left(- 4 a^{2} + w_{0}^{2}\\right)^{2}} + \\frac{4 a \\gamma \\lambda^{2} \\left(- 0.5 \\left(\\left(b_{0} - i b_{1}\\right) \\left(b_{0} + i b_{1}\\right) + \\left(b_{2} - i b_{3}\\right) \\left(b_{2} + i b_{3}\\right)\\right) \\overline{\\rho_{3}} - 0.5 \\left(\\left(b_{0} - i b_{1}\\right) \\left(- b_{2} - i b_{3}\\right) + \\left(b_{0} - i b_{1}\\right) \\left(b_{2} + i b_{3}\\right)\\right) \\overline{\\rho_{2}}\\right)}{4 a^{2} \\gamma^{2} + \\left(- 4 a^{2} + w_{0}^{2}\\right)^{2}} & \\frac{4 a \\gamma \\lambda^{2} \\left(- 0.5 \\rho_{10} \\left(\\left(b_{0} - i b_{1}\\right) \\left(b_{0} + i b_{1}\\right) + \\left(b_{2} - i b_{3}\\right) \\left(b_{2} + i b_{3}\\right)\\right) - 0.5 \\rho_{6} \\left(\\left(b_{0} - i b_{1}\\right) \\left(- b_{2} - i b_{3}\\right) + \\left(b_{0} - i b_{1}\\right) \\left(b_{2} + i b_{3}\\right)\\right) - 0.5 \\left(b_{0} - i b_{1}\\right) \\left(\\rho_{10} \\left(b_{0} + i b_{1}\\right) + \\rho_{11} \\left(b_{2} + i b_{3}\\right)\\right) - 0.5 \\left(- b_{2} - i b_{3}\\right) \\left(\\rho_{10} \\left(- b_{2} + i b_{3}\\right) + \\rho_{11} \\left(b_{0} - i b_{1}\\right)\\right)\\right)}{4 a^{2} \\gamma^{2} + \\left(- 4 a^{2} + w_{0}^{2}\\right)^{2}} & \\frac{4 a \\gamma \\lambda^{2} \\left(- 0.5 \\rho_{11} \\left(\\left(b_{0} - i b_{1}\\right) \\left(b_{0} + i b_{1}\\right) + \\left(b_{2} - i b_{3}\\right) \\left(b_{2} + i b_{3}\\right)\\right) - 0.5 \\left(b_{0} + i b_{1}\\right) \\left(\\rho_{10} \\left(- b_{2} + i b_{3}\\right) + \\rho_{11} \\left(b_{0} - i b_{1}\\right)\\right) - 0.5 \\left(b_{2} - i b_{3}\\right) \\left(\\rho_{10} \\left(b_{0} + i b_{1}\\right) + \\rho_{11} \\left(b_{2} + i b_{3}\\right)\\right) - 0.5 \\left(\\left(b_{0} - i b_{1}\\right) \\left(- b_{2} - i b_{3}\\right) + \\left(b_{0} - i b_{1}\\right) \\left(b_{2} + i b_{3}\\right)\\right) \\overline{\\rho_{10}}\\right)}{4 a^{2} \\gamma^{2} + \\left(- 4 a^{2} + w_{0}^{2}\\right)^{2}} & \\frac{4 a \\gamma \\lambda^{2} \\left(- 0.5 \\rho_{12} \\left(\\left(b_{0} - i b_{1}\\right) \\left(b_{0} + i b_{1}\\right) + \\left(b_{2} - i b_{3}\\right) \\left(b_{2} + i b_{3}\\right)\\right) - 0.5 \\rho_{8} \\left(\\left(b_{0} - i b_{1}\\right) \\left(- b_{2} - i b_{3}\\right) + \\left(b_{0} - i b_{1}\\right) \\left(b_{2} + i b_{3}\\right)\\right)\\right)}{4 a^{2} \\gamma^{2} + \\left(- 4 a^{2} + w_{0}^{2}\\right)^{2}} + \\frac{4 a \\gamma \\lambda^{2} \\left(\\left(b_{0} - i b_{1}\\right) \\left(\\rho_{3} \\left(b_{2} + i b_{3}\\right) + \\left(b_{0} - i b_{1}\\right) \\overline{\\rho_{12}}\\right) + \\left(- b_{2} + i b_{3}\\right) \\left(\\rho_{2} \\left(b_{2} + i b_{3}\\right) + \\left(b_{0} - i b_{1}\\right) \\overline{\\rho_{8}}\\right)\\right) e^{- 4 i a t}}{4 a^{2} \\gamma^{2} + \\left(- 4 a^{2} + w_{0}^{2}\\right)^{2}}\\\\\\frac{4 a \\gamma \\lambda^{2} \\left(\\left(b_{0} + i b_{1}\\right) \\left(\\rho_{10} \\left(b_{0} + i b_{1}\\right) + \\rho_{6} \\left(- b_{2} - i b_{3}\\right)\\right) + \\left(b_{2} + i b_{3}\\right) \\left(\\rho_{11} \\left(b_{0} + i b_{1}\\right) + \\left(- b_{2} - i b_{3}\\right) \\overline{\\rho_{10}}\\right)\\right)}{4 a^{2} \\gamma^{2} + \\left(- 4 a^{2} + w_{0}^{2}\\right)^{2}} & \\frac{4 a \\gamma \\lambda^{2} \\left(- 0.5 \\left(b_{0} - i b_{1}\\right) \\left(\\left(b_{0} + i b_{1}\\right) \\overline{\\rho_{8}} + \\left(b_{2} + i b_{3}\\right) \\overline{\\rho_{12}}\\right) - 0.5 \\left(- b_{2} - i b_{3}\\right) \\left(\\left(b_{0} - i b_{1}\\right) \\overline{\\rho_{12}} + \\left(- b_{2} + i b_{3}\\right) \\overline{\\rho_{8}}\\right)\\right)}{4 a^{2} \\gamma^{2} + \\left(- 4 a^{2} + w_{0}^{2}\\right)^{2}} & \\frac{4 a \\gamma \\lambda^{2} \\left(- 0.5 \\left(b_{0} + i b_{1}\\right) \\left(\\left(b_{0} - i b_{1}\\right) \\overline{\\rho_{12}} + \\left(- b_{2} + i b_{3}\\right) \\overline{\\rho_{8}}\\right) - 0.5 \\left(b_{2} - i b_{3}\\right) \\left(\\left(b_{0} + i b_{1}\\right) \\overline{\\rho_{8}} + \\left(b_{2} + i b_{3}\\right) \\overline{\\rho_{12}}\\right)\\right)}{4 a^{2} \\gamma^{2} + \\left(- 4 a^{2} + w_{0}^{2}\\right)^{2}} & \\frac{4 a \\gamma \\lambda^{2} \\left(\\left(b_{0} - i b_{1}\\right) \\left(\\rho_{11} \\left(b_{0} + i b_{1}\\right) + \\left(- b_{2} - i b_{3}\\right) \\overline{\\rho_{10}}\\right) + \\left(- b_{2} + i b_{3}\\right) \\left(\\rho_{10} \\left(b_{0} + i b_{1}\\right) + \\rho_{6} \\left(- b_{2} - i b_{3}\\right)\\right)\\right)}{4 a^{2} \\gamma^{2} + \\left(- 4 a^{2} + w_{0}^{2}\\right)^{2}}\\end{matrix}\\right]$"
      ],
      "text/plain": [
       "Eq(G, Matrix([\n",
       "[                                                                                                                                                                                                                                                  4*a*gamma*lambda**2*((b0 + I*b1)*(rho_10*(b2 - I*b3) + rho_6*(b0 - I*b1)) + (b2 + I*b3)*(rho_11*(b2 - I*b3) + (b0 - I*b1)*conjugate(rho_10)))/(4*a**2*gamma**2 + (-4*a**2 + w0**2)**2),                                                                                                                                                             4*a*gamma*lambda**2*(-0.5*(b0 - I*b1)*(rho_2*(b0 + I*b1) + rho_3*(b2 + I*b3)) - 0.5*(-b2 - I*b3)*(rho_2*(-b2 + I*b3) + rho_3*(b0 - I*b1)))/(4*a**2*gamma**2 + (-4*a**2 + w0**2)**2),                                                                                                                                                                         4*a*gamma*lambda**2*(-0.5*(b0 + I*b1)*(rho_2*(-b2 + I*b3) + rho_3*(b0 - I*b1)) - 0.5*(b2 - I*b3)*(rho_2*(b0 + I*b1) + rho_3*(b2 + I*b3)))/(4*a**2*gamma**2 + (-4*a**2 + w0**2)**2),                                                                                                                                                                                                                              4*a*gamma*lambda**2*((b0 - I*b1)*(rho_11*(b2 - I*b3) + (b0 - I*b1)*conjugate(rho_10)) + (-b2 + I*b3)*(rho_10*(b2 - I*b3) + rho_6*(b0 - I*b1)))/(4*a**2*gamma**2 + (-4*a**2 + w0**2)**2)],\n",
       "[4*a*gamma*lambda**2*((b0 + I*b1)*(rho_2*(b0 + I*b1) + (-b2 + I*b3)*conjugate(rho_8)) + (b2 + I*b3)*(rho_3*(b0 + I*b1) + (-b2 + I*b3)*conjugate(rho_12)))*exp(-4*I*a*t)/(4*a**2*gamma**2 + (-4*a**2 + w0**2)**2) + 4*a*gamma*lambda**2*(-0.5*((b0 - I*b1)*(b0 + I*b1) + (-b2 - I*b3)*(-b2 + I*b3))*conjugate(rho_2) - 0.5*((b0 + I*b1)*(-b2 + I*b3) + (b0 + I*b1)*(b2 - I*b3))*conjugate(rho_3))/(4*a**2*gamma**2 + (-4*a**2 + w0**2)**2), 4*a*gamma*lambda**2*(-0.5*rho_10*((b0 + I*b1)*(-b2 + I*b3) + (b0 + I*b1)*(b2 - I*b3)) - 0.5*rho_6*((b0 - I*b1)*(b0 + I*b1) + (-b2 - I*b3)*(-b2 + I*b3)) - 0.5*(b0 - I*b1)*(rho_6*(b0 + I*b1) + (b2 + I*b3)*conjugate(rho_10)) - 0.5*(-b2 - I*b3)*(rho_6*(-b2 + I*b3) + (b0 - I*b1)*conjugate(rho_10)))/(4*a**2*gamma**2 + (-4*a**2 + w0**2)**2), 4*a*gamma*lambda**2*(-0.5*rho_11*((b0 + I*b1)*(-b2 + I*b3) + (b0 + I*b1)*(b2 - I*b3)) - 0.5*(b0 + I*b1)*(rho_6*(-b2 + I*b3) + (b0 - I*b1)*conjugate(rho_10)) - 0.5*(b2 - I*b3)*(rho_6*(b0 + I*b1) + (b2 + I*b3)*conjugate(rho_10)) - 0.5*((b0 - I*b1)*(b0 + I*b1) + (-b2 - I*b3)*(-b2 + I*b3))*conjugate(rho_10))/(4*a**2*gamma**2 + (-4*a**2 + w0**2)**2), 4*a*gamma*lambda**2*(-0.5*rho_12*((b0 + I*b1)*(-b2 + I*b3) + (b0 + I*b1)*(b2 - I*b3)) - 0.5*rho_8*((b0 - I*b1)*(b0 + I*b1) + (-b2 - I*b3)*(-b2 + I*b3)))/(4*a**2*gamma**2 + (-4*a**2 + w0**2)**2) + 4*a*gamma*lambda**2*((b0 - I*b1)*(rho_3*(b0 + I*b1) + (-b2 + I*b3)*conjugate(rho_12)) + (-b2 + I*b3)*(rho_2*(b0 + I*b1) + (-b2 + I*b3)*conjugate(rho_8)))*exp(-4*I*a*t)/(4*a**2*gamma**2 + (-4*a**2 + w0**2)**2)],\n",
       "[    4*a*gamma*lambda**2*((b0 + I*b1)*(rho_2*(b2 + I*b3) + (b0 - I*b1)*conjugate(rho_8)) + (b2 + I*b3)*(rho_3*(b2 + I*b3) + (b0 - I*b1)*conjugate(rho_12)))*exp(-4*I*a*t)/(4*a**2*gamma**2 + (-4*a**2 + w0**2)**2) + 4*a*gamma*lambda**2*(-0.5*((b0 - I*b1)*(b0 + I*b1) + (b2 - I*b3)*(b2 + I*b3))*conjugate(rho_3) - 0.5*((b0 - I*b1)*(-b2 - I*b3) + (b0 - I*b1)*(b2 + I*b3))*conjugate(rho_2))/(4*a**2*gamma**2 + (-4*a**2 + w0**2)**2),                       4*a*gamma*lambda**2*(-0.5*rho_10*((b0 - I*b1)*(b0 + I*b1) + (b2 - I*b3)*(b2 + I*b3)) - 0.5*rho_6*((b0 - I*b1)*(-b2 - I*b3) + (b0 - I*b1)*(b2 + I*b3)) - 0.5*(b0 - I*b1)*(rho_10*(b0 + I*b1) + rho_11*(b2 + I*b3)) - 0.5*(-b2 - I*b3)*(rho_10*(-b2 + I*b3) + rho_11*(b0 - I*b1)))/(4*a**2*gamma**2 + (-4*a**2 + w0**2)**2),                       4*a*gamma*lambda**2*(-0.5*rho_11*((b0 - I*b1)*(b0 + I*b1) + (b2 - I*b3)*(b2 + I*b3)) - 0.5*(b0 + I*b1)*(rho_10*(-b2 + I*b3) + rho_11*(b0 - I*b1)) - 0.5*(b2 - I*b3)*(rho_10*(b0 + I*b1) + rho_11*(b2 + I*b3)) - 0.5*((b0 - I*b1)*(-b2 - I*b3) + (b0 - I*b1)*(b2 + I*b3))*conjugate(rho_10))/(4*a**2*gamma**2 + (-4*a**2 + w0**2)**2),     4*a*gamma*lambda**2*(-0.5*rho_12*((b0 - I*b1)*(b0 + I*b1) + (b2 - I*b3)*(b2 + I*b3)) - 0.5*rho_8*((b0 - I*b1)*(-b2 - I*b3) + (b0 - I*b1)*(b2 + I*b3)))/(4*a**2*gamma**2 + (-4*a**2 + w0**2)**2) + 4*a*gamma*lambda**2*((b0 - I*b1)*(rho_3*(b2 + I*b3) + (b0 - I*b1)*conjugate(rho_12)) + (-b2 + I*b3)*(rho_2*(b2 + I*b3) + (b0 - I*b1)*conjugate(rho_8)))*exp(-4*I*a*t)/(4*a**2*gamma**2 + (-4*a**2 + w0**2)**2)],\n",
       "[                                                                                                                                                                                                                                                4*a*gamma*lambda**2*((b0 + I*b1)*(rho_10*(b0 + I*b1) + rho_6*(-b2 - I*b3)) + (b2 + I*b3)*(rho_11*(b0 + I*b1) + (-b2 - I*b3)*conjugate(rho_10)))/(4*a**2*gamma**2 + (-4*a**2 + w0**2)**2),                                                                                                               4*a*gamma*lambda**2*(-0.5*(b0 - I*b1)*((b0 + I*b1)*conjugate(rho_8) + (b2 + I*b3)*conjugate(rho_12)) - 0.5*(-b2 - I*b3)*((b0 - I*b1)*conjugate(rho_12) + (-b2 + I*b3)*conjugate(rho_8)))/(4*a**2*gamma**2 + (-4*a**2 + w0**2)**2),                                                                                                                           4*a*gamma*lambda**2*(-0.5*(b0 + I*b1)*((b0 - I*b1)*conjugate(rho_12) + (-b2 + I*b3)*conjugate(rho_8)) - 0.5*(b2 - I*b3)*((b0 + I*b1)*conjugate(rho_8) + (b2 + I*b3)*conjugate(rho_12)))/(4*a**2*gamma**2 + (-4*a**2 + w0**2)**2),                                                                                                                                                                                                                            4*a*gamma*lambda**2*((b0 - I*b1)*(rho_11*(b0 + I*b1) + (-b2 - I*b3)*conjugate(rho_10)) + (-b2 + I*b3)*(rho_10*(b0 + I*b1) + rho_6*(-b2 - I*b3)))/(4*a**2*gamma**2 + (-4*a**2 + w0**2)**2)]]))"
      ]
     },
     "execution_count": 22,
     "metadata": {},
     "output_type": "execute_result"
    }
   ],
   "source": [
    "Eq(S('G'), gene, evaluate=False)"
   ]
  },
  {
   "cell_type": "markdown",
   "id": "ac5e32b7-5ef2-436f-92a1-0266f0919115",
   "metadata": {
    "editable": true,
    "slideshow": {
     "slide_type": ""
    },
    "tags": []
   },
   "source": [
    "Next we simply vectorize the density matrix and construct the system of ODES"
   ]
  },
  {
   "cell_type": "code",
   "execution_count": 23,
   "id": "66bfddf6-9000-4cb3-8c0c-8b5cb0264ca2",
   "metadata": {
    "editable": true,
    "slideshow": {
     "slide_type": ""
    },
    "tags": [
     "no-pdf"
    ]
   },
   "outputs": [],
   "source": [
    "mgene = Matrix(list(gene))\n",
    "rhom=Matrix(list(rho))"
   ]
  },
  {
   "cell_type": "code",
   "execution_count": 24,
   "id": "ccf41e97-d165-4f1a-8105-816312a19b0a",
   "metadata": {
    "editable": true,
    "slideshow": {
     "slide_type": ""
    },
    "tags": [
     "no-pdf"
    ]
   },
   "outputs": [],
   "source": [
    "rhof = symbols('rho_1:17',cls=Function) # This is necessary to solve the differential equation\n",
    "to_funcs={i:rhof[k](t) for k,i in enumerate(rhom)} #could have done so from the beginning though"
   ]
  },
  {
   "cell_type": "code",
   "execution_count": 25,
   "id": "e114146a-6bfa-458a-9dd1-59f6105ff12b",
   "metadata": {
    "editable": true,
    "slideshow": {
     "slide_type": ""
    },
    "tags": [
     "no-pdf"
    ]
   },
   "outputs": [],
   "source": [
    "mgene=mgene.subs(to_funcs) #substitute symbols for a function\n",
    "mrhof=rhom.subs(to_funcs)"
   ]
  },
  {
   "cell_type": "code",
   "execution_count": 26,
   "id": "e5bb70a6-3dd2-4c57-affd-dd0be429a09a",
   "metadata": {
    "editable": true,
    "slideshow": {
     "slide_type": ""
    },
    "tags": [
     "no-pdf"
    ]
   },
   "outputs": [],
   "source": [
    "eqs = [Eq(mrhof[k].diff(t), mgene[k].simplify()) for k in range(16)]"
   ]
  },
  {
   "cell_type": "markdown",
   "id": "d5ed67e1-d85b-4225-8ad9-eda14eb77638",
   "metadata": {
    "editable": true,
    "slideshow": {
     "slide_type": ""
    },
    "tags": []
   },
   "source": [
    "Let me make a few change of variables, and call the new variables $c_{k}$"
   ]
  },
  {
   "cell_type": "code",
   "execution_count": 27,
   "id": "d9a13341-1225-4c13-ba27-2c342de95d6f",
   "metadata": {
    "editable": true,
    "slideshow": {
     "slide_type": ""
    },
    "tags": [
     "no-pdf"
    ]
   },
   "outputs": [],
   "source": [
    "c=symbols(\"c0:10\")"
   ]
  },
  {
   "cell_type": "code",
   "execution_count": 28,
   "id": "ca4f0e5b-02df-472c-bdd4-ceb74ad08a6d",
   "metadata": {
    "editable": true,
    "slideshow": {
     "slide_type": ""
    },
    "tags": [
     "no-pdf"
    ]
   },
   "outputs": [],
   "source": [
    "c0=mgene[14].simplify()/mrhof[14]"
   ]
  },
  {
   "cell_type": "code",
   "execution_count": 29,
   "id": "6d7200d2-d6c3-4d43-9da5-77481c13147b",
   "metadata": {
    "editable": true,
    "slideshow": {
     "slide_type": ""
    },
    "tags": [
     "no-pdf"
    ]
   },
   "outputs": [],
   "source": [
    "c1=(gam*lam**2)/fraction(mgene[0])[1].simplify()"
   ]
  },
  {
   "cell_type": "code",
   "execution_count": 30,
   "id": "1b29b513",
   "metadata": {
    "editable": true,
    "slideshow": {
     "slide_type": ""
    },
    "tags": [
     "no-pdf"
    ]
   },
   "outputs": [],
   "source": [
    "c2=(b[0]+I*b[1])"
   ]
  },
  {
   "cell_type": "code",
   "execution_count": 31,
   "id": "b6c61f1a",
   "metadata": {
    "editable": true,
    "slideshow": {
     "slide_type": ""
    },
    "tags": [
     "no-pdf"
    ]
   },
   "outputs": [],
   "source": [
    "c3=(b[2]+I*b[3])"
   ]
  },
  {
   "cell_type": "code",
   "execution_count": 32,
   "id": "b3e6a9f0",
   "metadata": {
    "editable": true,
    "slideshow": {
     "slide_type": ""
    },
    "tags": [
     "no-pdf"
    ]
   },
   "outputs": [],
   "source": [
    "chgnvar={2*c0:2*c[0],c0:c[0],c1:c[1],c2:c[2],conjugate(c2):conjugate(c[2]),\n",
    "         c3:c[3],conjugate(c3):conjugate(c[3])}"
   ]
  },
  {
   "cell_type": "code",
   "execution_count": 33,
   "id": "7a91715b",
   "metadata": {
    "editable": true,
    "slideshow": {
     "slide_type": ""
    },
    "tags": [
     "no-pdf"
    ]
   },
   "outputs": [],
   "source": [
    "eqs=[i.subs(chgnvar).expand().simplify() for i in eqs]"
   ]
  },
  {
   "cell_type": "markdown",
   "id": "c679e059-d06d-434b-b9e5-bebed451b680",
   "metadata": {
    "editable": true,
    "slideshow": {
     "slide_type": ""
    },
    "tags": []
   },
   "source": [
    "By substituting these into the differential equation we obtain"
   ]
  },
  {
   "cell_type": "markdown",
   "id": "6a3c2ab3-559c-402a-85ba-45710d0eb7a1",
   "metadata": {
    "editable": true,
    "slideshow": {
     "slide_type": ""
    },
    "tags": []
   },
   "source": [
    "With The number of symbols reduced the symbolic computation is feasible. However the default solver with initial conditions yields"
   ]
  },
  {
   "cell_type": "code",
   "execution_count": 34,
   "id": "b789a8b3-d862-4270-83d0-7945e6eab348",
   "metadata": {
    "editable": true,
    "slideshow": {
     "slide_type": ""
    },
    "tags": [
     "no-pdf"
    ]
   },
   "outputs": [],
   "source": [
    "sols = dsolve(\n",
    "    eqs,\n",
    "    ics={rhof[0] (0): 0, rhof[1] (0): 0, rhof[2] (0): 0, rhof[3] (0): 0,\n",
    "         rhof[4] (0): 0, rhof[5] (0): 0.5, rhof[6] (0): 0.5 * I, rhof[7]\n",
    "          (0): 0, rhof[8] (0): 0, rhof[9] (0): -0.5 * I, rhof[10] (0): 0.5,\n",
    "         rhof[11](0): 0, rhof[12](0): 0, rhof[13](0): 0, rhof[14](0): 0,\n",
    "         rhof[15](0): 0})"
   ]
  },
  {
   "cell_type": "markdown",
   "id": "8e8ec1dc-fc2d-44a0-b649-6ac778ad3491",
   "metadata": {
    "editable": true,
    "slideshow": {
     "slide_type": ""
    },
    "tags": [],
    "user_expressions": [
     {
      "expression": "sols[4]",
      "result": {
       "data": {
        "text/latex": "$\\displaystyle \\rho_{5}{\\left(t \\right)} = 1.0 C_{9} e^{- t \\left(2.0 a c_{1} c_{2} \\overline{c_{2}} + 2.0 a c_{1} c_{3} \\overline{c_{3}}\\right)} + \\left(4.0 C_{3} a c_{1} c_{2}^{2} + 4.0 C_{4} a c_{1} c_{2} c_{3} - 4.0 C_{7} a c_{1} c_{2} \\overline{c_{3}} - 4.0 C_{8} a c_{1} c_{3} \\overline{c_{3}}\\right) \\left(\\begin{cases} \\frac{8.0 e^{c_{0} t} e^{- 4.0 i a t} e^{2.0 a c_{1} c_{2} t \\overline{c_{2}}} e^{2.0 a c_{1} c_{3} t \\overline{c_{3}}}}{16.0 a c_{1} c_{2} \\overline{c_{2}} + 16.0 a c_{1} c_{3} \\overline{c_{3}} - 32.0 i a + 8.0 c_{0}} & \\text{for}\\: c_{0} \\neq - 2.0 a \\left(c_{1} c_{2} \\overline{c_{2}} + c_{1} c_{3} \\overline{c_{3}} - 2.0 i\\right) \\\\t & \\text{otherwise} \\end{cases}\\right) e^{- t \\left(2.0 a c_{1} c_{2} \\overline{c_{2}} + 2.0 a c_{1} c_{3} \\overline{c_{3}}\\right)}$",
        "text/plain": "Eq(rho_5(t), 1.0*C9*exp(-t*(2.0*a*c1*c2*conjugate(c2) + 2.0*a*c1*c3*conjugate(c3))) + (4.0*C3*a*c1*c2**2 + 4.0*C4*a*c1*c2*c3 - 4.0*C7*a*c1*c2*conjugate(c3) - 4.0*C8*a*c1*c3*conjugate(c3))*Piecewise((8.0*exp(c0*t)*exp(-4.0*I*a*t)*exp(2.0*a*c1*c2*t*conjugate(c2))*exp(2.0*a*c1*c3*t*conjugate(c3))/(16.0*a*c1*c2*conjugate(c2) + 16.0*a*c1*c3*conjugate(c3) - 32.0*I*a + 8.0*c0), Ne(c0, -2.0*a*(c1*c2*conjugate(c2) + c1*c3*conjugate(c3) - 2.0*I))), (t, True))*exp(-t*(2.0*a*c1*c2*conjugate(c2) + 2.0*a*c1*c3*conjugate(c3))))"
       },
       "metadata": {},
       "status": "ok"
      }
     }
    ]
   },
   "source": [
    "{eval}`sols[4]`"
   ]
  },
  {
   "cell_type": "markdown",
   "id": "e0213fcb-e7c6-4fab-b518-910c8dfa7417",
   "metadata": {
    "editable": true,
    "slideshow": {
     "slide_type": ""
    },
    "tags": []
   },
   "source": [
    "Unfortunately there's a bug in the sympy analytical solver when substituting the initial value conditions to obtain the constants\n",
    "It's not so bad because it is evidend that the weird term is zero. But I check it with manual substitutions anyway below\n",
    "\n",
    ":::{warning} \n",
    "It's only evident if the solution of the equation is a valid density matrix \n",
    ":::\n",
    " The initial state considered is"
   ]
  },
  {
   "cell_type": "code",
   "execution_count": 35,
   "id": "f83499ba-665e-4fd8-8f8a-225cf9676e59",
   "metadata": {
    "editable": true,
    "slideshow": {
     "slide_type": ""
    },
    "tags": [
     "no-pdf"
    ]
   },
   "outputs": [],
   "source": [
    "sols = dsolve(\n",
    "    eqs)"
   ]
  },
  {
   "cell_type": "code",
   "execution_count": 36,
   "id": "1cc2e8ad",
   "metadata": {
    "editable": true,
    "slideshow": {
     "slide_type": ""
    },
    "tags": [
     "no-pdf"
    ]
   },
   "outputs": [],
   "source": [
    "C= symbols(\"C1:17\")"
   ]
  },
  {
   "cell_type": "code",
   "execution_count": 81,
   "id": "36dd4008",
   "metadata": {
    "editable": true,
    "slideshow": {
     "slide_type": ""
    },
    "tags": [
     "no-pdf"
    ]
   },
   "outputs": [
    {
     "data": {
      "text/latex": [
       "$\\displaystyle \\left[\\begin{matrix}0 & 0 & 0 & 0\\\\0 & 0.5 & 0.5 i & 0\\\\0 & - 0.5 i & 0.5 & 0\\\\0 & 0 & 0 & 0\\end{matrix}\\right]$"
      ],
      "text/plain": [
       "Matrix([\n",
       "[0,      0,     0, 0],\n",
       "[0,    0.5, 0.5*I, 0],\n",
       "[0, -0.5*I,   0.5, 0],\n",
       "[0,      0,     0, 0]])"
      ]
     },
     "execution_count": 81,
     "metadata": {},
     "output_type": "execute_result"
    }
   ],
   "source": [
    "rho0=Matrix([[0]*4,[0,0.5,0.5*I,0],[0,-0.5*I,0.5,0],[0]*4])\n",
    "rho0"
   ]
  },
  {
   "cell_type": "markdown",
   "id": "ad7ff6d3-d9af-4d63-9075-1cd5c17390cc",
   "metadata": {
    "editable": true,
    "slideshow": {
     "slide_type": ""
    },
    "tags": [],
    "user_expressions": [
     {
      "expression": "Eq(S(\"rho(0)\"),rho0,evaluate=False)",
      "result": {
       "data": {
        "text/latex": "$\\displaystyle \\rho{\\left(0 \\right)} = \\left[\\begin{matrix}0 & 0 & 0 & 0\\\\0 & 0.5 & 0.5 i & 0\\\\0 & - 0.5 i & 0.5 & 0\\\\0 & 0 & 0 & 0\\end{matrix}\\right]$",
        "text/plain": "Eq(rho(0), Matrix([\n[0,      0,     0, 0],\n[0,    0.5, 0.5*I, 0],\n[0, -0.5*I,   0.5, 0],\n[0,      0,     0, 0]]))"
       },
       "metadata": {},
       "status": "ok"
      }
     }
    ]
   },
   "source": [
    "{eval}`Eq(S(\"rho(0)\"),rho0,evaluate=False)`"
   ]
  },
  {
   "cell_type": "markdown",
   "id": "08fb4ef9-0b45-4a0f-b4a0-04a3b12a5459",
   "metadata": {
    "editable": true,
    "slideshow": {
     "slide_type": ""
    },
    "tags": []
   },
   "source": [
    "The solution to the system of equations is"
   ]
  },
  {
   "cell_type": "markdown",
   "id": "96d7ba07-ab73-44b4-88c2-5e2092ff0d0c",
   "metadata": {
    "editable": true,
    "slideshow": {
     "slide_type": ""
    },
    "tags": []
   },
   "source": [
    "Then  by substituting this into the solution we obtain to find the constants we obtain"
   ]
  },
  {
   "cell_type": "code",
   "execution_count": 38,
   "id": "0d6cbe42",
   "metadata": {
    "editable": true,
    "slideshow": {
     "slide_type": ""
    },
    "tags": [
     "no-pdf"
    ]
   },
   "outputs": [
    {
     "data": {
      "text/latex": [
       "$\\displaystyle 1.0 C_{1} = - 1.0 C_{2}$"
      ],
      "text/plain": [
       "Eq(1.0*C1, -1.0*C2)"
      ]
     },
     "metadata": {},
     "output_type": "display_data"
    },
    {
     "data": {
      "text/latex": [
       "$\\displaystyle C_{3} = 0$"
      ],
      "text/plain": [
       "Eq(C3, 0)"
      ]
     },
     "metadata": {},
     "output_type": "display_data"
    },
    {
     "data": {
      "text/latex": [
       "$\\displaystyle C_{4} = 0$"
      ],
      "text/plain": [
       "Eq(C4, 0)"
      ]
     },
     "metadata": {},
     "output_type": "display_data"
    },
    {
     "data": {
      "text/latex": [
       "$\\displaystyle 1.0 C_{5} = - 1.0 C_{6}$"
      ],
      "text/plain": [
       "Eq(1.0*C5, -1.0*C6)"
      ]
     },
     "metadata": {},
     "output_type": "display_data"
    },
    {
     "data": {
      "text/latex": [
       "$\\displaystyle \\begin{cases} \\frac{1.0 C_{9} \\left(16.0 a c_{1} c_{2} \\overline{c_{2}} + 16.0 a c_{1} c_{3} \\overline{c_{3}} - 32.0 i a + 8.0 c_{0}\\right) + 32.0 a c_{1} \\left(C_{3} c_{2}^{2} + C_{4} c_{2} c_{3} - C_{7} c_{2} \\overline{c_{3}} - C_{8} c_{3} \\overline{c_{3}}\\right)}{16.0 a c_{1} c_{2} \\overline{c_{2}} + 16.0 a c_{1} c_{3} \\overline{c_{3}} - 32.0 i a + 8.0 c_{0}} & \\text{for}\\: c_{0} \\neq - 2.0 a \\left(c_{1} c_{2} \\overline{c_{2}} + c_{1} c_{3} \\overline{c_{3}} - 2.0 i\\right) \\\\1.0 C_{9} & \\text{otherwise} \\end{cases} = 0$"
      ],
      "text/plain": [
       "Eq(Piecewise(((1.0*C9*(16.0*a*c1*c2*conjugate(c2) + 16.0*a*c1*c3*conjugate(c3) - 32.0*I*a + 8.0*c0) + 32.0*a*c1*(C3*c2**2 + C4*c2*c3 - C7*c2*conjugate(c3) - C8*c3*conjugate(c3)))/(16.0*a*c1*c2*conjugate(c2) + 16.0*a*c1*c3*conjugate(c3) - 32.0*I*a + 8.0*c0), Ne(c0, -2.0*a*(c1*c2*conjugate(c2) + c1*c3*conjugate(c3) - 2.0*I))), (1.0*C9, True)), 0)"
      ]
     },
     "metadata": {},
     "output_type": "display_data"
    },
    {
     "data": {
      "text/latex": [
       "$\\displaystyle \\frac{c_{0} \\left(C_{10} c_{3} \\overline{c_{3}} - C_{11} \\overline{c_{2}} \\overline{c_{3}} + C_{2} c_{2} \\overline{c_{2}} - C_{6} c_{2} c_{3}\\right)}{a c_{1} \\left(2.0 c_{2}^{2} \\overline{c_{2}}^{2} + 4.0 c_{2} c_{3} \\overline{c_{2}} \\overline{c_{3}} + 2.0 c_{3}^{2} \\overline{c_{3}}^{2}\\right)} = 0.5$"
      ],
      "text/plain": [
       "Eq(c0*(C10*c3*conjugate(c3) - C11*conjugate(c2)*conjugate(c3) + C2*c2*conjugate(c2) - C6*c2*c3)/(a*c1*(2.0*c2**2*conjugate(c2)**2 + 4.0*c2*c3*conjugate(c2)*conjugate(c3) + 2.0*c3**2*conjugate(c3)**2)), 0.5)"
      ]
     },
     "metadata": {},
     "output_type": "display_data"
    },
    {
     "data": {
      "text/latex": [
       "$\\displaystyle \\frac{c_{0} \\left(- C_{10} c_{2} \\overline{c_{3}} - C_{11} \\overline{c_{3}}^{2} + C_{2} c_{2} \\overline{c_{3}} + C_{6} c_{2}^{2}\\right)}{a c_{1} \\left(2.0 c_{2}^{2} \\overline{c_{2}}^{2} + 4.0 c_{2} c_{3} \\overline{c_{2}} \\overline{c_{3}} + 2.0 c_{3}^{2} \\overline{c_{3}}^{2}\\right)} = 0.5 i$"
      ],
      "text/plain": [
       "Eq(c0*(-C10*c2*conjugate(c3) - C11*conjugate(c3)**2 + C2*c2*conjugate(c3) + C6*c2**2)/(a*c1*(2.0*c2**2*conjugate(c2)**2 + 4.0*c2*c3*conjugate(c2)*conjugate(c3) + 2.0*c3**2*conjugate(c3)**2)), 0.5*I)"
      ]
     },
     "metadata": {},
     "output_type": "display_data"
    },
    {
     "data": {
      "text/latex": [
       "$\\displaystyle \\begin{cases} \\frac{1.0 C_{12} \\left(16.0 a c_{1} c_{2} \\overline{c_{2}} + 16.0 a c_{1} c_{3} \\overline{c_{3}} - 32.0 i a + 8.0 c_{0}\\right) - 32.0 a c_{1} \\left(C_{3} c_{2} \\overline{c_{3}} - C_{4} c_{2} \\overline{c_{2}} - C_{7} \\overline{c_{3}}^{2} + C_{8} \\overline{c_{2}} \\overline{c_{3}}\\right)}{16.0 a c_{1} c_{2} \\overline{c_{2}} + 16.0 a c_{1} c_{3} \\overline{c_{3}} - 32.0 i a + 8.0 c_{0}} & \\text{for}\\: c_{0} \\neq - 2.0 a \\left(c_{1} c_{2} \\overline{c_{2}} + c_{1} c_{3} \\overline{c_{3}} - 2.0 i\\right) \\\\1.0 C_{12} & \\text{otherwise} \\end{cases} = 0$"
      ],
      "text/plain": [
       "Eq(Piecewise(((1.0*C12*(16.0*a*c1*c2*conjugate(c2) + 16.0*a*c1*c3*conjugate(c3) - 32.0*I*a + 8.0*c0) - 32.0*a*c1*(C3*c2*conjugate(c3) - C4*c2*conjugate(c2) - C7*conjugate(c3)**2 + C8*conjugate(c2)*conjugate(c3)))/(16.0*a*c1*c2*conjugate(c2) + 16.0*a*c1*c3*conjugate(c3) - 32.0*I*a + 8.0*c0), Ne(c0, -2.0*a*(c1*c2*conjugate(c2) + c1*c3*conjugate(c3) - 2.0*I))), (1.0*C12, True)), 0)"
      ]
     },
     "metadata": {},
     "output_type": "display_data"
    },
    {
     "data": {
      "text/latex": [
       "$\\displaystyle \\begin{cases} \\frac{1.0 C_{13} \\left(16.0 a c_{1} c_{2} \\overline{c_{2}} + 16.0 a c_{1} c_{3} \\overline{c_{3}} - 32.0 i a + 8.0 c_{0}\\right) + 32.0 a c_{1} \\left(C_{3} c_{2} c_{3} + C_{4} c_{3}^{2} + C_{7} c_{2} \\overline{c_{2}} + C_{8} c_{3} \\overline{c_{2}}\\right)}{16.0 a c_{1} c_{2} \\overline{c_{2}} + 16.0 a c_{1} c_{3} \\overline{c_{3}} - 32.0 i a + 8.0 c_{0}} & \\text{for}\\: c_{0} \\neq - 2.0 a \\left(c_{1} c_{2} \\overline{c_{2}} + c_{1} c_{3} \\overline{c_{3}} - 2.0 i\\right) \\\\1.0 C_{13} & \\text{otherwise} \\end{cases} = 0$"
      ],
      "text/plain": [
       "Eq(Piecewise(((1.0*C13*(16.0*a*c1*c2*conjugate(c2) + 16.0*a*c1*c3*conjugate(c3) - 32.0*I*a + 8.0*c0) + 32.0*a*c1*(C3*c2*c3 + C4*c3**2 + C7*c2*conjugate(c2) + C8*c3*conjugate(c2)))/(16.0*a*c1*c2*conjugate(c2) + 16.0*a*c1*c3*conjugate(c3) - 32.0*I*a + 8.0*c0), Ne(c0, -2.0*a*(c1*c2*conjugate(c2) + c1*c3*conjugate(c3) - 2.0*I))), (1.0*C13, True)), 0)"
      ]
     },
     "metadata": {},
     "output_type": "display_data"
    },
    {
     "data": {
      "text/latex": [
       "$\\displaystyle \\frac{c_{0} \\left(- C_{10} c_{3} \\overline{c_{2}} + C_{11} \\overline{c_{2}}^{2} + C_{2} c_{3} \\overline{c_{2}} - C_{6} c_{3}^{2}\\right)}{a c_{1} \\left(2.0 c_{2}^{2} \\overline{c_{2}}^{2} + 4.0 c_{2} c_{3} \\overline{c_{2}} \\overline{c_{3}} + 2.0 c_{3}^{2} \\overline{c_{3}}^{2}\\right)} = - 0.5 i$"
      ],
      "text/plain": [
       "Eq(c0*(-C10*c3*conjugate(c2) + C11*conjugate(c2)**2 + C2*c3*conjugate(c2) - C6*c3**2)/(a*c1*(2.0*c2**2*conjugate(c2)**2 + 4.0*c2*c3*conjugate(c2)*conjugate(c3) + 2.0*c3**2*conjugate(c3)**2)), -0.5*I)"
      ]
     },
     "metadata": {},
     "output_type": "display_data"
    },
    {
     "data": {
      "text/latex": [
       "$\\displaystyle \\frac{c_{0} \\left(C_{10} c_{2} \\overline{c_{2}} + C_{11} \\overline{c_{2}} \\overline{c_{3}} + C_{2} c_{3} \\overline{c_{3}} + C_{6} c_{2} c_{3}\\right)}{a c_{1} \\left(2.0 c_{2}^{2} \\overline{c_{2}}^{2} + 4.0 c_{2} c_{3} \\overline{c_{2}} \\overline{c_{3}} + 2.0 c_{3}^{2} \\overline{c_{3}}^{2}\\right)} = 0.5$"
      ],
      "text/plain": [
       "Eq(c0*(C10*c2*conjugate(c2) + C11*conjugate(c2)*conjugate(c3) + C2*c3*conjugate(c3) + C6*c2*c3)/(a*c1*(2.0*c2**2*conjugate(c2)**2 + 4.0*c2*c3*conjugate(c2)*conjugate(c3) + 2.0*c3**2*conjugate(c3)**2)), 0.5)"
      ]
     },
     "metadata": {},
     "output_type": "display_data"
    },
    {
     "data": {
      "text/latex": [
       "$\\displaystyle \\begin{cases} \\frac{1.0 C_{14} \\left(16.0 a c_{1} c_{2} \\overline{c_{2}} + 16.0 a c_{1} c_{3} \\overline{c_{3}} - 32.0 i a + 8.0 c_{0}\\right) - 32.0 a c_{1} \\left(C_{3} c_{3} \\overline{c_{3}} - C_{4} c_{3} \\overline{c_{2}} + C_{7} \\overline{c_{2}} \\overline{c_{3}} - C_{8} \\overline{c_{2}}^{2}\\right)}{16.0 a c_{1} c_{2} \\overline{c_{2}} + 16.0 a c_{1} c_{3} \\overline{c_{3}} - 32.0 i a + 8.0 c_{0}} & \\text{for}\\: c_{0} \\neq - 2.0 a \\left(c_{1} c_{2} \\overline{c_{2}} + c_{1} c_{3} \\overline{c_{3}} - 2.0 i\\right) \\\\1.0 C_{14} & \\text{otherwise} \\end{cases} = 0$"
      ],
      "text/plain": [
       "Eq(Piecewise(((1.0*C14*(16.0*a*c1*c2*conjugate(c2) + 16.0*a*c1*c3*conjugate(c3) - 32.0*I*a + 8.0*c0) - 32.0*a*c1*(C3*c3*conjugate(c3) - C4*c3*conjugate(c2) + C7*conjugate(c2)*conjugate(c3) - C8*conjugate(c2)**2))/(16.0*a*c1*c2*conjugate(c2) + 16.0*a*c1*c3*conjugate(c3) - 32.0*I*a + 8.0*c0), Ne(c0, -2.0*a*(c1*c2*conjugate(c2) + c1*c3*conjugate(c3) - 2.0*I))), (1.0*C14, True)), 0)"
      ]
     },
     "metadata": {},
     "output_type": "display_data"
    },
    {
     "data": {
      "text/latex": [
       "$\\displaystyle 1.0 C_{11} = - 1.0 C_{15}$"
      ],
      "text/plain": [
       "Eq(1.0*C11, -1.0*C15)"
      ]
     },
     "metadata": {},
     "output_type": "display_data"
    },
    {
     "data": {
      "text/latex": [
       "$\\displaystyle C_{7} = 0$"
      ],
      "text/plain": [
       "Eq(C7, 0)"
      ]
     },
     "metadata": {},
     "output_type": "display_data"
    },
    {
     "data": {
      "text/latex": [
       "$\\displaystyle C_{8} = 0$"
      ],
      "text/plain": [
       "Eq(C8, 0)"
      ]
     },
     "metadata": {},
     "output_type": "display_data"
    },
    {
     "data": {
      "text/latex": [
       "$\\displaystyle 1.0 C_{10} = - 1.0 C_{16}$"
      ],
      "text/plain": [
       "Eq(1.0*C10, -1.0*C16)"
      ]
     },
     "metadata": {},
     "output_type": "display_data"
    }
   ],
   "source": [
    "rho0=list(rho0)\n",
    "ics=[]\n",
    "trivial=[]\n",
    "for k,i in enumerate(sols):\n",
    "    ic=i.subs(t,0).subs(rhof[k](0),rho0[k]).simplify()\n",
    "    if ic.rhs==0:\n",
    "        trivial.append(ic.lhs)\n",
    "    else:\n",
    "        ics.append(ic)\n",
    "    display(ic)"
   ]
  },
  {
   "cell_type": "code",
   "execution_count": 39,
   "id": "c6136abc",
   "metadata": {
    "editable": true,
    "slideshow": {
     "slide_type": ""
    },
    "tags": [
     "no-pdf"
    ]
   },
   "outputs": [],
   "source": [
    "constants_zeros={i:0 for i in trivial}"
   ]
  },
  {
   "cell_type": "code",
   "execution_count": 40,
   "id": "30bb82da",
   "metadata": {
    "editable": true,
    "slideshow": {
     "slide_type": ""
    },
    "tags": [
     "no-pdf"
    ]
   },
   "outputs": [],
   "source": [
    "minus={C[0]:-C[1],C[4]:-C[5],C[14]:-C[10],C[15]:-C[9]}"
   ]
  },
  {
   "cell_type": "code",
   "execution_count": 41,
   "id": "85dbe740",
   "metadata": {
    "editable": true,
    "slideshow": {
     "slide_type": ""
    },
    "tags": [
     "no-pdf"
    ]
   },
   "outputs": [],
   "source": [
    "c10=solve(ics[2],C[9])[0]"
   ]
  },
  {
   "cell_type": "code",
   "execution_count": 42,
   "id": "542df271",
   "metadata": {
    "editable": true,
    "slideshow": {
     "slide_type": ""
    },
    "tags": [
     "no-pdf"
    ]
   },
   "outputs": [],
   "source": [
    "c11=solve(ics[3].subs(C[9],c10),C[10])[0]"
   ]
  },
  {
   "cell_type": "code",
   "execution_count": 43,
   "id": "0b3b68b2",
   "metadata": {
    "editable": true,
    "slideshow": {
     "slide_type": ""
    },
    "tags": [
     "no-pdf"
    ]
   },
   "outputs": [],
   "source": [
    "c6=solve(ics[4].subs(C[9],c10).subs(C[10],c11),C[5])[0]"
   ]
  },
  {
   "cell_type": "code",
   "execution_count": 44,
   "id": "ffffe00e",
   "metadata": {
    "editable": true,
    "slideshow": {
     "slide_type": ""
    },
    "tags": [
     "no-pdf"
    ]
   },
   "outputs": [],
   "source": [
    "c02=solve(ics[5].subs(C[9],c10).subs(C[10],c11).subs(C[5],c6),C[1])[0].simplify()"
   ]
  },
  {
   "cell_type": "markdown",
   "id": "bff0b650",
   "metadata": {
    "editable": true,
    "slideshow": {
     "slide_type": ""
    },
    "tags": [
     "no-pdf"
    ]
   },
   "source": [
    "then"
   ]
  },
  {
   "cell_type": "code",
   "execution_count": 45,
   "id": "23a0cb0e",
   "metadata": {
    "editable": true,
    "slideshow": {
     "slide_type": ""
    },
    "tags": [
     "no-pdf"
    ]
   },
   "outputs": [],
   "source": [
    "c06=c6.subs(C[1],c02).simplify()"
   ]
  },
  {
   "cell_type": "code",
   "execution_count": 46,
   "id": "83243184-7ba4-44ba-95b8-7503d40b7a7b",
   "metadata": {
    "editable": true,
    "slideshow": {
     "slide_type": ""
    },
    "tags": [
     "no-pdf"
    ]
   },
   "outputs": [],
   "source": [
    "c011=c11.subs(C[1],c02).subs(C[5],c06).simplify()"
   ]
  },
  {
   "cell_type": "code",
   "execution_count": 47,
   "id": "b91ec238",
   "metadata": {
    "editable": true,
    "slideshow": {
     "slide_type": ""
    },
    "tags": [
     "no-pdf"
    ]
   },
   "outputs": [],
   "source": [
    "c010=c10.subs(C[1],c02).subs(C[5],c06).subs(C[10],c011).simplify()"
   ]
  },
  {
   "cell_type": "code",
   "execution_count": 48,
   "id": "f473cd2f",
   "metadata": {
    "editable": true,
    "slideshow": {
     "slide_type": ""
    },
    "tags": [
     "no-pdf"
    ]
   },
   "outputs": [],
   "source": [
    "simplified={C[9]:c010,C[1]:c02,C[10]:c011,C[5]:c06}"
   ]
  },
  {
   "cell_type": "markdown",
   "id": "4e381a8c-9ee6-4c49-a510-920d56cf3ed1",
   "metadata": {
    "editable": true,
    "slideshow": {
     "slide_type": ""
    },
    "tags": [
     "no-pdf"
    ]
   },
   "source": [
    "After solving the system of equations above we obtain"
   ]
  },
  {
   "cell_type": "code",
   "execution_count": 49,
   "id": "48e53457",
   "metadata": {
    "editable": true,
    "slideshow": {
     "slide_type": ""
    },
    "tags": [
     "no-pdf"
    ]
   },
   "outputs": [
    {
     "data": {
      "text/latex": [
       "$\\displaystyle \\rho_{1}{\\left(t \\right)} = \\frac{1.0 a c_{1} \\left(c_{2} \\overline{c_{2}} - i c_{2} \\overline{c_{3}} + i c_{3} \\overline{c_{2}} + c_{3} \\overline{c_{3}}\\right) e^{2.0 c_{0} t}}{c_{0}} - \\frac{1.0 a c_{1} \\left(c_{2} \\overline{c_{2}} - i c_{2} \\overline{c_{3}} + i c_{3} \\overline{c_{2}} + c_{3} \\overline{c_{3}}\\right)}{c_{0}}$"
      ],
      "text/plain": [
       "Eq(rho_1(t), 1.0*a*c1*(c2*conjugate(c2) - I*c2*conjugate(c3) + I*c3*conjugate(c2) + c3*conjugate(c3))*exp(2.0*c0*t)/c0 - 1.0*a*c1*(c2*conjugate(c2) - I*c2*conjugate(c3) + I*c3*conjugate(c2) + c3*conjugate(c3))/c0)"
      ]
     },
     "metadata": {},
     "output_type": "display_data"
    },
    {
     "data": {
      "text/latex": [
       "$\\displaystyle \\rho_{2}{\\left(t \\right)} = 0$"
      ],
      "text/plain": [
       "Eq(rho_2(t), 0)"
      ]
     },
     "metadata": {},
     "output_type": "display_data"
    },
    {
     "data": {
      "text/latex": [
       "$\\displaystyle \\rho_{3}{\\left(t \\right)} = 0$"
      ],
      "text/plain": [
       "Eq(rho_3(t), 0)"
      ]
     },
     "metadata": {},
     "output_type": "display_data"
    },
    {
     "data": {
      "text/latex": [
       "$\\displaystyle \\rho_{4}{\\left(t \\right)} = \\frac{1.0 i a c_{1} \\left(\\overline{c_{2}}^{2} + \\overline{c_{3}}^{2}\\right) e^{2.0 c_{0} t}}{c_{0}} - \\frac{1.0 i a c_{1} \\left(\\overline{c_{2}}^{2} + \\overline{c_{3}}^{2}\\right)}{c_{0}}$"
      ],
      "text/plain": [
       "Eq(rho_4(t), 1.0*I*a*c1*(conjugate(c2)**2 + conjugate(c3)**2)*exp(2.0*c0*t)/c0 - 1.0*I*a*c1*(conjugate(c2)**2 + conjugate(c3)**2)/c0)"
      ]
     },
     "metadata": {},
     "output_type": "display_data"
    },
    {
     "data": {
      "text/latex": [
       "$\\displaystyle \\rho_{5}{\\left(t \\right)} = 1.0 C_{9} e^{- 2.0 a c_{1} t \\left(c_{2} \\overline{c_{2}} + c_{3} \\overline{c_{3}}\\right)}$"
      ],
      "text/plain": [
       "Eq(rho_5(t), 1.0*C9*exp(-2.0*a*c1*t*(c2*conjugate(c2) + c3*conjugate(c3))))"
      ]
     },
     "metadata": {},
     "output_type": "display_data"
    },
    {
     "data": {
      "text/latex": [
       "$\\displaystyle \\rho_{6}{\\left(t \\right)} = \\frac{c_{0} \\left(- \\frac{i a c_{1} c_{2} c_{3} \\left(\\overline{c_{2}}^{2} + \\overline{c_{3}}^{2}\\right)}{c_{0}} + \\frac{a c_{1} c_{2} \\left(c_{2} \\overline{c_{2}} - i c_{2} \\overline{c_{3}} + i c_{3} \\overline{c_{2}} + c_{3} \\overline{c_{3}}\\right) \\overline{c_{2}}}{c_{0}} + \\frac{1.0 a c_{1} c_{3} \\left(c_{2} \\overline{c_{2}} + i c_{2} \\overline{c_{3}} - i c_{3} \\overline{c_{2}} + c_{3} \\overline{c_{3}}\\right) \\overline{c_{3}}}{c_{0}} - \\frac{i a c_{1} \\left(- c_{2}^{2} - c_{3}^{2}\\right) \\overline{c_{2}} \\overline{c_{3}}}{c_{0}}\\right) e^{2.0 c_{0} t}}{a c_{1} \\left(2.0 c_{2}^{2} \\overline{c_{2}}^{2} + 4.0 c_{2} c_{3} \\overline{c_{2}} \\overline{c_{3}} + 2.0 c_{3}^{2} \\overline{c_{3}}^{2}\\right)}$"
      ],
      "text/plain": [
       "Eq(rho_6(t), c0*(-I*a*c1*c2*c3*(conjugate(c2)**2 + conjugate(c3)**2)/c0 + a*c1*c2*(c2*conjugate(c2) - I*c2*conjugate(c3) + I*c3*conjugate(c2) + c3*conjugate(c3))*conjugate(c2)/c0 + 1.0*a*c1*c3*(c2*conjugate(c2) + I*c2*conjugate(c3) - I*c3*conjugate(c2) + c3*conjugate(c3))*conjugate(c3)/c0 - I*a*c1*(-c2**2 - c3**2)*conjugate(c2)*conjugate(c3)/c0)*exp(2.0*c0*t)/(a*c1*(2.0*c2**2*conjugate(c2)**2 + 4.0*c2*c3*conjugate(c2)*conjugate(c3) + 2.0*c3**2*conjugate(c3)**2)))"
      ]
     },
     "metadata": {},
     "output_type": "display_data"
    },
    {
     "data": {
      "text/latex": [
       "$\\displaystyle \\rho_{7}{\\left(t \\right)} = \\frac{c_{0} \\left(\\frac{i a c_{1} c_{2}^{2} \\left(\\overline{c_{2}}^{2} + \\overline{c_{3}}^{2}\\right)}{c_{0}} + \\frac{a c_{1} c_{2} \\left(c_{2} \\overline{c_{2}} - i c_{2} \\overline{c_{3}} + i c_{3} \\overline{c_{2}} + c_{3} \\overline{c_{3}}\\right) \\overline{c_{3}}}{c_{0}} - \\frac{1.0 a c_{1} c_{2} \\left(c_{2} \\overline{c_{2}} + i c_{2} \\overline{c_{3}} - i c_{3} \\overline{c_{2}} + c_{3} \\overline{c_{3}}\\right) \\overline{c_{3}}}{c_{0}} - \\frac{i a c_{1} \\left(- c_{2}^{2} - c_{3}^{2}\\right) \\overline{c_{3}}^{2}}{c_{0}}\\right) e^{2.0 c_{0} t}}{a c_{1} \\left(2.0 c_{2}^{2} \\overline{c_{2}}^{2} + 4.0 c_{2} c_{3} \\overline{c_{2}} \\overline{c_{3}} + 2.0 c_{3}^{2} \\overline{c_{3}}^{2}\\right)}$"
      ],
      "text/plain": [
       "Eq(rho_7(t), c0*(I*a*c1*c2**2*(conjugate(c2)**2 + conjugate(c3)**2)/c0 + a*c1*c2*(c2*conjugate(c2) - I*c2*conjugate(c3) + I*c3*conjugate(c2) + c3*conjugate(c3))*conjugate(c3)/c0 - 1.0*a*c1*c2*(c2*conjugate(c2) + I*c2*conjugate(c3) - I*c3*conjugate(c2) + c3*conjugate(c3))*conjugate(c3)/c0 - I*a*c1*(-c2**2 - c3**2)*conjugate(c3)**2/c0)*exp(2.0*c0*t)/(a*c1*(2.0*c2**2*conjugate(c2)**2 + 4.0*c2*c3*conjugate(c2)*conjugate(c3) + 2.0*c3**2*conjugate(c3)**2)))"
      ]
     },
     "metadata": {},
     "output_type": "display_data"
    },
    {
     "data": {
      "text/latex": [
       "$\\displaystyle \\rho_{8}{\\left(t \\right)} = 1.0 C_{12} e^{- 2.0 a c_{1} t \\left(c_{2} \\overline{c_{2}} + c_{3} \\overline{c_{3}}\\right)}$"
      ],
      "text/plain": [
       "Eq(rho_8(t), 1.0*C12*exp(-2.0*a*c1*t*(c2*conjugate(c2) + c3*conjugate(c3))))"
      ]
     },
     "metadata": {},
     "output_type": "display_data"
    },
    {
     "data": {
      "text/latex": [
       "$\\displaystyle \\rho_{9}{\\left(t \\right)} = 1.0 C_{13} e^{- 2.0 a c_{1} t \\left(c_{2} \\overline{c_{2}} + c_{3} \\overline{c_{3}}\\right)}$"
      ],
      "text/plain": [
       "Eq(rho_9(t), 1.0*C13*exp(-2.0*a*c1*t*(c2*conjugate(c2) + c3*conjugate(c3))))"
      ]
     },
     "metadata": {},
     "output_type": "display_data"
    },
    {
     "data": {
      "text/latex": [
       "$\\displaystyle \\rho_{10}{\\left(t \\right)} = \\frac{c_{0} \\left(- \\frac{i a c_{1} c_{3}^{2} \\left(\\overline{c_{2}}^{2} + \\overline{c_{3}}^{2}\\right)}{c_{0}} + \\frac{a c_{1} c_{3} \\left(c_{2} \\overline{c_{2}} - i c_{2} \\overline{c_{3}} + i c_{3} \\overline{c_{2}} + c_{3} \\overline{c_{3}}\\right) \\overline{c_{2}}}{c_{0}} - \\frac{1.0 a c_{1} c_{3} \\left(c_{2} \\overline{c_{2}} + i c_{2} \\overline{c_{3}} - i c_{3} \\overline{c_{2}} + c_{3} \\overline{c_{3}}\\right) \\overline{c_{2}}}{c_{0}} + \\frac{i a c_{1} \\left(- c_{2}^{2} - c_{3}^{2}\\right) \\overline{c_{2}}^{2}}{c_{0}}\\right) e^{2.0 c_{0} t}}{a c_{1} \\left(2.0 c_{2}^{2} \\overline{c_{2}}^{2} + 4.0 c_{2} c_{3} \\overline{c_{2}} \\overline{c_{3}} + 2.0 c_{3}^{2} \\overline{c_{3}}^{2}\\right)}$"
      ],
      "text/plain": [
       "Eq(rho_10(t), c0*(-I*a*c1*c3**2*(conjugate(c2)**2 + conjugate(c3)**2)/c0 + a*c1*c3*(c2*conjugate(c2) - I*c2*conjugate(c3) + I*c3*conjugate(c2) + c3*conjugate(c3))*conjugate(c2)/c0 - 1.0*a*c1*c3*(c2*conjugate(c2) + I*c2*conjugate(c3) - I*c3*conjugate(c2) + c3*conjugate(c3))*conjugate(c2)/c0 + I*a*c1*(-c2**2 - c3**2)*conjugate(c2)**2/c0)*exp(2.0*c0*t)/(a*c1*(2.0*c2**2*conjugate(c2)**2 + 4.0*c2*c3*conjugate(c2)*conjugate(c3) + 2.0*c3**2*conjugate(c3)**2)))"
      ]
     },
     "metadata": {},
     "output_type": "display_data"
    },
    {
     "data": {
      "text/latex": [
       "$\\displaystyle \\rho_{11}{\\left(t \\right)} = \\frac{c_{0} \\left(\\frac{i a c_{1} c_{2} c_{3} \\left(\\overline{c_{2}}^{2} + \\overline{c_{3}}^{2}\\right)}{c_{0}} + \\frac{1.0 a c_{1} c_{2} \\left(c_{2} \\overline{c_{2}} + i c_{2} \\overline{c_{3}} - i c_{3} \\overline{c_{2}} + c_{3} \\overline{c_{3}}\\right) \\overline{c_{2}}}{c_{0}} + \\frac{a c_{1} c_{3} \\left(c_{2} \\overline{c_{2}} - i c_{2} \\overline{c_{3}} + i c_{3} \\overline{c_{2}} + c_{3} \\overline{c_{3}}\\right) \\overline{c_{3}}}{c_{0}} + \\frac{i a c_{1} \\left(- c_{2}^{2} - c_{3}^{2}\\right) \\overline{c_{2}} \\overline{c_{3}}}{c_{0}}\\right) e^{2.0 c_{0} t}}{a c_{1} \\left(2.0 c_{2}^{2} \\overline{c_{2}}^{2} + 4.0 c_{2} c_{3} \\overline{c_{2}} \\overline{c_{3}} + 2.0 c_{3}^{2} \\overline{c_{3}}^{2}\\right)}$"
      ],
      "text/plain": [
       "Eq(rho_11(t), c0*(I*a*c1*c2*c3*(conjugate(c2)**2 + conjugate(c3)**2)/c0 + 1.0*a*c1*c2*(c2*conjugate(c2) + I*c2*conjugate(c3) - I*c3*conjugate(c2) + c3*conjugate(c3))*conjugate(c2)/c0 + a*c1*c3*(c2*conjugate(c2) - I*c2*conjugate(c3) + I*c3*conjugate(c2) + c3*conjugate(c3))*conjugate(c3)/c0 + I*a*c1*(-c2**2 - c3**2)*conjugate(c2)*conjugate(c3)/c0)*exp(2.0*c0*t)/(a*c1*(2.0*c2**2*conjugate(c2)**2 + 4.0*c2*c3*conjugate(c2)*conjugate(c3) + 2.0*c3**2*conjugate(c3)**2)))"
      ]
     },
     "metadata": {},
     "output_type": "display_data"
    },
    {
     "data": {
      "text/latex": [
       "$\\displaystyle \\rho_{12}{\\left(t \\right)} = 1.0 C_{14} e^{- 2.0 a c_{1} t \\left(c_{2} \\overline{c_{2}} + c_{3} \\overline{c_{3}}\\right)}$"
      ],
      "text/plain": [
       "Eq(rho_12(t), 1.0*C14*exp(-2.0*a*c1*t*(c2*conjugate(c2) + c3*conjugate(c3))))"
      ]
     },
     "metadata": {},
     "output_type": "display_data"
    },
    {
     "data": {
      "text/latex": [
       "$\\displaystyle \\rho_{13}{\\left(t \\right)} = \\frac{1.0 i a c_{1} \\left(- c_{2}^{2} - c_{3}^{2}\\right) e^{2.0 c_{0} t}}{c_{0}} - \\frac{1.0 i a c_{1} \\left(- c_{2}^{2} - c_{3}^{2}\\right)}{c_{0}}$"
      ],
      "text/plain": [
       "Eq(rho_13(t), 1.0*I*a*c1*(-c2**2 - c3**2)*exp(2.0*c0*t)/c0 - 1.0*I*a*c1*(-c2**2 - c3**2)/c0)"
      ]
     },
     "metadata": {},
     "output_type": "display_data"
    },
    {
     "data": {
      "text/latex": [
       "$\\displaystyle \\rho_{14}{\\left(t \\right)} = 0$"
      ],
      "text/plain": [
       "Eq(rho_14(t), 0)"
      ]
     },
     "metadata": {},
     "output_type": "display_data"
    },
    {
     "data": {
      "text/latex": [
       "$\\displaystyle \\rho_{15}{\\left(t \\right)} = 0$"
      ],
      "text/plain": [
       "Eq(rho_15(t), 0)"
      ]
     },
     "metadata": {},
     "output_type": "display_data"
    },
    {
     "data": {
      "text/latex": [
       "$\\displaystyle \\rho_{16}{\\left(t \\right)} = \\frac{1.0 a c_{1} \\left(c_{2} \\overline{c_{2}} + i c_{2} \\overline{c_{3}} - i c_{3} \\overline{c_{2}} + c_{3} \\overline{c_{3}}\\right) e^{2.0 c_{0} t}}{c_{0}} - \\frac{1.0 a c_{1} \\left(c_{2} \\overline{c_{2}} + i c_{2} \\overline{c_{3}} - i c_{3} \\overline{c_{2}} + c_{3} \\overline{c_{3}}\\right)}{c_{0}}$"
      ],
      "text/plain": [
       "Eq(rho_16(t), 1.0*a*c1*(c2*conjugate(c2) + I*c2*conjugate(c3) - I*c3*conjugate(c2) + c3*conjugate(c3))*exp(2.0*c0*t)/c0 - 1.0*a*c1*(c2*conjugate(c2) + I*c2*conjugate(c3) - I*c3*conjugate(c2) + c3*conjugate(c3))/c0)"
      ]
     },
     "metadata": {},
     "output_type": "display_data"
    }
   ],
   "source": [
    "ic2=[]\n",
    "for i in sols:\n",
    "    j=i.simplify().subs(constants_zeros).subs(minus).subs(simplified)\n",
    "    ic2.append(j)\n",
    "    display(j)"
   ]
  },
  {
   "cell_type": "markdown",
   "id": "0227021f",
   "metadata": {
    "editable": true,
    "slideshow": {
     "slide_type": ""
    },
    "tags": [
     "no-pdf"
    ]
   },
   "source": [
    "Though simplified there are still some Free constants, which we can get rid off, since by\n",
    "substituting the ones we found the piecewise conditions are now fully determined such that once\n",
    "again using the initial conditions"
   ]
  },
  {
   "cell_type": "markdown",
   "id": "36cc1716",
   "metadata": {
    "editable": true,
    "slideshow": {
     "slide_type": ""
    },
    "tags": [
     "no-pdf"
    ]
   },
   "source": [
    "so finally"
   ]
  },
  {
   "cell_type": "code",
   "execution_count": 51,
   "id": "175c5c3e",
   "metadata": {
    "editable": true,
    "slideshow": {
     "slide_type": ""
    },
    "tags": [
     "no-pdf"
    ]
   },
   "outputs": [],
   "source": [
    "ic2=[]\n",
    "for i in sols:\n",
    "    j=i.simplify().subs(constants_zeros).subs(minus).subs(simplified)\n",
    "    ic2.append(j)\n",
    "    display(j)"
   ]
  },
  {
   "cell_type": "code",
   "execution_count": 52,
   "id": "3ea7dd86",
   "metadata": {
    "editable": true,
    "slideshow": {
     "slide_type": ""
    },
    "tags": [
     "no-pdf"
    ]
   },
   "outputs": [],
   "source": [
    "inverted = {value: key for key, value in chgnvar.items()}"
   ]
  },
  {
   "cell_type": "code",
   "execution_count": 53,
   "id": "6b4a1cb1",
   "metadata": {
    "editable": true,
    "slideshow": {
     "slide_type": ""
    },
    "tags": [
     "no-pdf"
    ]
   },
   "outputs": [],
   "source": [
    "newsols=[i.subs(inverted).simplify() for i in ic2]"
   ]
  },
  {
   "cell_type": "markdown",
   "id": "649c56fe",
   "metadata": {
    "editable": true,
    "slideshow": {
     "slide_type": ""
    },
    "tags": []
   },
   "source": [
    "By reverting the change of variables. The analytical answer of the Bloch redfield equation is given by"
   ]
  },
  {
   "cell_type": "code",
   "execution_count": 79,
   "id": "eb1d344a",
   "metadata": {
    "editable": true,
    "slideshow": {
     "slide_type": ""
    },
    "tags": [
     "no-pdf"
    ]
   },
   "outputs": [],
   "source": [
    "ans=Matrix(np.array([i.rhs for i in newsols]).reshape(4,4))"
   ]
  },
  {
   "cell_type": "markdown",
   "id": "2b190a36",
   "metadata": {
    "editable": true,
    "slideshow": {
     "slide_type": ""
    },
    "tags": []
   },
   "source": [
    "We can then substitute the numerical values for example for the case we explored above"
   ]
  },
  {
   "cell_type": "code",
   "execution_count": 55,
   "id": "6df94f9f",
   "metadata": {
    "editable": true,
    "slideshow": {
     "slide_type": ""
    },
    "tags": [
     "no-pdf"
    ]
   },
   "outputs": [],
   "source": [
    "num_values = {w0: 4.799892154530513, lam: 2.157529680721121, gam: 2.3414108070880553, a: 2.182,b[0]:0.53,b[1]:0.707,b[2]:0.442,b[3]:0.471}"
   ]
  },
  {
   "cell_type": "code",
   "execution_count": 56,
   "id": "571f6e29",
   "metadata": {
    "editable": true,
    "slideshow": {
     "slide_type": ""
    },
    "tags": [
     "no-pdf"
    ]
   },
   "outputs": [],
   "source": [
    "anss=ans.subs(num_values).evalf()"
   ]
  },
  {
   "cell_type": "markdown",
   "id": "97c254f3-5a40-4657-92f4-25e137969e56",
   "metadata": {
    "editable": true,
    "slideshow": {
     "slide_type": ""
    },
    "tags": [],
    "user_expressions": [
     {
      "expression": "Eq(S(\"rho(t)\"),anss,evaluate=False)",
      "result": {
       "data": {
        "text/latex": "$\\displaystyle \\rho{\\left(t \\right)} = \\left[\\begin{matrix}0.55247613848278 \\left(e^{0.94679965816826 t} - 1.0\\right) e^{- 0.94679965816826 t} & 0 & 0 & \\left(0.486572940196368 - 0.102435485836685 i\\right) \\left(e^{0.94679965816826 t} - 1.0\\right) e^{- 0.94679965816826 t}\\\\0 & 0.5 e^{- 0.94679965816826 t} & 0.5 i e^{- 0.94679965816826 t} & 0\\\\0 & - 0.5 i e^{- 0.94679965816826 t} & 0.5 e^{- 0.94679965816826 t} & 0\\\\\\left(-0.486572940196368 - 0.102435485836685 i\\right) \\left(1.0 - e^{0.94679965816826 t}\\right) e^{- 0.94679965816826 t} & 0 & 0 & 0.44752386151722 \\left(e^{0.94679965816826 t} - 1.0\\right) e^{- 0.94679965816826 t}\\end{matrix}\\right]$",
        "text/plain": "Eq(rho(t), Matrix([\n[                          0.55247613848278*(exp(0.94679965816826*t) - 1.0)*exp(-0.94679965816826*t),                               0,                              0, (0.486572940196368 - 0.102435485836685*I)*(exp(0.94679965816826*t) - 1.0)*exp(-0.94679965816826*t)],\n[                                                                                                  0,    0.5*exp(-0.94679965816826*t), 0.5*I*exp(-0.94679965816826*t),                                                                                                  0],\n[                                                                                                  0, -0.5*I*exp(-0.94679965816826*t),   0.5*exp(-0.94679965816826*t),                                                                                                  0],\n[(-0.486572940196368 - 0.102435485836685*I)*(1.0 - exp(0.94679965816826*t))*exp(-0.94679965816826*t),                               0,                              0,                          0.44752386151722*(exp(0.94679965816826*t) - 1.0)*exp(-0.94679965816826*t)]]))"
       },
       "metadata": {},
       "status": "ok"
      }
     }
    ]
   },
   "source": [
    "{eval}`Eq(S(\"rho(t)\"),anss,evaluate=False)`"
   ]
  },
  {
   "cell_type": "markdown",
   "id": "66c0c4dd",
   "metadata": {
    "editable": true,
    "slideshow": {
     "slide_type": ""
    },
    "tags": []
   },
   "source": [
    "Then we may evaluate for long times"
   ]
  },
  {
   "cell_type": "code",
   "execution_count": 57,
   "id": "bf4208f3",
   "metadata": {
    "editable": true,
    "slideshow": {
     "slide_type": ""
    },
    "tags": [
     "no-pdf"
    ]
   },
   "outputs": [],
   "source": [
    "def roundMatrix(m, n): \n",
    "    return Matrix(\n",
    "    [[round(m[x, y], n) for y in range(m.shape[1])] for x in range(m.shape[0])])"
   ]
  },
  {
   "cell_type": "markdown",
   "id": "45879843-892a-4d71-87da-e129ae8d7f64",
   "metadata": {
    "editable": true,
    "slideshow": {
     "slide_type": ""
    },
    "tags": [],
    "user_expressions": [
     {
      "expression": "Eq(S(\"rho(50)\"),roundMatrix(ans.subs(num_values).subs(t,150).evalf(),18),evaluate=False)",
      "result": {
       "data": {
        "text/latex": "$\\displaystyle \\rho{\\left(50 \\right)} = \\left[\\begin{matrix}0.55247613848278 & 0 & 0 & 0.486572940196368 - 0.102435485836685 i\\\\0 & 0.0 & 0 & 0\\\\0 & 0 & 0.0 & 0\\\\0.486572940196368 + 0.102435485836685 i & 0 & 0 & 0.44752386151722\\end{matrix}\\right]$",
        "text/plain": "Eq(rho(50), Matrix([\n[                       0.55247613848278,   0,   0, 0.486572940196368 - 0.102435485836685*I],\n[                                      0, 0.0,   0,                                       0],\n[                                      0,   0, 0.0,                                       0],\n[0.486572940196368 + 0.102435485836685*I,   0,   0,                        0.44752386151722]]))"
       },
       "metadata": {},
       "status": "ok"
      }
     }
    ]
   },
   "source": [
    "{eval}`Eq(S(\"rho(50)\"),roundMatrix(ans.subs(num_values).subs(t,150).evalf(),18),evaluate=False)`"
   ]
  },
  {
   "cell_type": "markdown",
   "id": "5c5d55df",
   "metadata": {
    "editable": true,
    "slideshow": {
     "slide_type": ""
    },
    "tags": []
   },
   "source": [
    "I believe I was careful enough to use the same convention used in the other equations (Pseudomodes, Cumulant and redfield ) but currently reviewing the derivations to make sure there's no inconsistencies. The derivations in question are in https://master--gsuarezthesis.netlify.app/redfield . I do think it is now safe to assume that BR/Redfield breaksdown and that it is not a bug in the code, so maybe we can write a paper on redfield breaking down, cumulant/global being good once we figure out why it happens🤓. Though it seems to be about the coupling and not the degeneracies"
   ]
  },
  {
   "cell_type": "markdown",
   "id": "57861bc1-3ef0-4a6f-ab80-b54dfc8a7797",
   "metadata": {
    "editable": true,
    "slideshow": {
     "slide_type": ""
    },
    "tags": []
   },
   "source": [
    ":::{tip} About Pictures\n",
    "Technically the above matrix is not correct as it is in the interaction picture and not the Schrodinger picture. In this case it does not make a difference, however, let us do the rotation \n",
    ":::"
   ]
  },
  {
   "cell_type": "code",
   "execution_count": 58,
   "id": "0ebc6e75-cc9f-422d-b9a1-9b3fe279e548",
   "metadata": {
    "editable": true,
    "slideshow": {
     "slide_type": ""
    },
    "tags": []
   },
   "outputs": [],
   "source": [
    "U=exp(I*H*t)"
   ]
  },
  {
   "cell_type": "markdown",
   "id": "c0077b19-4381-4683-b117-304ee62b0f52",
   "metadata": {
    "editable": true,
    "slideshow": {
     "slide_type": ""
    },
    "tags": [],
    "user_expressions": [
     {
      "expression": "Eq(S(\"U\"),U,evaluate=False)",
      "result": {
       "data": {
        "text/latex": "$\\displaystyle U = \\left[\\begin{matrix}e^{- i a t} & 0 & 0 & 0\\\\0 & e^{i a t} & 0 & 0\\\\0 & 0 & e^{i a t} & 0\\\\0 & 0 & 0 & e^{- i a t}\\end{matrix}\\right]$",
        "text/plain": "Eq(U, Matrix([\n[exp(-I*a*t),          0,          0,           0],\n[          0, exp(I*a*t),          0,           0],\n[          0,          0, exp(I*a*t),           0],\n[          0,          0,          0, exp(-I*a*t)]]))"
       },
       "metadata": {},
       "status": "ok"
      }
     },
     {
      "expression": "Eq(S(\"U\")*S(\"rho\")*Dagger(S(\"U\")),U*rho*Dagger(U),evaluate=False)",
      "result": {
       "data": {
        "text/latex": "$\\displaystyle U \\rho U^{\\dagger} = \\left[\\begin{matrix}\\rho_{1} & \\rho_{2} e^{- 2 i a t} & \\rho_{3} e^{- 2 i a t} & \\rho_{4}\\\\e^{2 i a t} \\overline{\\rho_{2}} & \\rho_{6} & \\overline{\\rho_{10}} & \\rho_{8} e^{2 i a t}\\\\e^{2 i a t} \\overline{\\rho_{3}} & \\rho_{10} & \\rho_{11} & \\rho_{12} e^{2 i a t}\\\\\\overline{\\rho_{4}} & e^{- 2 i a t} \\overline{\\rho_{8}} & e^{- 2 i a t} \\overline{\\rho_{12}} & - \\rho_{1} - \\rho_{11} - \\rho_{6} + 1\\end{matrix}\\right]$",
        "text/plain": "Eq(U*rho*Dagger(U), Matrix([\n[                        rho_1,            rho_2*exp(-2*I*a*t),             rho_3*exp(-2*I*a*t),                       rho_4],\n[exp(2*I*a*t)*conjugate(rho_2),                          rho_6,               conjugate(rho_10),          rho_8*exp(2*I*a*t)],\n[exp(2*I*a*t)*conjugate(rho_3),                         rho_10,                          rho_11,         rho_12*exp(2*I*a*t)],\n[             conjugate(rho_4), exp(-2*I*a*t)*conjugate(rho_8), exp(-2*I*a*t)*conjugate(rho_12), -rho_1 - rho_11 - rho_6 + 1]]))"
       },
       "metadata": {},
       "status": "ok"
      }
     }
    ]
   },
   "source": [
    "{eval}`Eq(S(\"U\"),U,evaluate=False)`\n",
    "\n",
    "{eval}`Eq(S(\"U\")*S(\"rho\")*Dagger(S(\"U\")),U*rho*Dagger(U),evaluate=False)`\n"
   ]
  },
  {
   "cell_type": "code",
   "execution_count": 59,
   "id": "cfdf7648-db4a-456c-8940-0b8545cd18da",
   "metadata": {
    "editable": true,
    "slideshow": {
     "slide_type": ""
    },
    "tags": []
   },
   "outputs": [],
   "source": [
    "rhoss=U*roundMatrix(ans.subs(num_values).subs(t,150).evalf(),18)*Dagger(U)"
   ]
  },
  {
   "cell_type": "markdown",
   "id": "7ae4f0f8-473e-427e-b514-7b328e4f1e89",
   "metadata": {
    "editable": true,
    "slideshow": {
     "slide_type": ""
    },
    "tags": [],
    "user_expressions": [
     {
      "expression": "Eq(S(\"rho(50)\"),rhoss,evaluate=False)",
      "result": {
       "data": {
        "text/latex": "$\\displaystyle \\rho{\\left(50 \\right)} = \\left[\\begin{matrix}0.55247613848278 & 0 & 0 & 0.486572940196368 - 0.102435485836685 i\\\\0 & 0 & 0 & 0\\\\0 & 0 & 0 & 0\\\\0.486572940196368 + 0.102435485836685 i & 0 & 0 & 0.44752386151722\\end{matrix}\\right]$",
        "text/plain": "Eq(rho(50), Matrix([\n[                       0.55247613848278, 0, 0, 0.486572940196368 - 0.102435485836685*I],\n[                                      0, 0, 0,                                       0],\n[                                      0, 0, 0,                                       0],\n[0.486572940196368 + 0.102435485836685*I, 0, 0,                        0.44752386151722]]))"
       },
       "metadata": {},
       "status": "ok"
      }
     }
    ]
   },
   "source": [
    "{eval}`Eq(S(\"rho(50)\"),rhoss,evaluate=False)`\n"
   ]
  },
  {
   "cell_type": "markdown",
   "id": "44c1f87b",
   "metadata": {
    "editable": true,
    "slideshow": {
     "slide_type": ""
    },
    "tags": []
   },
   "source": [
    "## RC picture of the Hamiltonian\n",
    "\n",
    "For the RC I simply follow one of your papers https://arxiv.org/pdf/1511.05181\n",
    "\n",
    "So If I didn't misunderstand it then\n",
    "\n",
    "$$\\Omega=w_{0}$$\n",
    "$$\\lambda_{rc}=\\sqrt{\\frac{\\pi}{2 w_{0}}}\\lambda$$\n",
    "\n",
    "\n",
    "Not actually sure if $\\pi$ should be there, but does not seem to be relevant for the question we are asking"
   ]
  },
  {
   "cell_type": "code",
   "execution_count": 60,
   "id": "1287bd8f",
   "metadata": {
    "editable": true,
    "slideshow": {
     "slide_type": ""
    },
    "tags": [
     "no-pdf"
    ]
   },
   "outputs": [],
   "source": [
    "def ladder(i,j):\n",
    "    if i - j == 1:\n",
    "        return sqrt(i)\n",
    "    else:\n",
    "        return 0\n",
    "def destroy(n):\n",
    "    return Dagger(Matrix(n,n,ladder))\n"
   ]
  },
  {
   "cell_type": "markdown",
   "id": "5d169565",
   "metadata": {
    "editable": true,
    "slideshow": {
     "slide_type": ""
    },
    "tags": []
   },
   "source": [
    "Not sure how many levels to take here, but let us guess 15 is enough"
   ]
  },
  {
   "cell_type": "code",
   "execution_count": 61,
   "id": "bd873a69",
   "metadata": {
    "editable": true,
    "slideshow": {
     "slide_type": ""
    },
    "tags": [
     "no-pdf"
    ]
   },
   "outputs": [],
   "source": [
    "levels=15\n",
    "arc=destroy(levels)\n",
    "arcd=Dagger(arc)"
   ]
  },
  {
   "cell_type": "markdown",
   "id": "790ce6f4",
   "metadata": {},
   "source": [
    "Then I construct the RC Hamiltonian"
   ]
  },
  {
   "cell_type": "code",
   "execution_count": 62,
   "id": "c288e2a0",
   "metadata": {
    "editable": true,
    "slideshow": {
     "slide_type": ""
    },
    "tags": [
     "no-pdf"
    ]
   },
   "outputs": [],
   "source": [
    "from sympy.physics.quantum import TensorProduct"
   ]
  },
  {
   "cell_type": "code",
   "execution_count": 63,
   "id": "889757c0",
   "metadata": {
    "editable": true,
    "slideshow": {
     "slide_type": ""
    },
    "tags": [
     "no-pdf"
    ]
   },
   "outputs": [],
   "source": [
    "HRC = TensorProduct(H, eye(levels))+sqrt(pi/(2*w0))*lam*TensorProduct(Q,eye(levels))*(TensorProduct(eye(4),arc)+TensorProduct(eye(4),arcd))+w0*TensorProduct(eye(4),arcd)*TensorProduct(eye(4),arc)"
   ]
  },
  {
   "cell_type": "code",
   "execution_count": 64,
   "id": "deece222",
   "metadata": {},
   "outputs": [],
   "source": [
    "NHRC=HRC.subs(num_values).evalf()"
   ]
  },
  {
   "cell_type": "code",
   "execution_count": 65,
   "id": "e9f87921",
   "metadata": {
    "editable": true,
    "slideshow": {
     "slide_type": ""
    },
    "tags": [
     "no-pdf"
    ]
   },
   "outputs": [],
   "source": [
    "ans=np.array(NHRC.tolist()).astype(np.complex128)"
   ]
  },
  {
   "cell_type": "code",
   "execution_count": 66,
   "id": "b42cf667",
   "metadata": {
    "editable": true,
    "slideshow": {
     "slide_type": ""
    },
    "tags": [
     "no-pdf"
    ]
   },
   "outputs": [],
   "source": [
    "eigenvalues, eigenvectors = np.linalg.eig(ans)"
   ]
  },
  {
   "cell_type": "code",
   "execution_count": 67,
   "id": "1645e8f9",
   "metadata": {
    "editable": true,
    "slideshow": {
     "slide_type": ""
    },
    "tags": [
     "no-pdf"
    ]
   },
   "outputs": [],
   "source": [
    "import matplotlib.pyplot as plt"
   ]
  },
  {
   "cell_type": "code",
   "execution_count": 68,
   "id": "2e2acf7e",
   "metadata": {
    "editable": true,
    "slideshow": {
     "slide_type": ""
    },
    "tags": []
   },
   "outputs": [
    {
     "data": {
      "image/png": "[encoded data removed]",
      "text/plain": [
       "<Figure size 640x480 with 1 Axes>"
      ]
     },
     "metadata": {},
     "output_type": "display_data"
    }
   ],
   "source": [
    "plt.scatter(np.real(eigenvalues),np.round(np.imag(eigenvalues),10),s=5)\n",
    "plt.title(\"Eigenvalues on the real line\")\n",
    "plt.show()"
   ]
  },
  {
   "cell_type": "markdown",
   "id": "fee96a08",
   "metadata": {},
   "source": [
    "Propably I shopuld have done the partial trace so"
   ]
  },
  {
   "cell_type": "code",
   "execution_count": 69,
   "id": "d12a8717",
   "metadata": {
    "editable": true,
    "slideshow": {
     "slide_type": ""
    },
    "tags": [
     "no-pdf"
    ]
   },
   "outputs": [],
   "source": [
    "import qutip as qt"
   ]
  },
  {
   "cell_type": "code",
   "execution_count": 70,
   "id": "720cbb97",
   "metadata": {
    "editable": true,
    "slideshow": {
     "slide_type": ""
    },
    "tags": [
     "no-pdf"
    ]
   },
   "outputs": [],
   "source": [
    "Hq=qt.Qobj(H.subs(num_values).tolist())\n",
    "aq=qt.destroy(levels)\n",
    "aqd=qt.create(levels)\n",
    "qHRC = qt.tensor(Hq, qt.qeye(levels))+np.sqrt(np.pi/(2*num_values[w0]))*num_values[lam]*qt.tensor(qt.Qobj(Q.subs(num_values)), qt.qeye(levels))*(qt.tensor(qt.qeye(4),aq)+qt.tensor(qt.qeye(4),aqd))+num_values[w0]*qt.tensor(qt.qeye(4),aqd)*qt.tensor(qt.qeye(4),aq)"
   ]
  },
  {
   "cell_type": "code",
   "execution_count": 71,
   "id": "a63f3bb5",
   "metadata": {
    "editable": true,
    "slideshow": {
     "slide_type": ""
    },
    "tags": [
     "no-pdf"
    ]
   },
   "outputs": [
    {
     "data": {
      "text/latex": [
       "Quantum object: dims=[[4], [4]], shape=(4, 4), type='oper', isherm=True$$\\left(\\begin{array}{cc}-2.182 & 0 & 0 & 0\\\\0 & 2.182 & 0 & 0\\\\0 & 0 & 2.182 & 0\\\\0 & 0 & 0 & -2.182\\end{array}\\right)$$"
      ],
      "text/plain": [
       "Quantum object: dims=[[4], [4]], shape=(4, 4), type='oper', isherm=True\n",
       "Qobj data =\n",
       "[[-2.182  0.     0.     0.   ]\n",
       " [ 0.     2.182  0.     0.   ]\n",
       " [ 0.     0.     2.182  0.   ]\n",
       " [ 0.     0.     0.    -2.182]]"
      ]
     },
     "execution_count": 71,
     "metadata": {},
     "output_type": "execute_result"
    }
   ],
   "source": [
    "Hq"
   ]
  },
  {
   "cell_type": "code",
   "execution_count": 72,
   "id": "5d10376a",
   "metadata": {
    "editable": true,
    "slideshow": {
     "slide_type": ""
    },
    "tags": []
   },
   "outputs": [
    {
     "data": {
      "text/latex": [
       "Quantum object: dims=[[4], [4]], shape=(4, 4), type='oper', isherm=True$$\\left(\\begin{array}{cc}471.259 & 0 & 0 & 0\\\\0 & 536.719 & 0 & 0\\\\0 & 0 & 536.719 & 0\\\\0 & 0 & 0 & 471.259\\end{array}\\right)$$"
      ],
      "text/plain": [
       "Quantum object: dims=[[4], [4]], shape=(4, 4), type='oper', isherm=True\n",
       "Qobj data =\n",
       "[[471.25867623   0.           0.           0.        ]\n",
       " [  0.         536.71867623   0.           0.        ]\n",
       " [  0.           0.         536.71867623   0.        ]\n",
       " [  0.           0.           0.         471.25867623]]"
      ]
     },
     "execution_count": 72,
     "metadata": {},
     "output_type": "execute_result"
    }
   ],
   "source": [
    "qHRC.ptrace(0)"
   ]
  },
  {
   "cell_type": "markdown",
   "id": "4e8709dc",
   "metadata": {},
   "source": [
    "Still degenerate"
   ]
  },
  {
   "cell_type": "markdown",
   "id": "947f9ca7",
   "metadata": {},
   "source": [
    "Let us try the other coupling which does not break bloch redfield"
   ]
  },
  {
   "cell_type": "code",
   "execution_count": 73,
   "id": "c78169d2",
   "metadata": {
    "editable": true,
    "slideshow": {
     "slide_type": ""
    },
    "tags": [
     "no-pdf"
    ]
   },
   "outputs": [],
   "source": [
    "Hq=qt.Qobj(H.subs(num_values).tolist())\n",
    "aq=qt.destroy(levels)\n",
    "aqd=qt.create(levels)\n",
    "qHRC = qt.tensor(Hq, qt.qeye(levels))+np.sqrt(np.pi/(2*num_values[w0]))*num_values[lam]*qt.tensor(qt.Qobj(re(Q).subs(num_values)), qt.qeye(levels))*(qt.tensor(qt.qeye(4),aq)+qt.tensor(qt.qeye(4),aqd))+num_values[w0]*qt.tensor(qt.qeye(4),aqd)*qt.tensor(qt.qeye(4),aq)"
   ]
  },
  {
   "cell_type": "code",
   "execution_count": 74,
   "id": "f66208aa",
   "metadata": {
    "editable": true,
    "slideshow": {
     "slide_type": ""
    },
    "tags": []
   },
   "outputs": [
    {
     "data": {
      "text/latex": [
       "Quantum object: dims=[[4], [4]], shape=(4, 4), type='oper', isherm=True$$\\left(\\begin{array}{cc}471.259 & 0 & 0 & 0\\\\0 & 536.719 & 0 & 0\\\\0 & 0 & 536.719 & 0\\\\0 & 0 & 0 & 471.259\\end{array}\\right)$$"
      ],
      "text/plain": [
       "Quantum object: dims=[[4], [4]], shape=(4, 4), type='oper', isherm=True\n",
       "Qobj data =\n",
       "[[471.25867623   0.           0.           0.        ]\n",
       " [  0.         536.71867623   0.           0.        ]\n",
       " [  0.           0.         536.71867623   0.        ]\n",
       " [  0.           0.           0.         471.25867623]]"
      ]
     },
     "execution_count": 74,
     "metadata": {},
     "output_type": "execute_result"
    }
   ],
   "source": [
    "qHRC.ptrace(0)"
   ]
  },
  {
   "cell_type": "code",
   "execution_count": 75,
   "id": "c94e2b58",
   "metadata": {
    "editable": true,
    "slideshow": {
     "slide_type": ""
    },
    "tags": [
     "no-pdf"
    ]
   },
   "outputs": [],
   "source": [
    "ans = qHRC.full().astype(np.complex128)"
   ]
  },
  {
   "cell_type": "code",
   "execution_count": 76,
   "id": "078c1ccc",
   "metadata": {
    "editable": true,
    "slideshow": {
     "slide_type": ""
    },
    "tags": []
   },
   "outputs": [],
   "source": [
    "eigenvalues, eigenvectors = np.linalg.eig(ans)"
   ]
  },
  {
   "cell_type": "code",
   "execution_count": 77,
   "id": "31f7a9a2",
   "metadata": {},
   "outputs": [
    {
     "data": {
      "image/png": "[encoded data removed]",
      "text/plain": [
       "<Figure size 640x480 with 1 Axes>"
      ]
     },
     "metadata": {},
     "output_type": "display_data"
    }
   ],
   "source": [
    "plt.scatter(np.real(eigenvalues), np.round(np.imag(eigenvalues), 10), s=5)\n",
    "plt.title(\"Eigenvalues on the real line\")\n",
    "plt.show()"
   ]
  },
  {
   "cell_type": "markdown",
   "id": "f3f2c640",
   "metadata": {},
   "source": [
    "There doesn't seem to be much change in the Hamiltonian if any"
   ]
  }
 ],
 "metadata": {
  "kernelspec": {
   "display_name": "Python 3 (ipykernel)",
   "language": "python",
   "name": "python3"
  },
  "language_info": {
   "codemirror_mode": {
    "name": "ipython",
    "version": 3
   },
   "file_extension": ".py",
   "mimetype": "text/x-python",
   "name": "python",
   "nbconvert_exporter": "python",
   "pygments_lexer": "ipython3",
   "version": "3.12.2"
  }
 },
 "nbformat": 4,
 "nbformat_minor": 5
}
