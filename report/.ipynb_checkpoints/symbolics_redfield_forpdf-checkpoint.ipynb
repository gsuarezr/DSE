{
 "cells": [
  {
   "cell_type": "markdown",
   "id": "ebedc4f3-cb58-4f65-bf85-01b8f4ee6472",
   "metadata": {
    "editable": true,
    "slideshow": {
     "slide_type": ""
    },
    "tags": []
   },
   "source": [
    "---\n",
    "title: Redfield Issue check \"Analytically\"\n",
    "date: 2024-08-08\n",
    "authors:\n",
    "  - name: Gerardo Suarez\n",
    "---"
   ]
  },
  {
   "cell_type": "markdown",
   "id": "5bfa3334-aef2-4166-b7be-7a75dcb777f4",
   "metadata": {
    "editable": true,
    "slideshow": {
     "slide_type": ""
    },
    "tags": []
   },
   "source": [
    "Since there seems to be an issue with the Bloch-Redfield Solver in qutip and my not so good implementation \n",
    "of the time dependent redfield, here's a quick Analytical check to make sure it's not, by solving the\n",
    "equation for the SYK(2) model symbolically. The Hamiltonian is given by"
   ]
  },
  {
   "cell_type": "code",
   "execution_count": 1,
   "id": "1fdad32f-dbc2-4415-9ce5-eae29880219e",
   "metadata": {
    "editable": true,
    "slideshow": {
     "slide_type": "skip"
    },
    "tags": [
     "no-pdf"
    ]
   },
   "outputs": [],
   "source": [
    "from sympy import *\n",
    "from sympy.physics.quantum import Dagger\n",
    "from sympy import I\n",
    "from collections import defaultdict\n",
    "import numpy as np\n",
    "import itertools\n",
    "from sympy.solvers.ode.systems import dsolve_system"
   ]
  },
  {
   "cell_type": "code",
   "execution_count": 2,
   "id": "2549d5d6",
   "metadata": {
    "editable": true,
    "slideshow": {
     "slide_type": ""
    },
    "tags": [
     "no-pdf"
    ]
   },
   "outputs": [],
   "source": [
    "a = symbols('a',real=True,positive=True)"
   ]
  },
  {
   "cell_type": "code",
   "execution_count": 3,
   "id": "d3b3c382",
   "metadata": {
    "editable": true,
    "slideshow": {
     "slide_type": ""
    },
    "tags": [
     "hide-input"
    ]
   },
   "outputs": [
    {
     "data": {
      "text/latex": [
       "$\\displaystyle H = \\left[\\begin{matrix}- a & 0 & 0 & 0\\\\0 & a & 0 & 0\\\\0 & 0 & a & 0\\\\0 & 0 & 0 & - a\\end{matrix}\\right]$"
      ],
      "text/plain": [
       "Eq(H, Matrix([\n",
       "[-a, 0, 0,  0],\n",
       "[ 0, a, 0,  0],\n",
       "[ 0, 0, a,  0],\n",
       "[ 0, 0, 0, -a]]))"
      ]
     },
     "execution_count": 3,
     "metadata": {},
     "output_type": "execute_result"
    }
   ],
   "source": [
    "H = diag(-a,a,a,-a)#the times 20 is to rescale time\n",
    "Eq(S('H'), H, evaluate=False)"
   ]
  },
  {
   "cell_type": "code",
   "execution_count": 4,
   "id": "75dafc4a",
   "metadata": {
    "editable": true,
    "slideshow": {
     "slide_type": ""
    },
    "tags": [
     "no-pdf"
    ]
   },
   "outputs": [],
   "source": [
    "b= symbols('b0:8')"
   ]
  },
  {
   "cell_type": "markdown",
   "id": "1423a214-512e-4fcd-8f82-7dc28668d027",
   "metadata": {
    "editable": true,
    "slideshow": {
     "slide_type": ""
    },
    "tags": []
   },
   "source": [
    "Here I define the coupling operator $q$ that make things break for Bloch-Redfield on the SYK model"
   ]
  },
  {
   "cell_type": "code",
   "execution_count": 5,
   "id": "c71646f1",
   "metadata": {
    "editable": true,
    "slideshow": {
     "slide_type": ""
    },
    "tags": [
     "no-pdf"
    ]
   },
   "outputs": [],
   "source": [
    "# coupling operator non trivial like in the shinsey ryu paper. This difference is not dramatic for simpler couplings\n",
    "Q = Matrix([[0, b[0] , b[1], 0],\n",
    "              [conjugate(b[0]), 0, 0, -b[1]],\n",
    "              [conjugate(b[1]), 0, 0, b[0] ],\n",
    "              [0, -conjugate(b[1]), conjugate(b[0]) , 0]])"
   ]
  },
  {
   "cell_type": "code",
   "execution_count": 6,
   "id": "a87b7d80-74ec-42c1-8962-d2cff475cefb",
   "metadata": {
    "editable": true,
    "slideshow": {
     "slide_type": ""
    },
    "tags": [
     "hide-input"
    ],
    "user_expressions": [
     {
      "expression": "Eq(S(\"q\"), Q, evaluate=False)",
      "result": {
       "data": {
        "text/latex": "$\\displaystyle q = \\left[\\begin{matrix}0 & b_{0} - i b_{1} & b_{2} - i b_{3} & 0\\\\b_{0} + i b_{1} & 0 & 0 & - b_{2} + i b_{3}\\\\b_{2} + i b_{3} & 0 & 0 & b_{0} - i b_{1}\\\\0 & - b_{2} - i b_{3} & b_{0} + i b_{1} & 0\\end{matrix}\\right]$",
        "text/plain": "Eq(q, Matrix([\n[        0,  b0 - I*b1, b2 - I*b3,          0],\n[b0 + I*b1,          0,         0, -b2 + I*b3],\n[b2 + I*b3,          0,         0,  b0 - I*b1],\n[        0, -b2 - I*b3, b0 + I*b1,          0]]))"
       },
       "metadata": {},
       "status": "ok"
      }
     }
    ]
   },
   "outputs": [
    {
     "data": {
      "text/latex": [
       "$\\displaystyle q = \\left[\\begin{matrix}0 & b_{0} & b_{1} & 0\\\\\\overline{b_{0}} & 0 & 0 & - b_{1}\\\\\\overline{b_{1}} & 0 & 0 & b_{0}\\\\0 & - \\overline{b_{1}} & \\overline{b_{0}} & 0\\end{matrix}\\right]$"
      ],
      "text/plain": [
       "Eq(q, Matrix([\n",
       "[            0,             b0,            b1,   0],\n",
       "[conjugate(b0),              0,             0, -b1],\n",
       "[conjugate(b1),              0,             0,  b0],\n",
       "[            0, -conjugate(b1), conjugate(b0),   0]]))"
      ]
     },
     "execution_count": 6,
     "metadata": {},
     "output_type": "execute_result"
    }
   ],
   "source": [
    "Eq(S(\"q\"), Q, evaluate=False)"
   ]
  },
  {
   "cell_type": "code",
   "execution_count": 7,
   "id": "b02f8e56",
   "metadata": {
    "editable": true,
    "slideshow": {
     "slide_type": ""
    },
    "tags": [
     "no-pdf"
    ]
   },
   "outputs": [
    {
     "data": {
      "text/plain": [
       "True"
      ]
     },
     "execution_count": 7,
     "metadata": {},
     "output_type": "execute_result"
    }
   ],
   "source": [
    "Dagger(Q) == Q #checking I didn't mess up "
   ]
  },
  {
   "cell_type": "code",
   "execution_count": 8,
   "id": "8403f1b4",
   "metadata": {
    "editable": true,
    "slideshow": {
     "slide_type": ""
    },
    "tags": [
     "no-pdf"
    ]
   },
   "outputs": [],
   "source": [
    "def comm(a,b):\n",
    "    return (a*b-b*a)"
   ]
  },
  {
   "cell_type": "markdown",
   "id": "7cb0eec4-bb92-4326-bd69-e0bbd235b196",
   "metadata": {
    "editable": true,
    "slideshow": {
     "slide_type": ""
    },
    "tags": []
   },
   "source": [
    "I then get the eigenvalues and eigenvectors to obtain the jump operators (this steps are hidden in the pdf)"
   ]
  },
  {
   "cell_type": "code",
   "execution_count": 9,
   "id": "88bd8f6b",
   "metadata": {
    "editable": true,
    "slideshow": {
     "slide_type": ""
    },
    "tags": [
     "no-pdf"
    ]
   },
   "outputs": [],
   "source": [
    "basis=H.eigenvects() # I probably don't need this step since the Hamiltonian is\n",
    "# Diagonal\n",
    "energies=[[i[0]]*i[1] for i in basis]\n",
    "energies = [x for xs in energies for x in xs]\n",
    "states = [i[2] for i in basis]\n",
    "states = [x for xs in states for x in xs ]"
   ]
  },
  {
   "cell_type": "code",
   "execution_count": 10,
   "id": "50389ccf",
   "metadata": {
    "editable": true,
    "slideshow": {
     "slide_type": ""
    },
    "tags": [
     "no-pdf"
    ]
   },
   "outputs": [],
   "source": [
    "def jump_operators(H,evals,all_state, Q):\n",
    "    \"\"\"\n",
    "    A function to obtain the jump operators\n",
    "    \"\"\"\n",
    "    collapse_list = []\n",
    "    ws = []\n",
    "    N=len(energies)\n",
    "    for j in range(N):\n",
    "        for k in range(j + 1, N):\n",
    "            Deltajk = evals[k] - evals[j]\n",
    "            ws.append(Deltajk)\n",
    "            collapse_list.append(\n",
    "                (\n",
    "                    all_state[j]\n",
    "                    * Dagger(all_state[j])\n",
    "                    * Q\n",
    "                    * all_state[k]\n",
    "                    * Dagger(all_state[k])\n",
    "                )\n",
    "            )  # emission\n",
    "            ws.append(-Deltajk)\n",
    "            collapse_list.append(\n",
    "                (\n",
    "                    all_state[k]\n",
    "                    * Dagger(all_state[k])\n",
    "                    * Q\n",
    "                    * all_state[j]\n",
    "                    * Dagger(all_state[j])\n",
    "                )\n",
    "            )  # absorption\n",
    "    collapse_list.append(Q - sum(collapse_list,zeros(N)))  # Dephasing\n",
    "    ws.append(0)\n",
    "    output = defaultdict(list)\n",
    "    for k, key in enumerate(ws):\n",
    "        output[key].append(collapse_list[k])\n",
    "    eldict = {x: sum(y, zeros(N)) for x, y in output.items()}\n",
    "    dictrem = {}\n",
    "    empty = 0*H\n",
    "    for keys, values in eldict.items():\n",
    "        if not (values == empty):\n",
    "            dictrem[keys] = values\n",
    "    return dictrem"
   ]
  },
  {
   "cell_type": "code",
   "execution_count": 11,
   "id": "6460d318",
   "metadata": {
    "editable": true,
    "slideshow": {
     "slide_type": ""
    },
    "tags": [
     "no-pdf"
    ]
   },
   "outputs": [],
   "source": [
    "jumps=jump_operators(H,energies,states,Q)"
   ]
  },
  {
   "cell_type": "code",
   "execution_count": 12,
   "id": "fbdeacfb-4beb-42c0-8e44-b83c53170c0c",
   "metadata": {
    "editable": true,
    "slideshow": {
     "slide_type": ""
    },
    "tags": [
     "hide-input"
    ]
   },
   "outputs": [
    {
     "data": {
      "text/latex": [
       "$\\displaystyle A{\\left(2 a \\right)} = \\left[\\begin{matrix}0 & b_{0} & b_{1} & 0\\\\0 & 0 & 0 & 0\\\\0 & 0 & 0 & 0\\\\0 & - \\overline{b_{1}} & \\overline{b_{0}} & 0\\end{matrix}\\right]$"
      ],
      "text/plain": [
       "Eq(A(2*a), Matrix([\n",
       "[0,             b0,            b1, 0],\n",
       "[0,              0,             0, 0],\n",
       "[0,              0,             0, 0],\n",
       "[0, -conjugate(b1), conjugate(b0), 0]]))"
      ]
     },
     "metadata": {},
     "output_type": "display_data"
    },
    {
     "data": {
      "text/latex": [
       "$\\displaystyle A{\\left(- 2 a \\right)} = \\left[\\begin{matrix}0 & 0 & 0 & 0\\\\\\overline{b_{0}} & 0 & 0 & - b_{1}\\\\\\overline{b_{1}} & 0 & 0 & b_{0}\\\\0 & 0 & 0 & 0\\end{matrix}\\right]$"
      ],
      "text/plain": [
       "Eq(A(-2*a), Matrix([\n",
       "[            0, 0, 0,   0],\n",
       "[conjugate(b0), 0, 0, -b1],\n",
       "[conjugate(b1), 0, 0,  b0],\n",
       "[            0, 0, 0,   0]]))"
      ]
     },
     "metadata": {},
     "output_type": "display_data"
    }
   ],
   "source": [
    "for key,value in jumps.items():\n",
    "    display(Eq(S(f\"A({key})\"), value, evaluate=False))"
   ]
  },
  {
   "cell_type": "markdown",
   "id": "dfcac538-9434-4da6-8160-554e9aa00b12",
   "metadata": {
    "editable": true,
    "slideshow": {
     "slide_type": ""
    },
    "tags": []
   },
   "source": [
    "### Jump operator checks\n",
    "\n",
    "The jump operators must satisfy\n",
    "\n",
    "$$[H,A(\\omega)]=-\\omega A(\\omega)$$\n",
    "$$[H,A^{\\dagger}(\\omega) A(\\omega)]=0$$\n",
    "$$\\sum_{w} A(\\omega)= A$$\n"
   ]
  },
  {
   "cell_type": "code",
   "execution_count": 13,
   "id": "8dfbad5b",
   "metadata": {
    "editable": true,
    "slideshow": {
     "slide_type": ""
    },
    "tags": [
     "no-pdf"
    ]
   },
   "outputs": [
    {
     "data": {
      "text/plain": [
       "True"
      ]
     },
     "execution_count": 13,
     "metadata": {},
     "output_type": "execute_result"
    }
   ],
   "source": [
    "comm(H,jumps[2*a])/(-2*a) == jumps[2*a] #checking jump decomposition is fine"
   ]
  },
  {
   "cell_type": "code",
   "execution_count": 14,
   "id": "46bf0622",
   "metadata": {
    "editable": true,
    "slideshow": {
     "slide_type": ""
    },
    "tags": [
     "no-pdf"
    ]
   },
   "outputs": [
    {
     "data": {
      "text/plain": [
       "True"
      ]
     },
     "execution_count": 14,
     "metadata": {},
     "output_type": "execute_result"
    }
   ],
   "source": [
    "comm(H,Dagger(jumps[2*a])*jumps[2*a]) == zeros(4)"
   ]
  },
  {
   "cell_type": "code",
   "execution_count": 15,
   "id": "6ce5fc0c",
   "metadata": {
    "editable": true,
    "slideshow": {
     "slide_type": ""
    },
    "tags": [
     "no-pdf"
    ]
   },
   "outputs": [
    {
     "data": {
      "text/plain": [
       "True"
      ]
     },
     "execution_count": 15,
     "metadata": {},
     "output_type": "execute_result"
    }
   ],
   "source": [
    "jumps[2*a]+jumps[-2*a]==Q"
   ]
  },
  {
   "cell_type": "markdown",
   "id": "20c97cc3",
   "metadata": {
    "editable": true,
    "slideshow": {
     "slide_type": ""
    },
    "tags": []
   },
   "source": [
    "### Constucting the Differential equations\n",
    "We now construct the differential equations from the GKLS form of the bloch \n",
    "Redfield generator\n",
    "\n",
    "$$\\begin{aligned}\n",
    "     \\dot{\\rho_{S}^{I}(t)}{t} &=\n",
    "    \\sum_{\\omega,\\omega',\\alpha,\\beta} \\gamma_{\\beta,\\alpha}(\\omega,\\omega')  \\left( S_{\\alpha}(\\omega')  \\rho^{I}_{S}(t) S^{\\dagger}_{\\beta}(\\omega)- \\frac{ \\{S^{\\dagger}_{\\beta}(\\omega) S_{\\alpha}(\\omega'),\\rho^{I}_{S}(t)\\}}{2} \\right) \\nonumber \\\\\n",
    "    &+i \\sum_{\\omega,\\omega',\\alpha,\\beta} S_{\\beta,\\alpha}(\\omega,\\omega') \\Big[ \\rho^{I}_{S}(t), S^{\\dagger}_{\\beta}(\\omega) S_{\\alpha}(\\omega')\\Big]\\end{aligned}$$\n",
    "\n",
    "I solve in the interaction picture generally, I did the same in my numerics so it should not be an issue (I rotate in the end).\n",
    "By neglecting Lambshift as in the numerics\n",
    "\n",
    "$$\\dot{\\rho_{S}^{I}(t)}{t} =\n",
    "    \\sum_{\\omega,\\omega',\\alpha,\\beta} \\gamma_{\\beta,\\alpha}(\\omega,\\omega')  \\left( S_{\\alpha}(\\omega')  \\rho^{I}_{S}(t) S^{\\dagger}_{\\beta}(\\omega)- \\frac{ \\{S^{\\dagger}_{\\beta}(\\omega) S_{\\alpha}(\\omega'),\\rho^{I}_{S}(t)\\}}{2} \\right)$$\n"
   ]
  },
  {
   "cell_type": "code",
   "execution_count": 16,
   "id": "a7b082cd",
   "metadata": {
    "editable": true,
    "slideshow": {
     "slide_type": ""
    },
    "tags": [
     "no-pdf"
    ]
   },
   "outputs": [
    {
     "data": {
      "text/latex": [
       "$\\displaystyle \\rho = \\left[\\begin{matrix}\\rho_{1} & \\rho_{2} & \\rho_{3} & \\rho_{4}\\\\\\overline{\\rho_{2}} & \\rho_{6} & \\overline{\\rho_{10}} & \\rho_{8}\\\\\\overline{\\rho_{3}} & \\rho_{10} & \\rho_{11} & \\rho_{12}\\\\\\overline{\\rho_{4}} & \\overline{\\rho_{8}} & \\overline{\\rho_{12}} & - \\rho_{1} - \\rho_{11} - \\rho_{6} + 1\\end{matrix}\\right]$"
      ],
      "text/plain": [
       "Eq(rho, Matrix([\n",
       "[           rho_1,            rho_2,             rho_3,                       rho_4],\n",
       "[conjugate(rho_2),            rho_6, conjugate(rho_10),                       rho_8],\n",
       "[conjugate(rho_3),           rho_10,            rho_11,                      rho_12],\n",
       "[conjugate(rho_4), conjugate(rho_8), conjugate(rho_12), -rho_1 - rho_11 - rho_6 + 1]]))"
      ]
     },
     "execution_count": 16,
     "metadata": {},
     "output_type": "execute_result"
    }
   ],
   "source": [
    "# Simply define the symbolic density operator\n",
    "rho = symbols('rho_1:17')\n",
    "rho = Matrix(\n",
    "    [rho[0: 4],\n",
    "     rho[4: 8],\n",
    "     rho[8: 12],\n",
    "     rho[12:]]).subs(\n",
    "    rho[-1],\n",
    "    1 - rho[0] - rho[5] - rho[10])\n",
    "rho=rho.subs({rho[4]: conjugate(rho[1]), rho[8]: conjugate(rho[2]),\n",
    "          rho[12]:conjugate(rho[3]),rho[6]:conjugate(rho[9]),\n",
    "          rho[13]: conjugate(rho[7]), rho[14]:conjugate(rho[11])})\n",
    "Eq(S('rho'), rho, evaluate=False)\n"
   ]
  },
  {
   "cell_type": "code",
   "execution_count": 17,
   "id": "f9fc89cd",
   "metadata": {
    "editable": true,
    "slideshow": {
     "slide_type": ""
    },
    "tags": [
     "no-pdf"
    ]
   },
   "outputs": [],
   "source": [
    "# This bit is simply the GKLS form without the appropiate coefficients\n",
    "def matrix_form(jumps, combinations,rho):\n",
    "    matrixform = {}\n",
    "    for i in combinations:\n",
    "        matrixform[i] =  (\n",
    "            jumps[i[1]]*rho *Dagger(jumps[i[0]]) -\n",
    "            (0.5 *\n",
    "                (Dagger(jumps[i[0]]) * jumps[i[1]]*rho +\n",
    "                rho*Dagger(jumps[i[0]])* jumps[i[1]])))\n",
    "    return matrixform"
   ]
  },
  {
   "cell_type": "markdown",
   "id": "4eef16cd-27d9-4e19-bfb9-843133dec8f0",
   "metadata": {
    "editable": true,
    "slideshow": {
     "slide_type": ""
    },
    "tags": []
   },
   "source": [
    "As the sum goes on $(\\omega,\\omega')$ pairs I construct all combinations"
   ]
  },
  {
   "cell_type": "code",
   "execution_count": 18,
   "id": "08677830",
   "metadata": {
    "editable": true,
    "slideshow": {
     "slide_type": ""
    },
    "tags": [
     "no-pdf"
    ]
   },
   "outputs": [
    {
     "data": {
      "text/plain": [
       "[(2*a, 2*a), (2*a, -2*a), (-2*a, 2*a), (-2*a, -2*a)]"
      ]
     },
     "execution_count": 18,
     "metadata": {},
     "output_type": "execute_result"
    }
   ],
   "source": [
    "ws = list(jumps.keys())\n",
    "combinations = list(itertools.product(ws, ws))\n",
    "combinations"
   ]
  },
  {
   "cell_type": "markdown",
   "id": "3e141f79-89f0-4ebf-95d3-e6e40fdcd553",
   "metadata": {
    "editable": true,
    "slideshow": {
     "slide_type": ""
    },
    "tags": [
     "no-pdf"
    ]
   },
   "source": [
    "I get the GKLS form of each of those combinations, as a dictionary"
   ]
  },
  {
   "cell_type": "code",
   "execution_count": 19,
   "id": "863a1625",
   "metadata": {
    "editable": true,
    "slideshow": {
     "slide_type": ""
    },
    "tags": [
     "no-pdf"
    ]
   },
   "outputs": [],
   "source": [
    "matrices=matrix_form(jumps,combinations,rho)"
   ]
  },
  {
   "cell_type": "code",
   "execution_count": 20,
   "id": "84237772-eeb1-464d-9b7b-3454239ebfdf",
   "metadata": {},
   "outputs": [
    {
     "data": {
      "text/latex": [
       "$\\displaystyle \\left[\\begin{matrix}2 b_{0} \\rho_{1} \\overline{b_{0}} + 2 b_{1} \\rho_{1} \\overline{b_{1}} & b_{0} \\rho_{2} \\overline{b_{0}} + b_{1} \\rho_{2} \\overline{b_{1}} & b_{0} \\rho_{3} \\overline{b_{0}} + b_{1} \\rho_{3} \\overline{b_{1}} & 2 b_{0} \\rho_{4} \\overline{b_{0}} + 2 b_{1} \\rho_{4} \\overline{b_{1}}\\\\b_{0} \\overline{b_{0}} \\overline{\\rho_{2}} + b_{1} \\overline{b_{1}} \\overline{\\rho_{2}} & 0 & 0 & b_{0} \\rho_{8} \\overline{b_{0}} + b_{1} \\rho_{8} \\overline{b_{1}}\\\\b_{0} \\overline{b_{0}} \\overline{\\rho_{3}} + b_{1} \\overline{b_{1}} \\overline{\\rho_{3}} & 0 & 0 & b_{0} \\rho_{12} \\overline{b_{0}} + b_{1} \\rho_{12} \\overline{b_{1}}\\\\2 b_{0} \\overline{b_{0}} \\overline{\\rho_{4}} + 2 b_{1} \\overline{b_{1}} \\overline{\\rho_{4}} & b_{0} \\overline{b_{0}} \\overline{\\rho_{8}} + b_{1} \\overline{b_{1}} \\overline{\\rho_{8}} & b_{0} \\overline{b_{0}} \\overline{\\rho_{12}} + b_{1} \\overline{b_{1}} \\overline{\\rho_{12}} & - 2 b_{0} \\rho_{1} \\overline{b_{0}} - 2 b_{0} \\rho_{11} \\overline{b_{0}} - 2 b_{0} \\rho_{6} \\overline{b_{0}} + 2 b_{0} \\overline{b_{0}} - 2 b_{1} \\rho_{1} \\overline{b_{1}} - 2 b_{1} \\rho_{11} \\overline{b_{1}} - 2 b_{1} \\rho_{6} \\overline{b_{1}} + 2 b_{1} \\overline{b_{1}}\\end{matrix}\\right]$"
      ],
      "text/plain": [
       "Matrix([\n",
       "[                      2*b0*rho_1*conjugate(b0) + 2*b1*rho_1*conjugate(b1),                       b0*rho_2*conjugate(b0) + b1*rho_2*conjugate(b1),                         b0*rho_3*conjugate(b0) + b1*rho_3*conjugate(b1),                                                                                                                                                          2*b0*rho_4*conjugate(b0) + 2*b1*rho_4*conjugate(b1)],\n",
       "[    b0*conjugate(b0)*conjugate(rho_2) + b1*conjugate(b1)*conjugate(rho_2),                                                                     0,                                                                       0,                                                                                                                                                              b0*rho_8*conjugate(b0) + b1*rho_8*conjugate(b1)],\n",
       "[    b0*conjugate(b0)*conjugate(rho_3) + b1*conjugate(b1)*conjugate(rho_3),                                                                     0,                                                                       0,                                                                                                                                                            b0*rho_12*conjugate(b0) + b1*rho_12*conjugate(b1)],\n",
       "[2*b0*conjugate(b0)*conjugate(rho_4) + 2*b1*conjugate(b1)*conjugate(rho_4), b0*conjugate(b0)*conjugate(rho_8) + b1*conjugate(b1)*conjugate(rho_8), b0*conjugate(b0)*conjugate(rho_12) + b1*conjugate(b1)*conjugate(rho_12), -2*b0*rho_1*conjugate(b0) - 2*b0*rho_11*conjugate(b0) - 2*b0*rho_6*conjugate(b0) + 2*b0*conjugate(b0) - 2*b1*rho_1*conjugate(b1) - 2*b1*rho_11*conjugate(b1) - 2*b1*rho_6*conjugate(b1) + 2*b1*conjugate(b1)]])"
      ]
     },
     "execution_count": 20,
     "metadata": {},
     "output_type": "execute_result"
    }
   ],
   "source": [
    "(jumps[(2*a)]*jumps[-2*a]*rho+ rho*jumps[(2*a)]*jumps[-2*a]).expand()"
   ]
  },
  {
   "cell_type": "markdown",
   "id": "e68353c8",
   "metadata": {
    "editable": true,
    "slideshow": {
     "slide_type": ""
    },
    "tags": []
   },
   "source": [
    "Then I construct the generator by multiplying the appropiate coefficient to each of the GKLS from matrices. Now for the coefficients we have\n",
    "\n",
    "$$\\begin{aligned}\n",
    "    \\Gamma_{\\alpha,\\beta}(\\omega,t) = \\int_{0}^{t} ds e^{i \\omega s}  \\langle B^{\\dagger}_{\\alpha}(t) B_{\\beta}^{\\dagger}(t-s) \\rangle_{B} \\end{aligned}$$\n",
    "\n",
    "\n",
    "Since I mainly care about bloch-redfield I make $t \\xrightarrow{} \\infty$ (in the integral) so\n",
    "\n",
    "$$\\begin{aligned}\n",
    "    \\Gamma_{\\alpha,\\beta}(\\omega,\\omega',t) =  \\int_{0}^{\\infty} ds e^{i \\omega s}  \\langle B(s) B(0) \\rangle_{B} = \\Gamma_{\\alpha,\\beta}(\\omega) \\end{aligned}$$\n",
    "\n",
    "Where $\\Gamma_{\\alpha,\\beta}(\\omega)$  is the power spectrum\n",
    "\n",
    "\n",
    "The decay rate in the redfield equation is given by\n",
    "\n",
    "$\\gamma(\\omega,\\omega',t)= e^{i(\\omega-\\omega')t}(\\Gamma(\\omega')+\\overline{\\Gamma(\\omega)})$\n"
   ]
  },
  {
   "cell_type": "code",
   "execution_count": 21,
   "id": "6ac9ce63",
   "metadata": {
    "editable": true,
    "slideshow": {
     "slide_type": ""
    },
    "tags": [
     "no-pdf"
    ]
   },
   "outputs": [],
   "source": [
    "lam,T,w0,w,t,gam=symbols(\"lambda T w0 w t gamma\",real=True)"
   ]
  },
  {
   "cell_type": "code",
   "execution_count": 22,
   "id": "e14071d2-a5f8-425e-a40f-cd5a562a6107",
   "metadata": {},
   "outputs": [],
   "source": [
    "gmm,gpp=symbols(\"\\\\gamma_{--} \\\\gamma_{++}\",real=True)\n",
    "gpm=symbols(\"\\\\gamma_{+-}\")\n"
   ]
  },
  {
   "cell_type": "code",
   "execution_count": 23,
   "id": "b8baf7d0",
   "metadata": {
    "editable": true,
    "slideshow": {
     "slide_type": ""
    },
    "tags": [
     "no-pdf"
    ]
   },
   "outputs": [],
   "source": [
    "def power_spectrum(s):\n",
    "    if (s[0]<0) and (s[1]<0):\n",
    "        return gmm\n",
    "    elif (s[0]>0) and (s[1]>0) :\n",
    "        return gpp\n",
    "    elif s[0]>0:\n",
    "        return gpm\n",
    "    else: \n",
    "        return conjugate(gpm)"
   ]
  },
  {
   "cell_type": "markdown",
   "id": "362ed919-fc90-4c00-84db-d734f3c48ef3",
   "metadata": {
    "editable": true,
    "slideshow": {
     "slide_type": ""
    },
    "tags": []
   },
   "source": [
    "Assuming an underdamped spectral density \n",
    "\n",
    "$$J(\\omega)=\\frac{\\lambda^2  \\gamma  \\omega}{ ((\\omega_{0}^2 - \\omega^2)^2 + \\gamma^2  \\omega^2)} $$"
   ]
  },
  {
   "cell_type": "code",
   "execution_count": 24,
   "id": "b1272dc3",
   "metadata": {
    "editable": true,
    "slideshow": {
     "slide_type": ""
    },
    "tags": [
     "no-pdf"
    ]
   },
   "outputs": [],
   "source": [
    "def generator(combinations, matrices):\n",
    "    gen = [-I*(H*rho-rho*H)+\n",
    "        power_spectrum(s) * matrices[s]\n",
    "        for s in combinations]\n",
    "    return sum(gen, zeros(4))      "
   ]
  },
  {
   "cell_type": "code",
   "execution_count": 25,
   "id": "a0de0736",
   "metadata": {
    "editable": true,
    "slideshow": {
     "slide_type": ""
    },
    "tags": [
     "no-pdf"
    ]
   },
   "outputs": [],
   "source": [
    "gene = generator(combinations,matrices)"
   ]
  },
  {
   "cell_type": "markdown",
   "id": "7aeddf40-9fc1-4ea0-aa86-2efd09af26da",
   "metadata": {
    "editable": true,
    "slideshow": {
     "slide_type": ""
    },
    "tags": []
   },
   "source": [
    "Then the generator of the dynamics is given by"
   ]
  },
  {
   "cell_type": "code",
   "execution_count": 26,
   "id": "1c706b96-e8f7-40a0-9130-109cb6522742",
   "metadata": {
    "editable": true,
    "slideshow": {
     "slide_type": ""
    },
    "tags": [
     "hide-input"
    ]
   },
   "outputs": [
    {
     "data": {
      "text/latex": [
       "$\\displaystyle G = \\left[\\begin{matrix}\\gamma_{++} \\left(\\left(b_{0} \\rho_{6} + b_{1} \\rho_{10}\\right) \\overline{b_{0}} + \\left(b_{0} \\overline{\\rho_{10}} + b_{1} \\rho_{11}\\right) \\overline{b_{1}}\\right) + \\gamma_{--} \\left(- 0.5 \\rho_{1} \\left(b_{0} \\overline{b_{0}} + b_{1} \\overline{b_{1}}\\right) - 0.5 \\left(b_{0} \\rho_{1} - \\rho_{4} \\overline{b_{1}}\\right) \\overline{b_{0}} - 0.5 \\left(b_{1} \\rho_{1} + \\rho_{4} \\overline{b_{0}}\\right) \\overline{b_{1}}\\right) & \\gamma_{++} \\left(- 0.5 b_{0} \\left(\\rho_{2} \\overline{b_{0}} + \\rho_{3} \\overline{b_{1}}\\right) + 0.5 \\left(b_{0} \\rho_{3} - b_{1} \\rho_{2}\\right) \\overline{b_{1}}\\right) - 0.5 \\gamma_{--} \\rho_{2} \\left(b_{0} \\overline{b_{0}} + b_{1} \\overline{b_{1}}\\right) + 8 i a \\rho_{2} + \\left(b_{0} \\left(b_{0} \\overline{\\rho_{2}} + b_{1} \\overline{\\rho_{3}}\\right) - \\left(b_{0} \\rho_{8} + b_{1} \\rho_{12}\\right) \\overline{b_{1}}\\right) \\overline{\\gamma_{+-}} & \\gamma_{++} \\left(- 0.5 b_{1} \\left(\\rho_{2} \\overline{b_{0}} + \\rho_{3} \\overline{b_{1}}\\right) - 0.5 \\left(b_{0} \\rho_{3} - b_{1} \\rho_{2}\\right) \\overline{b_{0}}\\right) - 0.5 \\gamma_{--} \\rho_{3} \\left(b_{0} \\overline{b_{0}} + b_{1} \\overline{b_{1}}\\right) + 8 i a \\rho_{3} + \\left(b_{1} \\left(b_{0} \\overline{\\rho_{2}} + b_{1} \\overline{\\rho_{3}}\\right) + \\left(b_{0} \\rho_{8} + b_{1} \\rho_{12}\\right) \\overline{b_{0}}\\right) \\overline{\\gamma_{+-}} & \\gamma_{++} \\left(b_{0} \\left(b_{0} \\overline{\\rho_{10}} + b_{1} \\rho_{11}\\right) - b_{1} \\left(b_{0} \\rho_{6} + b_{1} \\rho_{10}\\right)\\right) + \\gamma_{--} \\left(- 0.5 b_{0} \\left(b_{1} \\rho_{1} + \\rho_{4} \\overline{b_{0}}\\right) + 0.5 b_{1} \\left(b_{0} \\rho_{1} - \\rho_{4} \\overline{b_{1}}\\right) - 0.5 \\rho_{4} \\left(b_{0} \\overline{b_{0}} + b_{1} \\overline{b_{1}}\\right)\\right)\\\\- 0.5 \\gamma_{++} \\left(b_{0} \\overline{b_{0}} + b_{1} \\overline{b_{1}}\\right) \\overline{\\rho_{2}} + \\gamma_{+-} \\left(\\left(- b_{1} \\overline{\\rho_{12}} + \\rho_{3} \\overline{b_{0}}\\right) \\overline{b_{1}} + \\left(- b_{1} \\overline{\\rho_{8}} + \\rho_{2} \\overline{b_{0}}\\right) \\overline{b_{0}}\\right) + \\gamma_{--} \\left(- 0.5 \\left(b_{0} \\overline{\\rho_{2}} - \\rho_{8} \\overline{b_{1}}\\right) \\overline{b_{0}} - 0.5 \\left(b_{1} \\overline{\\rho_{2}} + \\rho_{8} \\overline{b_{0}}\\right) \\overline{b_{1}}\\right) - 8 i a \\overline{\\rho_{2}} & \\gamma_{++} \\left(- 0.5 b_{0} \\left(\\rho_{6} \\overline{b_{0}} + \\overline{b_{1}} \\overline{\\rho_{10}}\\right) - 0.5 \\rho_{6} \\left(b_{0} \\overline{b_{0}} + b_{1} \\overline{b_{1}}\\right) + 0.5 \\left(b_{0} \\overline{\\rho_{10}} - b_{1} \\rho_{6}\\right) \\overline{b_{1}}\\right) + \\gamma_{--} \\left(b_{0} \\left(- b_{1} \\overline{\\rho_{4}} + \\rho_{1} \\overline{b_{0}}\\right) - \\left(- b_{1} \\left(- \\rho_{1} - \\rho_{11} - \\rho_{6} + 1\\right) + \\rho_{4} \\overline{b_{0}}\\right) \\overline{b_{1}}\\right) & \\gamma_{++} \\left(- 0.5 b_{1} \\left(\\rho_{6} \\overline{b_{0}} + \\overline{b_{1}} \\overline{\\rho_{10}}\\right) - 0.5 \\left(b_{0} \\overline{b_{0}} + b_{1} \\overline{b_{1}}\\right) \\overline{\\rho_{10}} - 0.5 \\left(b_{0} \\overline{\\rho_{10}} - b_{1} \\rho_{6}\\right) \\overline{b_{0}}\\right) + \\gamma_{--} \\left(b_{1} \\left(- b_{1} \\overline{\\rho_{4}} + \\rho_{1} \\overline{b_{0}}\\right) + \\left(- b_{1} \\left(- \\rho_{1} - \\rho_{11} - \\rho_{6} + 1\\right) + \\rho_{4} \\overline{b_{0}}\\right) \\overline{b_{0}}\\right) & - 0.5 \\gamma_{++} \\rho_{8} \\left(b_{0} \\overline{b_{0}} + b_{1} \\overline{b_{1}}\\right) + \\gamma_{+-} \\left(b_{0} \\left(- b_{1} \\overline{\\rho_{12}} + \\rho_{3} \\overline{b_{0}}\\right) - b_{1} \\left(- b_{1} \\overline{\\rho_{8}} + \\rho_{2} \\overline{b_{0}}\\right)\\right) + \\gamma_{--} \\left(- 0.5 b_{0} \\left(b_{1} \\overline{\\rho_{2}} + \\rho_{8} \\overline{b_{0}}\\right) + 0.5 b_{1} \\left(b_{0} \\overline{\\rho_{2}} - \\rho_{8} \\overline{b_{1}}\\right)\\right) - 8 i a \\rho_{8}\\\\- 0.5 \\gamma_{++} \\left(b_{0} \\overline{b_{0}} + b_{1} \\overline{b_{1}}\\right) \\overline{\\rho_{3}} + \\gamma_{+-} \\left(\\left(b_{0} \\overline{\\rho_{12}} + \\rho_{3} \\overline{b_{1}}\\right) \\overline{b_{1}} + \\left(b_{0} \\overline{\\rho_{8}} + \\rho_{2} \\overline{b_{1}}\\right) \\overline{b_{0}}\\right) + \\gamma_{--} \\left(- 0.5 \\left(b_{0} \\overline{\\rho_{3}} - \\rho_{12} \\overline{b_{1}}\\right) \\overline{b_{0}} - 0.5 \\left(b_{1} \\overline{\\rho_{3}} + \\rho_{12} \\overline{b_{0}}\\right) \\overline{b_{1}}\\right) - 8 i a \\overline{\\rho_{3}} & \\gamma_{++} \\left(- 0.5 b_{0} \\left(\\rho_{10} \\overline{b_{0}} + \\rho_{11} \\overline{b_{1}}\\right) - 0.5 \\rho_{10} \\left(b_{0} \\overline{b_{0}} + b_{1} \\overline{b_{1}}\\right) + 0.5 \\left(b_{0} \\rho_{11} - b_{1} \\rho_{10}\\right) \\overline{b_{1}}\\right) + \\gamma_{--} \\left(b_{0} \\left(b_{0} \\overline{\\rho_{4}} + \\rho_{1} \\overline{b_{1}}\\right) - \\left(b_{0} \\left(- \\rho_{1} - \\rho_{11} - \\rho_{6} + 1\\right) + \\rho_{4} \\overline{b_{1}}\\right) \\overline{b_{1}}\\right) & \\gamma_{++} \\left(- 0.5 b_{1} \\left(\\rho_{10} \\overline{b_{0}} + \\rho_{11} \\overline{b_{1}}\\right) - 0.5 \\rho_{11} \\left(b_{0} \\overline{b_{0}} + b_{1} \\overline{b_{1}}\\right) - 0.5 \\left(b_{0} \\rho_{11} - b_{1} \\rho_{10}\\right) \\overline{b_{0}}\\right) + \\gamma_{--} \\left(b_{1} \\left(b_{0} \\overline{\\rho_{4}} + \\rho_{1} \\overline{b_{1}}\\right) + \\left(b_{0} \\left(- \\rho_{1} - \\rho_{11} - \\rho_{6} + 1\\right) + \\rho_{4} \\overline{b_{1}}\\right) \\overline{b_{0}}\\right) & - 0.5 \\gamma_{++} \\rho_{12} \\left(b_{0} \\overline{b_{0}} + b_{1} \\overline{b_{1}}\\right) + \\gamma_{+-} \\left(b_{0} \\left(b_{0} \\overline{\\rho_{12}} + \\rho_{3} \\overline{b_{1}}\\right) - b_{1} \\left(b_{0} \\overline{\\rho_{8}} + \\rho_{2} \\overline{b_{1}}\\right)\\right) + \\gamma_{--} \\left(- 0.5 b_{0} \\left(b_{1} \\overline{\\rho_{3}} + \\rho_{12} \\overline{b_{0}}\\right) + 0.5 b_{1} \\left(b_{0} \\overline{\\rho_{3}} - \\rho_{12} \\overline{b_{1}}\\right)\\right) - 8 i a \\rho_{12}\\\\\\gamma_{++} \\left(\\left(\\rho_{10} \\overline{b_{0}} - \\rho_{6} \\overline{b_{1}}\\right) \\overline{b_{0}} + \\left(\\rho_{11} \\overline{b_{0}} - \\overline{b_{1}} \\overline{\\rho_{10}}\\right) \\overline{b_{1}}\\right) + \\gamma_{--} \\left(- 0.5 \\left(b_{0} \\overline{b_{0}} + b_{1} \\overline{b_{1}}\\right) \\overline{\\rho_{4}} - 0.5 \\left(b_{0} \\overline{\\rho_{4}} - \\left(- \\rho_{1} - \\rho_{11} - \\rho_{6} + 1\\right) \\overline{b_{1}}\\right) \\overline{b_{0}} - 0.5 \\left(b_{1} \\overline{\\rho_{4}} + \\left(- \\rho_{1} - \\rho_{11} - \\rho_{6} + 1\\right) \\overline{b_{0}}\\right) \\overline{b_{1}}\\right) & \\gamma_{++} \\left(- 0.5 b_{0} \\left(\\overline{b_{0}} \\overline{\\rho_{8}} + \\overline{b_{1}} \\overline{\\rho_{12}}\\right) + 0.5 \\left(b_{0} \\overline{\\rho_{12}} - b_{1} \\overline{\\rho_{8}}\\right) \\overline{b_{1}}\\right) - 0.5 \\gamma_{--} \\left(b_{0} \\overline{b_{0}} + b_{1} \\overline{b_{1}}\\right) \\overline{\\rho_{8}} + 8 i a \\overline{\\rho_{8}} + \\left(b_{0} \\left(\\overline{b_{0}} \\overline{\\rho_{3}} - \\overline{b_{1}} \\overline{\\rho_{2}}\\right) - \\left(\\rho_{12} \\overline{b_{0}} - \\rho_{8} \\overline{b_{1}}\\right) \\overline{b_{1}}\\right) \\overline{\\gamma_{+-}} & \\gamma_{++} \\left(- 0.5 b_{1} \\left(\\overline{b_{0}} \\overline{\\rho_{8}} + \\overline{b_{1}} \\overline{\\rho_{12}}\\right) - 0.5 \\left(b_{0} \\overline{\\rho_{12}} - b_{1} \\overline{\\rho_{8}}\\right) \\overline{b_{0}}\\right) - 0.5 \\gamma_{--} \\left(b_{0} \\overline{b_{0}} + b_{1} \\overline{b_{1}}\\right) \\overline{\\rho_{12}} + 8 i a \\overline{\\rho_{12}} + \\left(b_{1} \\left(\\overline{b_{0}} \\overline{\\rho_{3}} - \\overline{b_{1}} \\overline{\\rho_{2}}\\right) + \\left(\\rho_{12} \\overline{b_{0}} - \\rho_{8} \\overline{b_{1}}\\right) \\overline{b_{0}}\\right) \\overline{\\gamma_{+-}} & \\gamma_{++} \\left(b_{0} \\left(\\rho_{11} \\overline{b_{0}} - \\overline{b_{1}} \\overline{\\rho_{10}}\\right) - b_{1} \\left(\\rho_{10} \\overline{b_{0}} - \\rho_{6} \\overline{b_{1}}\\right)\\right) + \\gamma_{--} \\left(- 0.5 b_{0} \\left(b_{1} \\overline{\\rho_{4}} + \\left(- \\rho_{1} - \\rho_{11} - \\rho_{6} + 1\\right) \\overline{b_{0}}\\right) + 0.5 b_{1} \\left(b_{0} \\overline{\\rho_{4}} - \\left(- \\rho_{1} - \\rho_{11} - \\rho_{6} + 1\\right) \\overline{b_{1}}\\right) - 0.5 \\left(b_{0} \\overline{b_{0}} + b_{1} \\overline{b_{1}}\\right) \\left(- \\rho_{1} - \\rho_{11} - \\rho_{6} + 1\\right)\\right)\\end{matrix}\\right]$"
      ],
      "text/plain": [
       "Eq(G, Matrix([\n",
       "[                                                                                                                             \\gamma_{++}*((b0*rho_6 + b1*rho_10)*conjugate(b0) + (b0*conjugate(rho_10) + b1*rho_11)*conjugate(b1)) + \\gamma_{--}*(-0.5*rho_1*(b0*conjugate(b0) + b1*conjugate(b1)) - 0.5*(b0*rho_1 - rho_4*conjugate(b1))*conjugate(b0) - 0.5*(b1*rho_1 + rho_4*conjugate(b0))*conjugate(b1)),                                                                                                                 \\gamma_{++}*(-0.5*b0*(rho_2*conjugate(b0) + rho_3*conjugate(b1)) + 0.5*(b0*rho_3 - b1*rho_2)*conjugate(b1)) - 0.5*\\gamma_{--}*rho_2*(b0*conjugate(b0) + b1*conjugate(b1)) + 8*I*a*rho_2 + (b0*(b0*conjugate(rho_2) + b1*conjugate(rho_3)) - (b0*rho_8 + b1*rho_12)*conjugate(b1))*conjugate(\\gamma_{+-}),                                                                                                                   \\gamma_{++}*(-0.5*b1*(rho_2*conjugate(b0) + rho_3*conjugate(b1)) - 0.5*(b0*rho_3 - b1*rho_2)*conjugate(b0)) - 0.5*\\gamma_{--}*rho_3*(b0*conjugate(b0) + b1*conjugate(b1)) + 8*I*a*rho_3 + (b1*(b0*conjugate(rho_2) + b1*conjugate(rho_3)) + (b0*rho_8 + b1*rho_12)*conjugate(b0))*conjugate(\\gamma_{+-}),                                                                                                                                           \\gamma_{++}*(b0*(b0*conjugate(rho_10) + b1*rho_11) - b1*(b0*rho_6 + b1*rho_10)) + \\gamma_{--}*(-0.5*b0*(b1*rho_1 + rho_4*conjugate(b0)) + 0.5*b1*(b0*rho_1 - rho_4*conjugate(b1)) - 0.5*rho_4*(b0*conjugate(b0) + b1*conjugate(b1)))],\n",
       "[                     -0.5*\\gamma_{++}*(b0*conjugate(b0) + b1*conjugate(b1))*conjugate(rho_2) + \\gamma_{+-}*((-b1*conjugate(rho_12) + rho_3*conjugate(b0))*conjugate(b1) + (-b1*conjugate(rho_8) + rho_2*conjugate(b0))*conjugate(b0)) + \\gamma_{--}*(-0.5*(b0*conjugate(rho_2) - rho_8*conjugate(b1))*conjugate(b0) - 0.5*(b1*conjugate(rho_2) + rho_8*conjugate(b0))*conjugate(b1)) - 8*I*a*conjugate(rho_2),                                                                                          \\gamma_{++}*(-0.5*b0*(rho_6*conjugate(b0) + conjugate(b1)*conjugate(rho_10)) - 0.5*rho_6*(b0*conjugate(b0) + b1*conjugate(b1)) + 0.5*(b0*conjugate(rho_10) - b1*rho_6)*conjugate(b1)) + \\gamma_{--}*(b0*(-b1*conjugate(rho_4) + rho_1*conjugate(b0)) - (-b1*(-rho_1 - rho_11 - rho_6 + 1) + rho_4*conjugate(b0))*conjugate(b1)),                                                                                \\gamma_{++}*(-0.5*b1*(rho_6*conjugate(b0) + conjugate(b1)*conjugate(rho_10)) - 0.5*(b0*conjugate(b0) + b1*conjugate(b1))*conjugate(rho_10) - 0.5*(b0*conjugate(rho_10) - b1*rho_6)*conjugate(b0)) + \\gamma_{--}*(b1*(-b1*conjugate(rho_4) + rho_1*conjugate(b0)) + (-b1*(-rho_1 - rho_11 - rho_6 + 1) + rho_4*conjugate(b0))*conjugate(b0)),                                                         -0.5*\\gamma_{++}*rho_8*(b0*conjugate(b0) + b1*conjugate(b1)) + \\gamma_{+-}*(b0*(-b1*conjugate(rho_12) + rho_3*conjugate(b0)) - b1*(-b1*conjugate(rho_8) + rho_2*conjugate(b0))) + \\gamma_{--}*(-0.5*b0*(b1*conjugate(rho_2) + rho_8*conjugate(b0)) + 0.5*b1*(b0*conjugate(rho_2) - rho_8*conjugate(b1))) - 8*I*a*rho_8],\n",
       "[                     -0.5*\\gamma_{++}*(b0*conjugate(b0) + b1*conjugate(b1))*conjugate(rho_3) + \\gamma_{+-}*((b0*conjugate(rho_12) + rho_3*conjugate(b1))*conjugate(b1) + (b0*conjugate(rho_8) + rho_2*conjugate(b1))*conjugate(b0)) + \\gamma_{--}*(-0.5*(b0*conjugate(rho_3) - rho_12*conjugate(b1))*conjugate(b0) - 0.5*(b1*conjugate(rho_3) + rho_12*conjugate(b0))*conjugate(b1)) - 8*I*a*conjugate(rho_3),                                                                                                               \\gamma_{++}*(-0.5*b0*(rho_10*conjugate(b0) + rho_11*conjugate(b1)) - 0.5*rho_10*(b0*conjugate(b0) + b1*conjugate(b1)) + 0.5*(b0*rho_11 - b1*rho_10)*conjugate(b1)) + \\gamma_{--}*(b0*(b0*conjugate(rho_4) + rho_1*conjugate(b1)) - (b0*(-rho_1 - rho_11 - rho_6 + 1) + rho_4*conjugate(b1))*conjugate(b1)),                                                                                                                 \\gamma_{++}*(-0.5*b1*(rho_10*conjugate(b0) + rho_11*conjugate(b1)) - 0.5*rho_11*(b0*conjugate(b0) + b1*conjugate(b1)) - 0.5*(b0*rho_11 - b1*rho_10)*conjugate(b0)) + \\gamma_{--}*(b1*(b0*conjugate(rho_4) + rho_1*conjugate(b1)) + (b0*(-rho_1 - rho_11 - rho_6 + 1) + rho_4*conjugate(b1))*conjugate(b0)),                                                       -0.5*\\gamma_{++}*rho_12*(b0*conjugate(b0) + b1*conjugate(b1)) + \\gamma_{+-}*(b0*(b0*conjugate(rho_12) + rho_3*conjugate(b1)) - b1*(b0*conjugate(rho_8) + rho_2*conjugate(b1))) + \\gamma_{--}*(-0.5*b0*(b1*conjugate(rho_3) + rho_12*conjugate(b0)) + 0.5*b1*(b0*conjugate(rho_3) - rho_12*conjugate(b1))) - 8*I*a*rho_12],\n",
       "[\\gamma_{++}*((rho_10*conjugate(b0) - rho_6*conjugate(b1))*conjugate(b0) + (rho_11*conjugate(b0) - conjugate(b1)*conjugate(rho_10))*conjugate(b1)) + \\gamma_{--}*(-0.5*(b0*conjugate(b0) + b1*conjugate(b1))*conjugate(rho_4) - 0.5*(b0*conjugate(rho_4) - (-rho_1 - rho_11 - rho_6 + 1)*conjugate(b1))*conjugate(b0) - 0.5*(b1*conjugate(rho_4) + (-rho_1 - rho_11 - rho_6 + 1)*conjugate(b0))*conjugate(b1)), \\gamma_{++}*(-0.5*b0*(conjugate(b0)*conjugate(rho_8) + conjugate(b1)*conjugate(rho_12)) + 0.5*(b0*conjugate(rho_12) - b1*conjugate(rho_8))*conjugate(b1)) - 0.5*\\gamma_{--}*(b0*conjugate(b0) + b1*conjugate(b1))*conjugate(rho_8) + 8*I*a*conjugate(rho_8) + (b0*(conjugate(b0)*conjugate(rho_3) - conjugate(b1)*conjugate(rho_2)) - (rho_12*conjugate(b0) - rho_8*conjugate(b1))*conjugate(b1))*conjugate(\\gamma_{+-}), \\gamma_{++}*(-0.5*b1*(conjugate(b0)*conjugate(rho_8) + conjugate(b1)*conjugate(rho_12)) - 0.5*(b0*conjugate(rho_12) - b1*conjugate(rho_8))*conjugate(b0)) - 0.5*\\gamma_{--}*(b0*conjugate(b0) + b1*conjugate(b1))*conjugate(rho_12) + 8*I*a*conjugate(rho_12) + (b1*(conjugate(b0)*conjugate(rho_3) - conjugate(b1)*conjugate(rho_2)) + (rho_12*conjugate(b0) - rho_8*conjugate(b1))*conjugate(b0))*conjugate(\\gamma_{+-}), \\gamma_{++}*(b0*(rho_11*conjugate(b0) - conjugate(b1)*conjugate(rho_10)) - b1*(rho_10*conjugate(b0) - rho_6*conjugate(b1))) + \\gamma_{--}*(-0.5*b0*(b1*conjugate(rho_4) + (-rho_1 - rho_11 - rho_6 + 1)*conjugate(b0)) + 0.5*b1*(b0*conjugate(rho_4) - (-rho_1 - rho_11 - rho_6 + 1)*conjugate(b1)) - 0.5*(b0*conjugate(b0) + b1*conjugate(b1))*(-rho_1 - rho_11 - rho_6 + 1))]]))"
      ]
     },
     "execution_count": 26,
     "metadata": {},
     "output_type": "execute_result"
    }
   ],
   "source": [
    "Eq(S('G'), gene, evaluate=False)"
   ]
  },
  {
   "cell_type": "markdown",
   "id": "ac5e32b7-5ef2-436f-92a1-0266f0919115",
   "metadata": {
    "editable": true,
    "slideshow": {
     "slide_type": ""
    },
    "tags": []
   },
   "source": [
    "Next we simply vectorize the density matrix and construct the system of ODES"
   ]
  },
  {
   "cell_type": "code",
   "execution_count": 27,
   "id": "66bfddf6-9000-4cb3-8c0c-8b5cb0264ca2",
   "metadata": {
    "editable": true,
    "slideshow": {
     "slide_type": ""
    },
    "tags": [
     "no-pdf"
    ]
   },
   "outputs": [],
   "source": [
    "mgene = Matrix(list(gene))\n",
    "rhom=Matrix(list(rho))"
   ]
  },
  {
   "cell_type": "code",
   "execution_count": 28,
   "id": "ccf41e97-d165-4f1a-8105-816312a19b0a",
   "metadata": {
    "editable": true,
    "slideshow": {
     "slide_type": ""
    },
    "tags": [
     "no-pdf"
    ]
   },
   "outputs": [],
   "source": [
    "rhof = symbols('rho_1:17',cls=Function) # This is necessary to solve the differential equation\n",
    "to_funcs={i:rhof[k](t) for k,i in enumerate(rhom)} #could have done so from the beginning though"
   ]
  },
  {
   "cell_type": "code",
   "execution_count": 29,
   "id": "e114146a-6bfa-458a-9dd1-59f6105ff12b",
   "metadata": {
    "editable": true,
    "slideshow": {
     "slide_type": ""
    },
    "tags": [
     "no-pdf"
    ]
   },
   "outputs": [],
   "source": [
    "mgene=mgene.subs(to_funcs) #substitute symbols for a function\n",
    "mrhof=rhom.subs(to_funcs)"
   ]
  },
  {
   "cell_type": "code",
   "execution_count": 30,
   "id": "e5bb70a6-3dd2-4c57-affd-dd0be429a09a",
   "metadata": {
    "editable": true,
    "slideshow": {
     "slide_type": ""
    },
    "tags": [
     "no-pdf"
    ]
   },
   "outputs": [],
   "source": [
    "eqs = [Eq(mrhof[k].diff(t), mgene[k].expand().subs(b[0]*conjugate(b[0]),abs(b[0])**2).subs(b[1]*conjugate(b[1]),abs(b[1])**2).collect(0.5).nsimplify().collect(gpp).collect(gpm).collect(gmm).collect(conjugate(gpm))) for k in range(16)]"
   ]
  },
  {
   "cell_type": "code",
   "execution_count": 31,
   "id": "5b850e3e-b4f3-4178-99e9-5251ad28b89c",
   "metadata": {
    "editable": true,
    "slideshow": {
     "slide_type": ""
    },
    "tags": [
     "hide-input"
    ]
   },
   "outputs": [
    {
     "data": {
      "text/latex": [
       "$\\displaystyle \\frac{d}{d t} \\rho_{1}{\\left(t \\right)} = \\gamma_{++} \\left(b_{0} \\rho_{7}{\\left(t \\right)} \\overline{b_{1}} + b_{1} \\rho_{10}{\\left(t \\right)} \\overline{b_{0}} + \\rho_{11}{\\left(t \\right)} \\left|{b_{1}}\\right|^{2} + \\rho_{6}{\\left(t \\right)} \\left|{b_{0}}\\right|^{2}\\right) + \\gamma_{--} \\left(- \\rho_{1}{\\left(t \\right)} \\left|{b_{0}}\\right|^{2} - \\rho_{1}{\\left(t \\right)} \\left|{b_{1}}\\right|^{2}\\right)$"
      ],
      "text/plain": [
       "Eq(Derivative(rho_1(t), t), \\gamma_{++}*(b0*rho_7(t)*conjugate(b1) + b1*rho_10(t)*conjugate(b0) + rho_11(t)*Abs(b1)**2 + rho_6(t)*Abs(b0)**2) + \\gamma_{--}*(-rho_1(t)*Abs(b0)**2 - rho_1(t)*Abs(b1)**2))"
      ]
     },
     "metadata": {},
     "output_type": "display_data"
    },
    {
     "data": {
      "text/latex": [
       "$\\displaystyle \\frac{d}{d t} \\rho_{2}{\\left(t \\right)} = \\gamma_{++} \\left(- \\frac{\\rho_{2}{\\left(t \\right)} \\left|{b_{0}}\\right|^{2}}{2} - \\frac{\\rho_{2}{\\left(t \\right)} \\left|{b_{1}}\\right|^{2}}{2}\\right) + \\gamma_{--} \\left(- \\frac{\\rho_{2}{\\left(t \\right)} \\left|{b_{0}}\\right|^{2}}{2} - \\frac{\\rho_{2}{\\left(t \\right)} \\left|{b_{1}}\\right|^{2}}{2}\\right) + 8 i a \\rho_{2}{\\left(t \\right)} + \\left(b_{0}^{2} \\rho_{5}{\\left(t \\right)} + b_{0} b_{1} \\rho_{9}{\\left(t \\right)} - b_{0} \\rho_{8}{\\left(t \\right)} \\overline{b_{1}} - \\rho_{12}{\\left(t \\right)} \\left|{b_{1}}\\right|^{2}\\right) \\overline{\\gamma_{+-}}$"
      ],
      "text/plain": [
       "Eq(Derivative(rho_2(t), t), \\gamma_{++}*(-rho_2(t)*Abs(b0)**2/2 - rho_2(t)*Abs(b1)**2/2) + \\gamma_{--}*(-rho_2(t)*Abs(b0)**2/2 - rho_2(t)*Abs(b1)**2/2) + 8*I*a*rho_2(t) + (b0**2*rho_5(t) + b0*b1*rho_9(t) - b0*rho_8(t)*conjugate(b1) - rho_12(t)*Abs(b1)**2)*conjugate(\\gamma_{+-}))"
      ]
     },
     "metadata": {},
     "output_type": "display_data"
    },
    {
     "data": {
      "text/latex": [
       "$\\displaystyle \\frac{d}{d t} \\rho_{3}{\\left(t \\right)} = \\gamma_{++} \\left(- \\frac{\\rho_{3}{\\left(t \\right)} \\left|{b_{0}}\\right|^{2}}{2} - \\frac{\\rho_{3}{\\left(t \\right)} \\left|{b_{1}}\\right|^{2}}{2}\\right) + \\gamma_{--} \\left(- \\frac{\\rho_{3}{\\left(t \\right)} \\left|{b_{0}}\\right|^{2}}{2} - \\frac{\\rho_{3}{\\left(t \\right)} \\left|{b_{1}}\\right|^{2}}{2}\\right) + 8 i a \\rho_{3}{\\left(t \\right)} + \\left(b_{0} b_{1} \\rho_{5}{\\left(t \\right)} + b_{1}^{2} \\rho_{9}{\\left(t \\right)} + b_{1} \\rho_{12}{\\left(t \\right)} \\overline{b_{0}} + \\rho_{8}{\\left(t \\right)} \\left|{b_{0}}\\right|^{2}\\right) \\overline{\\gamma_{+-}}$"
      ],
      "text/plain": [
       "Eq(Derivative(rho_3(t), t), \\gamma_{++}*(-rho_3(t)*Abs(b0)**2/2 - rho_3(t)*Abs(b1)**2/2) + \\gamma_{--}*(-rho_3(t)*Abs(b0)**2/2 - rho_3(t)*Abs(b1)**2/2) + 8*I*a*rho_3(t) + (b0*b1*rho_5(t) + b1**2*rho_9(t) + b1*rho_12(t)*conjugate(b0) + rho_8(t)*Abs(b0)**2)*conjugate(\\gamma_{+-}))"
      ]
     },
     "metadata": {},
     "output_type": "display_data"
    },
    {
     "data": {
      "text/latex": [
       "$\\displaystyle \\frac{d}{d t} \\rho_{4}{\\left(t \\right)} = \\gamma_{++} \\left(b_{0}^{2} \\rho_{7}{\\left(t \\right)} + b_{0} b_{1} \\rho_{11}{\\left(t \\right)} - b_{0} b_{1} \\rho_{6}{\\left(t \\right)} - b_{1}^{2} \\rho_{10}{\\left(t \\right)}\\right) + \\gamma_{--} \\left(- \\rho_{4}{\\left(t \\right)} \\left|{b_{0}}\\right|^{2} - \\rho_{4}{\\left(t \\right)} \\left|{b_{1}}\\right|^{2}\\right)$"
      ],
      "text/plain": [
       "Eq(Derivative(rho_4(t), t), \\gamma_{++}*(b0**2*rho_7(t) + b0*b1*rho_11(t) - b0*b1*rho_6(t) - b1**2*rho_10(t)) + \\gamma_{--}*(-rho_4(t)*Abs(b0)**2 - rho_4(t)*Abs(b1)**2))"
      ]
     },
     "metadata": {},
     "output_type": "display_data"
    },
    {
     "data": {
      "text/latex": [
       "$\\displaystyle \\frac{d}{d t} \\rho_{5}{\\left(t \\right)} = \\gamma_{++} \\left(- \\frac{\\rho_{5}{\\left(t \\right)} \\left|{b_{0}}\\right|^{2}}{2} - \\frac{\\rho_{5}{\\left(t \\right)} \\left|{b_{1}}\\right|^{2}}{2}\\right) + \\gamma_{+-} \\left(- b_{1} \\rho_{14}{\\left(t \\right)} \\overline{b_{0}} - \\rho_{15}{\\left(t \\right)} \\left|{b_{1}}\\right|^{2} + \\rho_{2}{\\left(t \\right)} \\overline{b_{0}}^{2} + \\rho_{3}{\\left(t \\right)} \\overline{b_{0}} \\overline{b_{1}}\\right) + \\gamma_{--} \\left(- \\frac{\\rho_{5}{\\left(t \\right)} \\left|{b_{0}}\\right|^{2}}{2} - \\frac{\\rho_{5}{\\left(t \\right)} \\left|{b_{1}}\\right|^{2}}{2}\\right) - 8 i a \\rho_{5}{\\left(t \\right)}$"
      ],
      "text/plain": [
       "Eq(Derivative(rho_5(t), t), \\gamma_{++}*(-rho_5(t)*Abs(b0)**2/2 - rho_5(t)*Abs(b1)**2/2) + \\gamma_{+-}*(-b1*rho_14(t)*conjugate(b0) - rho_15(t)*Abs(b1)**2 + rho_2(t)*conjugate(b0)**2 + rho_3(t)*conjugate(b0)*conjugate(b1)) + \\gamma_{--}*(-rho_5(t)*Abs(b0)**2/2 - rho_5(t)*Abs(b1)**2/2) - 8*I*a*rho_5(t))"
      ]
     },
     "metadata": {},
     "output_type": "display_data"
    },
    {
     "data": {
      "text/latex": [
       "$\\displaystyle \\frac{d}{d t} \\rho_{6}{\\left(t \\right)} = \\gamma_{++} \\left(- \\rho_{6}{\\left(t \\right)} \\left|{b_{0}}\\right|^{2} - \\rho_{6}{\\left(t \\right)} \\left|{b_{1}}\\right|^{2}\\right) + \\gamma_{--} \\left(- b_{0} b_{1} \\rho_{13}{\\left(t \\right)} + \\rho_{1}{\\left(t \\right)} \\left|{b_{0}}\\right|^{2} + \\rho_{16}{\\left(t \\right)} \\left|{b_{1}}\\right|^{2} - \\rho_{4}{\\left(t \\right)} \\overline{b_{0}} \\overline{b_{1}}\\right)$"
      ],
      "text/plain": [
       "Eq(Derivative(rho_6(t), t), \\gamma_{++}*(-rho_6(t)*Abs(b0)**2 - rho_6(t)*Abs(b1)**2) + \\gamma_{--}*(-b0*b1*rho_13(t) + rho_1(t)*Abs(b0)**2 + rho_16(t)*Abs(b1)**2 - rho_4(t)*conjugate(b0)*conjugate(b1)))"
      ]
     },
     "metadata": {},
     "output_type": "display_data"
    },
    {
     "data": {
      "text/latex": [
       "$\\displaystyle \\frac{d}{d t} \\rho_{7}{\\left(t \\right)} = \\gamma_{++} \\left(- \\rho_{7}{\\left(t \\right)} \\left|{b_{0}}\\right|^{2} - \\rho_{7}{\\left(t \\right)} \\left|{b_{1}}\\right|^{2}\\right) + \\gamma_{--} \\left(- b_{1}^{2} \\rho_{13}{\\left(t \\right)} + b_{1} \\rho_{1}{\\left(t \\right)} \\overline{b_{0}} - b_{1} \\rho_{16}{\\left(t \\right)} \\overline{b_{0}} + \\rho_{4}{\\left(t \\right)} \\overline{b_{0}}^{2}\\right)$"
      ],
      "text/plain": [
       "Eq(Derivative(rho_7(t), t), \\gamma_{++}*(-rho_7(t)*Abs(b0)**2 - rho_7(t)*Abs(b1)**2) + \\gamma_{--}*(-b1**2*rho_13(t) + b1*rho_1(t)*conjugate(b0) - b1*rho_16(t)*conjugate(b0) + rho_4(t)*conjugate(b0)**2))"
      ]
     },
     "metadata": {},
     "output_type": "display_data"
    },
    {
     "data": {
      "text/latex": [
       "$\\displaystyle \\frac{d}{d t} \\rho_{8}{\\left(t \\right)} = \\gamma_{++} \\left(- \\frac{\\rho_{8}{\\left(t \\right)} \\left|{b_{0}}\\right|^{2}}{2} - \\frac{\\rho_{8}{\\left(t \\right)} \\left|{b_{1}}\\right|^{2}}{2}\\right) + \\gamma_{+-} \\left(- b_{0} b_{1} \\rho_{15}{\\left(t \\right)} + b_{1}^{2} \\rho_{14}{\\left(t \\right)} - b_{1} \\rho_{2}{\\left(t \\right)} \\overline{b_{0}} + \\rho_{3}{\\left(t \\right)} \\left|{b_{0}}\\right|^{2}\\right) + \\gamma_{--} \\left(- \\frac{\\rho_{8}{\\left(t \\right)} \\left|{b_{0}}\\right|^{2}}{2} - \\frac{\\rho_{8}{\\left(t \\right)} \\left|{b_{1}}\\right|^{2}}{2}\\right) - 8 i a \\rho_{8}{\\left(t \\right)}$"
      ],
      "text/plain": [
       "Eq(Derivative(rho_8(t), t), \\gamma_{++}*(-rho_8(t)*Abs(b0)**2/2 - rho_8(t)*Abs(b1)**2/2) + \\gamma_{+-}*(-b0*b1*rho_15(t) + b1**2*rho_14(t) - b1*rho_2(t)*conjugate(b0) + rho_3(t)*Abs(b0)**2) + \\gamma_{--}*(-rho_8(t)*Abs(b0)**2/2 - rho_8(t)*Abs(b1)**2/2) - 8*I*a*rho_8(t))"
      ]
     },
     "metadata": {},
     "output_type": "display_data"
    },
    {
     "data": {
      "text/latex": [
       "$\\displaystyle \\frac{d}{d t} \\rho_{9}{\\left(t \\right)} = \\gamma_{++} \\left(- \\frac{\\rho_{9}{\\left(t \\right)} \\left|{b_{0}}\\right|^{2}}{2} - \\frac{\\rho_{9}{\\left(t \\right)} \\left|{b_{1}}\\right|^{2}}{2}\\right) + \\gamma_{+-} \\left(b_{0} \\rho_{15}{\\left(t \\right)} \\overline{b_{1}} + \\rho_{14}{\\left(t \\right)} \\left|{b_{0}}\\right|^{2} + \\rho_{2}{\\left(t \\right)} \\overline{b_{0}} \\overline{b_{1}} + \\rho_{3}{\\left(t \\right)} \\overline{b_{1}}^{2}\\right) + \\gamma_{--} \\left(- \\frac{\\rho_{9}{\\left(t \\right)} \\left|{b_{0}}\\right|^{2}}{2} - \\frac{\\rho_{9}{\\left(t \\right)} \\left|{b_{1}}\\right|^{2}}{2}\\right) - 8 i a \\rho_{9}{\\left(t \\right)}$"
      ],
      "text/plain": [
       "Eq(Derivative(rho_9(t), t), \\gamma_{++}*(-rho_9(t)*Abs(b0)**2/2 - rho_9(t)*Abs(b1)**2/2) + \\gamma_{+-}*(b0*rho_15(t)*conjugate(b1) + rho_14(t)*Abs(b0)**2 + rho_2(t)*conjugate(b0)*conjugate(b1) + rho_3(t)*conjugate(b1)**2) + \\gamma_{--}*(-rho_9(t)*Abs(b0)**2/2 - rho_9(t)*Abs(b1)**2/2) - 8*I*a*rho_9(t))"
      ]
     },
     "metadata": {},
     "output_type": "display_data"
    },
    {
     "data": {
      "text/latex": [
       "$\\displaystyle \\frac{d}{d t} \\rho_{10}{\\left(t \\right)} = \\gamma_{++} \\left(- \\rho_{10}{\\left(t \\right)} \\left|{b_{0}}\\right|^{2} - \\rho_{10}{\\left(t \\right)} \\left|{b_{1}}\\right|^{2}\\right) + \\gamma_{--} \\left(b_{0}^{2} \\rho_{13}{\\left(t \\right)} + b_{0} \\rho_{1}{\\left(t \\right)} \\overline{b_{1}} - b_{0} \\rho_{16}{\\left(t \\right)} \\overline{b_{1}} - \\rho_{4}{\\left(t \\right)} \\overline{b_{1}}^{2}\\right)$"
      ],
      "text/plain": [
       "Eq(Derivative(rho_10(t), t), \\gamma_{++}*(-rho_10(t)*Abs(b0)**2 - rho_10(t)*Abs(b1)**2) + \\gamma_{--}*(b0**2*rho_13(t) + b0*rho_1(t)*conjugate(b1) - b0*rho_16(t)*conjugate(b1) - rho_4(t)*conjugate(b1)**2))"
      ]
     },
     "metadata": {},
     "output_type": "display_data"
    },
    {
     "data": {
      "text/latex": [
       "$\\displaystyle \\frac{d}{d t} \\rho_{11}{\\left(t \\right)} = \\gamma_{++} \\left(- \\rho_{11}{\\left(t \\right)} \\left|{b_{0}}\\right|^{2} - \\rho_{11}{\\left(t \\right)} \\left|{b_{1}}\\right|^{2}\\right) + \\gamma_{--} \\left(b_{0} b_{1} \\rho_{13}{\\left(t \\right)} + \\rho_{1}{\\left(t \\right)} \\left|{b_{1}}\\right|^{2} + \\rho_{16}{\\left(t \\right)} \\left|{b_{0}}\\right|^{2} + \\rho_{4}{\\left(t \\right)} \\overline{b_{0}} \\overline{b_{1}}\\right)$"
      ],
      "text/plain": [
       "Eq(Derivative(rho_11(t), t), \\gamma_{++}*(-rho_11(t)*Abs(b0)**2 - rho_11(t)*Abs(b1)**2) + \\gamma_{--}*(b0*b1*rho_13(t) + rho_1(t)*Abs(b1)**2 + rho_16(t)*Abs(b0)**2 + rho_4(t)*conjugate(b0)*conjugate(b1)))"
      ]
     },
     "metadata": {},
     "output_type": "display_data"
    },
    {
     "data": {
      "text/latex": [
       "$\\displaystyle \\frac{d}{d t} \\rho_{12}{\\left(t \\right)} = \\gamma_{++} \\left(- \\frac{\\rho_{12}{\\left(t \\right)} \\left|{b_{0}}\\right|^{2}}{2} - \\frac{\\rho_{12}{\\left(t \\right)} \\left|{b_{1}}\\right|^{2}}{2}\\right) + \\gamma_{+-} \\left(b_{0}^{2} \\rho_{15}{\\left(t \\right)} - b_{0} b_{1} \\rho_{14}{\\left(t \\right)} + b_{0} \\rho_{3}{\\left(t \\right)} \\overline{b_{1}} - \\rho_{2}{\\left(t \\right)} \\left|{b_{1}}\\right|^{2}\\right) + \\gamma_{--} \\left(- \\frac{\\rho_{12}{\\left(t \\right)} \\left|{b_{0}}\\right|^{2}}{2} - \\frac{\\rho_{12}{\\left(t \\right)} \\left|{b_{1}}\\right|^{2}}{2}\\right) - 8 i a \\rho_{12}{\\left(t \\right)}$"
      ],
      "text/plain": [
       "Eq(Derivative(rho_12(t), t), \\gamma_{++}*(-rho_12(t)*Abs(b0)**2/2 - rho_12(t)*Abs(b1)**2/2) + \\gamma_{+-}*(b0**2*rho_15(t) - b0*b1*rho_14(t) + b0*rho_3(t)*conjugate(b1) - rho_2(t)*Abs(b1)**2) + \\gamma_{--}*(-rho_12(t)*Abs(b0)**2/2 - rho_12(t)*Abs(b1)**2/2) - 8*I*a*rho_12(t))"
      ]
     },
     "metadata": {},
     "output_type": "display_data"
    },
    {
     "data": {
      "text/latex": [
       "$\\displaystyle \\frac{d}{d t} \\rho_{13}{\\left(t \\right)} = \\gamma_{++} \\left(\\rho_{10}{\\left(t \\right)} \\overline{b_{0}}^{2} + \\rho_{11}{\\left(t \\right)} \\overline{b_{0}} \\overline{b_{1}} - \\rho_{6}{\\left(t \\right)} \\overline{b_{0}} \\overline{b_{1}} - \\rho_{7}{\\left(t \\right)} \\overline{b_{1}}^{2}\\right) + \\gamma_{--} \\left(- \\rho_{13}{\\left(t \\right)} \\left|{b_{0}}\\right|^{2} - \\rho_{13}{\\left(t \\right)} \\left|{b_{1}}\\right|^{2}\\right)$"
      ],
      "text/plain": [
       "Eq(Derivative(rho_13(t), t), \\gamma_{++}*(rho_10(t)*conjugate(b0)**2 + rho_11(t)*conjugate(b0)*conjugate(b1) - rho_6(t)*conjugate(b0)*conjugate(b1) - rho_7(t)*conjugate(b1)**2) + \\gamma_{--}*(-rho_13(t)*Abs(b0)**2 - rho_13(t)*Abs(b1)**2))"
      ]
     },
     "metadata": {},
     "output_type": "display_data"
    },
    {
     "data": {
      "text/latex": [
       "$\\displaystyle \\frac{d}{d t} \\rho_{14}{\\left(t \\right)} = \\gamma_{++} \\left(- \\frac{\\rho_{14}{\\left(t \\right)} \\left|{b_{0}}\\right|^{2}}{2} - \\frac{\\rho_{14}{\\left(t \\right)} \\left|{b_{1}}\\right|^{2}}{2}\\right) + \\gamma_{--} \\left(- \\frac{\\rho_{14}{\\left(t \\right)} \\left|{b_{0}}\\right|^{2}}{2} - \\frac{\\rho_{14}{\\left(t \\right)} \\left|{b_{1}}\\right|^{2}}{2}\\right) + 8 i a \\rho_{14}{\\left(t \\right)} + \\left(- b_{0} \\rho_{5}{\\left(t \\right)} \\overline{b_{1}} - \\rho_{12}{\\left(t \\right)} \\overline{b_{0}} \\overline{b_{1}} + \\rho_{8}{\\left(t \\right)} \\overline{b_{1}}^{2} + \\rho_{9}{\\left(t \\right)} \\left|{b_{0}}\\right|^{2}\\right) \\overline{\\gamma_{+-}}$"
      ],
      "text/plain": [
       "Eq(Derivative(rho_14(t), t), \\gamma_{++}*(-rho_14(t)*Abs(b0)**2/2 - rho_14(t)*Abs(b1)**2/2) + \\gamma_{--}*(-rho_14(t)*Abs(b0)**2/2 - rho_14(t)*Abs(b1)**2/2) + 8*I*a*rho_14(t) + (-b0*rho_5(t)*conjugate(b1) - rho_12(t)*conjugate(b0)*conjugate(b1) + rho_8(t)*conjugate(b1)**2 + rho_9(t)*Abs(b0)**2)*conjugate(\\gamma_{+-}))"
      ]
     },
     "metadata": {},
     "output_type": "display_data"
    },
    {
     "data": {
      "text/latex": [
       "$\\displaystyle \\frac{d}{d t} \\rho_{15}{\\left(t \\right)} = \\gamma_{++} \\left(- \\frac{\\rho_{15}{\\left(t \\right)} \\left|{b_{0}}\\right|^{2}}{2} - \\frac{\\rho_{15}{\\left(t \\right)} \\left|{b_{1}}\\right|^{2}}{2}\\right) + \\gamma_{--} \\left(- \\frac{\\rho_{15}{\\left(t \\right)} \\left|{b_{0}}\\right|^{2}}{2} - \\frac{\\rho_{15}{\\left(t \\right)} \\left|{b_{1}}\\right|^{2}}{2}\\right) + 8 i a \\rho_{15}{\\left(t \\right)} + \\left(b_{1} \\rho_{9}{\\left(t \\right)} \\overline{b_{0}} + \\rho_{12}{\\left(t \\right)} \\overline{b_{0}}^{2} - \\rho_{5}{\\left(t \\right)} \\left|{b_{1}}\\right|^{2} - \\rho_{8}{\\left(t \\right)} \\overline{b_{0}} \\overline{b_{1}}\\right) \\overline{\\gamma_{+-}}$"
      ],
      "text/plain": [
       "Eq(Derivative(rho_15(t), t), \\gamma_{++}*(-rho_15(t)*Abs(b0)**2/2 - rho_15(t)*Abs(b1)**2/2) + \\gamma_{--}*(-rho_15(t)*Abs(b0)**2/2 - rho_15(t)*Abs(b1)**2/2) + 8*I*a*rho_15(t) + (b1*rho_9(t)*conjugate(b0) + rho_12(t)*conjugate(b0)**2 - rho_5(t)*Abs(b1)**2 - rho_8(t)*conjugate(b0)*conjugate(b1))*conjugate(\\gamma_{+-}))"
      ]
     },
     "metadata": {},
     "output_type": "display_data"
    },
    {
     "data": {
      "text/latex": [
       "$\\displaystyle \\frac{d}{d t} \\rho_{16}{\\left(t \\right)} = \\gamma_{++} \\left(- b_{0} \\rho_{7}{\\left(t \\right)} \\overline{b_{1}} - b_{1} \\rho_{10}{\\left(t \\right)} \\overline{b_{0}} + \\rho_{11}{\\left(t \\right)} \\left|{b_{0}}\\right|^{2} + \\rho_{6}{\\left(t \\right)} \\left|{b_{1}}\\right|^{2}\\right) + \\gamma_{--} \\left(- \\rho_{16}{\\left(t \\right)} \\left|{b_{0}}\\right|^{2} - \\rho_{16}{\\left(t \\right)} \\left|{b_{1}}\\right|^{2}\\right)$"
      ],
      "text/plain": [
       "Eq(Derivative(rho_16(t), t), \\gamma_{++}*(-b0*rho_7(t)*conjugate(b1) - b1*rho_10(t)*conjugate(b0) + rho_11(t)*Abs(b0)**2 + rho_6(t)*Abs(b1)**2) + \\gamma_{--}*(-rho_16(t)*Abs(b0)**2 - rho_16(t)*Abs(b1)**2))"
      ]
     },
     "metadata": {},
     "output_type": "display_data"
    }
   ],
   "source": [
    "for i in eqs:\n",
    "    display(i)"
   ]
  },
  {
   "cell_type": "markdown",
   "id": "d5ed67e1-d85b-4225-8ad9-eda14eb77638",
   "metadata": {
    "editable": true,
    "slideshow": {
     "slide_type": ""
    },
    "tags": []
   },
   "source": [
    "Then We make $\\gamma_{--}=0$ as we consider zero temperature $T=0$"
   ]
  },
  {
   "cell_type": "code",
   "execution_count": 32,
   "id": "654f621a-a150-4bbf-8d24-359f8f0faeff",
   "metadata": {},
   "outputs": [
    {
     "data": {
      "text/latex": [
       "$\\displaystyle 0$"
      ],
      "text/plain": [
       "0"
      ]
     },
     "execution_count": 32,
     "metadata": {},
     "output_type": "execute_result"
    }
   ],
   "source": [
    "(eqs[0].rhs + eqs[5].rhs + eqs[10].rhs + eqs[15].rhs ).subs(gmm,0).expand()"
   ]
  },
  {
   "cell_type": "code",
   "execution_count": 33,
   "id": "b8ce7caa-536e-4aca-9df8-4e24c7c4d60c",
   "metadata": {
    "editable": true,
    "scrolled": true,
    "slideshow": {
     "slide_type": ""
    },
    "tags": [
     "hide-input"
    ]
   },
   "outputs": [
    {
     "data": {
      "text/latex": [
       "$\\displaystyle \\frac{d}{d t} \\rho_{1}{\\left(t \\right)} = \\gamma_{++} \\left(b_{0} \\rho_{7}{\\left(t \\right)} \\overline{b_{1}} + b_{1} \\rho_{10}{\\left(t \\right)} \\overline{b_{0}} + \\rho_{11}{\\left(t \\right)} \\left|{b_{1}}\\right|^{2} + \\rho_{6}{\\left(t \\right)} \\left|{b_{0}}\\right|^{2}\\right)$"
      ],
      "text/plain": [
       "Eq(Derivative(rho_1(t), t), \\gamma_{++}*(b0*rho_7(t)*conjugate(b1) + b1*rho_10(t)*conjugate(b0) + rho_11(t)*Abs(b1)**2 + rho_6(t)*Abs(b0)**2))"
      ]
     },
     "metadata": {},
     "output_type": "display_data"
    },
    {
     "data": {
      "text/latex": [
       "$\\displaystyle \\frac{d}{d t} \\rho_{2}{\\left(t \\right)} = \\gamma_{++} \\left(- \\frac{\\rho_{2}{\\left(t \\right)} \\left|{b_{0}}\\right|^{2}}{2} - \\frac{\\rho_{2}{\\left(t \\right)} \\left|{b_{1}}\\right|^{2}}{2}\\right) + 8 i a \\rho_{2}{\\left(t \\right)} + \\left(b_{0}^{2} \\rho_{5}{\\left(t \\right)} + b_{0} b_{1} \\rho_{9}{\\left(t \\right)} - b_{0} \\rho_{8}{\\left(t \\right)} \\overline{b_{1}} - \\rho_{12}{\\left(t \\right)} \\left|{b_{1}}\\right|^{2}\\right) \\overline{\\gamma_{+-}}$"
      ],
      "text/plain": [
       "Eq(Derivative(rho_2(t), t), \\gamma_{++}*(-rho_2(t)*Abs(b0)**2/2 - rho_2(t)*Abs(b1)**2/2) + 8*I*a*rho_2(t) + (b0**2*rho_5(t) + b0*b1*rho_9(t) - b0*rho_8(t)*conjugate(b1) - rho_12(t)*Abs(b1)**2)*conjugate(\\gamma_{+-}))"
      ]
     },
     "metadata": {},
     "output_type": "display_data"
    },
    {
     "data": {
      "text/latex": [
       "$\\displaystyle \\frac{d}{d t} \\rho_{3}{\\left(t \\right)} = \\gamma_{++} \\left(- \\frac{\\rho_{3}{\\left(t \\right)} \\left|{b_{0}}\\right|^{2}}{2} - \\frac{\\rho_{3}{\\left(t \\right)} \\left|{b_{1}}\\right|^{2}}{2}\\right) + 8 i a \\rho_{3}{\\left(t \\right)} + \\left(b_{0} b_{1} \\rho_{5}{\\left(t \\right)} + b_{1}^{2} \\rho_{9}{\\left(t \\right)} + b_{1} \\rho_{12}{\\left(t \\right)} \\overline{b_{0}} + \\rho_{8}{\\left(t \\right)} \\left|{b_{0}}\\right|^{2}\\right) \\overline{\\gamma_{+-}}$"
      ],
      "text/plain": [
       "Eq(Derivative(rho_3(t), t), \\gamma_{++}*(-rho_3(t)*Abs(b0)**2/2 - rho_3(t)*Abs(b1)**2/2) + 8*I*a*rho_3(t) + (b0*b1*rho_5(t) + b1**2*rho_9(t) + b1*rho_12(t)*conjugate(b0) + rho_8(t)*Abs(b0)**2)*conjugate(\\gamma_{+-}))"
      ]
     },
     "metadata": {},
     "output_type": "display_data"
    },
    {
     "data": {
      "text/latex": [
       "$\\displaystyle \\frac{d}{d t} \\rho_{4}{\\left(t \\right)} = \\gamma_{++} \\left(b_{0}^{2} \\rho_{7}{\\left(t \\right)} + b_{0} b_{1} \\rho_{11}{\\left(t \\right)} - b_{0} b_{1} \\rho_{6}{\\left(t \\right)} - b_{1}^{2} \\rho_{10}{\\left(t \\right)}\\right)$"
      ],
      "text/plain": [
       "Eq(Derivative(rho_4(t), t), \\gamma_{++}*(b0**2*rho_7(t) + b0*b1*rho_11(t) - b0*b1*rho_6(t) - b1**2*rho_10(t)))"
      ]
     },
     "metadata": {},
     "output_type": "display_data"
    },
    {
     "data": {
      "text/latex": [
       "$\\displaystyle \\frac{d}{d t} \\rho_{5}{\\left(t \\right)} = \\gamma_{++} \\left(- \\frac{\\rho_{5}{\\left(t \\right)} \\left|{b_{0}}\\right|^{2}}{2} - \\frac{\\rho_{5}{\\left(t \\right)} \\left|{b_{1}}\\right|^{2}}{2}\\right) + \\gamma_{+-} \\left(- b_{1} \\rho_{14}{\\left(t \\right)} \\overline{b_{0}} - \\rho_{15}{\\left(t \\right)} \\left|{b_{1}}\\right|^{2} + \\rho_{2}{\\left(t \\right)} \\overline{b_{0}}^{2} + \\rho_{3}{\\left(t \\right)} \\overline{b_{0}} \\overline{b_{1}}\\right) - 8 i a \\rho_{5}{\\left(t \\right)}$"
      ],
      "text/plain": [
       "Eq(Derivative(rho_5(t), t), \\gamma_{++}*(-rho_5(t)*Abs(b0)**2/2 - rho_5(t)*Abs(b1)**2/2) + \\gamma_{+-}*(-b1*rho_14(t)*conjugate(b0) - rho_15(t)*Abs(b1)**2 + rho_2(t)*conjugate(b0)**2 + rho_3(t)*conjugate(b0)*conjugate(b1)) - 8*I*a*rho_5(t))"
      ]
     },
     "metadata": {},
     "output_type": "display_data"
    },
    {
     "data": {
      "text/latex": [
       "$\\displaystyle \\frac{d}{d t} \\rho_{6}{\\left(t \\right)} = \\gamma_{++} \\left(- \\rho_{6}{\\left(t \\right)} \\left|{b_{0}}\\right|^{2} - \\rho_{6}{\\left(t \\right)} \\left|{b_{1}}\\right|^{2}\\right)$"
      ],
      "text/plain": [
       "Eq(Derivative(rho_6(t), t), \\gamma_{++}*(-rho_6(t)*Abs(b0)**2 - rho_6(t)*Abs(b1)**2))"
      ]
     },
     "metadata": {},
     "output_type": "display_data"
    },
    {
     "data": {
      "text/latex": [
       "$\\displaystyle \\frac{d}{d t} \\rho_{7}{\\left(t \\right)} = \\gamma_{++} \\left(- \\rho_{7}{\\left(t \\right)} \\left|{b_{0}}\\right|^{2} - \\rho_{7}{\\left(t \\right)} \\left|{b_{1}}\\right|^{2}\\right)$"
      ],
      "text/plain": [
       "Eq(Derivative(rho_7(t), t), \\gamma_{++}*(-rho_7(t)*Abs(b0)**2 - rho_7(t)*Abs(b1)**2))"
      ]
     },
     "metadata": {},
     "output_type": "display_data"
    },
    {
     "data": {
      "text/latex": [
       "$\\displaystyle \\frac{d}{d t} \\rho_{8}{\\left(t \\right)} = \\gamma_{++} \\left(- \\frac{\\rho_{8}{\\left(t \\right)} \\left|{b_{0}}\\right|^{2}}{2} - \\frac{\\rho_{8}{\\left(t \\right)} \\left|{b_{1}}\\right|^{2}}{2}\\right) + \\gamma_{+-} \\left(- b_{0} b_{1} \\rho_{15}{\\left(t \\right)} + b_{1}^{2} \\rho_{14}{\\left(t \\right)} - b_{1} \\rho_{2}{\\left(t \\right)} \\overline{b_{0}} + \\rho_{3}{\\left(t \\right)} \\left|{b_{0}}\\right|^{2}\\right) - 8 i a \\rho_{8}{\\left(t \\right)}$"
      ],
      "text/plain": [
       "Eq(Derivative(rho_8(t), t), \\gamma_{++}*(-rho_8(t)*Abs(b0)**2/2 - rho_8(t)*Abs(b1)**2/2) + \\gamma_{+-}*(-b0*b1*rho_15(t) + b1**2*rho_14(t) - b1*rho_2(t)*conjugate(b0) + rho_3(t)*Abs(b0)**2) - 8*I*a*rho_8(t))"
      ]
     },
     "metadata": {},
     "output_type": "display_data"
    },
    {
     "data": {
      "text/latex": [
       "$\\displaystyle \\frac{d}{d t} \\rho_{9}{\\left(t \\right)} = \\gamma_{++} \\left(- \\frac{\\rho_{9}{\\left(t \\right)} \\left|{b_{0}}\\right|^{2}}{2} - \\frac{\\rho_{9}{\\left(t \\right)} \\left|{b_{1}}\\right|^{2}}{2}\\right) + \\gamma_{+-} \\left(b_{0} \\rho_{15}{\\left(t \\right)} \\overline{b_{1}} + \\rho_{14}{\\left(t \\right)} \\left|{b_{0}}\\right|^{2} + \\rho_{2}{\\left(t \\right)} \\overline{b_{0}} \\overline{b_{1}} + \\rho_{3}{\\left(t \\right)} \\overline{b_{1}}^{2}\\right) - 8 i a \\rho_{9}{\\left(t \\right)}$"
      ],
      "text/plain": [
       "Eq(Derivative(rho_9(t), t), \\gamma_{++}*(-rho_9(t)*Abs(b0)**2/2 - rho_9(t)*Abs(b1)**2/2) + \\gamma_{+-}*(b0*rho_15(t)*conjugate(b1) + rho_14(t)*Abs(b0)**2 + rho_2(t)*conjugate(b0)*conjugate(b1) + rho_3(t)*conjugate(b1)**2) - 8*I*a*rho_9(t))"
      ]
     },
     "metadata": {},
     "output_type": "display_data"
    },
    {
     "data": {
      "text/latex": [
       "$\\displaystyle \\frac{d}{d t} \\rho_{10}{\\left(t \\right)} = \\gamma_{++} \\left(- \\rho_{10}{\\left(t \\right)} \\left|{b_{0}}\\right|^{2} - \\rho_{10}{\\left(t \\right)} \\left|{b_{1}}\\right|^{2}\\right)$"
      ],
      "text/plain": [
       "Eq(Derivative(rho_10(t), t), \\gamma_{++}*(-rho_10(t)*Abs(b0)**2 - rho_10(t)*Abs(b1)**2))"
      ]
     },
     "metadata": {},
     "output_type": "display_data"
    },
    {
     "data": {
      "text/latex": [
       "$\\displaystyle \\frac{d}{d t} \\rho_{11}{\\left(t \\right)} = \\gamma_{++} \\left(- \\rho_{11}{\\left(t \\right)} \\left|{b_{0}}\\right|^{2} - \\rho_{11}{\\left(t \\right)} \\left|{b_{1}}\\right|^{2}\\right)$"
      ],
      "text/plain": [
       "Eq(Derivative(rho_11(t), t), \\gamma_{++}*(-rho_11(t)*Abs(b0)**2 - rho_11(t)*Abs(b1)**2))"
      ]
     },
     "metadata": {},
     "output_type": "display_data"
    },
    {
     "data": {
      "text/latex": [
       "$\\displaystyle \\frac{d}{d t} \\rho_{12}{\\left(t \\right)} = \\gamma_{++} \\left(- \\frac{\\rho_{12}{\\left(t \\right)} \\left|{b_{0}}\\right|^{2}}{2} - \\frac{\\rho_{12}{\\left(t \\right)} \\left|{b_{1}}\\right|^{2}}{2}\\right) + \\gamma_{+-} \\left(b_{0}^{2} \\rho_{15}{\\left(t \\right)} - b_{0} b_{1} \\rho_{14}{\\left(t \\right)} + b_{0} \\rho_{3}{\\left(t \\right)} \\overline{b_{1}} - \\rho_{2}{\\left(t \\right)} \\left|{b_{1}}\\right|^{2}\\right) - 8 i a \\rho_{12}{\\left(t \\right)}$"
      ],
      "text/plain": [
       "Eq(Derivative(rho_12(t), t), \\gamma_{++}*(-rho_12(t)*Abs(b0)**2/2 - rho_12(t)*Abs(b1)**2/2) + \\gamma_{+-}*(b0**2*rho_15(t) - b0*b1*rho_14(t) + b0*rho_3(t)*conjugate(b1) - rho_2(t)*Abs(b1)**2) - 8*I*a*rho_12(t))"
      ]
     },
     "metadata": {},
     "output_type": "display_data"
    },
    {
     "data": {
      "text/latex": [
       "$\\displaystyle \\frac{d}{d t} \\rho_{13}{\\left(t \\right)} = \\gamma_{++} \\left(\\rho_{10}{\\left(t \\right)} \\overline{b_{0}}^{2} + \\rho_{11}{\\left(t \\right)} \\overline{b_{0}} \\overline{b_{1}} - \\rho_{6}{\\left(t \\right)} \\overline{b_{0}} \\overline{b_{1}} - \\rho_{7}{\\left(t \\right)} \\overline{b_{1}}^{2}\\right)$"
      ],
      "text/plain": [
       "Eq(Derivative(rho_13(t), t), \\gamma_{++}*(rho_10(t)*conjugate(b0)**2 + rho_11(t)*conjugate(b0)*conjugate(b1) - rho_6(t)*conjugate(b0)*conjugate(b1) - rho_7(t)*conjugate(b1)**2))"
      ]
     },
     "metadata": {},
     "output_type": "display_data"
    },
    {
     "data": {
      "text/latex": [
       "$\\displaystyle \\frac{d}{d t} \\rho_{14}{\\left(t \\right)} = \\gamma_{++} \\left(- \\frac{\\rho_{14}{\\left(t \\right)} \\left|{b_{0}}\\right|^{2}}{2} - \\frac{\\rho_{14}{\\left(t \\right)} \\left|{b_{1}}\\right|^{2}}{2}\\right) + 8 i a \\rho_{14}{\\left(t \\right)} + \\left(- b_{0} \\rho_{5}{\\left(t \\right)} \\overline{b_{1}} - \\rho_{12}{\\left(t \\right)} \\overline{b_{0}} \\overline{b_{1}} + \\rho_{8}{\\left(t \\right)} \\overline{b_{1}}^{2} + \\rho_{9}{\\left(t \\right)} \\left|{b_{0}}\\right|^{2}\\right) \\overline{\\gamma_{+-}}$"
      ],
      "text/plain": [
       "Eq(Derivative(rho_14(t), t), \\gamma_{++}*(-rho_14(t)*Abs(b0)**2/2 - rho_14(t)*Abs(b1)**2/2) + 8*I*a*rho_14(t) + (-b0*rho_5(t)*conjugate(b1) - rho_12(t)*conjugate(b0)*conjugate(b1) + rho_8(t)*conjugate(b1)**2 + rho_9(t)*Abs(b0)**2)*conjugate(\\gamma_{+-}))"
      ]
     },
     "metadata": {},
     "output_type": "display_data"
    },
    {
     "data": {
      "text/latex": [
       "$\\displaystyle \\frac{d}{d t} \\rho_{15}{\\left(t \\right)} = \\gamma_{++} \\left(- \\frac{\\rho_{15}{\\left(t \\right)} \\left|{b_{0}}\\right|^{2}}{2} - \\frac{\\rho_{15}{\\left(t \\right)} \\left|{b_{1}}\\right|^{2}}{2}\\right) + 8 i a \\rho_{15}{\\left(t \\right)} + \\left(b_{1} \\rho_{9}{\\left(t \\right)} \\overline{b_{0}} + \\rho_{12}{\\left(t \\right)} \\overline{b_{0}}^{2} - \\rho_{5}{\\left(t \\right)} \\left|{b_{1}}\\right|^{2} - \\rho_{8}{\\left(t \\right)} \\overline{b_{0}} \\overline{b_{1}}\\right) \\overline{\\gamma_{+-}}$"
      ],
      "text/plain": [
       "Eq(Derivative(rho_15(t), t), \\gamma_{++}*(-rho_15(t)*Abs(b0)**2/2 - rho_15(t)*Abs(b1)**2/2) + 8*I*a*rho_15(t) + (b1*rho_9(t)*conjugate(b0) + rho_12(t)*conjugate(b0)**2 - rho_5(t)*Abs(b1)**2 - rho_8(t)*conjugate(b0)*conjugate(b1))*conjugate(\\gamma_{+-}))"
      ]
     },
     "metadata": {},
     "output_type": "display_data"
    },
    {
     "data": {
      "text/latex": [
       "$\\displaystyle \\frac{d}{d t} \\rho_{16}{\\left(t \\right)} = \\gamma_{++} \\left(- b_{0} \\rho_{7}{\\left(t \\right)} \\overline{b_{1}} - b_{1} \\rho_{10}{\\left(t \\right)} \\overline{b_{0}} + \\rho_{11}{\\left(t \\right)} \\left|{b_{0}}\\right|^{2} + \\rho_{6}{\\left(t \\right)} \\left|{b_{1}}\\right|^{2}\\right)$"
      ],
      "text/plain": [
       "Eq(Derivative(rho_16(t), t), \\gamma_{++}*(-b0*rho_7(t)*conjugate(b1) - b1*rho_10(t)*conjugate(b0) + rho_11(t)*Abs(b0)**2 + rho_6(t)*Abs(b1)**2))"
      ]
     },
     "metadata": {},
     "output_type": "display_data"
    }
   ],
   "source": [
    "for i in eqs:\n",
    "    display(i.subs(gmm,0))"
   ]
  },
  {
   "cell_type": "markdown",
   "id": "61ebb74a-27a0-49a1-a2d4-77cf18497242",
   "metadata": {},
   "source": [
    "Then at $T=0$, and in the Schrodinger picture (So that there is no phase and $\\gamma$s are real). We have $\\gamma_{+-}=\\gamma_{-+}=\\frac{\\gamma_{++}}{2}$"
   ]
  },
  {
   "cell_type": "code",
   "execution_count": 34,
   "id": "082a220b-0975-4ca8-8c54-cf53e47a43ac",
   "metadata": {},
   "outputs": [
    {
     "data": {
      "text/latex": [
       "$\\displaystyle \\frac{d}{d t} \\rho_{1}{\\left(t \\right)} = \\gamma_{++} \\left(b_{0} \\rho_{7}{\\left(t \\right)} \\overline{b_{1}} + b_{1} \\rho_{10}{\\left(t \\right)} \\overline{b_{0}} + \\rho_{11}{\\left(t \\right)} \\left|{b_{1}}\\right|^{2} + \\rho_{6}{\\left(t \\right)} \\left|{b_{0}}\\right|^{2}\\right)$"
      ],
      "text/plain": [
       "Eq(Derivative(rho_1(t), t), \\gamma_{++}*(b0*rho_7(t)*conjugate(b1) + b1*rho_10(t)*conjugate(b0) + rho_11(t)*Abs(b1)**2 + rho_6(t)*Abs(b0)**2))"
      ]
     },
     "metadata": {},
     "output_type": "display_data"
    },
    {
     "data": {
      "text/latex": [
       "$\\displaystyle \\frac{d}{d t} \\rho_{2}{\\left(t \\right)} = \\gamma_{++} \\left(- \\frac{\\rho_{2}{\\left(t \\right)} \\left|{b_{0}}\\right|^{2}}{2} - \\frac{\\rho_{2}{\\left(t \\right)} \\left|{b_{1}}\\right|^{2}}{2}\\right) + \\frac{\\gamma_{++} \\left(b_{0}^{2} \\rho_{5}{\\left(t \\right)} + b_{0} b_{1} \\rho_{9}{\\left(t \\right)} - b_{0} \\rho_{8}{\\left(t \\right)} \\overline{b_{1}} - \\rho_{12}{\\left(t \\right)} \\left|{b_{1}}\\right|^{2}\\right)}{2} + 8 i a \\rho_{2}{\\left(t \\right)}$"
      ],
      "text/plain": [
       "Eq(Derivative(rho_2(t), t), \\gamma_{++}*(-rho_2(t)*Abs(b0)**2/2 - rho_2(t)*Abs(b1)**2/2) + \\gamma_{++}*(b0**2*rho_5(t) + b0*b1*rho_9(t) - b0*rho_8(t)*conjugate(b1) - rho_12(t)*Abs(b1)**2)/2 + 8*I*a*rho_2(t))"
      ]
     },
     "metadata": {},
     "output_type": "display_data"
    },
    {
     "data": {
      "text/latex": [
       "$\\displaystyle \\frac{d}{d t} \\rho_{3}{\\left(t \\right)} = \\gamma_{++} \\left(- \\frac{\\rho_{3}{\\left(t \\right)} \\left|{b_{0}}\\right|^{2}}{2} - \\frac{\\rho_{3}{\\left(t \\right)} \\left|{b_{1}}\\right|^{2}}{2}\\right) + \\frac{\\gamma_{++} \\left(b_{0} b_{1} \\rho_{5}{\\left(t \\right)} + b_{1}^{2} \\rho_{9}{\\left(t \\right)} + b_{1} \\rho_{12}{\\left(t \\right)} \\overline{b_{0}} + \\rho_{8}{\\left(t \\right)} \\left|{b_{0}}\\right|^{2}\\right)}{2} + 8 i a \\rho_{3}{\\left(t \\right)}$"
      ],
      "text/plain": [
       "Eq(Derivative(rho_3(t), t), \\gamma_{++}*(-rho_3(t)*Abs(b0)**2/2 - rho_3(t)*Abs(b1)**2/2) + \\gamma_{++}*(b0*b1*rho_5(t) + b1**2*rho_9(t) + b1*rho_12(t)*conjugate(b0) + rho_8(t)*Abs(b0)**2)/2 + 8*I*a*rho_3(t))"
      ]
     },
     "metadata": {},
     "output_type": "display_data"
    },
    {
     "data": {
      "text/latex": [
       "$\\displaystyle \\frac{d}{d t} \\rho_{4}{\\left(t \\right)} = \\gamma_{++} \\left(b_{0}^{2} \\rho_{7}{\\left(t \\right)} + b_{0} b_{1} \\rho_{11}{\\left(t \\right)} - b_{0} b_{1} \\rho_{6}{\\left(t \\right)} - b_{1}^{2} \\rho_{10}{\\left(t \\right)}\\right)$"
      ],
      "text/plain": [
       "Eq(Derivative(rho_4(t), t), \\gamma_{++}*(b0**2*rho_7(t) + b0*b1*rho_11(t) - b0*b1*rho_6(t) - b1**2*rho_10(t)))"
      ]
     },
     "metadata": {},
     "output_type": "display_data"
    },
    {
     "data": {
      "text/latex": [
       "$\\displaystyle \\frac{d}{d t} \\rho_{5}{\\left(t \\right)} = \\gamma_{++} \\left(- \\frac{\\rho_{5}{\\left(t \\right)} \\left|{b_{0}}\\right|^{2}}{2} - \\frac{\\rho_{5}{\\left(t \\right)} \\left|{b_{1}}\\right|^{2}}{2}\\right) + \\frac{\\gamma_{++} \\left(- b_{1} \\rho_{14}{\\left(t \\right)} \\overline{b_{0}} - \\rho_{15}{\\left(t \\right)} \\left|{b_{1}}\\right|^{2} + \\rho_{2}{\\left(t \\right)} \\overline{b_{0}}^{2} + \\rho_{3}{\\left(t \\right)} \\overline{b_{0}} \\overline{b_{1}}\\right)}{2} - 8 i a \\rho_{5}{\\left(t \\right)}$"
      ],
      "text/plain": [
       "Eq(Derivative(rho_5(t), t), \\gamma_{++}*(-rho_5(t)*Abs(b0)**2/2 - rho_5(t)*Abs(b1)**2/2) + \\gamma_{++}*(-b1*rho_14(t)*conjugate(b0) - rho_15(t)*Abs(b1)**2 + rho_2(t)*conjugate(b0)**2 + rho_3(t)*conjugate(b0)*conjugate(b1))/2 - 8*I*a*rho_5(t))"
      ]
     },
     "metadata": {},
     "output_type": "display_data"
    },
    {
     "data": {
      "text/latex": [
       "$\\displaystyle \\frac{d}{d t} \\rho_{6}{\\left(t \\right)} = \\gamma_{++} \\left(- \\rho_{6}{\\left(t \\right)} \\left|{b_{0}}\\right|^{2} - \\rho_{6}{\\left(t \\right)} \\left|{b_{1}}\\right|^{2}\\right)$"
      ],
      "text/plain": [
       "Eq(Derivative(rho_6(t), t), \\gamma_{++}*(-rho_6(t)*Abs(b0)**2 - rho_6(t)*Abs(b1)**2))"
      ]
     },
     "metadata": {},
     "output_type": "display_data"
    },
    {
     "data": {
      "text/latex": [
       "$\\displaystyle \\frac{d}{d t} \\rho_{7}{\\left(t \\right)} = \\gamma_{++} \\left(- \\rho_{7}{\\left(t \\right)} \\left|{b_{0}}\\right|^{2} - \\rho_{7}{\\left(t \\right)} \\left|{b_{1}}\\right|^{2}\\right)$"
      ],
      "text/plain": [
       "Eq(Derivative(rho_7(t), t), \\gamma_{++}*(-rho_7(t)*Abs(b0)**2 - rho_7(t)*Abs(b1)**2))"
      ]
     },
     "metadata": {},
     "output_type": "display_data"
    },
    {
     "data": {
      "text/latex": [
       "$\\displaystyle \\frac{d}{d t} \\rho_{8}{\\left(t \\right)} = \\gamma_{++} \\left(- \\frac{\\rho_{8}{\\left(t \\right)} \\left|{b_{0}}\\right|^{2}}{2} - \\frac{\\rho_{8}{\\left(t \\right)} \\left|{b_{1}}\\right|^{2}}{2}\\right) + \\frac{\\gamma_{++} \\left(- b_{0} b_{1} \\rho_{15}{\\left(t \\right)} + b_{1}^{2} \\rho_{14}{\\left(t \\right)} - b_{1} \\rho_{2}{\\left(t \\right)} \\overline{b_{0}} + \\rho_{3}{\\left(t \\right)} \\left|{b_{0}}\\right|^{2}\\right)}{2} - 8 i a \\rho_{8}{\\left(t \\right)}$"
      ],
      "text/plain": [
       "Eq(Derivative(rho_8(t), t), \\gamma_{++}*(-rho_8(t)*Abs(b0)**2/2 - rho_8(t)*Abs(b1)**2/2) + \\gamma_{++}*(-b0*b1*rho_15(t) + b1**2*rho_14(t) - b1*rho_2(t)*conjugate(b0) + rho_3(t)*Abs(b0)**2)/2 - 8*I*a*rho_8(t))"
      ]
     },
     "metadata": {},
     "output_type": "display_data"
    },
    {
     "data": {
      "text/latex": [
       "$\\displaystyle \\frac{d}{d t} \\rho_{9}{\\left(t \\right)} = \\gamma_{++} \\left(- \\frac{\\rho_{9}{\\left(t \\right)} \\left|{b_{0}}\\right|^{2}}{2} - \\frac{\\rho_{9}{\\left(t \\right)} \\left|{b_{1}}\\right|^{2}}{2}\\right) + \\frac{\\gamma_{++} \\left(b_{0} \\rho_{15}{\\left(t \\right)} \\overline{b_{1}} + \\rho_{14}{\\left(t \\right)} \\left|{b_{0}}\\right|^{2} + \\rho_{2}{\\left(t \\right)} \\overline{b_{0}} \\overline{b_{1}} + \\rho_{3}{\\left(t \\right)} \\overline{b_{1}}^{2}\\right)}{2} - 8 i a \\rho_{9}{\\left(t \\right)}$"
      ],
      "text/plain": [
       "Eq(Derivative(rho_9(t), t), \\gamma_{++}*(-rho_9(t)*Abs(b0)**2/2 - rho_9(t)*Abs(b1)**2/2) + \\gamma_{++}*(b0*rho_15(t)*conjugate(b1) + rho_14(t)*Abs(b0)**2 + rho_2(t)*conjugate(b0)*conjugate(b1) + rho_3(t)*conjugate(b1)**2)/2 - 8*I*a*rho_9(t))"
      ]
     },
     "metadata": {},
     "output_type": "display_data"
    },
    {
     "data": {
      "text/latex": [
       "$\\displaystyle \\frac{d}{d t} \\rho_{10}{\\left(t \\right)} = \\gamma_{++} \\left(- \\rho_{10}{\\left(t \\right)} \\left|{b_{0}}\\right|^{2} - \\rho_{10}{\\left(t \\right)} \\left|{b_{1}}\\right|^{2}\\right)$"
      ],
      "text/plain": [
       "Eq(Derivative(rho_10(t), t), \\gamma_{++}*(-rho_10(t)*Abs(b0)**2 - rho_10(t)*Abs(b1)**2))"
      ]
     },
     "metadata": {},
     "output_type": "display_data"
    },
    {
     "data": {
      "text/latex": [
       "$\\displaystyle \\frac{d}{d t} \\rho_{11}{\\left(t \\right)} = \\gamma_{++} \\left(- \\rho_{11}{\\left(t \\right)} \\left|{b_{0}}\\right|^{2} - \\rho_{11}{\\left(t \\right)} \\left|{b_{1}}\\right|^{2}\\right)$"
      ],
      "text/plain": [
       "Eq(Derivative(rho_11(t), t), \\gamma_{++}*(-rho_11(t)*Abs(b0)**2 - rho_11(t)*Abs(b1)**2))"
      ]
     },
     "metadata": {},
     "output_type": "display_data"
    },
    {
     "data": {
      "text/latex": [
       "$\\displaystyle \\frac{d}{d t} \\rho_{12}{\\left(t \\right)} = \\gamma_{++} \\left(- \\frac{\\rho_{12}{\\left(t \\right)} \\left|{b_{0}}\\right|^{2}}{2} - \\frac{\\rho_{12}{\\left(t \\right)} \\left|{b_{1}}\\right|^{2}}{2}\\right) + \\frac{\\gamma_{++} \\left(b_{0}^{2} \\rho_{15}{\\left(t \\right)} - b_{0} b_{1} \\rho_{14}{\\left(t \\right)} + b_{0} \\rho_{3}{\\left(t \\right)} \\overline{b_{1}} - \\rho_{2}{\\left(t \\right)} \\left|{b_{1}}\\right|^{2}\\right)}{2} - 8 i a \\rho_{12}{\\left(t \\right)}$"
      ],
      "text/plain": [
       "Eq(Derivative(rho_12(t), t), \\gamma_{++}*(-rho_12(t)*Abs(b0)**2/2 - rho_12(t)*Abs(b1)**2/2) + \\gamma_{++}*(b0**2*rho_15(t) - b0*b1*rho_14(t) + b0*rho_3(t)*conjugate(b1) - rho_2(t)*Abs(b1)**2)/2 - 8*I*a*rho_12(t))"
      ]
     },
     "metadata": {},
     "output_type": "display_data"
    },
    {
     "data": {
      "text/latex": [
       "$\\displaystyle \\frac{d}{d t} \\rho_{13}{\\left(t \\right)} = \\gamma_{++} \\left(\\rho_{10}{\\left(t \\right)} \\overline{b_{0}}^{2} + \\rho_{11}{\\left(t \\right)} \\overline{b_{0}} \\overline{b_{1}} - \\rho_{6}{\\left(t \\right)} \\overline{b_{0}} \\overline{b_{1}} - \\rho_{7}{\\left(t \\right)} \\overline{b_{1}}^{2}\\right)$"
      ],
      "text/plain": [
       "Eq(Derivative(rho_13(t), t), \\gamma_{++}*(rho_10(t)*conjugate(b0)**2 + rho_11(t)*conjugate(b0)*conjugate(b1) - rho_6(t)*conjugate(b0)*conjugate(b1) - rho_7(t)*conjugate(b1)**2))"
      ]
     },
     "metadata": {},
     "output_type": "display_data"
    },
    {
     "data": {
      "text/latex": [
       "$\\displaystyle \\frac{d}{d t} \\rho_{14}{\\left(t \\right)} = \\gamma_{++} \\left(- \\frac{\\rho_{14}{\\left(t \\right)} \\left|{b_{0}}\\right|^{2}}{2} - \\frac{\\rho_{14}{\\left(t \\right)} \\left|{b_{1}}\\right|^{2}}{2}\\right) + \\frac{\\gamma_{++} \\left(- b_{0} \\rho_{5}{\\left(t \\right)} \\overline{b_{1}} - \\rho_{12}{\\left(t \\right)} \\overline{b_{0}} \\overline{b_{1}} + \\rho_{8}{\\left(t \\right)} \\overline{b_{1}}^{2} + \\rho_{9}{\\left(t \\right)} \\left|{b_{0}}\\right|^{2}\\right)}{2} + 8 i a \\rho_{14}{\\left(t \\right)}$"
      ],
      "text/plain": [
       "Eq(Derivative(rho_14(t), t), \\gamma_{++}*(-rho_14(t)*Abs(b0)**2/2 - rho_14(t)*Abs(b1)**2/2) + \\gamma_{++}*(-b0*rho_5(t)*conjugate(b1) - rho_12(t)*conjugate(b0)*conjugate(b1) + rho_8(t)*conjugate(b1)**2 + rho_9(t)*Abs(b0)**2)/2 + 8*I*a*rho_14(t))"
      ]
     },
     "metadata": {},
     "output_type": "display_data"
    },
    {
     "data": {
      "text/latex": [
       "$\\displaystyle \\frac{d}{d t} \\rho_{15}{\\left(t \\right)} = \\gamma_{++} \\left(- \\frac{\\rho_{15}{\\left(t \\right)} \\left|{b_{0}}\\right|^{2}}{2} - \\frac{\\rho_{15}{\\left(t \\right)} \\left|{b_{1}}\\right|^{2}}{2}\\right) + \\frac{\\gamma_{++} \\left(b_{1} \\rho_{9}{\\left(t \\right)} \\overline{b_{0}} + \\rho_{12}{\\left(t \\right)} \\overline{b_{0}}^{2} - \\rho_{5}{\\left(t \\right)} \\left|{b_{1}}\\right|^{2} - \\rho_{8}{\\left(t \\right)} \\overline{b_{0}} \\overline{b_{1}}\\right)}{2} + 8 i a \\rho_{15}{\\left(t \\right)}$"
      ],
      "text/plain": [
       "Eq(Derivative(rho_15(t), t), \\gamma_{++}*(-rho_15(t)*Abs(b0)**2/2 - rho_15(t)*Abs(b1)**2/2) + \\gamma_{++}*(b1*rho_9(t)*conjugate(b0) + rho_12(t)*conjugate(b0)**2 - rho_5(t)*Abs(b1)**2 - rho_8(t)*conjugate(b0)*conjugate(b1))/2 + 8*I*a*rho_15(t))"
      ]
     },
     "metadata": {},
     "output_type": "display_data"
    },
    {
     "data": {
      "text/latex": [
       "$\\displaystyle \\frac{d}{d t} \\rho_{16}{\\left(t \\right)} = \\gamma_{++} \\left(- b_{0} \\rho_{7}{\\left(t \\right)} \\overline{b_{1}} - b_{1} \\rho_{10}{\\left(t \\right)} \\overline{b_{0}} + \\rho_{11}{\\left(t \\right)} \\left|{b_{0}}\\right|^{2} + \\rho_{6}{\\left(t \\right)} \\left|{b_{1}}\\right|^{2}\\right)$"
      ],
      "text/plain": [
       "Eq(Derivative(rho_16(t), t), \\gamma_{++}*(-b0*rho_7(t)*conjugate(b1) - b1*rho_10(t)*conjugate(b0) + rho_11(t)*Abs(b0)**2 + rho_6(t)*Abs(b1)**2))"
      ]
     },
     "metadata": {},
     "output_type": "display_data"
    }
   ],
   "source": [
    "for i in eqs:\n",
    "    display(i.subs(gmm,0).subs(gpm,gpp/2).subs(conjugate(gpm),gpp/2))"
   ]
  },
  {
   "cell_type": "code",
   "execution_count": 35,
   "id": "a4266ffc-9687-4213-abf8-d011c9a7cf82",
   "metadata": {},
   "outputs": [],
   "source": [
    "eqs2=[i.subs(gmm,0).subs(gpm,gpp/2).subs(conjugate(gpm),gpp/2) for i in eqs]"
   ]
  },
  {
   "cell_type": "markdown",
   "id": "2f47cbde-94eb-44c8-8bf6-14ca328b7405",
   "metadata": {},
   "source": [
    "At this point, we are still preserving the trace"
   ]
  },
  {
   "cell_type": "code",
   "execution_count": 36,
   "id": "3e626a62-e545-47d3-a3d7-d0ff37403301",
   "metadata": {},
   "outputs": [
    {
     "data": {
      "text/latex": [
       "$\\displaystyle \\frac{d}{d t} \\rho_{1}{\\left(t \\right)} + \\frac{d}{d t} \\rho_{11}{\\left(t \\right)} + \\frac{d}{d t} \\rho_{16}{\\left(t \\right)} + \\frac{d}{d t} \\rho_{6}{\\left(t \\right)} = 0$"
      ],
      "text/plain": [
       "Eq(Derivative(rho_1(t), t) + Derivative(rho_11(t), t) + Derivative(rho_16(t), t) + Derivative(rho_6(t), t), 0)"
      ]
     },
     "execution_count": 36,
     "metadata": {},
     "output_type": "execute_result"
    }
   ],
   "source": [
    "Eq(eqs2[0].lhs + eqs2[5].lhs + eqs2[10].lhs + eqs2[15].lhs,(eqs2[0].rhs + eqs2[5].rhs + eqs2[10].rhs + eqs2[15].rhs ).expand())"
   ]
  },
  {
   "cell_type": "markdown",
   "id": "404fb3a8-c412-40bc-9fda-4dfb0d8ce5f8",
   "metadata": {},
   "source": [
    "I first solve the really easy ones: ($\\rho_{10},\\rho_{11},\\rho_{7},\\rho_{6}$)"
   ]
  },
  {
   "cell_type": "code",
   "execution_count": 37,
   "id": "fe3d52b4-97ff-4021-b23d-ab93b5924f46",
   "metadata": {},
   "outputs": [],
   "source": [
    "sols_easy=dsolve([eqs2[i] for i in (5,6,9,10)])\n",
    "sols_subs={i.lhs:i.rhs for i in sols_easy}"
   ]
  },
  {
   "cell_type": "code",
   "execution_count": 38,
   "id": "96680229-a42c-4829-894d-48892ca08608",
   "metadata": {},
   "outputs": [
    {
     "data": {
      "text/latex": [
       "$\\displaystyle \\frac{d}{d t} \\rho_{1}{\\left(t \\right)} = \\gamma_{++} \\left(C_{1} \\left|{b_{0}}\\right|^{2} + C_{2} b_{0} \\overline{b_{1}} + C_{3} b_{1} \\overline{b_{0}} + C_{4} \\left|{b_{1}}\\right|^{2}\\right) e^{- \\gamma_{++} t \\left(\\left|{b_{0}}\\right|^{2} + \\left|{b_{1}}\\right|^{2}\\right)}$"
      ],
      "text/plain": [
       "Eq(Derivative(rho_1(t), t), \\gamma_{++}*(C1*Abs(b0)**2 + C2*b0*conjugate(b1) + C3*b1*conjugate(b0) + C4*Abs(b1)**2)*exp(-\\gamma_{++}*t*(Abs(b0)**2 + Abs(b1)**2)))"
      ]
     },
     "metadata": {},
     "output_type": "display_data"
    },
    {
     "data": {
      "text/latex": [
       "$\\displaystyle \\frac{d}{d t} \\rho_{2}{\\left(t \\right)} = - \\frac{\\gamma_{++} \\left(\\left|{b_{0}}\\right|^{2} + \\left|{b_{1}}\\right|^{2}\\right) \\rho_{2}{\\left(t \\right)}}{2} + \\frac{\\gamma_{++} \\left(b_{0}^{2} \\rho_{5}{\\left(t \\right)} + b_{0} b_{1} \\rho_{9}{\\left(t \\right)} - b_{0} \\rho_{8}{\\left(t \\right)} \\overline{b_{1}} - \\rho_{12}{\\left(t \\right)} \\left|{b_{1}}\\right|^{2}\\right)}{2} + 8 i a \\rho_{2}{\\left(t \\right)}$"
      ],
      "text/plain": [
       "Eq(Derivative(rho_2(t), t), -\\gamma_{++}*(Abs(b0)**2 + Abs(b1)**2)*rho_2(t)/2 + \\gamma_{++}*(b0**2*rho_5(t) + b0*b1*rho_9(t) - b0*rho_8(t)*conjugate(b1) - rho_12(t)*Abs(b1)**2)/2 + 8*I*a*rho_2(t))"
      ]
     },
     "metadata": {},
     "output_type": "display_data"
    },
    {
     "data": {
      "text/latex": [
       "$\\displaystyle \\frac{d}{d t} \\rho_{3}{\\left(t \\right)} = - \\frac{\\gamma_{++} \\left(\\left|{b_{0}}\\right|^{2} + \\left|{b_{1}}\\right|^{2}\\right) \\rho_{3}{\\left(t \\right)}}{2} + \\frac{\\gamma_{++} \\left(b_{0} b_{1} \\rho_{5}{\\left(t \\right)} + b_{1}^{2} \\rho_{9}{\\left(t \\right)} + b_{1} \\rho_{12}{\\left(t \\right)} \\overline{b_{0}} + \\rho_{8}{\\left(t \\right)} \\left|{b_{0}}\\right|^{2}\\right)}{2} + 8 i a \\rho_{3}{\\left(t \\right)}$"
      ],
      "text/plain": [
       "Eq(Derivative(rho_3(t), t), -\\gamma_{++}*(Abs(b0)**2 + Abs(b1)**2)*rho_3(t)/2 + \\gamma_{++}*(b0*b1*rho_5(t) + b1**2*rho_9(t) + b1*rho_12(t)*conjugate(b0) + rho_8(t)*Abs(b0)**2)/2 + 8*I*a*rho_3(t))"
      ]
     },
     "metadata": {},
     "output_type": "display_data"
    },
    {
     "data": {
      "text/latex": [
       "$\\displaystyle \\frac{d}{d t} \\rho_{4}{\\left(t \\right)} = - \\gamma_{++} \\left(C_{1} b_{0} b_{1} - C_{2} b_{0}^{2} + C_{3} b_{1}^{2} - C_{4} b_{0} b_{1}\\right) e^{- \\gamma_{++} t \\left(\\left|{b_{0}}\\right|^{2} + \\left|{b_{1}}\\right|^{2}\\right)}$"
      ],
      "text/plain": [
       "Eq(Derivative(rho_4(t), t), -\\gamma_{++}*(C1*b0*b1 - C2*b0**2 + C3*b1**2 - C4*b0*b1)*exp(-\\gamma_{++}*t*(Abs(b0)**2 + Abs(b1)**2)))"
      ]
     },
     "metadata": {},
     "output_type": "display_data"
    },
    {
     "data": {
      "text/latex": [
       "$\\displaystyle \\frac{d}{d t} \\rho_{5}{\\left(t \\right)} = - \\frac{\\gamma_{++} \\left(\\left|{b_{0}}\\right|^{2} + \\left|{b_{1}}\\right|^{2}\\right) \\rho_{5}{\\left(t \\right)}}{2} - \\frac{\\gamma_{++} \\left(b_{1} \\rho_{14}{\\left(t \\right)} \\overline{b_{0}} + \\rho_{15}{\\left(t \\right)} \\left|{b_{1}}\\right|^{2} - \\rho_{2}{\\left(t \\right)} \\overline{b_{0}}^{2} - \\rho_{3}{\\left(t \\right)} \\overline{b_{0}} \\overline{b_{1}}\\right)}{2} - 8 i a \\rho_{5}{\\left(t \\right)}$"
      ],
      "text/plain": [
       "Eq(Derivative(rho_5(t), t), -\\gamma_{++}*(Abs(b0)**2 + Abs(b1)**2)*rho_5(t)/2 - \\gamma_{++}*(b1*rho_14(t)*conjugate(b0) + rho_15(t)*Abs(b1)**2 - rho_2(t)*conjugate(b0)**2 - rho_3(t)*conjugate(b0)*conjugate(b1))/2 - 8*I*a*rho_5(t))"
      ]
     },
     "metadata": {},
     "output_type": "display_data"
    },
    {
     "data": {
      "text/latex": [
       "$\\displaystyle \\frac{d}{d t} \\rho_{8}{\\left(t \\right)} = - \\frac{\\gamma_{++} \\left(\\left|{b_{0}}\\right|^{2} + \\left|{b_{1}}\\right|^{2}\\right) \\rho_{8}{\\left(t \\right)}}{2} - \\frac{\\gamma_{++} \\left(b_{0} b_{1} \\rho_{15}{\\left(t \\right)} - b_{1}^{2} \\rho_{14}{\\left(t \\right)} + b_{1} \\rho_{2}{\\left(t \\right)} \\overline{b_{0}} - \\rho_{3}{\\left(t \\right)} \\left|{b_{0}}\\right|^{2}\\right)}{2} - 8 i a \\rho_{8}{\\left(t \\right)}$"
      ],
      "text/plain": [
       "Eq(Derivative(rho_8(t), t), -\\gamma_{++}*(Abs(b0)**2 + Abs(b1)**2)*rho_8(t)/2 - \\gamma_{++}*(b0*b1*rho_15(t) - b1**2*rho_14(t) + b1*rho_2(t)*conjugate(b0) - rho_3(t)*Abs(b0)**2)/2 - 8*I*a*rho_8(t))"
      ]
     },
     "metadata": {},
     "output_type": "display_data"
    },
    {
     "data": {
      "text/latex": [
       "$\\displaystyle \\frac{d}{d t} \\rho_{9}{\\left(t \\right)} = - \\frac{\\gamma_{++} \\left(\\left|{b_{0}}\\right|^{2} + \\left|{b_{1}}\\right|^{2}\\right) \\rho_{9}{\\left(t \\right)}}{2} + \\frac{\\gamma_{++} \\left(b_{0} \\rho_{15}{\\left(t \\right)} \\overline{b_{1}} + \\rho_{14}{\\left(t \\right)} \\left|{b_{0}}\\right|^{2} + \\rho_{2}{\\left(t \\right)} \\overline{b_{0}} \\overline{b_{1}} + \\rho_{3}{\\left(t \\right)} \\overline{b_{1}}^{2}\\right)}{2} - 8 i a \\rho_{9}{\\left(t \\right)}$"
      ],
      "text/plain": [
       "Eq(Derivative(rho_9(t), t), -\\gamma_{++}*(Abs(b0)**2 + Abs(b1)**2)*rho_9(t)/2 + \\gamma_{++}*(b0*rho_15(t)*conjugate(b1) + rho_14(t)*Abs(b0)**2 + rho_2(t)*conjugate(b0)*conjugate(b1) + rho_3(t)*conjugate(b1)**2)/2 - 8*I*a*rho_9(t))"
      ]
     },
     "metadata": {},
     "output_type": "display_data"
    },
    {
     "data": {
      "text/latex": [
       "$\\displaystyle \\frac{d}{d t} \\rho_{12}{\\left(t \\right)} = - \\frac{\\gamma_{++} \\left(\\left|{b_{0}}\\right|^{2} + \\left|{b_{1}}\\right|^{2}\\right) \\rho_{12}{\\left(t \\right)}}{2} + \\frac{\\gamma_{++} \\left(b_{0}^{2} \\rho_{15}{\\left(t \\right)} - b_{0} b_{1} \\rho_{14}{\\left(t \\right)} + b_{0} \\rho_{3}{\\left(t \\right)} \\overline{b_{1}} - \\rho_{2}{\\left(t \\right)} \\left|{b_{1}}\\right|^{2}\\right)}{2} - 8 i a \\rho_{12}{\\left(t \\right)}$"
      ],
      "text/plain": [
       "Eq(Derivative(rho_12(t), t), -\\gamma_{++}*(Abs(b0)**2 + Abs(b1)**2)*rho_12(t)/2 + \\gamma_{++}*(b0**2*rho_15(t) - b0*b1*rho_14(t) + b0*rho_3(t)*conjugate(b1) - rho_2(t)*Abs(b1)**2)/2 - 8*I*a*rho_12(t))"
      ]
     },
     "metadata": {},
     "output_type": "display_data"
    },
    {
     "data": {
      "text/latex": [
       "$\\displaystyle \\frac{d}{d t} \\rho_{13}{\\left(t \\right)} = - \\gamma_{++} \\left(C_{1} \\overline{b_{0}} \\overline{b_{1}} + C_{2} \\overline{b_{1}}^{2} - C_{3} \\overline{b_{0}}^{2} - C_{4} \\overline{b_{0}} \\overline{b_{1}}\\right) e^{- \\gamma_{++} t \\left(\\left|{b_{0}}\\right|^{2} + \\left|{b_{1}}\\right|^{2}\\right)}$"
      ],
      "text/plain": [
       "Eq(Derivative(rho_13(t), t), -\\gamma_{++}*(C1*conjugate(b0)*conjugate(b1) + C2*conjugate(b1)**2 - C3*conjugate(b0)**2 - C4*conjugate(b0)*conjugate(b1))*exp(-\\gamma_{++}*t*(Abs(b0)**2 + Abs(b1)**2)))"
      ]
     },
     "metadata": {},
     "output_type": "display_data"
    },
    {
     "data": {
      "text/latex": [
       "$\\displaystyle \\frac{d}{d t} \\rho_{14}{\\left(t \\right)} = - \\frac{\\gamma_{++} \\left(\\left|{b_{0}}\\right|^{2} + \\left|{b_{1}}\\right|^{2}\\right) \\rho_{14}{\\left(t \\right)}}{2} - \\frac{\\gamma_{++} \\left(b_{0} \\rho_{5}{\\left(t \\right)} \\overline{b_{1}} + \\rho_{12}{\\left(t \\right)} \\overline{b_{0}} \\overline{b_{1}} - \\rho_{8}{\\left(t \\right)} \\overline{b_{1}}^{2} - \\rho_{9}{\\left(t \\right)} \\left|{b_{0}}\\right|^{2}\\right)}{2} + 8 i a \\rho_{14}{\\left(t \\right)}$"
      ],
      "text/plain": [
       "Eq(Derivative(rho_14(t), t), -\\gamma_{++}*(Abs(b0)**2 + Abs(b1)**2)*rho_14(t)/2 - \\gamma_{++}*(b0*rho_5(t)*conjugate(b1) + rho_12(t)*conjugate(b0)*conjugate(b1) - rho_8(t)*conjugate(b1)**2 - rho_9(t)*Abs(b0)**2)/2 + 8*I*a*rho_14(t))"
      ]
     },
     "metadata": {},
     "output_type": "display_data"
    },
    {
     "data": {
      "text/latex": [
       "$\\displaystyle \\frac{d}{d t} \\rho_{15}{\\left(t \\right)} = - \\frac{\\gamma_{++} \\left(\\left|{b_{0}}\\right|^{2} + \\left|{b_{1}}\\right|^{2}\\right) \\rho_{15}{\\left(t \\right)}}{2} + \\frac{\\gamma_{++} \\left(b_{1} \\rho_{9}{\\left(t \\right)} \\overline{b_{0}} + \\rho_{12}{\\left(t \\right)} \\overline{b_{0}}^{2} - \\rho_{5}{\\left(t \\right)} \\left|{b_{1}}\\right|^{2} - \\rho_{8}{\\left(t \\right)} \\overline{b_{0}} \\overline{b_{1}}\\right)}{2} + 8 i a \\rho_{15}{\\left(t \\right)}$"
      ],
      "text/plain": [
       "Eq(Derivative(rho_15(t), t), -\\gamma_{++}*(Abs(b0)**2 + Abs(b1)**2)*rho_15(t)/2 + \\gamma_{++}*(b1*rho_9(t)*conjugate(b0) + rho_12(t)*conjugate(b0)**2 - rho_5(t)*Abs(b1)**2 - rho_8(t)*conjugate(b0)*conjugate(b1))/2 + 8*I*a*rho_15(t))"
      ]
     },
     "metadata": {},
     "output_type": "display_data"
    },
    {
     "data": {
      "text/latex": [
       "$\\displaystyle \\frac{d}{d t} \\rho_{16}{\\left(t \\right)} = \\gamma_{++} \\left(C_{1} \\left|{b_{1}}\\right|^{2} - C_{2} b_{0} \\overline{b_{1}} - C_{3} b_{1} \\overline{b_{0}} + C_{4} \\left|{b_{0}}\\right|^{2}\\right) e^{- \\gamma_{++} t \\left(\\left|{b_{0}}\\right|^{2} + \\left|{b_{1}}\\right|^{2}\\right)}$"
      ],
      "text/plain": [
       "Eq(Derivative(rho_16(t), t), \\gamma_{++}*(C1*Abs(b1)**2 - C2*b0*conjugate(b1) - C3*b1*conjugate(b0) + C4*Abs(b0)**2)*exp(-\\gamma_{++}*t*(Abs(b0)**2 + Abs(b1)**2)))"
      ]
     },
     "metadata": {},
     "output_type": "display_data"
    }
   ],
   "source": [
    "eqs3_full=[i.subs(sols_subs) for i in eqs2]\n",
    "eqs3=[i.simplify() for i in eqs3_full if i.simplify()!=True ]\n",
    "for i in eqs3:\n",
    "    display(i)"
   ]
  },
  {
   "cell_type": "markdown",
   "id": "990cfa8d-7d89-4712-b5d5-7ab6224b51fe",
   "metadata": {},
   "source": [
    "The trace is still preserved as expected"
   ]
  },
  {
   "cell_type": "code",
   "execution_count": 39,
   "id": "d377ee80-1bdb-4ad7-bb6c-8915db6710af",
   "metadata": {},
   "outputs": [
    {
     "data": {
      "text/latex": [
       "$\\displaystyle \\frac{d}{d t} \\rho_{1}{\\left(t \\right)} + \\frac{d}{d t} \\rho_{11}{\\left(t \\right)} + \\frac{d}{d t} \\rho_{16}{\\left(t \\right)} + \\frac{d}{d t} \\rho_{6}{\\left(t \\right)} = 0$"
      ],
      "text/plain": [
       "Eq(Derivative(rho_1(t), t) + Derivative(rho_11(t), t) + Derivative(rho_16(t), t) + Derivative(rho_6(t), t), 0)"
      ]
     },
     "execution_count": 39,
     "metadata": {},
     "output_type": "execute_result"
    }
   ],
   "source": [
    "Eq(eqs2[0].lhs + eqs2[5].lhs + eqs2[10].lhs + eqs2[15].lhs,(eqs3_full[0].rhs + eqs3_full[5].rhs + eqs3_full[10].rhs + eqs3_full[15].rhs ).expand())"
   ]
  },
  {
   "cell_type": "code",
   "execution_count": 40,
   "id": "a2c0f306-ffcb-48da-abd9-753721117159",
   "metadata": {},
   "outputs": [],
   "source": [
    "sols_easy2=dsolve([eqs3[i] for i in (0,3,8,11)])\n",
    "sols_subs2={i.lhs:i.rhs for i in sols_easy2}"
   ]
  },
  {
   "cell_type": "code",
   "execution_count": 41,
   "id": "47406336-1376-493a-90da-227fa9687473",
   "metadata": {},
   "outputs": [
    {
     "data": {
      "text/latex": [
       "$\\displaystyle \\frac{d}{d t} \\rho_{2}{\\left(t \\right)} = - \\frac{\\gamma_{++} \\left(\\left|{b_{0}}\\right|^{2} + \\left|{b_{1}}\\right|^{2}\\right) \\rho_{2}{\\left(t \\right)}}{2} + \\frac{\\gamma_{++} \\left(b_{0}^{2} \\rho_{5}{\\left(t \\right)} + b_{0} b_{1} \\rho_{9}{\\left(t \\right)} - b_{0} \\rho_{8}{\\left(t \\right)} \\overline{b_{1}} - \\rho_{12}{\\left(t \\right)} \\left|{b_{1}}\\right|^{2}\\right)}{2} + 8 i a \\rho_{2}{\\left(t \\right)}$"
      ],
      "text/plain": [
       "Eq(Derivative(rho_2(t), t), -\\gamma_{++}*(Abs(b0)**2 + Abs(b1)**2)*rho_2(t)/2 + \\gamma_{++}*(b0**2*rho_5(t) + b0*b1*rho_9(t) - b0*rho_8(t)*conjugate(b1) - rho_12(t)*Abs(b1)**2)/2 + 8*I*a*rho_2(t))"
      ]
     },
     "metadata": {},
     "output_type": "display_data"
    },
    {
     "data": {
      "text/latex": [
       "$\\displaystyle \\frac{d}{d t} \\rho_{3}{\\left(t \\right)} = - \\frac{\\gamma_{++} \\left(\\left|{b_{0}}\\right|^{2} + \\left|{b_{1}}\\right|^{2}\\right) \\rho_{3}{\\left(t \\right)}}{2} + \\frac{\\gamma_{++} \\left(b_{0} b_{1} \\rho_{5}{\\left(t \\right)} + b_{1}^{2} \\rho_{9}{\\left(t \\right)} + b_{1} \\rho_{12}{\\left(t \\right)} \\overline{b_{0}} + \\rho_{8}{\\left(t \\right)} \\left|{b_{0}}\\right|^{2}\\right)}{2} + 8 i a \\rho_{3}{\\left(t \\right)}$"
      ],
      "text/plain": [
       "Eq(Derivative(rho_3(t), t), -\\gamma_{++}*(Abs(b0)**2 + Abs(b1)**2)*rho_3(t)/2 + \\gamma_{++}*(b0*b1*rho_5(t) + b1**2*rho_9(t) + b1*rho_12(t)*conjugate(b0) + rho_8(t)*Abs(b0)**2)/2 + 8*I*a*rho_3(t))"
      ]
     },
     "metadata": {},
     "output_type": "display_data"
    },
    {
     "data": {
      "text/latex": [
       "$\\displaystyle \\frac{d}{d t} \\rho_{5}{\\left(t \\right)} = - \\frac{\\gamma_{++} \\left(\\left|{b_{0}}\\right|^{2} + \\left|{b_{1}}\\right|^{2}\\right) \\rho_{5}{\\left(t \\right)}}{2} - \\frac{\\gamma_{++} \\left(b_{1} \\rho_{14}{\\left(t \\right)} \\overline{b_{0}} + \\rho_{15}{\\left(t \\right)} \\left|{b_{1}}\\right|^{2} - \\rho_{2}{\\left(t \\right)} \\overline{b_{0}}^{2} - \\rho_{3}{\\left(t \\right)} \\overline{b_{0}} \\overline{b_{1}}\\right)}{2} - 8 i a \\rho_{5}{\\left(t \\right)}$"
      ],
      "text/plain": [
       "Eq(Derivative(rho_5(t), t), -\\gamma_{++}*(Abs(b0)**2 + Abs(b1)**2)*rho_5(t)/2 - \\gamma_{++}*(b1*rho_14(t)*conjugate(b0) + rho_15(t)*Abs(b1)**2 - rho_2(t)*conjugate(b0)**2 - rho_3(t)*conjugate(b0)*conjugate(b1))/2 - 8*I*a*rho_5(t))"
      ]
     },
     "metadata": {},
     "output_type": "display_data"
    },
    {
     "data": {
      "text/latex": [
       "$\\displaystyle \\frac{d}{d t} \\rho_{8}{\\left(t \\right)} = - \\frac{\\gamma_{++} \\left(\\left|{b_{0}}\\right|^{2} + \\left|{b_{1}}\\right|^{2}\\right) \\rho_{8}{\\left(t \\right)}}{2} - \\frac{\\gamma_{++} \\left(b_{0} b_{1} \\rho_{15}{\\left(t \\right)} - b_{1}^{2} \\rho_{14}{\\left(t \\right)} + b_{1} \\rho_{2}{\\left(t \\right)} \\overline{b_{0}} - \\rho_{3}{\\left(t \\right)} \\left|{b_{0}}\\right|^{2}\\right)}{2} - 8 i a \\rho_{8}{\\left(t \\right)}$"
      ],
      "text/plain": [
       "Eq(Derivative(rho_8(t), t), -\\gamma_{++}*(Abs(b0)**2 + Abs(b1)**2)*rho_8(t)/2 - \\gamma_{++}*(b0*b1*rho_15(t) - b1**2*rho_14(t) + b1*rho_2(t)*conjugate(b0) - rho_3(t)*Abs(b0)**2)/2 - 8*I*a*rho_8(t))"
      ]
     },
     "metadata": {},
     "output_type": "display_data"
    },
    {
     "data": {
      "text/latex": [
       "$\\displaystyle \\frac{d}{d t} \\rho_{9}{\\left(t \\right)} = - \\frac{\\gamma_{++} \\left(\\left|{b_{0}}\\right|^{2} + \\left|{b_{1}}\\right|^{2}\\right) \\rho_{9}{\\left(t \\right)}}{2} + \\frac{\\gamma_{++} \\left(b_{0} \\rho_{15}{\\left(t \\right)} \\overline{b_{1}} + \\rho_{14}{\\left(t \\right)} \\left|{b_{0}}\\right|^{2} + \\rho_{2}{\\left(t \\right)} \\overline{b_{0}} \\overline{b_{1}} + \\rho_{3}{\\left(t \\right)} \\overline{b_{1}}^{2}\\right)}{2} - 8 i a \\rho_{9}{\\left(t \\right)}$"
      ],
      "text/plain": [
       "Eq(Derivative(rho_9(t), t), -\\gamma_{++}*(Abs(b0)**2 + Abs(b1)**2)*rho_9(t)/2 + \\gamma_{++}*(b0*rho_15(t)*conjugate(b1) + rho_14(t)*Abs(b0)**2 + rho_2(t)*conjugate(b0)*conjugate(b1) + rho_3(t)*conjugate(b1)**2)/2 - 8*I*a*rho_9(t))"
      ]
     },
     "metadata": {},
     "output_type": "display_data"
    },
    {
     "data": {
      "text/latex": [
       "$\\displaystyle \\frac{d}{d t} \\rho_{12}{\\left(t \\right)} = - \\frac{\\gamma_{++} \\left(\\left|{b_{0}}\\right|^{2} + \\left|{b_{1}}\\right|^{2}\\right) \\rho_{12}{\\left(t \\right)}}{2} + \\frac{\\gamma_{++} \\left(b_{0}^{2} \\rho_{15}{\\left(t \\right)} - b_{0} b_{1} \\rho_{14}{\\left(t \\right)} + b_{0} \\rho_{3}{\\left(t \\right)} \\overline{b_{1}} - \\rho_{2}{\\left(t \\right)} \\left|{b_{1}}\\right|^{2}\\right)}{2} - 8 i a \\rho_{12}{\\left(t \\right)}$"
      ],
      "text/plain": [
       "Eq(Derivative(rho_12(t), t), -\\gamma_{++}*(Abs(b0)**2 + Abs(b1)**2)*rho_12(t)/2 + \\gamma_{++}*(b0**2*rho_15(t) - b0*b1*rho_14(t) + b0*rho_3(t)*conjugate(b1) - rho_2(t)*Abs(b1)**2)/2 - 8*I*a*rho_12(t))"
      ]
     },
     "metadata": {},
     "output_type": "display_data"
    },
    {
     "data": {
      "text/latex": [
       "$\\displaystyle \\frac{d}{d t} \\rho_{14}{\\left(t \\right)} = - \\frac{\\gamma_{++} \\left(\\left|{b_{0}}\\right|^{2} + \\left|{b_{1}}\\right|^{2}\\right) \\rho_{14}{\\left(t \\right)}}{2} - \\frac{\\gamma_{++} \\left(b_{0} \\rho_{5}{\\left(t \\right)} \\overline{b_{1}} + \\rho_{12}{\\left(t \\right)} \\overline{b_{0}} \\overline{b_{1}} - \\rho_{8}{\\left(t \\right)} \\overline{b_{1}}^{2} - \\rho_{9}{\\left(t \\right)} \\left|{b_{0}}\\right|^{2}\\right)}{2} + 8 i a \\rho_{14}{\\left(t \\right)}$"
      ],
      "text/plain": [
       "Eq(Derivative(rho_14(t), t), -\\gamma_{++}*(Abs(b0)**2 + Abs(b1)**2)*rho_14(t)/2 - \\gamma_{++}*(b0*rho_5(t)*conjugate(b1) + rho_12(t)*conjugate(b0)*conjugate(b1) - rho_8(t)*conjugate(b1)**2 - rho_9(t)*Abs(b0)**2)/2 + 8*I*a*rho_14(t))"
      ]
     },
     "metadata": {},
     "output_type": "display_data"
    },
    {
     "data": {
      "text/latex": [
       "$\\displaystyle \\frac{d}{d t} \\rho_{15}{\\left(t \\right)} = - \\frac{\\gamma_{++} \\left(\\left|{b_{0}}\\right|^{2} + \\left|{b_{1}}\\right|^{2}\\right) \\rho_{15}{\\left(t \\right)}}{2} + \\frac{\\gamma_{++} \\left(b_{1} \\rho_{9}{\\left(t \\right)} \\overline{b_{0}} + \\rho_{12}{\\left(t \\right)} \\overline{b_{0}}^{2} - \\rho_{5}{\\left(t \\right)} \\left|{b_{1}}\\right|^{2} - \\rho_{8}{\\left(t \\right)} \\overline{b_{0}} \\overline{b_{1}}\\right)}{2} + 8 i a \\rho_{15}{\\left(t \\right)}$"
      ],
      "text/plain": [
       "Eq(Derivative(rho_15(t), t), -\\gamma_{++}*(Abs(b0)**2 + Abs(b1)**2)*rho_15(t)/2 + \\gamma_{++}*(b1*rho_9(t)*conjugate(b0) + rho_12(t)*conjugate(b0)**2 - rho_5(t)*Abs(b1)**2 - rho_8(t)*conjugate(b0)*conjugate(b1))/2 + 8*I*a*rho_15(t))"
      ]
     },
     "metadata": {},
     "output_type": "display_data"
    }
   ],
   "source": [
    "eqs4_full=[i.subs(sols_subs).subs(sols_subs2) for i in eqs2]\n",
    "eqs4=[i.simplify() for i in eqs4_full if i.simplify()!=True ]\n",
    "for i in eqs4:\n",
    "    display(i)"
   ]
  },
  {
   "cell_type": "markdown",
   "id": "5bd3b4bf-f6ed-4a90-ab1c-610e5d8bddf0",
   "metadata": {},
   "source": [
    "The set of equation does preserve the trace, we made a mistake in person"
   ]
  },
  {
   "cell_type": "code",
   "execution_count": 42,
   "id": "a933bb1d-f392-4385-ab9c-3c00892df8d6",
   "metadata": {},
   "outputs": [
    {
     "data": {
      "text/latex": [
       "$\\displaystyle \\frac{d}{d t} \\rho_{1}{\\left(t \\right)} + \\frac{d}{d t} \\rho_{11}{\\left(t \\right)} + \\frac{d}{d t} \\rho_{16}{\\left(t \\right)} + \\frac{d}{d t} \\rho_{6}{\\left(t \\right)} = 0$"
      ],
      "text/plain": [
       "Eq(Derivative(rho_1(t), t) + Derivative(rho_11(t), t) + Derivative(rho_16(t), t) + Derivative(rho_6(t), t), 0)"
      ]
     },
     "execution_count": 42,
     "metadata": {},
     "output_type": "execute_result"
    }
   ],
   "source": [
    "Eq(eqs2[0].lhs + eqs2[5].lhs + eqs2[10].lhs + eqs2[15].lhs,(eqs4_full[0].rhs + eqs4_full[5].rhs + eqs4_full[10].rhs + eqs4_full[15].rhs ).expand())"
   ]
  },
  {
   "cell_type": "markdown",
   "id": "16ea493d-7455-4f33-90dd-1f245f534f3c",
   "metadata": {},
   "source": [
    "I cannot solve analytically for the general case due to the degree of the polynomial, I can then use  specific values of $b_{0}$ and $b_{1}$ so that I can express it as radicals ( I did not try mathematica though but even If I do it would be a root object). But I can solve the diagonal (But that does not help because the diagonal works)\n"
   ]
  },
  {
   "cell_type": "code",
   "execution_count": 43,
   "id": "8ef60fd3-cd89-4f3f-ab17-6b62d30ad36d",
   "metadata": {},
   "outputs": [
    {
     "data": {
      "text/latex": [
       "$\\displaystyle \\rho_{6}{\\left(t \\right)} = C_{1} e^{- t \\left(\\gamma_{++} \\left|{b_{0}}\\right|^{2} + \\gamma_{++} \\left|{b_{1}}\\right|^{2}\\right)}$"
      ],
      "text/plain": [
       "Eq(rho_6(t), C1*exp(-t*(\\gamma_{++}*Abs(b0)**2 + \\gamma_{++}*Abs(b1)**2)))"
      ]
     },
     "metadata": {},
     "output_type": "display_data"
    },
    {
     "data": {
      "text/latex": [
       "$\\displaystyle \\rho_{7}{\\left(t \\right)} = C_{2} e^{- t \\left(\\gamma_{++} \\left|{b_{0}}\\right|^{2} + \\gamma_{++} \\left|{b_{1}}\\right|^{2}\\right)}$"
      ],
      "text/plain": [
       "Eq(rho_7(t), C2*exp(-t*(\\gamma_{++}*Abs(b0)**2 + \\gamma_{++}*Abs(b1)**2)))"
      ]
     },
     "metadata": {},
     "output_type": "display_data"
    },
    {
     "data": {
      "text/latex": [
       "$\\displaystyle \\rho_{10}{\\left(t \\right)} = C_{3} e^{- t \\left(\\gamma_{++} \\left|{b_{0}}\\right|^{2} + \\gamma_{++} \\left|{b_{1}}\\right|^{2}\\right)}$"
      ],
      "text/plain": [
       "Eq(rho_10(t), C3*exp(-t*(\\gamma_{++}*Abs(b0)**2 + \\gamma_{++}*Abs(b1)**2)))"
      ]
     },
     "metadata": {},
     "output_type": "display_data"
    },
    {
     "data": {
      "text/latex": [
       "$\\displaystyle \\rho_{11}{\\left(t \\right)} = C_{4} e^{- t \\left(\\gamma_{++} \\left|{b_{0}}\\right|^{2} + \\gamma_{++} \\left|{b_{1}}\\right|^{2}\\right)}$"
      ],
      "text/plain": [
       "Eq(rho_11(t), C4*exp(-t*(\\gamma_{++}*Abs(b0)**2 + \\gamma_{++}*Abs(b1)**2)))"
      ]
     },
     "metadata": {},
     "output_type": "display_data"
    }
   ],
   "source": [
    "for i in sols_easy:\n",
    "    display(i)"
   ]
  },
  {
   "cell_type": "code",
   "execution_count": 44,
   "id": "3ecbe86d-061f-4e20-a4dc-a69c66066314",
   "metadata": {},
   "outputs": [
    {
     "data": {
      "text/latex": [
       "$\\displaystyle \\rho_{1}{\\left(t \\right)} = C_{5} - \\frac{\\left(C_{1} \\left|{b_{0}}\\right|^{2} + C_{2} b_{0} \\overline{b_{1}} + C_{3} b_{1} \\overline{b_{0}} + C_{4} \\left|{b_{1}}\\right|^{2}\\right) e^{- t \\left(\\gamma_{++} \\left|{b_{0}}\\right|^{2} + \\gamma_{++} \\left|{b_{1}}\\right|^{2}\\right)}}{\\left|{b_{0}}\\right|^{2} + \\left|{b_{1}}\\right|^{2}}$"
      ],
      "text/plain": [
       "Eq(rho_1(t), C5 - (C1*Abs(b0)**2 + C2*b0*conjugate(b1) + C3*b1*conjugate(b0) + C4*Abs(b1)**2)*exp(-t*(\\gamma_{++}*Abs(b0)**2 + \\gamma_{++}*Abs(b1)**2))/(Abs(b0)**2 + Abs(b1)**2))"
      ]
     },
     "metadata": {},
     "output_type": "display_data"
    },
    {
     "data": {
      "text/latex": [
       "$\\displaystyle \\rho_{4}{\\left(t \\right)} = C_{6} + \\frac{\\left(C_{1} b_{0} b_{1} - C_{2} b_{0}^{2} + C_{3} b_{1}^{2} - C_{4} b_{0} b_{1}\\right) e^{- t \\left(\\gamma_{++} \\left|{b_{0}}\\right|^{2} + \\gamma_{++} \\left|{b_{1}}\\right|^{2}\\right)}}{\\left|{b_{0}}\\right|^{2} + \\left|{b_{1}}\\right|^{2}}$"
      ],
      "text/plain": [
       "Eq(rho_4(t), C6 + (C1*b0*b1 - C2*b0**2 + C3*b1**2 - C4*b0*b1)*exp(-t*(\\gamma_{++}*Abs(b0)**2 + \\gamma_{++}*Abs(b1)**2))/(Abs(b0)**2 + Abs(b1)**2))"
      ]
     },
     "metadata": {},
     "output_type": "display_data"
    },
    {
     "data": {
      "text/latex": [
       "$\\displaystyle \\rho_{13}{\\left(t \\right)} = C_{7} + \\frac{\\left(C_{1} \\overline{b_{0}} \\overline{b_{1}} + C_{2} \\overline{b_{1}}^{2} - C_{3} \\overline{b_{0}}^{2} - C_{4} \\overline{b_{0}} \\overline{b_{1}}\\right) e^{- t \\left(\\gamma_{++} \\left|{b_{0}}\\right|^{2} + \\gamma_{++} \\left|{b_{1}}\\right|^{2}\\right)}}{\\left|{b_{0}}\\right|^{2} + \\left|{b_{1}}\\right|^{2}}$"
      ],
      "text/plain": [
       "Eq(rho_13(t), C7 + (C1*conjugate(b0)*conjugate(b1) + C2*conjugate(b1)**2 - C3*conjugate(b0)**2 - C4*conjugate(b0)*conjugate(b1))*exp(-t*(\\gamma_{++}*Abs(b0)**2 + \\gamma_{++}*Abs(b1)**2))/(Abs(b0)**2 + Abs(b1)**2))"
      ]
     },
     "metadata": {},
     "output_type": "display_data"
    },
    {
     "data": {
      "text/latex": [
       "$\\displaystyle \\rho_{16}{\\left(t \\right)} = C_{8} - \\frac{\\left(C_{1} \\left|{b_{1}}\\right|^{2} - C_{2} b_{0} \\overline{b_{1}} - C_{3} b_{1} \\overline{b_{0}} + C_{4} \\left|{b_{0}}\\right|^{2}\\right) e^{- t \\left(\\gamma_{++} \\left|{b_{0}}\\right|^{2} + \\gamma_{++} \\left|{b_{1}}\\right|^{2}\\right)}}{\\left|{b_{0}}\\right|^{2} + \\left|{b_{1}}\\right|^{2}}$"
      ],
      "text/plain": [
       "Eq(rho_16(t), C8 - (C1*Abs(b1)**2 - C2*b0*conjugate(b1) - C3*b1*conjugate(b0) + C4*Abs(b0)**2)*exp(-t*(\\gamma_{++}*Abs(b0)**2 + \\gamma_{++}*Abs(b1)**2))/(Abs(b0)**2 + Abs(b1)**2))"
      ]
     },
     "metadata": {},
     "output_type": "display_data"
    }
   ],
   "source": [
    "for i in sols_easy2:\n",
    "    display(i)"
   ]
  },
  {
   "cell_type": "markdown",
   "id": "46cde0ff-88d0-4aaa-8c56-04554b107f9d",
   "metadata": {},
   "source": [
    "And No contradiction because the trace is preserved, but the time dependent trace does have an issue because"
   ]
  },
  {
   "cell_type": "code",
   "execution_count": 45,
   "id": "16e97c10-f28c-4d16-aa7e-364ae7c6e290",
   "metadata": {},
   "outputs": [],
   "source": [
    "trace_pres=Eq(sols_easy2[0].lhs + sols_easy[0].lhs +sols_easy[-1].lhs+sols_easy2[-1].lhs ,sols_easy2[0].rhs + sols_easy[0].rhs+sols_easy[-1].rhs+sols_easy2[-1].rhs)"
   ]
  },
  {
   "cell_type": "code",
   "execution_count": 46,
   "id": "52ce677e-fae0-4ff1-b0cc-c0fc9f60f92d",
   "metadata": {},
   "outputs": [
    {
     "data": {
      "text/latex": [
       "$\\displaystyle \\rho_{1}{\\left(t \\right)} + \\rho_{11}{\\left(t \\right)} + \\rho_{16}{\\left(t \\right)} + \\rho_{6}{\\left(t \\right)} = C_{1} e^{- t \\left(\\gamma_{++} \\left|{b_{0}}\\right|^{2} + \\gamma_{++} \\left|{b_{1}}\\right|^{2}\\right)} + C_{4} e^{- t \\left(\\gamma_{++} \\left|{b_{0}}\\right|^{2} + \\gamma_{++} \\left|{b_{1}}\\right|^{2}\\right)} + C_{5} + C_{8} - \\frac{\\left(C_{1} \\left|{b_{0}}\\right|^{2} + C_{2} b_{0} \\overline{b_{1}} + C_{3} b_{1} \\overline{b_{0}} + C_{4} \\left|{b_{1}}\\right|^{2}\\right) e^{- t \\left(\\gamma_{++} \\left|{b_{0}}\\right|^{2} + \\gamma_{++} \\left|{b_{1}}\\right|^{2}\\right)}}{\\left|{b_{0}}\\right|^{2} + \\left|{b_{1}}\\right|^{2}} - \\frac{\\left(C_{1} \\left|{b_{1}}\\right|^{2} - C_{2} b_{0} \\overline{b_{1}} - C_{3} b_{1} \\overline{b_{0}} + C_{4} \\left|{b_{0}}\\right|^{2}\\right) e^{- t \\left(\\gamma_{++} \\left|{b_{0}}\\right|^{2} + \\gamma_{++} \\left|{b_{1}}\\right|^{2}\\right)}}{\\left|{b_{0}}\\right|^{2} + \\left|{b_{1}}\\right|^{2}}$"
      ],
      "text/plain": [
       "Eq(rho_1(t) + rho_11(t) + rho_16(t) + rho_6(t), C1*exp(-t*(\\gamma_{++}*Abs(b0)**2 + \\gamma_{++}*Abs(b1)**2)) + C4*exp(-t*(\\gamma_{++}*Abs(b0)**2 + \\gamma_{++}*Abs(b1)**2)) + C5 + C8 - (C1*Abs(b0)**2 + C2*b0*conjugate(b1) + C3*b1*conjugate(b0) + C4*Abs(b1)**2)*exp(-t*(\\gamma_{++}*Abs(b0)**2 + \\gamma_{++}*Abs(b1)**2))/(Abs(b0)**2 + Abs(b1)**2) - (C1*Abs(b1)**2 - C2*b0*conjugate(b1) - C3*b1*conjugate(b0) + C4*Abs(b0)**2)*exp(-t*(\\gamma_{++}*Abs(b0)**2 + \\gamma_{++}*Abs(b1)**2))/(Abs(b0)**2 + Abs(b1)**2))"
      ]
     },
     "execution_count": 46,
     "metadata": {},
     "output_type": "execute_result"
    }
   ],
   "source": [
    "trace_pres"
   ]
  },
  {
   "cell_type": "markdown",
   "id": "152b13b5-2c07-4c59-b789-38a2c8c028ec",
   "metadata": {},
   "source": [
    "Which simplifies to"
   ]
  },
  {
   "cell_type": "code",
   "execution_count": 47,
   "id": "e153c0ef-b3e7-47ee-9941-34314ce4e3ad",
   "metadata": {},
   "outputs": [
    {
     "data": {
      "text/latex": [
       "$\\displaystyle \\rho_{1}{\\left(t \\right)} + \\rho_{11}{\\left(t \\right)} + \\rho_{16}{\\left(t \\right)} + \\rho_{6}{\\left(t \\right)} = C_{5} + C_{8}$"
      ],
      "text/plain": [
       "Eq(rho_1(t) + rho_11(t) + rho_16(t) + rho_6(t), C5 + C8)"
      ]
     },
     "execution_count": 47,
     "metadata": {},
     "output_type": "execute_result"
    }
   ],
   "source": [
    "Eq(trace_pres.lhs,trace_pres.rhs.simplify())"
   ]
  },
  {
   "cell_type": "markdown",
   "id": "a00ca5f5-1e6b-4c67-a72f-e936a908561c",
   "metadata": {},
   "source": [
    "Which is odd, and perhaps inconsistent"
   ]
  },
  {
   "cell_type": "code",
   "execution_count": 48,
   "id": "2577b0ac-768b-4e99-a61f-0d4dc54b04af",
   "metadata": {},
   "outputs": [],
   "source": [
    "final=dict((v, k) for k, v in to_funcs.items())\n"
   ]
  },
  {
   "cell_type": "markdown",
   "id": "9f3c3a67-78e9-42a0-8234-2e4685df28f5",
   "metadata": {},
   "source": [
    "So I then try for the steady state"
   ]
  },
  {
   "cell_type": "code",
   "execution_count": 49,
   "id": "b789a8b3-d862-4270-83d0-7945e6eab348",
   "metadata": {
    "editable": true,
    "slideshow": {
     "slide_type": ""
    },
    "tags": [
     "no-pdf"
    ]
   },
   "outputs": [
    {
     "data": {
      "text/latex": [
       "$\\displaystyle \\gamma_{++} \\left(b_{0} \\overline{b_{1}} \\overline{\\rho_{10}} + b_{1} \\rho_{10} \\overline{b_{0}} + \\rho_{11} \\left|{b_{1}}\\right|^{2} + \\rho_{6} \\left|{b_{0}}\\right|^{2}\\right) = 0$"
      ],
      "text/plain": [
       "Eq(\\gamma_{++}*(b0*conjugate(b1)*conjugate(rho_10) + b1*rho_10*conjugate(b0) + rho_11*Abs(b1)**2 + rho_6*Abs(b0)**2), 0)"
      ]
     },
     "metadata": {},
     "output_type": "display_data"
    },
    {
     "data": {
      "text/latex": [
       "$\\displaystyle \\gamma_{++} \\left(- \\frac{\\rho_{2} \\left|{b_{0}}\\right|^{2}}{2} - \\frac{\\rho_{2} \\left|{b_{1}}\\right|^{2}}{2}\\right) + \\frac{\\gamma_{++} \\left(b_{0}^{2} \\overline{\\rho_{2}} + b_{0} b_{1} \\overline{\\rho_{3}} - b_{0} \\rho_{8} \\overline{b_{1}} - \\rho_{12} \\left|{b_{1}}\\right|^{2}\\right)}{2} + 8 i a \\rho_{2} = 0$"
      ],
      "text/plain": [
       "Eq(\\gamma_{++}*(-rho_2*Abs(b0)**2/2 - rho_2*Abs(b1)**2/2) + \\gamma_{++}*(b0**2*conjugate(rho_2) + b0*b1*conjugate(rho_3) - b0*rho_8*conjugate(b1) - rho_12*Abs(b1)**2)/2 + 8*I*a*rho_2, 0)"
      ]
     },
     "metadata": {},
     "output_type": "display_data"
    },
    {
     "data": {
      "text/latex": [
       "$\\displaystyle \\gamma_{++} \\left(- \\frac{\\rho_{3} \\left|{b_{0}}\\right|^{2}}{2} - \\frac{\\rho_{3} \\left|{b_{1}}\\right|^{2}}{2}\\right) + \\frac{\\gamma_{++} \\left(b_{0} b_{1} \\overline{\\rho_{2}} + b_{1}^{2} \\overline{\\rho_{3}} + b_{1} \\rho_{12} \\overline{b_{0}} + \\rho_{8} \\left|{b_{0}}\\right|^{2}\\right)}{2} + 8 i a \\rho_{3} = 0$"
      ],
      "text/plain": [
       "Eq(\\gamma_{++}*(-rho_3*Abs(b0)**2/2 - rho_3*Abs(b1)**2/2) + \\gamma_{++}*(b0*b1*conjugate(rho_2) + b1**2*conjugate(rho_3) + b1*rho_12*conjugate(b0) + rho_8*Abs(b0)**2)/2 + 8*I*a*rho_3, 0)"
      ]
     },
     "metadata": {},
     "output_type": "display_data"
    },
    {
     "data": {
      "text/latex": [
       "$\\displaystyle \\gamma_{++} \\left(b_{0}^{2} \\overline{\\rho_{10}} + b_{0} b_{1} \\rho_{11} - b_{0} b_{1} \\rho_{6} - b_{1}^{2} \\rho_{10}\\right) = 0$"
      ],
      "text/plain": [
       "Eq(\\gamma_{++}*(b0**2*conjugate(rho_10) + b0*b1*rho_11 - b0*b1*rho_6 - b1**2*rho_10), 0)"
      ]
     },
     "metadata": {},
     "output_type": "display_data"
    },
    {
     "data": {
      "text/latex": [
       "$\\displaystyle \\gamma_{++} \\left(- \\frac{\\overline{\\rho_{2}} \\left|{b_{0}}\\right|^{2}}{2} - \\frac{\\overline{\\rho_{2}} \\left|{b_{1}}\\right|^{2}}{2}\\right) + \\frac{\\gamma_{++} \\left(- b_{1} \\overline{b_{0}} \\overline{\\rho_{8}} + \\rho_{2} \\overline{b_{0}}^{2} + \\rho_{3} \\overline{b_{0}} \\overline{b_{1}} - \\overline{\\rho_{12}} \\left|{b_{1}}\\right|^{2}\\right)}{2} - 8 i a \\overline{\\rho_{2}} = 0$"
      ],
      "text/plain": [
       "Eq(\\gamma_{++}*(-conjugate(rho_2)*Abs(b0)**2/2 - conjugate(rho_2)*Abs(b1)**2/2) + \\gamma_{++}*(-b1*conjugate(b0)*conjugate(rho_8) + rho_2*conjugate(b0)**2 + rho_3*conjugate(b0)*conjugate(b1) - conjugate(rho_12)*Abs(b1)**2)/2 - 8*I*a*conjugate(rho_2), 0)"
      ]
     },
     "metadata": {},
     "output_type": "display_data"
    },
    {
     "data": {
      "text/latex": [
       "$\\displaystyle \\gamma_{++} \\left(- \\rho_{6} \\left|{b_{0}}\\right|^{2} - \\rho_{6} \\left|{b_{1}}\\right|^{2}\\right) = 0$"
      ],
      "text/plain": [
       "Eq(\\gamma_{++}*(-rho_6*Abs(b0)**2 - rho_6*Abs(b1)**2), 0)"
      ]
     },
     "metadata": {},
     "output_type": "display_data"
    },
    {
     "data": {
      "text/latex": [
       "$\\displaystyle \\gamma_{++} \\left(- \\overline{\\rho_{10}} \\left|{b_{0}}\\right|^{2} - \\overline{\\rho_{10}} \\left|{b_{1}}\\right|^{2}\\right) = 0$"
      ],
      "text/plain": [
       "Eq(\\gamma_{++}*(-conjugate(rho_10)*Abs(b0)**2 - conjugate(rho_10)*Abs(b1)**2), 0)"
      ]
     },
     "metadata": {},
     "output_type": "display_data"
    },
    {
     "data": {
      "text/latex": [
       "$\\displaystyle \\gamma_{++} \\left(- \\frac{\\rho_{8} \\left|{b_{0}}\\right|^{2}}{2} - \\frac{\\rho_{8} \\left|{b_{1}}\\right|^{2}}{2}\\right) + \\frac{\\gamma_{++} \\left(- b_{0} b_{1} \\overline{\\rho_{12}} + b_{1}^{2} \\overline{\\rho_{8}} - b_{1} \\rho_{2} \\overline{b_{0}} + \\rho_{3} \\left|{b_{0}}\\right|^{2}\\right)}{2} - 8 i a \\rho_{8} = 0$"
      ],
      "text/plain": [
       "Eq(\\gamma_{++}*(-rho_8*Abs(b0)**2/2 - rho_8*Abs(b1)**2/2) + \\gamma_{++}*(-b0*b1*conjugate(rho_12) + b1**2*conjugate(rho_8) - b1*rho_2*conjugate(b0) + rho_3*Abs(b0)**2)/2 - 8*I*a*rho_8, 0)"
      ]
     },
     "metadata": {},
     "output_type": "display_data"
    },
    {
     "data": {
      "text/latex": [
       "$\\displaystyle \\gamma_{++} \\left(- \\frac{\\overline{\\rho_{3}} \\left|{b_{0}}\\right|^{2}}{2} - \\frac{\\overline{\\rho_{3}} \\left|{b_{1}}\\right|^{2}}{2}\\right) + \\frac{\\gamma_{++} \\left(b_{0} \\overline{b_{1}} \\overline{\\rho_{12}} + \\rho_{2} \\overline{b_{0}} \\overline{b_{1}} + \\rho_{3} \\overline{b_{1}}^{2} + \\overline{\\rho_{8}} \\left|{b_{0}}\\right|^{2}\\right)}{2} - 8 i a \\overline{\\rho_{3}} = 0$"
      ],
      "text/plain": [
       "Eq(\\gamma_{++}*(-conjugate(rho_3)*Abs(b0)**2/2 - conjugate(rho_3)*Abs(b1)**2/2) + \\gamma_{++}*(b0*conjugate(b1)*conjugate(rho_12) + rho_2*conjugate(b0)*conjugate(b1) + rho_3*conjugate(b1)**2 + conjugate(rho_8)*Abs(b0)**2)/2 - 8*I*a*conjugate(rho_3), 0)"
      ]
     },
     "metadata": {},
     "output_type": "display_data"
    },
    {
     "data": {
      "text/latex": [
       "$\\displaystyle \\gamma_{++} \\left(- \\rho_{10} \\left|{b_{0}}\\right|^{2} - \\rho_{10} \\left|{b_{1}}\\right|^{2}\\right) = 0$"
      ],
      "text/plain": [
       "Eq(\\gamma_{++}*(-rho_10*Abs(b0)**2 - rho_10*Abs(b1)**2), 0)"
      ]
     },
     "metadata": {},
     "output_type": "display_data"
    },
    {
     "data": {
      "text/latex": [
       "$\\displaystyle \\gamma_{++} \\left(- \\rho_{11} \\left|{b_{0}}\\right|^{2} - \\rho_{11} \\left|{b_{1}}\\right|^{2}\\right) = 0$"
      ],
      "text/plain": [
       "Eq(\\gamma_{++}*(-rho_11*Abs(b0)**2 - rho_11*Abs(b1)**2), 0)"
      ]
     },
     "metadata": {},
     "output_type": "display_data"
    },
    {
     "data": {
      "text/latex": [
       "$\\displaystyle \\gamma_{++} \\left(- \\frac{\\rho_{12} \\left|{b_{0}}\\right|^{2}}{2} - \\frac{\\rho_{12} \\left|{b_{1}}\\right|^{2}}{2}\\right) + \\frac{\\gamma_{++} \\left(b_{0}^{2} \\overline{\\rho_{12}} - b_{0} b_{1} \\overline{\\rho_{8}} + b_{0} \\rho_{3} \\overline{b_{1}} - \\rho_{2} \\left|{b_{1}}\\right|^{2}\\right)}{2} - 8 i a \\rho_{12} = 0$"
      ],
      "text/plain": [
       "Eq(\\gamma_{++}*(-rho_12*Abs(b0)**2/2 - rho_12*Abs(b1)**2/2) + \\gamma_{++}*(b0**2*conjugate(rho_12) - b0*b1*conjugate(rho_8) + b0*rho_3*conjugate(b1) - rho_2*Abs(b1)**2)/2 - 8*I*a*rho_12, 0)"
      ]
     },
     "metadata": {},
     "output_type": "display_data"
    },
    {
     "data": {
      "text/latex": [
       "$\\displaystyle \\gamma_{++} \\left(\\rho_{10} \\overline{b_{0}}^{2} + \\rho_{11} \\overline{b_{0}} \\overline{b_{1}} - \\rho_{6} \\overline{b_{0}} \\overline{b_{1}} - \\overline{b_{1}}^{2} \\overline{\\rho_{10}}\\right) = 0$"
      ],
      "text/plain": [
       "Eq(\\gamma_{++}*(rho_10*conjugate(b0)**2 + rho_11*conjugate(b0)*conjugate(b1) - rho_6*conjugate(b0)*conjugate(b1) - conjugate(b1)**2*conjugate(rho_10)), 0)"
      ]
     },
     "metadata": {},
     "output_type": "display_data"
    },
    {
     "data": {
      "text/latex": [
       "$\\displaystyle \\gamma_{++} \\left(- \\frac{\\overline{\\rho_{8}} \\left|{b_{0}}\\right|^{2}}{2} - \\frac{\\overline{\\rho_{8}} \\left|{b_{1}}\\right|^{2}}{2}\\right) + \\frac{\\gamma_{++} \\left(- b_{0} \\overline{b_{1}} \\overline{\\rho_{2}} - \\rho_{12} \\overline{b_{0}} \\overline{b_{1}} + \\rho_{8} \\overline{b_{1}}^{2} + \\overline{\\rho_{3}} \\left|{b_{0}}\\right|^{2}\\right)}{2} + 8 i a \\overline{\\rho_{8}} = 0$"
      ],
      "text/plain": [
       "Eq(\\gamma_{++}*(-conjugate(rho_8)*Abs(b0)**2/2 - conjugate(rho_8)*Abs(b1)**2/2) + \\gamma_{++}*(-b0*conjugate(b1)*conjugate(rho_2) - rho_12*conjugate(b0)*conjugate(b1) + rho_8*conjugate(b1)**2 + conjugate(rho_3)*Abs(b0)**2)/2 + 8*I*a*conjugate(rho_8), 0)"
      ]
     },
     "metadata": {},
     "output_type": "display_data"
    },
    {
     "data": {
      "text/latex": [
       "$\\displaystyle \\gamma_{++} \\left(- \\frac{\\overline{\\rho_{12}} \\left|{b_{0}}\\right|^{2}}{2} - \\frac{\\overline{\\rho_{12}} \\left|{b_{1}}\\right|^{2}}{2}\\right) + \\frac{\\gamma_{++} \\left(b_{1} \\overline{b_{0}} \\overline{\\rho_{3}} + \\rho_{12} \\overline{b_{0}}^{2} - \\rho_{8} \\overline{b_{0}} \\overline{b_{1}} - \\overline{\\rho_{2}} \\left|{b_{1}}\\right|^{2}\\right)}{2} + 8 i a \\overline{\\rho_{12}} = 0$"
      ],
      "text/plain": [
       "Eq(\\gamma_{++}*(-conjugate(rho_12)*Abs(b0)**2/2 - conjugate(rho_12)*Abs(b1)**2/2) + \\gamma_{++}*(b1*conjugate(b0)*conjugate(rho_3) + rho_12*conjugate(b0)**2 - rho_8*conjugate(b0)*conjugate(b1) - conjugate(rho_2)*Abs(b1)**2)/2 + 8*I*a*conjugate(rho_12), 0)"
      ]
     },
     "metadata": {},
     "output_type": "display_data"
    },
    {
     "data": {
      "text/latex": [
       "$\\displaystyle \\gamma_{++} \\left(- b_{0} \\overline{b_{1}} \\overline{\\rho_{10}} - b_{1} \\rho_{10} \\overline{b_{0}} + \\rho_{11} \\left|{b_{0}}\\right|^{2} + \\rho_{6} \\left|{b_{1}}\\right|^{2}\\right) = 0$"
      ],
      "text/plain": [
       "Eq(\\gamma_{++}*(-b0*conjugate(b1)*conjugate(rho_10) - b1*rho_10*conjugate(b0) + rho_11*Abs(b0)**2 + rho_6*Abs(b1)**2), 0)"
      ]
     },
     "metadata": {},
     "output_type": "display_data"
    }
   ],
   "source": [
    "ss=[Eq(i.rhs,0).subs(final) for i in eqs2]\n",
    "for i in ss:\n",
    "    display(i)"
   ]
  },
  {
   "cell_type": "markdown",
   "id": "69a30dbc-f0b7-43af-9f51-416ecba1ca6f",
   "metadata": {},
   "source": [
    "From those equations obviously $\\rho_{10},\\rho_{6},\\rho_{11} = 0$, Substitution then gives us no information on the diagonal, but no inconsistency as we puzzled about before"
   ]
  },
  {
   "cell_type": "code",
   "execution_count": 50,
   "id": "577bda61-7c97-4e53-adb9-4ce6d473b941",
   "metadata": {},
   "outputs": [],
   "source": [
    "c= symbols('c0:8')"
   ]
  },
  {
   "cell_type": "code",
   "execution_count": 51,
   "id": "03f315df-dc7f-4008-b8d2-a9bc6cda75e5",
   "metadata": {},
   "outputs": [
    {
     "data": {
      "text/latex": [
       "$\\displaystyle \\frac{\\gamma_{++} \\left(b_{0}^{2} \\overline{\\rho_{2}} + b_{0} b_{1} \\overline{\\rho_{3}} - b_{0} \\rho_{8} \\overline{b_{1}} - \\rho_{12} \\left|{b_{1}}\\right|^{2}\\right)}{2} + 8 i a \\rho_{2} - c_{0} \\rho_{2} = 0$"
      ],
      "text/plain": [
       "Eq(\\gamma_{++}*(b0**2*conjugate(rho_2) + b0*b1*conjugate(rho_3) - b0*rho_8*conjugate(b1) - rho_12*Abs(b1)**2)/2 + 8*I*a*rho_2 - c0*rho_2, 0)"
      ]
     },
     "metadata": {},
     "output_type": "display_data"
    },
    {
     "data": {
      "text/latex": [
       "$\\displaystyle \\frac{\\gamma_{++} \\left(b_{0} b_{1} \\overline{\\rho_{2}} + b_{1}^{2} \\overline{\\rho_{3}} + b_{1} \\rho_{12} \\overline{b_{0}} + \\rho_{8} \\left|{b_{0}}\\right|^{2}\\right)}{2} + 8 i a \\rho_{3} - c_{0} \\rho_{3} = 0$"
      ],
      "text/plain": [
       "Eq(\\gamma_{++}*(b0*b1*conjugate(rho_2) + b1**2*conjugate(rho_3) + b1*rho_12*conjugate(b0) + rho_8*Abs(b0)**2)/2 + 8*I*a*rho_3 - c0*rho_3, 0)"
      ]
     },
     "metadata": {},
     "output_type": "display_data"
    },
    {
     "data": {
      "text/latex": [
       "$\\displaystyle \\frac{\\gamma_{++} \\left(b_{1} \\overline{b_{0}} \\overline{\\rho_{8}} - \\rho_{2} \\overline{b_{0}}^{2} - \\rho_{3} \\overline{b_{0}} \\overline{b_{1}} + \\overline{\\rho_{12}} \\left|{b_{1}}\\right|^{2}\\right)}{2} + 8 i a \\overline{\\rho_{2}} + c_{0} \\overline{\\rho_{2}} = 0$"
      ],
      "text/plain": [
       "Eq(\\gamma_{++}*(b1*conjugate(b0)*conjugate(rho_8) - rho_2*conjugate(b0)**2 - rho_3*conjugate(b0)*conjugate(b1) + conjugate(rho_12)*Abs(b1)**2)/2 + 8*I*a*conjugate(rho_2) + c0*conjugate(rho_2), 0)"
      ]
     },
     "metadata": {},
     "output_type": "display_data"
    },
    {
     "data": {
      "text/latex": [
       "$\\displaystyle \\frac{\\gamma_{++} \\left(b_{0} b_{1} \\overline{\\rho_{12}} - b_{1}^{2} \\overline{\\rho_{8}} + b_{1} \\rho_{2} \\overline{b_{0}} - \\rho_{3} \\left|{b_{0}}\\right|^{2}\\right)}{2} + 8 i a \\rho_{8} + c_{0} \\rho_{8} = 0$"
      ],
      "text/plain": [
       "Eq(\\gamma_{++}*(b0*b1*conjugate(rho_12) - b1**2*conjugate(rho_8) + b1*rho_2*conjugate(b0) - rho_3*Abs(b0)**2)/2 + 8*I*a*rho_8 + c0*rho_8, 0)"
      ]
     },
     "metadata": {},
     "output_type": "display_data"
    },
    {
     "data": {
      "text/latex": [
       "$\\displaystyle - \\frac{\\gamma_{++} \\left(b_{0} \\overline{b_{1}} \\overline{\\rho_{12}} + \\rho_{2} \\overline{b_{0}} \\overline{b_{1}} + \\rho_{3} \\overline{b_{1}}^{2} + \\overline{\\rho_{8}} \\left|{b_{0}}\\right|^{2}\\right)}{2} + 8 i a \\overline{\\rho_{3}} + c_{0} \\overline{\\rho_{3}} = 0$"
      ],
      "text/plain": [
       "Eq(-\\gamma_{++}*(b0*conjugate(b1)*conjugate(rho_12) + rho_2*conjugate(b0)*conjugate(b1) + rho_3*conjugate(b1)**2 + conjugate(rho_8)*Abs(b0)**2)/2 + 8*I*a*conjugate(rho_3) + c0*conjugate(rho_3), 0)"
      ]
     },
     "metadata": {},
     "output_type": "display_data"
    },
    {
     "data": {
      "text/latex": [
       "$\\displaystyle - \\frac{\\gamma_{++} \\left(b_{0}^{2} \\overline{\\rho_{12}} - b_{0} b_{1} \\overline{\\rho_{8}} + b_{0} \\rho_{3} \\overline{b_{1}} - \\rho_{2} \\left|{b_{1}}\\right|^{2}\\right)}{2} + 8 i a \\rho_{12} + c_{0} \\rho_{12} = 0$"
      ],
      "text/plain": [
       "Eq(-\\gamma_{++}*(b0**2*conjugate(rho_12) - b0*b1*conjugate(rho_8) + b0*rho_3*conjugate(b1) - rho_2*Abs(b1)**2)/2 + 8*I*a*rho_12 + c0*rho_12, 0)"
      ]
     },
     "metadata": {},
     "output_type": "display_data"
    },
    {
     "data": {
      "text/latex": [
       "$\\displaystyle \\frac{\\gamma_{++} \\left(b_{0} \\overline{b_{1}} \\overline{\\rho_{2}} + \\rho_{12} \\overline{b_{0}} \\overline{b_{1}} - \\rho_{8} \\overline{b_{1}}^{2} - \\overline{\\rho_{3}} \\left|{b_{0}}\\right|^{2}\\right)}{2} - 8 i a \\overline{\\rho_{8}} + c_{0} \\overline{\\rho_{8}} = 0$"
      ],
      "text/plain": [
       "Eq(\\gamma_{++}*(b0*conjugate(b1)*conjugate(rho_2) + rho_12*conjugate(b0)*conjugate(b1) - rho_8*conjugate(b1)**2 - conjugate(rho_3)*Abs(b0)**2)/2 - 8*I*a*conjugate(rho_8) + c0*conjugate(rho_8), 0)"
      ]
     },
     "metadata": {},
     "output_type": "display_data"
    },
    {
     "data": {
      "text/latex": [
       "$\\displaystyle \\frac{\\gamma_{++} \\left(b_{1} \\overline{b_{0}} \\overline{\\rho_{3}} + \\rho_{12} \\overline{b_{0}}^{2} - \\rho_{8} \\overline{b_{0}} \\overline{b_{1}} - \\overline{\\rho_{2}} \\left|{b_{1}}\\right|^{2}\\right)}{2} + 8 i a \\overline{\\rho_{12}} - c_{0} \\overline{\\rho_{12}} = 0$"
      ],
      "text/plain": [
       "Eq(\\gamma_{++}*(b1*conjugate(b0)*conjugate(rho_3) + rho_12*conjugate(b0)**2 - rho_8*conjugate(b0)*conjugate(b1) - conjugate(rho_2)*Abs(b1)**2)/2 + 8*I*a*conjugate(rho_12) - c0*conjugate(rho_12), 0)"
      ]
     },
     "metadata": {},
     "output_type": "display_data"
    }
   ],
   "source": [
    "ss2=[Eq(i.rhs,0).subs(final).subs(rho[2,1],0).subs(rho[1,1],0).subs(rho[2,2],0)  for i  in eqs2]\n",
    "ss2=[i.simplify() for i in ss2 if i.simplify()!=True ]\n",
    "new_vars={gpp/2 * (abs(b[0])**2 + abs(b[1])**2 ):c[0]}\n",
    "for i in ss2:\n",
    "    display(i.subs(new_vars))"
   ]
  },
  {
   "cell_type": "markdown",
   "id": "1d3d80bd-0e87-47e0-ae03-93577d5376f8",
   "metadata": {},
   "source": [
    "The problem here is that I have more unknowns that solutions, for exmaple equations $1$ and $3$ are just one equation,  same for each pair so I have 4 equations but I have 8 variables the real and the imaginary part of $\\rho_{2},\\rho_{3},\\rho_{8},\\rho_{12}$, the diagonal is also undetermined from this set of equations"
   ]
  },
  {
   "cell_type": "code",
   "execution_count": 63,
   "id": "cb37945f-d676-4638-b037-d21ad388cba8",
   "metadata": {},
   "outputs": [],
   "source": [
    "from sympy.physics.quantum import Commutator"
   ]
  },
  {
   "cell_type": "code",
   "execution_count": 82,
   "id": "ddec7ec8-d804-450f-a8d1-7e5cfaad3986",
   "metadata": {},
   "outputs": [
    {
     "data": {
      "text/latex": [
       "$\\displaystyle \\left[\\begin{matrix}\\rho_{1} & \\rho_{2} & \\rho_{3} & \\rho_{4}\\\\\\overline{\\rho_{2}} & \\rho_{6} & \\overline{\\rho_{10}} & \\rho_{8}\\\\\\overline{\\rho_{3}} & \\rho_{10} & \\rho_{11} & \\rho_{12}\\\\\\overline{\\rho_{4}} & \\overline{\\rho_{8}} & \\overline{\\rho_{12}} & \\rho_{16}\\end{matrix}\\right]$"
      ],
      "text/plain": [
       "Matrix([\n",
       "[           rho_1,            rho_2,             rho_3,  rho_4],\n",
       "[conjugate(rho_2),            rho_6, conjugate(rho_10),  rho_8],\n",
       "[conjugate(rho_3),           rho_10,            rho_11, rho_12],\n",
       "[conjugate(rho_4), conjugate(rho_8), conjugate(rho_12), rho_16]])"
      ]
     },
     "execution_count": 82,
     "metadata": {},
     "output_type": "execute_result"
    }
   ],
   "source": [
    "rho = symbols('rho_1:17')\n",
    "rho = Matrix(\n",
    "    [rho[0: 4],\n",
    "     rho[4: 8],\n",
    "     rho[8: 12],\n",
    "     rho[12:]])\n",
    "rho=rho.subs({rho[4]: conjugate(rho[1]), rho[8]: conjugate(rho[2]),\n",
    "          rho[12]:conjugate(rho[3]),rho[6]:conjugate(rho[9]),\n",
    "          rho[13]: conjugate(rho[7]), rho[14]:conjugate(rho[11])})\n",
    "rho"
   ]
  },
  {
   "cell_type": "code",
   "execution_count": 83,
   "id": "f010c3e2-9b07-484f-870f-e93eb6898d8b",
   "metadata": {},
   "outputs": [
    {
     "data": {
      "text/latex": [
       "$\\displaystyle \\rho$"
      ],
      "text/plain": [
       "rho"
      ]
     },
     "execution_count": 83,
     "metadata": {},
     "output_type": "execute_result"
    }
   ],
   "source": [
    "rhoo,Hh=symbols(\"rho H\",commutative=False)\n",
    "rhoo"
   ]
  },
  {
   "cell_type": "code",
   "execution_count": 84,
   "id": "619c9e7a-3173-4ae9-a299-2ec5558eaa03",
   "metadata": {},
   "outputs": [
    {
     "data": {
      "text/latex": [
       "$\\displaystyle \\left[H,\\rho\\right] = \\left[\\begin{matrix}0 & - 2 a \\rho_{2} & - 2 a \\rho_{3} & 0\\\\2 a \\overline{\\rho_{2}} & 0 & 0 & 2 a \\rho_{8}\\\\2 a \\overline{\\rho_{3}} & 0 & 0 & 2 a \\rho_{12}\\\\0 & - 2 a \\overline{\\rho_{8}} & - 2 a \\overline{\\rho_{12}} & 0\\end{matrix}\\right]$"
      ],
      "text/plain": [
       "Eq([H,rho], Matrix([\n",
       "[                   0,            -2*a*rho_2,             -2*a*rho_3,          0],\n",
       "[2*a*conjugate(rho_2),                     0,                      0,  2*a*rho_8],\n",
       "[2*a*conjugate(rho_3),                     0,                      0, 2*a*rho_12],\n",
       "[                   0, -2*a*conjugate(rho_8), -2*a*conjugate(rho_12),          0]]))"
      ]
     },
     "execution_count": 84,
     "metadata": {},
     "output_type": "execute_result"
    }
   ],
   "source": [
    "Eq(Commutator(Hh,rhoo),H*rho -rho*H,evaluate=False)"
   ]
  },
  {
   "cell_type": "markdown",
   "id": "53f6240a-87aa-4aa6-b2c5-42ee52e249b4",
   "metadata": {},
   "source": [
    "For an operator to commute with $H$ $\\rho_{2}= \\rho_{3}=\\rho_{8}=\\rho_{12} = 0$\n",
    "\n",
    ":::{tip}\n",
    "Because the density matris is hermitian this means we also have $\\rho_{5}=\\rho_{9}=\\rho_{15}=\\rho_{14} =0$\n",
    ":::"
   ]
  },
  {
   "cell_type": "code",
   "execution_count": 86,
   "id": "a31243d2-a785-4e85-997d-14bb4ff7080a",
   "metadata": {},
   "outputs": [
    {
     "data": {
      "text/latex": [
       "$\\displaystyle \\left[\\begin{matrix}\\rho_{1} & 0 & 0 & \\rho_{4}\\\\0 & \\rho_{6} & \\overline{\\rho_{10}} & 0\\\\0 & \\rho_{10} & \\rho_{11} & 0\\\\\\overline{\\rho_{4}} & 0 & 0 & \\rho_{16}\\end{matrix}\\right]$"
      ],
      "text/plain": [
       "Matrix([\n",
       "[           rho_1,      0,                 0,  rho_4],\n",
       "[               0,  rho_6, conjugate(rho_10),      0],\n",
       "[               0, rho_10,            rho_11,      0],\n",
       "[conjugate(rho_4),      0,                 0, rho_16]])"
      ]
     },
     "execution_count": 86,
     "metadata": {},
     "output_type": "execute_result"
    }
   ],
   "source": [
    "rho=rho.subs({rho[0,1]:0,rho[0,2]:0,rho[1,3]:0,rho[2,3]:0})\n",
    "rho"
   ]
  },
  {
   "cell_type": "code",
   "execution_count": 90,
   "id": "eafca47e-4544-4ca6-b383-78078672961c",
   "metadata": {},
   "outputs": [
    {
     "data": {
      "text/latex": [
       "$\\displaystyle \\left[\\begin{matrix}0 & b_{0} & b_{1} & 0\\\\0 & 0 & 0 & 0\\\\0 & 0 & 0 & 0\\\\0 & - \\overline{b_{1}} & \\overline{b_{0}} & 0\\end{matrix}\\right]$"
      ],
      "text/plain": [
       "Matrix([\n",
       "[0,             b0,            b1, 0],\n",
       "[0,              0,             0, 0],\n",
       "[0,              0,             0, 0],\n",
       "[0, -conjugate(b1), conjugate(b0), 0]])"
      ]
     },
     "execution_count": 90,
     "metadata": {},
     "output_type": "execute_result"
    }
   ],
   "source": [
    "A=jumps[2*a]\n",
    "A"
   ]
  },
  {
   "cell_type": "code",
   "execution_count": 91,
   "id": "9514344f-ebf0-4407-8977-912de976fee5",
   "metadata": {},
   "outputs": [
    {
     "data": {
      "text/latex": [
       "$\\displaystyle \\left[\\begin{matrix}0 & - b_{0} \\rho_{1} + b_{0} \\rho_{6} + b_{1} \\rho_{10} + \\rho_{4} \\overline{b_{1}} & b_{0} \\overline{\\rho_{10}} - b_{1} \\rho_{1} + b_{1} \\rho_{11} - \\rho_{4} \\overline{b_{0}} & 0\\\\0 & 0 & 0 & 0\\\\0 & 0 & 0 & 0\\\\0 & - b_{0} \\overline{\\rho_{4}} + \\rho_{10} \\overline{b_{0}} + \\rho_{16} \\overline{b_{1}} - \\rho_{6} \\overline{b_{1}} & - b_{1} \\overline{\\rho_{4}} + \\rho_{11} \\overline{b_{0}} - \\rho_{16} \\overline{b_{0}} - \\overline{b_{1}} \\overline{\\rho_{10}} & 0\\end{matrix}\\right]$"
      ],
      "text/plain": [
       "Matrix([\n",
       "[0,                                   -b0*rho_1 + b0*rho_6 + b1*rho_10 + rho_4*conjugate(b1),                                    b0*conjugate(rho_10) - b1*rho_1 + b1*rho_11 - rho_4*conjugate(b0), 0],\n",
       "[0,                                                                                        0,                                                                                                    0, 0],\n",
       "[0,                                                                                        0,                                                                                                    0, 0],\n",
       "[0, -b0*conjugate(rho_4) + rho_10*conjugate(b0) + rho_16*conjugate(b1) - rho_6*conjugate(b1), -b1*conjugate(rho_4) + rho_11*conjugate(b0) - rho_16*conjugate(b0) - conjugate(b1)*conjugate(rho_10), 0]])"
      ]
     },
     "execution_count": 91,
     "metadata": {},
     "output_type": "execute_result"
    }
   ],
   "source": [
    "A*rho-rho*A"
   ]
  },
  {
   "cell_type": "markdown",
   "id": "89d5cac7-d40c-4cf7-91dc-fdc41aa8c37c",
   "metadata": {},
   "source": [
    "So an operator that commutes with both needs to satisy"
   ]
  },
  {
   "cell_type": "code",
   "execution_count": 96,
   "id": "8d4a826f-9dd6-493c-8112-661cbe2ff54e",
   "metadata": {},
   "outputs": [
    {
     "data": {
      "text/latex": [
       "$\\displaystyle - b_{0} \\rho_{1} + b_{0} \\rho_{6} + b_{1} \\rho_{10} + \\rho_{4} \\overline{b_{1}} = 0$"
      ],
      "text/plain": [
       "Eq(-b0*rho_1 + b0*rho_6 + b1*rho_10 + rho_4*conjugate(b1), 0)"
      ]
     },
     "metadata": {},
     "output_type": "display_data"
    },
    {
     "data": {
      "text/latex": [
       "$\\displaystyle b_{0} \\overline{\\rho_{10}} - b_{1} \\rho_{1} + b_{1} \\rho_{11} - \\rho_{4} \\overline{b_{0}} = 0$"
      ],
      "text/plain": [
       "Eq(b0*conjugate(rho_10) - b1*rho_1 + b1*rho_11 - rho_4*conjugate(b0), 0)"
      ]
     },
     "metadata": {},
     "output_type": "display_data"
    },
    {
     "data": {
      "text/latex": [
       "$\\displaystyle - b_{0} \\overline{\\rho_{4}} + \\rho_{10} \\overline{b_{0}} + \\rho_{16} \\overline{b_{1}} - \\rho_{6} \\overline{b_{1}} = 0$"
      ],
      "text/plain": [
       "Eq(-b0*conjugate(rho_4) + rho_10*conjugate(b0) + rho_16*conjugate(b1) - rho_6*conjugate(b1), 0)"
      ]
     },
     "metadata": {},
     "output_type": "display_data"
    },
    {
     "data": {
      "text/latex": [
       "$\\displaystyle - b_{1} \\overline{\\rho_{4}} + \\rho_{11} \\overline{b_{0}} - \\rho_{16} \\overline{b_{0}} - \\overline{b_{1}} \\overline{\\rho_{10}} = 0$"
      ],
      "text/plain": [
       "Eq(-b1*conjugate(rho_4) + rho_11*conjugate(b0) - rho_16*conjugate(b0) - conjugate(b1)*conjugate(rho_10), 0)"
      ]
     },
     "metadata": {},
     "output_type": "display_data"
    }
   ],
   "source": [
    "eqs_commutant=[Eq(i,0) for i in flatten(A*rho-rho*A) if i!=0]\n",
    "for i in eqs_commutant:\n",
    "    display(i)"
   ]
  },
  {
   "cell_type": "markdown",
   "id": "fec35d85-cf04-4b85-ac9d-8cbe207bc1ea",
   "metadata": {},
   "source": [
    "I think this has infinitely many solutions as well!"
   ]
  }
 ],
 "metadata": {
  "kernelspec": {
   "display_name": "Python 3 (ipykernel)",
   "language": "python",
   "name": "python3"
  },
  "language_info": {
   "codemirror_mode": {
    "name": "ipython",
    "version": 3
   },
   "file_extension": ".py",
   "mimetype": "text/x-python",
   "name": "python",
   "nbconvert_exporter": "python",
   "pygments_lexer": "ipython3",
   "version": "3.12.7"
  }
 },
 "nbformat": 4,
 "nbformat_minor": 5
}
