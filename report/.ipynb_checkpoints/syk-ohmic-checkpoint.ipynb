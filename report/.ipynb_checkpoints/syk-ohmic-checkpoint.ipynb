{
 "cells": [
  {
   "cell_type": "code",
   "execution_count": 1,
   "id": "70ec3a17-8a7f-4749-b5b8-6e0748fb7297",
   "metadata": {},
   "outputs": [],
   "source": [
    "import matplotlib.pyplot as plt\n",
    "import numpy as np\n",
    "from qutip import ( basis, expect, mesolve, qeye, sigmax, sigmay, sigmaz,destroy,\n",
    "                   tensor,fidelity,tracedist,brmesolve,Qobj)\n",
    "from qutip.solver import heom\n",
    "from scipy.integrate import quad\n",
    "from pseudomode import pseudomode,zero_temp_bath,rotation\n",
    "from hamiltonians import syk_full,plot_ground,plot_fidelities,plot_trd,plot_positivity,plot_populations\n",
    "from nmm import csolve"
   ]
  },
  {
   "cell_type": "code",
   "execution_count": 2,
   "id": "a048a14a",
   "metadata": {},
   "outputs": [],
   "source": [
    "N=2\n",
    "seeds=list(range(42,46))\n",
    "k=3\n",
    "H,psis=syk_full(N,seed=seeds[k])"
   ]
  },
  {
   "cell_type": "code",
   "execution_count": 3,
   "id": "4b1f30b0",
   "metadata": {},
   "outputs": [],
   "source": [
    "Q=psis[0]"
   ]
  },
  {
   "cell_type": "code",
   "execution_count": 12,
   "id": "81eb9baf-79d0-44fd-ac99-f78e8fed021e",
   "metadata": {},
   "outputs": [],
   "source": [
    "state_list = [basis(2, 1)] + [basis(2, 0)] * (N - 1) # change the initial state to be away from the ground state\n",
    "psi0 = tensor(state_list)\n",
    "rho0=psi0*psi0.dag()\n",
    "H.dims=rho0.dims\n",
    "Q.dims=rho0.dims\n",
    "times=np.linspace(0,100,500)\n",
    "tfit=np.linspace(0, 80, 5000)"
   ]
  },
  {
   "cell_type": "code",
   "execution_count": null,
   "id": "4aeb61db-28c0-42b6-ac79-54f6a267e09c",
   "metadata": {},
   "outputs": [],
   "source": [
    "oh=heom.OhmicBath(alpha=0.1,wc=1,s=1,T=0,Q=psis[0]) # functions don't take zero because 1/T should be fixed\n",
    "times2=np.linspace(0,10,2000)\n",
    "bath,finfo=oh.make_correlation_fit(times2,Ni=2,Nr=2)\n",
    "print(finfo['summary']) #notice one mode is also a pretty good approximation"
   ]
  },
  {
   "cell_type": "code",
   "execution_count": null,
   "id": "723c3d9f-66e6-48a5-aabc-3403c5ea87aa",
   "metadata": {},
   "outputs": [],
   "source": [
    "times2 = np.linspace(0,40,500)\n",
    "cvis = bath.correlation_function(times2)"
   ]
  },
  {
   "cell_type": "code",
   "execution_count": null,
   "id": "89a74a93-a2b7-4de4-bcaa-ff0a1331cbad",
   "metadata": {},
   "outputs": [],
   "source": [
    "# using the variable axs for multiple Axes\n",
    "fig, axs = plt.subplots(1, 2,figsize=(15,5))\n",
    "axs[0].plot(times2, np.imag(cvis),label=\"Numerical\")\n",
    "axs[0].plot(times2, np.imag(bath1.correlation_function_approx(times2)), \"-.\",label=\"Approximated\")\n",
    "axs[0].set_xlabel(\"t\")\n",
    "axs[0].set_ylabel(\"Im(C)\")\n",
    "axs[0].legend()\n",
    "axs[1].plot(times2, np.real(cvis),label=\"Numerical\")\n",
    "axs[1].plot(times2, np.real(bath1.correlation_function_approx(times2)), \"-.\",label=\"Approximated\")\n",
    "axs[1].set_xlabel(\"t\")\n",
    "axs[1].set_ylabel(\"Re(C)\")\n",
    "axs[1].legend()\n",
    "fig.suptitle('Correlation Functions', fontsize=30)\n",
    "plt.show()"
   ]
  },
  {
   "cell_type": "code",
   "execution_count": 9,
   "id": "0df9ead8-19ef-4ae9-9255-3e20abab0d54",
   "metadata": {},
   "outputs": [
    {
     "name": "stdout",
     "output_type": "stream",
     "text": [
      "10.0%. Run time:   2.16s. Est. time left: 00:00:00:19\n",
      "20.0%. Run time:   3.52s. Est. time left: 00:00:00:14\n",
      "30.1%. Run time:   4.40s. Est. time left: 00:00:00:10\n",
      "40.1%. Run time:   5.09s. Est. time left: 00:00:00:07\n",
      "50.1%. Run time:   5.81s. Est. time left: 00:00:00:05\n",
      "60.1%. Run time:   6.52s. Est. time left: 00:00:00:04\n",
      "70.1%. Run time:   7.25s. Est. time left: 00:00:00:03\n",
      "80.2%. Run time:   7.91s. Est. time left: 00:00:00:01\n",
      "90.2%. Run time:   8.50s. Est. time left: 00:00:00:00\n",
      "100.0%. Run time:   9.11s. Est. time left: 00:00:00:00\n",
      "Total run time:   9.11s\n"
     ]
    }
   ],
   "source": [
    "solver = heom.HEOMSolver(H,\n",
    "                          [bath1], max_depth=7, options={\"atol\": 1e-14})\n",
    "result = solver.run(rho0, times)"
   ]
  },
  {
   "cell_type": "code",
   "execution_count": 10,
   "id": "12ac269e-3567-4d7c-a882-0f3a6cc1aaf5",
   "metadata": {},
   "outputs": [
    {
     "name": "stderr",
     "output_type": "stream",
     "text": [
      "2024-07-22 04:55:08.456933: E external/xla/xla/stream_executor/cuda/cuda_driver.cc:266] failed call to cuInit: CUDA_ERROR_UNKNOWN: unknown error\n"
     ]
    },
    {
     "ename": "RuntimeError",
     "evalue": "Unable to initialize backend 'cuda': FAILED_PRECONDITION: No visible GPU devices. (you may need to uninstall the failing plugin package, or set JAX_PLATFORMS=cpu to skip this backend.)",
     "output_type": "error",
     "traceback": [
      "\u001b[0;31m---------------------------------------------------------------------------\u001b[0m",
      "\u001b[0;31mXlaRuntimeError\u001b[0m                           Traceback (most recent call last)",
      "    \u001b[0;31m[... skipping hidden 1 frame]\u001b[0m\n",
      "File \u001b[0;32m~/miniconda3/envs/qutip-dev/lib/python3.12/site-packages/jax/_src/xla_bridge.py:970\u001b[0m, in \u001b[0;36m_init_backend\u001b[0;34m(platform)\u001b[0m\n\u001b[1;32m    969\u001b[0m logger\u001b[38;5;241m.\u001b[39mdebug(\u001b[38;5;124m\"\u001b[39m\u001b[38;5;124mInitializing backend \u001b[39m\u001b[38;5;124m'\u001b[39m\u001b[38;5;132;01m%s\u001b[39;00m\u001b[38;5;124m'\u001b[39m\u001b[38;5;124m\"\u001b[39m, platform)\n\u001b[0;32m--> 970\u001b[0m backend \u001b[38;5;241m=\u001b[39m \u001b[43mregistration\u001b[49m\u001b[38;5;241;43m.\u001b[39;49m\u001b[43mfactory\u001b[49m\u001b[43m(\u001b[49m\u001b[43m)\u001b[49m\n\u001b[1;32m    971\u001b[0m \u001b[38;5;66;03m# TODO(skye): consider raising more descriptive errors directly from backend\u001b[39;00m\n\u001b[1;32m    972\u001b[0m \u001b[38;5;66;03m# factories instead of returning None.\u001b[39;00m\n",
      "File \u001b[0;32m~/miniconda3/envs/qutip-dev/lib/python3.12/site-packages/jax/_src/xla_bridge.py:668\u001b[0m, in \u001b[0;36mregister_plugin.<locals>.factory\u001b[0;34m()\u001b[0m\n\u001b[1;32m    667\u001b[0m \u001b[38;5;28;01mif\u001b[39;00m distributed\u001b[38;5;241m.\u001b[39mglobal_state\u001b[38;5;241m.\u001b[39mclient \u001b[38;5;129;01mis\u001b[39;00m \u001b[38;5;28;01mNone\u001b[39;00m:\n\u001b[0;32m--> 668\u001b[0m   \u001b[38;5;28;01mreturn\u001b[39;00m \u001b[43mxla_client\u001b[49m\u001b[38;5;241;43m.\u001b[39;49m\u001b[43mmake_c_api_client\u001b[49m\u001b[43m(\u001b[49m\u001b[43mplugin_name\u001b[49m\u001b[43m,\u001b[49m\u001b[43m \u001b[49m\u001b[43mupdated_options\u001b[49m\u001b[43m,\u001b[49m\u001b[43m \u001b[49m\u001b[38;5;28;43;01mNone\u001b[39;49;00m\u001b[43m)\u001b[49m\n\u001b[1;32m    670\u001b[0m distribute_options \u001b[38;5;241m=\u001b[39m {\n\u001b[1;32m    671\u001b[0m     \u001b[38;5;124m'\u001b[39m\u001b[38;5;124mnode_id\u001b[39m\u001b[38;5;124m'\u001b[39m: distributed\u001b[38;5;241m.\u001b[39mglobal_state\u001b[38;5;241m.\u001b[39mprocess_id,\n\u001b[1;32m    672\u001b[0m     \u001b[38;5;124m'\u001b[39m\u001b[38;5;124mnum_nodes\u001b[39m\u001b[38;5;124m'\u001b[39m: distributed\u001b[38;5;241m.\u001b[39mglobal_state\u001b[38;5;241m.\u001b[39mnum_processes,\n\u001b[1;32m    673\u001b[0m }\n",
      "File \u001b[0;32m~/miniconda3/envs/qutip-dev/lib/python3.12/site-packages/jaxlib/xla_client.py:200\u001b[0m, in \u001b[0;36mmake_c_api_client\u001b[0;34m(plugin_name, options, distributed_client)\u001b[0m\n\u001b[1;32m    199\u001b[0m   options \u001b[38;5;241m=\u001b[39m {}\n\u001b[0;32m--> 200\u001b[0m \u001b[38;5;28;01mreturn\u001b[39;00m \u001b[43m_xla\u001b[49m\u001b[38;5;241;43m.\u001b[39;49m\u001b[43mget_c_api_client\u001b[49m\u001b[43m(\u001b[49m\u001b[43mplugin_name\u001b[49m\u001b[43m,\u001b[49m\u001b[43m \u001b[49m\u001b[43moptions\u001b[49m\u001b[43m,\u001b[49m\u001b[43m \u001b[49m\u001b[43mdistributed_client\u001b[49m\u001b[43m)\u001b[49m\n",
      "\u001b[0;31mXlaRuntimeError\u001b[0m: FAILED_PRECONDITION: No visible GPU devices.",
      "\nDuring handling of the above exception, another exception occurred:\n",
      "\u001b[0;31mRuntimeError\u001b[0m                              Traceback (most recent call last)",
      "Cell \u001b[0;32mIn[10], line 6\u001b[0m\n\u001b[1;32m      1\u001b[0m cum \u001b[38;5;241m=\u001b[39m csolve(\n\u001b[1;32m      2\u001b[0m     Hsys\u001b[38;5;241m=\u001b[39mH, t\u001b[38;5;241m=\u001b[39mtimes, baths\u001b[38;5;241m=\u001b[39m[bath],\n\u001b[1;32m      3\u001b[0m     Qs\u001b[38;5;241m=\u001b[39m[Q],\n\u001b[1;32m      4\u001b[0m     eps\u001b[38;5;241m=\u001b[39m\u001b[38;5;241m1e-4\u001b[39m, cython\u001b[38;5;241m=\u001b[39m\u001b[38;5;28;01mFalse\u001b[39;00m)\n\u001b[0;32m----> 6\u001b[0m result_cum \u001b[38;5;241m=\u001b[39m \u001b[43mcum\u001b[49m\u001b[38;5;241;43m.\u001b[39;49m\u001b[43mevolution\u001b[49m\u001b[43m(\u001b[49m\u001b[43mrho0\u001b[49m\u001b[43m)\u001b[49m\n\u001b[1;32m      8\u001b[0m result_cum \u001b[38;5;241m=\u001b[39m rotation(result_cum, H, times)\n",
      "File \u001b[0;32m~/github/cumulant.py/nmm/cumulant/cumulant.py:341\u001b[0m, in \u001b[0;36mcsolve.evolution\u001b[0;34m(self, rho0, approximated)\u001b[0m\n\u001b[1;32m    318\u001b[0m \u001b[38;5;28;01mdef\u001b[39;00m \u001b[38;5;21mevolution\u001b[39m(\u001b[38;5;28mself\u001b[39m, rho0, approximated\u001b[38;5;241m=\u001b[39m\u001b[38;5;28;01mFalse\u001b[39;00m):\n\u001b[1;32m    319\u001b[0m \u001b[38;5;250m    \u001b[39m\u001b[38;5;124mr\u001b[39m\u001b[38;5;124;03m\"\"\"\u001b[39;00m\n\u001b[1;32m    320\u001b[0m \u001b[38;5;124;03m    This function computes the evolution of the state $\\rho(0)$\u001b[39;00m\n\u001b[1;32m    321\u001b[0m \n\u001b[0;32m   (...)\u001b[0m\n\u001b[1;32m    339\u001b[0m \u001b[38;5;124;03m        the evolution\u001b[39;00m\n\u001b[1;32m    340\u001b[0m \u001b[38;5;124;03m    \"\"\"\u001b[39;00m\n\u001b[0;32m--> 341\u001b[0m     \u001b[38;5;28;43mself\u001b[39;49m\u001b[38;5;241;43m.\u001b[39;49m\u001b[43mgenerator\u001b[49m\u001b[43m(\u001b[49m\u001b[43mapproximated\u001b[49m\u001b[43m)\u001b[49m\n\u001b[1;32m    342\u001b[0m     states \u001b[38;5;241m=\u001b[39m [\n\u001b[1;32m    343\u001b[0m         i\u001b[38;5;241m.\u001b[39mexpm()(rho0)\n\u001b[1;32m    344\u001b[0m         \u001b[38;5;28;01mfor\u001b[39;00m i \u001b[38;5;129;01min\u001b[39;00m tqdm(\n\u001b[1;32m    345\u001b[0m             \u001b[38;5;28mself\u001b[39m\u001b[38;5;241m.\u001b[39mgenerators,\n\u001b[1;32m    346\u001b[0m             desc\u001b[38;5;241m=\u001b[39m\u001b[38;5;124m'\u001b[39m\u001b[38;5;124mComputing Exponential of Generators . . . .\u001b[39m\u001b[38;5;124m'\u001b[39m)]  \u001b[38;5;66;03m# this counts time incorrectly\u001b[39;00m\n\u001b[1;32m    347\u001b[0m     \u001b[38;5;28;01mreturn\u001b[39;00m states\n",
      "File \u001b[0;32m~/github/cumulant.py/nmm/cumulant/cumulant.py:285\u001b[0m, in \u001b[0;36mcsolve.generator\u001b[0;34m(self, approximated)\u001b[0m\n\u001b[1;32m    283\u001b[0m generators \u001b[38;5;241m=\u001b[39m []\n\u001b[1;32m    284\u001b[0m \u001b[38;5;28;01mfor\u001b[39;00m Q, bath \u001b[38;5;129;01min\u001b[39;00m \u001b[38;5;28mzip\u001b[39m(\u001b[38;5;28mself\u001b[39m\u001b[38;5;241m.\u001b[39mQs, \u001b[38;5;28mself\u001b[39m\u001b[38;5;241m.\u001b[39mbaths):\n\u001b[0;32m--> 285\u001b[0m     jumps \u001b[38;5;241m=\u001b[39m \u001b[38;5;28;43mself\u001b[39;49m\u001b[38;5;241;43m.\u001b[39;49m\u001b[43mjump_operators\u001b[49m\u001b[43m(\u001b[49m\u001b[43mQ\u001b[49m\u001b[43m)\u001b[49m\n\u001b[1;32m    286\u001b[0m     ws \u001b[38;5;241m=\u001b[39m \u001b[38;5;28mlist\u001b[39m(jumps\u001b[38;5;241m.\u001b[39mkeys())\n\u001b[1;32m    287\u001b[0m     combinations \u001b[38;5;241m=\u001b[39m \u001b[38;5;28mlist\u001b[39m(itertools\u001b[38;5;241m.\u001b[39mproduct(ws, ws))\n",
      "File \u001b[0;32m~/github/cumulant.py/nmm/cumulant/cumulant.py:249\u001b[0m, in \u001b[0;36mcsolve.jump_operators\u001b[0;34m(self, Q)\u001b[0m\n\u001b[1;32m    247\u001b[0m output \u001b[38;5;241m=\u001b[39m defaultdict(\u001b[38;5;28mlist\u001b[39m)\n\u001b[1;32m    248\u001b[0m \u001b[38;5;28;01mfor\u001b[39;00m k, key \u001b[38;5;129;01min\u001b[39;00m \u001b[38;5;28menumerate\u001b[39m(ws):\n\u001b[0;32m--> 249\u001b[0m     output[\u001b[43mjnp\u001b[49m\u001b[38;5;241;43m.\u001b[39;49m\u001b[43mround\u001b[49m\u001b[43m(\u001b[49m\u001b[43mkey\u001b[49m\u001b[43m,\u001b[49m\u001b[43m \u001b[49m\u001b[38;5;241;43m12\u001b[39;49m\u001b[43m)\u001b[49m\u001b[38;5;241m.\u001b[39mitem()]\u001b[38;5;241m.\u001b[39mappend(collapse_list[k])\n\u001b[1;32m    250\u001b[0m eldict \u001b[38;5;241m=\u001b[39m {x: \u001b[38;5;28mself\u001b[39m\u001b[38;5;241m.\u001b[39msparsify([\u001b[38;5;28msum\u001b[39m(y)])[\u001b[38;5;241m0\u001b[39m] \u001b[38;5;28;01mfor\u001b[39;00m x, y \u001b[38;5;129;01min\u001b[39;00m output\u001b[38;5;241m.\u001b[39mitems()}\n\u001b[1;32m    251\u001b[0m dictrem \u001b[38;5;241m=\u001b[39m {}\n",
      "    \u001b[0;31m[... skipping hidden 17 frame]\u001b[0m\n",
      "File \u001b[0;32m~/miniconda3/envs/qutip-dev/lib/python3.12/site-packages/jax/_src/xla_bridge.py:895\u001b[0m, in \u001b[0;36mbackends\u001b[0;34m()\u001b[0m\n\u001b[1;32m    893\u001b[0m       \u001b[38;5;28;01melse\u001b[39;00m:\n\u001b[1;32m    894\u001b[0m         err_msg \u001b[38;5;241m+\u001b[39m\u001b[38;5;241m=\u001b[39m \u001b[38;5;124m\"\u001b[39m\u001b[38;5;124m (you may need to uninstall the failing plugin package, or set JAX_PLATFORMS=cpu to skip this backend.)\u001b[39m\u001b[38;5;124m\"\u001b[39m\n\u001b[0;32m--> 895\u001b[0m       \u001b[38;5;28;01mraise\u001b[39;00m \u001b[38;5;167;01mRuntimeError\u001b[39;00m(err_msg)\n\u001b[1;32m    897\u001b[0m \u001b[38;5;28;01massert\u001b[39;00m _default_backend \u001b[38;5;129;01mis\u001b[39;00m \u001b[38;5;129;01mnot\u001b[39;00m \u001b[38;5;28;01mNone\u001b[39;00m\n\u001b[1;32m    898\u001b[0m \u001b[38;5;28;01mif\u001b[39;00m \u001b[38;5;129;01mnot\u001b[39;00m config\u001b[38;5;241m.\u001b[39mjax_platforms\u001b[38;5;241m.\u001b[39mvalue:\n",
      "\u001b[0;31mRuntimeError\u001b[0m: Unable to initialize backend 'cuda': FAILED_PRECONDITION: No visible GPU devices. (you may need to uninstall the failing plugin package, or set JAX_PLATFORMS=cpu to skip this backend.)"
     ]
    }
   ],
   "source": [
    "cum = csolve(\n",
    "    Hsys=H, t=times, baths=[bath],\n",
    "    Qs=[Q],\n",
    "    eps=1e-4, cython=False)\n",
    "\n",
    "result_cum = cum.evolution(rho0)\n",
    "\n",
    "result_cum = rotation(result_cum, H, times)"
   ]
  },
  {
   "cell_type": "code",
   "execution_count": null,
   "id": "30ea04c7-d73c-4fcb-8c05-6fcca10a3a63",
   "metadata": {},
   "outputs": [],
   "source": [
    "a_ops = [[Q, bath.power_spectrum]]\n",
    "resultBR = brmesolve(H, rho0, times, a_ops=a_ops, options={\n",
    "    \"atol\": 1e-14}, sec_cutoff=-1)\n",
    "\n",
    "a_ops = [[Q, bath.power_spectrum]]\n",
    "resultBR2 = brmesolve(H, rho0, times, a_ops=a_ops, options={\n",
    "    \"atol\": 1e-14})"
   ]
  },
  {
   "cell_type": "code",
   "execution_count": null,
   "id": "406b2798-10bf-4192-acb3-09867475c25b",
   "metadata": {},
   "outputs": [],
   "source": [
    "Ncutoff=3\n",
    "modes=2\n",
    "bathu = zero_temp_bath(Q, tfit, lam, gamma, w0, N=modes)\n",
    "example = pseudomode(Hsys=H, Q=Q, bath=bathu)\n",
    "print(bathu.finfo[\"summary\"])\n",
    "cvis2 = bathu.correlation_function\n",
    "fig, axs = plt.subplots(1, 2,figsize=(15,5))\n",
    "axs[0].plot(tfit, np.imag(cvis2),label=\"Numerical\")\n",
    "axs[0].plot(tfit, np.imag(bathu.bath.correlation_function_approx(tfit))+np.imag(bathu.C0(tfit, lam, gamma, w0)), \"-.\",label=\"Approximated\")\n",
    "axs[0].set_xlabel(\"t\")\n",
    "axs[0].set_ylabel(\"Im(C)\")\n",
    "axs[0].legend()\n",
    "axs[1].plot(tfit, np.real(cvis2),label=\"Numerical\")\n",
    "axs[1].plot(tfit, np.real(bathu.bath.correlation_function_approx(tfit)), \"-.\",label=\"Approximated\")\n",
    "axs[1].set_xlabel(\"t\")\n",
    "axs[1].set_ylabel(\"Re(C)\")\n",
    "axs[1].legend()\n",
    "fig.suptitle('Correlation Functions', fontsize=30)\n",
    "plt.show()"
   ]
  },
  {
   "cell_type": "code",
   "execution_count": null,
   "id": "62cc5416-26f0-443a-8a97-79398560832b",
   "metadata": {},
   "outputs": [],
   "source": [
    "ans = example.evolution(rho0, Ncutoff, times, options={\n",
    "                        \"atol\": 1e-14, \"normalize_output\": False, \"store_states\": True})\n",
    "ans = [i.ptrace(range(N))for i in ans.states]"
   ]
  },
  {
   "cell_type": "code",
   "execution_count": null,
   "id": "ee5f0919-e285-4f81-a722-58584c624df1",
   "metadata": {},
   "outputs": [],
   "source": [
    "results=[result,result_cum,resultBR,resultBR2,ans]"
   ]
  },
  {
   "cell_type": "code",
   "execution_count": null,
   "id": "1e0ce569-3c3b-4aec-8251-753561b31ec3",
   "metadata": {},
   "outputs": [],
   "source": [
    "plot_ground(results,H,times)"
   ]
  },
  {
   "cell_type": "code",
   "execution_count": null,
   "id": "97925ab0-06b7-4ba2-8fbf-c9352d52a665",
   "metadata": {},
   "outputs": [],
   "source": [
    "plot_fidelities(results,H,times)"
   ]
  },
  {
   "cell_type": "code",
   "execution_count": null,
   "id": "68586204-af48-4a1d-b516-5995b0368d1c",
   "metadata": {},
   "outputs": [],
   "source": [
    "plot_trd(results,H,times)"
   ]
  },
  {
   "cell_type": "code",
   "execution_count": null,
   "id": "d16655c0-53ec-4fd7-a423-e466b391af3d",
   "metadata": {},
   "outputs": [],
   "source": [
    "plot_positivity(results,H,times)"
   ]
  },
  {
   "cell_type": "code",
   "execution_count": null,
   "id": "b2b25290-a87e-41db-a2ac-3ec7d01eab8d",
   "metadata": {},
   "outputs": [],
   "source": [
    "plot_populations(results,H,times,l=2,m=2)"
   ]
  },
  {
   "cell_type": "code",
   "execution_count": null,
   "id": "8871d48f-c573-472f-b22c-7d84d551e2c5",
   "metadata": {},
   "outputs": [],
   "source": [
    "from qutip import qsave,qload"
   ]
  },
  {
   "cell_type": "code",
   "execution_count": null,
   "id": "da1921bc-c0e7-4849-b08f-5e7bb9d8cf00",
   "metadata": {},
   "outputs": [],
   "source": [
    "qsave(results,f\"N={N}_syk_{lam}_nocheating_seed_{seeds[k]}\")"
   ]
  },
  {
   "cell_type": "code",
   "execution_count": null,
   "id": "3a460aa1-70aa-41fb-b555-c42a4f5d09a9",
   "metadata": {},
   "outputs": [],
   "source": []
  },
  {
   "cell_type": "code",
   "execution_count": null,
   "id": "a8a4780d-45fc-4e81-800e-9353d37ee2b2",
   "metadata": {},
   "outputs": [],
   "source": []
  },
  {
   "cell_type": "code",
   "execution_count": null,
   "id": "a0d410c6-9550-459d-9747-0109a4ba5b70",
   "metadata": {},
   "outputs": [],
   "source": []
  },
  {
   "cell_type": "code",
   "execution_count": null,
   "id": "f045e1e1-8de1-40d8-b356-55c97d49f1db",
   "metadata": {},
   "outputs": [],
   "source": []
  }
 ],
 "metadata": {
  "kernelspec": {
   "display_name": "Python 3 (ipykernel)",
   "language": "python",
   "name": "python3"
  },
  "language_info": {
   "codemirror_mode": {
    "name": "ipython",
    "version": 3
   },
   "file_extension": ".py",
   "mimetype": "text/x-python",
   "name": "python",
   "nbconvert_exporter": "python",
   "pygments_lexer": "ipython3",
   "version": "3.12.2"
  }
 },
 "nbformat": 4,
 "nbformat_minor": 5
}
