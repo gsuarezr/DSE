{
 "cells": [
  {
   "cell_type": "markdown",
   "id": "47607472-c5c0-4bb8-b078-f101ecda6d60",
   "metadata": {},
   "source": [
    "---\n",
    "title: Reproducing results from the DSE paper\n",
    "---\n",
    "\n",
    "This is just the same example you already had in the paper, The main issue/delay in obtaining it was the normalized_ouput parameter in mesolve which should have been set to false.\n",
    "\n",
    "In order to run the notebook unfortunately both my version of [qutip]() with the fitting stuff and this poorly done package for the [cumulant equation](https://github.com/gsuarezr/NonMarkovianMethods/tree/multiplebaths) needs to be installed  "
   ]
  },
  {
   "cell_type": "code",
   "execution_count": 8,
   "id": "db3c3592-337a-4b4c-942d-b54ba5e4f2b3",
   "metadata": {},
   "outputs": [],
   "source": [
    "import matplotlib.pyplot as plt\n",
    "import numpy as np\n",
    "from qutip import ( basis, expect, mesolve, qeye, sigmax, sigmay, sigmaz,destroy,\n",
    "                   tensor,fidelity,tracedist,brmesolve,Qobj)\n",
    "from qutip.solver import heom\n",
    "from scipy.integrate import quad\n",
    "from pseudomode import pseudomode,zero_temp_bath,rotation\n",
    "from hamiltonians import ising\n",
    "from nmm import csolve\n"
   ]
  },
  {
   "cell_type": "code",
   "execution_count": 9,
   "id": "5c0d2d57-d689-422d-b15f-441d3641e393",
   "metadata": {},
   "outputs": [],
   "source": [
    "N=2\n",
    "g=1\n",
    "H,sx,sy,sz=ising(N=N,g=g,Jx=5)"
   ]
  },
  {
   "cell_type": "code",
   "execution_count": 3,
   "id": "bef5d74f-d2ed-43d6-9b9a-12389609e9c5",
   "metadata": {},
   "outputs": [],
   "source": [
    "Q=sx[-1]+ 1.1*sy[-1]+0.9*sz[-1]"
   ]
  },
  {
   "cell_type": "markdown",
   "id": "d7f54895-69ac-4e73-b5d3-faaa82f82eb3",
   "metadata": {},
   "source": [
    "bath parameters"
   ]
  },
  {
   "cell_type": "code",
   "execution_count": 4,
   "id": "61322684-70ea-41d8-b300-b8d9a2a60be1",
   "metadata": {},
   "outputs": [
    {
     "name": "stdout",
     "output_type": "stream",
     "text": [
      "True\n"
     ]
    },
    {
     "data": {
      "text/plain": [
       "3.9585112530093003"
      ]
     },
     "execution_count": 4,
     "metadata": {},
     "output_type": "execute_result"
    }
   ],
   "source": [
    "E01=1#H.eigenenergies()[2]-H.eigenenergies()[0]# Raise this question about the paper \n",
    "gamma=3.8*g\n",
    "w0=12*E01\n",
    "print(2*w0>gamma)\n",
    "Gamma=gamma/2\n",
    "Omega=np.sqrt(w0**2 -Gamma**2)\n",
    "lam=1.15*np.sqrt(Omega)\n",
    "lam"
   ]
  },
  {
   "cell_type": "code",
   "execution_count": 5,
   "id": "7d9ff3bb-f504-4a25-a436-c34cfeabf596",
   "metadata": {},
   "outputs": [],
   "source": [
    "state_list = [basis(2, 1)] + [basis(2, 0)] * (N - 1)\n",
    "psi0 = tensor(state_list)\n",
    "rho0=psi0*psi0.dag()\n",
    "times=np.linspace(0,50,500)\n",
    "tfit=np.linspace(0, 25, 5000)"
   ]
  },
  {
   "cell_type": "markdown",
   "id": "2cfd7796-bd28-42e3-a23b-ea587c8448b8",
   "metadata": {},
   "source": [
    " Using HEOM"
   ]
  },
  {
   "cell_type": "code",
   "execution_count": 6,
   "id": "fc0b636e-63ae-43ad-89df-a09233fc80b3",
   "metadata": {},
   "outputs": [
    {
     "name": "stderr",
     "output_type": "stream",
     "text": [
      "/home/mcditoos/github/qutip_gsoc_app/qutip/solver/heom/bofin_baths.py:925: RuntimeWarning: invalid value encountered in scalar divide\n",
      "  * (1 / np.tanh(beta * (Om + 1.0j * Gamma) / 2)),\n",
      "/home/mcditoos/github/qutip_gsoc_app/qutip/solver/heom/bofin_baths.py:927: RuntimeWarning: invalid value encountered in scalar divide\n",
      "  * (1 / np.tanh(beta * (Om - 1.0j * Gamma) / 2)),\n"
     ]
    },
    {
     "ename": "KeyboardInterrupt",
     "evalue": "",
     "output_type": "error",
     "traceback": [
      "\u001b[0;31m---------------------------------------------------------------------------\u001b[0m",
      "\u001b[0;31mKeyboardInterrupt\u001b[0m                         Traceback (most recent call last)",
      "Cell \u001b[0;32mIn[6], line 4\u001b[0m\n\u001b[1;32m      1\u001b[0m bath \u001b[38;5;241m=\u001b[39m heom\u001b[38;5;241m.\u001b[39mUnderDampedBath(\n\u001b[1;32m      2\u001b[0m         Q\u001b[38;5;241m=\u001b[39mQ,\n\u001b[1;32m      3\u001b[0m         lam\u001b[38;5;241m=\u001b[39mlam, gamma\u001b[38;5;241m=\u001b[39mgamma, w0\u001b[38;5;241m=\u001b[39mw0, T\u001b[38;5;241m=\u001b[39m\u001b[38;5;241m0\u001b[39m, Nk\u001b[38;5;241m=\u001b[39m\u001b[38;5;241m5\u001b[39m) \u001b[38;5;66;03m# fix runtime warning\u001b[39;00m\n\u001b[0;32m----> 4\u001b[0m cfiitter2 \u001b[38;5;241m=\u001b[39m \u001b[43mheom\u001b[49m\u001b[38;5;241;43m.\u001b[39;49m\u001b[43mCorrelationFitter\u001b[49m\u001b[43m(\u001b[49m\n\u001b[1;32m      5\u001b[0m \u001b[43m    \u001b[49m\u001b[43mQ\u001b[49m\u001b[43m,\u001b[49m\u001b[43m \u001b[49m\u001b[38;5;241;43m0\u001b[39;49m\u001b[43m,\u001b[49m\u001b[43m \u001b[49m\u001b[43mtfit\u001b[49m\u001b[43m,\u001b[49m\u001b[43m \u001b[49m\u001b[43mbath\u001b[49m\u001b[38;5;241;43m.\u001b[39;49m\u001b[43mcorrelation_function\u001b[49m\u001b[43m)\u001b[49m\n\u001b[1;32m      6\u001b[0m bath1, fit2info \u001b[38;5;241m=\u001b[39m cfiitter2\u001b[38;5;241m.\u001b[39mget_fit(Ni\u001b[38;5;241m=\u001b[39m\u001b[38;5;241m1\u001b[39m, Nr\u001b[38;5;241m=\u001b[39m\u001b[38;5;241m2\u001b[39m)\n\u001b[1;32m      7\u001b[0m \u001b[38;5;66;03m# notice one mode is also a pretty good approximation\u001b[39;00m\n",
      "File \u001b[0;32m~/github/qutip_gsoc_app/qutip/solver/heom/bofin_fit.py:253\u001b[0m, in \u001b[0;36mCorrelationFitter.__init__\u001b[0;34m(self, Q, T, t, C)\u001b[0m\n\u001b[1;32m    251\u001b[0m \u001b[38;5;28mself\u001b[39m\u001b[38;5;241m.\u001b[39mQ \u001b[38;5;241m=\u001b[39m Q\n\u001b[1;32m    252\u001b[0m \u001b[38;5;28mself\u001b[39m\u001b[38;5;241m.\u001b[39mT \u001b[38;5;241m=\u001b[39m T\n\u001b[0;32m--> 253\u001b[0m \u001b[38;5;28;43mself\u001b[39;49m\u001b[38;5;241;43m.\u001b[39;49m\u001b[43mset_correlation_function\u001b[49m\u001b[43m(\u001b[49m\u001b[43mt\u001b[49m\u001b[43m,\u001b[49m\u001b[43m \u001b[49m\u001b[43mC\u001b[49m\u001b[43m)\u001b[49m\n",
      "File \u001b[0;32m~/github/qutip_gsoc_app/qutip/solver/heom/bofin_fit.py:267\u001b[0m, in \u001b[0;36mCorrelationFitter.set_correlation_function\u001b[0;34m(self, t, C)\u001b[0m\n\u001b[1;32m    265\u001b[0m \u001b[38;5;28;01mif\u001b[39;00m \u001b[38;5;28mcallable\u001b[39m(C):\n\u001b[1;32m    266\u001b[0m     \u001b[38;5;28mself\u001b[39m\u001b[38;5;241m.\u001b[39m_t \u001b[38;5;241m=\u001b[39m t\n\u001b[0;32m--> 267\u001b[0m     \u001b[38;5;28mself\u001b[39m\u001b[38;5;241m.\u001b[39m_C_array \u001b[38;5;241m=\u001b[39m \u001b[43mC\u001b[49m\u001b[43m(\u001b[49m\u001b[43mt\u001b[49m\u001b[43m)\u001b[49m\n\u001b[1;32m    268\u001b[0m     \u001b[38;5;28mself\u001b[39m\u001b[38;5;241m.\u001b[39m_C_fun \u001b[38;5;241m=\u001b[39m C\n\u001b[1;32m    269\u001b[0m \u001b[38;5;28;01melse\u001b[39;00m:\n",
      "File \u001b[0;32m~/github/qutip_gsoc_app/qutip/solver/heom/bofin_baths.py:399\u001b[0m, in \u001b[0;36mBosonicBath.correlation_function\u001b[0;34m(self, t, **kwargs)\u001b[0m\n\u001b[1;32m    393\u001b[0m \u001b[38;5;28;01mdef\u001b[39;00m \u001b[38;5;21mintegrand\u001b[39m(w, t):\n\u001b[1;32m    394\u001b[0m     \u001b[38;5;28;01mreturn\u001b[39;00m \u001b[38;5;28mself\u001b[39m\u001b[38;5;241m.\u001b[39mspectral_density(w) \u001b[38;5;241m/\u001b[39m np\u001b[38;5;241m.\u001b[39mpi \u001b[38;5;241m*\u001b[39m (\n\u001b[1;32m    395\u001b[0m         (\u001b[38;5;241m2\u001b[39m \u001b[38;5;241m*\u001b[39m \u001b[38;5;28mself\u001b[39m\u001b[38;5;241m.\u001b[39m_bose_einstein(w) \u001b[38;5;241m+\u001b[39m \u001b[38;5;241m1\u001b[39m) \u001b[38;5;241m*\u001b[39m np\u001b[38;5;241m.\u001b[39mcos(w \u001b[38;5;241m*\u001b[39m t)\n\u001b[1;32m    396\u001b[0m         \u001b[38;5;241m-\u001b[39m \u001b[38;5;241m1\u001b[39mj \u001b[38;5;241m*\u001b[39m np\u001b[38;5;241m.\u001b[39msin(w \u001b[38;5;241m*\u001b[39m t)\n\u001b[1;32m    397\u001b[0m     )\n\u001b[0;32m--> 399\u001b[0m result \u001b[38;5;241m=\u001b[39m \u001b[43mquad_vec\u001b[49m\u001b[43m(\u001b[49m\u001b[38;5;28;43;01mlambda\u001b[39;49;00m\u001b[43m \u001b[49m\u001b[43mw\u001b[49m\u001b[43m:\u001b[49m\u001b[43m \u001b[49m\u001b[43mintegrand\u001b[49m\u001b[43m(\u001b[49m\u001b[43mw\u001b[49m\u001b[43m,\u001b[49m\u001b[43m \u001b[49m\u001b[43mt\u001b[49m\u001b[43m)\u001b[49m\u001b[43m,\u001b[49m\u001b[43m \u001b[49m\u001b[38;5;241;43m0\u001b[39;49m\u001b[43m,\u001b[49m\u001b[43m \u001b[49m\u001b[43mnp\u001b[49m\u001b[38;5;241;43m.\u001b[39;49m\u001b[43mInf\u001b[49m\u001b[43m,\u001b[49m\u001b[43m \u001b[49m\u001b[38;5;241;43m*\u001b[39;49m\u001b[38;5;241;43m*\u001b[39;49m\u001b[43mkwargs\u001b[49m\u001b[43m)\u001b[49m\n\u001b[1;32m    400\u001b[0m \u001b[38;5;28;01mreturn\u001b[39;00m result[\u001b[38;5;241m0\u001b[39m]\n",
      "File \u001b[0;32m~/miniconda3/envs/qutip-dev/lib/python3.12/site-packages/scipy/integrate/_quad_vec.py:249\u001b[0m, in \u001b[0;36mquad_vec\u001b[0;34m(f, a, b, epsabs, epsrel, norm, cache_size, limit, workers, points, quadrature, full_output, args)\u001b[0m\n\u001b[1;32m    247\u001b[0m     \u001b[38;5;28;01mif\u001b[39;00m points \u001b[38;5;129;01mis\u001b[39;00m \u001b[38;5;129;01mnot\u001b[39;00m \u001b[38;5;28;01mNone\u001b[39;00m:\n\u001b[1;32m    248\u001b[0m         kwargs[\u001b[38;5;124m'\u001b[39m\u001b[38;5;124mpoints\u001b[39m\u001b[38;5;124m'\u001b[39m] \u001b[38;5;241m=\u001b[39m \u001b[38;5;28mtuple\u001b[39m(f2\u001b[38;5;241m.\u001b[39mget_t(xp) \u001b[38;5;28;01mfor\u001b[39;00m xp \u001b[38;5;129;01min\u001b[39;00m points)\n\u001b[0;32m--> 249\u001b[0m     \u001b[38;5;28;01mreturn\u001b[39;00m \u001b[43mquad_vec\u001b[49m\u001b[43m(\u001b[49m\u001b[43mf2\u001b[49m\u001b[43m,\u001b[49m\u001b[43m \u001b[49m\u001b[38;5;241;43m0\u001b[39;49m\u001b[43m,\u001b[49m\u001b[43m \u001b[49m\u001b[38;5;241;43m1\u001b[39;49m\u001b[43m,\u001b[49m\u001b[43m \u001b[49m\u001b[38;5;241;43m*\u001b[39;49m\u001b[38;5;241;43m*\u001b[39;49m\u001b[43mkwargs\u001b[49m\u001b[43m)\u001b[49m\n\u001b[1;32m    250\u001b[0m \u001b[38;5;28;01melif\u001b[39;00m np\u001b[38;5;241m.\u001b[39misfinite(b) \u001b[38;5;129;01mand\u001b[39;00m np\u001b[38;5;241m.\u001b[39misinf(a):\n\u001b[1;32m    251\u001b[0m     f2 \u001b[38;5;241m=\u001b[39m SemiInfiniteFunc(f, start\u001b[38;5;241m=\u001b[39mb, infty\u001b[38;5;241m=\u001b[39ma)\n",
      "File \u001b[0;32m~/miniconda3/envs/qutip-dev/lib/python3.12/site-packages/scipy/integrate/_quad_vec.py:386\u001b[0m, in \u001b[0;36mquad_vec\u001b[0;34m(f, a, b, epsabs, epsrel, norm, cache_size, limit, workers, points, quadrature, full_output, args)\u001b[0m\n\u001b[1;32m    383\u001b[0m     err_sum \u001b[38;5;241m+\u001b[39m\u001b[38;5;241m=\u001b[39m \u001b[38;5;241m-\u001b[39mneg_old_err\n\u001b[1;32m    385\u001b[0m \u001b[38;5;66;03m# Subdivide intervals\u001b[39;00m\n\u001b[0;32m--> 386\u001b[0m \u001b[43m\u001b[49m\u001b[38;5;28;43;01mfor\u001b[39;49;00m\u001b[43m \u001b[49m\u001b[43mparts\u001b[49m\u001b[43m \u001b[49m\u001b[38;5;129;43;01min\u001b[39;49;00m\u001b[43m \u001b[49m\u001b[43mmapwrapper\u001b[49m\u001b[43m(\u001b[49m\u001b[43m_subdivide_interval\u001b[49m\u001b[43m,\u001b[49m\u001b[43m \u001b[49m\u001b[43mto_process\u001b[49m\u001b[43m)\u001b[49m\u001b[43m:\u001b[49m\n\u001b[1;32m    387\u001b[0m \u001b[43m    \u001b[49m\u001b[43mdint\u001b[49m\u001b[43m,\u001b[49m\u001b[43m \u001b[49m\u001b[43mderr\u001b[49m\u001b[43m,\u001b[49m\u001b[43m \u001b[49m\u001b[43mdround_err\u001b[49m\u001b[43m,\u001b[49m\u001b[43m \u001b[49m\u001b[43msubint\u001b[49m\u001b[43m,\u001b[49m\u001b[43m \u001b[49m\u001b[43mdneval\u001b[49m\u001b[43m \u001b[49m\u001b[38;5;241;43m=\u001b[39;49m\u001b[43m \u001b[49m\u001b[43mparts\u001b[49m\n\u001b[1;32m    388\u001b[0m \u001b[43m    \u001b[49m\u001b[43mneval\u001b[49m\u001b[43m \u001b[49m\u001b[38;5;241;43m+\u001b[39;49m\u001b[38;5;241;43m=\u001b[39;49m\u001b[43m \u001b[49m\u001b[43mdneval\u001b[49m\n",
      "File \u001b[0;32m~/miniconda3/envs/qutip-dev/lib/python3.12/site-packages/scipy/integrate/_quad_vec.py:446\u001b[0m, in \u001b[0;36m_subdivide_interval\u001b[0;34m(args)\u001b[0m\n\u001b[1;32m    444\u001b[0m s1, err1, round1 \u001b[38;5;241m=\u001b[39m _quadrature(a, c, f, norm_func)\n\u001b[1;32m    445\u001b[0m dneval \u001b[38;5;241m=\u001b[39m _quadrature\u001b[38;5;241m.\u001b[39mnum_eval\n\u001b[0;32m--> 446\u001b[0m s2, err2, round2 \u001b[38;5;241m=\u001b[39m \u001b[43m_quadrature\u001b[49m\u001b[43m(\u001b[49m\u001b[43mc\u001b[49m\u001b[43m,\u001b[49m\u001b[43m \u001b[49m\u001b[43mb\u001b[49m\u001b[43m,\u001b[49m\u001b[43m \u001b[49m\u001b[43mf\u001b[49m\u001b[43m,\u001b[49m\u001b[43m \u001b[49m\u001b[43mnorm_func\u001b[49m\u001b[43m)\u001b[49m\n\u001b[1;32m    447\u001b[0m dneval \u001b[38;5;241m+\u001b[39m\u001b[38;5;241m=\u001b[39m _quadrature\u001b[38;5;241m.\u001b[39mnum_eval\n\u001b[1;32m    448\u001b[0m \u001b[38;5;28;01mif\u001b[39;00m old_int \u001b[38;5;129;01mis\u001b[39;00m \u001b[38;5;28;01mNone\u001b[39;00m:\n",
      "File \u001b[0;32m~/miniconda3/envs/qutip-dev/lib/python3.12/site-packages/scipy/integrate/_quad_vec.py:653\u001b[0m, in \u001b[0;36m_quadrature_gk15\u001b[0;34m(a, b, f, norm_func)\u001b[0m\n\u001b[1;32m    636\u001b[0m \u001b[38;5;66;03m# 15-point weights\u001b[39;00m\n\u001b[1;32m    637\u001b[0m v \u001b[38;5;241m=\u001b[39m (\u001b[38;5;241m0.022935322010529224963732008058970\u001b[39m,\n\u001b[1;32m    638\u001b[0m      \u001b[38;5;241m0.063092092629978553290700663189204\u001b[39m,\n\u001b[1;32m    639\u001b[0m      \u001b[38;5;241m0.104790010322250183839876322541518\u001b[39m,\n\u001b[0;32m   (...)\u001b[0m\n\u001b[1;32m    650\u001b[0m      \u001b[38;5;241m0.063092092629978553290700663189204\u001b[39m,\n\u001b[1;32m    651\u001b[0m      \u001b[38;5;241m0.022935322010529224963732008058970\u001b[39m)\n\u001b[0;32m--> 653\u001b[0m \u001b[38;5;28;01mreturn\u001b[39;00m \u001b[43m_quadrature_gk\u001b[49m\u001b[43m(\u001b[49m\u001b[43ma\u001b[49m\u001b[43m,\u001b[49m\u001b[43m \u001b[49m\u001b[43mb\u001b[49m\u001b[43m,\u001b[49m\u001b[43m \u001b[49m\u001b[43mf\u001b[49m\u001b[43m,\u001b[49m\u001b[43m \u001b[49m\u001b[43mnorm_func\u001b[49m\u001b[43m,\u001b[49m\u001b[43m \u001b[49m\u001b[43mx\u001b[49m\u001b[43m,\u001b[49m\u001b[43m \u001b[49m\u001b[43mw\u001b[49m\u001b[43m,\u001b[49m\u001b[43m \u001b[49m\u001b[43mv\u001b[49m\u001b[43m)\u001b[49m\n",
      "File \u001b[0;32m~/miniconda3/envs/qutip-dev/lib/python3.12/site-packages/scipy/integrate/_quad_vec.py:509\u001b[0m, in \u001b[0;36m_quadrature_gk\u001b[0;34m(a, b, f, norm_func, x, w, v)\u001b[0m\n\u001b[1;32m    507\u001b[0m     s_k \u001b[38;5;241m+\u001b[39m\u001b[38;5;241m=\u001b[39m vv \u001b[38;5;241m*\u001b[39m ff\n\u001b[1;32m    508\u001b[0m     \u001b[38;5;66;03m# \\int |f(x)|\u001b[39;00m\n\u001b[0;32m--> 509\u001b[0m     s_k_abs \u001b[38;5;241m+\u001b[39m\u001b[38;5;241m=\u001b[39m vv \u001b[38;5;241m*\u001b[39m \u001b[38;5;28;43mabs\u001b[39;49m\u001b[43m(\u001b[49m\u001b[43mff\u001b[49m\u001b[43m)\u001b[49m\n\u001b[1;32m    511\u001b[0m \u001b[38;5;66;03m# Gauss\u001b[39;00m\n\u001b[1;32m    512\u001b[0m s_g \u001b[38;5;241m=\u001b[39m \u001b[38;5;241m0.0\u001b[39m\n",
      "\u001b[0;31mKeyboardInterrupt\u001b[0m: "
     ]
    }
   ],
   "source": [
    "bath = heom.UnderDampedBath(\n",
    "        Q=Q,\n",
    "        lam=lam, gamma=gamma, w0=w0, T=0, Nk=5) # fix runtime warning\n",
    "cfiitter2 = heom.CorrelationFitter(\n",
    "    Q, 0, tfit, bath.correlation_function)\n",
    "bath1, fit2info = cfiitter2.get_fit(Ni=1, Nr=2)\n",
    "# notice one mode is also a pretty good approximation\n",
    "print(fit2info['summary'])"
   ]
  },
  {
   "cell_type": "code",
   "execution_count": null,
   "id": "b067c36d-12d6-4a45-9ce1-c1575f06584a",
   "metadata": {},
   "outputs": [],
   "source": [
    "times2 = np.linspace(0,10,500)\n",
    "cvis = bath.correlation_function(times2)"
   ]
  },
  {
   "cell_type": "code",
   "execution_count": null,
   "id": "5fcb6ab6-f3a5-4629-a31a-736b8f192971",
   "metadata": {},
   "outputs": [],
   "source": [
    "# using the variable axs for multiple Axes\n",
    "fig, axs = plt.subplots(1, 2,figsize=(15,5))\n",
    "axs[0].plot(times2, np.imag(cvis),label=\"Numerical\")\n",
    "axs[0].plot(times2, np.imag(bath1.correlation_function_approx(times2)), \"-.\",label=\"Approximated\")\n",
    "axs[0].set_xlabel(\"t\")\n",
    "axs[0].set_ylabel(\"Im(C)\")\n",
    "axs[0].legend()\n",
    "axs[1].plot(times2, np.real(cvis),label=\"Numerical\")\n",
    "axs[1].plot(times2, np.real(bath1.correlation_function_approx(times2)), \"-.\",label=\"Approximated\")\n",
    "axs[1].set_xlabel(\"t\")\n",
    "axs[1].set_ylabel(\"Re(C)\")\n",
    "axs[1].legend()\n",
    "fig.suptitle('Correlation Functions', fontsize=30)\n",
    "plt.show()"
   ]
  },
  {
   "cell_type": "code",
   "execution_count": null,
   "id": "d87250b6-e246-4ea4-b6f9-a22b8a270f3d",
   "metadata": {},
   "outputs": [],
   "source": [
    "solver = heom.HEOMSolver(H,\n",
    "                          [bath1], max_depth=5, options={\"atol\": 1e-14})\n",
    "result = solver.run(rho0, times)"
   ]
  },
  {
   "cell_type": "code",
   "execution_count": null,
   "id": "bbb713cc-b194-4a7f-b4c8-9513575a328d",
   "metadata": {},
   "outputs": [
    {
     "name": "stderr",
     "output_type": "stream",
     "text": [
      "Calculating Integrals ...: 100%|████████████| 1089/1089 [00:16<00:00, 67.67it/s]\n",
      "Calculating time independent matrices...: 100%|█| 1089/1089 [00:00<00:00, 1509.8\n",
      "Calculating time dependent generators:  44%|▍| 479/1089 [01:28<02:04,  4.88it/s]"
     ]
    }
   ],
   "source": [
    "cum = csolve(\n",
    "    Hsys=H, t=times, baths=[bath],\n",
    "    Qs=[Q],\n",
    "    eps=2, cython=False)\n",
    "result_cum = cum.evolution(rho0)\n",
    "\n",
    "\n",
    "result_cum = rotation(result_cum, H, times)"
   ]
  },
  {
   "cell_type": "code",
   "execution_count": null,
   "id": "a62c0006-59bb-4065-9e31-fd7d332a9e5e",
   "metadata": {},
   "outputs": [],
   "source": [
    "a_ops = [[Q, bath.power_spectrum]]\n",
    "resultBR = brmesolve(H, rho0, times, a_ops=a_ops, options={\n",
    "    \"atol\": 1e-14}, sec_cutoff=-1)\n",
    "\n",
    "a_ops = [[Q, bath.power_spectrum]]\n",
    "resultBR2 = brmesolve(H, rho0, times, a_ops=a_ops, options={\n",
    "    \"atol\": 1e-14})"
   ]
  },
  {
   "cell_type": "code",
   "execution_count": null,
   "id": "f8e6d6b0-2310-476c-90a5-cf5cb60e0f5f",
   "metadata": {},
   "outputs": [],
   "source": [
    "Ncutoff=3\n",
    "modes=2\n",
    "bathu = zero_temp_bath(Q, tfit, lam, gamma, w0, N=modes)\n",
    "example = pseudomode(Hsys=H, Q=Q, bath=bathu)\n",
    "print(bathu.finfo[\"summary\"])\n",
    "cvis2 = bathu.correlation_function\n",
    "fig, axs = plt.subplots(1, 2,figsize=(15,5))\n",
    "axs[0].plot(tfit, np.imag(cvis2),label=\"Numerical\")\n",
    "axs[0].plot(tfit, np.imag(bathu.bath.correlation_function_approx(tfit))+np.imag(bathu.C0(tfit, lam, gamma, w0)), \"-.\",label=\"Approximated\")\n",
    "axs[0].set_xlabel(\"t\")\n",
    "axs[0].set_ylabel(\"Im(C)\")\n",
    "axs[0].legend()\n",
    "axs[1].plot(tfit, np.real(cvis2),label=\"Numerical\")\n",
    "axs[1].plot(tfit, np.real(bathu.bath.correlation_function_approx(tfit)), \"-.\",label=\"Approximated\")\n",
    "axs[1].set_xlabel(\"t\")\n",
    "axs[1].set_ylabel(\"Re(C)\")\n",
    "axs[1].legend()\n",
    "fig.suptitle('Correlation Functions', fontsize=30)\n",
    "plt.show()"
   ]
  },
  {
   "cell_type": "code",
   "execution_count": null,
   "id": "ea6a8fe5-e5d9-474b-9da4-f33332e33794",
   "metadata": {},
   "outputs": [],
   "source": [
    "ans = example.evolution(rho0, Ncutoff, times, e_ops=[H], options={\n",
    "                        \"atol\": 1e-14, \"normalize_output\": False, \"store_states\": True})\n",
    "ans = [i.ptrace(range(N))for i in ans.states]"
   ]
  },
  {
   "cell_type": "code",
   "execution_count": null,
   "id": "9683bbd1-46e7-4a36-8ea2-ca2cc78bd4eb",
   "metadata": {},
   "outputs": [],
   "source": [
    "from qutip import qload"
   ]
  },
  {
   "cell_type": "code",
   "execution_count": null,
   "id": "e0eebacf-2f28-4ef1-9766-e8ba2ef0a16f",
   "metadata": {},
   "outputs": [],
   "source": [
    "results=[result,result_cum,resultBR,resultBR2,ans]"
   ]
  },
  {
   "cell_type": "code",
   "execution_count": null,
   "id": "ae7e0efe-c312-4a44-8a44-c8d4647b3961",
   "metadata": {},
   "outputs": [],
   "source": [
    "def plot_ground(states,H,times):\n",
    "    E0=np.min(H.eigenenergies()[0])\n",
    "    labels=[\"HEOM\",\"Cumulant\",\"Bloch-redfield\",\"Bloch-redfield PS\",\"Pseudomodes\"]\n",
    "    for k,i in enumerate(states):\n",
    "        try:\n",
    "            sdd=np.array([(j*H).tr() for j in i.states])\n",
    "        except:\n",
    "            sdd=np.array([(j*H).tr() for j in i])\n",
    " \n",
    "        plt.plot(times,sdd-E0,label=labels[k])\n",
    "    plt.legend(fontsize=14)\n",
    "    plt.ylabel(r\"$\\langle H \\rangle - E_0$\",fontsize=20)\n",
    "    plt.xlabel(r\"t\",fontsize=20)\n",
    "    plt.show()\n",
    "        "
   ]
  },
  {
   "cell_type": "code",
   "execution_count": null,
   "id": "48a8da90-7b76-4011-96e2-4a33e73b9853",
   "metadata": {},
   "outputs": [],
   "source": [
    "plot_ground(results,H,times)"
   ]
  },
  {
   "cell_type": "code",
   "execution_count": null,
   "id": "9cfb7b2e-7c28-4d3a-bad1-143d2ea092ec",
   "metadata": {},
   "outputs": [],
   "source": [
    "def plot_fidelities(states,H,times):\n",
    "    labels=[\"HEOM\",\"Cumulant\",\"Bloch-redfield\",\"Bloch-redfield PS\",\"Pseudomodes\"]\n",
    "    for k,i in enumerate(states[1:],1):\n",
    "        try:\n",
    "            sdd=np.array([fidelity(i.states[j],states[0].states[j]) for j in range(len(times))])\n",
    "        except:\n",
    "            sdd=np.array([fidelity(i[j],states[0].states[j]) for j in range(len(times))])\n",
    "        plt.plot(times,sdd,label=labels[k])\n",
    "    plt.legend(fontsize=14)\n",
    "    plt.ylabel(r\"$\\mathcal{F}_{HEOM}$\",fontsize=20)\n",
    "    plt.xlabel(r\"t\",fontsize=20)\n",
    "    plt.show()\n",
    "        "
   ]
  },
  {
   "cell_type": "code",
   "execution_count": null,
   "id": "9a41d89f-e522-4247-bf61-bb5b4fc89580",
   "metadata": {},
   "outputs": [],
   "source": [
    "plot_fidelities(results,H,times)"
   ]
  },
  {
   "cell_type": "code",
   "execution_count": null,
   "id": "7b559c48-3ace-4761-bb6b-a31b2c1443a0",
   "metadata": {},
   "outputs": [],
   "source": [
    "def plot_trd(states,H,times):\n",
    "    labels=[\"HEOM\",\"Cumulant\",\"Bloch-redfield\",\"Bloch-redfield PS\",\"Pseudomodes\"]\n",
    "    for k,i in enumerate(states[1:],1):\n",
    "        try:\n",
    "            sdd=np.array([tracedist(i.states[j],states[0].states[j]) for j in range(len(times))])\n",
    "        except:\n",
    "            sdd=np.array([tracedist(i[j],states[0].states[j]) for j in range(len(times))])\n",
    "        plt.plot(times,1-sdd,label=labels[k])\n",
    "    plt.legend(fontsize=14)\n",
    "    plt.yscale(\"log\")\n",
    "    plt.ylabel(r\"$\\mathcal{Tr}_{HEOM}$\",fontsize=20)\n",
    "    plt.xlabel(r\"t\",fontsize=20)\n",
    "    plt.show()\n",
    "        "
   ]
  },
  {
   "cell_type": "code",
   "execution_count": null,
   "id": "e4be5a91-d928-4935-8c2e-fcb3d0168459",
   "metadata": {},
   "outputs": [],
   "source": [
    "plot_trd(results,H,times)"
   ]
  },
  {
   "cell_type": "code",
   "execution_count": null,
   "id": "147973e1-e5e5-41a8-84f4-b136bf051acd",
   "metadata": {},
   "outputs": [],
   "source": [
    "def plot_positivity(states,H,times):\n",
    "    labels=[\"HEOM\",\"Cumulant\",\"Bloch-redfield\",\"Bloch-redfield PS\",\"Pseudomodes\"]\n",
    "    for k,i in enumerate(states):\n",
    "        try:\n",
    "            sdd=np.array([np.min(i.states[j].eigenenergies()) for j in range(len(times))])\n",
    "        except:\n",
    "            sdd=np.array([np.min(i[j].eigenenergies())  for j in range(len(times))])\n",
    "        plt.plot(times,sdd,label=labels[k])\n",
    "   # plt.ylim(-1e-3,0.001)\n",
    "    plt.legend(fontsize=14)\n",
    "    plt.ylabel(r\"$min |E_i|$\",fontsize=20)\n",
    "    plt.xlabel(r\"t\",fontsize=20)\n",
    "    plt.show()"
   ]
  },
  {
   "cell_type": "code",
   "execution_count": null,
   "id": "cca57303-3089-452f-a40a-f9d2c4af08d7",
   "metadata": {
    "scrolled": true
   },
   "outputs": [],
   "source": [
    "plot_positivity(results,H,times)"
   ]
  },
  {
   "cell_type": "code",
   "execution_count": 2,
   "id": "90ed7f25-085f-4abd-98e5-2d4ae734da18",
   "metadata": {},
   "outputs": [],
   "source": [
    "from qutip import qsave,qload"
   ]
  },
  {
   "cell_type": "code",
   "execution_count": null,
   "id": "df14ced9-79ab-4bf8-8f80-2d8f24a36b8d",
   "metadata": {},
   "outputs": [],
   "source": [
    "qsave(results,f\"N={N}_ising_{lam}_nocheating_goodq\")"
   ]
  },
  {
   "cell_type": "code",
   "execution_count": 3,
   "id": "c4601bf9-6672-4458-a122-4a5f2b3a9a60",
   "metadata": {},
   "outputs": [],
   "source": [
    "results=qload(\"N=4_ising_3.9585112530093003_nocheating\")"
   ]
  },
  {
   "cell_type": "code",
   "execution_count": 6,
   "id": "207c5d70-f418-4144-b754-94b101f50907",
   "metadata": {},
   "outputs": [
    {
     "data": {
      "text/latex": [
       "Quantum object: dims=[[2, 2], [2, 2]], shape=(4, 4), type='oper', isherm=True$$\\left(\\begin{array}{cc}0.002 & -1.205\\times10^{ -5 } & -1.294\\times10^{ -4 } & 0.049\\\\-1.205\\times10^{ -5 } & 0.003 & 0.005 & -2.539\\times10^{ -4 }\\\\-1.294\\times10^{ -4 } & 0.005 & 0.006 & (-0.003+0.004j)\\\\0.049 & -2.539\\times10^{ -4 } & (-0.003-0.004j) & 0.989\\end{array}\\right)$$"
      ],
      "text/plain": [
       "Quantum object: dims=[[2, 2], [2, 2]], shape=(4, 4), type='oper', isherm=True\n",
       "Qobj data =\n",
       "[[ 2.42677881e-03-7.52951279e-19j -1.20454082e-05-3.81650567e-06j\n",
       "  -1.29361765e-04-1.71629716e-04j  4.91077195e-02-6.24751257e-05j]\n",
       " [-1.20454082e-05+3.81650567e-06j  2.60777206e-03-7.91620890e-17j\n",
       "   5.09191699e-03-7.81535988e-04j -2.53908589e-04+1.59551475e-04j]\n",
       " [-1.29361765e-04+1.71629716e-04j  5.09191699e-03+7.81535988e-04j\n",
       "   6.07106991e-03-5.46331066e-17j -3.33575006e-03+4.31992415e-03j]\n",
       " [ 4.91077195e-02+6.24751257e-05j -2.53908589e-04-1.59551475e-04j\n",
       "  -3.33575006e-03-4.31992415e-03j  9.88894379e-01+1.18660647e-16j]]"
      ]
     },
     "execution_count": 6,
     "metadata": {},
     "output_type": "execute_result"
    }
   ],
   "source": [
    "results[0].states[-1]"
   ]
  },
  {
   "cell_type": "code",
   "execution_count": 11,
   "id": "9b739b77-1af2-4d48-bde1-dafe546bdc71",
   "metadata": {},
   "outputs": [
    {
     "data": {
      "text/plain": [
       "(-2.514931565455823-7.659888348610089e-17j)"
      ]
     },
     "execution_count": 11,
     "metadata": {},
     "output_type": "execute_result"
    }
   ],
   "source": [
    "(H*results[0].states[-1]).tr()"
   ]
  },
  {
   "cell_type": "code",
   "execution_count": 13,
   "id": "509a7331-701b-4692-a1a9-a3726e7b9786",
   "metadata": {},
   "outputs": [
    {
     "data": {
      "text/latex": [
       "Quantum object: dims=[[2, 2], [2, 2]], shape=(4, 4), type='oper', isherm=True$$\\left(\\begin{array}{cc}0.002 & -4.695\\times10^{ -6 } & -2.722\\times10^{ -5 } & 0.050\\\\-4.695\\times10^{ -6 } & 0.001 & 0.002 & -7.779\\times10^{ -5 }\\\\-2.722\\times10^{ -5 } & 0.002 & 0.003 & -5.236\\times10^{ -4 }\\\\0.050 & -7.779\\times10^{ -5 } & -5.236\\times10^{ -4 } & 0.993\\end{array}\\right)$$"
      ],
      "text/plain": [
       "Quantum object: dims=[[2, 2], [2, 2]], shape=(4, 4), type='oper', isherm=True\n",
       "Qobj data =\n",
       "[[ 2.47050285e-03+2.85651771e-17j -4.69480167e-06-1.65858909e-05j\n",
       "  -2.72221552e-05-1.98468470e-05j  4.95203919e-02-4.41832430e-06j]\n",
       " [-4.69480167e-06+1.65858909e-05j  1.42037253e-03+2.75378582e-19j\n",
       "   1.64240190e-03-8.63653562e-04j -7.77851322e-05+3.27905653e-04j]\n",
       " [-2.72221552e-05+1.98468470e-05j  1.64240190e-03+8.63653562e-04j\n",
       "   3.43520322e-03+2.51200040e-19j -5.23610027e-04+4.21949192e-04j]\n",
       " [ 4.95203919e-02+4.41832430e-06j -7.77851322e-05-3.27905653e-04j\n",
       "  -5.23610027e-04-4.21949192e-04j  9.92673921e-01-5.50752189e-16j]]"
      ]
     },
     "execution_count": 13,
     "metadata": {},
     "output_type": "execute_result"
    }
   ],
   "source": [
    "results[2].states[-1]"
   ]
  },
  {
   "cell_type": "code",
   "execution_count": 15,
   "id": "6a61f934-1300-4a12-88c5-9a842e0e6d46",
   "metadata": {},
   "outputs": [
    {
     "data": {
      "text/plain": [
       "(-2.4920347755376118-1.540488656776029e-15j)"
      ]
     },
     "execution_count": 15,
     "metadata": {},
     "output_type": "execute_result"
    }
   ],
   "source": [
    "(results[2].states[-1]*H).tr()"
   ]
  },
  {
   "cell_type": "code",
   "execution_count": null,
   "id": "3ea4bbc4-a026-47c8-986c-bef2af4b14d1",
   "metadata": {},
   "outputs": [],
   "source": []
  }
 ],
 "metadata": {
  "kernelspec": {
   "display_name": "Python 3 (ipykernel)",
   "language": "python",
   "name": "python3"
  },
  "language_info": {
   "codemirror_mode": {
    "name": "ipython",
    "version": 3
   },
   "file_extension": ".py",
   "mimetype": "text/x-python",
   "name": "python",
   "nbconvert_exporter": "python",
   "pygments_lexer": "ipython3",
   "version": "3.12.2"
  }
 },
 "nbformat": 4,
 "nbformat_minor": 5
}
