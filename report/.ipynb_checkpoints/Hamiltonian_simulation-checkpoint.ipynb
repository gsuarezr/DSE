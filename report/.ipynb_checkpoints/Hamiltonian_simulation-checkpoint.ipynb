{
 "cells": [
  {
   "cell_type": "markdown",
   "metadata": {},
   "source": [
    "---\n",
    "title: Hamiltonian Simulation\n",
    "date: 2024-08-08\n",
    "authors:\n",
    "  - name: Gerardo Suarez\n",
    "---\n",
    "\n",
    "### When the Hamiltonian is Physical\n",
    "\n",
    "When the Hamiltonian is physical we can take the same steps as people who \n",
    "simulate the Lindblad master equation. I followed the \n",
    "[Lin Lin paper](https://arxiv.org/pdf/2311.15533). Here's a bit of the paper\n",
    "but instead of using SDE schemes, I do it on the ensemble. To\n",
    "obtain the Krauss operators (I also only do it to first order, because it is\n",
    "simplest and should work when $dt\\to0$ but probably one should consider\n",
    "higher orders). \n",
    "\n",
    "### Krauss Operator from a Lindbladian\n",
    "\n",
    ":::{warning}\n",
    "This might be a mistake from the very beginning as Pseudomodes is not a CPTP \n",
    "map.However numerically, I've never seen any issue with positivity when enough \n",
    "levels are considered in the modes. So from here I'm assumming it will be CPTP\n",
    ":::\n",
    "\n",
    "The logic here is to start from the master equation\n",
    "\n",
    "\\begin{equation}\n",
    "\\dot{\\rho(t)} =\\mathcal{L}(\\rho(t))\n",
    "\\end{equation}\n",
    "\n",
    "From the definition of derivative this means\n",
    "\n",
    "\\begin{equation}\n",
    "\\lim_{dt \\to 0}\\frac{\\rho(t+dt)-\\rho(t)}{dt} =\\mathcal{L}(\\rho(t))\n",
    "\\end{equation}\n",
    "\n",
    "For now let us forget about the limit, but work our quantities approximately\n",
    "and to order $\\mathcal{O}(dt^{2})$ so that\n",
    "\n",
    "\\begin{equation}\n",
    "\\rho(t+dt) \\approx \\rho(t)+ \\mathcal{L}(\\rho(t)) dt + \\mathcal{O}(dt^{2})\n",
    "\\end{equation}\n",
    "\n",
    "Since the map is CPTP then it must have a sum operator representation (Krauss\n",
    "representation) so\n",
    "\n",
    "\\begin{equation}\n",
    "\\rho(t+dt) = \\sum_{k} M_{k} \\rho(t) M_{k}^{\\dagger}\n",
    "\\end{equation}\n",
    "\n",
    "What's left now is to find what the krauss operators should be. This is known\n",
    "and can be seen for example in \n",
    "[Lidar's lecture notes](https://arxiv.org/abs/1902.00967). Here I do some extra\n",
    "algebra to illustrate how to generalize to higher order schemes\n",
    "\n",
    "Since this is lowest order then, we propose the Krauss operators\n",
    "\n",
    "\\begin{align}\n",
    "M_{0} = \\mathcal{1} + A dt \\\\ \n",
    "M_{k} = \\sqrt{dt} B_{k}\n",
    "\\end{align}\n",
    "\n",
    "Then we find that \n",
    "\n",
    ":::{warning}\n",
    "I did these calculations by hand, but I am really lazy when it comes to latexing\n",
    "so I decided to use sympy for intermediate steps, if there's any inconsistency\n",
    "I can just latex those steps 😸\n",
    ":::"
   ]
  },
  {
   "cell_type": "code",
   "execution_count": 62,
   "metadata": {},
   "outputs": [],
   "source": [
    "from sympy import *\n",
    "from sympy.physics.quantum.dagger import Dagger\n",
    "from sympy.physics.quantum import Commutator,AntiCommutator\n",
    "from sympy.physics.quantum import TensorProduct\n",
    "A=symbols(\"A\",commutative=False)\n",
    "rho=symbols(\"rho\",commutative=False,cls=Function)\n",
    "B,B1,Bk = symbols(\"B B_{1} B_{k}\", commutative=False)\n",
    "dt,t,N,k=symbols(\"dt t N k\",real=True,positive=True)"
   ]
  },
  {
   "cell_type": "code",
   "execution_count": 2,
   "metadata": {},
   "outputs": [],
   "source": [
    "M0=1+A*dt\n",
    "Mk=sqrt(dt)*Bk"
   ]
  },
  {
   "cell_type": "code",
   "execution_count": 3,
   "metadata": {},
   "outputs": [
    {
     "data": {
      "text/latex": [
       "$\\displaystyle \\rho{\\left(dt + t \\right)} = \\sum_{k=1}^{N} dt B_{k} \\rho{\\left(t \\right)} B_{k}^{\\dagger} + \\rho{\\left(t \\right)} + dt \\rho{\\left(t \\right)} A^{\\dagger} + dt A \\rho{\\left(t \\right)} + O\\left(dt^{2}\\right)$"
      ],
      "text/plain": [
       "Eq(rho(dt + t), Sum(dt*B_{k}*rho(t)*Dagger(B_{k}), (k, 1, N)) + rho(t) + dt*rho(t)*Dagger(A) + dt*A*rho(t) + O(dt**2))"
      ]
     },
     "execution_count": 3,
     "metadata": {},
     "output_type": "execute_result"
    }
   ],
   "source": [
    "sumrepre = M0*rho(t)*Dagger(M0)+Sum(Mk*rho(t)*Dagger(Mk), (k, 1, N))\n",
    "sumrepre=sumrepre.expand()+O(dt**2)\n",
    "Eq(rho(t+dt),sumrepre)"
   ]
  },
  {
   "cell_type": "markdown",
   "metadata": {},
   "source": [
    "Notice the series of Krauss operators we used have identical contributions (in\n",
    "their form, and could be represented as a sum). Notice on the other hand we have\n",
    "\n",
    "\\begin{equation}\n",
    "\\rho(t+dt) \\approx \\rho(t)+ \\mathcal{L}(\\rho(t)) dt + \\mathcal{O}(dt^{2})\n",
    "\\end{equation}\n",
    "\n",
    "By replacing the lindbladian one obtains\n",
    "\n",
    "\\begin{equation}\n",
    "\\rho(t+dt) \\approx \\rho(t)+ \\left( -i[H,\\rho(t)] + \\sum_{k} L_{k} \\rho(t) \n",
    "L_{k}^{\\dagger} - \\frac{\\{L_{k}^{\\dagger} L_{k} , \\rho(t)\\}}{2}\\right) dt \n",
    "\\end{equation}\n",
    "\n",
    "where the $L_{k}$ are the jump operators. Then by comparison we can find the required Krauss operators, First let us note\n",
    "That to generate a commutator A must be an Anti-Hermitian matrix, and to \n",
    "generate an anticommutator A must be Hermitian. If we choose A to be a sum of a\n",
    "Hermitian and Anti-hermitian matrix then\n",
    "\n"
   ]
  },
  {
   "cell_type": "code",
   "execution_count": 4,
   "metadata": {},
   "outputs": [
    {
     "data": {
      "text/latex": [
       "$\\displaystyle A = - i H + K$"
      ],
      "text/plain": [
       "Eq(A, -I*H + K)"
      ]
     },
     "execution_count": 4,
     "metadata": {},
     "output_type": "execute_result"
    }
   ],
   "source": [
    "H,K = symbols(\"H K\", commutative=False)\n",
    "Eq(A,-I*H+K)"
   ]
  },
  {
   "cell_type": "code",
   "execution_count": 5,
   "metadata": {},
   "outputs": [
    {
     "data": {
      "text/latex": [
       "$\\displaystyle \\rho{\\left(dt + t \\right)} = \\sum_{k=1}^{N} dt B_{k} \\rho{\\left(t \\right)} B_{k}^{\\dagger} + \\rho{\\left(t \\right)} + dt \\rho{\\left(t \\right)} K + i dt \\rho{\\left(t \\right)} H + dt K \\rho{\\left(t \\right)} - i dt H \\rho{\\left(t \\right)} + O\\left(dt^{2}\\right)$"
      ],
      "text/plain": [
       "Eq(rho(dt + t), Sum(dt*B_{k}*rho(t)*Dagger(B_{k}), (k, 1, N)) + rho(t) + dt*rho(t)*K + I*dt*rho(t)*H + dt*K*rho(t) - I*dt*H*rho(t) + O(dt**2))"
      ]
     },
     "execution_count": 5,
     "metadata": {},
     "output_type": "execute_result"
    }
   ],
   "source": [
    "sumrepre=sumrepre.subs(A, -I*H+K).subs(Dagger(K), K).subs(Dagger(H), H).expand()\n",
    "Eq(rho(t+dt), sumrepre)"
   ]
  },
  {
   "cell_type": "markdown",
   "metadata": {},
   "source": [
    "Which we can simplify to\n",
    "\n"
   ]
  },
  {
   "cell_type": "code",
   "execution_count": 6,
   "metadata": {},
   "outputs": [
    {
     "data": {
      "text/latex": [
       "$\\displaystyle \\rho{\\left(dt + t \\right)} = \\sum_{k=1}^{N} dt B_{k} \\rho{\\left(t \\right)} B_{k}^{\\dagger} + \\rho{\\left(t \\right)} + dt \\left(\\left\\{K,\\rho{\\left(t \\right)}\\right\\} - i \\left[H,\\rho{\\left(t \\right)}\\right]\\right) + O\\left(dt^{2}\\right)$"
      ],
      "text/plain": [
       "Eq(rho(dt + t), Sum(dt*B_{k}*rho(t)*Dagger(B_{k}), (k, 1, N)) + rho(t) + dt*({K,rho(t)} - I*[H,rho(t)]) + O(dt**2))"
      ]
     },
     "execution_count": 6,
     "metadata": {},
     "output_type": "execute_result"
    }
   ],
   "source": [
    "sumrepre = sumrepre.collect(dt).subs(I*rho(t)*H-I*H*rho(t), -I*Commutator(H,rho(t)))\n",
    "sumrepre = sumrepre.subs(rho(t)*K+K*rho(t), AntiCommutator(K, rho(t)))\n",
    "Eq(rho(t+dt), sumrepre)"
   ]
  },
  {
   "cell_type": "markdown",
   "metadata": {},
   "source": [
    "At this point notice that if we select the $B_k$ to be the jump operators\n",
    "and K to be the corresponding anticommutator term"
   ]
  },
  {
   "cell_type": "code",
   "execution_count": 7,
   "metadata": {},
   "outputs": [
    {
     "data": {
      "text/latex": [
       "$\\displaystyle \\rho{\\left(dt + t \\right)} = \\sum_{k=1}^{N} dt L \\rho{\\left(t \\right)} L^{\\dagger} + \\rho{\\left(t \\right)} + dt \\left(- \\frac{\\left\\{\\sum_{k=1}^{N} {L}_{k}^{\\dagger} {L}_{k},\\rho{\\left(t \\right)}\\right\\}}{2} - i \\left[H,\\rho{\\left(t \\right)}\\right]\\right) + O\\left(dt^{2}\\right)$"
      ],
      "text/plain": [
       "Eq(rho(dt + t), Sum(dt*L*rho(t)*Dagger(L), (k, 1, N)) + rho(t) + dt*(-{Sum(Dagger(L[k])*L[k], (k, 1, N)),rho(t)}/2 - I*[H,rho(t)]) + O(dt**2))"
      ]
     },
     "execution_count": 7,
     "metadata": {},
     "output_type": "execute_result"
    }
   ],
   "source": [
    "Lk = IndexedBase(\"L\", commutative=False)\n",
    "sumrepre = sumrepre.subs(Bk, Lk).subs(K,- Sum(Dagger(Lk[k])*Lk[k], (k, 1, N))/2)\n",
    "Eq(rho(t+dt), sumrepre)"
   ]
  },
  {
   "cell_type": "markdown",
   "metadata": {},
   "source": [
    "We have obtained the First order scheme to obtain the Linblad master equation\n",
    "Krauss operators. To obtain Higher order schemes One can notice that the solution\n",
    "to the master equation is \n",
    "\n",
    "\\begin{equation}\n",
    "\\rho(t) = e^{\\mathcal{L}t} \\rho(0)\n",
    "\\end{equation}\n",
    "\n",
    "and\n",
    "\n",
    "\\begin{equation}\n",
    "\\rho(t+dt) = e^{\\mathcal{L}(t+dt)} \\rho(0) =e^{\\mathcal{L}dt} \\rho(t) \n",
    "\\end{equation}\n",
    "\n",
    "And then expand the series of the exponential. Similarly one should increase the\n",
    "order of the krauss operator guess  by one and find the appropiate operators\n",
    "\n",
    "### Notice We could have not guess K and use the Completeness relation of krauss operators\n",
    "\n",
    "In this case it was not needed but it might be useful to find relations in higher order\n",
    "schemes and to check the krauss operators are ok. So next we find K this way\n",
    "\n",
    "The completeness relation indicates\n",
    "\n",
    "\\begin{align}\n",
    "\\sum_{k} M_{k}^{\\dagger} M_{k} = \\mathcal{1}\n",
    "\\end{align}\n",
    "\n",
    "Since in our schemes we are numerically approximating to $\\mathcal{O}(dt^{2})$\n",
    "then \n",
    "\n",
    "\\begin{align}\n",
    "\\sum_{k} M_{k}^{\\dagger} M_{k} = \\mathcal{1} +\\mathcal{O}(dt^{2})\n",
    "\\end{align}"
   ]
  },
  {
   "cell_type": "code",
   "execution_count": 8,
   "metadata": {},
   "outputs": [
    {
     "data": {
      "text/latex": [
       "$\\displaystyle 1 = 1 + dt \\sum_{k=1}^{N} {L}_{k}^{\\dagger} {L}_{k} + 2 dt K + O\\left(dt^{2}\\right)$"
      ],
      "text/plain": [
       "Eq(1, 1 + dt*Sum(Dagger(L[k])*L[k], (k, 1, N)) + 2*dt*K + O(dt**2))"
      ]
     },
     "execution_count": 8,
     "metadata": {},
     "output_type": "execute_result"
    }
   ],
   "source": [
    "M0c = M0.subs(A,-I*H+K)\n",
    "cpt=Dagger(M0c)*M0c+dt* Sum(Dagger(Lk[k])*Lk[k], (k, 1, N))\n",
    "eqs=Eq(1,cpt.expand().subs(Dagger(H), H).subs(Dagger(K),K)+O(dt**2))\n",
    "eqs"
   ]
  },
  {
   "cell_type": "markdown",
   "metadata": {},
   "source": [
    "Which we can solve to find"
   ]
  },
  {
   "cell_type": "code",
   "execution_count": 10,
   "metadata": {},
   "outputs": [
    {
     "data": {
      "text/latex": [
       "$\\displaystyle - \\frac{\\sum_{k=1}^{N} {L}_{k}^{\\dagger} {L}_{k}}{2} + O\\left(dt\\right)$"
      ],
      "text/plain": [
       "-Sum(Dagger(L[k])*L[k], (k, 1, N))/2 + O(dt)"
      ]
     },
     "execution_count": 10,
     "metadata": {},
     "output_type": "execute_result"
    }
   ],
   "source": [
    "solve(eqs,K)[0]"
   ]
  },
  {
   "cell_type": "markdown",
   "metadata": {},
   "source": [
    "Now that we have found the Krauss operators one may simply ask if one can \n",
    "follow the same scheme to obtain the Krauss operators of a pseudomode equation.\n",
    "Since I have not seen positivity issues I do think it's possible. but the naive \n",
    "approach to it yields and inconsistency \n",
    "\n",
    "### Same derivation with a non-Hermitian Hamiltonian\n",
    "\n",
    "\n",
    "Any non-Hermitian matrix can be split into the sum of a Hermitian and Anti-Hermitian\n",
    "Matrix such that I can write the unphysical Hamiltonian H as \n",
    "\n",
    "$$H=H_{0} + i H_{u}$$\n",
    "\n",
    "Then the Lindblad equation turns into\n",
    "\n",
    "\\begin{equation}\n",
    "\\rho(t+dt) \\approx \\rho(t)+ \\left( -i[H_{0},\\rho(t)] + [H_{u},\\rho(t)] + \\sum_{k} L_{k} \\rho(t) \n",
    "L_{k}^{\\dagger} - \\frac{\\{L_{k}^{\\dagger} L_{k} , \\rho(t)\\}}{2}\\right) dt \n",
    "\\end{equation}\n",
    "\n",
    "Following the same strategy as before only A changes (the part that generated \n",
    "the commutator), so the change is only on $M_{0}$ We neglect the part that \n",
    "contains K as that one does not change"
   ]
  },
  {
   "cell_type": "code",
   "execution_count": 17,
   "metadata": {},
   "outputs": [
    {
     "data": {
      "text/latex": [
       "$\\displaystyle \\rho{\\left(t \\right)} + i dt \\rho{\\left(t \\right)} H^{\\dagger} - i dt H \\rho{\\left(t \\right)} + O\\left(dt^{2}\\right)$"
      ],
      "text/plain": [
       "rho(t) + I*dt*rho(t)*Dagger(H) - I*dt*H*rho(t) + O(dt**2)"
      ]
     },
     "execution_count": 17,
     "metadata": {},
     "output_type": "execute_result"
    }
   ],
   "source": [
    "ans=(M0*rho(t)*Dagger(M0)).subs(A,-I*H).expand()+O(dt**2)\n",
    "ans"
   ]
  },
  {
   "cell_type": "markdown",
   "metadata": {},
   "source": [
    "Substitute \n",
    "$$H=H_{0} + i H_{u}$$"
   ]
  },
  {
   "cell_type": "code",
   "execution_count": 19,
   "metadata": {},
   "outputs": [],
   "source": [
    "H0,Hu=symbols(\"H_0 H_u\",commutative=False)"
   ]
  },
  {
   "cell_type": "code",
   "execution_count": 32,
   "metadata": {},
   "outputs": [
    {
     "data": {
      "text/latex": [
       "$\\displaystyle \\rho{\\left(t \\right)} + dt \\left(\\left\\{H_{u},\\rho{\\left(t \\right)}\\right\\} - i \\left[H_{0},\\rho{\\left(t \\right)}\\right]\\right) + O\\left(dt^{2}\\right)$"
      ],
      "text/plain": [
       "rho(t) + dt*({H_u,rho(t)} - I*[H_0,rho(t)]) + O(dt**2)"
      ]
     },
     "execution_count": 32,
     "metadata": {},
     "output_type": "execute_result"
    }
   ],
   "source": [
    "ans=ans.subs(H, H0+I*Hu).expand().subs(Dagger(H0),H0).subs(Dagger(Hu),Hu)\n",
    "ans=ans.collect(dt).subs(I*rho(t)*H0-I*H0*rho(t), -I*Commutator(H0, rho(t)))\n",
    "ans.subs(rho(t)*Hu+Hu*rho(t), AntiCommutator(Hu, rho(t)))"
   ]
  },
  {
   "cell_type": "markdown",
   "metadata": {},
   "source": [
    "By comparison we would need\n",
    "\n",
    "$$\\{H_{u},\\rho(t)\\} =[H_{u},\\rho(t)]$$\n",
    "\n",
    "Which cannot be satisfied"
   ]
  },
  {
   "cell_type": "markdown",
   "metadata": {},
   "source": [
    "Even though this calculation was a failure. \n",
    "Perhaps one would need to  use higher orders, or reorder the terms in another \n",
    "Fashion. I do believe it would be easier if I don't use the general formulation\n",
    "but the jump operators as $a$ and $a^{\\dagger}$ and the unphysical part of the \n",
    "Hamiltonian to have the form $\\sum_{k} \\omega_{k} a_{k}^{\\dagger}a_{k}$ where $\\omega_{k}$ is\n",
    "complex.\n",
    "\n",
    "\n",
    "While I look into it. Asume the Hamiltonian is Physical and then extrapolation\n",
    "is done. One has several schemes to simulate Krauss operators in a quantum \n",
    "circuit simulator. Let us go with the scheme in the [Lin Lin paper](https://arxiv.org/pdf/2311.15533)\n",
    "\n",
    "Even though in their case is not so bad, Here I illustrate why I don't like this\n",
    "Hamiltonian approach in the first order. Perhaps it is better to use the other\n",
    "[2nd Lin Lin paper](https://arxiv.org/pdf/2308.15676v4) though I think\n",
    "the number of  ancillas needed will be bigger. I also need to try the \n",
    "[dilation paper](https://journals.aps.org/pra/abstract/10.1103/PhysRevA.91.032113)\n"
   ]
  },
  {
   "cell_type": "markdown",
   "metadata": {},
   "source": [
    "### Hamiltonian Simulation From Krauss Operators\n",
    "\n",
    "#### In this section all traces are partial traces with respect to the ancilla\n",
    "\n",
    "The paper suggests using  the Stinespring representation of the Krauss Operators\n",
    "Namely. Finding an ancilla and a matrix $\\mu$ such that\n",
    "\n",
    "\\begin{equation}\n",
    "Tr(\\mu)=\\sum_{k} M_{k} \\rho(t) M_{k}^{\\dagger}\n",
    "\\end{equation}\n",
    "\n",
    "To achieve this we can use the matrix $\\mu$\n",
    "\n",
    "\\begin{equation}\n",
    "\\mu = \\begin{pmatrix}\n",
    "M_{0} \\rho(t) M_{0}^{\\dagger} & M_{0} \\rho(t) M_{1}^{\\dagger} \n",
    "&\\dots &M_{0} \\rho(t) M_{k}^{\\dagger}  \\\\\n",
    "M_{1} \\rho(t) M_{0}^{\\dagger} & M_{1} \\rho(t) M_{1}^{\\dagger}\n",
    "& \\dots &M_{1} \\rho(t) M_{k}^{\\dagger}  \\\\\n",
    "\\vdots &\\vdots& \\ddots &\\vdots  \\\\\n",
    "M_{k} \\rho(t) M_{0}^{\\dagger} &\\dots &\\dots  &M_{k} \\rho(t) M_{k}^{\\dagger} \n",
    "\\end{pmatrix}\n",
    "\\end{equation}\n",
    "\n",
    "Which can be easily constructed by requiring one ancilla qubit for each jump\n",
    "operator. We consider all the ancillas to be on the ground state such \n",
    "that the state of the ancillas is\n",
    "\n",
    "$\\ket{0}\\bra{0} = \\begin{pmatrix}1 &0&\\dots&0 \\\\\n",
    "0&0&\\dots&0\\\\\n",
    "\\vdots &\\vdots &\\vdots &\\vdots \\\\\n",
    "0&0&\\dots&0 \\end{pmatrix}$\n",
    "\n",
    "\n",
    "Then one can obtain $\\mu$ by \n",
    "\n",
    "\\begin{equation}\n",
    "\\mu=A \\ket{0}\\bra{0} \\otimes \\rho  A^{\\dagger}\n",
    "\\end{equation}\n",
    "\n",
    "Where \n",
    "\n",
    "$$ A= \\begin{pmatrix} M_{0} & M_{1}^{\\dagger} &\\dots & M_{k}^{\\dagger}\n",
    "\\\\ M_{1} & 0 &\\dots & 0 \\\\ \\vdots & 0 &\\dots & 0 \\\\M_{k} & 0 &\\dots & 0 \\\\\n",
    "\\end{pmatrix} $$\n",
    "\n",
    "Then one can express the operator sum representation as \n",
    "\n",
    "$$Tr(A \\ket{0}\\bra{0} \\otimes \\rho  A^{\\dagger})=\\sum_{k} M_{k} \\rho(t) \n",
    "M_{k}^{\\dagger}$$\n",
    "\n",
    "To have a Hamiltonian simulation of the Krauss representation we want to find\n",
    "a unitary such that \n",
    "$$Tr(U \\ket{0}\\bra{0} \\otimes \\rho  U^{\\dagger}) \n",
    "= Tr(A \\ket{0}\\bra{0} \\otimes \\rho  A^{\\dagger})=\\sum_{k} M_{k} \\rho(t) \n",
    "M_{k}^{\\dagger}$$\n",
    "\n",
    "Or at least to order $\\mathcal{O}(dt^{2})$. One of the insights of the paper is\n",
    "to write U as\n",
    "\n",
    "$$U=e^{-i \\sqrt{dt} \\bar{H}}$$\n",
    "\n",
    "Where \n",
    "\n",
    "$$\\bar{H}= \\begin{pmatrix}H_{0} & H_{1}^{\\dagger} &\\dots & H_{k}^{\\dagger}\n",
    "\\\\ H_{1} & 0 &\\dots & 0 \\\\ \\vdots & 0 &\\dots & 0 \\\\H_{k} & 0 &\\dots & 0 \\\n",
    " \\end{pmatrix}$$\n",
    "\n",
    " with Hermitian $H_{0}$. Then One can obtain $\\bar{H}$ from taylor expanding the\n",
    " exponential and matching the same order terms. For simplicity here I do it\n",
    " for 4 jump operators"
   ]
  },
  {
   "cell_type": "code",
   "execution_count": 112,
   "metadata": {},
   "outputs": [],
   "source": [
    "Hams=IndexedBase(\"H\", commutative=False)\n",
    "M = IndexedBase(\"M\", commutative=False)\n",
    "\n",
    "def ladder(i,j,Hams,inverted=False):\n",
    "    if (i==0)&(j==0):\n",
    "        if inverted:\n",
    "            return Dagger(Hams[j])\n",
    "        else:\n",
    "            return Hams[j]\n",
    "    elif (i== 0)&(j!=0):\n",
    "        return Dagger(Hams[j])\n",
    "    elif j==0:\n",
    "        return Hams[i]\n",
    "    else:\n",
    "        return 0\n",
    "def hdilated(n,hams,inverted=False):\n",
    "    return Matrix(n,n,lambda i,j: ladder(i,j,hams,inverted))"
   ]
  },
  {
   "cell_type": "code",
   "execution_count": 113,
   "metadata": {},
   "outputs": [
    {
     "data": {
      "text/latex": [
       "$\\displaystyle \\left[\\begin{matrix}{H}_{0} & {H}_{1}^{\\dagger} & {H}_{2}^{\\dagger} & {H}_{3}^{\\dagger} & {H}_{4}^{\\dagger}\\\\{H}_{1} & 0 & 0 & 0 & 0\\\\{H}_{2} & 0 & 0 & 0 & 0\\\\{H}_{3} & 0 & 0 & 0 & 0\\\\{H}_{4} & 0 & 0 & 0 & 0\\end{matrix}\\right]$"
      ],
      "text/plain": [
       "Matrix([\n",
       "[H[0], Dagger(H[1]), Dagger(H[2]), Dagger(H[3]), Dagger(H[4])],\n",
       "[H[1],            0,            0,            0,            0],\n",
       "[H[2],            0,            0,            0,            0],\n",
       "[H[3],            0,            0,            0,            0],\n",
       "[H[4],            0,            0,            0,            0]])"
      ]
     },
     "execution_count": 113,
     "metadata": {},
     "output_type": "execute_result"
    }
   ],
   "source": [
    "hdil=hdilated(5,Hams)\n",
    "hdil"
   ]
  },
  {
   "cell_type": "code",
   "execution_count": 114,
   "metadata": {},
   "outputs": [
    {
     "data": {
      "text/latex": [
       "$\\displaystyle \\left[\\begin{matrix}{M}_{0} & {M}_{1}^{\\dagger} & {M}_{2}^{\\dagger} & {M}_{3}^{\\dagger} & {M}_{4}^{\\dagger}\\\\{M}_{1} & 0 & 0 & 0 & 0\\\\{M}_{2} & 0 & 0 & 0 & 0\\\\{M}_{3} & 0 & 0 & 0 & 0\\\\{M}_{4} & 0 & 0 & 0 & 0\\end{matrix}\\right]$"
      ],
      "text/plain": [
       "Matrix([\n",
       "[M[0], Dagger(M[1]), Dagger(M[2]), Dagger(M[3]), Dagger(M[4])],\n",
       "[M[1],            0,            0,            0,            0],\n",
       "[M[2],            0,            0,            0,            0],\n",
       "[M[3],            0,            0,            0,            0],\n",
       "[M[4],            0,            0,            0,            0]])"
      ]
     },
     "execution_count": 114,
     "metadata": {},
     "output_type": "execute_result"
    }
   ],
   "source": [
    "Mdil = hdilated(5, M)\n",
    "Mdil"
   ]
  },
  {
   "cell_type": "code",
   "execution_count": 115,
   "metadata": {},
   "outputs": [
    {
     "data": {
      "text/latex": [
       "$\\displaystyle \\left[\\begin{matrix}{M}_{0}^{\\dagger} & {M}_{1}^{\\dagger} & {M}_{2}^{\\dagger} & {M}_{3}^{\\dagger} & {M}_{4}^{\\dagger}\\\\{M}_{1} & 0 & 0 & 0 & 0\\\\{M}_{2} & 0 & 0 & 0 & 0\\\\{M}_{3} & 0 & 0 & 0 & 0\\\\{M}_{4} & 0 & 0 & 0 & 0\\end{matrix}\\right]$"
      ],
      "text/plain": [
       "Matrix([\n",
       "[Dagger(M[0]), Dagger(M[1]), Dagger(M[2]), Dagger(M[3]), Dagger(M[4])],\n",
       "[        M[1],            0,            0,            0,            0],\n",
       "[        M[2],            0,            0,            0,            0],\n",
       "[        M[3],            0,            0,            0,            0],\n",
       "[        M[4],            0,            0,            0,            0]])"
      ]
     },
     "execution_count": 115,
     "metadata": {},
     "output_type": "execute_result"
    }
   ],
   "source": [
    "Mdild = hdilated(5, M,True)\n",
    "Mdild"
   ]
  },
  {
   "cell_type": "code",
   "execution_count": 116,
   "metadata": {},
   "outputs": [],
   "source": [
    "def rhodilated(n):\n",
    "    zero=Matrix([[1]+[0]*n])\n",
    "    return zero.T*zero*rho(t)"
   ]
  },
  {
   "cell_type": "code",
   "execution_count": 118,
   "metadata": {},
   "outputs": [
    {
     "data": {
      "text/latex": [
       "$\\displaystyle \\left[\\begin{matrix}\\rho{\\left(t \\right)} & 0 & 0 & 0 & 0\\\\0 & 0 & 0 & 0 & 0\\\\0 & 0 & 0 & 0 & 0\\\\0 & 0 & 0 & 0 & 0\\\\0 & 0 & 0 & 0 & 0\\end{matrix}\\right]$"
      ],
      "text/plain": [
       "Matrix([\n",
       "[rho(t), 0, 0, 0, 0],\n",
       "[     0, 0, 0, 0, 0],\n",
       "[     0, 0, 0, 0, 0],\n",
       "[     0, 0, 0, 0, 0],\n",
       "[     0, 0, 0, 0, 0]])"
      ]
     },
     "execution_count": 118,
     "metadata": {},
     "output_type": "execute_result"
    }
   ],
   "source": [
    "rhod=rhodilated(4)\n",
    "rhod"
   ]
  },
  {
   "cell_type": "markdown",
   "metadata": {},
   "source": [
    "We check that this reproduces $\\mu$"
   ]
  },
  {
   "cell_type": "code",
   "execution_count": 121,
   "metadata": {},
   "outputs": [
    {
     "data": {
      "text/latex": [
       "$\\displaystyle \\left[\\begin{matrix}{M}_{0} \\rho{\\left(t \\right)} {M}_{0}^{\\dagger} & {M}_{0} \\rho{\\left(t \\right)} {M}_{1}^{\\dagger} & {M}_{0} \\rho{\\left(t \\right)} {M}_{2}^{\\dagger} & {M}_{0} \\rho{\\left(t \\right)} {M}_{3}^{\\dagger} & {M}_{0} \\rho{\\left(t \\right)} {M}_{4}^{\\dagger}\\\\{M}_{1} \\rho{\\left(t \\right)} {M}_{0}^{\\dagger} & {M}_{1} \\rho{\\left(t \\right)} {M}_{1}^{\\dagger} & {M}_{1} \\rho{\\left(t \\right)} {M}_{2}^{\\dagger} & {M}_{1} \\rho{\\left(t \\right)} {M}_{3}^{\\dagger} & {M}_{1} \\rho{\\left(t \\right)} {M}_{4}^{\\dagger}\\\\{M}_{2} \\rho{\\left(t \\right)} {M}_{0}^{\\dagger} & {M}_{2} \\rho{\\left(t \\right)} {M}_{1}^{\\dagger} & {M}_{2} \\rho{\\left(t \\right)} {M}_{2}^{\\dagger} & {M}_{2} \\rho{\\left(t \\right)} {M}_{3}^{\\dagger} & {M}_{2} \\rho{\\left(t \\right)} {M}_{4}^{\\dagger}\\\\{M}_{3} \\rho{\\left(t \\right)} {M}_{0}^{\\dagger} & {M}_{3} \\rho{\\left(t \\right)} {M}_{1}^{\\dagger} & {M}_{3} \\rho{\\left(t \\right)} {M}_{2}^{\\dagger} & {M}_{3} \\rho{\\left(t \\right)} {M}_{3}^{\\dagger} & {M}_{3} \\rho{\\left(t \\right)} {M}_{4}^{\\dagger}\\\\{M}_{4} \\rho{\\left(t \\right)} {M}_{0}^{\\dagger} & {M}_{4} \\rho{\\left(t \\right)} {M}_{1}^{\\dagger} & {M}_{4} \\rho{\\left(t \\right)} {M}_{2}^{\\dagger} & {M}_{4} \\rho{\\left(t \\right)} {M}_{3}^{\\dagger} & {M}_{4} \\rho{\\left(t \\right)} {M}_{4}^{\\dagger}\\end{matrix}\\right]$"
      ],
      "text/plain": [
       "Matrix([\n",
       "[M[0]*rho(t)*Dagger(M[0]), M[0]*rho(t)*Dagger(M[1]), M[0]*rho(t)*Dagger(M[2]), M[0]*rho(t)*Dagger(M[3]), M[0]*rho(t)*Dagger(M[4])],\n",
       "[M[1]*rho(t)*Dagger(M[0]), M[1]*rho(t)*Dagger(M[1]), M[1]*rho(t)*Dagger(M[2]), M[1]*rho(t)*Dagger(M[3]), M[1]*rho(t)*Dagger(M[4])],\n",
       "[M[2]*rho(t)*Dagger(M[0]), M[2]*rho(t)*Dagger(M[1]), M[2]*rho(t)*Dagger(M[2]), M[2]*rho(t)*Dagger(M[3]), M[2]*rho(t)*Dagger(M[4])],\n",
       "[M[3]*rho(t)*Dagger(M[0]), M[3]*rho(t)*Dagger(M[1]), M[3]*rho(t)*Dagger(M[2]), M[3]*rho(t)*Dagger(M[3]), M[3]*rho(t)*Dagger(M[4])],\n",
       "[M[4]*rho(t)*Dagger(M[0]), M[4]*rho(t)*Dagger(M[1]), M[4]*rho(t)*Dagger(M[2]), M[4]*rho(t)*Dagger(M[3]), M[4]*rho(t)*Dagger(M[4])]])"
      ]
     },
     "execution_count": 121,
     "metadata": {},
     "output_type": "execute_result"
    }
   ],
   "source": [
    "mu=Mdil*rhod*Mdild\n",
    "mu"
   ]
  },
  {
   "cell_type": "code",
   "execution_count": 123,
   "metadata": {},
   "outputs": [
    {
     "data": {
      "text/latex": [
       "$\\displaystyle {M}_{0} \\rho{\\left(t \\right)} {M}_{0}^{\\dagger} + {M}_{1} \\rho{\\left(t \\right)} {M}_{1}^{\\dagger} + {M}_{2} \\rho{\\left(t \\right)} {M}_{2}^{\\dagger} + {M}_{3} \\rho{\\left(t \\right)} {M}_{3}^{\\dagger} + {M}_{4} \\rho{\\left(t \\right)} {M}_{4}^{\\dagger}$"
      ],
      "text/plain": [
       "M[0]*rho(t)*Dagger(M[0]) + M[1]*rho(t)*Dagger(M[1]) + M[2]*rho(t)*Dagger(M[2]) + M[3]*rho(t)*Dagger(M[3]) + M[4]*rho(t)*Dagger(M[4])"
      ]
     },
     "execution_count": 123,
     "metadata": {},
     "output_type": "execute_result"
    }
   ],
   "source": [
    "mu.trace()"
   ]
  },
  {
   "cell_type": "markdown",
   "metadata": {},
   "source": [
    "While at first order in the exponential we have\n",
    "\n",
    "$$exp(x)\\approx 1+x$$"
   ]
  },
  {
   "cell_type": "code",
   "execution_count": 129,
   "metadata": {},
   "outputs": [
    {
     "data": {
      "text/latex": [
       "$\\displaystyle \\left[\\begin{matrix}- i \\sqrt{dt} {H}_{0} + 1 & - i \\sqrt{dt} {H}_{1}^{\\dagger} & - i \\sqrt{dt} {H}_{2}^{\\dagger} & - i \\sqrt{dt} {H}_{3}^{\\dagger} & - i \\sqrt{dt} {H}_{4}^{\\dagger}\\\\- i \\sqrt{dt} {H}_{1} & 1 & 0 & 0 & 0\\\\- i \\sqrt{dt} {H}_{2} & 0 & 1 & 0 & 0\\\\- i \\sqrt{dt} {H}_{3} & 0 & 0 & 1 & 0\\\\- i \\sqrt{dt} {H}_{4} & 0 & 0 & 0 & 1\\end{matrix}\\right]$"
      ],
      "text/plain": [
       "Matrix([\n",
       "[-I*sqrt(dt)*H[0] + 1, -I*sqrt(dt)*Dagger(H[1]), -I*sqrt(dt)*Dagger(H[2]), -I*sqrt(dt)*Dagger(H[3]), -I*sqrt(dt)*Dagger(H[4])],\n",
       "[    -I*sqrt(dt)*H[1],                        1,                        0,                        0,                        0],\n",
       "[    -I*sqrt(dt)*H[2],                        0,                        1,                        0,                        0],\n",
       "[    -I*sqrt(dt)*H[3],                        0,                        0,                        1,                        0],\n",
       "[    -I*sqrt(dt)*H[4],                        0,                        0,                        0,                        1]])"
      ]
     },
     "execution_count": 129,
     "metadata": {},
     "output_type": "execute_result"
    }
   ],
   "source": [
    "U=eye(5)-I*sqrt(dt)*hdil\n",
    "Ud = eye(5)+I*sqrt(dt)*hdil\n",
    "U"
   ]
  },
  {
   "cell_type": "markdown",
   "metadata": {},
   "source": [
    "Again the goal is to have this emulate the krauss operators, which emulate the master equation"
   ]
  },
  {
   "cell_type": "code",
   "execution_count": 138,
   "metadata": {},
   "outputs": [
    {
     "data": {
      "text/latex": [
       "$\\displaystyle \\rho{\\left(dt + t \\right)} = \\sum_{k=1}^{N} dt L \\rho{\\left(t \\right)} L^{\\dagger} + \\rho{\\left(t \\right)} + dt \\left(- \\frac{\\left\\{\\sum_{k=1}^{N} {L}_{k}^{\\dagger} {L}_{k},\\rho{\\left(t \\right)}\\right\\}}{2} - i \\left[H,\\rho{\\left(t \\right)}\\right]\\right) + O\\left(dt^{2}\\right)$"
      ],
      "text/plain": [
       "Eq(rho(dt + t), Sum(dt*L*rho(t)*Dagger(L), (k, 1, N)) + rho(t) + dt*(-{Sum(Dagger(L[k])*L[k], (k, 1, N)),rho(t)}/2 - I*[H,rho(t)]) + O(dt**2))"
      ]
     },
     "execution_count": 138,
     "metadata": {},
     "output_type": "execute_result"
    }
   ],
   "source": [
    "Eq(rho(t+dt), sumrepre)"
   ]
  },
  {
   "cell_type": "markdown",
   "metadata": {},
   "source": [
    "By using"
   ]
  },
  {
   "cell_type": "code",
   "execution_count": 140,
   "metadata": {},
   "outputs": [
    {
     "data": {
      "text/latex": [
       "$\\displaystyle \\sqrt{dt} \\left(i \\rho{\\left(t \\right)} {H}_{0} - i {H}_{0} \\rho{\\left(t \\right)}\\right) + dt \\left({H}_{0} \\rho{\\left(t \\right)} {H}_{0} + {H}_{1} \\rho{\\left(t \\right)} {H}_{1}^{\\dagger} + {H}_{2} \\rho{\\left(t \\right)} {H}_{2}^{\\dagger} + {H}_{3} \\rho{\\left(t \\right)} {H}_{3}^{\\dagger} + {H}_{4} \\rho{\\left(t \\right)} {H}_{4}^{\\dagger}\\right) + \\rho{\\left(t \\right)}$"
      ],
      "text/plain": [
       "sqrt(dt)*(I*rho(t)*H[0] - I*H[0]*rho(t)) + dt*(H[0]*rho(t)*H[0] + H[1]*rho(t)*Dagger(H[1]) + H[2]*rho(t)*Dagger(H[2]) + H[3]*rho(t)*Dagger(H[3]) + H[4]*rho(t)*Dagger(H[4])) + rho(t)"
      ]
     },
     "execution_count": 140,
     "metadata": {},
     "output_type": "execute_result"
    }
   ],
   "source": [
    "ansdil=(U*rhod*Ud).trace().expand().collect(sqrt(dt))\n",
    "ansdil"
   ]
  },
  {
   "cell_type": "markdown",
   "metadata": {},
   "source": [
    "We further simiplify it to be"
   ]
  },
  {
   "cell_type": "code",
   "execution_count": 158,
   "metadata": {},
   "outputs": [
    {
     "data": {
      "text/latex": [
       "$\\displaystyle - i \\sqrt{dt} \\left[{H}_{0},\\rho{\\left(t \\right)}\\right] + dt \\left({H}_{0} \\rho{\\left(t \\right)} {H}_{0} + \\sum_{k=1}^{4} {H}_{k} \\rho{\\left(t \\right)} {H}_{k}\\right) + \\rho{\\left(t \\right)}$"
      ],
      "text/plain": [
       "-I*sqrt(dt)*[H[0],rho(t)] + dt*(H[0]*rho(t)*H[0] + Sum(H[k]*rho(t)*H[k], (k, 1, 4))) + rho(t)"
      ]
     },
     "execution_count": 158,
     "metadata": {},
     "output_type": "execute_result"
    }
   ],
   "source": [
    "ansdil=ansdil.subs(I*rho(t)*hdil[0, 0]-I*hdil[0, 0]*rho(t), -I*Commutator(hdil[0, 0], rho(t))).subs(sum([hdil[i, 0]*rho(t)*hdil[0, i] for i in range(1,5)]),Sum(Hams[k]*rho(t)*Hams[k],(k,1,4)))\n",
    "ansdil"
   ]
  },
  {
   "cell_type": "markdown",
   "metadata": {},
   "source": [
    "To approximate the master equation notice that we can have \n",
    "\n",
    "$H_{0}=\\sqrt(dt)H$\n",
    "\n",
    "$H_{k}=L_{k}$\n",
    "\n",
    "Which is the first order in the [Lin Lin paper](https://arxiv.org/pdf/2311.15533)\n",
    "and results in "
   ]
  },
  {
   "cell_type": "code",
   "execution_count": 161,
   "metadata": {},
   "outputs": [
    {
     "data": {
      "text/latex": [
       "$\\displaystyle dt \\left(dt H \\rho{\\left(t \\right)} H + \\sum_{k=1}^{4} {L}_{k} \\rho{\\left(t \\right)} {L}_{k}\\right) - i dt \\left[H,\\rho{\\left(t \\right)}\\right] + \\rho{\\left(t \\right)}$"
      ],
      "text/plain": [
       "dt*(dt*H*rho(t)*H + Sum(L[k]*rho(t)*L[k], (k, 1, 4))) - I*dt*[H,rho(t)] + rho(t)"
      ]
     },
     "execution_count": 161,
     "metadata": {},
     "output_type": "execute_result"
    }
   ],
   "source": [
    "ansdil.subs(Hams[0],sqrt(dt)*H).subs(Hams,Lk)"
   ]
  },
  {
   "cell_type": "markdown",
   "metadata": {},
   "source": [
    "Them neglecting higher order terms one has"
   ]
  },
  {
   "cell_type": "code",
   "execution_count": 163,
   "metadata": {},
   "outputs": [
    {
     "data": {
      "text/latex": [
       "$\\displaystyle \\rho{\\left(t \\right)} + dt \\sum_{k=1}^{4} {L}_{k} \\rho{\\left(t \\right)} {L}_{k} - i dt \\left[H,\\rho{\\left(t \\right)}\\right] + O\\left(dt^{2}\\right)$"
      ],
      "text/plain": [
       "rho(t) + dt*Sum(L[k]*rho(t)*L[k], (k, 1, 4)) - I*dt*[H,rho(t)] + O(dt**2)"
      ]
     },
     "execution_count": 163,
     "metadata": {},
     "output_type": "execute_result"
    }
   ],
   "source": [
    "ansdil.subs(Hams[0], sqrt(dt)*H).expand().subs(Hams,Lk)+O(dt**2)"
   ]
  },
  {
   "cell_type": "markdown",
   "metadata": {},
   "source": [
    "But this neglects the anticommutator bit 😭This is what I don't like but it can\n",
    "be fixed by higher orders does not seem to affect accuracy too much\n",
    "\n",
    ":::{note} TO DO! 👈\n",
    "- [ ] Use higher order Schemes, and try to have a non-Hermitian Hamiltonian\n",
    "- [ ] Test pseudomodes being CPTP by calculating \n",
    "$\\tau:=(\\mathcal{L} \\otimes \\mathrm{id}_d)(|\\Omega\\rangle\\langle \\Omega|)$ \n",
    "where $\\ket{\\Omega}$ is the maximally entangled state (if CPTP $\\tau \\geq 0$)\n",
    "- [ ] Check other simulation schemes like the other lin lin paper or Clover's \n",
    "paper\n",
    "- [ ] Actually do the Hamiltonian simulation, The ancillas need to be reset \n",
    "every timestep but this suceeds with probabulity one  in theory\n",
    ":::"
   ]
  }
 ],
 "metadata": {
  "kernelspec": {
   "display_name": "Python 3 (ipykernel)",
   "language": "python",
   "name": "python3"
  },
  "language_info": {
   "codemirror_mode": {
    "name": "ipython",
    "version": 3
   },
   "file_extension": ".py",
   "mimetype": "text/x-python",
   "name": "python",
   "nbconvert_exporter": "python",
   "pygments_lexer": "ipython3",
   "version": "3.12.2"
  }
 },
 "nbformat": 4,
 "nbformat_minor": 4
}
