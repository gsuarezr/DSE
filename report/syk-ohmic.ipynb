{
 "cells": [
  {
   "cell_type": "code",
   "execution_count": 1,
   "id": "70ec3a17-8a7f-4749-b5b8-6e0748fb7297",
   "metadata": {},
   "outputs": [],
   "source": [
    "import matplotlib.pyplot as plt\n",
    "import numpy as np\n",
    "from qutip import ( basis, expect, mesolve, qeye, sigmax, sigmay, sigmaz,destroy,\n",
    "                   tensor,fidelity,tracedist,brmesolve,Qobj)\n",
    "from qutip.solver import heom\n",
    "from scipy.integrate import quad\n",
    "from pseudomode import pseudomode,zero_temp_bath,rotation\n",
    "from hamiltonians import syk_full,plot_ground,plot_fidelities,plot_trd,plot_positivity,plot_populations\n",
    "from nmm import csolve"
   ]
  },
  {
   "cell_type": "code",
   "execution_count": 2,
   "id": "a048a14a",
   "metadata": {},
   "outputs": [],
   "source": [
    "N=2\n",
    "seeds=list(range(42,46))\n",
    "k=3\n",
    "H,psis=syk_full(N,seed=seeds[k])"
   ]
  },
  {
   "cell_type": "code",
   "execution_count": 3,
   "id": "4b1f30b0",
   "metadata": {},
   "outputs": [],
   "source": [
    "Q=psis[0]"
   ]
  },
  {
   "cell_type": "code",
   "execution_count": 4,
   "id": "81eb9baf-79d0-44fd-ac99-f78e8fed021e",
   "metadata": {},
   "outputs": [],
   "source": [
    "state_list = [basis(2, 1)] + [basis(2, 0)] * (N - 1) # change the initial state to be away from the ground state\n",
    "psi0 = tensor(state_list)\n",
    "rho0=psi0*psi0.dag()\n",
    "H.dims=rho0.dims\n",
    "Q.dims=rho0.dims\n",
    "times=np.linspace(0,100,500)\n",
    "tfit=np.linspace(0, 80, 5000)"
   ]
  },
  {
   "cell_type": "code",
   "execution_count": 8,
   "id": "4aeb61db-28c0-42b6-ac79-54f6a267e09c",
   "metadata": {},
   "outputs": [
    {
     "name": "stdout",
     "output_type": "stream",
     "text": [
      "Fit correlation class instance: \n",
      " \n",
      "Result of fitting The Real Part Of                                      |Result of fitting The Imaginary Part                                    \n",
      " the Correlation Function with 3 terms:                                 | Of the Correlation Function with 3 terms:                              \n",
      "                                                                        |                                                                        \n",
      " Parameters|    a     |    b     |    c                                 | Parameters|    a     |    b     |    c                                 \n",
      " 1         | 9.80e-02 |-7.94e-01 |4.52e-01                              | 1         |-1.35e-02 |-1.26e+00 |2.37e+00                              \n",
      " 2         | 5.71e-01 |-1.85e+00 |7.34e-01                              | 2         |-2.91e-01 |-9.24e-01 |6.59e-01                              \n",
      " 3         |-6.37e-01 |-1.79e+00 |9.05e-04                              | 3         | 2.07e-01 |-8.33e-01 |6.90e-01                              \n",
      "                                                                        |                                                                        \n",
      "A  normalized RMSE of  4.13e-05 was obtained for the The Real Part Of   |A  normalized RMSE of  4.29e-05 was obtained for the The Imaginary Part \n",
      " the Correlation Function                                               | Of the Correlation Function                                            \n",
      " The current fit took  10.759574 seconds                                | The current fit took  15.688688 seconds                                \n",
      "\n"
     ]
    }
   ],
   "source": [
    "oh=heom.OhmicBath(alpha=0.1,wc=1,s=1,T=0,Q=Q) # functions don't take zero because 1/T should be fixed\n",
    "bath,finfo=oh.make_correlation_fit(tfit,Ni=3,Nr=3)\n",
    "print(finfo['summary']) #notice one mode is also a pretty good approximation"
   ]
  },
  {
   "cell_type": "code",
   "execution_count": null,
   "id": "723c3d9f-66e6-48a5-aabc-3403c5ea87aa",
   "metadata": {},
   "outputs": [],
   "source": [
    "times2 = np.linspace(0,40,500)\n",
    "cvis = bath.correlation_function(times2)"
   ]
  },
  {
   "cell_type": "code",
   "execution_count": null,
   "id": "89a74a93-a2b7-4de4-bcaa-ff0a1331cbad",
   "metadata": {},
   "outputs": [],
   "source": [
    "# using the variable axs for multiple Axes\n",
    "fig, axs = plt.subplots(1, 2,figsize=(15,5))\n",
    "axs[0].plot(times2, np.imag(cvis),label=\"Numerical\")\n",
    "axs[0].plot(times2, np.imag(bath1.correlation_function_approx(times2)), \"-.\",label=\"Approximated\")\n",
    "axs[0].set_xlabel(\"t\")\n",
    "axs[0].set_ylabel(\"Im(C)\")\n",
    "axs[0].legend()\n",
    "axs[1].plot(times2, np.real(cvis),label=\"Numerical\")\n",
    "axs[1].plot(times2, np.real(bath1.correlation_function_approx(times2)), \"-.\",label=\"Approximated\")\n",
    "axs[1].set_xlabel(\"t\")\n",
    "axs[1].set_ylabel(\"Re(C)\")\n",
    "axs[1].legend()\n",
    "fig.suptitle('Correlation Functions', fontsize=30)\n",
    "plt.show()"
   ]
  },
  {
   "cell_type": "code",
   "execution_count": 9,
   "id": "0df9ead8-19ef-4ae9-9255-3e20abab0d54",
   "metadata": {},
   "outputs": [
    {
     "name": "stdout",
     "output_type": "stream",
     "text": [
      "10.0%. Run time:   2.16s. Est. time left: 00:00:00:19\n",
      "20.0%. Run time:   3.52s. Est. time left: 00:00:00:14\n",
      "30.1%. Run time:   4.40s. Est. time left: 00:00:00:10\n",
      "40.1%. Run time:   5.09s. Est. time left: 00:00:00:07\n",
      "50.1%. Run time:   5.81s. Est. time left: 00:00:00:05\n",
      "60.1%. Run time:   6.52s. Est. time left: 00:00:00:04\n",
      "70.1%. Run time:   7.25s. Est. time left: 00:00:00:03\n",
      "80.2%. Run time:   7.91s. Est. time left: 00:00:00:01\n",
      "90.2%. Run time:   8.50s. Est. time left: 00:00:00:00\n",
      "100.0%. Run time:   9.11s. Est. time left: 00:00:00:00\n",
      "Total run time:   9.11s\n"
     ]
    }
   ],
   "source": [
    "solver = heom.HEOMSolver(H,\n",
    "                          [bath1], max_depth=7, options={\"atol\": 1e-14})\n",
    "result = solver.run(rho0, times)"
   ]
  },
  {
   "cell_type": "code",
   "execution_count": 10,
   "id": "12ac269e-3567-4d7c-a882-0f3a6cc1aaf5",
   "metadata": {},
   "outputs": [
    {
     "name": "stderr",
     "output_type": "stream",
     "text": [
      "/home/mcditoos/github/qutip_gsoc_app/qutip/core/qobj.py:483: RuntimeWarning: divide by zero encountered in scalar divide\n",
      "  return self.__mul__(1 / other)\n",
      "Calculating Integrals ...: 100%|███████████████████████████████████████████████████████████████████████████████████████████████| 4/4 [00:00<00:00,  5.70it/s]\n",
      "Calculating time dependent generators ...: 100%|████████████████████████████████████████████████████████████████████████| 500/500 [00:00<00:00, 26168.60it/s]\n",
      "Computing Exponential of Generators . . . .: 100%|████████████████████████████████████████████████████████████████████████| 500/500 [00:01<00:00, 342.37it/s]\n"
     ]
    }
   ],
   "source": [
    "cum = csolve(\n",
    "    Hsys=H, t=times, baths=[bath],\n",
    "    Qs=[Q],\n",
    "    eps=1e-4, cython=False)\n",
    "\n",
    "result_cum = cum.evolution(rho0)\n",
    "\n",
    "result_cum = rotation(result_cum, H, times)"
   ]
  },
  {
   "cell_type": "code",
   "execution_count": 11,
   "id": "30ea04c7-d73c-4fcb-8c05-6fcca10a3a63",
   "metadata": {},
   "outputs": [],
   "source": [
    "a_ops = [[Q, bath.power_spectrum]]\n",
    "resultBR = brmesolve(H, rho0, times, a_ops=a_ops, options={\n",
    "    \"atol\": 1e-14}, sec_cutoff=-1)\n",
    "\n",
    "a_ops = [[Q, bath.power_spectrum]]\n",
    "resultBR2 = brmesolve(H, rho0, times, a_ops=a_ops, options={\n",
    "    \"atol\": 1e-14})"
   ]
  },
  {
   "cell_type": "code",
   "execution_count": 21,
   "id": "406b2798-10bf-4192-acb3-09867475c25b",
   "metadata": {},
   "outputs": [],
   "source": [
    "Ncutoff=3\n",
    "modes=2\n",
    "example = pseudomode(Hsys=H, Q=Q, bath=bath)"
   ]
  },
  {
   "cell_type": "code",
   "execution_count": null,
   "id": "62cc5416-26f0-443a-8a97-79398560832b",
   "metadata": {},
   "outputs": [],
   "source": [
    "ans = example.evolution(rho0, Ncutoff, times, options={\n",
    "                        \"atol\": 1e-14, \"normalize_output\": False, \"store_states\": True})\n",
    "ans = [i.ptrace(range(N))for i in ans.states]"
   ]
  },
  {
   "cell_type": "code",
   "execution_count": null,
   "id": "ee5f0919-e285-4f81-a722-58584c624df1",
   "metadata": {},
   "outputs": [],
   "source": [
    "results=[result,result_cum,resultBR,resultBR2,ans]"
   ]
  },
  {
   "cell_type": "code",
   "execution_count": null,
   "id": "1e0ce569-3c3b-4aec-8251-753561b31ec3",
   "metadata": {},
   "outputs": [],
   "source": [
    "plot_ground(results,H,times)"
   ]
  },
  {
   "cell_type": "code",
   "execution_count": null,
   "id": "97925ab0-06b7-4ba2-8fbf-c9352d52a665",
   "metadata": {},
   "outputs": [],
   "source": [
    "plot_fidelities(results,H,times)"
   ]
  },
  {
   "cell_type": "code",
   "execution_count": null,
   "id": "68586204-af48-4a1d-b516-5995b0368d1c",
   "metadata": {},
   "outputs": [],
   "source": [
    "plot_trd(results,H,times)"
   ]
  },
  {
   "cell_type": "code",
   "execution_count": null,
   "id": "d16655c0-53ec-4fd7-a423-e466b391af3d",
   "metadata": {},
   "outputs": [],
   "source": [
    "plot_positivity(results,H,times)"
   ]
  },
  {
   "cell_type": "code",
   "execution_count": null,
   "id": "b2b25290-a87e-41db-a2ac-3ec7d01eab8d",
   "metadata": {},
   "outputs": [],
   "source": [
    "plot_populations(results,H,times,l=2,m=2)"
   ]
  },
  {
   "cell_type": "code",
   "execution_count": null,
   "id": "8871d48f-c573-472f-b22c-7d84d551e2c5",
   "metadata": {},
   "outputs": [],
   "source": [
    "from qutip import qsave,qload"
   ]
  },
  {
   "cell_type": "code",
   "execution_count": null,
   "id": "da1921bc-c0e7-4849-b08f-5e7bb9d8cf00",
   "metadata": {},
   "outputs": [],
   "source": [
    "qsave(results,f\"N={N}_syk_{lam}_nocheating_seed_{seeds[k]}\")"
   ]
  },
  {
   "cell_type": "code",
   "execution_count": null,
   "id": "3a460aa1-70aa-41fb-b555-c42a4f5d09a9",
   "metadata": {},
   "outputs": [],
   "source": []
  },
  {
   "cell_type": "code",
   "execution_count": null,
   "id": "a8a4780d-45fc-4e81-800e-9353d37ee2b2",
   "metadata": {},
   "outputs": [],
   "source": []
  },
  {
   "cell_type": "code",
   "execution_count": null,
   "id": "a0d410c6-9550-459d-9747-0109a4ba5b70",
   "metadata": {},
   "outputs": [],
   "source": []
  },
  {
   "cell_type": "code",
   "execution_count": null,
   "id": "f045e1e1-8de1-40d8-b356-55c97d49f1db",
   "metadata": {},
   "outputs": [],
   "source": []
  }
 ],
 "metadata": {
  "kernelspec": {
   "display_name": "Python 3 (ipykernel)",
   "language": "python",
   "name": "python3"
  },
  "language_info": {
   "codemirror_mode": {
    "name": "ipython",
    "version": 3
   },
   "file_extension": ".py",
   "mimetype": "text/x-python",
   "name": "python",
   "nbconvert_exporter": "python",
   "pygments_lexer": "ipython3",
   "version": "3.12.2"
  }
 },
 "nbformat": 4,
 "nbformat_minor": 5
}
