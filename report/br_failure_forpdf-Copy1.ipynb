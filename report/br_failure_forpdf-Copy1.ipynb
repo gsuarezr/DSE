{
 "cells": [
  {
   "cell_type": "markdown",
   "id": "4f223eaf-bb3e-4c9a-b419-cfa71a006cf3",
   "metadata": {
    "editable": true,
    "slideshow": {
     "slide_type": ""
    },
    "tags": []
   },
   "source": [
    "---\n",
    "title: Bloch-Redfield and Redfield Failing for degenerate Hamiltonians\n",
    "date: 2024-08-08\n",
    "authors:\n",
    "  - name: Gerardo Suarez\n",
    "---\n",
    "\n",
    "### In The SYK model:\n",
    "\n",
    "Inspired by the steady state of this dissipator being the maximally entangled state let us construct a qubit entangler out of it"
   ]
  },
  {
   "cell_type": "code",
   "execution_count": 3,
   "id": "70ec3a17-8a7f-4749-b5b8-6e0748fb7297",
   "metadata": {
    "editable": true,
    "slideshow": {
     "slide_type": ""
    },
    "tags": [
     "remove-input"
    ]
   },
   "outputs": [],
   "source": [
    "import matplotlib.pyplot as plt\n",
    "import numpy as np\n",
    "from qutip import ( basis, expect, mesolve, qeye, sigmax, sigmay, sigmaz,destroy,\n",
    "                   tensor,fidelity,tracedist,brmesolve,Qobj)\n",
    "from qutip.solver import heom\n",
    "from scipy.integrate import quad\n",
    "from pseudomode import pseudomode,zero_temp_bath,rotation\n",
    "from hamiltonians import syk_full,plot_ground,plot_fidelities,plot_trd,plot_positivity,plot_populations\n",
    "from nmm import csolve,redfield"
   ]
  },
  {
   "cell_type": "code",
   "execution_count": 4,
   "id": "a048a14a",
   "metadata": {
    "editable": true,
    "slideshow": {
     "slide_type": ""
    },
    "tags": [
     "remove-input"
    ]
   },
   "outputs": [],
   "source": [
    "N=2\n",
    "seeds=list(range(42,52))\n",
    "k=7\n",
    "H,psis=syk_full(N,seed=seeds[k])"
   ]
  },
  {
   "cell_type": "markdown",
   "id": "94805f75-e2a1-4502-a3f1-07086940e337",
   "metadata": {
    "editable": true,
    "slideshow": {
     "slide_type": ""
    },
    "tags": []
   },
   "source": [
    "The Hamiltonian in this example is then given  by"
   ]
  },
  {
   "cell_type": "code",
   "execution_count": 5,
   "id": "286a1d59-4b91-4d3b-9ff4-89489fcd6b48",
   "metadata": {
    "editable": true,
    "slideshow": {
     "slide_type": ""
    },
    "tags": [
     "remove-input"
    ]
   },
   "outputs": [
    {
     "data": {
      "text/latex": [
       "Quantum object: dims=[[2, 2], [2, 2]], shape=(4, 4), type='oper', dtype=CSR, isherm=True$$\\left(\\begin{array}{cc}-1 & 0 & 0 & 0\\\\0 & 1 & 0 & 0\\\\0 & 0 & 1 & 0\\\\0 & 0 & 0 & -1\\end{array}\\right)$$"
      ],
      "text/plain": [
       "Quantum object: dims=[[2, 2], [2, 2]], shape=(4, 4), type='oper', dtype=CSR, isherm=True\n",
       "Qobj data =\n",
       "[[-1.  0.  0.  0.]\n",
       " [ 0.  1.  0.  0.]\n",
       " [ 0.  0.  1.  0.]\n",
       " [ 0.  0.  0. -1.]]"
      ]
     },
     "execution_count": 5,
     "metadata": {},
     "output_type": "execute_result"
    }
   ],
   "source": [
    "H=H/np.max(H.full()) #energy rescaling\n",
    "w1=0\n",
    "w2=0\n",
    "g=-1\n",
    "H=(w1*tensor(sigmaz(),qeye(2)) + w2*tensor(qeye(2),sigmaz()) +g*tensor(sigmaz(),sigmaz()))\n",
    "H"
   ]
  },
  {
   "cell_type": "markdown",
   "id": "2f82c4a7-6818-41ac-b0b8-7e0dfc22b81a",
   "metadata": {
    "editable": true,
    "slideshow": {
     "slide_type": ""
    },
    "tags": []
   },
   "source": [
    "While the coupling operator to the bath is simply \n",
    "\n",
    "$Q= \\sum_{i} a_{i} \\psi_{i}$\n",
    "\n",
    "Where each $a_{i}$ is a real number, randomly generated from a Gaussian"
   ]
  },
  {
   "cell_type": "code",
   "execution_count": 354,
   "id": "4b1f30b0",
   "metadata": {
    "editable": true,
    "slideshow": {
     "slide_type": ""
    },
    "tags": [
     "remove-input"
    ]
   },
   "outputs": [
    {
     "data": {
      "text/latex": [
       "Quantum object: dims=[[4], [4]], shape=(4, 4), type='oper', dtype=Dense, isherm=True$$\\left(\\begin{array}{cc}0 & (1+1j) & (1-1j) & 0\\\\(1-1j) & 0 & 0 & (-1+1j)\\\\(1+1j) & 0 & 0 & (1+1j)\\\\0 & (-1-1j) & (1-1j) & 0\\end{array}\\right)$$"
      ],
      "text/plain": [
       "Quantum object: dims=[[4], [4]], shape=(4, 4), type='oper', dtype=Dense, isherm=True\n",
       "Qobj data =\n",
       "[[ 0.+0.j  1.+1.j  1.-1.j  0.+0.j]\n",
       " [ 1.-1.j  0.+0.j  0.+0.j -1.+1.j]\n",
       " [ 1.+1.j  0.+0.j  0.+0.j  1.+1.j]\n",
       " [ 0.+0.j -1.-1.j  1.-1.j  0.+0.j]]"
      ]
     },
     "execution_count": 354,
     "metadata": {},
     "output_type": "execute_result"
    }
   ],
   "source": [
    "b0=1+1j\n",
    "b1=1-1j\n",
    "Q=Qobj([[0,b0,b1,0],[np.conjugate(b0),0,0,-b1],[np.conjugate(b1),0,0,b0],[0,-np.conjugate(b1),np.conjugate(b0),0]])#sum([psis[i]*np.sqrt(2) for i in range(len(psis))])\n",
    "Q"
   ]
  },
  {
   "cell_type": "code",
   "execution_count": 355,
   "id": "d9b544ac",
   "metadata": {},
   "outputs": [
    {
     "data": {
      "text/plain": [
       "(2+0j)"
      ]
     },
     "execution_count": 355,
     "metadata": {},
     "output_type": "execute_result"
    }
   ],
   "source": [
    "b0*b1"
   ]
  },
  {
   "cell_type": "markdown",
   "id": "0df462b0-d849-4850-92bd-1fd217dbb808",
   "metadata": {
    "editable": true,
    "slideshow": {
     "slide_type": ""
    },
    "tags": []
   },
   "source": [
    "We consider the initial state to be "
   ]
  },
  {
   "cell_type": "code",
   "execution_count": 356,
   "id": "81eb9baf-79d0-44fd-ac99-f78e8fed021e",
   "metadata": {
    "editable": true,
    "slideshow": {
     "slide_type": ""
    },
    "tags": [
     "remove-input"
    ]
   },
   "outputs": [
    {
     "data": {
      "text/latex": [
       "Quantum object: dims=[[2, 2], [2, 2]], shape=(4, 4), type='oper', dtype=Dense, isherm=True$$\\left(\\begin{array}{cc}0.250 & 0 & 0 & 0\\\\0 & 0.250 & 0 & 0\\\\0 & 0 & 0.250 & 0\\\\0 & 0 & 0 & 0.250\\end{array}\\right)$$"
      ],
      "text/plain": [
       "Quantum object: dims=[[2, 2], [2, 2]], shape=(4, 4), type='oper', dtype=Dense, isherm=True\n",
       "Qobj data =\n",
       "[[0.25 0.   0.   0.  ]\n",
       " [0.   0.25 0.   0.  ]\n",
       " [0.   0.   0.25 0.  ]\n",
       " [0.   0.   0.   0.25]]"
      ]
     },
     "execution_count": 356,
     "metadata": {},
     "output_type": "execute_result"
    }
   ],
   "source": [
    "N=2\n",
    "state_list = [(basis(2, 0)+basis(2,1))/np.sqrt(2)] + [basis(2, 0)] * (N - 1) # change the initial state to be away from the ground state\n",
    "state_list2 = [basis(2, 1)] + [basis(2, 0)] * (N - 1) # change the initial state to be away from the ground state\n",
    "state_list.reverse()\n",
    "psi0 = tensor(state_list)#(tensor(state_list)+tensor(state_list2))/np.sqrt(2)\n",
    "cc=psi0*psi0.dag()\n",
    "rho0=Qobj(np.diag([1,1,1,1])/4)\n",
    "rho0.dims=cc.dims\n",
    "H.dims=rho0.dims\n",
    "Q.dims=rho0.dims\n",
    "times=np.linspace(0,50,100)\n",
    "tfit=np.linspace(0, 40, 5000)\n",
    "rho0"
   ]
  },
  {
   "cell_type": "code",
   "execution_count": 357,
   "id": "452ac197-8d3b-455d-86ec-0e44aba4da05",
   "metadata": {},
   "outputs": [],
   "source": [
    "from qutip import concurrence"
   ]
  },
  {
   "cell_type": "code",
   "execution_count": 358,
   "id": "081a2c4f-1c69-4876-b7ad-ee7f6fc5a2e1",
   "metadata": {},
   "outputs": [
    {
     "data": {
      "text/plain": [
       "np.float64(0.0)"
      ]
     },
     "execution_count": 358,
     "metadata": {},
     "output_type": "execute_result"
    }
   ],
   "source": [
    "concurrence(rho0)"
   ]
  },
  {
   "cell_type": "code",
   "execution_count": 359,
   "id": "ceea9144-8b11-4275-83b2-7e98efa87f79",
   "metadata": {
    "editable": true,
    "slideshow": {
     "slide_type": ""
    },
    "tags": [
     "remove-input"
    ]
   },
   "outputs": [],
   "source": [
    "E01=H.eigenenergies()[1]-H.eigenenergies()[0]#it is mostly degenerate, this does not help much\n",
    "w0=10 #*E01*5#since I have no g parameter then It doesn't scale uniformingly as ising\n",
    "gamma=0.5*10#w0/2 \n",
    "Gamma=gamma\n",
    "Omega=np.sqrt(w0**2 -Gamma**2)\n",
    "lam=np.sqrt(Omega)"
   ]
  },
  {
   "cell_type": "markdown",
   "id": "a0105b2c-96a1-4343-ab07-80adf8d598ba",
   "metadata": {
    "editable": true,
    "slideshow": {
     "slide_type": ""
    },
    "tags": [],
    "user_expressions": [
     {
      "expression": "gamma",
      "result": {
       "data": {
        "text/plain": "5.0"
       },
       "metadata": {},
       "status": "ok"
      }
     },
     {
      "expression": "lam",
      "result": {
       "data": {
        "text/plain": "2.942830956382712"
       },
       "metadata": {},
       "status": "ok"
      }
     },
     {
      "expression": "w0",
      "result": {
       "data": {
        "text/plain": "10"
       },
       "metadata": {},
       "status": "ok"
      }
     }
    ]
   },
   "source": [
    "And consider an underdamped spectral density at zero temperature with $\\gamma=${eval}`gamma` , $\\lambda=${eval}`lam` ,$\\omega_{0}=${eval}`w0`. After fitting the correlation function one obtains"
   ]
  },
  {
   "cell_type": "code",
   "execution_count": 360,
   "id": "b1960b5d",
   "metadata": {
    "editable": true,
    "slideshow": {
     "slide_type": ""
    },
    "tags": [
     "remove-input"
    ]
   },
   "outputs": [],
   "source": [
    "from qutip.core import UnderDampedEnvironment\n",
    "from qutip.solver.heom import BosonicBath"
   ]
  },
  {
   "cell_type": "code",
   "execution_count": 361,
   "id": "f061f8e7",
   "metadata": {},
   "outputs": [],
   "source": [
    "#wlist=np.linspace(-200,200,5000)\n",
    "wlist=np.concatenate((-np.logspace(4,-20,2500),np.logspace(-20,3,2500)))\n"
   ]
  },
  {
   "cell_type": "code",
   "execution_count": 362,
   "id": "40fd3232-b6f5-427e-9b4d-136cd045f957",
   "metadata": {
    "editable": true,
    "slideshow": {
     "slide_type": ""
    },
    "tags": [
     "remove-input"
    ]
   },
   "outputs": [],
   "source": [
    "bath_o =UnderDampedEnvironment(lam=lam, gamma=gamma, w0=w0, T=0) # fix runtime warning\n",
    "env= bath_o.approx_by_aaa(wlist=wlist,N_max=8)#.approx_by_cf_fit(tfit,Ni_max=2,Nr_max=5,target_rsme=None,maxfev=1e8)\n",
    "bath=BosonicBath.from_environment(env,Q)\n",
    "bath.T=0\n",
    "#print(fitinfo['summary'])"
   ]
  },
  {
   "cell_type": "code",
   "execution_count": 363,
   "id": "80cb2f99",
   "metadata": {},
   "outputs": [
    {
     "data": {
      "image/png": "[encoded data removed]",
      "text/plain": [
       "<Figure size 640x480 with 1 Axes>"
      ]
     },
     "metadata": {},
     "output_type": "display_data"
    }
   ],
   "source": [
    "plt.plot(wlist,bath.power_spectrum(wlist))\n",
    "plt.xlim(-2,2)\n",
    "plt.ylim(-0.0002,0.0002)\n",
    "plt.show()"
   ]
  },
  {
   "cell_type": "code",
   "execution_count": 364,
   "id": "723c3d9f-66e6-48a5-aabc-3403c5ea87aa",
   "metadata": {
    "editable": true,
    "slideshow": {
     "slide_type": ""
    },
    "tags": [
     "remove-input"
    ]
   },
   "outputs": [],
   "source": [
    "times2 = np.linspace(0,40,500)\n",
    "cvis = bath.correlation_function(times2)"
   ]
  },
  {
   "cell_type": "code",
   "execution_count": 365,
   "id": "89a74a93-a2b7-4de4-bcaa-ff0a1331cbad",
   "metadata": {
    "editable": true,
    "slideshow": {
     "slide_type": ""
    },
    "tags": [
     "remove-input"
    ]
   },
   "outputs": [
    {
     "data": {
      "image/png": "[encoded data removed]",
      "text/plain": [
       "<Figure size 1500x500 with 2 Axes>"
      ]
     },
     "metadata": {},
     "output_type": "display_data"
    }
   ],
   "source": [
    "# using the variable axs for multiple Axes\n",
    "fig, axs = plt.subplots(1, 2,figsize=(15,5))\n",
    "axs[0].plot(times2, np.imag(cvis),label=\"Numerical\")\n",
    "axs[0].plot(times2, np.imag(bath.correlation_function(times2)), \"-.\",label=\"Approximated\")\n",
    "axs[0].set_xlabel(\"t\")\n",
    "axs[0].set_ylabel(\"Im(C)\")\n",
    "axs[0].legend()\n",
    "axs[1].plot(times2, np.real(cvis),label=\"Numerical\")\n",
    "axs[1].plot(times2, np.real(bath.correlation_function(times2)), \"-.\",label=\"Approximated\")\n",
    "axs[1].set_xlabel(\"t\")\n",
    "axs[1].set_ylabel(\"Re(C)\")\n",
    "axs[1].legend()\n",
    "fig.suptitle('Correlation Functions', fontsize=30)\n",
    "plt.show()"
   ]
  },
  {
   "cell_type": "code",
   "execution_count": 366,
   "id": "365363d0-3a86-48c4-bb65-82df6d4068a5",
   "metadata": {
    "editable": true,
    "slideshow": {
     "slide_type": ""
    },
    "tags": [
     "no-pdf"
    ]
   },
   "outputs": [],
   "source": [
    "def solve_dynamics(H,Q,bath,bath1,rho0,depth=3,levels=8,modes=2,times=times):\n",
    "    print(\"============================\")\n",
    "    print(\"Solving HEOM\")\n",
    "    print(\"============================\")\n",
    "    solver = heom.HEOMSolver(H,\n",
    "                          [bath1], max_depth=depth, options={\"atol\": 1e-14})\n",
    "    result = solver.run(rho0, times)\n",
    "    print(\"============================\")\n",
    "    print(\"HEOM Done\")\n",
    "    print(\"============================\")\n",
    "    print(\"============================\")\n",
    "    print(\"Solving Cumulant\")\n",
    "    print(\"============================\")\n",
    "    bath.bose=None\n",
    "    cum = csolve(\n",
    "        Hsys=H, t=times, baths=[bath],\n",
    "        Qs=[Q],\n",
    "        eps=1e-6, cython=False,matsubara=False)\n",
    "    \n",
    "    result_cum = cum.evolution(rho0)\n",
    "    \n",
    "    result_cum = rotation(result_cum, H, times)\n",
    "    print(\"============================\")\n",
    "    print(\"Cumulant Done\")\n",
    "    print(\"============================\")\n",
    "    print(\"============================\")\n",
    "    print(\"Solving Redfield\")\n",
    "    print(\"============================\")\n",
    "    red=redfield.redfield(Hsys=H, t=times, baths=[bath1],\n",
    "    Qs=[Q],\n",
    "    eps=1e-12,matsubara=True)\n",
    "    result_red = red.evolution(rho0)\n",
    "    result_red = [Qobj(i) for i in result_red]\n",
    "    for i in result_red:\n",
    "        i.dims=H.dims\n",
    "    result_red = rotation(result_red, H, times)\n",
    "    print(\"============================\")\n",
    "    print(\"Redfield Done\")\n",
    "    print(\"============================\")\n",
    "    print(\"============================\")\n",
    "    print(\"Solving Bloch-Redfield\")\n",
    "    print(\"============================\")\n",
    "    a_ops = [[Q, bath]]\n",
    "    resultBR = brmesolve(H, rho0, times, a_ops=a_ops, options={\n",
    "        \"rtol\": 1e-12},sec_cutoff=-1)\n",
    "    \n",
    "    print(\"============================\")\n",
    "    print(\"Bloch-Redfield Done\")\n",
    "    print(\"============================\")\n",
    "    print(\"============================\")\n",
    "    # print(\"Solving Global\")\n",
    "    # print(\"============================\")\n",
    "    # global_one=cum.jump_operators(Q) # Global Jump Operators for Bath 1 2->4\n",
    "    # c_ops2=[Qobj((np.sqrt(bath.power_spectrum(k))*v).data) for k, v in global_one.items()]\n",
    "    # for i in range(len(c_ops2)):\n",
    "    #     c_ops2[i].dims=H.dims \n",
    "    # result_lindblad_global2 = mesolve(H, rho0, times, c_ops2)\n",
    "    # print(\"============================\")\n",
    "    # print(\"Global Done\")\n",
    "    # print(\"============================\")\n",
    "    # print(\"============================\")\n",
    "    # print(\"Solving Pseudomodes\")\n",
    "    # print(\"============================\")\n",
    "    # Ncutoff=levels\n",
    "    # bathu = zero_temp_bath(tfit, lam, gamma, w0, N=modes)\n",
    "    # print(bathu.fitinfo[\"summary\"])\n",
    "    # example = pseudomode(Hsys=H, Q=Q, bath=bathu)\n",
    "    # ans = example.evolution(rho0, Ncutoff, times, options={\n",
    "    #                     \"atol\": 1e-14, \"normalize_output\": False, \"store_states\": True})\n",
    "    # ans = [i.ptrace(range(N))for i in ans.states]\n",
    "    # print(\"============================\")\n",
    "    # print(\"Pseudomodes done\")\n",
    "    # print(\"============================\")\n",
    "    results=[result,result_cum,resultBR,result_red]#,result_lindblad_global2,result_red]\n",
    "    return results"
   ]
  },
  {
   "cell_type": "code",
   "execution_count": 367,
   "id": "7449c8e4-2250-4b23-b9f7-0aa2c30175d7",
   "metadata": {
    "editable": true,
    "scrolled": true,
    "slideshow": {
     "slide_type": ""
    },
    "tags": [
     "remove-input",
     "no-pdf"
    ]
   },
   "outputs": [
    {
     "name": "stdout",
     "output_type": "stream",
     "text": [
      "============================\n",
      "Solving HEOM\n",
      "============================\n",
      "10.0%. Run time:   4.47s. Est. time left: 00:00:00:40\n",
      "20.0%. Run time:   8.79s. Est. time left: 00:00:00:35\n",
      "30.1%. Run time:  13.07s. Est. time left: 00:00:00:30\n",
      "40.1%. Run time:  17.39s. Est. time left: 00:00:00:25\n",
      "50.1%. Run time:  21.74s. Est. time left: 00:00:00:21\n",
      "60.1%. Run time:  26.08s. Est. time left: 00:00:00:17\n",
      "70.1%. Run time:  30.42s. Est. time left: 00:00:00:12\n",
      "80.2%. Run time:  34.78s. Est. time left: 00:00:00:08\n",
      "90.2%. Run time:  39.11s. Est. time left: 00:00:00:04\n",
      "100.0%. Run time:  43.34s. Est. time left: 00:00:00:00\n",
      "Total run time:  43.34s\n",
      "============================\n",
      "HEOM Done\n",
      "============================\n",
      "============================\n",
      "Solving Cumulant\n",
      "============================\n"
     ]
    },
    {
     "name": "stderr",
     "output_type": "stream",
     "text": [
      "Calculating Integrals ...: 100%|██████████| 4/4 [00:08<00:00,  2.13s/it]\n",
      "Calculating time independent matrices...: 100%|██████████| 4/4 [00:00<00:00, 3441.48it/s]\n",
      "Calculating time dependent generators: 100%|██████████| 4/4 [00:00<00:00, 298.07it/s]\n",
      "Computing Exponential of Generators . . . .: 500it [00:00, 1360.38it/s]\n"
     ]
    },
    {
     "name": "stdout",
     "output_type": "stream",
     "text": [
      "============================\n",
      "Cumulant Done\n",
      "============================\n",
      "============================\n",
      "Solving Redfield\n",
      "============================\n",
      "Started integration and Generator Calculations\n",
      "Finished integration and Generator Calculations\n",
      "Computation Time:0.06655168533325195\n",
      "%%%%%%%%%%%%%%%%%%%%%%%%%%%%%%\n",
      "Started interpolation\n",
      "Finished interpolation\n",
      "Computation Time:0.01327061653137207\n",
      "%%%%%%%%%%%%%%%%%%%%%%%%%%%%%%\n",
      "Started Solving the differential equation\n",
      "Finished Solving the differential equation\n",
      "Computation Time:0.9973952770233154\n",
      "============================\n",
      "Redfield Done\n",
      "============================\n",
      "============================\n",
      "Solving Bloch-Redfield\n",
      "============================\n",
      "============================\n",
      "Bloch-Redfield Done\n",
      "============================\n",
      "============================\n"
     ]
    }
   ],
   "source": [
    "times=np.linspace(0,300,500)\n",
    "results_syk=solve_dynamics(H,Q,bath_o,bath,rho0,times=times)"
   ]
  },
  {
   "cell_type": "code",
   "execution_count": 368,
   "id": "2fc0348d-d15e-461c-b8ac-00bb2d98d3a4",
   "metadata": {
    "editable": true,
    "slideshow": {
     "slide_type": ""
    },
    "tags": [
     "remove-input"
    ]
   },
   "outputs": [],
   "source": [
    "def plot_fidelities(states,H,times):\n",
    "    labels=[\"HEOM\",\"Cumulant\",\"Bloch-redfield\",\"Global\",\"Redfield\",\"Pseudomodes\"]\n",
    "    style=[\"solid\",\"solid\",\"solid\",\"dashdot\",'dashed',\"solid\"]\n",
    "    for k,i in enumerate(states[1:],1):\n",
    "        try:\n",
    "            sdd=np.array([fidelity(i.states[j],states[0].states[j]) for j in range(len(times))])\n",
    "        except:\n",
    "            sdd=np.array([fidelity(i[j],states[0].states[j]) for j in range(len(times))])\n",
    "        plt.plot(times,sdd,label=labels[k],linestyle=style[k])\n",
    "    plt.legend(fontsize=14)\n",
    "    plt.ylabel(r\"$\\mathcal{F}_{HEOM}$\",fontsize=20)\n",
    "    plt.xlabel(r\"t\",fontsize=20)\n",
    "    plt.show()\n"
   ]
  },
  {
   "cell_type": "code",
   "execution_count": 369,
   "id": "97925ab0-06b7-4ba2-8fbf-c9352d52a665",
   "metadata": {
    "editable": true,
    "slideshow": {
     "slide_type": ""
    },
    "tags": [
     "remove-input"
    ]
   },
   "outputs": [
    {
     "data": {
      "image/png": "[encoded data removed]",
      "text/plain": [
       "<Figure size 640x480 with 1 Axes>"
      ]
     },
     "metadata": {},
     "output_type": "display_data"
    }
   ],
   "source": [
    "plot_fidelities(results_syk,H,times)"
   ]
  },
  {
   "cell_type": "code",
   "execution_count": 370,
   "id": "00a20069-5fca-4ce4-928e-866e1916208e",
   "metadata": {
    "editable": true,
    "slideshow": {
     "slide_type": ""
    },
    "tags": [
     "remove-input"
    ]
   },
   "outputs": [],
   "source": [
    "def trd(states,H,times):\n",
    "    labels=[\"HEOM\",\"Cumulant\",\"Bloch-redfield\",\"Global\",\"Redfield\",\"Pseudomodes\"]\n",
    "    style=[\"solid\",\"solid\",\"solid\",\"dashdot\",'dashed',\"solid\"]\n",
    "    for k,i in enumerate(states[1:],1):\n",
    "        try:\n",
    "            sdd=np.array([tracedist(i.states[j],states[0].states[j]) for j in range(len(times))])\n",
    "        except:\n",
    "            sdd=np.array([tracedist(i[j],states[0].states[j]) for j in range(len(times))])\n",
    "        plt.plot(times,sdd,label=labels[k],linestyle=style[k])\n",
    "    plt.legend(fontsize=14)\n",
    "    plt.ylabel(r\"$TR_{HEOM}$\",fontsize=20)\n",
    "    plt.xlabel(r\"t\",fontsize=20)\n",
    "    plt.show()"
   ]
  },
  {
   "cell_type": "code",
   "execution_count": 371,
   "id": "e720ea2f-3c4b-4d56-8304-99532429aefe",
   "metadata": {
    "editable": true,
    "slideshow": {
     "slide_type": ""
    },
    "tags": [
     "remove-input"
    ]
   },
   "outputs": [
    {
     "data": {
      "image/png": "[encoded data removed]",
      "text/plain": [
       "<Figure size 640x480 with 1 Axes>"
      ]
     },
     "metadata": {},
     "output_type": "display_data"
    }
   ],
   "source": [
    "trd(results_syk,H,times)"
   ]
  },
  {
   "cell_type": "markdown",
   "id": "e99b18f5-f7d2-488a-bef6-1bb704ce1965",
   "metadata": {
    "editable": true,
    "slideshow": {
     "slide_type": ""
    },
    "tags": []
   },
   "source": [
    "## Steady states (Not really steady but at $t=50$)"
   ]
  },
  {
   "cell_type": "markdown",
   "id": "86eafe96-4c14-434e-adaa-ccfcadddd302",
   "metadata": {
    "editable": true,
    "slideshow": {
     "slide_type": ""
    },
    "tags": []
   },
   "source": [
    "## HEOM"
   ]
  },
  {
   "cell_type": "code",
   "execution_count": 372,
   "id": "82025602-b7b5-453d-a250-4aececd1644a",
   "metadata": {},
   "outputs": [],
   "source": [
    "from qutip import concurrence"
   ]
  },
  {
   "cell_type": "code",
   "execution_count": 373,
   "id": "ce4d9a99-9a3a-427a-9a6f-a47ff427065b",
   "metadata": {},
   "outputs": [
    {
     "data": {
      "text/latex": [
       "Quantum object: dims=[[2, 2], [2, 2]], shape=(4, 4), type='oper', dtype=Dense, isherm=True$$\\left(\\begin{array}{cc}0.493 & 0 & 0 & 1.733\\times10^{ -16 }\\\\0 & 0.007 & 6.163\\times10^{ -18 } & 0\\\\0 & -8.084\\times10^{ -18 } & 0.007 & 0\\\\1.904\\times10^{ -16 } & 0 & 0 & 0.493\\end{array}\\right)$$"
      ],
      "text/plain": [
       "Quantum object: dims=[[2, 2], [2, 2]], shape=(4, 4), type='oper', dtype=Dense, isherm=True\n",
       "Qobj data =\n",
       "[[ 4.93186003e-01  0.00000000e+00  0.00000000e+00  1.73327556e-16]\n",
       " [ 0.00000000e+00  6.81399723e-03  6.16251259e-18  0.00000000e+00]\n",
       " [ 0.00000000e+00 -8.08360373e-18  6.81399723e-03  0.00000000e+00]\n",
       " [ 1.90374172e-16  0.00000000e+00  0.00000000e+00  4.93186003e-01]]"
      ]
     },
     "execution_count": 373,
     "metadata": {},
     "output_type": "execute_result"
    }
   ],
   "source": [
    "results_syk[0].states[-1]"
   ]
  },
  {
   "cell_type": "code",
   "execution_count": 374,
   "id": "b8805b72",
   "metadata": {},
   "outputs": [],
   "source": [
    "def c5(x1,x6,x11,x7,x10,b0,b1):\n",
    "    c1=abs(b0)**2 +abs(b1)**2\n",
    "    den=x6*abs(b0)**2 +x11*abs(b1)**2+x7*b0*np.conjugate(b1)+x10*b1*np.conjugate(b0)\n",
    "    return x1+ (den/c1)\n",
    "def c8(x16,x6,x11,x7,x10,b0,b1):\n",
    "    c1=abs(b0)**2 +abs(b1)**2\n",
    "    den=x6*abs(b1)**2 +x11*abs(b0)**2-x7*b0*np.conjugate(b1)-x10*b1*np.conjugate(b0)\n",
    "    return x16 + (den/c1)"
   ]
  },
  {
   "cell_type": "code",
   "execution_count": 375,
   "id": "dc75e5b6",
   "metadata": {},
   "outputs": [
    {
     "data": {
      "text/plain": [
       "np.complex128(0.5+0j)"
      ]
     },
     "execution_count": 375,
     "metadata": {},
     "output_type": "execute_result"
    }
   ],
   "source": [
    "c5(0.25,0.25,0.25,0,0,1+1j,1-1j)"
   ]
  },
  {
   "cell_type": "code",
   "execution_count": 376,
   "id": "994cc5ad",
   "metadata": {},
   "outputs": [
    {
     "data": {
      "text/plain": [
       "np.complex128(0.5+0j)"
      ]
     },
     "execution_count": 376,
     "metadata": {},
     "output_type": "execute_result"
    }
   ],
   "source": [
    "c8(0.25,0.25,0.25,0,0,1+1j,1-1j)"
   ]
  },
  {
   "cell_type": "code",
   "execution_count": 377,
   "id": "f2be0b71",
   "metadata": {},
   "outputs": [
    {
     "data": {
      "text/latex": [
       "Quantum object: dims=[[4], [4]], shape=(4, 4), type='oper', dtype=Dense, isherm=True$$\\left(\\begin{array}{cc}0.250 & 0 & 0 & 0\\\\0 & 0.250 & 0 & 0\\\\0 & 0 & 0.250 & 0\\\\0 & 0 & 0 & 0.250\\end{array}\\right)$$"
      ],
      "text/plain": [
       "Quantum object: dims=[[4], [4]], shape=(4, 4), type='oper', dtype=Dense, isherm=True\n",
       "Qobj data =\n",
       "[[0.25 0.   0.   0.  ]\n",
       " [0.   0.25 0.   0.  ]\n",
       " [0.   0.   0.25 0.  ]\n",
       " [0.   0.   0.   0.25]]"
      ]
     },
     "execution_count": 377,
     "metadata": {},
     "output_type": "execute_result"
    }
   ],
   "source": [
    "Qobj([[0.25,0,0,0],[0,0.25,0,0],[0,0,0.25,0],[0,0,0,0.25]])"
   ]
  },
  {
   "cell_type": "code",
   "execution_count": 385,
   "id": "9183f7ba",
   "metadata": {},
   "outputs": [],
   "source": [
    "def c6(x4,x6,x11,x7,x10,b0,b1):\n",
    "    c1=abs(b0)**2 +abs(b1)**2\n",
    "    den=-x10*b1**2 +x7*b0**2-x6*b0*b1+x11*b1*b0\n",
    "    return x4 + (den/c1)"
   ]
  },
  {
   "cell_type": "code",
   "execution_count": 388,
   "id": "98d880f1",
   "metadata": {},
   "outputs": [
    {
     "data": {
      "text/plain": [
       "0j"
      ]
     },
     "execution_count": 388,
     "metadata": {},
     "output_type": "execute_result"
    }
   ],
   "source": [
    "c6(0,a,b,0,0,1+1j,1-1j)"
   ]
  },
  {
   "cell_type": "code",
   "execution_count": 390,
   "id": "9fe18d6a",
   "metadata": {},
   "outputs": [
    {
     "data": {
      "image/png": "[encoded data removed]",
      "text/plain": [
       "<Figure size 800x600 with 2 Axes>"
      ]
     },
     "metadata": {},
     "output_type": "display_data"
    }
   ],
   "source": [
    "# Create a grid of a and b values\n",
    "a_vals = np.linspace(0, 1, 10)\n",
    "b_vals = np.linspace(0, 1, 10)\n",
    "\n",
    "# Initialize arrays for a, b, and the result\n",
    "A, B = np.meshgrid(a_vals, b_vals)\n",
    "C = np.zeros_like(A, dtype=np.complex128)\n",
    "\n",
    "# Compute c6 for valid (a, b) pairs where a + b < 1\n",
    "for i in range(A.shape[0]):\n",
    "    for j in range(A.shape[1]):\n",
    "        if A[i, j] + B[i, j] < 1:\n",
    "            C[i, j] = c8(0, A[i, j], B[i, j], 0, 0, 1+1j, 1-1j)\n",
    "\n",
    "# Mask invalid regions\n",
    "C_masked = np.ma.masked_where(A + B >= 1, C)\n",
    "\n",
    "# Plotting\n",
    "plt.figure(figsize=(8, 6))\n",
    "plt.contourf(A, B, np.abs(C_masked), levels=50, cmap='viridis')\n",
    "plt.colorbar(label='|c6|')\n",
    "plt.xlabel('a')\n",
    "plt.ylabel('b')\n",
    "plt.title('Plot of |c6| for a + b < 1')\n",
    "plt.show()"
   ]
  },
  {
   "cell_type": "code",
   "execution_count": 389,
   "id": "bbf46c16",
   "metadata": {},
   "outputs": [
    {
     "data": {
      "image/png": "[encoded data removed]",
      "text/plain": [
       "<Figure size 800x600 with 2 Axes>"
      ]
     },
     "metadata": {},
     "output_type": "display_data"
    }
   ],
   "source": [
    "# Create a grid of a and b values\n",
    "a_vals = np.linspace(0, 1, 10)\n",
    "b_vals = np.linspace(0, 1, 10)\n",
    "\n",
    "# Initialize arrays for a, b, and the result\n",
    "A, B = np.meshgrid(a_vals, b_vals)\n",
    "C = np.zeros_like(A, dtype=np.complex128)\n",
    "\n",
    "# Compute c6 for valid (a, b) pairs where a + b < 1\n",
    "for i in range(A.shape[0]):\n",
    "    for j in range(A.shape[1]):\n",
    "        if A[i, j] + B[i, j] < 1:\n",
    "            C[i, j] = c6(0, A[i, j], B[i, j], 0, 0, 1+1j, 1-1j)\n",
    "\n",
    "# Mask invalid regions\n",
    "C_masked = np.ma.masked_where(A + B >= 1, C)\n",
    "\n",
    "# Plotting\n",
    "plt.figure(figsize=(8, 6))\n",
    "plt.contourf(A, B, np.abs(C_masked), levels=50, cmap='viridis')\n",
    "plt.colorbar(label='|c6|')\n",
    "plt.xlabel('a')\n",
    "plt.ylabel('b')\n",
    "plt.title('Plot of |c6| for a + b < 1')\n",
    "plt.show()"
   ]
  },
  {
   "cell_type": "code",
   "execution_count": 380,
   "id": "a1b81de8",
   "metadata": {},
   "outputs": [
    {
     "data": {
      "text/latex": [
       "Quantum object: dims=[[2, 2], [2, 2]], shape=(4, 4), type='oper', dtype=Dense, isherm=True$$\\left(\\begin{array}{cc}0.499 & 0 & 0 & 0\\\\0 & 6.122\\times10^{ -4 } & 0 & 0\\\\0 & 0 & 6.122\\times10^{ -4 } & 0\\\\0 & 0 & 0 & 0.499\\end{array}\\right)$$"
      ],
      "text/plain": [
       "Quantum object: dims=[[2, 2], [2, 2]], shape=(4, 4), type='oper', dtype=Dense, isherm=True\n",
       "Qobj data =\n",
       "[[0.49938776 0.         0.         0.        ]\n",
       " [0.         0.00061224 0.         0.        ]\n",
       " [0.         0.         0.00061224 0.        ]\n",
       " [0.         0.         0.         0.49938776]]"
      ]
     },
     "execution_count": 380,
     "metadata": {},
     "output_type": "execute_result"
    }
   ],
   "source": [
    "results_syk[1][-1]"
   ]
  },
  {
   "cell_type": "code",
   "execution_count": 381,
   "id": "713c8154",
   "metadata": {},
   "outputs": [
    {
     "data": {
      "text/latex": [
       "Quantum object: dims=[[2, 2], [2, 2]], shape=(4, 4), type='oper', dtype=Dense, isherm=True$$\\left(\\begin{array}{cc}0.500 & 0 & 0 & 0\\\\0 & 2.712\\times10^{ -9 } & 0 & 0\\\\0 & 0 & 2.712\\times10^{ -9 } & 0\\\\0 & 0 & 0 & 0.500\\end{array}\\right)$$"
      ],
      "text/plain": [
       "Quantum object: dims=[[2, 2], [2, 2]], shape=(4, 4), type='oper', dtype=Dense, isherm=True\n",
       "Qobj data =\n",
       "[[4.99999997e-01 0.00000000e+00 0.00000000e+00 0.00000000e+00]\n",
       " [0.00000000e+00 2.71173978e-09 0.00000000e+00 0.00000000e+00]\n",
       " [0.00000000e+00 0.00000000e+00 2.71173978e-09 0.00000000e+00]\n",
       " [0.00000000e+00 0.00000000e+00 0.00000000e+00 4.99999997e-01]]"
      ]
     },
     "execution_count": 381,
     "metadata": {},
     "output_type": "execute_result"
    }
   ],
   "source": [
    "results_syk[2].states[-1]"
   ]
  },
  {
   "cell_type": "code",
   "execution_count": 382,
   "id": "5b792778",
   "metadata": {},
   "outputs": [],
   "source": [
    "import qutip as qt"
   ]
  },
  {
   "cell_type": "code",
   "execution_count": 383,
   "id": "f060285d",
   "metadata": {},
   "outputs": [],
   "source": [
    "def negativity(rho):\n",
    "    eig=[i for i in qt.partial_transpose(rho,[0,1]).eigenenergies() if i<0]\n",
    "    return abs(sum(eig))"
   ]
  },
  {
   "cell_type": "code",
   "execution_count": 384,
   "id": "37df27ca-1901-4a69-87b8-ad16f3396d12",
   "metadata": {
    "editable": true,
    "slideshow": {
     "slide_type": ""
    },
    "tags": [
     "remove-input"
    ]
   },
   "outputs": [
    {
     "data": {
      "image/png": "[encoded data removed]",
      "text/plain": [
       "<Figure size 640x480 with 1 Axes>"
      ]
     },
     "metadata": {},
     "output_type": "display_data"
    }
   ],
   "source": [
    "plt.plot(lam*times,[negativity(i) for i in results_syk[0].states],label=\"HEOM\")\n",
    "plt.plot(lam*times,[negativity(i) for i in results_syk[1]],label=\"Cumulant\")\n",
    "plt.plot(lam*times,[negativity(i) for i in results_syk[3]],label=\"Redfield\")\n",
    "plt.xlabel(\"t\")\n",
    "plt.ylabel(r\"$N(\\rho)$\")\n",
    "plt.axhline(y=negativity(qt.bell_state('00')*qt.bell_state('00').dag()))\n",
    "plt.legend()\n",
    "plt.show()"
   ]
  },
  {
   "cell_type": "markdown",
   "id": "47776bf6-f3a9-4ea3-a8f7-612a55a0e134",
   "metadata": {
    "editable": true,
    "slideshow": {
     "slide_type": ""
    },
    "tags": []
   },
   "source": [
    "## Cumulant"
   ]
  },
  {
   "cell_type": "code",
   "execution_count": 192,
   "id": "93650f2e-0708-4fbf-aa85-e239c815d870",
   "metadata": {
    "editable": true,
    "slideshow": {
     "slide_type": ""
    },
    "tags": [
     "remove-input"
    ]
   },
   "outputs": [
    {
     "data": {
      "text/plain": [
       "[<matplotlib.lines.Line2D at 0x7ac525242490>]"
      ]
     },
     "execution_count": 192,
     "metadata": {},
     "output_type": "execute_result"
    },
    {
     "data": {
      "image/png": "[encoded data removed]",
      "text/plain": [
       "<Figure size 640x480 with 1 Axes>"
      ]
     },
     "metadata": {},
     "output_type": "display_data"
    }
   ],
   "source": [
    "plt.plot(times,[concurrence(i) for i in results_syk[1]])"
   ]
  },
  {
   "cell_type": "markdown",
   "id": "0132e020-25c0-4a46-b9e1-33ad7ca799e4",
   "metadata": {
    "editable": true,
    "slideshow": {
     "slide_type": ""
    },
    "tags": []
   },
   "source": [
    "## Bloch-Redfield"
   ]
  },
  {
   "cell_type": "code",
   "execution_count": 193,
   "id": "5c57f0da-bebd-4c0d-b9ef-18e03b44cde3",
   "metadata": {
    "editable": true,
    "slideshow": {
     "slide_type": ""
    },
    "tags": [
     "remove-input"
    ]
   },
   "outputs": [
    {
     "data": {
      "text/plain": [
       "[<matplotlib.lines.Line2D at 0x7ac525278a50>]"
      ]
     },
     "execution_count": 193,
     "metadata": {},
     "output_type": "execute_result"
    },
    {
     "data": {
      "image/png": "[encoded data removed]",
      "text/plain": [
       "<Figure size 640x480 with 1 Axes>"
      ]
     },
     "metadata": {},
     "output_type": "display_data"
    }
   ],
   "source": [
    "plt.plot(times,[concurrence(i) for i in results_syk[2].states])"
   ]
  },
  {
   "cell_type": "markdown",
   "id": "3fc349ee-e5ff-4fe4-8f4b-d0971d11921d",
   "metadata": {
    "editable": true,
    "slideshow": {
     "slide_type": ""
    },
    "tags": []
   },
   "source": [
    "From what we see in both the trace distance and fidelity plots, the Bloch-Redfield approach does terribly when we consider this scenario (multiple implementations where checked). Notice that this issue seems to be about the coupling operator, rather than the Hamiltonian. \n",
    "\n",
    "## Every Equation is ok\n",
    "Consider a different coupling operator just the majorana fermion denoted by the index 0 coupled to the environment or in the notes notation ($b_{0}=-i$,$b_{1}=0$)"
   ]
  },
  {
   "cell_type": "code",
   "execution_count": 194,
   "id": "1954ded4-79cc-4e52-96c5-2a880b78e03f",
   "metadata": {
    "editable": true,
    "slideshow": {
     "slide_type": ""
    },
    "tags": [
     "remove-input"
    ]
   },
   "outputs": [
    {
     "data": {
      "text/latex": [
       "Quantum object: dims=[[2, 2], [2, 2]], shape=(4, 4), type='oper', dtype=CSR, isherm=True$$\\left(\\begin{array}{cc}0 & -1j & 0 & 0\\\\1j & 0 & 0 & 0\\\\0 & 0 & 0 & -1j\\\\0 & 0 & 1j & 0\\end{array}\\right)$$"
      ],
      "text/plain": [
       "Quantum object: dims=[[2, 2], [2, 2]], shape=(4, 4), type='oper', dtype=CSR, isherm=True\n",
       "Qobj data =\n",
       "[[0.+0.j 0.-1.j 0.+0.j 0.+0.j]\n",
       " [0.+1.j 0.+0.j 0.+0.j 0.+0.j]\n",
       " [0.+0.j 0.+0.j 0.+0.j 0.-1.j]\n",
       " [0.+0.j 0.+0.j 0.+1.j 0.+0.j]]"
      ]
     },
     "execution_count": 194,
     "metadata": {},
     "output_type": "execute_result"
    }
   ],
   "source": [
    "Q2=psis[0]*np.sqrt(2)\n",
    "Q2"
   ]
  },
  {
   "cell_type": "code",
   "execution_count": 195,
   "id": "30c64391-c02e-46f3-a26f-56ac2a26ccee",
   "metadata": {
    "editable": true,
    "slideshow": {
     "slide_type": ""
    },
    "tags": [
     "remove-input"
    ]
   },
   "outputs": [
    {
     "name": "stdout",
     "output_type": "stream",
     "text": [
      "Correlation function fit:\n",
      "\n",
      "Result of fitting the real part of                                   |Result of fitting the imaginary part                                  \n",
      "the correlation function with 2 terms:                               |of the correlation function with 1 terms:                             \n",
      "                                                                     |                                                                      \n",
      " Parameters|    a     |    b     |    c                              | Parameters|    a     |    b     |    c                               \n",
      " 1         | 4.62e-01 |-2.55e+00 |9.66e+00                           | 1         |-4.47e-01 |-2.50e+00 |9.68e+00                            \n",
      " 2         |-8.26e-02 |-8.93e+00 |2.59e-11                           |                                                                      \n",
      "                                                                     |A normalized RMSE of  2.86e-07 was obtained for the the imaginary part\n",
      "A normalized RMSE of  7.67e-06 was obtained for the the real part of |of the correlation function.                                          \n",
      "the correlation function.                                            |                                                                      \n",
      "The current fit took  0.156334 seconds.                              |The current fit took  0.026977 seconds.                               \n",
      "\n"
     ]
    }
   ],
   "source": [
    "bath = UnderDampedEnvironment(lam=lam, gamma=gamma, w0=w0, T=0) # fix runtime warning\n",
    "env,fitinfo= bath.approx_by_cf_fit(tfit,Ni_max=1,Nr_max=2,target_rsme=None)\n",
    "bath=BosonicBath.from_environment(env,Q2)\n",
    "bath.T=0\n",
    "# notice one mode is also a pretty good approximation\n",
    "print(fitinfo['summary'])"
   ]
  },
  {
   "cell_type": "code",
   "execution_count": 196,
   "id": "e5be0787-e4ac-4aa2-80a3-54b00be9f8b4",
   "metadata": {
    "editable": true,
    "slideshow": {
     "slide_type": ""
    },
    "tags": [
     "remove-input"
    ]
   },
   "outputs": [
    {
     "name": "stdout",
     "output_type": "stream",
     "text": [
      "============================\n",
      "Solving HEOM\n",
      "============================\n",
      "10.0%. Run time:   2.25s. Est. time left: 00:00:00:20\n",
      "20.0%. Run time:   4.40s. Est. time left: 00:00:00:17\n",
      "30.1%. Run time:   6.54s. Est. time left: 00:00:00:15\n",
      "40.1%. Run time:   8.70s. Est. time left: 00:00:00:13\n",
      "50.1%. Run time:  10.87s. Est. time left: 00:00:00:10\n",
      "60.1%. Run time:  13.01s. Est. time left: 00:00:00:08\n",
      "70.1%. Run time:  15.13s. Est. time left: 00:00:00:06\n",
      "80.2%. Run time:  17.29s. Est. time left: 00:00:00:04\n",
      "90.2%. Run time:  19.37s. Est. time left: 00:00:00:02\n",
      "100.0%. Run time:  21.45s. Est. time left: 00:00:00:00\n",
      "Total run time:  21.45s\n",
      "============================\n",
      "HEOM Done\n",
      "============================\n",
      "============================\n",
      "Solving Cumulant\n",
      "============================\n"
     ]
    },
    {
     "name": "stderr",
     "output_type": "stream",
     "text": [
      "Calculating Integrals ...: 100%|██████████| 4/4 [00:28<00:00,  7.03s/it]\n",
      "Calculating time independent matrices...: 100%|██████████| 4/4 [00:00<00:00, 3331.46it/s]\n",
      "Calculating time dependent generators: 100%|██████████| 4/4 [00:00<00:00, 278.95it/s]\n",
      "Computing Exponential of Generators . . . .: 500it [00:00, 1137.96it/s]\n"
     ]
    },
    {
     "name": "stdout",
     "output_type": "stream",
     "text": [
      "============================\n",
      "Cumulant Done\n",
      "============================\n",
      "============================\n",
      "Solving Redfield\n",
      "============================\n",
      "Started integration and Generator Calculations\n",
      "Finished integration and Generator Calculations\n",
      "Computation Time:0.05753016471862793\n",
      "%%%%%%%%%%%%%%%%%%%%%%%%%%%%%%\n",
      "Started interpolation\n",
      "Finished interpolation\n",
      "Computation Time:0.008183717727661133\n",
      "%%%%%%%%%%%%%%%%%%%%%%%%%%%%%%\n",
      "Started Solving the differential equation\n",
      "Finished Solving the differential equation\n",
      "Computation Time:126.92915439605713\n",
      "============================\n",
      "Redfield Done\n",
      "============================\n",
      "============================\n",
      "Solving Bloch-Redfield\n",
      "============================\n",
      "============================\n",
      "Bloch-Redfield Done\n",
      "============================\n",
      "============================\n"
     ]
    }
   ],
   "source": [
    "results_syk2=solve_dynamics(H,Q2,bath,bath,rho0,modes=3)"
   ]
  },
  {
   "cell_type": "code",
   "execution_count": 202,
   "id": "6f5430ab-be1c-4557-84f8-712b9741f166",
   "metadata": {
    "editable": true,
    "slideshow": {
     "slide_type": ""
    },
    "tags": [
     "remove-input"
    ]
   },
   "outputs": [
    {
     "data": {
      "image/png": "[encoded data removed]",
      "text/plain": [
       "<Figure size 640x480 with 1 Axes>"
      ]
     },
     "metadata": {},
     "output_type": "display_data"
    }
   ],
   "source": [
    "trd(results_syk2,H,times)"
   ]
  },
  {
   "cell_type": "code",
   "execution_count": 203,
   "id": "c1825582-807f-43d7-aa08-d88e7c67069f",
   "metadata": {
    "editable": true,
    "slideshow": {
     "slide_type": ""
    },
    "tags": [
     "remove-input"
    ]
   },
   "outputs": [
    {
     "data": {
      "image/png": "[encoded data removed]",
      "text/plain": [
       "<Figure size 640x480 with 1 Axes>"
      ]
     },
     "metadata": {},
     "output_type": "display_data"
    }
   ],
   "source": [
    "plot_fidelities(results_syk2,H,times)"
   ]
  },
  {
   "cell_type": "code",
   "execution_count": 204,
   "id": "ff16900b-273d-450a-897b-16afac4c7185",
   "metadata": {},
   "outputs": [
    {
     "data": {
      "text/latex": [
       "Quantum object: dims=[[2, 2], [2, 2]], shape=(4, 4), type='oper', dtype=Dense, isherm=True$$\\left(\\begin{array}{cc}0.500 & 0 & 0 & -0.500\\\\0 & 0 & 0 & 0\\\\0 & 0 & 0 & 0\\\\-0.500 & 0 & 0 & 0.500\\end{array}\\right)$$"
      ],
      "text/plain": [
       "Quantum object: dims=[[2, 2], [2, 2]], shape=(4, 4), type='oper', dtype=Dense, isherm=True\n",
       "Qobj data =\n",
       "[[ 0.5  0.   0.  -0.5]\n",
       " [ 0.   0.   0.   0. ]\n",
       " [ 0.   0.   0.   0. ]\n",
       " [-0.5  0.   0.   0.5]]"
      ]
     },
     "execution_count": 204,
     "metadata": {},
     "output_type": "execute_result"
    }
   ],
   "source": [
    "from qutip import bell_state,concurrence\n",
    "bell=bell_state(\"01\")\n",
    "bell_dens=bell*bell.dag()\n",
    "bell_dens"
   ]
  },
  {
   "cell_type": "code",
   "execution_count": 207,
   "id": "0cd7e1e2-27a2-4b97-9be8-6b921d5f69b0",
   "metadata": {},
   "outputs": [
    {
     "data": {
      "text/latex": [
       "Quantum object: dims=[[2, 2], [2, 2]], shape=(4, 4), type='oper', dtype=Dense, isherm=False$$\\left(\\begin{array}{cc}1.024 & 5.164\\times10^{ -8 } & 0 & 0\\\\5.164\\times10^{ -8 } & -0.024 & 0 & 0\\\\0 & 0 & 0 & 0\\\\0 & 0 & 0 & 0\\end{array}\\right)$$"
      ],
      "text/plain": [
       "Quantum object: dims=[[2, 2], [2, 2]], shape=(4, 4), type='oper', dtype=Dense, isherm=False\n",
       "Qobj data =\n",
       "[[ 1.02434449e+00+2.78147289e-12j  5.16369301e-08+5.73412208e-08j\n",
       "   0.00000000e+00+0.00000000e+00j  0.00000000e+00+0.00000000e+00j]\n",
       " [ 5.16369301e-08-5.73412208e-08j -2.43444943e-02-2.78147289e-12j\n",
       "   0.00000000e+00+0.00000000e+00j  0.00000000e+00+0.00000000e+00j]\n",
       " [ 0.00000000e+00+0.00000000e+00j  0.00000000e+00+0.00000000e+00j\n",
       "   0.00000000e+00+0.00000000e+00j  0.00000000e+00+0.00000000e+00j]\n",
       " [ 0.00000000e+00+0.00000000e+00j  0.00000000e+00+0.00000000e+00j\n",
       "   0.00000000e+00+0.00000000e+00j  0.00000000e+00+0.00000000e+00j]]"
      ]
     },
     "execution_count": 207,
     "metadata": {},
     "output_type": "execute_result"
    }
   ],
   "source": [
    "results_syk2[0].states[-1]"
   ]
  },
  {
   "cell_type": "code",
   "execution_count": 206,
   "id": "95f6491d-14f2-45ee-b780-4502cc0a2738",
   "metadata": {},
   "outputs": [
    {
     "data": {
      "text/plain": [
       "np.float64(0.7156621040356813)"
      ]
     },
     "execution_count": 206,
     "metadata": {},
     "output_type": "execute_result"
    }
   ],
   "source": [
    "fidelity(results_syk2[0].states[-1],bell_dens)"
   ]
  },
  {
   "cell_type": "markdown",
   "id": "f9d813fa-6fe0-44e6-b245-1d3568503b6f",
   "metadata": {
    "editable": true,
    "slideshow": {
     "slide_type": ""
    },
    "tags": [
     "remove-input"
    ]
   },
   "source": [
    "I observe the same behaviour in many spin chain configurations for large $N$"
   ]
  },
  {
   "cell_type": "markdown",
   "id": "29b48fa8-5322-466e-9e5a-5fb0d29b934b",
   "metadata": {
    "editable": true,
    "slideshow": {
     "slide_type": ""
    },
    "tags": []
   },
   "source": [
    "# Cumulant and global failing (What I didn't see before)"
   ]
  },
  {
   "cell_type": "markdown",
   "id": "d2921ee7-e1f2-448c-a9ca-3c551795fa37",
   "metadata": {
    "editable": true,
    "slideshow": {
     "slide_type": ""
    },
    "tags": []
   },
   "source": [
    "Another example ($b_{0}=1$,$b_{1}=-i$)"
   ]
  },
  {
   "cell_type": "code",
   "execution_count": null,
   "id": "b26110b2-ebfc-4542-9076-754bbad70b49",
   "metadata": {
    "editable": true,
    "slideshow": {
     "slide_type": ""
    },
    "tags": [
     "remove-input"
    ]
   },
   "outputs": [],
   "source": [
    "Q3=psis[0]*np.sqrt(2)*1j + psis[2]*np.sqrt(2)\n",
    "Q3"
   ]
  },
  {
   "cell_type": "code",
   "execution_count": null,
   "id": "dc5f4c29-793a-4624-8972-edb2f74cbb96",
   "metadata": {
    "editable": true,
    "slideshow": {
     "slide_type": ""
    },
    "tags": [
     "remove-input"
    ]
   },
   "outputs": [],
   "source": [
    "bath=BosonicBath.from_environment(env,Q3)\n",
    "bath.T=0\n",
    "# notice one mode is also a pretty good approximation\n",
    "print(fitinfo['summary'])"
   ]
  },
  {
   "cell_type": "code",
   "execution_count": null,
   "id": "84ada3b9-d8ce-4a3d-9f15-5c554a70ccf0",
   "metadata": {
    "editable": true,
    "slideshow": {
     "slide_type": ""
    },
    "tags": [
     "remove-input"
    ]
   },
   "outputs": [],
   "source": [
    "results_syk3=solve_dynamics(H,Q3,bath,bath,rho0,modes=3)"
   ]
  },
  {
   "cell_type": "code",
   "execution_count": null,
   "id": "dc899d68-ff30-466a-9ed1-ffa6d0b29c5a",
   "metadata": {
    "editable": true,
    "slideshow": {
     "slide_type": ""
    },
    "tags": [
     "remove-input"
    ]
   },
   "outputs": [],
   "source": [
    "trd(results_syk3,H,times)"
   ]
  },
  {
   "cell_type": "code",
   "execution_count": null,
   "id": "8c1315d7-a561-43d2-a160-7674e4a5ee8c",
   "metadata": {
    "editable": true,
    "slideshow": {
     "slide_type": ""
    },
    "tags": [
     "remove-input"
    ]
   },
   "outputs": [],
   "source": [
    "plot_fidelities(results_syk3,H,times)"
   ]
  },
  {
   "cell_type": "markdown",
   "id": "8b8987cd-55a0-4bb3-ab4a-f66d58414bc9",
   "metadata": {
    "editable": true,
    "slideshow": {
     "slide_type": ""
    },
    "tags": []
   },
   "source": [
    " ## Heom Steady"
   ]
  },
  {
   "cell_type": "code",
   "execution_count": null,
   "id": "1b080a76-960f-4474-b99e-0e070f5beaea",
   "metadata": {
    "editable": true,
    "slideshow": {
     "slide_type": ""
    },
    "tags": []
   },
   "outputs": [],
   "source": [
    "results_syk3[0].states[-1]"
   ]
  },
  {
   "cell_type": "markdown",
   "id": "11be9a8d-b198-4049-a11b-0facc61077e6",
   "metadata": {
    "editable": true,
    "slideshow": {
     "slide_type": ""
    },
    "tags": []
   },
   "source": [
    "## Global Steady"
   ]
  },
  {
   "cell_type": "code",
   "execution_count": null,
   "id": "a8ce370a-1e6f-4073-aa3a-25c30a9641aa",
   "metadata": {
    "editable": true,
    "slideshow": {
     "slide_type": ""
    },
    "tags": []
   },
   "outputs": [],
   "source": [
    "results_syk3[1][-1]"
   ]
  },
  {
   "cell_type": "markdown",
   "id": "a3e51952-3ce9-4c2f-af41-bbb61d7b3e72",
   "metadata": {
    "editable": true,
    "slideshow": {
     "slide_type": ""
    },
    "tags": []
   },
   "source": [
    "# Different initial state\n",
    "\n",
    "To make things more confusing let us consider a different initial state and see how things work, and then don't\n",
    "\n",
    "But it does definitely seems to have something to do with ergodicity"
   ]
  },
  {
   "cell_type": "code",
   "execution_count": null,
   "id": "fdd5e34d-04fb-4b34-a0d5-92812b8e87a2",
   "metadata": {
    "editable": true,
    "slideshow": {
     "slide_type": ""
    },
    "tags": []
   },
   "outputs": [],
   "source": [
    "N=2\n",
    "state_list = [basis(2, 0)] + [-1j*basis(2, 0)] * (N - 1) # change the initial state to be away from the ground state\n",
    "state_list2 = [basis(2, 0)] + [basis(2, 0)] * (N - 1) # change the initial state to be away from the ground state\n",
    "state_list.reverse()\n",
    "psi0 = tensor(state_list)\n",
    "rho02=psi0*psi0.dag()\n",
    "H.dims=rho0.dims\n",
    "Q.dims=rho0.dims\n",
    "times=np.linspace(0,50,100)\n",
    "tfit=np.linspace(0, 80, 5000)\n",
    "rho02"
   ]
  },
  {
   "cell_type": "markdown",
   "id": "61dcc581-7a3e-49c8-8f13-59da67fa7c44",
   "metadata": {
    "editable": true,
    "slideshow": {
     "slide_type": ""
    },
    "tags": []
   },
   "source": [
    "We use the first coupling operator"
   ]
  },
  {
   "cell_type": "code",
   "execution_count": null,
   "id": "214423e4-e683-4245-aa91-fc637cd452d8",
   "metadata": {
    "editable": true,
    "slideshow": {
     "slide_type": ""
    },
    "tags": []
   },
   "outputs": [],
   "source": [
    "Q"
   ]
  },
  {
   "cell_type": "code",
   "execution_count": null,
   "id": "ea74c271-fa57-44bf-a8fa-2d5835ac2aa6",
   "metadata": {
    "editable": true,
    "slideshow": {
     "slide_type": ""
    },
    "tags": []
   },
   "outputs": [],
   "source": [
    "bath=BosonicBath.from_environment(env,Q)\n",
    "bath.T=0\n",
    "# notice one mode is also a pretty good approximation\n",
    "print(fitinfo['summary'])\n",
    "results_syk4=solve_dynamics(H,Q,bath,bath,rho02)"
   ]
  },
  {
   "cell_type": "code",
   "execution_count": null,
   "id": "b6c26a53-04c2-4a33-beed-d7eb300f6e2c",
   "metadata": {
    "editable": true,
    "slideshow": {
     "slide_type": ""
    },
    "tags": []
   },
   "outputs": [],
   "source": [
    "trd(results_syk4,H,times)"
   ]
  },
  {
   "cell_type": "code",
   "execution_count": null,
   "id": "02d55a85-a66a-4151-8a79-b673affe4376",
   "metadata": {
    "editable": true,
    "slideshow": {
     "slide_type": ""
    },
    "tags": []
   },
   "outputs": [],
   "source": [
    "plot_fidelities(results_syk4,H,times)"
   ]
  },
  {
   "cell_type": "code",
   "execution_count": null,
   "id": "e88949ef-c9f6-4aaa-95db-6c1bdf50476c",
   "metadata": {
    "editable": true,
    "slideshow": {
     "slide_type": ""
    },
    "tags": [
     "no-pdf"
    ]
   },
   "outputs": [],
   "source": [
    "Q2"
   ]
  },
  {
   "cell_type": "code",
   "execution_count": null,
   "id": "17fe7356-f4ff-4013-8c01-cca06aace641",
   "metadata": {
    "editable": true,
    "slideshow": {
     "slide_type": ""
    },
    "tags": [
     "no-pdf"
    ]
   },
   "outputs": [],
   "source": [
    "bath=BosonicBath.from_environment(env,Q2)\n",
    "bath.T=0\n",
    "# notice one mode is also a pretty good approximation\n",
    "print(fitinfo['summary'])\n",
    "results_syk5=solve_dynamics(H,Q2,bath,bath,rho02)"
   ]
  },
  {
   "cell_type": "code",
   "execution_count": null,
   "id": "ee660d38-119e-4581-9201-858cb5bfaed6",
   "metadata": {
    "editable": true,
    "slideshow": {
     "slide_type": ""
    },
    "tags": [
     "no-pdf"
    ]
   },
   "outputs": [],
   "source": [
    "trd(results_syk5,H,times)"
   ]
  },
  {
   "cell_type": "code",
   "execution_count": null,
   "id": "664acda8-0ea2-4ec9-a27f-05f6b5652018",
   "metadata": {
    "editable": true,
    "slideshow": {
     "slide_type": ""
    },
    "tags": [
     "no-pdf"
    ]
   },
   "outputs": [],
   "source": [
    "plot_fidelities(results_syk5,H,times)"
   ]
  },
  {
   "cell_type": "code",
   "execution_count": null,
   "id": "daa94797-9f5e-4ebb-b925-09a920938fd2",
   "metadata": {
    "editable": true,
    "slideshow": {
     "slide_type": ""
    },
    "tags": [
     "no-pdf"
    ]
   },
   "outputs": [],
   "source": [
    "bath=BosonicBath.from_environment(env,Q3)\n",
    "bath.T=0\n",
    "# notice one mode is also a pretty good approximation\n",
    "print(fitinfo['summary'])\n",
    "results_syk6=solve_dynamics(H,Q3,bath,bath,rho02)"
   ]
  },
  {
   "cell_type": "code",
   "execution_count": null,
   "id": "03027984-de4c-4d7d-a31d-e6f47a481544",
   "metadata": {
    "editable": true,
    "slideshow": {
     "slide_type": ""
    },
    "tags": [
     "no-pdf"
    ]
   },
   "outputs": [],
   "source": [
    "plot_fidelities(results_syk6,H,times)"
   ]
  },
  {
   "cell_type": "code",
   "execution_count": null,
   "id": "6967181f-03af-4e8a-b531-53e9c25d5136",
   "metadata": {
    "editable": true,
    "slideshow": {
     "slide_type": ""
    },
    "tags": [
     "no-pdf"
    ]
   },
   "outputs": [],
   "source": [
    "plot_fidelities(results_syk6,H,times)"
   ]
  },
  {
   "cell_type": "markdown",
   "id": "c1970415-9a56-4b35-b630-6c6f5412ca52",
   "metadata": {
    "editable": true,
    "slideshow": {
     "slide_type": ""
    },
    "tags": []
   },
   "source": [
    "# Finite Temperature\n",
    "\n",
    "For Finite Temperature I find the exact same behaviour\n",
    "$T=1$"
   ]
  },
  {
   "cell_type": "code",
   "execution_count": null,
   "id": "eed5c9af-6a6a-40c8-8311-d6d1e5d52ef1",
   "metadata": {
    "editable": true,
    "slideshow": {
     "slide_type": ""
    },
    "tags": [
     "remove-input"
    ]
   },
   "outputs": [],
   "source": [
    "bath1 =UnderDampedEnvironment(lam=lam, gamma=gamma, w0=w0, T=1) # fix runtime warning\n",
    "bath2 =UnderDampedEnvironment(lam=lam, gamma=gamma, w0=w0, T=0) # fix runtime warning\n",
    "w=np.linspace(-10,10,1000)\n",
    "plt.plot(w,bath1.power_spectrum(w),label=r\"$T=1$\")\n",
    "plt.plot(w,bath2.power_spectrum(w),\"--\",label=r\"$T=0$\")\n",
    "plt.ylabel(r\"$S(\\omega)=2 J(\\omega) (n(\\omega)+1)$\")\n",
    "plt.xlabel(r\"$\\omega$\")\n",
    "plt.title(\"Plot of the Power Spectrum\")\n",
    "plt.legend()\n",
    "plt.show()"
   ]
  },
  {
   "cell_type": "markdown",
   "id": "e5d3e43c-bb2b-45b5-81eb-40d1bb088166",
   "metadata": {
    "editable": true,
    "slideshow": {
     "slide_type": ""
    },
    "tags": []
   },
   "source": [
    "We use the first initial state"
   ]
  },
  {
   "cell_type": "code",
   "execution_count": null,
   "id": "a24db906-5087-4560-82ed-08ba68e9e940",
   "metadata": {
    "editable": true,
    "slideshow": {
     "slide_type": ""
    },
    "tags": [
     "no-pdf",
     "remove-input"
    ]
   },
   "outputs": [],
   "source": [
    "N=2\n",
    "state_list = [basis(2, 1)] + [-1j*basis(2, 0)] * (N - 1) # change the initial state to be away from the ground state\n",
    "state_list2 = [basis(2, 1)] + [basis(2, 0)] * (N - 1) # change the initial state to be away from the ground state\n",
    "state_list.reverse()\n",
    "psi0 = (tensor(state_list)+tensor(state_list2))/np.sqrt(2)\n",
    "rho0=psi0*psi0.dag()\n",
    "H.dims=rho0.dims\n",
    "Q.dims=rho0.dims\n",
    "times=np.linspace(0,50,100)\n",
    "tfit=np.linspace(0, 80, 5000)\n",
    "rho0"
   ]
  },
  {
   "cell_type": "code",
   "execution_count": null,
   "id": "d4c12815-47d4-4783-9331-1d1cb86c3297",
   "metadata": {
    "editable": true,
    "slideshow": {
     "slide_type": ""
    },
    "tags": [
     "no-pdf"
    ]
   },
   "outputs": [],
   "source": [
    "bath =UnderDampedEnvironment(lam=lam, gamma=gamma, w0=w0, T=1) # fix runtime warning\n",
    "env= bath.approx_by_matsubara(Nk=5)\n",
    "bath=BosonicBath.from_environment(env,Q)\n",
    "bath.T=1\n",
    "# notice one mode is also a pretty good approximation\n",
    "results_syk7=solve_dynamics(H,Q,bath,bath,rho0)"
   ]
  },
  {
   "cell_type": "code",
   "execution_count": null,
   "id": "e2e50bd9-c62a-4984-bca2-e78850f39f2e",
   "metadata": {
    "editable": true,
    "slideshow": {
     "slide_type": ""
    },
    "tags": [
     "remove-input"
    ]
   },
   "outputs": [],
   "source": [
    "plot_fidelities(results_syk7,H,times)"
   ]
  },
  {
   "cell_type": "markdown",
   "id": "eb3b57cc-0c96-4619-ab74-88e0f458db00",
   "metadata": {},
   "source": [
    "### Steady state from HEOM"
   ]
  },
  {
   "cell_type": "code",
   "execution_count": null,
   "id": "80d690c5-48ba-42b5-8ad4-67a059dd8278",
   "metadata": {
    "editable": true,
    "slideshow": {
     "slide_type": ""
    },
    "tags": [
     "remove-input"
    ]
   },
   "outputs": [],
   "source": [
    "results_syk7[0].states[-1]"
   ]
  },
  {
   "cell_type": "markdown",
   "id": "04767422-63ce-4d10-8f95-93d81eddf13d",
   "metadata": {},
   "source": [
    "### Steady state from BR"
   ]
  },
  {
   "cell_type": "code",
   "execution_count": null,
   "id": "e64cfc78-9519-486e-ad8d-aa0867605a57",
   "metadata": {
    "editable": true,
    "slideshow": {
     "slide_type": ""
    },
    "tags": [
     "remove-input"
    ]
   },
   "outputs": [],
   "source": [
    "results_syk7[2].states[-1]"
   ]
  },
  {
   "cell_type": "code",
   "execution_count": null,
   "id": "e1f8a5ab-d9c7-4de0-8313-62fa2230dc51",
   "metadata": {
    "editable": true,
    "slideshow": {
     "slide_type": ""
    },
    "tags": [
     "no-pdf"
    ]
   },
   "outputs": [],
   "source": [
    "bath=BosonicBath.from_environment(env,Q2)\n",
    "bath.T=1\n",
    "# notice one mode is also a pretty good approximation\n",
    "results_syk8=solve_dynamics(H,Q2,bath,bath,rho0)"
   ]
  },
  {
   "cell_type": "code",
   "execution_count": null,
   "id": "f2ae2095-f3fc-4634-aee8-db04219a482c",
   "metadata": {
    "editable": true,
    "slideshow": {
     "slide_type": ""
    },
    "tags": [
     "remove-input"
    ]
   },
   "outputs": [],
   "source": [
    "trd(results_syk8,H,times)"
   ]
  },
  {
   "cell_type": "code",
   "execution_count": null,
   "id": "14722533-8462-4008-95df-c84a404673eb",
   "metadata": {
    "editable": true,
    "slideshow": {
     "slide_type": ""
    },
    "tags": [
     "no-pdf"
    ]
   },
   "outputs": [],
   "source": [
    "bath=BosonicBath.from_environment(env,Q3)\n",
    "bath.T=1\n",
    "# notice one mode is also a pretty good approximation\n",
    "results_syk9=solve_dynamics(H,Q3,bath,bath,rho0)"
   ]
  },
  {
   "cell_type": "code",
   "execution_count": null,
   "id": "5684be1c-cc96-42af-9302-eb45029dcbe0",
   "metadata": {
    "editable": true,
    "slideshow": {
     "slide_type": ""
    },
    "tags": [
     "no-pdf"
    ]
   },
   "outputs": [],
   "source": [
    "plot_fidelities(results_syk9,H,times)"
   ]
  },
  {
   "cell_type": "code",
   "execution_count": null,
   "id": "9598c9e2-dcb4-41e9-aca0-497d2b8a3611",
   "metadata": {
    "editable": true,
    "slideshow": {
     "slide_type": ""
    },
    "tags": []
   },
   "outputs": [],
   "source": [
    "bath=BosonicBath.from_environment(env,Q)\n",
    "bath.T=1\n",
    "# notice one mode is also a pretty good approximation\n",
    "results_syk10=solve_dynamics(H,Q,bath,bath,rho02)"
   ]
  },
  {
   "cell_type": "code",
   "execution_count": null,
   "id": "0b5f5935-c7d2-4ff5-bd0e-29b061594958",
   "metadata": {
    "editable": true,
    "slideshow": {
     "slide_type": ""
    },
    "tags": []
   },
   "outputs": [],
   "source": [
    "bath=BosonicBath.from_environment(env,Q2)\n",
    "bath.T=1\n",
    "# notice one mode is also a pretty good approximation\n",
    "results_syk11=solve_dynamics(H,Q2,bath,bath,rho02)"
   ]
  },
  {
   "cell_type": "code",
   "execution_count": null,
   "id": "25b4ea65-a017-48cb-95e2-2f4a14442671",
   "metadata": {
    "editable": true,
    "slideshow": {
     "slide_type": ""
    },
    "tags": []
   },
   "outputs": [],
   "source": [
    "bath=BosonicBath.from_environment(env,0.01*Q3)\n",
    "bath.T=1\n",
    "# notice one mode is also a pretty good approximation\n",
    "results_syk12=solve_dynamics(H,0.01*Q3,bath,bath,rho02,depth=12)"
   ]
  },
  {
   "cell_type": "code",
   "execution_count": null,
   "id": "08c836fe-5a5a-4abb-be23-ec78f2f26e39",
   "metadata": {},
   "outputs": [],
   "source": [
    "results_syk12[0].states[-1]"
   ]
  },
  {
   "cell_type": "code",
   "execution_count": null,
   "id": "4c71c2bb-b58f-4bad-ac37-9af242bf4e86",
   "metadata": {},
   "outputs": [],
   "source": [
    "plot_fidelities(results_syk12,H,times)"
   ]
  },
  {
   "cell_type": "markdown",
   "id": "66b25a6e-bc54-4ebc-afa8-20129ca29e78",
   "metadata": {},
   "source": [
    "# Summary"
   ]
  },
  {
   "cell_type": "markdown",
   "id": "00e8a41e-e255-41f6-89bb-797b50aa5e4a",
   "metadata": {
    "editable": true,
    "slideshow": {
     "slide_type": ""
    },
    "tags": []
   },
   "source": [
    "The effect happens for both finite and zero temperature, it depends on the coupling operator and the initial state mostly"
   ]
  },
  {
   "cell_type": "code",
   "execution_count": null,
   "id": "15b2b85b-36dc-4ce8-9797-786627502882",
   "metadata": {
    "editable": true,
    "slideshow": {
     "slide_type": ""
    },
    "tags": [
     "no-pdf"
    ]
   },
   "outputs": [],
   "source": [
    "def create_subplot_figure(plot_functions,array ,titles, figsize=(15, 5), layout=None):\n",
    "    \"\"\"\n",
    "    Create a figure with subplots from individual plotting functions\n",
    "    \n",
    "    Parameters:\n",
    "    - plot_functions: List of functions that create plots (each ending with plt.show())\n",
    "    - titles: List of titles for each subplot\n",
    "    - figsize: Overall figure size\n",
    "    - layout: Tuple of (rows, columns) for subplot arrangement. If None, tries to make a square-like grid\n",
    "    \"\"\"\n",
    "    # Determine layout if not specified\n",
    "    if layout is None:\n",
    "        n = len(array)\n",
    "        rows = 1\n",
    "        cols = 3\n",
    "        layout = (rows, cols)\n",
    "    \n",
    "    # Create figure\n",
    "    fig, axes = plt.subplots(layout[0], layout[1], figsize=figsize)\n",
    "    \n",
    "    \n",
    "    # Iterate through plotting functions\n",
    "    for k,i in enumerate(array):\n",
    "        # Temporarily change current axis\n",
    "        plt.sca(axes[k] if len(array) > 1 else axes)\n",
    "        \n",
    "        # Call the plotting function\n",
    "        plot_functions(i,H,times)\n",
    "        \n",
    "        # Set title\n",
    "        axes[k].set_title(titles[k]) if len(array) > 1 else plt.title(title)\n",
    "    \n",
    "    # Remove extra subplots if any\n",
    "    if len(array) < len(axes):\n",
    "        for j in range(len(array), len(axes)):\n",
    "            fig.delaxes(axes[j])\n",
    "    \n",
    "    plt.tight_layout()\n",
    "    plt.show()"
   ]
  },
  {
   "cell_type": "markdown",
   "id": "58634e5f-464e-442e-9468-576272f09bce",
   "metadata": {
    "editable": true,
    "slideshow": {
     "slide_type": ""
    },
    "tags": []
   },
   "source": [
    "The Coupling operators are:"
   ]
  },
  {
   "cell_type": "markdown",
   "id": "d2df477f-eb6b-47ce-95ce-4749211a48c4",
   "metadata": {
    "editable": true,
    "slideshow": {
     "slide_type": ""
    },
    "tags": []
   },
   "source": [
    "$Q_{1}$"
   ]
  },
  {
   "cell_type": "code",
   "execution_count": null,
   "id": "a8739ab6-bbd6-4d3b-8818-3d11ff11adf3",
   "metadata": {
    "editable": true,
    "slideshow": {
     "slide_type": ""
    },
    "tags": [
     "remove-input"
    ]
   },
   "outputs": [],
   "source": [
    "Q"
   ]
  },
  {
   "cell_type": "markdown",
   "id": "1a9603a6-3974-4ae5-9fd8-b53bf8471f0a",
   "metadata": {},
   "source": [
    "$Q_{2}$"
   ]
  },
  {
   "cell_type": "code",
   "execution_count": null,
   "id": "bb7846c4-1c4c-4408-b331-23a2b894a01d",
   "metadata": {
    "editable": true,
    "slideshow": {
     "slide_type": ""
    },
    "tags": [
     "remove-input"
    ]
   },
   "outputs": [],
   "source": [
    "Q2"
   ]
  },
  {
   "cell_type": "markdown",
   "id": "d398d2f5-1148-4330-a1da-a0d882f10b20",
   "metadata": {},
   "source": [
    "$Q_{3}$"
   ]
  },
  {
   "cell_type": "code",
   "execution_count": null,
   "id": "fd9fce9d-381d-4678-b18d-e2a66ca7931a",
   "metadata": {
    "editable": true,
    "slideshow": {
     "slide_type": ""
    },
    "tags": [
     "remove-input"
    ]
   },
   "outputs": [],
   "source": [
    "Q3"
   ]
  },
  {
   "cell_type": "markdown",
   "id": "8d32218b-6af0-49ee-9d37-be036f645c1a",
   "metadata": {},
   "source": [
    "For the initial state"
   ]
  },
  {
   "cell_type": "code",
   "execution_count": null,
   "id": "ded4c150-94a6-41e0-a01f-bb612573baaa",
   "metadata": {
    "editable": true,
    "slideshow": {
     "slide_type": ""
    },
    "tags": [
     "remove-input"
    ]
   },
   "outputs": [],
   "source": [
    "rho0"
   ]
  },
  {
   "cell_type": "markdown",
   "id": "3a2ba22f-3f3c-406d-8883-1819a9e6f03d",
   "metadata": {
    "editable": true,
    "slideshow": {
     "slide_type": ""
    },
    "tags": []
   },
   "source": [
    "### At $T=0$"
   ]
  },
  {
   "cell_type": "code",
   "execution_count": null,
   "id": "0a0b8763-2322-49a2-85c6-3afc2a0b9847",
   "metadata": {
    "editable": true,
    "slideshow": {
     "slide_type": ""
    },
    "tags": [
     "remove-input"
    ]
   },
   "outputs": [],
   "source": [
    "def trd(states,H,times):\n",
    "    labels=[\"HEOM\",\"Cumulant\",\"Bloch-redfield\",\"Global\",\"Redfield\",\"Pseudomodes\"]\n",
    "    style=[\"solid\",\"solid\",\"solid\",\"dashdot\",'dashed',\"solid\"]\n",
    "    for k,i in enumerate(states[1:],1):\n",
    "        try:\n",
    "            sdd=np.array([tracedist(i.states[j],states[0].states[j]) for j in range(len(times))])\n",
    "        except:\n",
    "            sdd=np.array([tracedist(i[j],states[0].states[j]) for j in range(len(times))])\n",
    "        plt.plot(times,sdd,label=labels[k],linestyle=style[k])\n",
    "    plt.legend(fontsize=14)\n",
    "    plt.ylabel(r\"$TR_{HEOM}$\",fontsize=20)\n",
    "    plt.xlabel(r\"t\",fontsize=20)\n",
    "def plot_fidelities(states,H,times):\n",
    "    labels=[\"HEOM\",\"Cumulant\",\"Bloch-redfield\",\"Global\",\"Redfield\",\"Pseudomodes\"]\n",
    "    style=[\"solid\",\"solid\",\"solid\",\"dashdot\",'dashed',\"solid\"]\n",
    "    for k,i in enumerate(states[1:],1):\n",
    "        try:\n",
    "            sdd=np.array([fidelity(i.states[j],states[0].states[j]) for j in range(len(times))])\n",
    "        except:\n",
    "            sdd=np.array([fidelity(i[j],states[0].states[j]) for j in range(len(times))])\n",
    "        plt.plot(times,sdd,label=labels[k],linestyle=style[k])\n",
    "    plt.legend(fontsize=14)\n",
    "    plt.ylabel(r\"$\\mathcal{F}_{HEOM}$\",fontsize=20)\n",
    "    plt.xlabel(r\"t\",fontsize=20)\n",
    "create_subplot_figure(plot_fidelities,[results_syk,results_syk4,results_syk7],\n",
    "[r\"$Q_{1}$\",r\"$Q_{2}$\",r\"$Q_{3}$\"])"
   ]
  },
  {
   "cell_type": "markdown",
   "id": "3f508706-cd06-4ce9-8bbf-6edc05933849",
   "metadata": {},
   "source": [
    "### Finite Temperature"
   ]
  },
  {
   "cell_type": "code",
   "execution_count": null,
   "id": "ba4ee7b6-c3a4-46bc-950f-1578b3c85f01",
   "metadata": {
    "editable": true,
    "slideshow": {
     "slide_type": ""
    },
    "tags": [
     "remove-input"
    ]
   },
   "outputs": [],
   "source": [
    "create_subplot_figure(plot_fidelities,[results_syk3,results_syk6,results_syk9],\n",
    "[r\"$Q_{1}$\",r\"$Q_{2}$\",r\"$Q_{3}$\"])"
   ]
  },
  {
   "cell_type": "markdown",
   "id": "69462276-1397-4c76-a0cf-fb2489057f66",
   "metadata": {
    "editable": true,
    "slideshow": {
     "slide_type": ""
    },
    "tags": []
   },
   "source": [
    "## For the initial state"
   ]
  },
  {
   "cell_type": "code",
   "execution_count": null,
   "id": "1952d996-2ed1-4b33-bdce-63ed4fb62d2e",
   "metadata": {
    "editable": true,
    "slideshow": {
     "slide_type": ""
    },
    "tags": [
     "remove-input"
    ]
   },
   "outputs": [],
   "source": [
    "rho02"
   ]
  },
  {
   "cell_type": "code",
   "execution_count": null,
   "id": "5ea71a74-29ce-4c17-ac2f-f74352da4d04",
   "metadata": {
    "editable": true,
    "slideshow": {
     "slide_type": ""
    },
    "tags": [
     "remove-input"
    ]
   },
   "outputs": [],
   "source": [
    "create_subplot_figure(trd,[results_syk2,results_syk5,results_syk8],\n",
    "[r\"$Q_{1}$\",r\"$Q_{2}$\",r\"$Q_{3}$\"])"
   ]
  },
  {
   "cell_type": "markdown",
   "id": "bf0c931c-73ee-43c4-bae3-8785c9f4cdf7",
   "metadata": {},
   "source": [
    "### Finite Temperature"
   ]
  },
  {
   "cell_type": "code",
   "execution_count": null,
   "id": "cca4af43-86d6-4c72-991e-37551d8a9b1d",
   "metadata": {
    "editable": true,
    "slideshow": {
     "slide_type": ""
    },
    "tags": [
     "remove-input"
    ]
   },
   "outputs": [],
   "source": [
    "create_subplot_figure(trd,[results_syk10,results_syk11,results_syk12],\n",
    "[r\"$Q_{1}$\",r\"$Q_{2}$\",r\"$Q_{3}$\"])"
   ]
  },
  {
   "cell_type": "code",
   "execution_count": 117,
   "id": "b7b20e5a-70d1-4d99-96d2-96573f84f811",
   "metadata": {},
   "outputs": [
    {
     "data": {
      "text/plain": [
       "1.4142135623730951"
      ]
     },
     "execution_count": 117,
     "metadata": {},
     "output_type": "execute_result"
    }
   ],
   "source": [
    "abs(1-1j)/"
   ]
  },
  {
   "cell_type": "code",
   "execution_count": null,
   "id": "324e5cd2-4f8a-45c1-9c8f-1584bdd70e52",
   "metadata": {},
   "outputs": [],
   "source": []
  },
  {
   "cell_type": "code",
   "execution_count": null,
   "id": "3e273dcc-b591-43fc-934e-603972571f30",
   "metadata": {},
   "outputs": [],
   "source": []
  }
 ],
 "metadata": {
  "kernelspec": {
   "display_name": "qutip-dev",
   "language": "python",
   "name": "python3"
  },
  "language_info": {
   "codemirror_mode": {
    "name": "ipython",
    "version": 3
   },
   "file_extension": ".py",
   "mimetype": "text/x-python",
   "name": "python",
   "nbconvert_exporter": "python",
   "pygments_lexer": "ipython3",
   "version": "3.13.0"
  }
 },
 "nbformat": 4,
 "nbformat_minor": 5
}
