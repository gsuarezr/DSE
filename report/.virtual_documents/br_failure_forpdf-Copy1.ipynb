


import matplotlib.pyplot as plt
import numpy as np
from qutip import ( basis, expect, mesolve, qeye, sigmax, sigmay, sigmaz,destroy,
                   tensor,fidelity,tracedist,brmesolve,Qobj)
from qutip.solver import heom
from scipy.integrate import quad
from pseudomode import pseudomode,zero_temp_bath,rotation
from hamiltonians import syk_full,plot_ground,plot_fidelities,plot_trd,plot_positivity,plot_populations
from nmm import csolve,redfield


N=2
seeds=list(range(42,52))
k=7
H,psis=syk_full(N,seed=seeds[k])





H=H/np.max(H.full()) #energy rescaling
w1=1
w2=1
g=0.5
H=(w1*tensor(sigmaz(),qeye(2)) + w2*tensor(qeye(2),sigmaz()) +g*tensor(sigmax(),sigmax()))
H





Q=tensor(sigmax(),qeye(2))+tensor(qeye(2),sigmax())#sum([psis[i]*np.sqrt(2) for i in range(len(psis))])
Q





N=2
state_list = [(basis(2, 0)+basis(2,1))/np.sqrt(2)] + [basis(2, 0)] * (N - 1) # change the initial state to be away from the ground state
state_list2 = [basis(2, 1)] + [basis(2, 0)] * (N - 1) # change the initial state to be away from the ground state
state_list.reverse()
psi0 = tensor(state_list)#+tensor(state_list2))/np.sqrt(2)
rho0=psi0*psi0.dag()
H.dims=rho0.dims
Q.dims=rho0.dims
times=np.linspace(0,50,100)
tfit=np.linspace(0, 80, 5000)
rho0


from qutip import concurrence


concurrence(rho0)


E01=H.eigenenergies()[1]-H.eigenenergies()[0]#it is mostly degenerate, this does not help much
w0=1 #*E01*5#since I have no g parameter then It doesn't scale uniformingly as ising
gamma=0.5#w0/2 
Gamma=gamma
Omega=np.sqrt(w0**2 -Gamma**2)
lam=np.sqrt(Omega)





from qutip.core import UnderDampedEnvironment
from qutip.solver.heom import BosonicBath


bath =UnderDampedEnvironment(lam=lam, gamma=gamma, w0=w0, T=0) # fix runtime warning
env,fitinfo= bath.approx_by_cf_fit(tfit,Ni_max=1,Nr_max=3,target_rsme=None)
bath=BosonicBath.from_environment(env,Q)
bath.T=0
print(fitinfo['summary'])


times2 = np.linspace(0,40,500)
cvis = bath.correlation_function(times2)


# using the variable axs for multiple Axes
fig, axs = plt.subplots(1, 2,figsize=(15,5))
axs[0].plot(times2, np.imag(cvis),label="Numerical")
axs[0].plot(times2, np.imag(bath.correlation_function(times2)), "-.",label="Approximated")
axs[0].set_xlabel("t")
axs[0].set_ylabel("Im(C)")
axs[0].legend()
axs[1].plot(times2, np.real(cvis),label="Numerical")
axs[1].plot(times2, np.real(bath.correlation_function(times2)), "-.",label="Approximated")
axs[1].set_xlabel("t")
axs[1].set_ylabel("Re(C)")
axs[1].legend()
fig.suptitle('Correlation Functions', fontsize=30)
plt.show()


def solve_dynamics(H,Q,bath,bath1,rho0,depth=2,levels=8,modes=2,times=times):
    print("============================")
    print("Solving HEOM")
    print("============================")
    solver = heom.HEOMSolver(H,
                          [bath1], max_depth=depth, options={"atol": 1e-14})
    result = solver.run(rho0, times)
    print("============================")
    print("HEOM Done")
    print("============================")
    print("============================")
    print("Solving Cumulant")
    print("============================")
    bath.bose=None
    cum = csolve(
        Hsys=H, t=times, baths=[bath],
        Qs=[Q],
        eps=1e-6, cython=False,matsubara=True)
    
    result_cum = cum.evolution(rho0)
    
    result_cum = rotation(result_cum, H, times)
    print("============================")
    print("Cumulant Done")
    print("============================")
    print("============================")
    print("Solving Redfield")
    print("============================")
    red=redfield.redfield(Hsys=H, t=times, baths=[bath1],
    Qs=[Q],
    eps=1e-12,matsubara=True)
    result_red = red.evolution(rho0)
    result_red = [Qobj(i) for i in result_red]
    for i in result_red:
        i.dims=H.dims
    result_red = rotation(result_red, H, times)
    print("============================")
    print("Redfield Done")
    print("============================")
    print("============================")
    print("Solving Bloch-Redfield")
    print("============================")
    a_ops = [[Q, bath]]
    resultBR = brmesolve(H, rho0, times, a_ops=a_ops, options={
        "rtol": 1e-12}, sec_cutoff=-1)
    
    print("============================")
    print("Bloch-Redfield Done")
    print("============================")
    print("============================")
    # print("Solving Global")
    # print("============================")
    # global_one=cum.jump_operators(Q) # Global Jump Operators for Bath 1 2->4
    # c_ops2=[Qobj((np.sqrt(bath.power_spectrum(k))*v).data) for k, v in global_one.items()]
    # for i in range(len(c_ops2)):
    #     c_ops2[i].dims=H.dims 
    # result_lindblad_global2 = mesolve(H, rho0, times, c_ops2)
    # print("============================")
    # print("Global Done")
    # print("============================")
    # print("============================")
    # print("Solving Pseudomodes")
    # print("============================")
    # Ncutoff=levels
    # bathu = zero_temp_bath(tfit, lam, gamma, w0, N=modes)
    # print(bathu.fitinfo["summary"])
    # example = pseudomode(Hsys=H, Q=Q, bath=bathu)
    # ans = example.evolution(rho0, Ncutoff, times, options={
    #                     "atol": 1e-14, "normalize_output": False, "store_states": True})
    # ans = [i.ptrace(range(N))for i in ans.states]
    # print("============================")
    # print("Pseudomodes done")
    # print("============================")
    results=[result,result_cum,resultBR,result_red]#,result_lindblad_global2,result_red]
    return results


times=np.linspace(0,50,500)
results_syk=solve_dynamics(H,Q,bath,bath,rho0,times=times)


def plot_fidelities(states,H,times):
    labels=["HEOM","Cumulant","Bloch-redfield","Global","Redfield","Pseudomodes"]
    style=["solid","solid","solid","dashdot",'dashed',"solid"]
    for k,i in enumerate(states[1:],1):
        try:
            sdd=np.array([fidelity(i.states[j],states[0].states[j]) for j in range(len(times))])
        except:
            sdd=np.array([fidelity(i[j],states[0].states[j]) for j in range(len(times))])
        plt.plot(times,sdd,label=labels[k],linestyle=style[k])
    plt.legend(fontsize=14)
    plt.ylabel(r"$\mathcal{F}_{HEOM}$",fontsize=20)
    plt.xlabel(r"t",fontsize=20)
    plt.show()



plot_fidelities(results_syk,H,times)


def trd(states,H,times):
    labels=["HEOM","Cumulant","Bloch-redfield","Global","Redfield","Pseudomodes"]
    style=["solid","solid","solid","dashdot",'dashed',"solid"]
    for k,i in enumerate(states[1:],1):
        try:
            sdd=np.array([tracedist(i.states[j],states[0].states[j]) for j in range(len(times))])
        except:
            sdd=np.array([tracedist(i[j],states[0].states[j]) for j in range(len(times))])
        plt.plot(times,sdd,label=labels[k],linestyle=style[k])
    plt.legend(fontsize=14)
    plt.ylabel(r"$TR_{HEOM}$",fontsize=20)
    plt.xlabel(r"t",fontsize=20)
    plt.show()


trd(results_syk,H,times)








from qutip import concurrence


results_syk[0].states[-1]


plt.plot(lam*times/E01,[concurrence(i) for i in results_syk[0].states])





plt.plot(times,[concurrence(i) for i in results_syk[1]])





plt.plot(times,[concurrence(i) for i in results_syk[2].states])





Q2=psis[0]*np.sqrt(2)
Q2


bath = UnderDampedEnvironment(lam=lam, gamma=gamma, w0=w0, T=0) # fix runtime warning
env,fitinfo= bath.approx_by_cf_fit(tfit,Ni_max=1,Nr_max=2,target_rsme=None)
bath=BosonicBath.from_environment(env,Q2)
bath.T=0
# notice one mode is also a pretty good approximation
print(fitinfo['summary'])


results_syk2=solve_dynamics(H,Q2,bath,bath,rho0,modes=3)


trd(results_syk2,H,times)


plot_fidelities(results_syk2,H,times)


from qutip import bell_state,concurrence
bell=bell_state("01")
bell_dens=bell*bell.dag()
bell_dens


results_syk[0].states[-1]


fidelity(results_syk2[0].states[-1],bell_dens)











Q3=psis[0]*np.sqrt(2)*1j + psis[2]*np.sqrt(2)
Q3


bath=BosonicBath.from_environment(env,Q3)
bath.T=0
# notice one mode is also a pretty good approximation
print(fitinfo['summary'])


results_syk3=solve_dynamics(H,Q3,bath,bath,rho0,modes=3)


trd(results_syk3,H,times)


plot_fidelities(results_syk3,H,times)





results_syk3[0].states[-1]





results_syk3[1][-1]





N=2
state_list = [basis(2, 0)] + [-1j*basis(2, 0)] * (N - 1) # change the initial state to be away from the ground state
state_list2 = [basis(2, 0)] + [basis(2, 0)] * (N - 1) # change the initial state to be away from the ground state
state_list.reverse()
psi0 = tensor(state_list)
rho02=psi0*psi0.dag()
H.dims=rho0.dims
Q.dims=rho0.dims
times=np.linspace(0,50,100)
tfit=np.linspace(0, 80, 5000)
rho02





Q


bath=BosonicBath.from_environment(env,Q)
bath.T=0
# notice one mode is also a pretty good approximation
print(fitinfo['summary'])
results_syk4=solve_dynamics(H,Q,bath,bath,rho02)


trd(results_syk4,H,times)


plot_fidelities(results_syk4,H,times)


Q2


bath=BosonicBath.from_environment(env,Q2)
bath.T=0
# notice one mode is also a pretty good approximation
print(fitinfo['summary'])
results_syk5=solve_dynamics(H,Q2,bath,bath,rho02)


trd(results_syk5,H,times)


plot_fidelities(results_syk5,H,times)


bath=BosonicBath.from_environment(env,Q3)
bath.T=0
# notice one mode is also a pretty good approximation
print(fitinfo['summary'])
results_syk6=solve_dynamics(H,Q3,bath,bath,rho02)


plot_fidelities(results_syk6,H,times)


plot_fidelities(results_syk6,H,times)





bath1 =UnderDampedEnvironment(lam=lam, gamma=gamma, w0=w0, T=1) # fix runtime warning
bath2 =UnderDampedEnvironment(lam=lam, gamma=gamma, w0=w0, T=0) # fix runtime warning
w=np.linspace(-10,10,1000)
plt.plot(w,bath1.power_spectrum(w),label=r"$T=1$")
plt.plot(w,bath2.power_spectrum(w),"--",label=r"$T=0$")
plt.ylabel(r"$S(\omega)=2 J(\omega) (n(\omega)+1)$")
plt.xlabel(r"$\omega$")
plt.title("Plot of the Power Spectrum")
plt.legend()
plt.show()





N=2
state_list = [basis(2, 1)] + [-1j*basis(2, 0)] * (N - 1) # change the initial state to be away from the ground state
state_list2 = [basis(2, 1)] + [basis(2, 0)] * (N - 1) # change the initial state to be away from the ground state
state_list.reverse()
psi0 = (tensor(state_list)+tensor(state_list2))/np.sqrt(2)
rho0=psi0*psi0.dag()
H.dims=rho0.dims
Q.dims=rho0.dims
times=np.linspace(0,50,100)
tfit=np.linspace(0, 80, 5000)
rho0


bath =UnderDampedEnvironment(lam=lam, gamma=gamma, w0=w0, T=1) # fix runtime warning
env= bath.approx_by_matsubara(Nk=5)
bath=BosonicBath.from_environment(env,Q)
bath.T=1
# notice one mode is also a pretty good approximation
results_syk7=solve_dynamics(H,Q,bath,bath,rho0)


plot_fidelities(results_syk7,H,times)





results_syk7[0].states[-1]





results_syk7[2].states[-1]


bath=BosonicBath.from_environment(env,Q2)
bath.T=1
# notice one mode is also a pretty good approximation
results_syk8=solve_dynamics(H,Q2,bath,bath,rho0)


trd(results_syk8,H,times)


bath=BosonicBath.from_environment(env,Q3)
bath.T=1
# notice one mode is also a pretty good approximation
results_syk9=solve_dynamics(H,Q3,bath,bath,rho0)


plot_fidelities(results_syk9,H,times)


bath=BosonicBath.from_environment(env,Q)
bath.T=1
# notice one mode is also a pretty good approximation
results_syk10=solve_dynamics(H,Q,bath,bath,rho02)


bath=BosonicBath.from_environment(env,Q2)
bath.T=1
# notice one mode is also a pretty good approximation
results_syk11=solve_dynamics(H,Q2,bath,bath,rho02)


bath=BosonicBath.from_environment(env,0.01*Q3)
bath.T=1
# notice one mode is also a pretty good approximation
results_syk12=solve_dynamics(H,0.01*Q3,bath,bath,rho02,depth=12)


results_syk12[0].states[-1]


plot_fidelities(results_syk12,H,times)








def create_subplot_figure(plot_functions,array ,titles, figsize=(15, 5), layout=None):
    """
    Create a figure with subplots from individual plotting functions
    
    Parameters:
    - plot_functions: List of functions that create plots (each ending with plt.show())
    - titles: List of titles for each subplot
    - figsize: Overall figure size
    - layout: Tuple of (rows, columns) for subplot arrangement. If None, tries to make a square-like grid
    """
    # Determine layout if not specified
    if layout is None:
        n = len(array)
        rows = 1
        cols = 3
        layout = (rows, cols)
    
    # Create figure
    fig, axes = plt.subplots(layout[0], layout[1], figsize=figsize)
    
    
    # Iterate through plotting functions
    for k,i in enumerate(array):
        # Temporarily change current axis
        plt.sca(axes[k] if len(array) > 1 else axes)
        
        # Call the plotting function
        plot_functions(i,H,times)
        
        # Set title
        axes[k].set_title(titles[k]) if len(array) > 1 else plt.title(title)
    
    # Remove extra subplots if any
    if len(array) < len(axes):
        for j in range(len(array), len(axes)):
            fig.delaxes(axes[j])
    
    plt.tight_layout()
    plt.show()








Q





Q2





Q3





rho0





def trd(states,H,times):
    labels=["HEOM","Cumulant","Bloch-redfield","Global","Redfield","Pseudomodes"]
    style=["solid","solid","solid","dashdot",'dashed',"solid"]
    for k,i in enumerate(states[1:],1):
        try:
            sdd=np.array([tracedist(i.states[j],states[0].states[j]) for j in range(len(times))])
        except:
            sdd=np.array([tracedist(i[j],states[0].states[j]) for j in range(len(times))])
        plt.plot(times,sdd,label=labels[k],linestyle=style[k])
    plt.legend(fontsize=14)
    plt.ylabel(r"$TR_{HEOM}$",fontsize=20)
    plt.xlabel(r"t",fontsize=20)
def plot_fidelities(states,H,times):
    labels=["HEOM","Cumulant","Bloch-redfield","Global","Redfield","Pseudomodes"]
    style=["solid","solid","solid","dashdot",'dashed',"solid"]
    for k,i in enumerate(states[1:],1):
        try:
            sdd=np.array([fidelity(i.states[j],states[0].states[j]) for j in range(len(times))])
        except:
            sdd=np.array([fidelity(i[j],states[0].states[j]) for j in range(len(times))])
        plt.plot(times,sdd,label=labels[k],linestyle=style[k])
    plt.legend(fontsize=14)
    plt.ylabel(r"$\mathcal{F}_{HEOM}$",fontsize=20)
    plt.xlabel(r"t",fontsize=20)
create_subplot_figure(plot_fidelities,[results_syk,results_syk4,results_syk7],
[r"$Q_{1}$",r"$Q_{2}$",r"$Q_{3}$"])





create_subplot_figure(plot_fidelities,[results_syk3,results_syk6,results_syk9],
[r"$Q_{1}$",r"$Q_{2}$",r"$Q_{3}$"])





rho02


create_subplot_figure(trd,[results_syk2,results_syk5,results_syk8],
[r"$Q_{1}$",r"$Q_{2}$",r"$Q_{3}$"])





create_subplot_figure(trd,[results_syk10,results_syk11,results_syk12],
[r"$Q_{1}$",r"$Q_{2}$",r"$Q_{3}$"])
