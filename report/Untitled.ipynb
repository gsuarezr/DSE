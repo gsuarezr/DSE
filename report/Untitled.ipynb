{
 "cells": [
  {
   "cell_type": "code",
   "execution_count": 16,
   "id": "312806b6-6580-46ca-a0ed-db22c61e2e91",
   "metadata": {},
   "outputs": [],
   "source": [
    "import matplotlib.pyplot as plt\n",
    "import numpy as np\n",
    "from hamiltonians import ising,plot_ground,plot_fidelities,plot_trd,plot_positivity, plot_ground_comparison\n",
    "from qutip import qload\n",
    "import ipywidgets as widgets"
   ]
  },
  {
   "cell_type": "code",
   "execution_count": 13,
   "id": "cd98792a-1e4a-49f4-a908-7469ea371a47",
   "metadata": {},
   "outputs": [],
   "source": [
    "import glob\n",
    "noncheating=glob.glob(\"results_cluster/*goodq.qu\")"
   ]
  },
  {
   "cell_type": "code",
   "execution_count": 1,
   "id": "5a9f9f7b-0cfe-4054-bf51-d38686c2eced",
   "metadata": {},
   "outputs": [
    {
     "data": {
      "application/vnd.jupyter.widget-view+json": {
       "model_id": "b77be51b2aa74ca584af31662bab2116",
       "version_major": 2,
       "version_minor": 0
      },
      "image/png": "[encoded data removed]",
      "text/html": [
       "\n",
       "            <div style=\"display: inline-block;\">\n",
       "                <div class=\"jupyter-widgets widget-label\" style=\"text-align: center;\">\n",
       "                    Figure\n",
       "                </div>\n",
       "                <img src='data:image/png;base64,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' width=1200.0/>\n",
       "            </div>\n",
       "        "
      ],
      "text/plain": [
       "Canvas(toolbar=Toolbar(toolitems=[('Home', 'Reset original view', 'home', 'home'), ('Back', 'Back to previous …"
      ]
     },
     "metadata": {},
     "output_type": "display_data"
    },
    {
     "data": {
      "application/vnd.jupyter.widget-view+json": {
       "model_id": "24bb2099949b43ffa74b3872ad86b9d6",
       "version_major": 2,
       "version_minor": 0
      },
      "text/plain": [
       "IntSlider(value=0)"
      ]
     },
     "execution_count": 1,
     "metadata": {},
     "output_type": "execute_result"
    }
   ],
   "source": [
    "%matplotlib ipympl\n",
    "import ipywidgets as widgets\n",
    "import matplotlib.pyplot as plt\n",
    "import matplotlib\n",
    "import numpy as np\n",
    "\n",
    "def plot_image(ax, seed=0):\n",
    "    np.random.seed(seed)\n",
    "    data2plot = np.random.rand(5,5)\n",
    "    img = ax.imshow(data2plot)\n",
    "\n",
    "fig = plt.figure( figsize=(12,6) )\n",
    "ax1 = fig.add_subplot(1,2,1)\n",
    "ax2 = fig.add_subplot(1,2,2)\n",
    "\n",
    "plot_image(ax1)\n",
    "plot_image(ax2)\n",
    "\n",
    "plt.show()\n",
    "\n",
    "slider = widgets.IntSlider(value=0, min=0, max=100, step=1)\n",
    "\n",
    "# callback function for the slider widget\n",
    "def update(change):\n",
    "    plot_image(ax1, seed=0)\n",
    "    plot_image(ax2, seed=change.new)\n",
    "    fig.canvas.draw()\n",
    "\n",
    "# connect update function to slider widget using the .observe() method, observing changes in value attribute\n",
    "slider.observe(update, 'value')\n",
    "slider"
   ]
  },
  {
   "cell_type": "code",
   "execution_count": 2,
   "id": "0f372805-3b58-4bb2-9477-5f02953e539b",
   "metadata": {},
   "outputs": [
    {
     "name": "stdout",
     "output_type": "stream",
     "text": [
      "\u001b[33mDEPRECATION: Loading egg at /home/mcditoos/miniconda3/envs/qutip-dev/lib/python3.12/site-packages/scipy-1.11.4-py3.12-linux-x86_64.egg is deprecated. pip 24.3 will enforce this behaviour change. A possible replacement is to use pip for package installation. Discussion can be found at https://github.com/pypa/pip/issues/12330\u001b[0m\u001b[33m\n",
      "\u001b[0mCollecting ipympl\n",
      "  Downloading ipympl-0.9.4-py3-none-any.whl.metadata (8.7 kB)\n",
      "Collecting ipython-genutils (from ipympl)\n",
      "  Using cached ipython_genutils-0.2.0-py2.py3-none-any.whl.metadata (755 bytes)\n",
      "Requirement already satisfied: ipython<9 in /home/mcditoos/miniconda3/envs/qutip-dev/lib/python3.12/site-packages (from ipympl) (8.26.0)\n",
      "Requirement already satisfied: ipywidgets<9,>=7.6.0 in /home/mcditoos/miniconda3/envs/qutip-dev/lib/python3.12/site-packages (from ipympl) (8.1.3)\n",
      "Requirement already satisfied: matplotlib<4,>=3.4.0 in /home/mcditoos/miniconda3/envs/qutip-dev/lib/python3.12/site-packages (from ipympl) (3.8.3)\n",
      "Requirement already satisfied: numpy in /home/mcditoos/miniconda3/envs/qutip-dev/lib/python3.12/site-packages (from ipympl) (1.26.4)\n",
      "Requirement already satisfied: pillow in /home/mcditoos/miniconda3/envs/qutip-dev/lib/python3.12/site-packages (from ipympl) (10.2.0)\n",
      "Requirement already satisfied: traitlets<6 in /home/mcditoos/miniconda3/envs/qutip-dev/lib/python3.12/site-packages (from ipympl) (5.14.3)\n",
      "Requirement already satisfied: decorator in /home/mcditoos/miniconda3/envs/qutip-dev/lib/python3.12/site-packages (from ipython<9->ipympl) (5.1.1)\n",
      "Requirement already satisfied: jedi>=0.16 in /home/mcditoos/miniconda3/envs/qutip-dev/lib/python3.12/site-packages (from ipython<9->ipympl) (0.19.1)\n",
      "Requirement already satisfied: matplotlib-inline in /home/mcditoos/miniconda3/envs/qutip-dev/lib/python3.12/site-packages (from ipython<9->ipympl) (0.1.7)\n",
      "Requirement already satisfied: prompt-toolkit<3.1.0,>=3.0.41 in /home/mcditoos/miniconda3/envs/qutip-dev/lib/python3.12/site-packages (from ipython<9->ipympl) (3.0.47)\n",
      "Requirement already satisfied: pygments>=2.4.0 in /home/mcditoos/miniconda3/envs/qutip-dev/lib/python3.12/site-packages (from ipython<9->ipympl) (2.18.0)\n",
      "Requirement already satisfied: stack-data in /home/mcditoos/miniconda3/envs/qutip-dev/lib/python3.12/site-packages (from ipython<9->ipympl) (0.6.2)\n",
      "Requirement already satisfied: pexpect>4.3 in /home/mcditoos/miniconda3/envs/qutip-dev/lib/python3.12/site-packages (from ipython<9->ipympl) (4.9.0)\n",
      "Requirement already satisfied: comm>=0.1.3 in /home/mcditoos/miniconda3/envs/qutip-dev/lib/python3.12/site-packages (from ipywidgets<9,>=7.6.0->ipympl) (0.2.2)\n",
      "Requirement already satisfied: widgetsnbextension~=4.0.11 in /home/mcditoos/miniconda3/envs/qutip-dev/lib/python3.12/site-packages (from ipywidgets<9,>=7.6.0->ipympl) (4.0.11)\n",
      "Requirement already satisfied: jupyterlab-widgets~=3.0.11 in /home/mcditoos/miniconda3/envs/qutip-dev/lib/python3.12/site-packages (from ipywidgets<9,>=7.6.0->ipympl) (3.0.11)\n",
      "Requirement already satisfied: contourpy>=1.0.1 in /home/mcditoos/miniconda3/envs/qutip-dev/lib/python3.12/site-packages (from matplotlib<4,>=3.4.0->ipympl) (1.2.0)\n",
      "Requirement already satisfied: cycler>=0.10 in /home/mcditoos/miniconda3/envs/qutip-dev/lib/python3.12/site-packages (from matplotlib<4,>=3.4.0->ipympl) (0.12.1)\n",
      "Requirement already satisfied: fonttools>=4.22.0 in /home/mcditoos/miniconda3/envs/qutip-dev/lib/python3.12/site-packages (from matplotlib<4,>=3.4.0->ipympl) (4.50.0)\n",
      "Requirement already satisfied: kiwisolver>=1.3.1 in /home/mcditoos/miniconda3/envs/qutip-dev/lib/python3.12/site-packages (from matplotlib<4,>=3.4.0->ipympl) (1.4.5)\n",
      "Requirement already satisfied: packaging>=20.0 in /home/mcditoos/miniconda3/envs/qutip-dev/lib/python3.12/site-packages (from matplotlib<4,>=3.4.0->ipympl) (24.1)\n",
      "Requirement already satisfied: pyparsing>=2.3.1 in /home/mcditoos/miniconda3/envs/qutip-dev/lib/python3.12/site-packages (from matplotlib<4,>=3.4.0->ipympl) (3.1.2)\n",
      "Requirement already satisfied: python-dateutil>=2.7 in /home/mcditoos/miniconda3/envs/qutip-dev/lib/python3.12/site-packages (from matplotlib<4,>=3.4.0->ipympl) (2.9.0.post0)\n",
      "Requirement already satisfied: parso<0.9.0,>=0.8.3 in /home/mcditoos/miniconda3/envs/qutip-dev/lib/python3.12/site-packages (from jedi>=0.16->ipython<9->ipympl) (0.8.4)\n",
      "Requirement already satisfied: ptyprocess>=0.5 in /home/mcditoos/miniconda3/envs/qutip-dev/lib/python3.12/site-packages (from pexpect>4.3->ipython<9->ipympl) (0.7.0)\n",
      "Requirement already satisfied: wcwidth in /home/mcditoos/miniconda3/envs/qutip-dev/lib/python3.12/site-packages (from prompt-toolkit<3.1.0,>=3.0.41->ipython<9->ipympl) (0.2.13)\n",
      "Requirement already satisfied: six>=1.5 in /home/mcditoos/miniconda3/envs/qutip-dev/lib/python3.12/site-packages (from python-dateutil>=2.7->matplotlib<4,>=3.4.0->ipympl) (1.16.0)\n",
      "Requirement already satisfied: executing>=1.2.0 in /home/mcditoos/miniconda3/envs/qutip-dev/lib/python3.12/site-packages (from stack-data->ipython<9->ipympl) (2.0.1)\n",
      "Requirement already satisfied: asttokens>=2.1.0 in /home/mcditoos/miniconda3/envs/qutip-dev/lib/python3.12/site-packages (from stack-data->ipython<9->ipympl) (2.4.1)\n",
      "Requirement already satisfied: pure-eval in /home/mcditoos/miniconda3/envs/qutip-dev/lib/python3.12/site-packages (from stack-data->ipython<9->ipympl) (0.2.2)\n",
      "Downloading ipympl-0.9.4-py3-none-any.whl (516 kB)\n",
      "\u001b[2K   \u001b[38;2;114;156;31m━━━━━━━━━━━━━━━━━━━━━━━━━━━━━━━━━━━━━━━━\u001b[0m \u001b[32m516.3/516.3 kB\u001b[0m \u001b[31m17.9 MB/s\u001b[0m eta \u001b[36m0:00:00\u001b[0m\n",
      "\u001b[?25hUsing cached ipython_genutils-0.2.0-py2.py3-none-any.whl (26 kB)\n",
      "Installing collected packages: ipython-genutils, ipympl\n",
      "Successfully installed ipympl-0.9.4 ipython-genutils-0.2.0\n"
     ]
    }
   ],
   "source": [
    "!pip install ipympl"
   ]
  },
  {
   "cell_type": "code",
   "execution_count": null,
   "id": "ac2123e7-4843-4657-acd8-206d49b102f9",
   "metadata": {},
   "outputs": [],
   "source": []
  }
 ],
 "metadata": {
  "kernelspec": {
   "display_name": "Python 3 (ipykernel)",
   "language": "python",
   "name": "python3"
  },
  "language_info": {
   "codemirror_mode": {
    "name": "ipython",
    "version": 3
   },
   "file_extension": ".py",
   "mimetype": "text/x-python",
   "name": "python",
   "nbconvert_exporter": "python",
   "pygments_lexer": "ipython3",
   "version": "3.12.2"
  }
 },
 "nbformat": 4,
 "nbformat_minor": 5
}
