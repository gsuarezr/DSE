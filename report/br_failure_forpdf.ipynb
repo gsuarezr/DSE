{
 "cells": [
  {
   "cell_type": "markdown",
   "id": "4f223eaf-bb3e-4c9a-b419-cfa71a006cf3",
   "metadata": {
    "editable": true,
    "slideshow": {
     "slide_type": ""
    },
    "tags": []
   },
   "source": [
    "---\n",
    "title: Bloch-Redfield and Redfield Failing for degenerate Hamiltonians\n",
    "date: 2024-08-08\n",
    "authors:\n",
    "  - name: Gerardo Suarez\n",
    "---\n",
    "\n",
    "### In The SYK model:\n",
    "\n",
    "In this section we consider the SYK model whose Hamiltonian is given by ([Ryu paper](https://arxiv.org/pdf/2112.13489), [introduction](https://arxiv.org/pdf/2002.12187))\n",
    "\n",
    "$$H= \\sum_{i<j<k<l=1}^{N} J_{i,j,k,l}\\psi_{i} \\psi_{j} \\psi_{k} \\psi_{l} $$\n",
    "\n",
    "Where $J_{i,j,k,l}$ is drawn randomly from a Gaussian ensemble with mean $\\mu=0$ and variance $\\sigma=\\sqrt{3!} \\frac{J}{N^{3/2}}$\n",
    "where J is a constant with dimension of mass. And the $\\psi_{i}$ denote the operators of the majorana fermions which are representations\n",
    "of the clifford algebra. They satisfy\n",
    "\n",
    "\\begin{equation}\\label{eq:anti}\n",
    "\\{\\psi_{i},\\psi_{j}\\} = \\delta_{i,j}\n",
    "\\end{equation}\n",
    "\n",
    "For convenience people usually just consider the even case and one dimensional majorana fermions ([appendix A](https://arxiv.org/pdf/2002.12187)). \n",
    "We introduce the new basis\n",
    "\n",
    "\n",
    "$$c_{i}= \\frac{1}{\\sqrt{2}} (\\psi_{2i}-i \\psi_{2i+1})$$\n",
    "\n",
    "$$c_{i}^{\\dagger}= \\frac{1}{\\sqrt{2}} (\\psi_{2i}+i \\psi_{2i+1})$$\n",
    "\n",
    "These satisfy\n",
    "\n",
    "$$\\{C_{i},C^{\\dagger}_{j}\\} = \\delta_{i,j}$$\n",
    "$$\\{C_{i}^{\\dagger},C_{j}^{\\dagger}\\} = 0$$\n",
    "\n",
    "To construct this basis we consider picking a vacuum annhilated by all modes such that \n",
    "\n",
    "$$(C_{1}^{\\dagger})^{n_{1}} \\dots (C_{k}^{\\dagger})^{n_{k}} \\ket{0 \\dots 0} = 0$$\n",
    "\n",
    "There are $2^{N/2}= 2^{K}$ such states. This is the only irreducible representation of @eq:anti , upn top unitary equailvalence, the representation is given by $2^{k}$ matriceswhich can be found by the recursion relaton\n",
    "\n",
    "\\begin{align}\n",
    "\\psi_{i}^{K} = \\psi_{i}^{k-1} \\otimes \\begin{pmatrix}-1 & 0 \\\\ 0 &1 \\end{pmatrix} \\quad \\text{for} \\quad i=1,2,\\dots,N-2 \\\\\n",
    "\\psi_{N-1}^{K} = \\frac{1}{\\sqrt{2}} 1_{2^{K-1}} \\otimes \\begin{pmatrix}0 & 1 \\\\ 1 &0 \\end{pmatrix} \\\\\n",
    "\\psi_{N}^{K} = \\frac{1}{\\sqrt{2}} 1_{2^{K-1}} \\otimes \\begin{pmatrix}0 & -i \\\\ i &0 \\end{pmatrix} \n",
    "\\end{align}\n",
    "\n",
    "The superscript $K$ is omitted in the Hamiltonian for convenience. Though not a great example, Let us use $N=2$. To illustrate how solving by Bloch-Redfield may fail"
   ]
  },
  {
   "cell_type": "code",
   "execution_count": 1,
   "id": "70ec3a17-8a7f-4749-b5b8-6e0748fb7297",
   "metadata": {
    "editable": true,
    "slideshow": {
     "slide_type": ""
    },
    "tags": []
   },
   "outputs": [],
   "source": [
    "import matplotlib.pyplot as plt\n",
    "import numpy as np\n",
    "from qutip import ( basis, expect, mesolve, qeye, sigmax, sigmay, sigmaz,destroy,\n",
    "                   tensor,fidelity,tracedist,brmesolve,Qobj)\n",
    "from qutip.solver import heom\n",
    "from scipy.integrate import quad\n",
    "from pseudomode import pseudomode,zero_temp_bath,rotation\n",
    "from hamiltonians import syk_full,plot_ground,plot_fidelities,plot_trd,plot_positivity,plot_populations\n",
    "from nmm import csolve,redfield"
   ]
  },
  {
   "cell_type": "code",
   "execution_count": 2,
   "id": "a048a14a",
   "metadata": {},
   "outputs": [],
   "source": [
    "N=2\n",
    "seeds=list(range(42,52))\n",
    "k=7\n",
    "H,psis=syk_full(N,seed=seeds[k])"
   ]
  },
  {
   "cell_type": "markdown",
   "id": "94805f75-e2a1-4502-a3f1-07086940e337",
   "metadata": {},
   "source": [
    "The Hamiltonian in this example is then given  by"
   ]
  },
  {
   "cell_type": "code",
   "execution_count": 3,
   "id": "286a1d59-4b91-4d3b-9ff4-89489fcd6b48",
   "metadata": {},
   "outputs": [
    {
     "data": {
      "text/latex": [
       "Quantum object: dims=[[2, 2], [2, 2]], shape=(4, 4), type='oper', isherm=True$$\\left(\\begin{array}{cc}-2.182 & 0 & 0 & 0\\\\0 & 2.182 & 0 & 0\\\\0 & 0 & 2.182 & 0\\\\0 & 0 & 0 & -2.182\\end{array}\\right)$$"
      ],
      "text/plain": [
       "Quantum object: dims=[[2, 2], [2, 2]], shape=(4, 4), type='oper', isherm=True\n",
       "Qobj data =\n",
       "[[-2.18176916  0.          0.          0.        ]\n",
       " [ 0.          2.18176916  0.          0.        ]\n",
       " [ 0.          0.          2.18176916  0.        ]\n",
       " [ 0.          0.          0.         -2.18176916]]"
      ]
     },
     "execution_count": 3,
     "metadata": {},
     "output_type": "execute_result"
    }
   ],
   "source": [
    "H=20*H\n",
    "H"
   ]
  },
  {
   "cell_type": "markdown",
   "id": "2f82c4a7-6818-41ac-b0b8-7e0dfc22b81a",
   "metadata": {},
   "source": [
    "While the coupling operator to the bath is simply \n",
    "\n",
    "$Q= \\sum_{i} a_{i} \\psi_{i}$\n",
    "\n",
    "Where each $a_{i}$ is a real number"
   ]
  },
  {
   "cell_type": "code",
   "execution_count": 4,
   "id": "4b1f30b0",
   "metadata": {},
   "outputs": [
    {
     "data": {
      "text/latex": [
       "Quantum object: dims=[[2, 2], [2, 2]], shape=(4, 4), type='oper', isherm=True$$\\left(\\begin{array}{cc}0 & (0.530-0.707j) & (0.442-0.471j) & 0\\\\(0.530+0.707j) & 0 & 0 & (-0.442+0.471j)\\\\(0.442+0.471j) & 0 & 0 & (0.530-0.707j)\\\\0 & (-0.442-0.471j) & (0.530+0.707j) & 0\\end{array}\\right)$$"
      ],
      "text/plain": [
       "Quantum object: dims=[[2, 2], [2, 2]], shape=(4, 4), type='oper', isherm=True\n",
       "Qobj data =\n",
       "[[ 0.        +0.j          0.53033009-0.70710678j  0.44194174-0.47140452j\n",
       "   0.        +0.j        ]\n",
       " [ 0.53033009+0.70710678j  0.        +0.j          0.        +0.j\n",
       "  -0.44194174+0.47140452j]\n",
       " [ 0.44194174+0.47140452j  0.        +0.j          0.        +0.j\n",
       "   0.53033009-0.70710678j]\n",
       " [ 0.        +0.j         -0.44194174-0.47140452j  0.53033009+0.70710678j\n",
       "   0.        +0.j        ]]"
      ]
     },
     "execution_count": 4,
     "metadata": {},
     "output_type": "execute_result"
    }
   ],
   "source": [
    "Q=sum([(1/2 +1/(2*i+2))*psis[i] for i in range(len(psis))])\n",
    "Q"
   ]
  },
  {
   "cell_type": "markdown",
   "id": "0df462b0-d849-4850-92bd-1fd217dbb808",
   "metadata": {},
   "source": [
    "We consider the initial state to be "
   ]
  },
  {
   "cell_type": "code",
   "execution_count": 5,
   "id": "81eb9baf-79d0-44fd-ac99-f78e8fed021e",
   "metadata": {},
   "outputs": [
    {
     "data": {
      "text/latex": [
       "Quantum object: dims=[[2, 2], [2, 2]], shape=(4, 4), type='oper', isherm=True$$\\left(\\begin{array}{cc}0 & 0 & 0 & 0\\\\0 & 0.500 & -0.500j & 0\\\\0 & 0.500j & 0.500 & 0\\\\0 & 0 & 0 & 0\\end{array}\\right)$$"
      ],
      "text/plain": [
       "Quantum object: dims=[[2, 2], [2, 2]], shape=(4, 4), type='oper', isherm=True\n",
       "Qobj data =\n",
       "[[0. +0.j  0. +0.j  0. +0.j  0. +0.j ]\n",
       " [0. +0.j  0.5+0.j  0. -0.5j 0. +0.j ]\n",
       " [0. +0.j  0. +0.5j 0.5+0.j  0. +0.j ]\n",
       " [0. +0.j  0. +0.j  0. +0.j  0. +0.j ]]"
      ]
     },
     "execution_count": 5,
     "metadata": {},
     "output_type": "execute_result"
    }
   ],
   "source": [
    "N=2\n",
    "state_list = [basis(2, 1)] + [-1j*basis(2, 0)] * (N - 1) # change the initial state to be away from the ground state\n",
    "state_list2 = [basis(2, 1)] + [basis(2, 0)] * (N - 1) # change the initial state to be away from the ground state\n",
    "state_list.reverse()\n",
    "psi0 = (tensor(state_list)+tensor(state_list2))/np.sqrt(2)\n",
    "rho0=psi0*psi0.dag()\n",
    "H.dims=rho0.dims\n",
    "Q.dims=rho0.dims\n",
    "times=np.linspace(0,50,100)\n",
    "tfit=np.linspace(0, 80, 1000)\n",
    "rho0"
   ]
  },
  {
   "cell_type": "code",
   "execution_count": 6,
   "id": "ceea9144-8b11-4275-83b2-7e98efa87f79",
   "metadata": {},
   "outputs": [],
   "source": [
    "E01=H.eigenenergies()[2]-H.eigenenergies()[0]#it is mostly degenerate, this does not help much\n",
    "w0=1.1 *E01#since I have no g parameter then It doesn't scale uniformingly as ising\n",
    "gamma=w0/2.05\n",
    "Gamma=gamma/2\n",
    "Omega=np.sqrt(w0**2 -Gamma**2)\n",
    "lam=np.sqrt(Omega)"
   ]
  },
  {
   "cell_type": "markdown",
   "id": "a0105b2c-96a1-4343-ab07-80adf8d598ba",
   "metadata": {
    "user_expressions": [
     {
      "expression": "gamma",
      "result": {
       "data": {
        "text/plain": "2.3414108070880553"
       },
       "metadata": {},
       "status": "ok"
      }
     },
     {
      "expression": "lam",
      "result": {
       "data": {
        "text/plain": "2.157529680721121"
       },
       "metadata": {},
       "status": "ok"
      }
     },
     {
      "expression": "w0",
      "result": {
       "data": {
        "text/plain": "4.799892154530513"
       },
       "metadata": {},
       "status": "ok"
      }
     }
    ]
   },
   "source": [
    "And consider an underdamped spectral density at zero temperature with $\\gamma=${eval}`gamma` , $\\lambda=${eval}`lam` ,$\\omega_{0}=${eval}`w0`. After fitting the correlation function one obtains"
   ]
  },
  {
   "cell_type": "code",
   "execution_count": 7,
   "id": "40fd3232-b6f5-427e-9b4d-136cd045f957",
   "metadata": {},
   "outputs": [
    {
     "name": "stderr",
     "output_type": "stream",
     "text": [
      "/home/mcditoos/github/qutip_gsoc_app/qutip/solver/heom/bofin_baths.py:925: RuntimeWarning: invalid value encountered in scalar divide\n",
      "  * (1 / np.tanh(beta * (Om + 1.0j * Gamma) / 2)),\n",
      "/home/mcditoos/github/qutip_gsoc_app/qutip/solver/heom/bofin_baths.py:927: RuntimeWarning: invalid value encountered in scalar divide\n",
      "  * (1 / np.tanh(beta * (Om - 1.0j * Gamma) / 2)),\n"
     ]
    },
    {
     "name": "stdout",
     "output_type": "stream",
     "text": [
      "Fit correlation class instance: \n",
      " \n",
      "Result of fitting The Real Part Of                                      |Result of fitting The Imaginary Part                                    \n",
      " the Correlation Function with 2 terms:                                 | Of the Correlation Function with 1 terms:                              \n",
      "                                                                        |                                                                        \n",
      " Parameters|    a     |    b     |    c                                 | Parameters|    a     |    b     |    c                                 \n",
      " 1         |-9.49e-02 |-4.50e+00 |5.87e-10                              | 1         |-5.00e-01 |-1.17e+00 |4.65e+00                              \n",
      " 2         | 5.18e-01 |-1.20e+00 |4.64e+00                              |                                                                        \n",
      "                                                                        |A  normalized RMSE of  1.94e-10 was obtained for the The Imaginary Part \n",
      "A  normalized RMSE of  1.74e-05 was obtained for the The Real Part Of   | Of the Correlation Function                                            \n",
      " the Correlation Function                                               |                                                                        \n",
      " The current fit took  0.226513 seconds                                 | The current fit took  0.019531 seconds                                 \n",
      "\n"
     ]
    }
   ],
   "source": [
    "bath = heom.UnderDampedBath(\n",
    "        Q=Q,\n",
    "        lam=lam, gamma=gamma, w0=w0, T=0, Nk=5) # fix runtime warning\n",
    "cfiitter2 = heom.CorrelationFitter(\n",
    "    Q, 0, tfit, bath.correlation_function)\n",
    "bath1, fit2info = cfiitter2.get_fit(Ni=1, Nr=2)\n",
    "# notice one mode is also a pretty good approximation\n",
    "print(fit2info['summary'])"
   ]
  },
  {
   "cell_type": "code",
   "execution_count": 8,
   "id": "723c3d9f-66e6-48a5-aabc-3403c5ea87aa",
   "metadata": {},
   "outputs": [],
   "source": [
    "times2 = np.linspace(0,40,500)\n",
    "cvis = bath.correlation_function(times2)"
   ]
  },
  {
   "cell_type": "code",
   "execution_count": 9,
   "id": "89a74a93-a2b7-4de4-bcaa-ff0a1331cbad",
   "metadata": {},
   "outputs": [
    {
     "data": {
      "image/png": "[encoded data removed]",
      "text/plain": [
       "<Figure size 1500x500 with 2 Axes>"
      ]
     },
     "metadata": {},
     "output_type": "display_data"
    }
   ],
   "source": [
    "# using the variable axs for multiple Axes\n",
    "fig, axs = plt.subplots(1, 2,figsize=(15,5))\n",
    "axs[0].plot(times2, np.imag(cvis),label=\"Numerical\")\n",
    "axs[0].plot(times2, np.imag(bath1.correlation_function_approx(times2)), \"-.\",label=\"Approximated\")\n",
    "axs[0].set_xlabel(\"t\")\n",
    "axs[0].set_ylabel(\"Im(C)\")\n",
    "axs[0].legend()\n",
    "axs[1].plot(times2, np.real(cvis),label=\"Numerical\")\n",
    "axs[1].plot(times2, np.real(bath1.correlation_function_approx(times2)), \"-.\",label=\"Approximated\")\n",
    "axs[1].set_xlabel(\"t\")\n",
    "axs[1].set_ylabel(\"Re(C)\")\n",
    "axs[1].legend()\n",
    "fig.suptitle('Correlation Functions', fontsize=30)\n",
    "plt.show()"
   ]
  },
  {
   "cell_type": "code",
   "execution_count": 11,
   "id": "0df9ead8-19ef-4ae9-9255-3e20abab0d54",
   "metadata": {},
   "outputs": [
    {
     "name": "stdout",
     "output_type": "stream",
     "text": [
      "10.1%. Run time:   5.28s. Est. time left: 00:00:00:47\n",
      "20.2%. Run time:  10.85s. Est. time left: 00:00:00:42\n",
      "30.3%. Run time:  16.43s. Est. time left: 00:00:00:37\n",
      "40.4%. Run time:  22.26s. Est. time left: 00:00:00:32\n",
      "50.5%. Run time:  28.01s. Est. time left: 00:00:00:27\n",
      "60.6%. Run time:  33.91s. Est. time left: 00:00:00:22\n",
      "70.7%. Run time:  39.75s. Est. time left: 00:00:00:16\n",
      "80.8%. Run time:  46.22s. Est. time left: 00:00:00:10\n",
      "90.9%. Run time:  56.15s. Est. time left: 00:00:00:05\n",
      "100.0%. Run time:  63.75s. Est. time left: 00:00:00:00\n",
      "Total run time:  63.75s\n"
     ]
    }
   ],
   "source": [
    "solver = heom.HEOMSolver(H,\n",
    "                          [bath1], max_depth=7, options={\"atol\": 1e-14})\n",
    "result = solver.run(rho0, times)"
   ]
  },
  {
   "cell_type": "code",
   "execution_count": 13,
   "id": "12ac269e-3567-4d7c-a882-0f3a6cc1aaf5",
   "metadata": {},
   "outputs": [
    {
     "name": "stderr",
     "output_type": "stream",
     "text": [
      "Calculating Integrals ...: 100%|████████████████████████████████████████████████████████████████████████████████████████████████| 4/4 [00:01<00:00,  2.00it/s]\n",
      "Calculating time independent matrices...: 100%|████████████████████████████████████████████████████████████████████████████████| 4/4 [00:00<00:00, 295.45it/s]\n",
      "Calculating time dependent generators: 100%|███████████████████████████████████████████████████████████████████████████████████| 4/4 [00:00<00:00, 815.46it/s]\n",
      "Computing Exponential of Generators . . . .: 100%|█████████████████████████████████████████████████████████████████████████| 100/100 [00:00<00:00, 426.55it/s]\n"
     ]
    }
   ],
   "source": [
    "bath.bose=None\n",
    "cum = csolve(\n",
    "    Hsys=H, t=times, baths=[bath],\n",
    "    Qs=[Q],\n",
    "    eps=1e-6, cython=False)\n",
    "\n",
    "result_cum = cum.evolution(rho0)\n",
    "\n",
    "result_cum = rotation(result_cum, H, times)\n",
    "\n",
    "bath.bose=None"
   ]
  },
  {
   "cell_type": "code",
   "execution_count": 15,
   "id": "7dcc4c42-02c3-44bc-b722-51bea0aeb530",
   "metadata": {},
   "outputs": [],
   "source": [
    "red=redfield.redfield(Hsys=H, t=times, baths=[bath],\n",
    "    Qs=[Q],\n",
    "    eps=1e-12,matsubara=False)"
   ]
  },
  {
   "cell_type": "code",
   "execution_count": 16,
   "id": "5f31e9a1-dd7e-4a7c-b753-5bce1415061b",
   "metadata": {},
   "outputs": [
    {
     "name": "stdout",
     "output_type": "stream",
     "text": [
      "Started interpolation\n"
     ]
    }
   ],
   "source": [
    "result_red = red.evolution(rho0)\n"
   ]
  },
  {
   "cell_type": "code",
   "execution_count": 17,
   "id": "0e10d5a6-2ab6-44ee-b87d-fcd010b698a6",
   "metadata": {},
   "outputs": [],
   "source": [
    "result_red = [Qobj(i) for i in result_red]\n",
    "for i in result_red:\n",
    "    i.dims=H.dims"
   ]
  },
  {
   "cell_type": "code",
   "execution_count": 18,
   "id": "e47ee283-94bf-4e38-bba2-add666681148",
   "metadata": {},
   "outputs": [],
   "source": [
    "result_red = rotation(result_red, H, times)"
   ]
  },
  {
   "cell_type": "code",
   "execution_count": 19,
   "id": "30ea04c7-d73c-4fcb-8c05-6fcca10a3a63",
   "metadata": {},
   "outputs": [],
   "source": [
    "a_ops = [[Q, bath.power_spectrum]]\n",
    "resultBR = brmesolve(H, rho0, times, a_ops=a_ops, options={\n",
    "    \"rtol\": 1e-14}, sec_cutoff=-1)\n",
    "\n",
    "a_ops = [[Q, bath.power_spectrum]]\n",
    "resultBR2 = brmesolve(H, rho0, times, a_ops=a_ops, options={\n",
    "    \"rtol\": 1e-14},sec_cutoff=.00000000001)"
   ]
  },
  {
   "cell_type": "code",
   "execution_count": 20,
   "id": "61aa16aa-a37f-40d2-b82c-57a4da1a261d",
   "metadata": {},
   "outputs": [],
   "source": [
    "global_one=cum.jump_operators(Q) # Global Jump Operators for Bath 1 2->4\n"
   ]
  },
  {
   "cell_type": "code",
   "execution_count": 21,
   "id": "974f12da-c149-425c-a5d2-900945ca3e2c",
   "metadata": {},
   "outputs": [],
   "source": [
    "c_ops2=[Qobj((np.sqrt(bath.power_spectrum(k))*v).data) for k, v in global_one.items()]\n",
    "for i in range(len(c_ops2)):\n",
    "    c_ops2[i].dims=H.dims \n",
    "result_lindblad_global2 = mesolve(H, rho0, times, c_ops2)"
   ]
  },
  {
   "cell_type": "code",
   "execution_count": 23,
   "id": "406b2798-10bf-4192-acb3-09867475c25b",
   "metadata": {},
   "outputs": [],
   "source": [
    "Ncutoff=3\n",
    "modes=2\n",
    "bathu = zero_temp_bath(Q, tfit, lam, gamma, w0, N=modes)\n",
    "example = pseudomode(Hsys=H, Q=Q, bath=bathu)"
   ]
  },
  {
   "cell_type": "code",
   "execution_count": 24,
   "id": "62cc5416-26f0-443a-8a97-79398560832b",
   "metadata": {},
   "outputs": [],
   "source": [
    "ans = example.evolution(rho0, Ncutoff, times, options={\n",
    "                        \"atol\": 1e-14, \"normalize_output\": False, \"store_states\": True})\n",
    "ans = [i.ptrace(range(N))for i in ans.states]"
   ]
  },
  {
   "cell_type": "code",
   "execution_count": 33,
   "id": "ee5f0919-e285-4f81-a722-58584c624df1",
   "metadata": {},
   "outputs": [],
   "source": [
    "results=[result,result_cum,resultBR,result_lindblad_global2,result_red,ans]"
   ]
  },
  {
   "cell_type": "code",
   "execution_count": 36,
   "id": "2fc0348d-d15e-461c-b8ac-00bb2d98d3a4",
   "metadata": {},
   "outputs": [],
   "source": [
    "def plot_fidelities(states,H,times):\n",
    "    labels=[\"HEOM\",\"Cumulant\",\"Bloch-redfield\",\"Global\",\"Redfield\",\"Pseudomodes\"]\n",
    "    style=[\"solid\",\"solid\",\"dashed\",\"dashdot\",'dashed',\"solid\"]\n",
    "    for k,i in enumerate(states[1:],1):\n",
    "        try:\n",
    "            sdd=np.array([fidelity(i.states[j],states[0].states[j]) for j in range(len(times))])\n",
    "        except:\n",
    "            sdd=np.array([fidelity(i[j],states[0].states[j]) for j in range(len(times))])\n",
    "        plt.plot(times,sdd,label=labels[k],linestyle=style[k])\n",
    "    plt.legend(fontsize=14)\n",
    "    plt.ylabel(r\"$\\mathcal{F}_{HEOM}$\",fontsize=20)\n",
    "    plt.xlabel(r\"t\",fontsize=20)\n",
    "    plt.show()\n"
   ]
  },
  {
   "cell_type": "code",
   "execution_count": 37,
   "id": "97925ab0-06b7-4ba2-8fbf-c9352d52a665",
   "metadata": {},
   "outputs": [
    {
     "data": {
      "image/png": "[encoded data removed]",
      "text/plain": [
       "<Figure size 640x480 with 1 Axes>"
      ]
     },
     "metadata": {},
     "output_type": "display_data"
    }
   ],
   "source": [
    "plot_fidelities(results,H,times)"
   ]
  },
  {
   "cell_type": "code",
   "execution_count": 39,
   "id": "00a20069-5fca-4ce4-928e-866e1916208e",
   "metadata": {},
   "outputs": [],
   "source": [
    "def trd(states,H,times):\n",
    "    labels=[\"HEOM\",\"Cumulant\",\"Bloch-redfield\",\"Global\",\"Redfield\",\"Pseudomodes\"]\n",
    "    style=[\"solid\",\"solid\",\"dashed\",\"dashdot\",'dashed',\"solid\"]\n",
    "    for k,i in enumerate(states[1:],1):\n",
    "        try:\n",
    "            sdd=np.array([tracedist(i.states[j],states[0].states[j]) for j in range(len(times))])\n",
    "        except:\n",
    "            sdd=np.array([tracedist(i[j],states[0].states[j]) for j in range(len(times))])\n",
    "        plt.plot(times,sdd,label=labels[k],linestyle=style[k])\n",
    "    plt.legend(fontsize=14)\n",
    "    plt.ylabel(r\"$1-TR_{HEOM}$\",fontsize=20)\n",
    "    plt.xlabel(r\"t\",fontsize=20)\n",
    "    plt.show()"
   ]
  },
  {
   "cell_type": "code",
   "execution_count": 40,
   "id": "e720ea2f-3c4b-4d56-8304-99532429aefe",
   "metadata": {},
   "outputs": [
    {
     "data": {
      "image/png": "[encoded data removed]",
      "text/plain": [
       "<Figure size 640x480 with 1 Axes>"
      ]
     },
     "metadata": {},
     "output_type": "display_data"
    }
   ],
   "source": [
    "trd(results,H,times)"
   ]
  },
  {
   "cell_type": "markdown",
   "id": "3fc349ee-e5ff-4fe4-8f4b-d0971d11921d",
   "metadata": {},
   "source": [
    "From what we see in both the trace distance and fidelity plots, the Bloch-Redfield approach does terribly when we consider this scenario (multiple implementations where checked). Notice that this issue seems to be about the coupling operator, rather than the Hamiltonian. Consider a different coupling operator (The real part of the previous one)"
   ]
  },
  {
   "cell_type": "code",
   "execution_count": 48,
   "id": "1954ded4-79cc-4e52-96c5-2a880b78e03f",
   "metadata": {},
   "outputs": [
    {
     "data": {
      "text/latex": [
       "Quantum object: dims=[[4], [4]], shape=(4, 4), type='oper', isherm=True$$\\left(\\begin{array}{cc}0 & 0.530 & 0.442 & 0\\\\0.530 & 0 & 0 & -0.442\\\\0.442 & 0 & 0 & 0.530\\\\0 & -0.442 & 0.530 & 0\\end{array}\\right)$$"
      ],
      "text/plain": [
       "Quantum object: dims=[[4], [4]], shape=(4, 4), type='oper', isherm=True\n",
       "Qobj data =\n",
       "[[ 0.          0.53033009  0.44194174  0.        ]\n",
       " [ 0.53033009  0.          0.         -0.44194174]\n",
       " [ 0.44194174  0.          0.          0.53033009]\n",
       " [ 0.         -0.44194174  0.53033009  0.        ]]"
      ]
     },
     "execution_count": 48,
     "metadata": {},
     "output_type": "execute_result"
    }
   ],
   "source": [
    "Q2=Qobj(np.real(Q.full()))\n",
    "Q2"
   ]
  },
  {
   "cell_type": "code",
   "execution_count": 49,
   "id": "30c64391-c02e-46f3-a26f-56ac2a26ccee",
   "metadata": {},
   "outputs": [
    {
     "name": "stdout",
     "output_type": "stream",
     "text": [
      "Fit correlation class instance: \n",
      " \n",
      "Result of fitting The Real Part Of                                      |Result of fitting The Imaginary Part                                    \n",
      " the Correlation Function with 2 terms:                                 | Of the Correlation Function with 1 terms:                              \n",
      "                                                                        |                                                                        \n",
      " Parameters|    a     |    b     |    c                                 | Parameters|    a     |    b     |    c                                 \n",
      " 1         |-9.49e-02 |-4.50e+00 |5.87e-10                              | 1         |-5.00e-01 |-1.17e+00 |4.65e+00                              \n",
      " 2         | 5.18e-01 |-1.20e+00 |4.64e+00                              |                                                                        \n",
      "                                                                        |A  normalized RMSE of  1.94e-10 was obtained for the The Imaginary Part \n",
      "A  normalized RMSE of  1.74e-05 was obtained for the The Real Part Of   | Of the Correlation Function                                            \n",
      " the Correlation Function                                               |                                                                        \n",
      " The current fit took  0.314202 seconds                                 | The current fit took  0.021121 seconds                                 \n",
      "\n"
     ]
    }
   ],
   "source": [
    "bath = heom.UnderDampedBath(\n",
    "        Q=Q2,\n",
    "        lam=lam, gamma=gamma, w0=w0, T=0, Nk=5) # fix runtime warning\n",
    "cfiitter2 = heom.CorrelationFitter(\n",
    "    Q, 0, tfit, bath.correlation_function)\n",
    "bath1, fit2info = cfiitter2.get_fit(Ni=1, Nr=2)\n",
    "# notice one mode is also a pretty good approximation\n",
    "print(fit2info['summary'])"
   ]
  },
  {
   "cell_type": "code",
   "execution_count": 50,
   "id": "429abc68-f25c-4476-b7ba-f7edf2f47a80",
   "metadata": {},
   "outputs": [
    {
     "name": "stdout",
     "output_type": "stream",
     "text": [
      "10.1%. Run time:   7.31s. Est. time left: 00:00:01:05\n",
      "20.2%. Run time:  15.80s. Est. time left: 00:00:01:02\n",
      "30.3%. Run time:  22.91s. Est. time left: 00:00:00:52\n",
      "40.4%. Run time:  32.29s. Est. time left: 00:00:00:47\n",
      "50.5%. Run time:  40.47s. Est. time left: 00:00:00:39\n",
      "60.6%. Run time:  51.00s. Est. time left: 00:00:00:33\n",
      "70.7%. Run time:  61.15s. Est. time left: 00:00:00:25\n",
      "80.8%. Run time:  70.82s. Est. time left: 00:00:00:16\n",
      "90.9%. Run time:  80.06s. Est. time left: 00:00:00:08\n",
      "100.0%. Run time:  87.82s. Est. time left: 00:00:00:00\n",
      "Total run time:  87.82s\n"
     ]
    }
   ],
   "source": [
    "solver = heom.HEOMSolver(H,\n",
    "                          [bath1], max_depth=7, options={\"atol\": 1e-14})\n",
    "result = solver.run(rho0, times)"
   ]
  },
  {
   "cell_type": "code",
   "execution_count": 51,
   "id": "468dfc07-4015-439c-a56b-b447504f1809",
   "metadata": {},
   "outputs": [
    {
     "name": "stderr",
     "output_type": "stream",
     "text": [
      "Calculating Integrals ...: 100%|████████████████████████████████████████████████████████████████████████████████████████████████| 4/4 [00:03<00:00,  1.28it/s]\n",
      "Calculating time independent matrices...: 100%|████████████████████████████████████████████████████████████████████████████████| 4/4 [00:00<00:00, 472.57it/s]\n",
      "Calculating time dependent generators: 100%|███████████████████████████████████████████████████████████████████████████████████| 4/4 [00:00<00:00, 911.41it/s]\n",
      "Computing Exponential of Generators . . . .: 100%|█████████████████████████████████████████████████████████████████████████| 100/100 [00:00<00:00, 546.26it/s]\n"
     ]
    }
   ],
   "source": [
    "bath.bose=None\n",
    "cum = csolve(\n",
    "    Hsys=H, t=times, baths=[bath],\n",
    "    Qs=[Q],\n",
    "    eps=1e-6, cython=False)\n",
    "\n",
    "result_cum = cum.evolution(rho0)\n",
    "\n",
    "result_cum = rotation(result_cum, H, times)\n",
    "\n",
    "bath.bose=None"
   ]
  },
  {
   "cell_type": "code",
   "execution_count": 52,
   "id": "e86a839f-f06d-4b19-a1f8-f48126bfdd4c",
   "metadata": {},
   "outputs": [],
   "source": [
    "red=redfield.redfield(Hsys=H, t=times, baths=[bath],\n",
    "    Qs=[Q],\n",
    "    eps=1e-12,matsubara=False)"
   ]
  },
  {
   "cell_type": "code",
   "execution_count": 53,
   "id": "dc924e52-85a2-4ac4-b162-5cbe13ffa973",
   "metadata": {},
   "outputs": [
    {
     "name": "stdout",
     "output_type": "stream",
     "text": [
      "Started interpolation\n"
     ]
    }
   ],
   "source": [
    "result_red = red.evolution(rho0)\n",
    "result_red = [Qobj(i) for i in result_red]\n",
    "for i in result_red:\n",
    "    i.dims=H.dims\n",
    "result_red = rotation(result_red, H, times)"
   ]
  },
  {
   "cell_type": "code",
   "execution_count": 54,
   "id": "64bc48be-6e69-4e3d-aa84-fbaec18e010a",
   "metadata": {},
   "outputs": [],
   "source": [
    "a_ops = [[Q, bath.power_spectrum]]\n",
    "resultBR = brmesolve(H, rho0, times, a_ops=a_ops, options={\n",
    "    \"rtol\": 1e-14}, sec_cutoff=-1)\n",
    "\n",
    "a_ops = [[Q, bath.power_spectrum]]\n",
    "resultBR2 = brmesolve(H, rho0, times, a_ops=a_ops, options={\n",
    "    \"rtol\": 1e-14})"
   ]
  },
  {
   "cell_type": "code",
   "execution_count": 55,
   "id": "9bb58373-82a6-44d8-b0e8-c0d0be3fbe0f",
   "metadata": {},
   "outputs": [],
   "source": [
    "global_one=cum.jump_operators(Q) # Global Jump Operators for Bath 1 2->4\n",
    "c_ops2=[Qobj((np.sqrt(bath.power_spectrum(k))*v).data) for k, v in global_one.items()]\n",
    "for i in range(len(c_ops2)):\n",
    "    c_ops2[i].dims=H.dims \n",
    "result_lindblad_global2 = mesolve(H, rho0, times, c_ops2)"
   ]
  },
  {
   "cell_type": "code",
   "execution_count": 56,
   "id": "607e043e-9342-4493-909b-5206626f1b6f",
   "metadata": {},
   "outputs": [],
   "source": [
    "Ncutoff=3\n",
    "modes=2\n",
    "bathu = zero_temp_bath(Q2, tfit, lam, gamma, w0, N=modes)\n",
    "example = pseudomode(Hsys=H, Q=Q2, bath=bathu)"
   ]
  },
  {
   "cell_type": "code",
   "execution_count": 61,
   "id": "4b511b44-3786-43f4-b2d4-dde24070dc8c",
   "metadata": {},
   "outputs": [],
   "source": [
    "Q2.dims=Q.dims"
   ]
  },
  {
   "cell_type": "code",
   "execution_count": null,
   "id": "5499482e-38c9-44c4-b5b3-53be2cec3805",
   "metadata": {},
   "outputs": [],
   "source": [
    "ans = example.evolution(rho0, Ncutoff, times, options={\n",
    "                        \"atol\": 1e-14, \"normalize_output\": False, \"store_states\": True})\n",
    "ans = [i.ptrace(range(N))for i in ans.states]"
   ]
  },
  {
   "cell_type": "code",
   "execution_count": null,
   "id": "5cb2d4c6-929e-4270-b1a4-f378ea329408",
   "metadata": {},
   "outputs": [],
   "source": [
    "results=[result,result_cum,resultBR,result_lindblad_global2,result_red,ans]"
   ]
  },
  {
   "cell_type": "code",
   "execution_count": 28,
   "id": "8871d48f-c573-472f-b22c-7d84d551e2c5",
   "metadata": {},
   "outputs": [],
   "source": [
    "from qutip import qsave,qload"
   ]
  },
  {
   "cell_type": "code",
   "execution_count": null,
   "id": "da1921bc-c0e7-4849-b08f-5e7bb9d8cf00",
   "metadata": {},
   "outputs": [],
   "source": [
    "#qsave(results,f\"N={N}_syk_{lam}_nocheating_seed_{seeds[k]}\")"
   ]
  },
  {
   "cell_type": "code",
   "execution_count": null,
   "id": "3a460aa1-70aa-41fb-b555-c42a4f5d09a9",
   "metadata": {},
   "outputs": [],
   "source": []
  },
  {
   "cell_type": "code",
   "execution_count": null,
   "id": "a8a4780d-45fc-4e81-800e-9353d37ee2b2",
   "metadata": {},
   "outputs": [],
   "source": []
  },
  {
   "cell_type": "code",
   "execution_count": null,
   "id": "a0d410c6-9550-459d-9747-0109a4ba5b70",
   "metadata": {},
   "outputs": [],
   "source": []
  },
  {
   "cell_type": "code",
   "execution_count": null,
   "id": "f045e1e1-8de1-40d8-b356-55c97d49f1db",
   "metadata": {},
   "outputs": [],
   "source": []
  }
 ],
 "metadata": {
  "kernelspec": {
   "display_name": "Python 3 (ipykernel)",
   "language": "python",
   "name": "python3"
  },
  "language_info": {
   "codemirror_mode": {
    "name": "ipython",
    "version": 3
   },
   "file_extension": ".py",
   "mimetype": "text/x-python",
   "name": "python",
   "nbconvert_exporter": "python",
   "pygments_lexer": "ipython3",
   "version": "3.12.2"
  }
 },
 "nbformat": 4,
 "nbformat_minor": 5
}
