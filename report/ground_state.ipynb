{
 "cells": [
  {
   "cell_type": "markdown",
   "id": "cac3a915-aecf-4c65-be4f-6db5b201ba13",
   "metadata": {},
   "source": [
    "Here I start reporting on the ground state finding"
   ]
  },
  {
   "cell_type": "code",
   "execution_count": null,
   "id": "d9fca677-c531-437b-a978-47860954d6db",
   "metadata": {},
   "outputs": [],
   "source": []
  }
 ],
 "metadata": {
  "kernelspec": {
   "display_name": "Python 3 (ipykernel)",
   "language": "python",
   "name": "python3"
  },
  "language_info": {
   "codemirror_mode": {
    "name": "ipython",
    "version": 3
   },
   "file_extension": ".py",
   "mimetype": "text/x-python",
   "name": "python",
   "nbconvert_exporter": "python",
   "pygments_lexer": "ipython3",
   "version": "3.12.2"
  }
 },
 "nbformat": 4,
 "nbformat_minor": 5
}
