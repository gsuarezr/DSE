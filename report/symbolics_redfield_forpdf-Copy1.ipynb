{
 "cells": [
  {
   "cell_type": "markdown",
   "id": "ebedc4f3-cb58-4f65-bf85-01b8f4ee6472",
   "metadata": {
    "editable": true,
    "slideshow": {
     "slide_type": ""
    },
    "tags": []
   },
   "source": [
    "---\n",
    "title: Redfield Issue check \"Analytically\"\n",
    "date: 2024-08-08\n",
    "authors:\n",
    "  - name: Gerardo Suarez\n",
    "---"
   ]
  },
  {
   "cell_type": "markdown",
   "id": "5bfa3334-aef2-4166-b7be-7a75dcb777f4",
   "metadata": {
    "editable": true,
    "slideshow": {
     "slide_type": ""
    },
    "tags": []
   },
   "source": [
    "Since there seems to be an issue with the Bloch-Redfield Solver in qutip and my not so good implementation \n",
    "of the time dependent redfield, here's a quick Analytical check to make sure it's not, by solving the\n",
    "equation for the SYK(2) model symbolically. The Hamiltonian is given by"
   ]
  },
  {
   "cell_type": "code",
   "execution_count": 1,
   "id": "1fdad32f-dbc2-4415-9ce5-eae29880219e",
   "metadata": {
    "editable": true,
    "slideshow": {
     "slide_type": "skip"
    },
    "tags": [
     "no-pdf"
    ]
   },
   "outputs": [],
   "source": [
    "from sympy import *\n",
    "from sympy.physics.quantum import Dagger\n",
    "from sympy import I\n",
    "from collections import defaultdict\n",
    "import numpy as np\n",
    "import itertools\n",
    "from sympy.solvers.ode.systems import dsolve_system"
   ]
  },
  {
   "cell_type": "code",
   "execution_count": 2,
   "id": "2549d5d6",
   "metadata": {
    "editable": true,
    "slideshow": {
     "slide_type": ""
    },
    "tags": [
     "no-pdf"
    ]
   },
   "outputs": [],
   "source": [
    "a = symbols('a',real=True,positive=True)"
   ]
  },
  {
   "cell_type": "code",
   "execution_count": 3,
   "id": "d3b3c382",
   "metadata": {
    "editable": true,
    "slideshow": {
     "slide_type": ""
    },
    "tags": [
     "hide-input"
    ]
   },
   "outputs": [
    {
     "data": {
      "text/latex": [
       "$\\displaystyle H = \\left[\\begin{matrix}- a & 0 & 0 & 0\\\\0 & a & 0 & 0\\\\0 & 0 & a & 0\\\\0 & 0 & 0 & - a\\end{matrix}\\right]$"
      ],
      "text/plain": [
       "Eq(H, Matrix([\n",
       "[-a, 0, 0,  0],\n",
       "[ 0, a, 0,  0],\n",
       "[ 0, 0, a,  0],\n",
       "[ 0, 0, 0, -a]]))"
      ]
     },
     "execution_count": 3,
     "metadata": {},
     "output_type": "execute_result"
    }
   ],
   "source": [
    "H = diag(-a,a,a,-a)#the times 20 is to rescale time\n",
    "Eq(S('H'), H, evaluate=False)"
   ]
  },
  {
   "cell_type": "code",
   "execution_count": 4,
   "id": "75dafc4a",
   "metadata": {
    "editable": true,
    "slideshow": {
     "slide_type": ""
    },
    "tags": [
     "no-pdf"
    ]
   },
   "outputs": [],
   "source": [
    "b= symbols('b0:8')"
   ]
  },
  {
   "cell_type": "markdown",
   "id": "1423a214-512e-4fcd-8f82-7dc28668d027",
   "metadata": {
    "editable": true,
    "slideshow": {
     "slide_type": ""
    },
    "tags": []
   },
   "source": [
    "Here I define the coupling operator $q$ that make things break for Bloch-Redfield on the SYK model"
   ]
  },
  {
   "cell_type": "code",
   "execution_count": 5,
   "id": "c71646f1",
   "metadata": {
    "editable": true,
    "slideshow": {
     "slide_type": ""
    },
    "tags": [
     "no-pdf"
    ]
   },
   "outputs": [],
   "source": [
    "# coupling operator non trivial like in the shinsey ryu paper. This difference is not dramatic for simpler couplings\n",
    "Q = Matrix([[0, b[0] , b[1], 0],\n",
    "              [conjugate(b[0]), 0, 0, -b[1]],\n",
    "              [conjugate(b[1]), 0, 0, b[0]],\n",
    "              [0, -conjugate(b[1]), conjugate(b[0]), 0]])"
   ]
  },
  {
   "cell_type": "code",
   "execution_count": 6,
   "id": "a87b7d80-74ec-42c1-8962-d2cff475cefb",
   "metadata": {
    "editable": true,
    "slideshow": {
     "slide_type": ""
    },
    "tags": [
     "hide-input"
    ],
    "user_expressions": [
     {
      "expression": "Eq(S(\"q\"), Q, evaluate=False)",
      "result": {
       "data": {
        "text/latex": "$\\displaystyle q = \\left[\\begin{matrix}0 & b_{0} - i b_{1} & b_{2} - i b_{3} & 0\\\\b_{0} + i b_{1} & 0 & 0 & - b_{2} + i b_{3}\\\\b_{2} + i b_{3} & 0 & 0 & b_{0} - i b_{1}\\\\0 & - b_{2} - i b_{3} & b_{0} + i b_{1} & 0\\end{matrix}\\right]$",
        "text/plain": "Eq(q, Matrix([\n[        0,  b0 - I*b1, b2 - I*b3,          0],\n[b0 + I*b1,          0,         0, -b2 + I*b3],\n[b2 + I*b3,          0,         0,  b0 - I*b1],\n[        0, -b2 - I*b3, b0 + I*b1,          0]]))"
       },
       "metadata": {},
       "status": "ok"
      }
     }
    ]
   },
   "outputs": [
    {
     "data": {
      "text/latex": [
       "$\\displaystyle q = \\left[\\begin{matrix}0 & b_{0} & b_{1} & 0\\\\\\overline{b_{0}} & 0 & 0 & - b_{1}\\\\\\overline{b_{1}} & 0 & 0 & b_{0}\\\\0 & - \\overline{b_{1}} & \\overline{b_{0}} & 0\\end{matrix}\\right]$"
      ],
      "text/plain": [
       "Eq(q, Matrix([\n",
       "[            0,             b0,            b1,   0],\n",
       "[conjugate(b0),              0,             0, -b1],\n",
       "[conjugate(b1),              0,             0,  b0],\n",
       "[            0, -conjugate(b1), conjugate(b0),   0]]))"
      ]
     },
     "execution_count": 6,
     "metadata": {},
     "output_type": "execute_result"
    }
   ],
   "source": [
    "Eq(S(\"q\"), Q, evaluate=False)"
   ]
  },
  {
   "cell_type": "code",
   "execution_count": 7,
   "id": "b02f8e56",
   "metadata": {
    "editable": true,
    "slideshow": {
     "slide_type": ""
    },
    "tags": [
     "no-pdf"
    ]
   },
   "outputs": [
    {
     "data": {
      "text/plain": [
       "True"
      ]
     },
     "execution_count": 7,
     "metadata": {},
     "output_type": "execute_result"
    }
   ],
   "source": [
    "Dagger(Q) == Q #checking I didn't mess up "
   ]
  },
  {
   "cell_type": "code",
   "execution_count": 8,
   "id": "8403f1b4",
   "metadata": {
    "editable": true,
    "slideshow": {
     "slide_type": ""
    },
    "tags": [
     "no-pdf"
    ]
   },
   "outputs": [],
   "source": [
    "def comm(a,b):\n",
    "    return (a*b-b*a)\n",
    "def acomm(a,b):\n",
    "    return (a*b+b*a)"
   ]
  },
  {
   "cell_type": "markdown",
   "id": "7cb0eec4-bb92-4326-bd69-e0bbd235b196",
   "metadata": {
    "editable": true,
    "slideshow": {
     "slide_type": ""
    },
    "tags": []
   },
   "source": [
    "I then get the eigenvalues and eigenvectors to obtain the jump operators (this steps are hidden in the pdf)"
   ]
  },
  {
   "cell_type": "code",
   "execution_count": 9,
   "id": "88bd8f6b",
   "metadata": {
    "editable": true,
    "slideshow": {
     "slide_type": ""
    },
    "tags": [
     "no-pdf"
    ]
   },
   "outputs": [],
   "source": [
    "basis=H.eigenvects() # I probably don't need this step since the Hamiltonian is\n",
    "# Diagonal\n",
    "energies=[[i[0]]*i[1] for i in basis]\n",
    "energies = [x for xs in energies for x in xs]\n",
    "states = [i[2] for i in basis]\n",
    "states = [x for xs in states for x in xs ]"
   ]
  },
  {
   "cell_type": "code",
   "execution_count": 10,
   "id": "50389ccf",
   "metadata": {
    "editable": true,
    "slideshow": {
     "slide_type": ""
    },
    "tags": [
     "no-pdf"
    ]
   },
   "outputs": [],
   "source": [
    "def jump_operators(H,evals,all_state, Q):\n",
    "    \"\"\"\n",
    "    A function to obtain the jump operators\n",
    "    \"\"\"\n",
    "    collapse_list = []\n",
    "    ws = []\n",
    "    N=len(energies)\n",
    "    for j in range(N):\n",
    "        for k in range(j + 1, N):\n",
    "            Deltajk = evals[k] - evals[j]\n",
    "            ws.append(Deltajk)\n",
    "            collapse_list.append(\n",
    "                (\n",
    "                    all_state[j]\n",
    "                    * Dagger(all_state[j])\n",
    "                    * Q\n",
    "                    * all_state[k]\n",
    "                    * Dagger(all_state[k])\n",
    "                )\n",
    "            )  # emission\n",
    "            ws.append(-Deltajk)\n",
    "            collapse_list.append(\n",
    "                (\n",
    "                    all_state[k]\n",
    "                    * Dagger(all_state[k])\n",
    "                    * Q\n",
    "                    * all_state[j]\n",
    "                    * Dagger(all_state[j])\n",
    "                )\n",
    "            )  # absorption\n",
    "    collapse_list.append(Q - sum(collapse_list,zeros(N)))  # Dephasing\n",
    "    ws.append(0)\n",
    "    output = defaultdict(list)\n",
    "    for k, key in enumerate(ws):\n",
    "        output[key].append(collapse_list[k])\n",
    "    eldict = {x: sum(y, zeros(N)) for x, y in output.items()}\n",
    "    dictrem = {}\n",
    "    empty = 0*H\n",
    "    for keys, values in eldict.items():\n",
    "        if not (values == empty):\n",
    "            dictrem[keys] = values\n",
    "    return dictrem"
   ]
  },
  {
   "cell_type": "code",
   "execution_count": 11,
   "id": "6460d318",
   "metadata": {
    "editable": true,
    "slideshow": {
     "slide_type": ""
    },
    "tags": [
     "no-pdf"
    ]
   },
   "outputs": [],
   "source": [
    "jumps=jump_operators(H,energies,states,Q)"
   ]
  },
  {
   "cell_type": "code",
   "execution_count": 12,
   "id": "fbdeacfb-4beb-42c0-8e44-b83c53170c0c",
   "metadata": {
    "editable": true,
    "slideshow": {
     "slide_type": ""
    },
    "tags": [
     "hide-input"
    ]
   },
   "outputs": [
    {
     "data": {
      "text/latex": [
       "$\\displaystyle A{\\left(2 a \\right)} = \\left[\\begin{matrix}0 & b_{0} & b_{1} & 0\\\\0 & 0 & 0 & 0\\\\0 & 0 & 0 & 0\\\\0 & - \\overline{b_{1}} & \\overline{b_{0}} & 0\\end{matrix}\\right]$"
      ],
      "text/plain": [
       "Eq(A(2*a), Matrix([\n",
       "[0,             b0,            b1, 0],\n",
       "[0,              0,             0, 0],\n",
       "[0,              0,             0, 0],\n",
       "[0, -conjugate(b1), conjugate(b0), 0]]))"
      ]
     },
     "metadata": {},
     "output_type": "display_data"
    },
    {
     "data": {
      "text/latex": [
       "$\\displaystyle A{\\left(- 2 a \\right)} = \\left[\\begin{matrix}0 & 0 & 0 & 0\\\\\\overline{b_{0}} & 0 & 0 & - b_{1}\\\\\\overline{b_{1}} & 0 & 0 & b_{0}\\\\0 & 0 & 0 & 0\\end{matrix}\\right]$"
      ],
      "text/plain": [
       "Eq(A(-2*a), Matrix([\n",
       "[            0, 0, 0,   0],\n",
       "[conjugate(b0), 0, 0, -b1],\n",
       "[conjugate(b1), 0, 0,  b0],\n",
       "[            0, 0, 0,   0]]))"
      ]
     },
     "metadata": {},
     "output_type": "display_data"
    }
   ],
   "source": [
    "for key,value in jumps.items():\n",
    "    display(Eq(S(f\"A({key})\"), value, evaluate=False))"
   ]
  },
  {
   "cell_type": "markdown",
   "id": "dfcac538-9434-4da6-8160-554e9aa00b12",
   "metadata": {
    "editable": true,
    "slideshow": {
     "slide_type": ""
    },
    "tags": []
   },
   "source": [
    "### Jump operator checks\n",
    "\n",
    "The jump operators must satisfy\n",
    "\n",
    "$$[H,A(\\omega)]=-\\omega A(\\omega)$$\n",
    "$$[H,A^{\\dagger}(\\omega) A(\\omega)]=0$$\n",
    "$$\\sum_{w} A(\\omega)= A$$\n"
   ]
  },
  {
   "cell_type": "code",
   "execution_count": 13,
   "id": "8dfbad5b",
   "metadata": {
    "editable": true,
    "slideshow": {
     "slide_type": ""
    },
    "tags": [
     "no-pdf"
    ]
   },
   "outputs": [
    {
     "data": {
      "text/plain": [
       "True"
      ]
     },
     "execution_count": 13,
     "metadata": {},
     "output_type": "execute_result"
    }
   ],
   "source": [
    "comm(H,jumps[2*a])/(-2*a) == jumps[2*a] #checking jump decomposition is fine"
   ]
  },
  {
   "cell_type": "code",
   "execution_count": 14,
   "id": "46bf0622",
   "metadata": {
    "editable": true,
    "slideshow": {
     "slide_type": ""
    },
    "tags": [
     "no-pdf"
    ]
   },
   "outputs": [
    {
     "data": {
      "text/plain": [
       "True"
      ]
     },
     "execution_count": 14,
     "metadata": {},
     "output_type": "execute_result"
    }
   ],
   "source": [
    "comm(H,Dagger(jumps[2*a])*jumps[2*a]) == zeros(4)"
   ]
  },
  {
   "cell_type": "code",
   "execution_count": 15,
   "id": "6ce5fc0c",
   "metadata": {
    "editable": true,
    "slideshow": {
     "slide_type": ""
    },
    "tags": [
     "no-pdf"
    ]
   },
   "outputs": [
    {
     "data": {
      "text/plain": [
       "True"
      ]
     },
     "execution_count": 15,
     "metadata": {},
     "output_type": "execute_result"
    }
   ],
   "source": [
    "jumps[2*a]+jumps[-2*a]==Q"
   ]
  },
  {
   "cell_type": "markdown",
   "id": "20c97cc3",
   "metadata": {
    "editable": true,
    "slideshow": {
     "slide_type": ""
    },
    "tags": []
   },
   "source": [
    "### Constucting the Differential equations\n",
    "We now construct the differential equations from the GKLS form of the bloch \n",
    "Redfield generator\n",
    "\n",
    "$$\\begin{aligned}\n",
    "     \\dot{\\rho_{S}^{I}(t)}{t} &=\n",
    "    \\sum_{\\omega,\\omega',\\alpha,\\beta} \\gamma_{\\beta,\\alpha}(\\omega,\\omega')  \\left( S_{\\alpha}(\\omega')  \\rho^{I}_{S}(t) S^{\\dagger}_{\\beta}(\\omega)- \\frac{ \\{S^{\\dagger}_{\\beta}(\\omega) S_{\\alpha}(\\omega'),\\rho^{I}_{S}(t)\\}}{2} \\right) \\nonumber \\\\\n",
    "    &+i \\sum_{\\omega,\\omega',\\alpha,\\beta} S_{\\beta,\\alpha}(\\omega,\\omega') \\Big[ \\rho^{I}_{S}(t), S^{\\dagger}_{\\beta}(\\omega) S_{\\alpha}(\\omega')\\Big]\\end{aligned}$$\n",
    "\n",
    "I solve in the interaction picture generally, I did the same in my numerics so it should not be an issue (I rotate in the end).\n",
    "By neglecting Lambshift as in the numerics\n",
    "\n",
    "$$\\dot{\\rho_{S}^{I}(t)}{t} =\n",
    "    \\sum_{\\omega,\\omega',\\alpha,\\beta} \\gamma_{\\beta,\\alpha}(\\omega,\\omega')  \\left( S_{\\alpha}(\\omega')  \\rho^{I}_{S}(t) S^{\\dagger}_{\\beta}(\\omega)- \\frac{ \\{S^{\\dagger}_{\\beta}(\\omega) S_{\\alpha}(\\omega'),\\rho^{I}_{S}(t)\\}}{2} \\right)$$\n"
   ]
  },
  {
   "cell_type": "code",
   "execution_count": 16,
   "id": "a7b082cd",
   "metadata": {
    "editable": true,
    "slideshow": {
     "slide_type": ""
    },
    "tags": [
     "no-pdf"
    ]
   },
   "outputs": [
    {
     "data": {
      "text/latex": [
       "$\\displaystyle \\rho = \\left[\\begin{matrix}\\rho_{1} & \\rho_{2} & \\rho_{3} & \\rho_{4}\\\\\\overline{\\rho_{2}} & \\rho_{6} & \\overline{\\rho_{10}} & \\rho_{8}\\\\\\overline{\\rho_{3}} & \\rho_{10} & \\rho_{11} & \\rho_{12}\\\\\\overline{\\rho_{4}} & \\overline{\\rho_{8}} & \\overline{\\rho_{12}} & - \\rho_{1} - \\rho_{11} - \\rho_{6} + 1\\end{matrix}\\right]$"
      ],
      "text/plain": [
       "Eq(rho, Matrix([\n",
       "[           rho_1,            rho_2,             rho_3,                       rho_4],\n",
       "[conjugate(rho_2),            rho_6, conjugate(rho_10),                       rho_8],\n",
       "[conjugate(rho_3),           rho_10,            rho_11,                      rho_12],\n",
       "[conjugate(rho_4), conjugate(rho_8), conjugate(rho_12), -rho_1 - rho_11 - rho_6 + 1]]))"
      ]
     },
     "execution_count": 16,
     "metadata": {},
     "output_type": "execute_result"
    }
   ],
   "source": [
    "# Simply define the symbolic density operator\n",
    "rho = symbols('rho_1:17')\n",
    "rho = Matrix(\n",
    "    [rho[0: 4],\n",
    "     rho[4: 8],\n",
    "     rho[8: 12],\n",
    "     rho[12:]]).subs(\n",
    "    rho[-1],\n",
    "    1 - rho[0] - rho[5] - rho[10])\n",
    "rho=rho.subs({rho[4]: conjugate(rho[1]), rho[8]: conjugate(rho[2]),\n",
    "          rho[12]:conjugate(rho[3]),rho[6]:conjugate(rho[9]),\n",
    "          rho[13]: conjugate(rho[7]), rho[14]:conjugate(rho[11])})\n",
    "Eq(S('rho'), rho, evaluate=False)\n"
   ]
  },
  {
   "cell_type": "markdown",
   "id": "bc69523a",
   "metadata": {},
   "source": [
    "By hand I only need (2a,2a),(-2a,2a),(2a,-2a)"
   ]
  },
  {
   "cell_type": "code",
   "execution_count": 38,
   "id": "d28fc3f9",
   "metadata": {},
   "outputs": [
    {
     "data": {
      "text/latex": [
       "$\\displaystyle \\left[\\begin{matrix}b_{0} \\overline{b_{1}} \\overline{\\rho_{10}} + b_{1} \\rho_{10} \\overline{b_{0}} + \\rho_{11} \\left|{b_{1}}\\right|^{2} + \\rho_{6} \\left|{b_{0}}\\right|^{2} & \\frac{\\rho_{2} \\left(- \\left|{b_{0}}\\right|^{2} - \\left|{b_{1}}\\right|^{2}\\right)}{2} & \\frac{\\rho_{3} \\left(- \\left|{b_{0}}\\right|^{2} - \\left|{b_{1}}\\right|^{2}\\right)}{2} & b_{0}^{2} \\overline{\\rho_{10}} + b_{0} b_{1} \\rho_{11} - b_{0} b_{1} \\rho_{6} - b_{1}^{2} \\rho_{10}\\\\\\frac{\\left(- \\left|{b_{0}}\\right|^{2} - \\left|{b_{1}}\\right|^{2}\\right) \\overline{\\rho_{2}}}{2} & \\rho_{6} \\left(- \\left|{b_{0}}\\right|^{2} - \\left|{b_{1}}\\right|^{2}\\right) & \\left(- \\left|{b_{0}}\\right|^{2} - \\left|{b_{1}}\\right|^{2}\\right) \\overline{\\rho_{10}} & \\frac{\\rho_{8} \\left(- \\left|{b_{0}}\\right|^{2} - \\left|{b_{1}}\\right|^{2}\\right)}{2}\\\\\\frac{\\left(- \\left|{b_{0}}\\right|^{2} - \\left|{b_{1}}\\right|^{2}\\right) \\overline{\\rho_{3}}}{2} & \\rho_{10} \\left(- \\left|{b_{0}}\\right|^{2} - \\left|{b_{1}}\\right|^{2}\\right) & \\rho_{11} \\left(- \\left|{b_{0}}\\right|^{2} - \\left|{b_{1}}\\right|^{2}\\right) & \\frac{\\rho_{12} \\left(- \\left|{b_{0}}\\right|^{2} - \\left|{b_{1}}\\right|^{2}\\right)}{2}\\\\\\rho_{10} \\overline{b_{0}}^{2} + \\rho_{11} \\overline{b_{0}} \\overline{b_{1}} - \\rho_{6} \\overline{b_{0}} \\overline{b_{1}} - \\overline{b_{1}}^{2} \\overline{\\rho_{10}} & \\frac{\\left(- \\left|{b_{0}}\\right|^{2} - \\left|{b_{1}}\\right|^{2}\\right) \\overline{\\rho_{8}}}{2} & \\frac{\\left(- \\left|{b_{0}}\\right|^{2} - \\left|{b_{1}}\\right|^{2}\\right) \\overline{\\rho_{12}}}{2} & - b_{0} \\overline{b_{1}} \\overline{\\rho_{10}} - b_{1} \\rho_{10} \\overline{b_{0}} + \\rho_{11} \\left|{b_{0}}\\right|^{2} + \\rho_{6} \\left|{b_{1}}\\right|^{2}\\end{matrix}\\right]$"
      ],
      "text/plain": [
       "Matrix([\n",
       "[                                  b0*conjugate(b1)*conjugate(rho_10) + b1*rho_10*conjugate(b0) + rho_11*Abs(b1)**2 + rho_6*Abs(b0)**2,            rho_2*(-Abs(b0)**2 - Abs(b1)**2)/2,             rho_3*(-Abs(b0)**2 - Abs(b1)**2)/2,                                  b0**2*conjugate(rho_10) + b0*b1*rho_11 - b0*b1*rho_6 - b1**2*rho_10],\n",
       "[                                                                                        (-Abs(b0)**2 - Abs(b1)**2)*conjugate(rho_2)/2,              rho_6*(-Abs(b0)**2 - Abs(b1)**2),   (-Abs(b0)**2 - Abs(b1)**2)*conjugate(rho_10),                                                                   rho_8*(-Abs(b0)**2 - Abs(b1)**2)/2],\n",
       "[                                                                                        (-Abs(b0)**2 - Abs(b1)**2)*conjugate(rho_3)/2,             rho_10*(-Abs(b0)**2 - Abs(b1)**2),              rho_11*(-Abs(b0)**2 - Abs(b1)**2),                                                                  rho_12*(-Abs(b0)**2 - Abs(b1)**2)/2],\n",
       "[rho_10*conjugate(b0)**2 + rho_11*conjugate(b0)*conjugate(b1) - rho_6*conjugate(b0)*conjugate(b1) - conjugate(b1)**2*conjugate(rho_10), (-Abs(b0)**2 - Abs(b1)**2)*conjugate(rho_8)/2, (-Abs(b0)**2 - Abs(b1)**2)*conjugate(rho_12)/2, -b0*conjugate(b1)*conjugate(rho_10) - b1*rho_10*conjugate(b0) + rho_11*Abs(b0)**2 + rho_6*Abs(b1)**2]])"
      ]
     },
     "execution_count": 38,
     "metadata": {},
     "output_type": "execute_result"
    }
   ],
   "source": [
    "Lww=jumps[2*a]*rho *Dagger(jumps[2*a]) - acomm(Dagger(jumps[2*a])*jumps[2*a],rho)/2\n",
    "Lww=simplify(Lww.expand().subs(b[0]*conjugate(b[0]),abs(b[0])**2).subs(b[1]*conjugate(b[1]),abs(b[1])**2))\n",
    "Lww"
   ]
  },
  {
   "cell_type": "code",
   "execution_count": 39,
   "id": "35da8149",
   "metadata": {},
   "outputs": [
    {
     "data": {
      "text/latex": [
       "$\\displaystyle \\left[\\begin{matrix}b_{0} \\overline{b_{1}} \\overline{\\rho_{10}} + b_{1} \\rho_{10} \\overline{b_{0}} + \\rho_{11} \\left|{b_{1}}\\right|^{2} + \\rho_{6} \\left|{b_{0}}\\right|^{2} & \\frac{\\rho_{2} \\left(- \\left|{b_{0}}\\right|^{2} - \\left|{b_{1}}\\right|^{2}\\right)}{2} & \\frac{\\rho_{3} \\left(- \\left|{b_{0}}\\right|^{2} - \\left|{b_{1}}\\right|^{2}\\right)}{2} & b_{0}^{2} \\overline{\\rho_{10}} + b_{0} b_{1} \\rho_{11} - b_{0} b_{1} \\rho_{6} - b_{1}^{2} \\rho_{10}\\\\\\frac{\\left(- \\left|{b_{0}}\\right|^{2} - \\left|{b_{1}}\\right|^{2}\\right) \\overline{\\rho_{2}}}{2} & \\rho_{6} \\left(- \\left|{b_{0}}\\right|^{2} - \\left|{b_{1}}\\right|^{2}\\right) & \\left(- \\left|{b_{0}}\\right|^{2} - \\left|{b_{1}}\\right|^{2}\\right) \\overline{\\rho_{10}} & \\frac{\\rho_{8} \\left(- \\left|{b_{0}}\\right|^{2} - \\left|{b_{1}}\\right|^{2}\\right)}{2}\\\\\\frac{\\left(- \\left|{b_{0}}\\right|^{2} - \\left|{b_{1}}\\right|^{2}\\right) \\overline{\\rho_{3}}}{2} & \\rho_{10} \\left(- \\left|{b_{0}}\\right|^{2} - \\left|{b_{1}}\\right|^{2}\\right) & \\rho_{11} \\left(- \\left|{b_{0}}\\right|^{2} - \\left|{b_{1}}\\right|^{2}\\right) & \\frac{\\rho_{12} \\left(- \\left|{b_{0}}\\right|^{2} - \\left|{b_{1}}\\right|^{2}\\right)}{2}\\\\\\rho_{10} \\overline{b_{0}}^{2} + \\rho_{11} \\overline{b_{0}} \\overline{b_{1}} - \\rho_{6} \\overline{b_{0}} \\overline{b_{1}} - \\overline{b_{1}}^{2} \\overline{\\rho_{10}} & \\frac{\\left(- \\left|{b_{0}}\\right|^{2} - \\left|{b_{1}}\\right|^{2}\\right) \\overline{\\rho_{8}}}{2} & \\frac{\\left(- \\left|{b_{0}}\\right|^{2} - \\left|{b_{1}}\\right|^{2}\\right) \\overline{\\rho_{12}}}{2} & - b_{0} \\overline{b_{1}} \\overline{\\rho_{10}} - b_{1} \\rho_{10} \\overline{b_{0}} + \\rho_{11} \\left|{b_{0}}\\right|^{2} + \\rho_{6} \\left|{b_{1}}\\right|^{2}\\end{matrix}\\right]$"
      ],
      "text/plain": [
       "Matrix([\n",
       "[                                  b0*conjugate(b1)*conjugate(rho_10) + b1*rho_10*conjugate(b0) + rho_11*Abs(b1)**2 + rho_6*Abs(b0)**2,            rho_2*(-Abs(b0)**2 - Abs(b1)**2)/2,             rho_3*(-Abs(b0)**2 - Abs(b1)**2)/2,                                  b0**2*conjugate(rho_10) + b0*b1*rho_11 - b0*b1*rho_6 - b1**2*rho_10],\n",
       "[                                                                                        (-Abs(b0)**2 - Abs(b1)**2)*conjugate(rho_2)/2,              rho_6*(-Abs(b0)**2 - Abs(b1)**2),   (-Abs(b0)**2 - Abs(b1)**2)*conjugate(rho_10),                                                                   rho_8*(-Abs(b0)**2 - Abs(b1)**2)/2],\n",
       "[                                                                                        (-Abs(b0)**2 - Abs(b1)**2)*conjugate(rho_3)/2,             rho_10*(-Abs(b0)**2 - Abs(b1)**2),              rho_11*(-Abs(b0)**2 - Abs(b1)**2),                                                                  rho_12*(-Abs(b0)**2 - Abs(b1)**2)/2],\n",
       "[rho_10*conjugate(b0)**2 + rho_11*conjugate(b0)*conjugate(b1) - rho_6*conjugate(b0)*conjugate(b1) - conjugate(b1)**2*conjugate(rho_10), (-Abs(b0)**2 - Abs(b1)**2)*conjugate(rho_8)/2, (-Abs(b0)**2 - Abs(b1)**2)*conjugate(rho_12)/2, -b0*conjugate(b1)*conjugate(rho_10) - b1*rho_10*conjugate(b0) + rho_11*Abs(b0)**2 + rho_6*Abs(b1)**2]])"
      ]
     },
     "execution_count": 39,
     "metadata": {},
     "output_type": "execute_result"
    }
   ],
   "source": [
    "Lw1w=jumps[-2*a]*rho *Dagger(jumps[2*a]) - acomm(Dagger(jumps[2*a])*jumps[-2*a],rho)/2\n",
    "Lw1w=simplify(Lww.expand().subs(b[0]*conjugate(b[0]),abs(b[0])**2).subs(b[1]*conjugate(b[1]),abs(b[1])**2))\n",
    "Lw1w"
   ]
  },
  {
   "cell_type": "code",
   "execution_count": 40,
   "id": "3879c76c",
   "metadata": {},
   "outputs": [
    {
     "data": {
      "text/latex": [
       "$\\displaystyle \\left[\\begin{matrix}b_{0} \\overline{b_{1}} \\overline{\\rho_{10}} + b_{1} \\rho_{10} \\overline{b_{0}} + \\rho_{11} \\left|{b_{1}}\\right|^{2} + \\rho_{6} \\left|{b_{0}}\\right|^{2} & \\frac{\\rho_{2} \\left(- \\left|{b_{0}}\\right|^{2} - \\left|{b_{1}}\\right|^{2}\\right)}{2} & \\frac{\\rho_{3} \\left(- \\left|{b_{0}}\\right|^{2} - \\left|{b_{1}}\\right|^{2}\\right)}{2} & b_{0}^{2} \\overline{\\rho_{10}} + b_{0} b_{1} \\rho_{11} - b_{0} b_{1} \\rho_{6} - b_{1}^{2} \\rho_{10}\\\\\\frac{\\left(- \\left|{b_{0}}\\right|^{2} - \\left|{b_{1}}\\right|^{2}\\right) \\overline{\\rho_{2}}}{2} & \\rho_{6} \\left(- \\left|{b_{0}}\\right|^{2} - \\left|{b_{1}}\\right|^{2}\\right) & \\left(- \\left|{b_{0}}\\right|^{2} - \\left|{b_{1}}\\right|^{2}\\right) \\overline{\\rho_{10}} & \\frac{\\rho_{8} \\left(- \\left|{b_{0}}\\right|^{2} - \\left|{b_{1}}\\right|^{2}\\right)}{2}\\\\\\frac{\\left(- \\left|{b_{0}}\\right|^{2} - \\left|{b_{1}}\\right|^{2}\\right) \\overline{\\rho_{3}}}{2} & \\rho_{10} \\left(- \\left|{b_{0}}\\right|^{2} - \\left|{b_{1}}\\right|^{2}\\right) & \\rho_{11} \\left(- \\left|{b_{0}}\\right|^{2} - \\left|{b_{1}}\\right|^{2}\\right) & \\frac{\\rho_{12} \\left(- \\left|{b_{0}}\\right|^{2} - \\left|{b_{1}}\\right|^{2}\\right)}{2}\\\\\\rho_{10} \\overline{b_{0}}^{2} + \\rho_{11} \\overline{b_{0}} \\overline{b_{1}} - \\rho_{6} \\overline{b_{0}} \\overline{b_{1}} - \\overline{b_{1}}^{2} \\overline{\\rho_{10}} & \\frac{\\left(- \\left|{b_{0}}\\right|^{2} - \\left|{b_{1}}\\right|^{2}\\right) \\overline{\\rho_{8}}}{2} & \\frac{\\left(- \\left|{b_{0}}\\right|^{2} - \\left|{b_{1}}\\right|^{2}\\right) \\overline{\\rho_{12}}}{2} & - b_{0} \\overline{b_{1}} \\overline{\\rho_{10}} - b_{1} \\rho_{10} \\overline{b_{0}} + \\rho_{11} \\left|{b_{0}}\\right|^{2} + \\rho_{6} \\left|{b_{1}}\\right|^{2}\\end{matrix}\\right]$"
      ],
      "text/plain": [
       "Matrix([\n",
       "[                                  b0*conjugate(b1)*conjugate(rho_10) + b1*rho_10*conjugate(b0) + rho_11*Abs(b1)**2 + rho_6*Abs(b0)**2,            rho_2*(-Abs(b0)**2 - Abs(b1)**2)/2,             rho_3*(-Abs(b0)**2 - Abs(b1)**2)/2,                                  b0**2*conjugate(rho_10) + b0*b1*rho_11 - b0*b1*rho_6 - b1**2*rho_10],\n",
       "[                                                                                        (-Abs(b0)**2 - Abs(b1)**2)*conjugate(rho_2)/2,              rho_6*(-Abs(b0)**2 - Abs(b1)**2),   (-Abs(b0)**2 - Abs(b1)**2)*conjugate(rho_10),                                                                   rho_8*(-Abs(b0)**2 - Abs(b1)**2)/2],\n",
       "[                                                                                        (-Abs(b0)**2 - Abs(b1)**2)*conjugate(rho_3)/2,             rho_10*(-Abs(b0)**2 - Abs(b1)**2),              rho_11*(-Abs(b0)**2 - Abs(b1)**2),                                                                  rho_12*(-Abs(b0)**2 - Abs(b1)**2)/2],\n",
       "[rho_10*conjugate(b0)**2 + rho_11*conjugate(b0)*conjugate(b1) - rho_6*conjugate(b0)*conjugate(b1) - conjugate(b1)**2*conjugate(rho_10), (-Abs(b0)**2 - Abs(b1)**2)*conjugate(rho_8)/2, (-Abs(b0)**2 - Abs(b1)**2)*conjugate(rho_12)/2, -b0*conjugate(b1)*conjugate(rho_10) - b1*rho_10*conjugate(b0) + rho_11*Abs(b0)**2 + rho_6*Abs(b1)**2]])"
      ]
     },
     "execution_count": 40,
     "metadata": {},
     "output_type": "execute_result"
    }
   ],
   "source": [
    "Lww1=jumps[-2*a]*rho *Dagger(jumps[2*a]) - acomm(Dagger(jumps[2*a])*jumps[-2*a],rho)/2\n",
    "Lww1=simplify(Lww.expand().subs(b[0]*conjugate(b[0]),abs(b[0])**2).subs(b[1]*conjugate(b[1]),abs(b[1])**2))\n",
    "Lww1"
   ]
  },
  {
   "cell_type": "code",
   "execution_count": 41,
   "id": "1ee6c6be",
   "metadata": {},
   "outputs": [
    {
     "data": {
      "text/latex": [
       "$\\displaystyle \\left[\\begin{matrix}b_{3} \\left(4 b_{0} \\overline{b_{1}} \\overline{\\rho_{10}} + 4 b_{1} \\rho_{10} \\overline{b_{0}} + 4 \\rho_{11} \\left|{b_{1}}\\right|^{2} + 4 \\rho_{6} \\left|{b_{0}}\\right|^{2}\\right) & - 2 i a \\rho_{2} - 2 b_{3} \\rho_{2} \\left(\\left|{b_{0}}\\right|^{2} + \\left|{b_{1}}\\right|^{2}\\right) & - 2 i a \\rho_{3} - 2 b_{3} \\rho_{3} \\left(\\left|{b_{0}}\\right|^{2} + \\left|{b_{1}}\\right|^{2}\\right) & b_{3} \\left(4 b_{0}^{2} \\overline{\\rho_{10}} + 4 b_{0} b_{1} \\rho_{11} - 4 b_{0} b_{1} \\rho_{6} - 4 b_{1}^{2} \\rho_{10}\\right)\\\\2 i a \\overline{\\rho_{2}} - 2 b_{3} \\left(\\left|{b_{0}}\\right|^{2} + \\left|{b_{1}}\\right|^{2}\\right) \\overline{\\rho_{2}} & - 4 b_{3} \\rho_{6} \\left(\\left|{b_{0}}\\right|^{2} + \\left|{b_{1}}\\right|^{2}\\right) & - 4 b_{3} \\left(\\left|{b_{0}}\\right|^{2} + \\left|{b_{1}}\\right|^{2}\\right) \\overline{\\rho_{10}} & 2 i a \\rho_{8} - 2 b_{3} \\rho_{8} \\left(\\left|{b_{0}}\\right|^{2} + \\left|{b_{1}}\\right|^{2}\\right)\\\\2 i a \\overline{\\rho_{3}} - 2 b_{3} \\left(\\left|{b_{0}}\\right|^{2} + \\left|{b_{1}}\\right|^{2}\\right) \\overline{\\rho_{3}} & - 4 b_{3} \\rho_{10} \\left(\\left|{b_{0}}\\right|^{2} + \\left|{b_{1}}\\right|^{2}\\right) & - 4 b_{3} \\rho_{11} \\left(\\left|{b_{0}}\\right|^{2} + \\left|{b_{1}}\\right|^{2}\\right) & 2 i a \\rho_{12} - 2 b_{3} \\rho_{12} \\left(\\left|{b_{0}}\\right|^{2} + \\left|{b_{1}}\\right|^{2}\\right)\\\\b_{3} \\left(4 \\rho_{10} \\overline{b_{0}}^{2} + 4 \\rho_{11} \\overline{b_{0}} \\overline{b_{1}} - 4 \\rho_{6} \\overline{b_{0}} \\overline{b_{1}} - 4 \\overline{b_{1}}^{2} \\overline{\\rho_{10}}\\right) & - 2 i a \\overline{\\rho_{8}} - 2 b_{3} \\left(\\left|{b_{0}}\\right|^{2} + \\left|{b_{1}}\\right|^{2}\\right) \\overline{\\rho_{8}} & - 2 i a \\overline{\\rho_{12}} - 2 b_{3} \\left(\\left|{b_{0}}\\right|^{2} + \\left|{b_{1}}\\right|^{2}\\right) \\overline{\\rho_{12}} & b_{3} \\left(- 4 b_{0} \\overline{b_{1}} \\overline{\\rho_{10}} - 4 b_{1} \\rho_{10} \\overline{b_{0}} + 4 \\rho_{11} \\left|{b_{0}}\\right|^{2} + 4 \\rho_{6} \\left|{b_{1}}\\right|^{2}\\right)\\end{matrix}\\right]$"
      ],
      "text/plain": [
       "Matrix([\n",
       "[                                  b3*(4*b0*conjugate(b1)*conjugate(rho_10) + 4*b1*rho_10*conjugate(b0) + 4*rho_11*Abs(b1)**2 + 4*rho_6*Abs(b0)**2),                       -2*I*a*rho_2 - 2*b3*rho_2*(Abs(b0)**2 + Abs(b1)**2),                         -2*I*a*rho_3 - 2*b3*rho_3*(Abs(b0)**2 + Abs(b1)**2),                                  b3*(4*b0**2*conjugate(rho_10) + 4*b0*b1*rho_11 - 4*b0*b1*rho_6 - 4*b1**2*rho_10)],\n",
       "[                                                                          2*I*a*conjugate(rho_2) - 2*b3*(Abs(b0)**2 + Abs(b1)**2)*conjugate(rho_2),                                     -4*b3*rho_6*(Abs(b0)**2 + Abs(b1)**2),                           -4*b3*(Abs(b0)**2 + Abs(b1)**2)*conjugate(rho_10),                                                                2*I*a*rho_8 - 2*b3*rho_8*(Abs(b0)**2 + Abs(b1)**2)],\n",
       "[                                                                          2*I*a*conjugate(rho_3) - 2*b3*(Abs(b0)**2 + Abs(b1)**2)*conjugate(rho_3),                                    -4*b3*rho_10*(Abs(b0)**2 + Abs(b1)**2),                                      -4*b3*rho_11*(Abs(b0)**2 + Abs(b1)**2),                                                              2*I*a*rho_12 - 2*b3*rho_12*(Abs(b0)**2 + Abs(b1)**2)],\n",
       "[b3*(4*rho_10*conjugate(b0)**2 + 4*rho_11*conjugate(b0)*conjugate(b1) - 4*rho_6*conjugate(b0)*conjugate(b1) - 4*conjugate(b1)**2*conjugate(rho_10)), -2*I*a*conjugate(rho_8) - 2*b3*(Abs(b0)**2 + Abs(b1)**2)*conjugate(rho_8), -2*I*a*conjugate(rho_12) - 2*b3*(Abs(b0)**2 + Abs(b1)**2)*conjugate(rho_12), b3*(-4*b0*conjugate(b1)*conjugate(rho_10) - 4*b1*rho_10*conjugate(b0) + 4*rho_11*Abs(b0)**2 + 4*rho_6*Abs(b1)**2)]])"
      ]
     },
     "execution_count": 41,
     "metadata": {},
     "output_type": "execute_result"
    }
   ],
   "source": [
    "generator=b[3]*simplify(2*Lww+Lww1+Lw1w) + I*comm(H,rho)\n",
    "generator"
   ]
  },
  {
   "cell_type": "code",
   "execution_count": 42,
   "id": "66bfddf6-9000-4cb3-8c0c-8b5cb0264ca2",
   "metadata": {
    "editable": true,
    "slideshow": {
     "slide_type": ""
    },
    "tags": [
     "no-pdf"
    ]
   },
   "outputs": [],
   "source": [
    "mgene = Matrix(list(generator))\n",
    "rhom=Matrix(list(rho))"
   ]
  },
  {
   "cell_type": "code",
   "execution_count": 43,
   "id": "e3d2300f",
   "metadata": {},
   "outputs": [],
   "source": [
    "t=Symbol('t',reals=True)"
   ]
  },
  {
   "cell_type": "code",
   "execution_count": 34,
   "id": "ccf41e97-d165-4f1a-8105-816312a19b0a",
   "metadata": {
    "editable": true,
    "slideshow": {
     "slide_type": ""
    },
    "tags": [
     "no-pdf"
    ]
   },
   "outputs": [],
   "source": [
    "rhof = symbols('rho_1:17',cls=Function) # This is necessary to solve the differential equation\n",
    "to_funcs={i:rhof[k](t) for k,i in enumerate(rhom)} #could have done so from the beginning though"
   ]
  },
  {
   "cell_type": "code",
   "execution_count": 35,
   "id": "e114146a-6bfa-458a-9dd1-59f6105ff12b",
   "metadata": {
    "editable": true,
    "slideshow": {
     "slide_type": ""
    },
    "tags": [
     "no-pdf"
    ]
   },
   "outputs": [],
   "source": [
    "mgene=mgene.subs(to_funcs) #substitute symbols for a function\n",
    "mrhof=rhom.subs(to_funcs)"
   ]
  },
  {
   "cell_type": "code",
   "execution_count": 36,
   "id": "e5bb70a6-3dd2-4c57-affd-dd0be429a09a",
   "metadata": {
    "editable": true,
    "slideshow": {
     "slide_type": ""
    },
    "tags": [
     "no-pdf"
    ]
   },
   "outputs": [],
   "source": [
    "eqs = [Eq(mrhof[k].diff(t), mgene[k].simplify()) for k in range(16)]"
   ]
  },
  {
   "cell_type": "code",
   "execution_count": 37,
   "id": "5b850e3e-b4f3-4178-99e9-5251ad28b89c",
   "metadata": {
    "editable": true,
    "slideshow": {
     "slide_type": ""
    },
    "tags": [
     "hide-input"
    ]
   },
   "outputs": [
    {
     "data": {
      "text/latex": [
       "$\\displaystyle \\frac{d}{d t} \\rho_{1}{\\left(t \\right)} = - 4 b_{3} \\left(\\left|{b_{0}}\\right|^{2} + \\left|{b_{1}}\\right|^{2}\\right) \\rho_{1}{\\left(t \\right)}$"
      ],
      "text/plain": [
       "Eq(Derivative(rho_1(t), t), -4*b3*(Abs(b0)**2 + Abs(b1)**2)*rho_1(t))"
      ]
     },
     "metadata": {},
     "output_type": "display_data"
    },
    {
     "data": {
      "text/latex": [
       "$\\displaystyle \\frac{d}{d t} \\rho_{2}{\\left(t \\right)} = 2 \\left(- i a - b_{3} \\left(\\left|{b_{0}}\\right|^{2} + \\left|{b_{1}}\\right|^{2}\\right)\\right) \\rho_{2}{\\left(t \\right)}$"
      ],
      "text/plain": [
       "Eq(Derivative(rho_2(t), t), 2*(-I*a - b3*(Abs(b0)**2 + Abs(b1)**2))*rho_2(t))"
      ]
     },
     "metadata": {},
     "output_type": "display_data"
    },
    {
     "data": {
      "text/latex": [
       "$\\displaystyle \\frac{d}{d t} \\rho_{3}{\\left(t \\right)} = 2 \\left(- i a - b_{3} \\left(\\left|{b_{0}}\\right|^{2} + \\left|{b_{1}}\\right|^{2}\\right)\\right) \\rho_{3}{\\left(t \\right)}$"
      ],
      "text/plain": [
       "Eq(Derivative(rho_3(t), t), 2*(-I*a - b3*(Abs(b0)**2 + Abs(b1)**2))*rho_3(t))"
      ]
     },
     "metadata": {},
     "output_type": "display_data"
    },
    {
     "data": {
      "text/latex": [
       "$\\displaystyle \\frac{d}{d t} \\rho_{4}{\\left(t \\right)} = - 4 b_{3} \\left(\\left|{b_{0}}\\right|^{2} + \\left|{b_{1}}\\right|^{2}\\right) \\rho_{4}{\\left(t \\right)}$"
      ],
      "text/plain": [
       "Eq(Derivative(rho_4(t), t), -4*b3*(Abs(b0)**2 + Abs(b1)**2)*rho_4(t))"
      ]
     },
     "metadata": {},
     "output_type": "display_data"
    },
    {
     "data": {
      "text/latex": [
       "$\\displaystyle \\frac{d}{d t} \\rho_{5}{\\left(t \\right)} = 2 \\left(i a - b_{3} \\left(\\left|{b_{0}}\\right|^{2} + \\left|{b_{1}}\\right|^{2}\\right)\\right) \\rho_{5}{\\left(t \\right)}$"
      ],
      "text/plain": [
       "Eq(Derivative(rho_5(t), t), 2*(I*a - b3*(Abs(b0)**2 + Abs(b1)**2))*rho_5(t))"
      ]
     },
     "metadata": {},
     "output_type": "display_data"
    },
    {
     "data": {
      "text/latex": [
       "$\\displaystyle \\frac{d}{d t} \\rho_{6}{\\left(t \\right)} = 4 b_{3} \\left(- b_{0} b_{1} \\rho_{13}{\\left(t \\right)} + \\rho_{1}{\\left(t \\right)} \\left|{b_{0}}\\right|^{2} - \\rho_{1}{\\left(t \\right)} \\left|{b_{1}}\\right|^{2} - \\rho_{11}{\\left(t \\right)} \\left|{b_{1}}\\right|^{2} - \\rho_{4}{\\left(t \\right)} \\overline{b_{0}} \\overline{b_{1}} - \\rho_{6}{\\left(t \\right)} \\left|{b_{1}}\\right|^{2} + \\left|{b_{1}}\\right|^{2}\\right)$"
      ],
      "text/plain": [
       "Eq(Derivative(rho_6(t), t), 4*b3*(-b0*b1*rho_13(t) + rho_1(t)*Abs(b0)**2 - rho_1(t)*Abs(b1)**2 - rho_11(t)*Abs(b1)**2 - rho_4(t)*conjugate(b0)*conjugate(b1) - rho_6(t)*Abs(b1)**2 + Abs(b1)**2))"
      ]
     },
     "metadata": {},
     "output_type": "display_data"
    },
    {
     "data": {
      "text/latex": [
       "$\\displaystyle \\frac{d}{d t} \\rho_{7}{\\left(t \\right)} = 4 b_{3} \\left(- b_{1}^{2} \\rho_{13}{\\left(t \\right)} + 2 b_{1} \\rho_{1}{\\left(t \\right)} \\overline{b_{0}} + b_{1} \\rho_{11}{\\left(t \\right)} \\overline{b_{0}} + b_{1} \\rho_{6}{\\left(t \\right)} \\overline{b_{0}} - b_{1} \\overline{b_{0}} + \\rho_{4}{\\left(t \\right)} \\overline{b_{0}}^{2}\\right)$"
      ],
      "text/plain": [
       "Eq(Derivative(rho_7(t), t), 4*b3*(-b1**2*rho_13(t) + 2*b1*rho_1(t)*conjugate(b0) + b1*rho_11(t)*conjugate(b0) + b1*rho_6(t)*conjugate(b0) - b1*conjugate(b0) + rho_4(t)*conjugate(b0)**2))"
      ]
     },
     "metadata": {},
     "output_type": "display_data"
    },
    {
     "data": {
      "text/latex": [
       "$\\displaystyle \\frac{d}{d t} \\rho_{8}{\\left(t \\right)} = 2 \\left(i a - b_{3} \\left(\\left|{b_{0}}\\right|^{2} + \\left|{b_{1}}\\right|^{2}\\right)\\right) \\rho_{8}{\\left(t \\right)}$"
      ],
      "text/plain": [
       "Eq(Derivative(rho_8(t), t), 2*(I*a - b3*(Abs(b0)**2 + Abs(b1)**2))*rho_8(t))"
      ]
     },
     "metadata": {},
     "output_type": "display_data"
    },
    {
     "data": {
      "text/latex": [
       "$\\displaystyle \\frac{d}{d t} \\rho_{9}{\\left(t \\right)} = 2 \\left(i a - b_{3} \\left(\\left|{b_{0}}\\right|^{2} + \\left|{b_{1}}\\right|^{2}\\right)\\right) \\rho_{9}{\\left(t \\right)}$"
      ],
      "text/plain": [
       "Eq(Derivative(rho_9(t), t), 2*(I*a - b3*(Abs(b0)**2 + Abs(b1)**2))*rho_9(t))"
      ]
     },
     "metadata": {},
     "output_type": "display_data"
    },
    {
     "data": {
      "text/latex": [
       "$\\displaystyle \\frac{d}{d t} \\rho_{10}{\\left(t \\right)} = 4 b_{3} \\left(b_{0}^{2} \\rho_{13}{\\left(t \\right)} + 2 b_{0} \\rho_{1}{\\left(t \\right)} \\overline{b_{1}} + b_{0} \\rho_{11}{\\left(t \\right)} \\overline{b_{1}} + b_{0} \\rho_{6}{\\left(t \\right)} \\overline{b_{1}} - b_{0} \\overline{b_{1}} - \\rho_{4}{\\left(t \\right)} \\overline{b_{1}}^{2}\\right)$"
      ],
      "text/plain": [
       "Eq(Derivative(rho_10(t), t), 4*b3*(b0**2*rho_13(t) + 2*b0*rho_1(t)*conjugate(b1) + b0*rho_11(t)*conjugate(b1) + b0*rho_6(t)*conjugate(b1) - b0*conjugate(b1) - rho_4(t)*conjugate(b1)**2))"
      ]
     },
     "metadata": {},
     "output_type": "display_data"
    },
    {
     "data": {
      "text/latex": [
       "$\\displaystyle \\frac{d}{d t} \\rho_{11}{\\left(t \\right)} = 4 b_{3} \\left(b_{0} b_{1} \\rho_{13}{\\left(t \\right)} - \\rho_{1}{\\left(t \\right)} \\left|{b_{0}}\\right|^{2} + \\rho_{1}{\\left(t \\right)} \\left|{b_{1}}\\right|^{2} - \\rho_{11}{\\left(t \\right)} \\left|{b_{0}}\\right|^{2} + \\rho_{4}{\\left(t \\right)} \\overline{b_{0}} \\overline{b_{1}} - \\rho_{6}{\\left(t \\right)} \\left|{b_{0}}\\right|^{2} + \\left|{b_{0}}\\right|^{2}\\right)$"
      ],
      "text/plain": [
       "Eq(Derivative(rho_11(t), t), 4*b3*(b0*b1*rho_13(t) - rho_1(t)*Abs(b0)**2 + rho_1(t)*Abs(b1)**2 - rho_11(t)*Abs(b0)**2 + rho_4(t)*conjugate(b0)*conjugate(b1) - rho_6(t)*Abs(b0)**2 + Abs(b0)**2))"
      ]
     },
     "metadata": {},
     "output_type": "display_data"
    },
    {
     "data": {
      "text/latex": [
       "$\\displaystyle \\frac{d}{d t} \\rho_{12}{\\left(t \\right)} = 2 \\left(i a - b_{3} \\left(\\left|{b_{0}}\\right|^{2} + \\left|{b_{1}}\\right|^{2}\\right)\\right) \\rho_{12}{\\left(t \\right)}$"
      ],
      "text/plain": [
       "Eq(Derivative(rho_12(t), t), 2*(I*a - b3*(Abs(b0)**2 + Abs(b1)**2))*rho_12(t))"
      ]
     },
     "metadata": {},
     "output_type": "display_data"
    },
    {
     "data": {
      "text/latex": [
       "$\\displaystyle \\frac{d}{d t} \\rho_{13}{\\left(t \\right)} = - 4 b_{3} \\left(\\left|{b_{0}}\\right|^{2} + \\left|{b_{1}}\\right|^{2}\\right) \\rho_{13}{\\left(t \\right)}$"
      ],
      "text/plain": [
       "Eq(Derivative(rho_13(t), t), -4*b3*(Abs(b0)**2 + Abs(b1)**2)*rho_13(t))"
      ]
     },
     "metadata": {},
     "output_type": "display_data"
    },
    {
     "data": {
      "text/latex": [
       "$\\displaystyle \\frac{d}{d t} \\rho_{14}{\\left(t \\right)} = 2 \\left(- i a - b_{3} \\left(\\left|{b_{0}}\\right|^{2} + \\left|{b_{1}}\\right|^{2}\\right)\\right) \\rho_{14}{\\left(t \\right)}$"
      ],
      "text/plain": [
       "Eq(Derivative(rho_14(t), t), 2*(-I*a - b3*(Abs(b0)**2 + Abs(b1)**2))*rho_14(t))"
      ]
     },
     "metadata": {},
     "output_type": "display_data"
    },
    {
     "data": {
      "text/latex": [
       "$\\displaystyle \\frac{d}{d t} \\rho_{15}{\\left(t \\right)} = 2 \\left(- i a - b_{3} \\left(\\left|{b_{0}}\\right|^{2} + \\left|{b_{1}}\\right|^{2}\\right)\\right) \\rho_{15}{\\left(t \\right)}$"
      ],
      "text/plain": [
       "Eq(Derivative(rho_15(t), t), 2*(-I*a - b3*(Abs(b0)**2 + Abs(b1)**2))*rho_15(t))"
      ]
     },
     "metadata": {},
     "output_type": "display_data"
    },
    {
     "data": {
      "text/latex": [
       "$\\displaystyle \\frac{d}{d t} \\rho_{16}{\\left(t \\right)} = 4 b_{3} \\left(\\rho_{1}{\\left(t \\right)} \\left|{b_{0}}\\right|^{2} + \\rho_{1}{\\left(t \\right)} \\left|{b_{1}}\\right|^{2} + \\rho_{11}{\\left(t \\right)} \\left|{b_{0}}\\right|^{2} + \\rho_{11}{\\left(t \\right)} \\left|{b_{1}}\\right|^{2} + \\rho_{6}{\\left(t \\right)} \\left|{b_{0}}\\right|^{2} + \\rho_{6}{\\left(t \\right)} \\left|{b_{1}}\\right|^{2} - \\left|{b_{0}}\\right|^{2} - \\left|{b_{1}}\\right|^{2}\\right)$"
      ],
      "text/plain": [
       "Eq(Derivative(rho_16(t), t), 4*b3*(rho_1(t)*Abs(b0)**2 + rho_1(t)*Abs(b1)**2 + rho_11(t)*Abs(b0)**2 + rho_11(t)*Abs(b1)**2 + rho_6(t)*Abs(b0)**2 + rho_6(t)*Abs(b1)**2 - Abs(b0)**2 - Abs(b1)**2))"
      ]
     },
     "metadata": {},
     "output_type": "display_data"
    }
   ],
   "source": [
    "for i in eqs:\n",
    "    display(i)"
   ]
  },
  {
   "cell_type": "markdown",
   "id": "d5ed67e1-d85b-4225-8ad9-eda14eb77638",
   "metadata": {
    "editable": true,
    "slideshow": {
     "slide_type": ""
    },
    "tags": []
   },
   "source": [
    "Too many equations and symbols some of them are trivially cero for my initial conditions"
   ]
  },
  {
   "cell_type": "code",
   "execution_count": 34,
   "id": "ca493818",
   "metadata": {},
   "outputs": [],
   "source": [
    "zeros={rhof[1](t):0,rhof[2](t):0,rhof[4](t):0,rhof[7](t):0,rhof[8](t):0,rhof[11](t):0,rhof[13](t):0,rhof[14](t):0}"
   ]
  },
  {
   "cell_type": "code",
   "execution_count": 39,
   "id": "d0095f66",
   "metadata": {},
   "outputs": [
    {
     "data": {
      "text/latex": [
       "$\\displaystyle \\frac{d}{d t} \\rho_{1}{\\left(t \\right)} = 4 b_{3} \\left(b_{0} \\rho_{7}{\\left(t \\right)} \\overline{b_{1}} + b_{1} \\rho_{10}{\\left(t \\right)} \\overline{b_{0}} + \\rho_{11}{\\left(t \\right)} \\left|{b_{1}}\\right|^{2} + \\rho_{6}{\\left(t \\right)} \\left|{b_{0}}\\right|^{2}\\right)$"
      ],
      "text/plain": [
       "Eq(Derivative(rho_1(t), t), 4*b3*(b0*rho_7(t)*conjugate(b1) + b1*rho_10(t)*conjugate(b0) + rho_11(t)*Abs(b1)**2 + rho_6(t)*Abs(b0)**2))"
      ]
     },
     "metadata": {},
     "output_type": "display_data"
    },
    {
     "data": {
      "text/latex": [
       "$\\displaystyle \\frac{d}{d t} \\rho_{4}{\\left(t \\right)} = 4 b_{3} \\left(b_{0}^{2} \\rho_{7}{\\left(t \\right)} + b_{0} b_{1} \\rho_{11}{\\left(t \\right)} - b_{0} b_{1} \\rho_{6}{\\left(t \\right)} - b_{1}^{2} \\rho_{10}{\\left(t \\right)}\\right)$"
      ],
      "text/plain": [
       "Eq(Derivative(rho_4(t), t), 4*b3*(b0**2*rho_7(t) + b0*b1*rho_11(t) - b0*b1*rho_6(t) - b1**2*rho_10(t)))"
      ]
     },
     "metadata": {},
     "output_type": "display_data"
    },
    {
     "data": {
      "text/latex": [
       "$\\displaystyle \\frac{d}{d t} \\rho_{6}{\\left(t \\right)} = - 4 b_{3} \\left(\\left|{b_{0}}\\right|^{2} + \\left|{b_{1}}\\right|^{2}\\right) \\rho_{6}{\\left(t \\right)}$"
      ],
      "text/plain": [
       "Eq(Derivative(rho_6(t), t), -4*b3*(Abs(b0)**2 + Abs(b1)**2)*rho_6(t))"
      ]
     },
     "metadata": {},
     "output_type": "display_data"
    },
    {
     "data": {
      "text/latex": [
       "$\\displaystyle \\frac{d}{d t} \\rho_{7}{\\left(t \\right)} = - 4 b_{3} \\left(\\left|{b_{0}}\\right|^{2} + \\left|{b_{1}}\\right|^{2}\\right) \\rho_{7}{\\left(t \\right)}$"
      ],
      "text/plain": [
       "Eq(Derivative(rho_7(t), t), -4*b3*(Abs(b0)**2 + Abs(b1)**2)*rho_7(t))"
      ]
     },
     "metadata": {},
     "output_type": "display_data"
    },
    {
     "data": {
      "text/latex": [
       "$\\displaystyle \\frac{d}{d t} \\rho_{10}{\\left(t \\right)} = - 4 b_{3} \\left(\\left|{b_{0}}\\right|^{2} + \\left|{b_{1}}\\right|^{2}\\right) \\rho_{10}{\\left(t \\right)}$"
      ],
      "text/plain": [
       "Eq(Derivative(rho_10(t), t), -4*b3*(Abs(b0)**2 + Abs(b1)**2)*rho_10(t))"
      ]
     },
     "metadata": {},
     "output_type": "display_data"
    },
    {
     "data": {
      "text/latex": [
       "$\\displaystyle \\frac{d}{d t} \\rho_{11}{\\left(t \\right)} = - 4 b_{3} \\left(\\left|{b_{0}}\\right|^{2} + \\left|{b_{1}}\\right|^{2}\\right) \\rho_{11}{\\left(t \\right)}$"
      ],
      "text/plain": [
       "Eq(Derivative(rho_11(t), t), -4*b3*(Abs(b0)**2 + Abs(b1)**2)*rho_11(t))"
      ]
     },
     "metadata": {},
     "output_type": "display_data"
    },
    {
     "data": {
      "text/latex": [
       "$\\displaystyle \\frac{d}{d t} \\rho_{13}{\\left(t \\right)} = 4 b_{3} \\left(\\rho_{10}{\\left(t \\right)} \\overline{b_{0}}^{2} + \\rho_{11}{\\left(t \\right)} \\overline{b_{0}} \\overline{b_{1}} - \\rho_{6}{\\left(t \\right)} \\overline{b_{0}} \\overline{b_{1}} - \\rho_{7}{\\left(t \\right)} \\overline{b_{1}}^{2}\\right)$"
      ],
      "text/plain": [
       "Eq(Derivative(rho_13(t), t), 4*b3*(rho_10(t)*conjugate(b0)**2 + rho_11(t)*conjugate(b0)*conjugate(b1) - rho_6(t)*conjugate(b0)*conjugate(b1) - rho_7(t)*conjugate(b1)**2))"
      ]
     },
     "metadata": {},
     "output_type": "display_data"
    },
    {
     "data": {
      "text/latex": [
       "$\\displaystyle \\frac{d}{d t} \\rho_{16}{\\left(t \\right)} = 4 b_{3} \\left(- b_{0} \\rho_{7}{\\left(t \\right)} \\overline{b_{1}} - b_{1} \\rho_{10}{\\left(t \\right)} \\overline{b_{0}} + \\rho_{11}{\\left(t \\right)} \\left|{b_{0}}\\right|^{2} + \\rho_{6}{\\left(t \\right)} \\left|{b_{1}}\\right|^{2}\\right)$"
      ],
      "text/plain": [
       "Eq(Derivative(rho_16(t), t), 4*b3*(-b0*rho_7(t)*conjugate(b1) - b1*rho_10(t)*conjugate(b0) + rho_11(t)*Abs(b0)**2 + rho_6(t)*Abs(b1)**2))"
      ]
     },
     "metadata": {},
     "output_type": "display_data"
    }
   ],
   "source": [
    "nontriv=[]\n",
    "for i in eqs:\n",
    "    if i.subs(zeros).rhs==0:\n",
    "        pass\n",
    "    else:\n",
    "        display(i.subs(zeros))\n",
    "        nontriv.append(i.subs(zeros))"
   ]
  },
  {
   "cell_type": "code",
   "execution_count": null,
   "id": "b789a8b3-d862-4270-83d0-7945e6eab348",
   "metadata": {
    "editable": true,
    "slideshow": {
     "slide_type": ""
    },
    "tags": [
     "no-pdf"
    ]
   },
   "outputs": [],
   "source": [
    "sols = dsolve(\n",
    "    nontriv,\n",
    "    ics={rhof[0] (0): 0, rhof[3] (0): 0,\n",
    "        rhof[5] (0): 0.5, rhof[6] (0): 0.5 * I\n",
    "        , rhof[9] (0): -0.5 * I, rhof[10] (0): 0.5,\n",
    "        rhof[12](0): 0,\n",
    "         rhof[15](0): 0})"
   ]
  },
  {
   "cell_type": "code",
   "execution_count": null,
   "id": "08411e0f-919c-4531-bc4c-9afbdaddd787",
   "metadata": {
    "editable": true,
    "slideshow": {
     "slide_type": ""
    },
    "tags": []
   },
   "outputs": [],
   "source": [
    "for i in sols:\n",
    "    display(i)"
   ]
  },
  {
   "cell_type": "code",
   "execution_count": null,
   "id": "db0234b3-379b-4c44-b302-d19512ca7229",
   "metadata": {},
   "outputs": [],
   "source": [
    "old={**chgnvar,**chgnvar2}"
   ]
  },
  {
   "cell_type": "code",
   "execution_count": null,
   "id": "3ea7dd86",
   "metadata": {
    "editable": true,
    "slideshow": {
     "slide_type": ""
    },
    "tags": [
     "no-pdf"
    ]
   },
   "outputs": [],
   "source": [
    "inverted = {value: key for key, value in old.items()}"
   ]
  },
  {
   "cell_type": "code",
   "execution_count": null,
   "id": "6b4a1cb1",
   "metadata": {
    "editable": true,
    "slideshow": {
     "slide_type": ""
    },
    "tags": [
     "no-pdf"
    ]
   },
   "outputs": [],
   "source": [
    "newsols=[i.subs(inverted).simplify() for i in sols]"
   ]
  },
  {
   "cell_type": "markdown",
   "id": "649c56fe",
   "metadata": {
    "editable": true,
    "slideshow": {
     "slide_type": ""
    },
    "tags": []
   },
   "source": [
    "By reverting the change of variables. The analytical answer of the Bloch redfield equation is given by"
   ]
  },
  {
   "cell_type": "code",
   "execution_count": null,
   "id": "eb1d344a",
   "metadata": {
    "editable": true,
    "slideshow": {
     "slide_type": ""
    },
    "tags": [
     "no-pdf"
    ]
   },
   "outputs": [],
   "source": [
    "ans=Matrix(np.array([i.rhs for i in newsols]).reshape(4,4))"
   ]
  },
  {
   "cell_type": "code",
   "execution_count": null,
   "id": "b7ef96bd-aee1-4be4-bb5f-23d29a949584",
   "metadata": {},
   "outputs": [],
   "source": [
    "for i in newsols:\n",
    "    display(i)"
   ]
  },
  {
   "cell_type": "markdown",
   "id": "2b190a36",
   "metadata": {
    "editable": true,
    "slideshow": {
     "slide_type": ""
    },
    "tags": []
   },
   "source": [
    "We can then substitute the numerical values for example for the case we explored above"
   ]
  },
  {
   "cell_type": "code",
   "execution_count": null,
   "id": "6df94f9f",
   "metadata": {
    "editable": true,
    "slideshow": {
     "slide_type": ""
    },
    "tags": [
     "no-pdf"
    ]
   },
   "outputs": [],
   "source": [
    "num_values = {w0: 4.799892154530513, lam: 2.157529680721121, gam: 2.3414108070880553, a: 2.182,b[0]:0.53,b[1]:0.707,b[2]:0.442,b[3]:0.471}"
   ]
  },
  {
   "cell_type": "code",
   "execution_count": null,
   "id": "571f6e29",
   "metadata": {
    "editable": true,
    "slideshow": {
     "slide_type": ""
    },
    "tags": [
     "no-pdf"
    ]
   },
   "outputs": [],
   "source": [
    "anss=ans.subs(num_values).evalf().expand()"
   ]
  },
  {
   "cell_type": "code",
   "execution_count": null,
   "id": "d840517d-f009-459f-bb98-d6310445a1e7",
   "metadata": {
    "editable": true,
    "slideshow": {
     "slide_type": ""
    },
    "tags": [],
    "user_expressions": [
     {
      "expression": "Eq(S(\"rho(t)\"),anss,evaluate=False)",
      "result": {
       "data": {
        "text/latex": "$\\displaystyle \\rho{\\left(t \\right)} = \\left[\\begin{matrix}0.55247613848278 \\left(e^{0.94679965816826 t} - 1.0\\right) e^{- 0.94679965816826 t} & 0 & 0 & \\left(0.486572940196368 - 0.102435485836685 i\\right) \\left(e^{0.94679965816826 t} - 1.0\\right) e^{- 0.94679965816826 t}\\\\0 & 0.5 e^{- 0.94679965816826 t} & 0.5 i e^{- 0.94679965816826 t} & 0\\\\0 & - 0.5 i e^{- 0.94679965816826 t} & 0.5 e^{- 0.94679965816826 t} & 0\\\\\\left(-0.486572940196368 - 0.102435485836685 i\\right) \\left(1.0 - e^{0.94679965816826 t}\\right) e^{- 0.94679965816826 t} & 0 & 0 & 0.44752386151722 \\left(e^{0.94679965816826 t} - 1.0\\right) e^{- 0.94679965816826 t}\\end{matrix}\\right]$",
        "text/plain": "Eq(rho(t), Matrix([\n[                          0.55247613848278*(exp(0.94679965816826*t) - 1.0)*exp(-0.94679965816826*t),                               0,                              0, (0.486572940196368 - 0.102435485836685*I)*(exp(0.94679965816826*t) - 1.0)*exp(-0.94679965816826*t)],\n[                                                                                                  0,    0.5*exp(-0.94679965816826*t), 0.5*I*exp(-0.94679965816826*t),                                                                                                  0],\n[                                                                                                  0, -0.5*I*exp(-0.94679965816826*t),   0.5*exp(-0.94679965816826*t),                                                                                                  0],\n[(-0.486572940196368 - 0.102435485836685*I)*(1.0 - exp(0.94679965816826*t))*exp(-0.94679965816826*t),                               0,                              0,                          0.44752386151722*(exp(0.94679965816826*t) - 1.0)*exp(-0.94679965816826*t)]]))"
       },
       "metadata": {},
       "status": "ok"
      }
     }
    ]
   },
   "outputs": [],
   "source": [
    "Eq(S(\"rho(t)\"),anss,evaluate=False)"
   ]
  },
  {
   "cell_type": "markdown",
   "id": "66c0c4dd",
   "metadata": {
    "editable": true,
    "slideshow": {
     "slide_type": ""
    },
    "tags": []
   },
   "source": [
    "Then we may evaluate for long times"
   ]
  },
  {
   "cell_type": "code",
   "execution_count": null,
   "id": "bf4208f3",
   "metadata": {
    "editable": true,
    "slideshow": {
     "slide_type": ""
    },
    "tags": [
     "no-pdf"
    ]
   },
   "outputs": [],
   "source": [
    "def roundMatrix(m, n): \n",
    "    return Matrix(\n",
    "    [[round(m[x, y], n) for y in range(m.shape[1])] for x in range(m.shape[0])])"
   ]
  },
  {
   "cell_type": "code",
   "execution_count": null,
   "id": "a7d96daa-bb99-4510-8d49-60036a19ec37",
   "metadata": {
    "editable": true,
    "slideshow": {
     "slide_type": ""
    },
    "tags": [],
    "user_expressions": [
     {
      "expression": "Eq(S(\"rho(50)\"),roundMatrix(ans.subs(num_values).subs(t,150).evalf(),18),evaluate=False)",
      "result": {
       "data": {
        "text/latex": "$\\displaystyle \\rho{\\left(50 \\right)} = \\left[\\begin{matrix}0.55247613848278 & 0 & 0 & 0.486572940196368 - 0.102435485836685 i\\\\0 & 0.0 & 0 & 0\\\\0 & 0 & 0.0 & 0\\\\0.486572940196368 + 0.102435485836685 i & 0 & 0 & 0.44752386151722\\end{matrix}\\right]$",
        "text/plain": "Eq(rho(50), Matrix([\n[                       0.55247613848278,   0,   0, 0.486572940196368 - 0.102435485836685*I],\n[                                      0, 0.0,   0,                                       0],\n[                                      0,   0, 0.0,                                       0],\n[0.486572940196368 + 0.102435485836685*I,   0,   0,                        0.44752386151722]]))"
       },
       "metadata": {},
       "status": "ok"
      }
     }
    ]
   },
   "outputs": [],
   "source": [
    "Eq(S(\"rho(150)\"),roundMatrix(ans.subs(num_values).subs(t,150).evalf(),18),evaluate=False)"
   ]
  },
  {
   "cell_type": "markdown",
   "id": "5c5d55df",
   "metadata": {
    "editable": true,
    "slideshow": {
     "slide_type": ""
    },
    "tags": []
   },
   "source": [
    "I believe I was careful enough to use the same convention used in the other equations (Pseudomodes, Cumulant and redfield ) but currently reviewing the derivations to make sure there's no inconsistencies. The derivations in question are in https://master--gsuarezthesis.netlify.app/redfield . I do think it is now safe to assume that BR/Redfield breaksdown and that it is not a bug in the code, so maybe we can write a paper on redfield breaking down, cumulant/global being good once we figure out why it happens🤓. Though it seems to be about the coupling and not the degeneracies"
   ]
  },
  {
   "cell_type": "markdown",
   "id": "57861bc1-3ef0-4a6f-ab80-b54dfc8a7797",
   "metadata": {
    "editable": true,
    "slideshow": {
     "slide_type": ""
    },
    "tags": []
   },
   "source": [
    ":::{tip} About Pictures\n",
    "Technically the above matrix is not correct as it is in the interaction picture and not the Schrodinger picture. In this case it does not make a difference, however, let us do the rotation \n",
    ":::"
   ]
  },
  {
   "cell_type": "code",
   "execution_count": null,
   "id": "0ebc6e75-cc9f-422d-b9a1-9b3fe279e548",
   "metadata": {
    "editable": true,
    "slideshow": {
     "slide_type": ""
    },
    "tags": []
   },
   "outputs": [],
   "source": [
    "U=exp(I*H*t)"
   ]
  },
  {
   "cell_type": "code",
   "execution_count": null,
   "id": "1fa58052-31f9-4d91-92fe-1b9648ae5a08",
   "metadata": {},
   "outputs": [],
   "source": [
    "Eq(S(\"U\"),U,evaluate=False)\n"
   ]
  },
  {
   "cell_type": "code",
   "execution_count": null,
   "id": "5760fd94-8792-4c4d-bc2e-23df38a4bd39",
   "metadata": {
    "editable": true,
    "slideshow": {
     "slide_type": ""
    },
    "tags": [],
    "user_expressions": [
     {
      "expression": "Eq(S(\"U\"),U,evaluate=False)",
      "result": {
       "data": {
        "text/latex": "$\\displaystyle U = \\left[\\begin{matrix}e^{- i a t} & 0 & 0 & 0\\\\0 & e^{i a t} & 0 & 0\\\\0 & 0 & e^{i a t} & 0\\\\0 & 0 & 0 & e^{- i a t}\\end{matrix}\\right]$",
        "text/plain": "Eq(U, Matrix([\n[exp(-I*a*t),          0,          0,           0],\n[          0, exp(I*a*t),          0,           0],\n[          0,          0, exp(I*a*t),           0],\n[          0,          0,          0, exp(-I*a*t)]]))"
       },
       "metadata": {},
       "status": "ok"
      }
     },
     {
      "expression": "Eq(S(\"U\")*S(\"rho\")*Dagger(S(\"U\")),U*rho*Dagger(U),evaluate=False)",
      "result": {
       "data": {
        "text/latex": "$\\displaystyle U \\rho U^{\\dagger} = \\left[\\begin{matrix}\\rho_{1} & \\rho_{2} e^{- 2 i a t} & \\rho_{3} e^{- 2 i a t} & \\rho_{4}\\\\e^{2 i a t} \\overline{\\rho_{2}} & \\rho_{6} & \\overline{\\rho_{10}} & \\rho_{8} e^{2 i a t}\\\\e^{2 i a t} \\overline{\\rho_{3}} & \\rho_{10} & \\rho_{11} & \\rho_{12} e^{2 i a t}\\\\\\overline{\\rho_{4}} & e^{- 2 i a t} \\overline{\\rho_{8}} & e^{- 2 i a t} \\overline{\\rho_{12}} & - \\rho_{1} - \\rho_{11} - \\rho_{6} + 1\\end{matrix}\\right]$",
        "text/plain": "Eq(U*rho*Dagger(U), Matrix([\n[                        rho_1,            rho_2*exp(-2*I*a*t),             rho_3*exp(-2*I*a*t),                       rho_4],\n[exp(2*I*a*t)*conjugate(rho_2),                          rho_6,               conjugate(rho_10),          rho_8*exp(2*I*a*t)],\n[exp(2*I*a*t)*conjugate(rho_3),                         rho_10,                          rho_11,         rho_12*exp(2*I*a*t)],\n[             conjugate(rho_4), exp(-2*I*a*t)*conjugate(rho_8), exp(-2*I*a*t)*conjugate(rho_12), -rho_1 - rho_11 - rho_6 + 1]]))"
       },
       "metadata": {},
       "status": "ok"
      }
     }
    ]
   },
   "outputs": [],
   "source": [
    "\n",
    "Eq(S(\"U\")*S(\"rho\")*Dagger(S(\"U\")),U*rho*Dagger(U),evaluate=False)\n"
   ]
  },
  {
   "cell_type": "code",
   "execution_count": null,
   "id": "cfdf7648-db4a-456c-8940-0b8545cd18da",
   "metadata": {
    "editable": true,
    "slideshow": {
     "slide_type": ""
    },
    "tags": []
   },
   "outputs": [],
   "source": [
    "rhoss=U*roundMatrix(ans.subs(num_values).subs(t,150).evalf(),18)*Dagger(U)"
   ]
  },
  {
   "cell_type": "code",
   "execution_count": null,
   "id": "814c6bc3-e452-4afd-8c35-5150f87a5c07",
   "metadata": {
    "editable": true,
    "slideshow": {
     "slide_type": ""
    },
    "tags": [],
    "user_expressions": [
     {
      "expression": "Eq(S(\"rho(50)\"),rhoss,evaluate=False)",
      "result": {
       "data": {
        "text/latex": "$\\displaystyle \\rho{\\left(50 \\right)} = \\left[\\begin{matrix}0.55247613848278 & 0 & 0 & 0.486572940196368 - 0.102435485836685 i\\\\0 & 0 & 0 & 0\\\\0 & 0 & 0 & 0\\\\0.486572940196368 + 0.102435485836685 i & 0 & 0 & 0.44752386151722\\end{matrix}\\right]$",
        "text/plain": "Eq(rho(50), Matrix([\n[                       0.55247613848278, 0, 0, 0.486572940196368 - 0.102435485836685*I],\n[                                      0, 0, 0,                                       0],\n[                                      0, 0, 0,                                       0],\n[0.486572940196368 + 0.102435485836685*I, 0, 0,                        0.44752386151722]]))"
       },
       "metadata": {},
       "status": "ok"
      }
     }
    ]
   },
   "outputs": [],
   "source": [
    "Eq(S(\"rho(150)\"),rhoss,evaluate=False)\n"
   ]
  },
  {
   "cell_type": "markdown",
   "id": "44c1f87b",
   "metadata": {
    "editable": true,
    "slideshow": {
     "slide_type": ""
    },
    "tags": []
   },
   "source": [
    "## RC picture of the Hamiltonian\n",
    "\n",
    "For the RC I simply follow https://arxiv.org/pdf/1511.05181\n",
    "\n",
    "So If I didn't misunderstand it then\n",
    "\n",
    "$$\\Omega=w_{0}$$\n",
    "$$\\lambda_{rc}=\\sqrt{\\frac{\\pi}{2 w_{0}}}\\lambda$$\n",
    "\n",
    "\n",
    "Not actually sure if $\\pi$ should be there, but does not seem to be relevant for the question we are asking"
   ]
  },
  {
   "cell_type": "code",
   "execution_count": null,
   "id": "1287bd8f",
   "metadata": {
    "editable": true,
    "slideshow": {
     "slide_type": ""
    },
    "tags": [
     "no-pdf"
    ]
   },
   "outputs": [],
   "source": [
    "def ladder(i,j):\n",
    "    if i - j == 1:\n",
    "        return sqrt(i)\n",
    "    else:\n",
    "        return 0\n",
    "def destroy(n):\n",
    "    return Dagger(Matrix(n,n,ladder))\n"
   ]
  },
  {
   "cell_type": "markdown",
   "id": "5d169565",
   "metadata": {
    "editable": true,
    "slideshow": {
     "slide_type": ""
    },
    "tags": []
   },
   "source": [
    "Not sure how many levels to take here, but let us guess 15 is enough"
   ]
  },
  {
   "cell_type": "code",
   "execution_count": null,
   "id": "bd873a69",
   "metadata": {
    "editable": true,
    "slideshow": {
     "slide_type": ""
    },
    "tags": [
     "no-pdf"
    ]
   },
   "outputs": [],
   "source": [
    "levels=15\n",
    "arc=destroy(levels)\n",
    "arcd=Dagger(arc)"
   ]
  },
  {
   "cell_type": "markdown",
   "id": "790ce6f4",
   "metadata": {},
   "source": [
    "Then I construct the RC Hamiltonian"
   ]
  },
  {
   "cell_type": "code",
   "execution_count": null,
   "id": "c288e2a0",
   "metadata": {
    "editable": true,
    "slideshow": {
     "slide_type": ""
    },
    "tags": [
     "no-pdf"
    ]
   },
   "outputs": [],
   "source": [
    "from sympy.physics.quantum import TensorProduct"
   ]
  },
  {
   "cell_type": "code",
   "execution_count": null,
   "id": "889757c0",
   "metadata": {
    "editable": true,
    "slideshow": {
     "slide_type": ""
    },
    "tags": [
     "no-pdf"
    ]
   },
   "outputs": [],
   "source": [
    "HRC = TensorProduct(H, eye(levels))+sqrt(pi/(2*w0))*lam*TensorProduct(Q,eye(levels))*(TensorProduct(eye(4),arc)+TensorProduct(eye(4),arcd))+w0*TensorProduct(eye(4),arcd)*TensorProduct(eye(4),arc)"
   ]
  },
  {
   "cell_type": "code",
   "execution_count": null,
   "id": "deece222",
   "metadata": {},
   "outputs": [],
   "source": [
    "NHRC=HRC.subs(num_values).evalf()"
   ]
  },
  {
   "cell_type": "code",
   "execution_count": null,
   "id": "e9f87921",
   "metadata": {
    "editable": true,
    "slideshow": {
     "slide_type": ""
    },
    "tags": [
     "no-pdf"
    ]
   },
   "outputs": [],
   "source": [
    "ans=np.array(NHRC.tolist()).astype(np.complex128)"
   ]
  },
  {
   "cell_type": "code",
   "execution_count": null,
   "id": "b42cf667",
   "metadata": {
    "editable": true,
    "slideshow": {
     "slide_type": ""
    },
    "tags": [
     "no-pdf"
    ]
   },
   "outputs": [],
   "source": [
    "eigenvalues, eigenvectors = np.linalg.eig(ans)"
   ]
  },
  {
   "cell_type": "code",
   "execution_count": null,
   "id": "1645e8f9",
   "metadata": {
    "editable": true,
    "slideshow": {
     "slide_type": ""
    },
    "tags": [
     "no-pdf"
    ]
   },
   "outputs": [],
   "source": [
    "import matplotlib.pyplot as plt"
   ]
  },
  {
   "cell_type": "code",
   "execution_count": null,
   "id": "2e2acf7e",
   "metadata": {
    "editable": true,
    "slideshow": {
     "slide_type": ""
    },
    "tags": []
   },
   "outputs": [],
   "source": [
    "plt.scatter(np.real(eigenvalues),np.round(np.imag(eigenvalues),10),s=5)\n",
    "plt.title(\"Eigenvalues on the real line\")\n",
    "plt.show()"
   ]
  },
  {
   "cell_type": "markdown",
   "id": "fee96a08",
   "metadata": {},
   "source": [
    "Propably I shopuld have done the partial trace so"
   ]
  },
  {
   "cell_type": "code",
   "execution_count": null,
   "id": "d12a8717",
   "metadata": {
    "editable": true,
    "slideshow": {
     "slide_type": ""
    },
    "tags": [
     "no-pdf"
    ]
   },
   "outputs": [],
   "source": [
    "import qutip as qt"
   ]
  },
  {
   "cell_type": "code",
   "execution_count": null,
   "id": "720cbb97",
   "metadata": {
    "editable": true,
    "slideshow": {
     "slide_type": ""
    },
    "tags": [
     "no-pdf"
    ]
   },
   "outputs": [],
   "source": [
    "Hq=qt.Qobj(H.subs(num_values).tolist())\n",
    "aq=qt.destroy(levels)\n",
    "aqd=qt.create(levels)\n",
    "qHRC = qt.tensor(Hq, qt.qeye(levels))+np.sqrt(np.pi/(2*num_values[w0]))*num_values[lam]*qt.tensor(qt.Qobj(Q.subs(num_values)), qt.qeye(levels))*(qt.tensor(qt.qeye(4),aq)+qt.tensor(qt.qeye(4),aqd))+num_values[w0]*qt.tensor(qt.qeye(4),aqd)*qt.tensor(qt.qeye(4),aq)"
   ]
  },
  {
   "cell_type": "code",
   "execution_count": null,
   "id": "a63f3bb5",
   "metadata": {
    "editable": true,
    "slideshow": {
     "slide_type": ""
    },
    "tags": [
     "no-pdf"
    ]
   },
   "outputs": [],
   "source": [
    "Hq"
   ]
  },
  {
   "cell_type": "code",
   "execution_count": null,
   "id": "5d10376a",
   "metadata": {
    "editable": true,
    "slideshow": {
     "slide_type": ""
    },
    "tags": []
   },
   "outputs": [],
   "source": [
    "qHRC.ptrace(0)"
   ]
  },
  {
   "cell_type": "markdown",
   "id": "4e8709dc",
   "metadata": {},
   "source": [
    "Still degenerate"
   ]
  },
  {
   "cell_type": "markdown",
   "id": "947f9ca7",
   "metadata": {},
   "source": [
    "Let us try the other coupling which does not break bloch redfield"
   ]
  },
  {
   "cell_type": "code",
   "execution_count": null,
   "id": "c78169d2",
   "metadata": {
    "editable": true,
    "slideshow": {
     "slide_type": ""
    },
    "tags": [
     "no-pdf"
    ]
   },
   "outputs": [],
   "source": [
    "Hq=qt.Qobj(H.subs(num_values).tolist())\n",
    "aq=qt.destroy(levels)\n",
    "aqd=qt.create(levels)\n",
    "qHRC = qt.tensor(Hq, qt.qeye(levels))+np.sqrt(np.pi/(2*num_values[w0]))*num_values[lam]*qt.tensor(qt.Qobj(re(Q).subs(num_values)), qt.qeye(levels))*(qt.tensor(qt.qeye(4),aq)+qt.tensor(qt.qeye(4),aqd))+num_values[w0]*qt.tensor(qt.qeye(4),aqd)*qt.tensor(qt.qeye(4),aq)"
   ]
  },
  {
   "cell_type": "code",
   "execution_count": null,
   "id": "f66208aa",
   "metadata": {
    "editable": true,
    "slideshow": {
     "slide_type": ""
    },
    "tags": []
   },
   "outputs": [],
   "source": [
    "qHRC.ptrace(0)"
   ]
  },
  {
   "cell_type": "code",
   "execution_count": null,
   "id": "c94e2b58",
   "metadata": {
    "editable": true,
    "slideshow": {
     "slide_type": ""
    },
    "tags": [
     "no-pdf"
    ]
   },
   "outputs": [],
   "source": [
    "ans = qHRC.full().astype(np.complex128)"
   ]
  },
  {
   "cell_type": "code",
   "execution_count": null,
   "id": "078c1ccc",
   "metadata": {
    "editable": true,
    "slideshow": {
     "slide_type": ""
    },
    "tags": []
   },
   "outputs": [],
   "source": [
    "eigenvalues, eigenvectors = np.linalg.eig(ans)"
   ]
  },
  {
   "cell_type": "code",
   "execution_count": null,
   "id": "31f7a9a2",
   "metadata": {},
   "outputs": [],
   "source": [
    "plt.scatter(np.real(eigenvalues), np.round(np.imag(eigenvalues), 10), s=5)\n",
    "plt.title(\"Eigenvalues on the real line\")\n",
    "plt.show()"
   ]
  },
  {
   "cell_type": "markdown",
   "id": "f3f2c640",
   "metadata": {},
   "source": [
    "There doesn't seem to be much change in the Hamiltonian if any"
   ]
  },
  {
   "cell_type": "code",
   "execution_count": null,
   "id": "2deaff11-3d6e-4209-9f5c-9e967406e938",
   "metadata": {},
   "outputs": [],
   "source": []
  }
 ],
 "metadata": {
  "kernelspec": {
   "display_name": "Python 3 (ipykernel)",
   "language": "python",
   "name": "python3"
  },
  "language_info": {
   "codemirror_mode": {
    "name": "ipython",
    "version": 3
   },
   "file_extension": ".py",
   "mimetype": "text/x-python",
   "name": "python",
   "nbconvert_exporter": "python",
   "pygments_lexer": "ipython3",
   "version": "3.12.7"
  }
 },
 "nbformat": 4,
 "nbformat_minor": 5
}
