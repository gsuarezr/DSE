{
 "cells": [
  {
   "cell_type": "code",
   "execution_count": 1,
   "id": "3a6e9c6a-8d8c-4a31-893b-de27a18e7c41",
   "metadata": {},
   "outputs": [],
   "source": [
    "import matplotlib.pyplot as plt\n",
    "import numpy as np\n",
    "from qutip import ( basis, expect, mesolve, qeye, sigmax, sigmay, sigmaz,destroy,\n",
    "                   tensor,fidelity,tracedist,brmesolve,Qobj)\n",
    "from qutip.solver import heom\n",
    "from scipy.integrate import quad\n",
    "from pseudomode import pseudomode,zero_temp_bath,rotation\n",
    "from hamiltonians import schwinger,plot_ground,plot_fidelities,plot_trd,plot_positivity,plot_populations\n",
    "from nmm import csolve"
   ]
  },
  {
   "cell_type": "code",
   "execution_count": 2,
   "id": "5d9cebb9-87a6-407d-9fc6-20d707a84b3f",
   "metadata": {},
   "outputs": [],
   "source": [
    "N=1\n",
    "g=1\n",
    "a=8\n",
    "theta=np.pi\n",
    "m=5\n",
    "H,sx,sy,sz=schwinger(N=N,g=g,a=a,theta=theta,m=m)"
   ]
  },
  {
   "cell_type": "code",
   "execution_count": 3,
   "id": "8f276c76-e8e6-4976-9675-ca577f63cc71",
   "metadata": {},
   "outputs": [],
   "source": [
    "Q=sx[-1]+0.9*sz[-1] ## take a look at the berlin guys paper to see if this is a bad coupling operator"
   ]
  },
  {
   "cell_type": "code",
   "execution_count": 23,
   "id": "4a1cf88e-5629-46e2-aaab-cee267e4fe15",
   "metadata": {},
   "outputs": [
    {
     "name": "stdout",
     "output_type": "stream",
     "text": [
      "True\n"
     ]
    },
    {
     "data": {
      "text/plain": [
       "0.1639991392721192"
      ]
     },
     "execution_count": 23,
     "metadata": {},
     "output_type": "execute_result"
    }
   ],
   "source": [
    "E01=1#H.eigenenergies()[2]-H.eigenenergies()[0]# Raise this question about the paper \n",
    "w0=0.5*a\n",
    "gamma=w0/2\n",
    "print(2*w0>gamma)\n",
    "Gamma=gamma/2\n",
    "Omega=np.sqrt(w0**2 -Gamma**2)\n",
    "lam=np.sqrt(Omega)/12\n",
    "lam"
   ]
  },
  {
   "cell_type": "code",
   "execution_count": 24,
   "id": "f71094bb-5cf5-4328-8a12-089b1ad618f6",
   "metadata": {},
   "outputs": [],
   "source": [
    "state_list = [basis(2, 1)] + [basis(2, 0)] * (N - 1)\n",
    "psi0 = tensor(state_list)\n",
    "rho0=psi0*psi0.dag()\n",
    "times=np.linspace(0,50,500)\n",
    "tfit=np.linspace(0, 50, 5000)"
   ]
  },
  {
   "cell_type": "code",
   "execution_count": null,
   "id": "088b6cae-bb7b-42dc-bef8-27761e96221a",
   "metadata": {},
   "outputs": [],
   "source": [
    "bath = heom.UnderDampedBath(\n",
    "        Q=Q,\n",
    "        lam=lam, gamma=gamma, w0=w0, T=0, Nk=5) # fix runtime warning\n",
    "cfiitter2 = heom.CorrelationFitter(\n",
    "    Q, 0, tfit, bath.correlation_function)\n",
    "bath1, fit2info = cfiitter2.get_fit(Ni=1, Nr=2)\n",
    "# notice one mode is also a pretty good approximation\n",
    "print(fit2info['summary'])"
   ]
  },
  {
   "cell_type": "code",
   "execution_count": null,
   "id": "5b1e1b98-7ae1-4299-8fa3-5f3027184c59",
   "metadata": {},
   "outputs": [],
   "source": [
    "times2 = np.linspace(0,50,100)\n",
    "cvis = bath.correlation_function(times2)"
   ]
  },
  {
   "cell_type": "code",
   "execution_count": null,
   "id": "a84698fe-4543-402f-83be-3041f2562755",
   "metadata": {},
   "outputs": [],
   "source": [
    "# using the variable axs for multiple Axes\n",
    "fig, axs = plt.subplots(1, 2,figsize=(15,5))\n",
    "axs[0].plot(times2, np.imag(cvis),label=\"Numerical\")\n",
    "axs[0].plot(times2, np.imag(bath1.correlation_function_approx(times2)), \"-.\",label=\"Approximated\")\n",
    "axs[0].set_xlabel(\"t\")\n",
    "axs[0].set_ylabel(\"Im(C)\")\n",
    "axs[0].legend()\n",
    "axs[1].plot(times2, np.real(cvis),label=\"Numerical\")\n",
    "axs[1].plot(times2, np.real(bath1.correlation_function_approx(times2)), \"-.\",label=\"Approximated\")\n",
    "axs[1].set_xlabel(\"t\")\n",
    "axs[1].set_ylabel(\"Re(C)\")\n",
    "axs[1].legend()\n",
    "fig.suptitle('Correlation Functions', fontsize=30)\n",
    "plt.show()"
   ]
  },
  {
   "cell_type": "code",
   "execution_count": null,
   "id": "8ce3d852-0d80-4ebb-8f3a-63906a25beff",
   "metadata": {},
   "outputs": [],
   "source": [
    "solver = heom.HEOMSolver(H,\n",
    "                          [bath1], max_depth=5, options={\"atol\": 1e-14})\n",
    "result = solver.run(rho0, times)"
   ]
  },
  {
   "cell_type": "code",
   "execution_count": null,
   "id": "10e74e6e-dd6d-4453-bcae-a1da458f6eb7",
   "metadata": {},
   "outputs": [],
   "source": [
    "cum = csolve(\n",
    "    Hsys=H, t=times, baths=[bath],\n",
    "    Qs=[Q],\n",
    "    eps=1e-4, cython=False)\n",
    "\n",
    "result_cum = cum.evolution(rho0)\n",
    "\n",
    "result_cum = rotation(result_cum, H, times)"
   ]
  },
  {
   "cell_type": "code",
   "execution_count": null,
   "id": "ace445bd-cb5a-4e69-aa85-38f588fae388",
   "metadata": {},
   "outputs": [],
   "source": [
    "a_ops = [[Q, bath.power_spectrum]]\n",
    "resultBR = brmesolve(H, rho0, times, a_ops=a_ops, options={\n",
    "    \"atol\": 1e-14}, sec_cutoff=-1)\n",
    "\n",
    "a_ops = [[Q, bath.power_spectrum]]\n",
    "resultBR2 = brmesolve(H, rho0, times, a_ops=a_ops, options={\n",
    "    \"atol\": 1e-14})"
   ]
  },
  {
   "cell_type": "code",
   "execution_count": null,
   "id": "04c73039-f83f-4263-b6f6-b4afe219f8f8",
   "metadata": {},
   "outputs": [],
   "source": [
    "Ncutoff=3\n",
    "modes=2\n",
    "bathu = zero_temp_bath(Q, tfit, lam, gamma, w0, N=modes)\n",
    "example = pseudomode(Hsys=H, Q=Q, bath=bathu)\n",
    "print(bathu.finfo[\"summary\"])\n",
    "cvis2 = bathu.correlation_function\n",
    "fig, axs = plt.subplots(1, 2,figsize=(15,5))\n",
    "axs[0].plot(tfit, np.imag(cvis2),label=\"Numerical\")\n",
    "axs[0].plot(tfit, np.imag(bathu.bath.correlation_function_approx(tfit))+np.imag(bathu.C0(tfit, lam, gamma, w0)), \"-.\",label=\"Approximated\")\n",
    "axs[0].set_xlabel(\"t\")\n",
    "axs[0].set_ylabel(\"Im(C)\")\n",
    "axs[0].legend()\n",
    "axs[1].plot(tfit, np.real(cvis2),label=\"Numerical\")\n",
    "axs[1].plot(tfit, np.real(bathu.bath.correlation_function_approx(tfit)), \"-.\",label=\"Approximated\")\n",
    "axs[1].set_xlabel(\"t\")\n",
    "axs[1].set_ylabel(\"Re(C)\")\n",
    "axs[1].legend()\n",
    "fig.suptitle('Correlation Functions', fontsize=30)\n",
    "plt.show()"
   ]
  },
  {
   "cell_type": "code",
   "execution_count": null,
   "id": "ddfc4c7a-f139-4b39-a642-c2c137a7e3f3",
   "metadata": {},
   "outputs": [],
   "source": [
    "ans = example.evolution(rho0, Ncutoff, times, options={\n",
    "                        \"atol\": 1e-14, \"normalize_output\": False, \"store_states\": True})\n",
    "ans = [i.ptrace(range(N))for i in ans.states]"
   ]
  },
  {
   "cell_type": "code",
   "execution_count": null,
   "id": "b788bb1c-7f93-47d1-9ef4-743121334e99",
   "metadata": {},
   "outputs": [],
   "source": [
    "from nmm import redfield"
   ]
  },
  {
   "cell_type": "code",
   "execution_count": null,
   "id": "54fd4643-3a2c-4d85-9661-859b167a9f15",
   "metadata": {},
   "outputs": [],
   "source": [
    "bath.bose=None\n",
    "red = redfield.redfield(\n",
    "    Hsys=H, t=times, baths=[bath],\n",
    "    Qs=[Q],\n",
    "    eps=1e-4,matsubara=False)\n",
    "\n",
    "result_red = red.evolution(rho0)\n"
   ]
  },
  {
   "cell_type": "code",
   "execution_count": null,
   "id": "35ce06db-54ec-4c11-b8c7-ff50696125b8",
   "metadata": {},
   "outputs": [],
   "source": [
    "result_red=[Qobj(i) for i in result_red]\n",
    "for i in result_red:\n",
    "    i.dims=H.dims\n",
    "#result_red = rotation(result_red, H, times)"
   ]
  },
  {
   "cell_type": "code",
   "execution_count": null,
   "id": "53d1a6fd-e67d-410b-808e-318e11335eeb",
   "metadata": {},
   "outputs": [],
   "source": [
    "results=[result,result_cum,resultBR,resultBR2,ans,result_red]"
   ]
  },
  {
   "cell_type": "code",
   "execution_count": null,
   "id": "32ae8c6a-9dbd-495c-b4d3-3ecfddccab74",
   "metadata": {},
   "outputs": [],
   "source": [
    "def plot_fidelities(states,H,times):\n",
    "    labels=[\"HEOM\",\"Cumulant\",\"Bloch-redfield\",\"Bloch-redfield PS\",\"Pseudomodes\",\"Redfield\"]\n",
    "    style=[\"solid\",\"solid\",\"dashed\",\"dashdot\",'dashed','solid']\n",
    "    for k,i in enumerate(states[1:],1):\n",
    "        if \"Bloch\" in  labels[k]:\n",
    "            sdd=np.array([fidelity(i.states[j],states[0].states[j]) for j in range(len(times))])\n",
    "        else:\n",
    "            try:\n",
    "                sdd=np.array([fidelity(i.states[j],states[0].states[j]) for j in range(len(times))])\n",
    "            except:\n",
    "                sdd=np.array([fidelity(i[j],states[0].states[j]) for j in range(len(times))])\n",
    "        plt.plot(times,sdd,label=labels[k],linestyle=style[k])\n",
    "    plt.legend(fontsize=14)\n",
    "    plt.ylabel(r\"$\\mathcal{F}_{HEOM}$\",fontsize=20)\n",
    "    plt.xlabel(r\"t\",fontsize=20)\n",
    "    plt.show()"
   ]
  },
  {
   "cell_type": "code",
   "execution_count": null,
   "id": "7ee6110d-7a3f-459b-be57-e6cb7b50ee6c",
   "metadata": {},
   "outputs": [],
   "source": [
    "plot_fidelities(results,H,times)"
   ]
  },
  {
   "cell_type": "code",
   "execution_count": null,
   "id": "a45e77a9-32ea-470b-a665-29638a341a12",
   "metadata": {},
   "outputs": [],
   "source": [
    "result_red[400]"
   ]
  },
  {
   "cell_type": "code",
   "execution_count": null,
   "id": "286a7e94-5625-4dab-a1df-0f3ac4fabaa5",
   "metadata": {},
   "outputs": [],
   "source": []
  },
  {
   "cell_type": "code",
   "execution_count": null,
   "id": "a7f21f88-3f4f-4e6f-867d-9a3a1e4ff840",
   "metadata": {},
   "outputs": [],
   "source": [
    "plot_trd(results,H,times)"
   ]
  },
  {
   "cell_type": "code",
   "execution_count": null,
   "id": "41faf3ff-8aed-4b6b-8a6b-142441895841",
   "metadata": {},
   "outputs": [],
   "source": [
    "plot_positivity(results,H,times)"
   ]
  },
  {
   "cell_type": "code",
   "execution_count": null,
   "id": "59e54b62-4837-48ed-8c38-20966e29e67b",
   "metadata": {},
   "outputs": [],
   "source": [
    "def plot_positivity(states,H,times):\n",
    "    labels=[\"HEOM\",\"Cumulant\",\"Bloch-redfield\",\"Bloch-redfield PS\",\"Pseudomodes\",\"Redfield\"]\n",
    "    for k,i in enumerate(states):\n",
    "        try:\n",
    "            sdd=np.array([np.min(i.states[j].eigenenergies()) for j in range(len(times))])\n",
    "        except:\n",
    "            sdd=np.array([np.min(i[j].eigenenergies())  for j in range(len(times))])\n",
    "        plt.plot(times,sdd,label=labels[k])\n",
    "   # plt.ylim(-1e-3,0.001)\n",
    "    plt.legend(fontsize=14)\n",
    "    plt.ylabel(r\"$min |E_i|$\",fontsize=20)\n",
    "    plt.xlabel(r\"t\",fontsize=20)\n",
    "    plt.show()"
   ]
  },
  {
   "cell_type": "code",
   "execution_count": null,
   "id": "6c3b4125-7d73-4a33-9d55-f08bc2a9de17",
   "metadata": {},
   "outputs": [],
   "source": [
    "plot_populations(results,H,times,l=2,m=2)"
   ]
  },
  {
   "cell_type": "code",
   "execution_count": null,
   "id": "df3f2f76-38a8-4ce4-b5e6-f15a33680de1",
   "metadata": {},
   "outputs": [],
   "source": [
    "from qutip import qsave"
   ]
  },
  {
   "cell_type": "code",
   "execution_count": null,
   "id": "2f8d0ecd-db66-4e36-9993-4455b041a54a",
   "metadata": {},
   "outputs": [],
   "source": [
    "#qsave(results,f\"N={N}_schwinger_{lam}_nocheating_seems_hard\")"
   ]
  },
  {
   "cell_type": "code",
   "execution_count": null,
   "id": "1bc003eb-9958-4679-a924-0f9c2df289f2",
   "metadata": {},
   "outputs": [],
   "source": []
  },
  {
   "cell_type": "code",
   "execution_count": null,
   "id": "e8fd6ee6-d1b9-4842-9769-c226702012ed",
   "metadata": {},
   "outputs": [],
   "source": []
  }
 ],
 "metadata": {
  "kernelspec": {
   "display_name": "Python 3 (ipykernel)",
   "language": "python",
   "name": "python3"
  },
  "language_info": {
   "codemirror_mode": {
    "name": "ipython",
    "version": 3
   },
   "file_extension": ".py",
   "mimetype": "text/x-python",
   "name": "python",
   "nbconvert_exporter": "python",
   "pygments_lexer": "ipython3",
   "version": "3.12.2"
  }
 },
 "nbformat": 4,
 "nbformat_minor": 5
}
