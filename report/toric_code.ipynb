{
 "cells": [
  {
   "cell_type": "code",
   "execution_count": null,
   "id": "20d05364-8a2d-4f9a-a55d-f29311f71a39",
   "metadata": {},
   "outputs": [],
   "source": [
    "def ising(N, g, Jx, Jy=0, Jz=0):\n",
    "    sx_list, sy_list, sz_list = [], [], []\n",
    "    for i in range(N):\n",
    "        op_list = [qeye(2)] * N\n",
    "        op_list[i] = sigmax()\n",
    "        sx_list.append(tensor(op_list))\n",
    "        op_list[i] = sigmay()\n",
    "        sy_list.append(tensor(op_list))\n",
    "        op_list[i] = sigmaz()\n",
    "        sz_list.append(tensor(op_list))\n",
    "\n",
    "    # Hamiltonian - Energy splitting terms\n",
    "    H = 0\n",
    "    for i in range(N):\n",
    "        H += g * sz_list[i]\n",
    "\n",
    "    for n in range(N - 1):\n",
    "        H += -Jx * sx_list[n] * sx_list[n + 1]\n",
    "        H += -Jy * sy_list[n] * sy_list[n + 1]\n",
    "        H += -Jz * sz_list[n] * sz_list[n + 1]\n",
    "    return H, sx_list, sy_list, sz_list"
   ]
  }
 ],
 "metadata": {
  "kernelspec": {
   "display_name": "Python 3 (ipykernel)",
   "language": "python",
   "name": "python3"
  },
  "language_info": {
   "codemirror_mode": {
    "name": "ipython",
    "version": 3
   },
   "file_extension": ".py",
   "mimetype": "text/x-python",
   "name": "python",
   "nbconvert_exporter": "python",
   "pygments_lexer": "ipython3",
   "version": "3.12.2"
  }
 },
 "nbformat": 4,
 "nbformat_minor": 5
}
