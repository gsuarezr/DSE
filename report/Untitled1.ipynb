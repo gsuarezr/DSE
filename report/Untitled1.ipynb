{
 "cells": [
  {
   "cell_type": "markdown",
   "id": "2b70cce5-e137-47e5-8e72-518148b7a28c",
   "metadata": {},
   "source": [
    "Entanglement distillation of the thermal qubits, If I wait for thermalization I obtain the density matrix"
   ]
  },
  {
   "cell_type": "code",
   "execution_count": null,
   "id": "69804020-a292-43ca-b912-0b4f63a78bdc",
   "metadata": {},
   "outputs": [],
   "source": []
  }
 ],
 "metadata": {
  "kernelspec": {
   "display_name": "Python 3 (ipykernel)",
   "language": "python",
   "name": "python3"
  },
  "language_info": {
   "codemirror_mode": {
    "name": "ipython",
    "version": 3
   },
   "file_extension": ".py",
   "mimetype": "text/x-python",
   "name": "python",
   "nbconvert_exporter": "python",
   "pygments_lexer": "ipython3",
   "version": "3.12.7"
  }
 },
 "nbformat": 4,
 "nbformat_minor": 5
}
