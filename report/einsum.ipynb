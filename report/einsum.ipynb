{
 "cells": [
  {
   "cell_type": "code",
   "execution_count": 1,
   "id": "15fbc6e0-c155-425e-bbbd-59b752928d88",
   "metadata": {},
   "outputs": [],
   "source": [
    "import numpy as np\n",
    "import functools,operator"
   ]
  },
  {
   "cell_type": "code",
   "execution_count": 2,
   "id": "5eb4d61f-06b9-4009-b9da-6364d19fe3cc",
   "metadata": {},
   "outputs": [],
   "source": [
    "def contraction(A,B,indA,indB):\n",
    "    indA=np.array(indA)\n",
    "    indB=np.array(indB)\n",
    "    sizeA=len(A.shape)\n",
    "    sizeB=len(B.shape)\n",
    "    indA2=np.setdiff1d(range(sizeA),indA)\n",
    "    indB2=np.setdiff1d(range(sizeB),indB)\n",
    "    Ashape=A.shape\n",
    "    Bshape=B.shape\n",
    "    A=np.moveaxis(A,indA2,range(len(indA2)))\n",
    "    tempB=list(range(-len(indB2),0,1))\n",
    "    B=np.moveaxis(B,indB2,tempB)\n",
    "    #B=np.moveaxis(B,[0],[1]) #problem is here in move axis, in general I don't give the same ordering on thick leg\n",
    "    Aorig = A.shape[:-len(indA)]\n",
    "    Acontr= A.shape[-len(indA):]\n",
    "    Borig = B.shape[len(indB):]\n",
    "    Bcontr= B.shape[:len(indB)]\n",
    "    try:\n",
    "        dimsA1=functools.reduce(operator.mul,Aorig)\n",
    "        dimsA2 = functools.reduce(operator.mul, Acontr)\n",
    "        A=A.reshape((dimsA1,dimsA2))\n",
    "    except:\n",
    "        A=A.flatten()\n",
    "    try:\n",
    "        tempB=list(range(0,len(indB)))\n",
    "        reverseds=tempB[::-1]\n",
    "        B=np.moveaxis(B,tempB,reverseds)\n",
    "        dimsB1 = functools.reduce(operator.mul, Borig)\n",
    "        dimsB2 = functools.reduce(operator.mul, Bcontr)\n",
    "        B=B.reshape((dimsB2,dimsB1))\n",
    "    except:\n",
    "        B=B.flatten()\n",
    "    C=A@B\n",
    "    try:\n",
    "        newdims = np.concatenate((Aorig, Borig))\n",
    "        return C.reshape(newdims)\n",
    "    except:\n",
    "        return C.reshape(Aorig)"
   ]
  },
  {
   "cell_type": "code",
   "execution_count": 3,
   "id": "7ffa1780-0c1c-45b5-8275-581a74ab3404",
   "metadata": {},
   "outputs": [],
   "source": [
    "Da = 10; # alpha()\n",
    "Db = 12; # beta()\n",
    "Dc = 14; # gamma()\n",
    "Dd = 17; # delta\n",
    "Dm = 20; # mu"
   ]
  },
  {
   "cell_type": "code",
   "execution_count": 4,
   "id": "73be70a5-69fa-4886-b43d-cae6b5f5cb4d",
   "metadata": {},
   "outputs": [],
   "source": [
    "A = np.random.rand(Dc,Dd);   # tensor A[gamma,delta]\n",
    "A[A<0.8]=0 #to make it sparse\n",
    "B = np.random.rand(Da,Dm,Dc); # tensor B[alpha,mu,gamma]\n",
    "B[B<0.8]=0\n",
    "C = np.random.rand(Db,Dm,Dd); # tensor C[beta,mu,delta]\n",
    "C[C<0.8]=0"
   ]
  },
  {
   "cell_type": "code",
   "execution_count": 5,
   "id": "49ed0398-b097-409d-8ca0-791848a249a7",
   "metadata": {},
   "outputs": [
    {
     "data": {
      "text/plain": [
       "((14, 17), (10, 20, 14))"
      ]
     },
     "execution_count": 5,
     "metadata": {},
     "output_type": "execute_result"
    }
   ],
   "source": [
    "A.shape,B.shape"
   ]
  },
  {
   "cell_type": "code",
   "execution_count": 6,
   "id": "67572c04-c0fc-47b8-aa0b-66802cc5ffb0",
   "metadata": {},
   "outputs": [],
   "source": [
    "AB = contraction(A,B,[0],[2]);\n",
    "ABC=contraction(AB,C,[0,2],[2,1]);"
   ]
  },
  {
   "cell_type": "code",
   "execution_count": 7,
   "id": "e2121cc4-bbdb-4f87-ad08-4a76d2137c6e",
   "metadata": {},
   "outputs": [
    {
     "name": "stdout",
     "output_type": "stream",
     "text": [
      "349 μs ± 33.3 μs per loop (mean ± std. dev. of 7 runs, 1,000 loops each)\n"
     ]
    }
   ],
   "source": [
    "%%timeit\n",
    "AB = contraction(A,B,[0],[2]);\n",
    "ABC=contraction(AB,C,[0,2],[2,1]);\n"
   ]
  },
  {
   "cell_type": "code",
   "execution_count": 8,
   "id": "efd55d05-8ed9-443b-b225-7a5d28949c81",
   "metadata": {},
   "outputs": [],
   "source": [
    "AB_True=np.einsum('ji,klj->ikl',A,B)\n",
    "ABC_True=np.einsum('lmn,onl->mo',AB_True,C)"
   ]
  },
  {
   "cell_type": "code",
   "execution_count": 9,
   "id": "b4486f2f-57a0-465f-a181-e81d1e681dc1",
   "metadata": {},
   "outputs": [
    {
     "name": "stdout",
     "output_type": "stream",
     "text": [
      "50.2 μs ± 2.7 μs per loop (mean ± std. dev. of 7 runs, 10,000 loops each)\n"
     ]
    }
   ],
   "source": [
    "%%timeit\n",
    "AB_True=np.einsum('ji,klj->ikl',A,B)\n",
    "ABC_True=np.einsum('lmn,onl->mo',AB_True,C)"
   ]
  },
  {
   "cell_type": "code",
   "execution_count": 10,
   "id": "ff8979a4-3152-47be-b965-ace78eb6f039",
   "metadata": {},
   "outputs": [
    {
     "data": {
      "text/plain": [
       "True"
      ]
     },
     "execution_count": 10,
     "metadata": {},
     "output_type": "execute_result"
    }
   ],
   "source": [
    "np.isclose(ABC,ABC_True).all()"
   ]
  },
  {
   "cell_type": "code",
   "execution_count": 11,
   "id": "ab49aba3-ba76-4e4d-8ab7-8e6cbefcd5f2",
   "metadata": {},
   "outputs": [],
   "source": [
    "import jax.numpy as jnp\n"
   ]
  },
  {
   "cell_type": "code",
   "execution_count": 12,
   "id": "de746fe4-e5fc-44d1-8af7-de5ec0c53097",
   "metadata": {},
   "outputs": [],
   "source": [
    "def contraction_jax(A,B,indA,indB):\n",
    "    indA=jnp.array(indA)\n",
    "    indB=jnp.array(indB)\n",
    "    sizeA=len(A.shape)\n",
    "    sizeB=len(B.shape)\n",
    "    indA2=jnp.setdiff1d(jnp.array(range(sizeA)),indA)\n",
    "    indB2=jnp.setdiff1d(jnp.array(range(sizeB)),indB)\n",
    "    Ashape=A.shape\n",
    "    Bshape=B.shape\n",
    "    A=jnp.moveaxis(A,indA2,range(len(indA2)))\n",
    "    tempB=list(range(-len(indB2),0,1))\n",
    "    B=jnp.moveaxis(B,indB2,tempB)\n",
    "    #B=np.moveaxis(B,[0],[1]) #problem is here in move axis, in general I don't give the same ordering on thick leg\n",
    "    Aorig = A.shape[:-len(indA)]\n",
    "    Acontr= A.shape[-len(indA):]\n",
    "    Borig = B.shape[len(indB):]\n",
    "    Bcontr= B.shape[:len(indB)]\n",
    "    try:\n",
    "        dimsA1=functools.reduce(operator.mul,Aorig)\n",
    "        dimsA2 = functools.reduce(operator.mul, Acontr)\n",
    "        A=A.reshape((dimsA1,dimsA2))\n",
    "    except:\n",
    "        A=A.flatten()\n",
    "    try:\n",
    "        tempB=list(range(0,len(indB)))\n",
    "        reverseds=tempB[::-1]\n",
    "        B=jnp.moveaxis(B,tempB,reverseds)\n",
    "        dimsB1 = functools.reduce(operator.mul, Borig)\n",
    "        dimsB2 = functools.reduce(operator.mul, Bcontr)\n",
    "        B=B.reshape((dimsB2,dimsB1))\n",
    "    except:\n",
    "        B=B.flatten()\n",
    "    C=A@B\n",
    "    try:\n",
    "        newdims = jnp.concatenate((jnp.array(Aorig), jnp.array(Borig)))\n",
    "        return C.reshape(newdims)\n",
    "    except:\n",
    "        return C.reshape(Aorig)"
   ]
  },
  {
   "cell_type": "code",
   "execution_count": 13,
   "id": "59264d32-6c59-4e0d-8ca6-62f1e9a93ed2",
   "metadata": {},
   "outputs": [],
   "source": [
    "import jax\n",
    "jax.config.update(\"jax_enable_x64\", True)"
   ]
  },
  {
   "cell_type": "code",
   "execution_count": 14,
   "id": "0f5c2334-a791-45ca-b528-d011a51449dd",
   "metadata": {},
   "outputs": [],
   "source": [
    "Ajax= jnp.array(A) \n",
    "Bjax= jnp.array(B) \n",
    "Cjax= jnp.array(C) "
   ]
  },
  {
   "cell_type": "code",
   "execution_count": 15,
   "id": "693a8b5a-0661-4e74-9cb0-872c9532362b",
   "metadata": {},
   "outputs": [
    {
     "name": "stdout",
     "output_type": "stream",
     "text": [
      "14.7 ms ± 998 μs per loop (mean ± std. dev. of 7 runs, 1 loop each)\n"
     ]
    }
   ],
   "source": [
    "%%timeit\n",
    "ABjax = contraction_jax(Ajax,Bjax,[0],[2]);\n",
    "ABCjax=contraction_jax(ABjax,Cjax,[0,2],[2,1]);"
   ]
  },
  {
   "cell_type": "code",
   "execution_count": 16,
   "id": "6b98073e-eab8-4743-b820-66b05f21ea93",
   "metadata": {},
   "outputs": [],
   "source": [
    "ABjax = contraction(Ajax,Bjax,[0],[2]);\n",
    "ABCjax=contraction(ABjax,Cjax,[0,2],[2,1]);"
   ]
  },
  {
   "cell_type": "code",
   "execution_count": 17,
   "id": "d84c3504-21d7-4cbe-802b-b675ca44cd63",
   "metadata": {},
   "outputs": [
    {
     "data": {
      "text/plain": [
       "True"
      ]
     },
     "execution_count": 17,
     "metadata": {},
     "output_type": "execute_result"
    }
   ],
   "source": [
    "np.isclose(np.array(ABCjax),ABC_True).all()"
   ]
  },
  {
   "cell_type": "markdown",
   "id": "b5446565-98f2-4ead-bd8f-b066c484626d",
   "metadata": {},
   "source": [
    "# Scipy sparse matrices.\n"
   ]
  },
  {
   "cell_type": "code",
   "execution_count": 20,
   "id": "d2b1d98e-0fe9-4f06-b7dc-48f5130be3ef",
   "metadata": {},
   "outputs": [],
   "source": [
    "from scipy.sparse import coo_array"
   ]
  },
  {
   "cell_type": "code",
   "execution_count": 23,
   "id": "e1ac54ac-6b44-48d5-89ae-554129451e75",
   "metadata": {},
   "outputs": [
    {
     "ename": "TypeError",
     "evalue": "expected dimension <= 2 array or matrix",
     "output_type": "error",
     "traceback": [
      "\u001b[0;31m---------------------------------------------------------------------------\u001b[0m",
      "\u001b[0;31mTypeError\u001b[0m                                 Traceback (most recent call last)",
      "Cell \u001b[0;32mIn[23], line 2\u001b[0m\n\u001b[1;32m      1\u001b[0m \u001b[38;5;66;03m#Asparse=coo_array(A)\u001b[39;00m\n\u001b[0;32m----> 2\u001b[0m Bsparse\u001b[38;5;241m=\u001b[39m\u001b[43mcoo_array\u001b[49m\u001b[43m(\u001b[49m\u001b[43mB\u001b[49m\u001b[43m)\u001b[49m\n\u001b[1;32m      3\u001b[0m \u001b[38;5;66;03m#Csparse=coo_array(C)\u001b[39;00m\n",
      "File \u001b[0;32m~/miniconda3/envs/qutip-dev/lib/python3.12/site-packages/scipy/sparse/_coo.py:82\u001b[0m, in \u001b[0;36m_coo_base.__init__\u001b[0;34m(self, arg1, shape, dtype, copy)\u001b[0m\n\u001b[1;32m     79\u001b[0m M \u001b[38;5;241m=\u001b[39m np\u001b[38;5;241m.\u001b[39matleast_2d(np\u001b[38;5;241m.\u001b[39masarray(arg1))\n\u001b[1;32m     81\u001b[0m \u001b[38;5;28;01mif\u001b[39;00m M\u001b[38;5;241m.\u001b[39mndim \u001b[38;5;241m!=\u001b[39m \u001b[38;5;241m2\u001b[39m:\n\u001b[0;32m---> 82\u001b[0m     \u001b[38;5;28;01mraise\u001b[39;00m \u001b[38;5;167;01mTypeError\u001b[39;00m(\u001b[38;5;124m'\u001b[39m\u001b[38;5;124mexpected dimension <= 2 array or matrix\u001b[39m\u001b[38;5;124m'\u001b[39m)\n\u001b[1;32m     84\u001b[0m \u001b[38;5;28mself\u001b[39m\u001b[38;5;241m.\u001b[39m_shape \u001b[38;5;241m=\u001b[39m check_shape(M\u001b[38;5;241m.\u001b[39mshape)\n\u001b[1;32m     85\u001b[0m \u001b[38;5;28;01mif\u001b[39;00m shape \u001b[38;5;129;01mis\u001b[39;00m \u001b[38;5;129;01mnot\u001b[39;00m \u001b[38;5;28;01mNone\u001b[39;00m:\n",
      "\u001b[0;31mTypeError\u001b[0m: expected dimension <= 2 array or matrix"
     ]
    }
   ],
   "source": [
    "#Asparse=coo_array(A)\n",
    "Bsparse=coo_array(B)\n",
    "#Csparse=coo_array(C)"
   ]
  },
  {
   "cell_type": "code",
   "execution_count": null,
   "id": "413b78d3-21ec-4728-9543-066253d84847",
   "metadata": {},
   "outputs": [],
   "source": []
  }
 ],
 "metadata": {
  "kernelspec": {
   "display_name": "Python 3 (ipykernel)",
   "language": "python",
   "name": "python3"
  },
  "language_info": {
   "codemirror_mode": {
    "name": "ipython",
    "version": 3
   },
   "file_extension": ".py",
   "mimetype": "text/x-python",
   "name": "python",
   "nbconvert_exporter": "python",
   "pygments_lexer": "ipython3",
   "version": "3.12.2"
  }
 },
 "nbformat": 4,
 "nbformat_minor": 5
}
