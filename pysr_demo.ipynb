{
 "cells": [
  {
   "cell_type": "markdown",
   "metadata": {
    "id": "DS4E1PagbDgL"
   },
   "source": [
    "# Setup"
   ]
  },
  {
   "cell_type": "markdown",
   "metadata": {
    "id": "tQ1r1bbb0yBv"
   },
   "source": [
    "## Instructions\n",
    "1. Work on a copy of this notebook: _File_ > _Save a copy in Drive_ (you will need a Google account).\n",
    "2. (Optional) If you would like to do the deep learning component of this tutorial, turn on the GPU with Edit->Notebook settings->Hardware accelerator->GPU\n"
   ]
  },
  {
   "cell_type": "markdown",
   "metadata": {},
   "source": [
    "Julia and Julia dependencies are installed at first import:"
   ]
  },
  {
   "cell_type": "code",
   "execution_count": 1,
   "metadata": {},
   "outputs": [
    {
     "name": "stdout",
     "output_type": "stream",
     "text": [
      "Detected IPython. Loading juliacall extension. See https://juliapy.github.io/PythonCall.jl/stable/compat/#IPython\n"
     ]
    }
   ],
   "source": [
    "import pysr"
   ]
  },
  {
   "cell_type": "markdown",
   "metadata": {
    "id": "qeCPKd9wldEK"
   },
   "source": [
    "Now, let's import everything else as well as the PySRRegressor:\n"
   ]
  },
  {
   "cell_type": "code",
   "execution_count": 2,
   "metadata": {
    "id": "vFpyRxmhFqeH"
   },
   "outputs": [],
   "source": [
    "import sympy\n",
    "import numpy as np\n",
    "from matplotlib import pyplot as plt\n",
    "from pysr import PySRRegressor\n",
    "from sklearn.model_selection import train_test_split"
   ]
  },
  {
   "cell_type": "markdown",
   "metadata": {
    "id": "gsRMQ7grbDga"
   },
   "source": [
    "# Simple PySR example:\n"
   ]
  },
  {
   "cell_type": "markdown",
   "metadata": {
    "id": "myTEwdiUFiGL"
   },
   "source": [
    "First, let's learn a simple function\n",
    "\n",
    "$$2.5382 \\cos(x3) + x0^2 - 2$$"
   ]
  },
  {
   "cell_type": "code",
   "execution_count": 3,
   "metadata": {},
   "outputs": [],
   "source": [
    "from scipy.integrate import quad"
   ]
  },
  {
   "cell_type": "code",
   "execution_count": 4,
   "metadata": {},
   "outputs": [],
   "source": [
    "def _matsubara_zero_integrand(t, coup_strength, bath_broad, bath_freq):\n",
    "    \"\"\"\n",
    "    Integral for the zero temperature Matsubara exponentials.\n",
    "    \"\"\"\n",
    "    lam = coup_strength\n",
    "    gamma = bath_broad\n",
    "    w0 = bath_freq\n",
    "\n",
    "    omega = np.sqrt(w0 ** 2 - (gamma / 2) ** 2 +0j )\n",
    "    a = omega + 1j * gamma/2 \n",
    "    aa = np.conjugate(a)\n",
    "\n",
    "    prefactor = -(lam ** 2 * gamma) / np.pi\n",
    "    integrand = lambda x: prefactor * ((x * np.exp(-x * t)) / ((a ** 2 + x ** 2) * (aa ** 2 + x ** 2)))\n",
    "    return quad(integrand, 0, np.inf,limit=5000,complex_func=True)[0]"
   ]
  },
  {
   "cell_type": "code",
   "execution_count": 5,
   "metadata": {},
   "outputs": [],
   "source": [
    "funcx=np.vectorize(_matsubara_zero_integrand)"
   ]
  },
  {
   "cell_type": "code",
   "execution_count": 6,
   "metadata": {},
   "outputs": [],
   "source": [
    "def matsubara_zero_integrand(X):\n",
    "    \"\"\"\n",
    "    Integral for the zero temperature Matsubara exponentials.\n",
    "    \"\"\"\n",
    "    lam = np.ones(len(X[:,0]))\n",
    "    gamma = X[:,0]\n",
    "    w0 = X[:,1]\n",
    "    t=X[:,2]\n",
    "    return funcx(t,lam,gamma,w0)"
   ]
  },
  {
   "cell_type": "code",
   "execution_count": 53,
   "metadata": {},
   "outputs": [],
   "source": [
    "X0 = 5 *np.abs(np.random.randn(100000, 1))\n",
    "X1 = 10*(np.abs(np.random.randn(100000, 1))+1)\n",
    "X2 = 10*np.abs(np.random.randn(100000, 1))\n",
    "X=np.hstack([X0,X1,X2])"
   ]
  },
  {
   "cell_type": "code",
   "execution_count": 54,
   "metadata": {},
   "outputs": [
    {
     "data": {
      "text/plain": [
       "True"
      ]
     },
     "execution_count": 54,
     "metadata": {},
     "output_type": "execute_result"
    }
   ],
   "source": [
    "(2*X[:,1] >X[:,0]).all()"
   ]
  },
  {
   "cell_type": "code",
   "execution_count": 55,
   "metadata": {},
   "outputs": [
    {
     "data": {
      "text/plain": [
       "(100000,)"
      ]
     },
     "execution_count": 55,
     "metadata": {},
     "output_type": "execute_result"
    }
   ],
   "source": [
    "y=matsubara_zero_integrand(X+0j)\n",
    "y.shape"
   ]
  },
  {
   "cell_type": "markdown",
   "metadata": {
    "id": "cturCkaVjzLs"
   },
   "source": [
    "By default, we will set up 30 populations of expressions (which evolve independently except for migrations), use 4 threads, and use `\"best\"` for our model selection strategy:"
   ]
  },
  {
   "cell_type": "code",
   "execution_count": 56,
   "metadata": {
    "id": "4nDAAnisdhTc"
   },
   "outputs": [],
   "source": [
    "default_pysr_params = dict(\n",
    "    populations=10,\n",
    "    model_selection=\"best\",\n",
    ")"
   ]
  },
  {
   "cell_type": "markdown",
   "metadata": {
    "id": "N4gANfkaj8ie"
   },
   "source": [
    "PySR can run for arbitrarily long, and continue to find more and more accurate expressions. You can set the total number of cycles of evolution with `niterations`, although there are also a [few more ways](https://github.com/MilesCranmer/PySR/pull/134) to stop execution.\n",
    "\n",
    "**This first execution will take a bit longer to startup, as the library is JIT-compiled. The next execution will be much faster.**"
   ]
  },
  {
   "cell_type": "code",
   "execution_count": 57,
   "metadata": {
    "colab": {
     "base_uri": "https://localhost:8080/",
     "height": 1000
    },
    "id": "p4PSrO-NK1Wa",
    "outputId": "55910ab3-895d-400b-e9ce-c75aef639c68"
   },
   "outputs": [],
   "source": [
    "# Learn equations\n",
    "model = PySRRegressor(\n",
    "    niterations=50,\n",
    "    binary_operators=[\"+\", \"*\",\"-\",\"/\"],\n",
    "    unary_operators=[\"exp\"],\n",
    "    **default_pysr_params,\n",
    "    procs=10,\n",
    ")\n",
    "\n",
    "model.fit(X, y)"
   ]
  },
  {
   "cell_type": "markdown",
   "metadata": {
    "id": "-bsAECbdkQsQ"
   },
   "source": [
    "We can print the model, which will print out all the discovered expressions:"
   ]
  },
  {
   "cell_type": "code",
   "execution_count": 47,
   "metadata": {
    "colab": {
     "base_uri": "https://localhost:8080/",
     "height": 252
    },
    "id": "4HR8gknlZz4W",
    "outputId": "496283bd-a743-4cc6-a2f9-9619ba91d870"
   },
   "outputs": [
    {
     "data": {
      "text/html": [
       "<style>#sk-container-id-5 {\n",
       "  /* Definition of color scheme common for light and dark mode */\n",
       "  --sklearn-color-text: black;\n",
       "  --sklearn-color-line: gray;\n",
       "  /* Definition of color scheme for unfitted estimators */\n",
       "  --sklearn-color-unfitted-level-0: #fff5e6;\n",
       "  --sklearn-color-unfitted-level-1: #f6e4d2;\n",
       "  --sklearn-color-unfitted-level-2: #ffe0b3;\n",
       "  --sklearn-color-unfitted-level-3: chocolate;\n",
       "  /* Definition of color scheme for fitted estimators */\n",
       "  --sklearn-color-fitted-level-0: #f0f8ff;\n",
       "  --sklearn-color-fitted-level-1: #d4ebff;\n",
       "  --sklearn-color-fitted-level-2: #b3dbfd;\n",
       "  --sklearn-color-fitted-level-3: cornflowerblue;\n",
       "\n",
       "  /* Specific color for light theme */\n",
       "  --sklearn-color-text-on-default-background: var(--sg-text-color, var(--theme-code-foreground, var(--jp-content-font-color1, black)));\n",
       "  --sklearn-color-background: var(--sg-background-color, var(--theme-background, var(--jp-layout-color0, white)));\n",
       "  --sklearn-color-border-box: var(--sg-text-color, var(--theme-code-foreground, var(--jp-content-font-color1, black)));\n",
       "  --sklearn-color-icon: #696969;\n",
       "\n",
       "  @media (prefers-color-scheme: dark) {\n",
       "    /* Redefinition of color scheme for dark theme */\n",
       "    --sklearn-color-text-on-default-background: var(--sg-text-color, var(--theme-code-foreground, var(--jp-content-font-color1, white)));\n",
       "    --sklearn-color-background: var(--sg-background-color, var(--theme-background, var(--jp-layout-color0, #111)));\n",
       "    --sklearn-color-border-box: var(--sg-text-color, var(--theme-code-foreground, var(--jp-content-font-color1, white)));\n",
       "    --sklearn-color-icon: #878787;\n",
       "  }\n",
       "}\n",
       "\n",
       "#sk-container-id-5 {\n",
       "  color: var(--sklearn-color-text);\n",
       "}\n",
       "\n",
       "#sk-container-id-5 pre {\n",
       "  padding: 0;\n",
       "}\n",
       "\n",
       "#sk-container-id-5 input.sk-hidden--visually {\n",
       "  border: 0;\n",
       "  clip: rect(1px 1px 1px 1px);\n",
       "  clip: rect(1px, 1px, 1px, 1px);\n",
       "  height: 1px;\n",
       "  margin: -1px;\n",
       "  overflow: hidden;\n",
       "  padding: 0;\n",
       "  position: absolute;\n",
       "  width: 1px;\n",
       "}\n",
       "\n",
       "#sk-container-id-5 div.sk-dashed-wrapped {\n",
       "  border: 1px dashed var(--sklearn-color-line);\n",
       "  margin: 0 0.4em 0.5em 0.4em;\n",
       "  box-sizing: border-box;\n",
       "  padding-bottom: 0.4em;\n",
       "  background-color: var(--sklearn-color-background);\n",
       "}\n",
       "\n",
       "#sk-container-id-5 div.sk-container {\n",
       "  /* jupyter's `normalize.less` sets `[hidden] { display: none; }`\n",
       "     but bootstrap.min.css set `[hidden] { display: none !important; }`\n",
       "     so we also need the `!important` here to be able to override the\n",
       "     default hidden behavior on the sphinx rendered scikit-learn.org.\n",
       "     See: https://github.com/scikit-learn/scikit-learn/issues/21755 */\n",
       "  display: inline-block !important;\n",
       "  position: relative;\n",
       "}\n",
       "\n",
       "#sk-container-id-5 div.sk-text-repr-fallback {\n",
       "  display: none;\n",
       "}\n",
       "\n",
       "div.sk-parallel-item,\n",
       "div.sk-serial,\n",
       "div.sk-item {\n",
       "  /* draw centered vertical line to link estimators */\n",
       "  background-image: linear-gradient(var(--sklearn-color-text-on-default-background), var(--sklearn-color-text-on-default-background));\n",
       "  background-size: 2px 100%;\n",
       "  background-repeat: no-repeat;\n",
       "  background-position: center center;\n",
       "}\n",
       "\n",
       "/* Parallel-specific style estimator block */\n",
       "\n",
       "#sk-container-id-5 div.sk-parallel-item::after {\n",
       "  content: \"\";\n",
       "  width: 100%;\n",
       "  border-bottom: 2px solid var(--sklearn-color-text-on-default-background);\n",
       "  flex-grow: 1;\n",
       "}\n",
       "\n",
       "#sk-container-id-5 div.sk-parallel {\n",
       "  display: flex;\n",
       "  align-items: stretch;\n",
       "  justify-content: center;\n",
       "  background-color: var(--sklearn-color-background);\n",
       "  position: relative;\n",
       "}\n",
       "\n",
       "#sk-container-id-5 div.sk-parallel-item {\n",
       "  display: flex;\n",
       "  flex-direction: column;\n",
       "}\n",
       "\n",
       "#sk-container-id-5 div.sk-parallel-item:first-child::after {\n",
       "  align-self: flex-end;\n",
       "  width: 50%;\n",
       "}\n",
       "\n",
       "#sk-container-id-5 div.sk-parallel-item:last-child::after {\n",
       "  align-self: flex-start;\n",
       "  width: 50%;\n",
       "}\n",
       "\n",
       "#sk-container-id-5 div.sk-parallel-item:only-child::after {\n",
       "  width: 0;\n",
       "}\n",
       "\n",
       "/* Serial-specific style estimator block */\n",
       "\n",
       "#sk-container-id-5 div.sk-serial {\n",
       "  display: flex;\n",
       "  flex-direction: column;\n",
       "  align-items: center;\n",
       "  background-color: var(--sklearn-color-background);\n",
       "  padding-right: 1em;\n",
       "  padding-left: 1em;\n",
       "}\n",
       "\n",
       "\n",
       "/* Toggleable style: style used for estimator/Pipeline/ColumnTransformer box that is\n",
       "clickable and can be expanded/collapsed.\n",
       "- Pipeline and ColumnTransformer use this feature and define the default style\n",
       "- Estimators will overwrite some part of the style using the `sk-estimator` class\n",
       "*/\n",
       "\n",
       "/* Pipeline and ColumnTransformer style (default) */\n",
       "\n",
       "#sk-container-id-5 div.sk-toggleable {\n",
       "  /* Default theme specific background. It is overwritten whether we have a\n",
       "  specific estimator or a Pipeline/ColumnTransformer */\n",
       "  background-color: var(--sklearn-color-background);\n",
       "}\n",
       "\n",
       "/* Toggleable label */\n",
       "#sk-container-id-5 label.sk-toggleable__label {\n",
       "  cursor: pointer;\n",
       "  display: block;\n",
       "  width: 100%;\n",
       "  margin-bottom: 0;\n",
       "  padding: 0.5em;\n",
       "  box-sizing: border-box;\n",
       "  text-align: center;\n",
       "}\n",
       "\n",
       "#sk-container-id-5 label.sk-toggleable__label-arrow:before {\n",
       "  /* Arrow on the left of the label */\n",
       "  content: \"▸\";\n",
       "  float: left;\n",
       "  margin-right: 0.25em;\n",
       "  color: var(--sklearn-color-icon);\n",
       "}\n",
       "\n",
       "#sk-container-id-5 label.sk-toggleable__label-arrow:hover:before {\n",
       "  color: var(--sklearn-color-text);\n",
       "}\n",
       "\n",
       "/* Toggleable content - dropdown */\n",
       "\n",
       "#sk-container-id-5 div.sk-toggleable__content {\n",
       "  max-height: 0;\n",
       "  max-width: 0;\n",
       "  overflow: hidden;\n",
       "  text-align: left;\n",
       "  /* unfitted */\n",
       "  background-color: var(--sklearn-color-unfitted-level-0);\n",
       "}\n",
       "\n",
       "#sk-container-id-5 div.sk-toggleable__content.fitted {\n",
       "  /* fitted */\n",
       "  background-color: var(--sklearn-color-fitted-level-0);\n",
       "}\n",
       "\n",
       "#sk-container-id-5 div.sk-toggleable__content pre {\n",
       "  margin: 0.2em;\n",
       "  border-radius: 0.25em;\n",
       "  color: var(--sklearn-color-text);\n",
       "  /* unfitted */\n",
       "  background-color: var(--sklearn-color-unfitted-level-0);\n",
       "}\n",
       "\n",
       "#sk-container-id-5 div.sk-toggleable__content.fitted pre {\n",
       "  /* unfitted */\n",
       "  background-color: var(--sklearn-color-fitted-level-0);\n",
       "}\n",
       "\n",
       "#sk-container-id-5 input.sk-toggleable__control:checked~div.sk-toggleable__content {\n",
       "  /* Expand drop-down */\n",
       "  max-height: 200px;\n",
       "  max-width: 100%;\n",
       "  overflow: auto;\n",
       "}\n",
       "\n",
       "#sk-container-id-5 input.sk-toggleable__control:checked~label.sk-toggleable__label-arrow:before {\n",
       "  content: \"▾\";\n",
       "}\n",
       "\n",
       "/* Pipeline/ColumnTransformer-specific style */\n",
       "\n",
       "#sk-container-id-5 div.sk-label input.sk-toggleable__control:checked~label.sk-toggleable__label {\n",
       "  color: var(--sklearn-color-text);\n",
       "  background-color: var(--sklearn-color-unfitted-level-2);\n",
       "}\n",
       "\n",
       "#sk-container-id-5 div.sk-label.fitted input.sk-toggleable__control:checked~label.sk-toggleable__label {\n",
       "  background-color: var(--sklearn-color-fitted-level-2);\n",
       "}\n",
       "\n",
       "/* Estimator-specific style */\n",
       "\n",
       "/* Colorize estimator box */\n",
       "#sk-container-id-5 div.sk-estimator input.sk-toggleable__control:checked~label.sk-toggleable__label {\n",
       "  /* unfitted */\n",
       "  background-color: var(--sklearn-color-unfitted-level-2);\n",
       "}\n",
       "\n",
       "#sk-container-id-5 div.sk-estimator.fitted input.sk-toggleable__control:checked~label.sk-toggleable__label {\n",
       "  /* fitted */\n",
       "  background-color: var(--sklearn-color-fitted-level-2);\n",
       "}\n",
       "\n",
       "#sk-container-id-5 div.sk-label label.sk-toggleable__label,\n",
       "#sk-container-id-5 div.sk-label label {\n",
       "  /* The background is the default theme color */\n",
       "  color: var(--sklearn-color-text-on-default-background);\n",
       "}\n",
       "\n",
       "/* On hover, darken the color of the background */\n",
       "#sk-container-id-5 div.sk-label:hover label.sk-toggleable__label {\n",
       "  color: var(--sklearn-color-text);\n",
       "  background-color: var(--sklearn-color-unfitted-level-2);\n",
       "}\n",
       "\n",
       "/* Label box, darken color on hover, fitted */\n",
       "#sk-container-id-5 div.sk-label.fitted:hover label.sk-toggleable__label.fitted {\n",
       "  color: var(--sklearn-color-text);\n",
       "  background-color: var(--sklearn-color-fitted-level-2);\n",
       "}\n",
       "\n",
       "/* Estimator label */\n",
       "\n",
       "#sk-container-id-5 div.sk-label label {\n",
       "  font-family: monospace;\n",
       "  font-weight: bold;\n",
       "  display: inline-block;\n",
       "  line-height: 1.2em;\n",
       "}\n",
       "\n",
       "#sk-container-id-5 div.sk-label-container {\n",
       "  text-align: center;\n",
       "}\n",
       "\n",
       "/* Estimator-specific */\n",
       "#sk-container-id-5 div.sk-estimator {\n",
       "  font-family: monospace;\n",
       "  border: 1px dotted var(--sklearn-color-border-box);\n",
       "  border-radius: 0.25em;\n",
       "  box-sizing: border-box;\n",
       "  margin-bottom: 0.5em;\n",
       "  /* unfitted */\n",
       "  background-color: var(--sklearn-color-unfitted-level-0);\n",
       "}\n",
       "\n",
       "#sk-container-id-5 div.sk-estimator.fitted {\n",
       "  /* fitted */\n",
       "  background-color: var(--sklearn-color-fitted-level-0);\n",
       "}\n",
       "\n",
       "/* on hover */\n",
       "#sk-container-id-5 div.sk-estimator:hover {\n",
       "  /* unfitted */\n",
       "  background-color: var(--sklearn-color-unfitted-level-2);\n",
       "}\n",
       "\n",
       "#sk-container-id-5 div.sk-estimator.fitted:hover {\n",
       "  /* fitted */\n",
       "  background-color: var(--sklearn-color-fitted-level-2);\n",
       "}\n",
       "\n",
       "/* Specification for estimator info (e.g. \"i\" and \"?\") */\n",
       "\n",
       "/* Common style for \"i\" and \"?\" */\n",
       "\n",
       ".sk-estimator-doc-link,\n",
       "a:link.sk-estimator-doc-link,\n",
       "a:visited.sk-estimator-doc-link {\n",
       "  float: right;\n",
       "  font-size: smaller;\n",
       "  line-height: 1em;\n",
       "  font-family: monospace;\n",
       "  background-color: var(--sklearn-color-background);\n",
       "  border-radius: 1em;\n",
       "  height: 1em;\n",
       "  width: 1em;\n",
       "  text-decoration: none !important;\n",
       "  margin-left: 1ex;\n",
       "  /* unfitted */\n",
       "  border: var(--sklearn-color-unfitted-level-1) 1pt solid;\n",
       "  color: var(--sklearn-color-unfitted-level-1);\n",
       "}\n",
       "\n",
       ".sk-estimator-doc-link.fitted,\n",
       "a:link.sk-estimator-doc-link.fitted,\n",
       "a:visited.sk-estimator-doc-link.fitted {\n",
       "  /* fitted */\n",
       "  border: var(--sklearn-color-fitted-level-1) 1pt solid;\n",
       "  color: var(--sklearn-color-fitted-level-1);\n",
       "}\n",
       "\n",
       "/* On hover */\n",
       "div.sk-estimator:hover .sk-estimator-doc-link:hover,\n",
       ".sk-estimator-doc-link:hover,\n",
       "div.sk-label-container:hover .sk-estimator-doc-link:hover,\n",
       ".sk-estimator-doc-link:hover {\n",
       "  /* unfitted */\n",
       "  background-color: var(--sklearn-color-unfitted-level-3);\n",
       "  color: var(--sklearn-color-background);\n",
       "  text-decoration: none;\n",
       "}\n",
       "\n",
       "div.sk-estimator.fitted:hover .sk-estimator-doc-link.fitted:hover,\n",
       ".sk-estimator-doc-link.fitted:hover,\n",
       "div.sk-label-container:hover .sk-estimator-doc-link.fitted:hover,\n",
       ".sk-estimator-doc-link.fitted:hover {\n",
       "  /* fitted */\n",
       "  background-color: var(--sklearn-color-fitted-level-3);\n",
       "  color: var(--sklearn-color-background);\n",
       "  text-decoration: none;\n",
       "}\n",
       "\n",
       "/* Span, style for the box shown on hovering the info icon */\n",
       ".sk-estimator-doc-link span {\n",
       "  display: none;\n",
       "  z-index: 9999;\n",
       "  position: relative;\n",
       "  font-weight: normal;\n",
       "  right: .2ex;\n",
       "  padding: .5ex;\n",
       "  margin: .5ex;\n",
       "  width: min-content;\n",
       "  min-width: 20ex;\n",
       "  max-width: 50ex;\n",
       "  color: var(--sklearn-color-text);\n",
       "  box-shadow: 2pt 2pt 4pt #999;\n",
       "  /* unfitted */\n",
       "  background: var(--sklearn-color-unfitted-level-0);\n",
       "  border: .5pt solid var(--sklearn-color-unfitted-level-3);\n",
       "}\n",
       "\n",
       ".sk-estimator-doc-link.fitted span {\n",
       "  /* fitted */\n",
       "  background: var(--sklearn-color-fitted-level-0);\n",
       "  border: var(--sklearn-color-fitted-level-3);\n",
       "}\n",
       "\n",
       ".sk-estimator-doc-link:hover span {\n",
       "  display: block;\n",
       "}\n",
       "\n",
       "/* \"?\"-specific style due to the `<a>` HTML tag */\n",
       "\n",
       "#sk-container-id-5 a.estimator_doc_link {\n",
       "  float: right;\n",
       "  font-size: 1rem;\n",
       "  line-height: 1em;\n",
       "  font-family: monospace;\n",
       "  background-color: var(--sklearn-color-background);\n",
       "  border-radius: 1rem;\n",
       "  height: 1rem;\n",
       "  width: 1rem;\n",
       "  text-decoration: none;\n",
       "  /* unfitted */\n",
       "  color: var(--sklearn-color-unfitted-level-1);\n",
       "  border: var(--sklearn-color-unfitted-level-1) 1pt solid;\n",
       "}\n",
       "\n",
       "#sk-container-id-5 a.estimator_doc_link.fitted {\n",
       "  /* fitted */\n",
       "  border: var(--sklearn-color-fitted-level-1) 1pt solid;\n",
       "  color: var(--sklearn-color-fitted-level-1);\n",
       "}\n",
       "\n",
       "/* On hover */\n",
       "#sk-container-id-5 a.estimator_doc_link:hover {\n",
       "  /* unfitted */\n",
       "  background-color: var(--sklearn-color-unfitted-level-3);\n",
       "  color: var(--sklearn-color-background);\n",
       "  text-decoration: none;\n",
       "}\n",
       "\n",
       "#sk-container-id-5 a.estimator_doc_link.fitted:hover {\n",
       "  /* fitted */\n",
       "  background-color: var(--sklearn-color-fitted-level-3);\n",
       "}\n",
       "</style><div id=\"sk-container-id-5\" class=\"sk-top-container\"><div class=\"sk-text-repr-fallback\"><pre>PySRRegressor.equations_ = [\n",
       "\t    pick     score                                           equation  \\\n",
       "\t0         0.000000                                          0.6926408   \n",
       "\t1         4.364914                                     exp(-2.561197)   \n",
       "\t2         7.108481                                x0 * -0.00041184324   \n",
       "\t3         0.041814                            -0.0022641895 / exp(x2)   \n",
       "\t4         0.141244                 -0.00041184344 / (x2 + 0.07887375)   \n",
       "\t5         0.147830                       -0.0076869363 / exp(x1 * x2)   \n",
       "\t6         0.310864           -0.0002122705 / ((x2 + 0.07572268) / x0)   \n",
       "\t7         0.105444             x0 / (exp(x1 + exp(x2)) * -0.45525673)   \n",
       "\t8         0.058640            (x0 / exp(x2 + x1)) / (-0.9219685 - x2)   \n",
       "\t9         0.012243             ((x2 - x0) / exp(x1)) / (exp(x2) + x2)   \n",
       "\t10        0.140949  (x0 / exp(-0.00041184324 + x1)) / (-0.9219685 ...   \n",
       "\t11        0.471422  (-0.28290802 * exp(((-0.28290802 + 0.60634625)...   \n",
       "\t12  &gt;&gt;&gt;&gt;  0.443509  (x2 - x0) * (exp(exp(x2) * (-0.60770625 * x1))...   \n",
       "\t13        0.053995  ((x0 / x1) - x0) * (exp(exp(x2) * (x1 * -0.607...   \n",
       "\t14        0.003257  ((x0 / (exp(x2) + x1)) - x0) * (exp(exp(x2) * ...   \n",
       "\t\n",
       "\t            loss  complexity  \n",
       "\t0   4.810965e-01           1  \n",
       "\t1   6.117499e-03           2  \n",
       "\t2   5.004953e-06           3  \n",
       "\t3   4.799993e-06           4  \n",
       "\t4   4.167726e-06           5  \n",
       "\t5   3.594986e-06           6  \n",
       "\t6   2.634455e-06           7  \n",
       "\t7   2.133551e-06           9  \n",
       "\t8   2.012037e-06          10  \n",
       "\t9   1.987553e-06          11  \n",
       "\t10  1.726257e-06          12  \n",
       "\t11  1.077382e-06          13  \n",
       "\t12  6.914428e-07          14  \n",
       "\t13  6.206641e-07          16  \n",
       "\t14  6.146295e-07          19  \n",
       "]</pre><b>In a Jupyter environment, please rerun this cell to show the HTML representation or trust the notebook. <br />On GitHub, the HTML representation is unable to render, please try loading this page with nbviewer.org.</b></div><div class=\"sk-container\" hidden><div class=\"sk-item\"><div class=\"sk-estimator fitted sk-toggleable\"><input class=\"sk-toggleable__control sk-hidden--visually\" id=\"sk-estimator-id-5\" type=\"checkbox\" checked><label for=\"sk-estimator-id-5\" class=\"sk-toggleable__label fitted sk-toggleable__label-arrow fitted\">&nbsp;PySRRegressor<span class=\"sk-estimator-doc-link fitted\">i<span>Fitted</span></span></label><div class=\"sk-toggleable__content fitted\"><pre>PySRRegressor.equations_ = [\n",
       "\t    pick     score                                           equation  \\\n",
       "\t0         0.000000                                          0.6926408   \n",
       "\t1         4.364914                                     exp(-2.561197)   \n",
       "\t2         7.108481                                x0 * -0.00041184324   \n",
       "\t3         0.041814                            -0.0022641895 / exp(x2)   \n",
       "\t4         0.141244                 -0.00041184344 / (x2 + 0.07887375)   \n",
       "\t5         0.147830                       -0.0076869363 / exp(x1 * x2)   \n",
       "\t6         0.310864           -0.0002122705 / ((x2 + 0.07572268) / x0)   \n",
       "\t7         0.105444             x0 / (exp(x1 + exp(x2)) * -0.45525673)   \n",
       "\t8         0.058640            (x0 / exp(x2 + x1)) / (-0.9219685 - x2)   \n",
       "\t9         0.012243             ((x2 - x0) / exp(x1)) / (exp(x2) + x2)   \n",
       "\t10        0.140949  (x0 / exp(-0.00041184324 + x1)) / (-0.9219685 ...   \n",
       "\t11        0.471422  (-0.28290802 * exp(((-0.28290802 + 0.60634625)...   \n",
       "\t12  &gt;&gt;&gt;&gt;  0.443509  (x2 - x0) * (exp(exp(x2) * (-0.60770625 * x1))...   \n",
       "\t13        0.053995  ((x0 / x1) - x0) * (exp(exp(x2) * (x1 * -0.607...   \n",
       "\t14        0.003257  ((x0 / (exp(x2) + x1)) - x0) * (exp(exp(x2) * ...   \n",
       "\t\n",
       "\t            loss  complexity  \n",
       "\t0   4.810965e-01           1  \n",
       "\t1   6.117499e-03           2  \n",
       "\t2   5.004953e-06           3  \n",
       "\t3   4.799993e-06           4  \n",
       "\t4   4.167726e-06           5  \n",
       "\t5   3.594986e-06           6  \n",
       "\t6   2.634455e-06           7  \n",
       "\t7   2.133551e-06           9  \n",
       "\t8   2.012037e-06          10  \n",
       "\t9   1.987553e-06          11  \n",
       "\t10  1.726257e-06          12  \n",
       "\t11  1.077382e-06          13  \n",
       "\t12  6.914428e-07          14  \n",
       "\t13  6.206641e-07          16  \n",
       "\t14  6.146295e-07          19  \n",
       "]</pre></div> </div></div></div></div>"
      ],
      "text/plain": [
       "PySRRegressor.equations_ = [\n",
       "\t    pick     score                                           equation  \\\n",
       "\t0         0.000000                                          0.6926408   \n",
       "\t1         4.364914                                     exp(-2.561197)   \n",
       "\t2         7.108481                                x0 * -0.00041184324   \n",
       "\t3         0.041814                            -0.0022641895 / exp(x2)   \n",
       "\t4         0.141244                 -0.00041184344 / (x2 + 0.07887375)   \n",
       "\t5         0.147830                       -0.0076869363 / exp(x1 * x2)   \n",
       "\t6         0.310864           -0.0002122705 / ((x2 + 0.07572268) / x0)   \n",
       "\t7         0.105444             x0 / (exp(x1 + exp(x2)) * -0.45525673)   \n",
       "\t8         0.058640            (x0 / exp(x2 + x1)) / (-0.9219685 - x2)   \n",
       "\t9         0.012243             ((x2 - x0) / exp(x1)) / (exp(x2) + x2)   \n",
       "\t10        0.140949  (x0 / exp(-0.00041184324 + x1)) / (-0.9219685 ...   \n",
       "\t11        0.471422  (-0.28290802 * exp(((-0.28290802 + 0.60634625)...   \n",
       "\t12  >>>>  0.443509  (x2 - x0) * (exp(exp(x2) * (-0.60770625 * x1))...   \n",
       "\t13        0.053995  ((x0 / x1) - x0) * (exp(exp(x2) * (x1 * -0.607...   \n",
       "\t14        0.003257  ((x0 / (exp(x2) + x1)) - x0) * (exp(exp(x2) * ...   \n",
       "\t\n",
       "\t            loss  complexity  \n",
       "\t0   4.810965e-01           1  \n",
       "\t1   6.117499e-03           2  \n",
       "\t2   5.004953e-06           3  \n",
       "\t3   4.799993e-06           4  \n",
       "\t4   4.167726e-06           5  \n",
       "\t5   3.594986e-06           6  \n",
       "\t6   2.634455e-06           7  \n",
       "\t7   2.133551e-06           9  \n",
       "\t8   2.012037e-06          10  \n",
       "\t9   1.987553e-06          11  \n",
       "\t10  1.726257e-06          12  \n",
       "\t11  1.077382e-06          13  \n",
       "\t12  6.914428e-07          14  \n",
       "\t13  6.206641e-07          16  \n",
       "\t14  6.146295e-07          19  \n",
       "]"
      ]
     },
     "execution_count": 47,
     "metadata": {},
     "output_type": "execute_result"
    }
   ],
   "source": [
    "model"
   ]
  },
  {
   "cell_type": "markdown",
   "metadata": {
    "id": "ME3ddPxXkWQg"
   },
   "source": [
    "We can also view the SymPy format of the best expression:"
   ]
  },
  {
   "cell_type": "code",
   "execution_count": 49,
   "metadata": {
    "colab": {
     "base_uri": "https://localhost:8080/",
     "height": 38
    },
    "id": "IQKOohdpztS7",
    "outputId": "0e7d058a-cce1-45ae-db94-6625f7e53a06"
   },
   "outputs": [
    {
     "data": {
      "text/latex": [
       "$\\displaystyle 0.17934802267784 \\left(- x_{0} + x_{2}\\right) e^{- 0.60770625 x_{1} e^{x_{2}}}$"
      ],
      "text/plain": [
       "0.17934802267784*(-x0 + x2)*exp(-0.60770625*x1*exp(x2))"
      ]
     },
     "execution_count": 49,
     "metadata": {},
     "output_type": "execute_result"
    }
   ],
   "source": [
    "model.sympy().simplify()"
   ]
  },
  {
   "cell_type": "markdown",
   "metadata": {
    "id": "EHIIPlmClltn"
   },
   "source": [
    "We can also view the SymPy of any other expression in the list, using the index of it in `model.equations_`."
   ]
  },
  {
   "cell_type": "code",
   "execution_count": 52,
   "metadata": {
    "colab": {
     "base_uri": "https://localhost:8080/",
     "height": 39
    },
    "id": "GRcxq-TTlpRX",
    "outputId": "50bda367-1ed1-4860-8fcf-c940f2e4d935"
   },
   "outputs": [
    {
     "data": {
      "text/latex": [
       "$\\displaystyle \\frac{\\left(- x_{0} + x_{2}\\right) e^{e^{x_{2}} \\left(-0.60770625\\right) x_{1}}}{5.57575146393605}$"
      ],
      "text/plain": [
       "(-x0 + x2)*exp(-1.7184271)*exp(exp(x2)*(-0.60770625)*x1)"
      ]
     },
     "execution_count": 52,
     "metadata": {},
     "output_type": "execute_result"
    }
   ],
   "source": [
    "model.sympy()"
   ]
  },
  {
   "cell_type": "markdown",
   "metadata": {
    "id": "YMugcGX4tbqj"
   },
   "source": [
    "## Output"
   ]
  },
  {
   "cell_type": "markdown",
   "metadata": {
    "id": "gIWt5wz5cjXE"
   },
   "source": [
    "`model.equations_` is a Pandas DataFrame. We can export the results in various ways:"
   ]
  },
  {
   "cell_type": "code",
   "execution_count": 15,
   "metadata": {
    "colab": {
     "base_uri": "https://localhost:8080/",
     "height": 35
    },
    "id": "HFGaNL6tbDgi",
    "outputId": "0f364da5-e18d-4e31-cadf-087d641a3aed"
   },
   "outputs": [
    {
     "data": {
      "text/plain": [
       "'- \\\\frac{1.47 x_{0}}{e^{x_{1}} e^{x_{1} x_{2}}}'"
      ]
     },
     "execution_count": 15,
     "metadata": {},
     "output_type": "execute_result"
    }
   ],
   "source": [
    "model.latex()"
   ]
  },
  {
   "cell_type": "markdown",
   "metadata": {
    "id": "4hS8kqutcmPQ"
   },
   "source": [
    "These is also `model.sympy(), model.jax(), model.pytorch()`. All of these can take an index as input, to get the result for an arbitrary equation in the list.\n",
    "\n",
    "We can also use `model.predict` for arbitrary equations, with the default equation being the one chosen by `model_selection`:"
   ]
  },
  {
   "cell_type": "code",
   "execution_count": 16,
   "metadata": {
    "colab": {
     "base_uri": "https://localhost:8080/"
    },
    "id": "Vbz4IMsk2NYH",
    "outputId": "361d4b6e-ac23-479d-b511-5001af05ca43"
   },
   "outputs": [
    {
     "name": "stdout",
     "output_type": "stream",
     "text": [
      "Default selection MSE: (1.540410901824946e-06+0j)\n",
      "Manual selection MSE for index 2: (4.909795905743584e-06+0j)\n"
     ]
    }
   ],
   "source": [
    "ypredict = model.predict(X)\n",
    "ypredict_simpler = model.predict(X, 2)\n",
    "\n",
    "print(\"Default selection MSE:\", np.power(ypredict - y, 2).mean())\n",
    "print(\"Manual selection MSE for index 2:\", np.power(ypredict_simpler - y, 2).mean())"
   ]
  },
  {
   "cell_type": "code",
   "execution_count": 32,
   "metadata": {},
   "outputs": [
    {
     "data": {
      "text/plain": [
       "array([-0.13357556])"
      ]
     },
     "execution_count": 32,
     "metadata": {},
     "output_type": "execute_result"
    }
   ],
   "source": [
    "model.predict(np.array([[1,1.2,1]]))"
   ]
  },
  {
   "cell_type": "code",
   "execution_count": 34,
   "metadata": {},
   "outputs": [
    {
     "data": {
      "text/plain": [
       "(-0.04096309938986264+0j)"
      ]
     },
     "execution_count": 34,
     "metadata": {},
     "output_type": "execute_result"
    }
   ],
   "source": [
    "_matsubara_zero_integrand(1,1,1,1.2)"
   ]
  },
  {
   "cell_type": "code",
   "execution_count": 35,
   "metadata": {},
   "outputs": [
    {
     "data": {
      "text/plain": [
       "(-0.04096309938986264+0j)"
      ]
     },
     "execution_count": 35,
     "metadata": {},
     "output_type": "execute_result"
    }
   ],
   "source": [
    "matsubara_zero_integrand(np.array([[1,1.2,1]]))[0]"
   ]
  },
  {
   "cell_type": "code",
   "execution_count": null,
   "metadata": {},
   "outputs": [],
   "source": []
  }
 ],
 "metadata": {
  "accelerator": "GPU",
  "colab": {
   "provenance": []
  },
  "gpuClass": "standard",
  "kernelspec": {
   "display_name": "Python 3",
   "language": "python",
   "name": "python3"
  },
  "language_info": {
   "codemirror_mode": {
    "name": "ipython",
    "version": 3
   },
   "file_extension": ".py",
   "mimetype": "text/x-python",
   "name": "python",
   "nbconvert_exporter": "python",
   "pygments_lexer": "ipython3",
   "version": "3.12.2"
  }
 },
 "nbformat": 4,
 "nbformat_minor": 0
}
