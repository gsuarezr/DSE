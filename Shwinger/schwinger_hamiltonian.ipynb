{
 "cells": [
  {
   "cell_type": "code",
   "execution_count": 21,
   "metadata": {},
   "outputs": [],
   "source": [
    "import matplotlib.pyplot as plt\n",
    "import numpy as np\n",
    "from qutip import ( basis, expect, mesolve, qeye, sigmax, sigmay, sigmaz,destroy,\n",
    "                   tensor)\n",
    "from qutip.solver import heom\n",
    "from scipy.integrate import quad\n",
    "%matplotlib inline\n",
    "# Set the system parameters\n",
    "N = 3\n",
    "m = 1e-3 # mass term\n",
    "g=1\n",
    "a=1\n",
    "J = 1/4*a\n",
    "theta=1\n",
    "# initial state\n",
    "state_list = [basis(2, 1)] + [basis(2, 0)] * (N - 1)\n",
    "psi0 = tensor(state_list)\n",
    "\n",
    "# Interaction coefficients\n",
    "# Jx = 0.2 * np.pi * np.ones(N)\n",
    "# Jy = 0.2 * np.pi * np.ones(N)\n",
    "# Jz = 0.2 * np.pi * np.ones(N)\n",
    "\n",
    "sx_list, sy_list, sz_list = [], [], []\n",
    "for i in range(N):\n",
    "    op_list = [qeye(2)] * N\n",
    "    op_list[i] = sigmax()\n",
    "    sx_list.append(tensor(op_list))\n",
    "    op_list[i] = sigmay()\n",
    "    sy_list.append(tensor(op_list))\n",
    "    op_list[i] = sigmaz()\n",
    "    sz_list.append(tensor(op_list))\n",
    "\n",
    "# Hamiltonian - Energy splitting terms\n",
    "H = 0\n",
    "for i in range(N):\n",
    "    H += (m/2)* (-1)**i * sz_list[i]\n",
    "\n",
    "for n in range(N - 1):\n",
    "    H += J * sx_list[n] * sx_list[n + 1]\n",
    "    H += J * sy_list[n] * sy_list[n + 1]  \n",
    "    \n",
    "# Electromagnetic coupling term\n",
    "for n in range(1,N):\n",
    "    temp=0\n",
    "    for i in range(1,n):\n",
    "        temp += (sz_list[i] + (-1)**i )/2  + theta/(2*np.pi)\n",
    "    H+=(temp**2 )*8*J *g**2"
   ]
  },
  {
   "cell_type": "code",
   "execution_count": 23,
   "metadata": {},
   "outputs": [
    {
     "data": {
      "text/latex": [
       "Quantum object: dims=[[2, 2, 2], [2, 2, 2]], shape=(8, 8), type='oper', isherm=True$$\\left(\\begin{array}{cc}0.051 & 0 & 0 & 0 & 0 & 0 & 0 & 0\\\\0 & 0.050 & 0.500 & 0 & 0 & 0 & 0 & 0\\\\0 & 0.500 & 1.416 & 0 & 0.500 & 0 & 0 & 0\\\\0 & 0 & 0 & 1.415 & 0 & 0.500 & 0 & 0\\\\0 & 0 & 0.500 & 0 & 0.050 & 0 & 0 & 0\\\\0 & 0 & 0 & 0.500 & 0 & 0.049 & 0.500 & 0\\\\0 & 0 & 0 & 0 & 0 & 0.500 & 1.415 & 0\\\\0 & 0 & 0 & 0 & 0 & 0 & 0 & 1.414\\end{array}\\right)$$"
      ],
      "text/plain": [
       "Quantum object: dims=[[2, 2, 2], [2, 2, 2]], shape=(8, 8), type='oper', isherm=True\n",
       "Qobj data =\n",
       "[[0.05116059 0.         0.         0.         0.         0.\n",
       "  0.         0.        ]\n",
       " [0.         0.05016059 0.5        0.         0.         0.\n",
       "  0.         0.        ]\n",
       " [0.         0.5        1.41554082 0.         0.5        0.\n",
       "  0.         0.        ]\n",
       " [0.         0.         0.         1.41454082 0.         0.5\n",
       "  0.         0.        ]\n",
       " [0.         0.         0.5        0.         0.05016059 0.\n",
       "  0.         0.        ]\n",
       " [0.         0.         0.         0.5        0.         0.04916059\n",
       "  0.5        0.        ]\n",
       " [0.         0.         0.         0.         0.         0.5\n",
       "  1.41454082 0.        ]\n",
       " [0.         0.         0.         0.         0.         0.\n",
       "  0.         1.41354082]]"
      ]
     },
     "execution_count": 23,
     "metadata": {},
     "output_type": "execute_result"
    }
   ],
   "source": [
    "H"
   ]
  },
  {
   "cell_type": "code",
   "execution_count": 1,
   "metadata": {},
   "outputs": [
    {
     "ename": "NameError",
     "evalue": "name 'np' is not defined",
     "output_type": "error",
     "traceback": [
      "\u001b[0;31m---------------------------------------------------------------------------\u001b[0m",
      "\u001b[0;31mNameError\u001b[0m                                 Traceback (most recent call last)",
      "Cell \u001b[0;32mIn[1], line 2\u001b[0m\n\u001b[1;32m      1\u001b[0m \u001b[38;5;28;01mdef\u001b[39;00m \u001b[38;5;21mprepare_states\u001b[39m(\n\u001b[0;32m----> 2\u001b[0m         H, Q, E01,rho0, times\u001b[38;5;241m=\u001b[39m\u001b[43mnp\u001b[49m\u001b[38;5;241m.\u001b[39mlinspace(\u001b[38;5;241m0\u001b[39m, \u001b[38;5;241m25\u001b[39m, \u001b[38;5;241m5000\u001b[39m),\n\u001b[1;32m      3\u001b[0m         Ni\u001b[38;5;241m=\u001b[39m\u001b[38;5;241m1\u001b[39m, Nr\u001b[38;5;241m=\u001b[39m\u001b[38;5;241m2\u001b[39m):\n\u001b[1;32m      4\u001b[0m     \u001b[38;5;66;03m# Raise this question about the paper / I consider this cheating\u001b[39;00m\n\u001b[1;32m      5\u001b[0m     gamma \u001b[38;5;241m=\u001b[39m E01\u001b[38;5;241m/\u001b[39m\u001b[38;5;241m2\u001b[39m\n\u001b[1;32m      6\u001b[0m     w0 \u001b[38;5;241m=\u001b[39m \u001b[38;5;241m2\u001b[39m\u001b[38;5;241m*\u001b[39mE01\n",
      "\u001b[0;31mNameError\u001b[0m: name 'np' is not defined"
     ]
    }
   ],
   "source": [
    "def prepare_states(\n",
    "        H, Q, E01,rho0, times=np.linspace(0, 25, 5000),\n",
    "        Ni=1, Nr=2):\n",
    "    # Raise this question about the paper / I consider this cheating\n",
    "    gamma = E01/2\n",
    "    w0 = 2*E01\n",
    "    Gamma = gamma/2\n",
    "    Omega = np.sqrt(w0**2 - Gamma**2 + 0j)\n",
    "    lam = 1.15*np.sqrt(Omega)\n",
    "    # functions don't take zero because 1/T should be fixed\n",
    "    bath = heom.UnderDampedBath(\n",
    "        Q=Q,\n",
    "        lam=lam, gamma=gamma, w0=w0, T=0, Nk=5)\n",
    "    cfiitter2 = heom.CorrelationFitter(\n",
    "        Q, 0, times, bath.correlation_function)\n",
    "    bath1, fit2info = cfiitter2.get_fit(Ni=Ni, Nr=Nr)\n",
    "    print(fit2info['summary'])  # notice one mode is also a pretty good approximation\n",
    "    times2=times[0:-1:10]\n",
    "    cvis = bath.correlation_function(times2)\n",
    "    plt.plot(times2, np.imag(cvis))\n",
    "    plt.plot(times2, np.imag(bath1.correlation_function_approx(times2)), \"-.\")\n",
    "    plt.show()\n",
    "    solver = heom.HEOMSolver(H,\n",
    "                             [bath1], max_depth=6, options={\"atol\": 1e-14})\n",
    "    result = solver.run(rho0, times)\n",
    "    cum = csolve(\n",
    "        Hsys=H, t=times, baths=[bath],\n",
    "        Qs=[Q],\n",
    "        eps=1e-4, cython=False)\n",
    "\n",
    "\n",
    "    a_ops = [[Q, bath.power_spectrum]]\n",
    "    resultBR = qt.brmesolve(H, rho0, times, a_ops=a_ops, options={\n",
    "                            \"atol\": 1e-14}, sec_cutoff=-1)\n",
    "\n",
    "    a_ops = [[Q, bath.power_spectrum]]\n",
    "    resultBR2 = qt.brmesolve(H, rho0, times, a_ops=a_ops, options={\n",
    "        \"atol\": 1e-14})\n",
    "    return result, cum,resultBR,resultBR2"
   ]
  },
  {
   "cell_type": "code",
   "execution_count": 24,
   "metadata": {},
   "outputs": [],
   "source": [
    "# times=p.linspace(0, 25, 5000)\n",
    "# plt.plot(times, sdd-np.min(H.eigenenergies()), label=\"Ohmic\")\n",
    "# plt.plot(times, sdd2-np.min(H.eigenenergies()), label=\"Underdamped\")\n",
    "# plt.plot(times, sdd3 - np.min(H.eigenenergies()),\n",
    "#          label=\"Underdamped no cheating\", linestyle=\"-.\")\n",
    "# plt.plot(times, sddbr-np.min(H.eigenenergies()), label=\"BR\")\n",
    "# plt.plot(times, sddcum-np.min(H.eigenenergies()),\n",
    "#          label=\"CUM\")  # plt.axhline(y=0)\n",
    "\n",
    "# plt.yscale(\"log\")\n",
    "# plt.legend()"
   ]
  },
  {
   "cell_type": "code",
   "execution_count": null,
   "metadata": {},
   "outputs": [],
   "source": []
  }
 ],
 "metadata": {
  "kernelspec": {
   "display_name": "qutip-dev",
   "language": "python",
   "name": "python3"
  },
  "language_info": {
   "codemirror_mode": {
    "name": "ipython",
    "version": 3
   },
   "file_extension": ".py",
   "mimetype": "text/x-python",
   "name": "python",
   "nbconvert_exporter": "python",
   "pygments_lexer": "ipython3",
   "version": "3.12.2"
  }
 },
 "nbformat": 4,
 "nbformat_minor": 2
}
