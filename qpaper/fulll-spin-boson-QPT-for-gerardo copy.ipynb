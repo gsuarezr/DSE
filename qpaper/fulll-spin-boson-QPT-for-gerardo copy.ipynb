{
 "cells": [
  {
   "cell_type": "markdown",
   "id": "92d56cc3",
   "metadata": {},
   "source": [
    "# heom"
   ]
  },
  {
   "cell_type": "markdown",
   "id": "6b042fba",
   "metadata": {},
   "source": [
    "## Introduction\n",
    "critically damped bath + spin boson phase transition"
   ]
  },
  {
   "cell_type": "markdown",
   "id": "58d019d4",
   "metadata": {},
   "source": [
    "## Setup"
   ]
  },
  {
   "cell_type": "code",
   "execution_count": 2,
   "id": "5152362c",
   "metadata": {},
   "outputs": [],
   "source": [
    "import contextlib\n",
    "import time\n",
    "\n",
    "import numpy as np\n",
    "from matplotlib import pyplot as plt\n",
    "\n",
    "from qutip import *\n",
    "\n",
    "\n",
    "from qutip.solver.heom import (\n",
    "    BosonicBath,\n",
    "    DrudeLorentzBath,\n",
    "    DrudeLorentzPadeBath,\n",
    "    HEOMSolver,\n",
    "    HSolverDL,\n",
    "    CorrelationFitter\n",
    ")\n",
    "\n",
    "from scipy.integrate import quad\n",
    "from scipy.optimize import curve_fit\n",
    "\n",
    "%matplotlib inline"
   ]
  },
  {
   "cell_type": "code",
   "execution_count": 3,
   "id": "597c19a3",
   "metadata": {},
   "outputs": [],
   "source": [
    "def cot(x):\n",
    "    \"\"\" Vectorized cotangent of x. \"\"\"\n",
    "    return 1. / np.tan(x)"
   ]
  },
  {
   "cell_type": "code",
   "execution_count": 4,
   "id": "dcd898a0",
   "metadata": {},
   "outputs": [],
   "source": [
    "def coth(x):\n",
    "    \"\"\" Vectorized hyperbolic cotangent of x. \"\"\"\n",
    "    return 1. / np.tanh(x)"
   ]
  },
  {
   "cell_type": "code",
   "execution_count": 5,
   "id": "e24b53f1",
   "metadata": {},
   "outputs": [],
   "source": [
    "def plot_result_expectations(plots, axes=None,factor=1):\n",
    "    \"\"\" Plot the expectation values of operators as functions of time.\n",
    "\n",
    "        Each plot in plots consists of: (solver_result, measurement_operation,\n",
    "        color, label).\n",
    "    \"\"\"\n",
    "    if axes is None:\n",
    "        fig, axes = plt.subplots(1, 1, sharex=True, figsize=(8, 8))\n",
    "        fig_created = True\n",
    "    else:\n",
    "        fig = None\n",
    "        fig_created = False\n",
    "\n",
    "    # add kw arguments to each plot if missing\n",
    "    plots = [p if len(p) == 5 else p + ({},) for p in plots]\n",
    "    for result, m_op, color, label, kw in plots:\n",
    "        exp = np.real(expect(result.states, m_op))\n",
    "        kw.setdefault(\"linewidth\", 2)\n",
    "        axes.plot(np.array(result.times)*factor, exp, color, label=label, **kw)\n",
    "\n",
    "    if fig_created:\n",
    "        axes.legend(loc=0, fontsize=12)\n",
    "        axes.set_xlabel(\"t\", fontsize=28)\n",
    "\n",
    "    return fig"
   ]
  },
  {
   "cell_type": "code",
   "execution_count": 6,
   "id": "af382bb6",
   "metadata": {},
   "outputs": [],
   "source": [
    "@contextlib.contextmanager\n",
    "def timer(label):\n",
    "    \"\"\" Simple utility for timing functions:\n",
    "\n",
    "        with timer(\"name\"):\n",
    "            ... code to time ...\n",
    "    \"\"\"\n",
    "    start = time.time()\n",
    "    yield\n",
    "    end = time.time()\n",
    "    print(f\"{label}: {end - start}\")"
   ]
  },
  {
   "cell_type": "code",
   "execution_count": 7,
   "id": "cba84aee",
   "metadata": {},
   "outputs": [],
   "source": [
    "\n",
    "def integral(function,*args,**kwargs):\n",
    "    if 'x_i' not in kwargs:\n",
    "          raise Exception('Missing x_i, {} instead'.format(kwargs.keys()))\n",
    "    if 'x_f' not in kwargs:\n",
    "          raise Exception('Missing x_f, {} instead'.format(kwargs.keys()))\n",
    "    x_i = kwargs['x_i']\n",
    "    x_f = kwargs['x_f']\n",
    "    limit = kwargs['limit']\n",
    "    def function_real(x,*args):\n",
    "        return np.real(function(x,*args))\n",
    "    def function_imag(x,*args):\n",
    "        return np.imag(function(x,*args))\n",
    "        \n",
    "    \n",
    "\n",
    "    return quad(function_real, x_i, x_f,args=args,limit=limit)[0] + 1j * quad(function_imag, x_i, x_f,args=args,limit=limit)[0]\n"
   ]
  },
  {
   "cell_type": "code",
   "execution_count": 8,
   "id": "0e6cd158",
   "metadata": {},
   "outputs": [],
   "source": [
    "#some utility functions from SUMO\n",
    "\n",
    "def coth2(beta,x):\n",
    "    if x == 0:\n",
    "        raise Exception('argument should not be zero')\n",
    "    if beta == 'inf':\n",
    "        return sg(np.real(x))\n",
    "    return (np.exp(beta*x) + np.exp(-beta*x)) / (np.exp(beta*x) - np.exp(-beta*x))\n",
    "\n",
    "\n",
    "def sg(t):\n",
    "    if t > 0:\n",
    "        return 1\n",
    "    return -1\n",
    "def theta(t):\n",
    "    if t < 0:\n",
    "        return 0\n",
    "    return 1\n",
    "\n",
    "def compute_correlations(J,beta,W_i,W_f,integration_limit,t_corr_list):\n",
    "    def to_integrate_symmetric(w,t,J,beta):\n",
    "        return 1 / (np.pi) * J(w) * coth2(beta,w/2.) * np.cos(w * t)\n",
    "    def to_integrate_antisymmetric(w,t,J):\n",
    "        return - 1 / (np.pi) * 1j * J(w) * np.sin(w * t)\n",
    "    def compute_symmetric(J,beta,W_i,W_f,integration_limit,t_corr_list):\n",
    "        print('Computing symmetric correlations ({length})'.format(length=\"t_corr_list\"))\n",
    "        res = []\n",
    "        for t_index in np.arange(len(t_corr_list)):\n",
    "            t = t_corr_list[t_index]\n",
    "            res.append(integral(to_integrate_symmetric,t,J,beta,x_i=W_i,x_f=W_f,limit=integration_limit) )\n",
    "        return res\n",
    "    def compute_antisymmetric(J,W_i,W_f,integration_limit,t_corr_list):\n",
    "        print('Computing antisymmetric correlations ({length})'.format(length=\"t_corr_list\"))\n",
    "        res = []\n",
    "        for t_index in np.arange(len(t_corr_list)):\n",
    "            t = t_corr_list[t_index]\n",
    "            res.append(integral(to_integrate_antisymmetric,t,J,x_i=W_i,x_f=W_f,limit=integration_limit) )\n",
    "        return res\n",
    "    C_s = compute_symmetric(J,beta,W_i,W_f,integration_limit,t_corr_list)\n",
    "    C_as = compute_antisymmetric(J,W_i,W_f,integration_limit,t_corr_list)\n",
    "    return C_s, C_as"
   ]
  },
  {
   "cell_type": "code",
   "execution_count": 29,
   "id": "2a8689f1",
   "metadata": {},
   "outputs": [],
   "source": [
    "# Defining the system Hamiltonian\n",
    "# Energy of the 2-level system.\n",
    "\n",
    "eps = 0.1   #small system energy\n",
    "\n",
    "Hsys =  0.5 * eps * sigmax() \n",
    "\n",
    "\n",
    "### ALPHA\n",
    "alpha = 1.2\n",
    "#alpha = 0.75\n",
    "\n",
    "#BATH CUT OFF\n",
    "wc = 10\n",
    "\n",
    "t_corr_list = np.linspace(0,25,1000)\n",
    "\n",
    "beta = np.inf\n",
    "beta = 'inf'\n",
    "\n",
    "W_i = 0\n",
    "W_f = np.inf\n",
    "integration_limit =  5000\n",
    "\n",
    "def J(w):\n",
    "    \"\"\" The Ohmic bath spectral density as a function of w (and the bath parameters). \"\"\"\n",
    "    return (np.pi/2)* w * alpha * 1 / (1+(w/wc)**2)**2\n",
    "\n",
    "#C_s,C_as = compute_correlations(J,beta,W_i,W_f,integration_limit,t_corr_list)"
   ]
  },
  {
   "cell_type": "markdown",
   "id": "016470dc",
   "metadata": {},
   "source": [
    "Fitting using Correlation Fitter"
   ]
  },
  {
   "cell_type": "code",
   "execution_count": 30,
   "id": "bcaae15e",
   "metadata": {},
   "outputs": [],
   "source": [
    "# Q = sigmaz()  # coupling operator\n",
    "# t2=np.linspace(0,50,1000)\n",
    "# C_s,C_as = compute_correlations(J,beta,W_i,W_f,integration_limit,t2)\n",
    "# C = [C_s[kk]+C_as[kk] for kk,t in enumerate(t2)]\n",
    "# fc=CorrelationFitter(Q,0,t2,C)\n"
   ]
  },
  {
   "cell_type": "code",
   "execution_count": 31,
   "id": "15504964",
   "metadata": {},
   "outputs": [],
   "source": [
    "# bath,fitinfo=fc.get_fit(Ni=1,Nr=4)"
   ]
  },
  {
   "cell_type": "code",
   "execution_count": 32,
   "id": "e439e59c",
   "metadata": {},
   "outputs": [],
   "source": [
    "# print(fitinfo[\"summary\"])"
   ]
  },
  {
   "cell_type": "code",
   "execution_count": 33,
   "id": "928d767c",
   "metadata": {},
   "outputs": [],
   "source": [
    "# plt.plot(t2,np.real(C))\n",
    "# plt.plot(t2,np.real(bath.correlation_function_approx(t2)),'-.')\n",
    "# plt.xlim(0,50)"
   ]
  },
  {
   "cell_type": "code",
   "execution_count": 34,
   "id": "fff67ac7",
   "metadata": {},
   "outputs": [],
   "source": [
    "# plt.plot(t2,np.imag(C))\n",
    "# plt.plot(t2,np.imag(bath.correlation_function_approx(t2)),'-.')"
   ]
  },
  {
   "cell_type": "markdown",
   "id": "56b43a57",
   "metadata": {},
   "source": [
    "### Solving for the dynamics as a function of time:"
   ]
  },
  {
   "cell_type": "markdown",
   "id": "7d91e7bf",
   "metadata": {},
   "source": [
    "Having created the lists which specify the bath correlation functions, we create a `BosonicBath` from them and pass the bath to the `HEOMSolver` class.\n",
    "\n",
    "The solver constructs the \"right hand side\" (RHS) determinining how the system and auxiliary density operators evolve in time. This can then be used to solve for dynamics or steady-state.\n",
    "\n",
    "Below we create the bath and solver and then solve for the dynamics by calling `.run(rho0, tlist)`."
   ]
  },
  {
   "cell_type": "code",
   "execution_count": 35,
   "id": "53267787",
   "metadata": {},
   "outputs": [],
   "source": [
    "# options = Options(nsteps=15000, store_states=True, rtol=1e-14, atol=1e-14)\n",
    "# # Number of levels of the hierarchy to retain:\n",
    "# NC = 5  #this is an importance covnergence parameter\n",
    "# Ttot = 300\n",
    "# # Times to solve for:\n",
    "# tlist = np.linspace(0, Ttot, 1000)\n",
    "# rho0 = basis(2, 0) * basis(2, 0).dag()\n",
    "# with timer(\"RHS construction time\"):\n",
    "#     HEOMMats = HEOMSolver(Hsys, [bath], NC, options=options)\n",
    "# with timer(\"ODE solver time\"):\n",
    "#     resultMatsnc5 = HEOMMats.run(rho0, tlist)"
   ]
  },
  {
   "cell_type": "code",
   "execution_count": 36,
   "id": "bcabda9c",
   "metadata": {},
   "outputs": [],
   "source": [
    "\n",
    "# #this one is a bit slow.... not sure how much further i can push this\n",
    "# NC = 8  #this is an importance covnergence parameter\n",
    "# with timer(\"RHS construction time\"):\n",
    "#     HEOMMats = HEOMSolver(Hsys, [bath], NC, options=options)\n",
    "# with timer(\"ODE solver time\"):\n",
    "#     resultMatsnc8 = HEOMMats.run(rho0, tlist)\n",
    "    "
   ]
  },
  {
   "cell_type": "code",
   "execution_count": 37,
   "id": "55fc5089",
   "metadata": {},
   "outputs": [],
   "source": [
    "#alpha = 0.75 @ 4 R, 2 I\n",
    "# fig, axes = plt.subplots(1, 1, sharex=True, figsize=(12, 7))\n",
    "\n",
    "\n",
    "# plot_result_expectations([    \n",
    "#     (resultMatsnc5, sigmaz(), 'g', \"heom $N_c=5$\"),\n",
    "#     (resultMatsnc8, sigmaz(), 'k', \"heom $N_c=8$\"),\n",
    "# ], axes=axes)\n",
    "\n",
    "\n",
    "# #axes.locator_params(axis='y', nbins=8)\n",
    "# #axes.locator_params(axis='x', nbins=8)\n",
    "# #axes.set_ylim(0.5,1.01)\n",
    "# #axes.set_xlim(0,200)\n",
    "# axes.legend(loc=0)\n",
    "\n",
    "# fig.tight_layout()"
   ]
  },
  {
   "cell_type": "code",
   "execution_count": 38,
   "id": "370f34c9",
   "metadata": {},
   "outputs": [],
   "source": [
    "\n",
    "# #this one is a bit slow.... not sure how much further i can push this\n",
    "# NC = 11  #this is an importance covnergence parameter\n",
    "# with timer(\"RHS construction time\"):\n",
    "#     HEOMMats = HEOMSolver(Hsys, [bath], NC, options=options)\n",
    "# with timer(\"ODE solver time\"):\n",
    "#     resultMatsnc11 = HEOMMats.run(rho0, tlist)"
   ]
  },
  {
   "cell_type": "code",
   "execution_count": 39,
   "id": "b7085da7",
   "metadata": {},
   "outputs": [],
   "source": [
    "firstcase=qload(\"transition_1.2\")"
   ]
  },
  {
   "cell_type": "markdown",
   "id": "34b8e39b",
   "metadata": {},
   "source": [
    "Example is Done, Now we take a look a weaker coupling to compare"
   ]
  },
  {
   "cell_type": "code",
   "execution_count": 40,
   "id": "1e688ed7",
   "metadata": {},
   "outputs": [],
   "source": [
    "alpha=0.01\n",
    "def J2(w):\n",
    "    \"\"\" The Ohmic bath spectral density as a function of w (and the bath parameters). \"\"\"\n",
    "    return (np.pi/2)* w * alpha * 1 / (1+(w/wc)**2)**2\n"
   ]
  },
  {
   "cell_type": "code",
   "execution_count": 44,
   "id": "dd62551e",
   "metadata": {},
   "outputs": [],
   "source": [
    "bath = BosonicBath(Q, [], [], [], [], T=0)\n",
    "bath.spectral_density=J2"
   ]
  },
  {
   "cell_type": "code",
   "execution_count": 45,
   "id": "c258dc08",
   "metadata": {},
   "outputs": [],
   "source": [
    "C=bath.correlation_function(t2)"
   ]
  },
  {
   "cell_type": "code",
   "execution_count": 47,
   "id": "f1a83739",
   "metadata": {},
   "outputs": [
    {
     "name": "stdout",
     "output_type": "stream",
     "text": [
      "Computing symmetric correlations (t_corr_list)\n"
     ]
    },
    {
     "name": "stderr",
     "output_type": "stream",
     "text": [
      "/tmp/ipykernel_4554/94357179.py:16: IntegrationWarning: The occurrence of roundoff error is detected, which prevents \n",
      "  the requested tolerance from being achieved.  The error may be \n",
      "  underestimated.\n",
      "  return quad(function_real, x_i, x_f,args=args,limit=limit)[0] + 1j * quad(function_imag, x_i, x_f,args=args,limit=limit)[0]\n",
      "/tmp/ipykernel_4554/94357179.py:16: IntegrationWarning: The maximum number of subdivisions (5000) has been achieved.\n",
      "  If increasing the limit yields no improvement it is advised to analyze \n",
      "  the integrand in order to determine the difficulties.  If the position of a \n",
      "  local difficulty can be determined (singularity, discontinuity) one will \n",
      "  probably gain from splitting up the interval and calling the integrator \n",
      "  on the subranges.  Perhaps a special-purpose integrator should be used.\n",
      "  return quad(function_real, x_i, x_f,args=args,limit=limit)[0] + 1j * quad(function_imag, x_i, x_f,args=args,limit=limit)[0]\n"
     ]
    },
    {
     "name": "stdout",
     "output_type": "stream",
     "text": [
      "Computing antisymmetric correlations (t_corr_list)\n"
     ]
    }
   ],
   "source": [
    "Q = sigmaz()  # coupling operator\n",
    "t2=np.linspace(0,50,1000)\n",
    "C_s,C_as = compute_correlations(J2,beta,W_i,W_f,integration_limit,t2)\n",
    "C2 = [C_s[kk]+C_as[kk] for kk,t in enumerate(t2)]\n",
    "fc2=CorrelationFitter(Q,0,t2,C)"
   ]
  },
  {
   "cell_type": "code",
   "execution_count": null,
   "id": "256f7846",
   "metadata": {},
   "outputs": [],
   "source": [
    "bath,fitinfo=fc2.get_fit(Ni=1,Nr=4)"
   ]
  },
  {
   "cell_type": "code",
   "execution_count": null,
   "id": "564d05dd",
   "metadata": {},
   "outputs": [
    {
     "name": "stdout",
     "output_type": "stream",
     "text": [
      "Fit correlation class instance: \n",
      " \n",
      "Result of fitting The Real Part Of                                      |Result of fitting The Imaginary Part                                    \n",
      " the Correlation Function with 4 terms:                                 | Of the Correlation Function with 1 terms:                              \n",
      "                                                                        |                                                                        \n",
      " Parameters|    a     |    b     |    c                                 | Parameters|    a     |    b     |    c                                 \n",
      " 1         | 2.66e+00 |-1.62e+00 |1.34e-01                              | 1         |-2.89e+00 |-9.88e+00 |1.35e+00                              \n",
      " 2         |-6.84e-02 |-3.50e+01 |1.91e+01                              |                                                                        \n",
      " 3         |-2.74e+00 |-1.65e+00 |5.44e-06                              |A  normalized RMSE of  7.09e-06 was obtained for the The Imaginary Part \n",
      " 4         | 3.96e-01 |-8.55e+00 |5.03e+00                              | Of the Correlation Function                                            \n",
      "                                                                        |                                                                        \n",
      "A  normalized RMSE of  4.52e-06 was obtained for the The Real Part Of   |                                                                        \n",
      " the Correlation Function                                               |                                                                        \n",
      " The current fit took  8.640218 seconds                                 | The current fit took  0.099327 seconds                                 \n",
      "\n"
     ]
    }
   ],
   "source": [
    "print(fitinfo[\"summary\"])"
   ]
  },
  {
   "cell_type": "code",
   "execution_count": null,
   "id": "9dac2b10",
   "metadata": {},
   "outputs": [
    {
     "data": {
      "text/plain": [
       "(0.0, 50.0)"
      ]
     },
     "execution_count": 24,
     "metadata": {},
     "output_type": "execute_result"
    },
    {
     "data": {
      "image/png": "[encoded data removed]",
      "text/plain": [
       "<Figure size 640x480 with 1 Axes>"
      ]
     },
     "metadata": {},
     "output_type": "display_data"
    }
   ],
   "source": [
    "plt.plot(t2,np.real(C))\n",
    "plt.plot(t2,np.real(bath.correlation_function_approx(t2)),'-.')\n",
    "plt.xlim(0,50)"
   ]
  },
  {
   "cell_type": "code",
   "execution_count": null,
   "id": "e2e6f9cd",
   "metadata": {},
   "outputs": [
    {
     "name": "stderr",
     "output_type": "stream",
     "text": [
      "/home/mcditoos/qutip_gsoc_app/qutip/solver/options.py:16: FutureWarning: Dedicated options class are no longer needed, options should be passed as dict to solvers.\n",
      "  warnings.warn(\n"
     ]
    },
    {
     "name": "stdout",
     "output_type": "stream",
     "text": [
      "RHS construction time: 0.1370222568511963\n",
      "10.0%. Run time:  62.14s. Est. time left: 00:00:09:18\n",
      "20.0%. Run time: 130.76s. Est. time left: 00:00:08:42\n",
      "30.0%. Run time: 198.65s. Est. time left: 00:00:07:42\n",
      "40.0%. Run time: 265.27s. Est. time left: 00:00:06:37\n",
      "50.1%. Run time: 331.45s. Est. time left: 00:00:05:30\n",
      "60.1%. Run time: 396.57s. Est. time left: 00:00:04:23\n",
      "70.1%. Run time: 427.64s. Est. time left: 00:00:03:02\n",
      "80.1%. Run time: 460.30s. Est. time left: 00:00:01:54\n",
      "90.1%. Run time: 491.76s. Est. time left: 00:00:00:54\n",
      "100.0%. Run time: 522.61s. Est. time left: 00:00:00:00\n",
      "Total run time: 522.61s\n",
      "ODE solver time: 522.6139006614685\n"
     ]
    }
   ],
   "source": [
    "options = Options(nsteps=15000, store_states=True, rtol=1e-14, atol=1e-14)\n",
    "# Number of levels of the hierarchy to retain:\n",
    "NC = 5  #this is an importance covnergence parameter\n",
    "Ttot = 300\n",
    "# Times to solve for:\n",
    "tlist = np.linspace(0, Ttot, 1000)\n",
    "rho0 = basis(2, 0) * basis(2, 0).dag()\n",
    "with timer(\"RHS construction time\"):\n",
    "    HEOMMats = HEOMSolver(Hsys, [bath], NC, options=options)\n",
    "with timer(\"ODE solver time\"):\n",
    "    resultMatsnc5_2 = HEOMMats.run(rho0, tlist)"
   ]
  },
  {
   "cell_type": "code",
   "execution_count": null,
   "id": "e662f389",
   "metadata": {},
   "outputs": [
    {
     "name": "stdout",
     "output_type": "stream",
     "text": [
      "RHS construction time: 1.664017677307129\n",
      "10.0%. Run time: 829.70s. Est. time left: 00:02:04:19\n"
     ]
    },
    {
     "name": "stderr",
     "output_type": "stream",
     "text": [
      "capi_return is NULL\n",
      "Call-back cb_f_in_zvode__user__routines failed.\n"
     ]
    },
    {
     "ename": "KeyboardInterrupt",
     "evalue": "",
     "output_type": "error",
     "traceback": [
      "\u001b[0;31m---------------------------------------------------------------------------\u001b[0m",
      "\u001b[0;31mKeyboardInterrupt\u001b[0m                         Traceback (most recent call last)",
      "Cell \u001b[0;32mIn[26], line 6\u001b[0m\n\u001b[1;32m      4\u001b[0m     HEOMMats \u001b[38;5;241m=\u001b[39m HEOMSolver(Hsys, [bath], NC, options\u001b[38;5;241m=\u001b[39moptions)\n\u001b[1;32m      5\u001b[0m \u001b[38;5;28;01mwith\u001b[39;00m timer(\u001b[38;5;124m\"\u001b[39m\u001b[38;5;124mODE solver time\u001b[39m\u001b[38;5;124m\"\u001b[39m):\n\u001b[0;32m----> 6\u001b[0m     resultMatsnc8_2 \u001b[38;5;241m=\u001b[39m \u001b[43mHEOMMats\u001b[49m\u001b[38;5;241;43m.\u001b[39;49m\u001b[43mrun\u001b[49m\u001b[43m(\u001b[49m\u001b[43mrho0\u001b[49m\u001b[43m,\u001b[49m\u001b[43m \u001b[49m\u001b[43mtlist\u001b[49m\u001b[43m)\u001b[49m\n",
      "File \u001b[0;32m~/qutip_gsoc_app/qutip/solver/heom/bofin_solvers.py:1045\u001b[0m, in \u001b[0;36mHEOMSolver.run\u001b[0;34m(self, state0, tlist, args, e_ops)\u001b[0m\n\u001b[1;32m    978\u001b[0m \u001b[38;5;28;01mdef\u001b[39;00m \u001b[38;5;21mrun\u001b[39m(\u001b[38;5;28mself\u001b[39m, state0, tlist, \u001b[38;5;241m*\u001b[39m, args\u001b[38;5;241m=\u001b[39m\u001b[38;5;28;01mNone\u001b[39;00m, e_ops\u001b[38;5;241m=\u001b[39m\u001b[38;5;28;01mNone\u001b[39;00m):\n\u001b[1;32m    979\u001b[0m \u001b[38;5;250m    \u001b[39m\u001b[38;5;124;03m\"\"\"\u001b[39;00m\n\u001b[1;32m    980\u001b[0m \u001b[38;5;124;03m    Solve for the time evolution of the system.\u001b[39;00m\n\u001b[1;32m    981\u001b[0m \n\u001b[0;32m   (...)\u001b[0m\n\u001b[1;32m   1043\u001b[0m \u001b[38;5;124;03m        list of attributes.\u001b[39;00m\n\u001b[1;32m   1044\u001b[0m \u001b[38;5;124;03m    \"\"\"\u001b[39;00m\n\u001b[0;32m-> 1045\u001b[0m     \u001b[38;5;28;01mreturn\u001b[39;00m \u001b[38;5;28;43msuper\u001b[39;49m\u001b[43m(\u001b[49m\u001b[43m)\u001b[49m\u001b[38;5;241;43m.\u001b[39;49m\u001b[43mrun\u001b[49m\u001b[43m(\u001b[49m\u001b[43mstate0\u001b[49m\u001b[43m,\u001b[49m\u001b[43m \u001b[49m\u001b[43mtlist\u001b[49m\u001b[43m,\u001b[49m\u001b[43m \u001b[49m\u001b[43margs\u001b[49m\u001b[38;5;241;43m=\u001b[39;49m\u001b[43margs\u001b[49m\u001b[43m,\u001b[49m\u001b[43m \u001b[49m\u001b[43me_ops\u001b[49m\u001b[38;5;241;43m=\u001b[39;49m\u001b[43me_ops\u001b[49m\u001b[43m)\u001b[49m\n",
      "File \u001b[0;32m~/qutip_gsoc_app/qutip/solver/solver_base.py:158\u001b[0m, in \u001b[0;36mSolver.run\u001b[0;34m(self, state0, tlist, args, e_ops)\u001b[0m\n\u001b[1;32m    153\u001b[0m stats[\u001b[38;5;124m'\u001b[39m\u001b[38;5;124mpreparation time\u001b[39m\u001b[38;5;124m'\u001b[39m] \u001b[38;5;241m+\u001b[39m\u001b[38;5;241m=\u001b[39m time() \u001b[38;5;241m-\u001b[39m _time_start\n\u001b[1;32m    155\u001b[0m progress_bar \u001b[38;5;241m=\u001b[39m progress_bars[\u001b[38;5;28mself\u001b[39m\u001b[38;5;241m.\u001b[39moptions[\u001b[38;5;124m'\u001b[39m\u001b[38;5;124mprogress_bar\u001b[39m\u001b[38;5;124m'\u001b[39m]](\n\u001b[1;32m    156\u001b[0m     \u001b[38;5;28mlen\u001b[39m(tlist)\u001b[38;5;241m-\u001b[39m\u001b[38;5;241m1\u001b[39m, \u001b[38;5;241m*\u001b[39m\u001b[38;5;241m*\u001b[39m\u001b[38;5;28mself\u001b[39m\u001b[38;5;241m.\u001b[39moptions[\u001b[38;5;124m'\u001b[39m\u001b[38;5;124mprogress_kwargs\u001b[39m\u001b[38;5;124m'\u001b[39m]\n\u001b[1;32m    157\u001b[0m )\n\u001b[0;32m--> 158\u001b[0m \u001b[43m\u001b[49m\u001b[38;5;28;43;01mfor\u001b[39;49;00m\u001b[43m \u001b[49m\u001b[43mt\u001b[49m\u001b[43m,\u001b[49m\u001b[43m \u001b[49m\u001b[43mstate\u001b[49m\u001b[43m \u001b[49m\u001b[38;5;129;43;01min\u001b[39;49;00m\u001b[43m \u001b[49m\u001b[38;5;28;43mself\u001b[39;49m\u001b[38;5;241;43m.\u001b[39;49m\u001b[43m_integrator\u001b[49m\u001b[38;5;241;43m.\u001b[39;49m\u001b[43mrun\u001b[49m\u001b[43m(\u001b[49m\u001b[43mtlist\u001b[49m\u001b[43m)\u001b[49m\u001b[43m:\u001b[49m\n\u001b[1;32m    159\u001b[0m \u001b[43m    \u001b[49m\u001b[43mprogress_bar\u001b[49m\u001b[38;5;241;43m.\u001b[39;49m\u001b[43mupdate\u001b[49m\u001b[43m(\u001b[49m\u001b[43m)\u001b[49m\n\u001b[1;32m    160\u001b[0m \u001b[43m    \u001b[49m\u001b[43mresults\u001b[49m\u001b[38;5;241;43m.\u001b[39;49m\u001b[43madd\u001b[49m\u001b[43m(\u001b[49m\u001b[43mt\u001b[49m\u001b[43m,\u001b[49m\u001b[43m \u001b[49m\u001b[38;5;28;43mself\u001b[39;49m\u001b[38;5;241;43m.\u001b[39;49m\u001b[43m_restore_state\u001b[49m\u001b[43m(\u001b[49m\u001b[43mstate\u001b[49m\u001b[43m,\u001b[49m\u001b[43m \u001b[49m\u001b[43mcopy\u001b[49m\u001b[38;5;241;43m=\u001b[39;49m\u001b[38;5;28;43;01mFalse\u001b[39;49;00m\u001b[43m)\u001b[49m\u001b[43m)\u001b[49m\n",
      "File \u001b[0;32m~/qutip_gsoc_app/qutip/solver/integrator/integrator.py:201\u001b[0m, in \u001b[0;36mIntegrator.run\u001b[0;34m(self, tlist)\u001b[0m\n\u001b[1;32m    187\u001b[0m \u001b[38;5;250m\u001b[39m\u001b[38;5;124;03m\"\"\"\u001b[39;00m\n\u001b[1;32m    188\u001b[0m \u001b[38;5;124;03mIntegrate the system yielding the state for each times in tlist.\u001b[39;00m\n\u001b[1;32m    189\u001b[0m \n\u001b[0;32m   (...)\u001b[0m\n\u001b[1;32m    198\u001b[0m \u001b[38;5;124;03m    The state of the solver at each ``t`` of tlist.\u001b[39;00m\n\u001b[1;32m    199\u001b[0m \u001b[38;5;124;03m\"\"\"\u001b[39;00m\n\u001b[1;32m    200\u001b[0m \u001b[38;5;28;01mfor\u001b[39;00m t \u001b[38;5;129;01min\u001b[39;00m tlist[\u001b[38;5;241m1\u001b[39m:]:\n\u001b[0;32m--> 201\u001b[0m     \u001b[38;5;28;01myield\u001b[39;00m \u001b[38;5;28;43mself\u001b[39;49m\u001b[38;5;241;43m.\u001b[39;49m\u001b[43mintegrate\u001b[49m\u001b[43m(\u001b[49m\u001b[43mt\u001b[49m\u001b[43m,\u001b[49m\u001b[43m \u001b[49m\u001b[38;5;28;43;01mFalse\u001b[39;49;00m\u001b[43m)\u001b[49m\n",
      "File \u001b[0;32m~/qutip_gsoc_app/qutip/solver/integrator/scipy_integrator.py:110\u001b[0m, in \u001b[0;36mIntegratorScipyAdams.integrate\u001b[0;34m(self, t, copy)\u001b[0m\n\u001b[1;32m    108\u001b[0m \u001b[38;5;28mself\u001b[39m\u001b[38;5;241m.\u001b[39m_check_handle()\n\u001b[1;32m    109\u001b[0m \u001b[38;5;28;01mif\u001b[39;00m t \u001b[38;5;241m!=\u001b[39m \u001b[38;5;28mself\u001b[39m\u001b[38;5;241m.\u001b[39m_ode_solver\u001b[38;5;241m.\u001b[39mt:\n\u001b[0;32m--> 110\u001b[0m     \u001b[38;5;28;43mself\u001b[39;49m\u001b[38;5;241;43m.\u001b[39;49m\u001b[43m_ode_solver\u001b[49m\u001b[38;5;241;43m.\u001b[39;49m\u001b[43mintegrate\u001b[49m\u001b[43m(\u001b[49m\u001b[43mt\u001b[49m\u001b[43m)\u001b[49m\n\u001b[1;32m    111\u001b[0m \u001b[38;5;28;01mreturn\u001b[39;00m \u001b[38;5;28mself\u001b[39m\u001b[38;5;241m.\u001b[39mget_state(copy)\n",
      "File \u001b[0;32m~/anaconda3/envs/qutip-dev/lib/python3.12/site-packages/scipy/integrate/_ode.py:431\u001b[0m, in \u001b[0;36mode.integrate\u001b[0;34m(self, t, step, relax)\u001b[0m\n\u001b[1;32m    428\u001b[0m     mth \u001b[38;5;241m=\u001b[39m \u001b[38;5;28mself\u001b[39m\u001b[38;5;241m.\u001b[39m_integrator\u001b[38;5;241m.\u001b[39mrun\n\u001b[1;32m    430\u001b[0m \u001b[38;5;28;01mtry\u001b[39;00m:\n\u001b[0;32m--> 431\u001b[0m     \u001b[38;5;28mself\u001b[39m\u001b[38;5;241m.\u001b[39m_y, \u001b[38;5;28mself\u001b[39m\u001b[38;5;241m.\u001b[39mt \u001b[38;5;241m=\u001b[39m \u001b[43mmth\u001b[49m\u001b[43m(\u001b[49m\u001b[38;5;28;43mself\u001b[39;49m\u001b[38;5;241;43m.\u001b[39;49m\u001b[43mf\u001b[49m\u001b[43m,\u001b[49m\u001b[43m \u001b[49m\u001b[38;5;28;43mself\u001b[39;49m\u001b[38;5;241;43m.\u001b[39;49m\u001b[43mjac\u001b[49m\u001b[43m \u001b[49m\u001b[38;5;129;43;01mor\u001b[39;49;00m\u001b[43m \u001b[49m\u001b[43m(\u001b[49m\u001b[38;5;28;43;01mlambda\u001b[39;49;00m\u001b[43m:\u001b[49m\u001b[43m \u001b[49m\u001b[38;5;28;43;01mNone\u001b[39;49;00m\u001b[43m)\u001b[49m\u001b[43m,\u001b[49m\n\u001b[1;32m    432\u001b[0m \u001b[43m                          \u001b[49m\u001b[38;5;28;43mself\u001b[39;49m\u001b[38;5;241;43m.\u001b[39;49m\u001b[43m_y\u001b[49m\u001b[43m,\u001b[49m\u001b[43m \u001b[49m\u001b[38;5;28;43mself\u001b[39;49m\u001b[38;5;241;43m.\u001b[39;49m\u001b[43mt\u001b[49m\u001b[43m,\u001b[49m\u001b[43m \u001b[49m\u001b[43mt\u001b[49m\u001b[43m,\u001b[49m\n\u001b[1;32m    433\u001b[0m \u001b[43m                          \u001b[49m\u001b[38;5;28;43mself\u001b[39;49m\u001b[38;5;241;43m.\u001b[39;49m\u001b[43mf_params\u001b[49m\u001b[43m,\u001b[49m\u001b[43m \u001b[49m\u001b[38;5;28;43mself\u001b[39;49m\u001b[38;5;241;43m.\u001b[39;49m\u001b[43mjac_params\u001b[49m\u001b[43m)\u001b[49m\n\u001b[1;32m    434\u001b[0m \u001b[38;5;28;01mexcept\u001b[39;00m \u001b[38;5;167;01mSystemError\u001b[39;00m \u001b[38;5;28;01mas\u001b[39;00m e:\n\u001b[1;32m    435\u001b[0m     \u001b[38;5;66;03m# f2py issue with tuple returns, see ticket 1187.\u001b[39;00m\n\u001b[1;32m    436\u001b[0m     \u001b[38;5;28;01mraise\u001b[39;00m \u001b[38;5;167;01mValueError\u001b[39;00m(\n\u001b[1;32m    437\u001b[0m         \u001b[38;5;124m'\u001b[39m\u001b[38;5;124mFunction to integrate must not return a tuple.\u001b[39m\u001b[38;5;124m'\u001b[39m\n\u001b[1;32m    438\u001b[0m     ) \u001b[38;5;28;01mfrom\u001b[39;00m \u001b[38;5;21;01me\u001b[39;00m\n",
      "File \u001b[0;32m~/anaconda3/envs/qutip-dev/lib/python3.12/site-packages/scipy/integrate/_ode.py:1008\u001b[0m, in \u001b[0;36mvode.run\u001b[0;34m(self, f, jac, y0, t0, t1, f_params, jac_params)\u001b[0m\n\u001b[1;32m   1004\u001b[0m     jac \u001b[38;5;241m=\u001b[39m _vode_banded_jac_wrapper(jac, \u001b[38;5;28mself\u001b[39m\u001b[38;5;241m.\u001b[39mml, jac_params)\n\u001b[1;32m   1006\u001b[0m args \u001b[38;5;241m=\u001b[39m ((f, jac, y0, t0, t1) \u001b[38;5;241m+\u001b[39m \u001b[38;5;28mtuple\u001b[39m(\u001b[38;5;28mself\u001b[39m\u001b[38;5;241m.\u001b[39mcall_args) \u001b[38;5;241m+\u001b[39m\n\u001b[1;32m   1007\u001b[0m         (f_params, jac_params))\n\u001b[0;32m-> 1008\u001b[0m y1, t, istate \u001b[38;5;241m=\u001b[39m \u001b[38;5;28;43mself\u001b[39;49m\u001b[38;5;241;43m.\u001b[39;49m\u001b[43mrunner\u001b[49m\u001b[43m(\u001b[49m\u001b[38;5;241;43m*\u001b[39;49m\u001b[43margs\u001b[49m\u001b[43m)\u001b[49m\n\u001b[1;32m   1009\u001b[0m \u001b[38;5;28mself\u001b[39m\u001b[38;5;241m.\u001b[39mistate \u001b[38;5;241m=\u001b[39m istate\n\u001b[1;32m   1010\u001b[0m \u001b[38;5;28;01mif\u001b[39;00m istate \u001b[38;5;241m<\u001b[39m \u001b[38;5;241m0\u001b[39m:\n",
      "File \u001b[0;32m~/qutip_gsoc_app/qutip/solver/integrator/scipy_integrator.py:63\u001b[0m, in \u001b[0;36mIntegratorScipyAdams._mul_np_vec\u001b[0;34m(self, t, vec)\u001b[0m\n\u001b[1;32m     57\u001b[0m     \u001b[38;5;28mself\u001b[39m\u001b[38;5;241m.\u001b[39m_ode_solver\u001b[38;5;241m.\u001b[39m_integrator \u001b[38;5;241m=\u001b[39m \u001b[38;5;28mself\u001b[39m\u001b[38;5;241m.\u001b[39m_zvode(\n\u001b[1;32m     58\u001b[0m         method\u001b[38;5;241m=\u001b[39m\u001b[38;5;28mself\u001b[39m\u001b[38;5;241m.\u001b[39mmethod,\n\u001b[1;32m     59\u001b[0m         \u001b[38;5;241m*\u001b[39m\u001b[38;5;241m*\u001b[39m\u001b[38;5;28mself\u001b[39m\u001b[38;5;241m.\u001b[39moptions,\n\u001b[1;32m     60\u001b[0m     )\n\u001b[1;32m     61\u001b[0m     \u001b[38;5;28mself\u001b[39m\u001b[38;5;241m.\u001b[39mname \u001b[38;5;241m=\u001b[39m \u001b[38;5;124m\"\u001b[39m\u001b[38;5;124mscipy zvode \u001b[39m\u001b[38;5;124m\"\u001b[39m \u001b[38;5;241m+\u001b[39m \u001b[38;5;28mself\u001b[39m\u001b[38;5;241m.\u001b[39mmethod\n\u001b[0;32m---> 63\u001b[0m \u001b[38;5;28;01mdef\u001b[39;00m \u001b[38;5;21m_mul_np_vec\u001b[39m(\u001b[38;5;28mself\u001b[39m, t, vec):\n\u001b[1;32m     64\u001b[0m \u001b[38;5;250m    \u001b[39m\u001b[38;5;124;03m\"\"\"\u001b[39;00m\n\u001b[1;32m     65\u001b[0m \u001b[38;5;124;03m    Interface between scipy which use numpy and the driver, which use data.\u001b[39;00m\n\u001b[1;32m     66\u001b[0m \u001b[38;5;124;03m    \"\"\"\u001b[39;00m\n\u001b[1;32m     67\u001b[0m     state \u001b[38;5;241m=\u001b[39m _data\u001b[38;5;241m.\u001b[39mdense\u001b[38;5;241m.\u001b[39mfast_from_numpy(vec)\n",
      "\u001b[0;31mKeyboardInterrupt\u001b[0m: "
     ]
    }
   ],
   "source": [
    "\n",
    "#this one is a bit slow.... not sure how much further i can push this\n",
    "NC = 8  #this is an importance covnergence parameter\n",
    "with timer(\"RHS construction time\"):\n",
    "    HEOMMats = HEOMSolver(Hsys, [bath], NC, options=options)\n",
    "with timer(\"ODE solver time\"):\n",
    "    resultMatsnc8_2 = HEOMMats.run(rho0, tlist)\n",
    "    "
   ]
  },
  {
   "cell_type": "code",
   "execution_count": null,
   "id": "b44f57fa",
   "metadata": {},
   "outputs": [
    {
     "data": {
      "image/png": "[encoded data removed]",
      "text/plain": [
       "<Figure size 1200x700 with 1 Axes>"
      ]
     },
     "metadata": {},
     "output_type": "display_data"
    }
   ],
   "source": [
    "fig, axes = plt.subplots(1, 1, sharex=True, figsize=(12, 7))\n",
    "\n",
    "\n",
    "plot_result_expectations([    \n",
    "    (resultMatsnc5_2, sigmaz(), 'g', \"heom $N_c=5$\"),\n",
    "    #(resultMatsnc8_2, sigmaz(), 'k', \"heom $N_c=8$\"),\n",
    "    #(resultMatsnc11_2, sigmaz(), 'r', \"heom $N_c=11$\"),\n",
    "], axes=axes)\n",
    "\n",
    "plot_result_expectations([    \n",
    "    #(resultMatsnc5, sigmaz(), 'g', \"heom $N_c=5$\"),\n",
    "    #(resultMatsnc8, sigmaz(), 'k', \"heom $N_c=8$\"),\n",
    "    #(resultMatsnc11, sigmaz(), 'r', \"heom $N_c=11$\"),\n",
    "], axes=axes)\n",
    "#plt.xlim(0,1)\n",
    "plt.axhline(y=0)\n",
    "#axes.locator_params(axis='y', nbins=8)\n",
    "#axes.locator_params(axis='x', nbins=8)\n",
    "#axes.set_ylim(0.5,1.01)\n",
    "#axes.set_xlim(0,200)\n",
    "axes.legend(loc=0)\n",
    "\n",
    "fig.tight_layout()"
   ]
  },
  {
   "cell_type": "code",
   "execution_count": null,
   "id": "19fe8034",
   "metadata": {},
   "outputs": [
    {
     "name": "stdout",
     "output_type": "stream",
     "text": [
      "Computing symmetric correlations (t_corr_list)\n"
     ]
    },
    {
     "name": "stderr",
     "output_type": "stream",
     "text": [
      "/tmp/ipykernel_691270/94357179.py:16: IntegrationWarning: The maximum number of subdivisions (5000) has been achieved.\n",
      "  If increasing the limit yields no improvement it is advised to analyze \n",
      "  the integrand in order to determine the difficulties.  If the position of a \n",
      "  local difficulty can be determined (singularity, discontinuity) one will \n",
      "  probably gain from splitting up the interval and calling the integrator \n",
      "  on the subranges.  Perhaps a special-purpose integrator should be used.\n",
      "  return quad(function_real, x_i, x_f,args=args,limit=limit)[0] + 1j * quad(function_imag, x_i, x_f,args=args,limit=limit)[0]\n",
      "/tmp/ipykernel_691270/94357179.py:16: IntegrationWarning: The occurrence of roundoff error is detected, which prevents \n",
      "  the requested tolerance from being achieved.  The error may be \n",
      "  underestimated.\n",
      "  return quad(function_real, x_i, x_f,args=args,limit=limit)[0] + 1j * quad(function_imag, x_i, x_f,args=args,limit=limit)[0]\n"
     ]
    },
    {
     "name": "stdout",
     "output_type": "stream",
     "text": [
      "Computing antisymmetric correlations (t_corr_list)\n"
     ]
    }
   ],
   "source": [
    "alpha=0.4\n",
    "def J2(w):\n",
    "    \"\"\" The Ohmic bath spectral density as a function of w (and the bath parameters). \"\"\"\n",
    "    return (np.pi/2)* w * alpha * 1 / (1+(w/wc)**2)**2\n",
    "Q = sigmaz()  # coupling operator\n",
    "t2=np.linspace(0,50,1000)\n",
    "C_s,C_as = compute_correlations(J2,beta,W_i,W_f,integration_limit,t2)\n",
    "C = [C_s[kk]+C_as[kk] for kk,t in enumerate(t2)]\n",
    "fc2=CorrelationFitter(Q,0,t2,C)"
   ]
  },
  {
   "cell_type": "code",
   "execution_count": null,
   "id": "cb8be276",
   "metadata": {},
   "outputs": [],
   "source": [
    "bath,fitinfo=fc2.get_fit(Ni=1,Nr=4)"
   ]
  },
  {
   "cell_type": "code",
   "execution_count": null,
   "id": "3efd07b6",
   "metadata": {},
   "outputs": [
    {
     "name": "stdout",
     "output_type": "stream",
     "text": [
      "Fit correlation class instance: \n",
      " \n",
      "Result of fitting The Real Part Of                                      |Result of fitting The Imaginary Part                                    \n",
      " the Correlation Function with 4 terms:                                 | Of the Correlation Function with 1 terms:                              \n",
      "                                                                        |                                                                        \n",
      " Parameters|    a     |    b     |    c                                 | Parameters|    a     |    b     |    c                                 \n",
      " 1         |-7.02e-01 |-1.73e-01 |9.70e-06                              | 1         |-1.16e+00 |-9.88e-01 |1.35e-01                              \n",
      " 2         |-3.33e-02 |-3.62e+00 |2.99e-03                              |                                                                        \n",
      " 3         | 6.69e-01 |-1.68e-01 |1.78e-02                              |A  normalized RMSE of  2.30e-05 was obtained for the The Imaginary Part \n",
      " 4         | 1.66e-01 |-8.73e-01 |4.90e-01                              | Of the Correlation Function                                            \n",
      "                                                                        |                                                                        \n",
      "A  normalized RMSE of  9.15e-06 was obtained for the The Real Part Of   |                                                                        \n",
      " the Correlation Function                                               |                                                                        \n",
      " The current fit took  4.205204 seconds                                 | The current fit took  0.071134 seconds                                 \n",
      "\n"
     ]
    }
   ],
   "source": [
    "print(fitinfo[\"summary\"])"
   ]
  },
  {
   "cell_type": "code",
   "execution_count": null,
   "id": "0c6ef747",
   "metadata": {},
   "outputs": [
    {
     "name": "stdout",
     "output_type": "stream",
     "text": [
      "RHS construction time: 0.15858030319213867\n",
      "10.0%. Run time:   2.20s. Est. time left: 00:00:00:19\n",
      "20.0%. Run time:   3.99s. Est. time left: 00:00:00:15\n",
      "30.0%. Run time:   5.89s. Est. time left: 00:00:00:13\n",
      "40.0%. Run time:   7.86s. Est. time left: 00:00:00:11\n",
      "50.1%. Run time:   9.52s. Est. time left: 00:00:00:09\n",
      "60.1%. Run time:  11.12s. Est. time left: 00:00:00:07\n",
      "70.1%. Run time:  12.72s. Est. time left: 00:00:00:05\n",
      "80.1%. Run time:  14.35s. Est. time left: 00:00:00:03\n",
      "90.1%. Run time:  16.06s. Est. time left: 00:00:00:01\n",
      "100.0%. Run time:  17.55s. Est. time left: 00:00:00:00\n",
      "Total run time:  17.55s\n",
      "ODE solver time: 17.552080631256104\n"
     ]
    }
   ],
   "source": [
    "options = Options(nsteps=15000, store_states=True, rtol=1e-14, atol=1e-14)\n",
    "# Number of levels of the hierarchy to retain:\n",
    "NC = 5  #this is an importance covnergence parameter\n",
    "# Times to solve for:\n",
    "tlist = np.linspace(0, Ttot, 1000)\n",
    "rho0 = basis(2, 0) * basis(2, 0).dag()\n",
    "with timer(\"RHS construction time\"):\n",
    "    HEOMMats = HEOMSolver(Hsys, [bath], NC, options=options)\n",
    "with timer(\"ODE solver time\"):\n",
    "    resultMatsnc5_3 = HEOMMats.run(rho0, tlist)"
   ]
  },
  {
   "cell_type": "code",
   "execution_count": null,
   "id": "6014a123",
   "metadata": {},
   "outputs": [
    {
     "name": "stdout",
     "output_type": "stream",
     "text": [
      "RHS construction time: 1.7926743030548096\n",
      "10.0%. Run time:  56.73s. Est. time left: 00:00:08:30\n",
      "20.0%. Run time: 121.39s. Est. time left: 00:00:08:04\n",
      "30.0%. Run time: 188.89s. Est. time left: 00:00:07:20\n",
      "40.0%. Run time: 259.26s. Est. time left: 00:00:06:28\n",
      "50.1%. Run time: 359.54s. Est. time left: 00:00:05:58\n",
      "60.1%. Run time: 421.87s. Est. time left: 00:00:04:40\n",
      "70.1%. Run time: 477.18s. Est. time left: 00:00:03:23\n",
      "80.1%. Run time: 537.40s. Est. time left: 00:00:02:13\n",
      "90.1%. Run time: 598.09s. Est. time left: 00:00:01:05\n",
      "100.0%. Run time: 656.98s. Est. time left: 00:00:00:00\n",
      "Total run time: 656.98s\n",
      "ODE solver time: 656.9820818901062\n"
     ]
    }
   ],
   "source": [
    "# Times to solve for:\n",
    "tlist = np.linspace(0, Ttot, 1000)\n",
    "rho0 = basis(2, 0) * basis(2, 0).dag()\n",
    "NC=8\n",
    "with timer(\"RHS construction time\"):\n",
    "    HEOMMats = HEOMSolver(Hsys, [bath], NC, options=options)\n",
    "with timer(\"ODE solver time\"):\n",
    "    resultMatsnc8_3 = HEOMMats.run(rho0, tlist)"
   ]
  },
  {
   "cell_type": "code",
   "execution_count": null,
   "id": "47cfaa2b",
   "metadata": {},
   "outputs": [],
   "source": [
    "# NC=11\n",
    "# with timer(\"RHS construction time\"):\n",
    "#     HEOMMats = HEOMSolver(Hsys, [bath], NC, options=options)\n",
    "# with timer(\"ODE solver time\"):\n",
    "#     resultMatsnc11_3 = HEOMMats.run(rho0, tlist)"
   ]
  },
  {
   "cell_type": "code",
   "execution_count": null,
   "id": "acb13de3",
   "metadata": {},
   "outputs": [],
   "source": [
    "qsave(resultMatsnc8_4,\"trasition=0.6\")"
   ]
  },
  {
   "cell_type": "code",
   "execution_count": 49,
   "id": "5133d193",
   "metadata": {},
   "outputs": [
    {
     "ename": "NameError",
     "evalue": "name 'resultMatsnc8_2' is not defined",
     "output_type": "error",
     "traceback": [
      "\u001b[0;31m---------------------------------------------------------------------------\u001b[0m",
      "\u001b[0;31mNameError\u001b[0m                                 Traceback (most recent call last)",
      "Cell \u001b[0;32mIn[49], line 6\u001b[0m\n\u001b[1;32m      1\u001b[0m fig, axes \u001b[38;5;241m=\u001b[39m plt\u001b[38;5;241m.\u001b[39msubplots(\u001b[38;5;241m1\u001b[39m, \u001b[38;5;241m1\u001b[39m, sharex\u001b[38;5;241m=\u001b[39m\u001b[38;5;28;01mTrue\u001b[39;00m, figsize\u001b[38;5;241m=\u001b[39m(\u001b[38;5;241m12\u001b[39m, \u001b[38;5;241m7\u001b[39m))\n\u001b[1;32m      4\u001b[0m plot_result_expectations([    \n\u001b[1;32m      5\u001b[0m     \u001b[38;5;66;03m#(resultMatsnc5_2, sigmaz(), 'g', \"heom $N_c=5$\"),\u001b[39;00m\n\u001b[0;32m----> 6\u001b[0m     (\u001b[43mresultMatsnc8_2\u001b[49m, sigmaz(), \u001b[38;5;124m'\u001b[39m\u001b[38;5;124mb\u001b[39m\u001b[38;5;124m'\u001b[39m, \u001b[38;5;124m\"\u001b[39m\u001b[38;5;124m$N_c=8, \u001b[39m\u001b[38;5;130;01m\\\\\u001b[39;00m\u001b[38;5;124malpha=0.1$ \u001b[39m\u001b[38;5;124m\"\u001b[39m),\n\u001b[1;32m      7\u001b[0m     \u001b[38;5;66;03m#(resultMatsnc11_2, sigmaz(), 'r', \"heom $N_c=11$\"),\u001b[39;00m\n\u001b[1;32m      8\u001b[0m ], axes\u001b[38;5;241m=\u001b[39maxes,factor\u001b[38;5;241m=\u001b[39meps)\n\u001b[1;32m      9\u001b[0m plot_result_expectations([    \n\u001b[1;32m     10\u001b[0m     \u001b[38;5;66;03m#(resultMatsnc5_3, sigmaz(), 'g', \"heom $N_c=5$\"),\u001b[39;00m\n\u001b[1;32m     11\u001b[0m     (resultMatsnc8_3, sigmaz(), \u001b[38;5;124m'\u001b[39m\u001b[38;5;124mg\u001b[39m\u001b[38;5;124m'\u001b[39m, \u001b[38;5;124m\"\u001b[39m\u001b[38;5;124m$N_c=8, \u001b[39m\u001b[38;5;130;01m\\\\\u001b[39;00m\u001b[38;5;124malpha=0.4$\u001b[39m\u001b[38;5;124m\"\u001b[39m),\n\u001b[1;32m     12\u001b[0m     \u001b[38;5;66;03m#(resultMatsnc11_2, sigmaz(), 'r', \"heom $N_c=11$\"),\u001b[39;00m\n\u001b[1;32m     13\u001b[0m ], axes\u001b[38;5;241m=\u001b[39maxes,factor\u001b[38;5;241m=\u001b[39meps)\n\u001b[1;32m     15\u001b[0m plot_result_expectations([    \n\u001b[1;32m     16\u001b[0m     \u001b[38;5;66;03m#(resultMatsnc5_3, sigmaz(), 'g', \"heom $N_c=5$\"),\u001b[39;00m\n\u001b[1;32m     17\u001b[0m     (resultMatsnc8_4, sigmaz(), \u001b[38;5;124m'\u001b[39m\u001b[38;5;124mpurple\u001b[39m\u001b[38;5;124m'\u001b[39m, \u001b[38;5;124m\"\u001b[39m\u001b[38;5;124m$N_c=8, \u001b[39m\u001b[38;5;130;01m\\\\\u001b[39;00m\u001b[38;5;124malpha=0.6$\u001b[39m\u001b[38;5;124m\"\u001b[39m),\n\u001b[1;32m     18\u001b[0m     \u001b[38;5;66;03m#(resultMatsnc11_2, sigmaz(), 'r', \"heom $N_c=11$\"),\u001b[39;00m\n\u001b[1;32m     19\u001b[0m ], axes\u001b[38;5;241m=\u001b[39maxes,factor\u001b[38;5;241m=\u001b[39meps)\n",
      "\u001b[0;31mNameError\u001b[0m: name 'resultMatsnc8_2' is not defined"
     ]
    },
    {
     "data": {
      "image/png": "[encoded data removed]",
      "text/plain": [
       "<Figure size 1200x700 with 1 Axes>"
      ]
     },
     "metadata": {},
     "output_type": "display_data"
    }
   ],
   "source": [
    "fig, axes = plt.subplots(1, 1, sharex=True, figsize=(12, 7))\n",
    "\n",
    "\n",
    "plot_result_expectations([    \n",
    "    #(resultMatsnc5_2, sigmaz(), 'g', \"heom $N_c=5$\"),\n",
    "    (resultMatsnc8_2, sigmaz(), 'b', \"$N_c=8, \\\\alpha=0.1$ \"),\n",
    "    #(resultMatsnc11_2, sigmaz(), 'r', \"heom $N_c=11$\"),\n",
    "], axes=axes,factor=eps)\n",
    "plot_result_expectations([    \n",
    "    #(resultMatsnc5_3, sigmaz(), 'g', \"heom $N_c=5$\"),\n",
    "    (resultMatsnc8_3, sigmaz(), 'g', \"$N_c=8, \\\\alpha=0.4$\"),\n",
    "    #(resultMatsnc11_2, sigmaz(), 'r', \"heom $N_c=11$\"),\n",
    "], axes=axes,factor=eps)\n",
    "\n",
    "plot_result_expectations([    \n",
    "    #(resultMatsnc5_3, sigmaz(), 'g', \"heom $N_c=5$\"),\n",
    "    (resultMatsnc8_4, sigmaz(), 'purple', \"$N_c=8, \\\\alpha=0.6$\"),\n",
    "    #(resultMatsnc11_2, sigmaz(), 'r', \"heom $N_c=11$\"),\n",
    "], axes=axes,factor=eps)\n",
    "plot_result_expectations([    \n",
    "    (firstcase, sigmaz(), 'r', \"$N_c=5, \\\\alpha=1.2$\"),\n",
    "  #  (resultMatsnc8, sigmaz(), 'k', \"heom $N_c=8$\"),\n",
    " #   (resultMatsnc11, sigmaz(), 'r', \"heom $N_c=11$\"),\n",
    "], axes=axes,factor=eps)\n",
    "#plt.xlim(0,1)\n",
    "plt.axhline(y=0)\n",
    "#axes.locator_params(axis='y', nbins=8)\n",
    "#axes.locator_params(axis='x', nbins=8)\n",
    "#axes.set_ylim(0.5,1.01)\n",
    "#axes.set_xlim(0,200)\n",
    "axes.legend(loc=0,fontsize=20)\n",
    "axes.xaxis.set_tick_params(labelsize=20)\n",
    "axes.yaxis.set_tick_params(labelsize=20)\n",
    "plt.ylabel(r\"$\\langle \\sigma_{z}(t) \\rangle$\",fontsize=20)\n",
    "plt.xlabel(r\"$\\omega_{0}t$\",fontsize=20)\n",
    "fig.tight_layout()"
   ]
  },
  {
   "cell_type": "code",
   "execution_count": null,
   "id": "6a674915",
   "metadata": {},
   "outputs": [
    {
     "name": "stdout",
     "output_type": "stream",
     "text": [
      "Computing symmetric correlations (t_corr_list)\n"
     ]
    },
    {
     "name": "stderr",
     "output_type": "stream",
     "text": [
      "/tmp/ipykernel_691270/94357179.py:16: IntegrationWarning: The maximum number of subdivisions (5000) has been achieved.\n",
      "  If increasing the limit yields no improvement it is advised to analyze \n",
      "  the integrand in order to determine the difficulties.  If the position of a \n",
      "  local difficulty can be determined (singularity, discontinuity) one will \n",
      "  probably gain from splitting up the interval and calling the integrator \n",
      "  on the subranges.  Perhaps a special-purpose integrator should be used.\n",
      "  return quad(function_real, x_i, x_f,args=args,limit=limit)[0] + 1j * quad(function_imag, x_i, x_f,args=args,limit=limit)[0]\n",
      "/tmp/ipykernel_691270/94357179.py:16: IntegrationWarning: The occurrence of roundoff error is detected, which prevents \n",
      "  the requested tolerance from being achieved.  The error may be \n",
      "  underestimated.\n",
      "  return quad(function_real, x_i, x_f,args=args,limit=limit)[0] + 1j * quad(function_imag, x_i, x_f,args=args,limit=limit)[0]\n"
     ]
    },
    {
     "name": "stdout",
     "output_type": "stream",
     "text": [
      "Computing antisymmetric correlations (t_corr_list)\n"
     ]
    }
   ],
   "source": [
    "alpha=0.6\n",
    "def J2(w):\n",
    "    \"\"\" The Ohmic bath spectral density as a function of w (and the bath parameters). \"\"\"\n",
    "    return (np.pi/2)* w * alpha * 1 / (1+(w/wc)**2)**2\n",
    "Q = sigmaz()  # coupling operator\n",
    "t2=np.linspace(0,50,1000)\n",
    "C_s,C_as = compute_correlations(J2,beta,W_i,W_f,integration_limit,t2)\n",
    "C = [C_s[kk]+C_as[kk] for kk,t in enumerate(t2)]\n",
    "fc2=CorrelationFitter(Q,0,t2,C)"
   ]
  },
  {
   "cell_type": "code",
   "execution_count": null,
   "id": "27cee2c3",
   "metadata": {},
   "outputs": [
    {
     "name": "stdout",
     "output_type": "stream",
     "text": [
      "Fit correlation class instance: \n",
      " \n",
      "Result of fitting The Real Part Of                                      |Result of fitting The Imaginary Part                                    \n",
      " the Correlation Function with 4 terms:                                 | Of the Correlation Function with 1 terms:                              \n",
      "                                                                        |                                                                        \n",
      " Parameters|    a     |    b     |    c                                 | Parameters|    a     |    b     |    c                                 \n",
      " 1         |-3.00e+00 |-8.04e-01 |3.55e-04                              | 1         |-1.73e+00 |-9.88e-01 |1.35e-01                              \n",
      " 2         | 1.82e+00 |-6.18e-01 |2.55e-01                              |                                                                        \n",
      " 3         | 1.25e+00 |-1.06e+00 |4.81e-01                              |A  normalized RMSE of  2.30e-05 was obtained for the The Imaginary Part \n",
      " 4         | 8.18e-02 |-2.34e-01 |1.47e-01                              | Of the Correlation Function                                            \n",
      "                                                                        |                                                                        \n",
      "A  normalized RMSE of  4.59e-05 was obtained for the The Real Part Of   |                                                                        \n",
      " the Correlation Function                                               |                                                                        \n",
      " The current fit took  3.532388 seconds                                 | The current fit took  0.108643 seconds                                 \n",
      "\n"
     ]
    }
   ],
   "source": [
    "bath,fitinfo=fc2.get_fit(Ni=1,Nr=4)\n",
    "print(fitinfo[\"summary\"])"
   ]
  },
  {
   "cell_type": "code",
   "execution_count": null,
   "id": "f1d9005f",
   "metadata": {},
   "outputs": [
    {
     "name": "stdout",
     "output_type": "stream",
     "text": [
      "RHS construction time: 2.0276811122894287\n",
      "10.0%. Run time: 107.18s. Est. time left: 00:00:16:03\n",
      "20.0%. Run time: 212.97s. Est. time left: 00:00:14:10\n",
      "30.0%. Run time: 352.92s. Est. time left: 00:00:13:42\n",
      "40.0%. Run time: 465.15s. Est. time left: 00:00:11:36\n",
      "50.1%. Run time: 584.84s. Est. time left: 00:00:09:43\n",
      "60.1%. Run time: 716.19s. Est. time left: 00:00:07:56\n",
      "70.1%. Run time: 831.29s. Est. time left: 00:00:05:55\n",
      "80.1%. Run time: 938.04s. Est. time left: 00:00:03:53\n",
      "90.1%. Run time: 1058.91s. Est. time left: 00:00:01:56\n",
      "100.0%. Run time: 1165.41s. Est. time left: 00:00:00:00\n",
      "Total run time: 1165.41s\n",
      "ODE solver time: 1165.4199752807617\n"
     ]
    }
   ],
   "source": [
    "options = Options(nsteps=15000, store_states=True, rtol=1e-14, atol=1e-14)\n",
    "# Number of levels of the hierarchy to retain:\n",
    "NC = 8  #this is an importance covnergence parameter\n",
    "# Times to solve for:\n",
    "tlist = np.linspace(0, Ttot, 1000)\n",
    "rho0 = basis(2, 0) * basis(2, 0).dag()\n",
    "with timer(\"RHS construction time\"):\n",
    "    HEOMMats = HEOMSolver(Hsys, [bath], NC, options=options)\n",
    "with timer(\"ODE solver time\"):\n",
    "    resultMatsnc5_4 = HEOMMats.run(rho0, tlist)"
   ]
  },
  {
   "cell_type": "code",
   "execution_count": null,
   "id": "976cc9a3",
   "metadata": {},
   "outputs": [
    {
     "name": "stdout",
     "output_type": "stream",
     "text": [
      "RHS construction time: 1.9388961791992188\n",
      "10.0%. Run time: 107.11s. Est. time left: 00:00:16:02\n",
      "20.0%. Run time: 210.35s. Est. time left: 00:00:14:00\n",
      "30.0%. Run time: 340.23s. Est. time left: 00:00:13:12\n",
      "40.0%. Run time: 499.84s. Est. time left: 00:00:12:28\n",
      "50.1%. Run time: 609.52s. Est. time left: 00:00:10:08\n",
      "60.1%. Run time: 719.27s. Est. time left: 00:00:07:58\n",
      "70.1%. Run time: 825.57s. Est. time left: 00:00:05:52\n",
      "80.1%. Run time: 936.91s. Est. time left: 00:00:03:53\n",
      "90.1%. Run time: 1048.60s. Est. time left: 00:00:01:55\n",
      "100.0%. Run time: 1158.10s. Est. time left: 00:00:00:00\n",
      "Total run time: 1158.10s\n",
      "ODE solver time: 1158.0996530056\n"
     ]
    }
   ],
   "source": [
    "options = Options(nsteps=15000, store_states=True, rtol=1e-14, atol=1e-14)\n",
    "# Number of levels of the hierarchy to retain:\n",
    "NC = 8  #this is an importance covnergence parameter\n",
    "# Times to solve for:\n",
    "tlist = np.linspace(0, Ttot, 1000)\n",
    "rho0 = basis(2, 0) * basis(2, 0).dag()\n",
    "with timer(\"RHS construction time\"):\n",
    "    HEOMMats = HEOMSolver(Hsys, [bath], NC, options=options)\n",
    "with timer(\"ODE solver time\"):\n",
    "    resultMatsnc8_4 = HEOMMats.run(rho0, tlist)"
   ]
  },
  {
   "cell_type": "code",
   "execution_count": 48,
   "id": "d28f8f6d",
   "metadata": {},
   "outputs": [
    {
     "ename": "NameError",
     "evalue": "name 'resultMatsnc8_2' is not defined",
     "output_type": "error",
     "traceback": [
      "\u001b[0;31m---------------------------------------------------------------------------\u001b[0m",
      "\u001b[0;31mNameError\u001b[0m                                 Traceback (most recent call last)",
      "Cell \u001b[0;32mIn[48], line 6\u001b[0m\n\u001b[1;32m      1\u001b[0m fig, axes \u001b[38;5;241m=\u001b[39m plt\u001b[38;5;241m.\u001b[39msubplots(\u001b[38;5;241m1\u001b[39m, \u001b[38;5;241m1\u001b[39m, sharex\u001b[38;5;241m=\u001b[39m\u001b[38;5;28;01mTrue\u001b[39;00m, figsize\u001b[38;5;241m=\u001b[39m(\u001b[38;5;241m12\u001b[39m, \u001b[38;5;241m7\u001b[39m))\n\u001b[1;32m      4\u001b[0m plot_result_expectations([    \n\u001b[1;32m      5\u001b[0m     \u001b[38;5;66;03m#(resultMatsnc5_2, sigmaz(), 'g', \"heom $N_c=5$\"),\u001b[39;00m\n\u001b[0;32m----> 6\u001b[0m     (\u001b[43mresultMatsnc8_2\u001b[49m, sigmaz(), \u001b[38;5;124m'\u001b[39m\u001b[38;5;124mk\u001b[39m\u001b[38;5;124m'\u001b[39m, \u001b[38;5;124m\"\u001b[39m\u001b[38;5;124mheom $N_c=8$\u001b[39m\u001b[38;5;124m\"\u001b[39m),\n\u001b[1;32m      7\u001b[0m     \u001b[38;5;66;03m#(resultMatsnc11_2, sigmaz(), 'r', \"heom $N_c=11$\"),\u001b[39;00m\n\u001b[1;32m      8\u001b[0m ], axes\u001b[38;5;241m=\u001b[39maxes,factor\u001b[38;5;241m=\u001b[39meps)\n\u001b[1;32m      9\u001b[0m plot_result_expectations([    \n\u001b[1;32m     10\u001b[0m     (resultMatsnc5_3, sigmaz(), \u001b[38;5;124m'\u001b[39m\u001b[38;5;124mg\u001b[39m\u001b[38;5;124m'\u001b[39m, \u001b[38;5;124m\"\u001b[39m\u001b[38;5;124mheom $N_c=5$\u001b[39m\u001b[38;5;124m\"\u001b[39m),\n\u001b[1;32m     11\u001b[0m     (resultMatsnc8_3, sigmaz(), \u001b[38;5;124m'\u001b[39m\u001b[38;5;124mk\u001b[39m\u001b[38;5;124m'\u001b[39m, \u001b[38;5;124m\"\u001b[39m\u001b[38;5;124mheom $N_c=8$\u001b[39m\u001b[38;5;124m\"\u001b[39m),\n\u001b[1;32m     12\u001b[0m     \u001b[38;5;66;03m#(resultMatsnc11_2, sigmaz(), 'r', \"heom $N_c=11$\"),\u001b[39;00m\n\u001b[1;32m     13\u001b[0m ], axes\u001b[38;5;241m=\u001b[39maxes)\n\u001b[1;32m     14\u001b[0m plot_result_expectations([    \n\u001b[1;32m     15\u001b[0m     \u001b[38;5;66;03m#(resultMatsnc5_4, sigmaz(), 'g', \"heom $N_c=5$\"),\u001b[39;00m\n\u001b[1;32m     16\u001b[0m     (resultMatsnc8_4, sigmaz(), \u001b[38;5;124m'\u001b[39m\u001b[38;5;124mk\u001b[39m\u001b[38;5;124m'\u001b[39m, \u001b[38;5;124m\"\u001b[39m\u001b[38;5;124mheom $N_c=8$\u001b[39m\u001b[38;5;124m\"\u001b[39m),\n\u001b[1;32m     17\u001b[0m     \u001b[38;5;66;03m#(resultMatsnc11_2, sigmaz(), 'r', \"heom $N_c=11$\"),\u001b[39;00m\n\u001b[1;32m     18\u001b[0m ], axes\u001b[38;5;241m=\u001b[39maxes)\n",
      "\u001b[0;31mNameError\u001b[0m: name 'resultMatsnc8_2' is not defined"
     ]
    },
    {
     "data": {
      "image/png": "[encoded data removed]",
      "text/plain": [
       "<Figure size 1200x700 with 1 Axes>"
      ]
     },
     "metadata": {},
     "output_type": "display_data"
    }
   ],
   "source": [
    "fig, axes = plt.subplots(1, 1, sharex=True, figsize=(12, 7))\n",
    "\n",
    "\n",
    "plot_result_expectations([    \n",
    "    #(resultMatsnc5_2, sigmaz(), 'g', \"heom $N_c=5$\"),\n",
    "    (resultMatsnc8_2, sigmaz(), 'k', \"heom $N_c=8$\"),\n",
    "    #(resultMatsnc11_2, sigmaz(), 'r', \"heom $N_c=11$\"),\n",
    "], axes=axes,factor=eps)\n",
    "plot_result_expectations([    \n",
    "    (resultMatsnc5_3, sigmaz(), 'g', \"heom $N_c=5$\"),\n",
    "    (resultMatsnc8_3, sigmaz(), 'k', \"heom $N_c=8$\"),\n",
    "    #(resultMatsnc11_2, sigmaz(), 'r', \"heom $N_c=11$\"),\n",
    "], axes=axes)\n",
    "plot_result_expectations([    \n",
    "    #(resultMatsnc5_4, sigmaz(), 'g', \"heom $N_c=5$\"),\n",
    "    (resultMatsnc8_4, sigmaz(), 'k', \"heom $N_c=8$\"),\n",
    "    #(resultMatsnc11_2, sigmaz(), 'r', \"heom $N_c=11$\"),\n",
    "], axes=axes)\n",
    "plot_result_expectations([    \n",
    "    (resultMatsnc5_3, sigmaz(), 'g', \"heom $N_c=5$\"),\n",
    "    (resultMatsnc8_3, sigmaz(), 'k', \"heom $N_c=8$\"),\n",
    "    #(resultMatsnc11_2, sigmaz(), 'r', \"heom $N_c=11$\"),\n",
    "], axes=axes)\n",
    "#plt.xlim(0,1)\n",
    "plt.axhline(y=0)\n",
    "#axes.locator_params(axis='y', nbins=8)\n",
    "#axes.locator_params(axis='x', nbins=8)\n",
    "#axes.set_ylim(0.5,1.01)\n",
    "#axes.set_xlim(0,200)\n",
    "axes.legend(loc=0)\n",
    "\n",
    "fig.tight_layout()"
   ]
  },
  {
   "cell_type": "code",
   "execution_count": null,
   "id": "312fdd36",
   "metadata": {},
   "outputs": [],
   "source": []
  }
 ],
 "metadata": {
  "jupytext": {
   "formats": "ipynb,md:myst"
  },
  "kernelspec": {
   "display_name": "Python 3 (ipykernel)",
   "language": "python",
   "name": "python3"
  },
  "language_info": {
   "codemirror_mode": {
    "name": "ipython",
    "version": 3
   },
   "file_extension": ".py",
   "mimetype": "text/x-python",
   "name": "python",
   "nbconvert_exporter": "python",
   "pygments_lexer": "ipython3",
   "version": "3.1.undefined"
  }
 },
 "nbformat": 4,
 "nbformat_minor": 5
}
